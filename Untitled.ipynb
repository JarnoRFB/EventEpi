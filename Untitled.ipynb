{
 "cells": [
  {
   "cell_type": "code",
   "execution_count": 1,
   "metadata": {},
   "outputs": [],
   "source": [
    "%load_ext autoreload\n",
    "%autoreload 2"
   ]
  },
  {
   "cell_type": "code",
   "execution_count": 2,
   "metadata": {},
   "outputs": [],
   "source": [
    "import re\n",
    "import numpy as np\n",
    "import pandas as pd\n",
    "\n",
    "import event_db\n"
   ]
  },
  {
   "cell_type": "code",
   "execution_count": 8,
   "metadata": {
    "scrolled": true
   },
   "outputs": [],
   "source": [
    "edb = event_db._read_unprocessed()\n",
    "cleaned_edb = event_db.read_cleaned()"
   ]
  },
  {
   "cell_type": "code",
   "execution_count": 10,
   "metadata": {},
   "outputs": [
    {
     "data": {
      "text/html": [
       "<div>\n",
       "<style scoped>\n",
       "    .dataframe tbody tr th:only-of-type {\n",
       "        vertical-align: middle;\n",
       "    }\n",
       "\n",
       "    .dataframe tbody tr th {\n",
       "        vertical-align: top;\n",
       "    }\n",
       "\n",
       "    .dataframe thead th {\n",
       "        text-align: right;\n",
       "    }\n",
       "</style>\n",
       "<table border=\"1\" class=\"dataframe\">\n",
       "  <thead>\n",
       "    <tr style=\"text-align: right;\">\n",
       "      <th></th>\n",
       "      <th>country_edb</th>\n",
       "      <th>disease_edb</th>\n",
       "      <th>date_of_data</th>\n",
       "      <th>count_edb</th>\n",
       "      <th>URL_1</th>\n",
       "      <th>URL_2</th>\n",
       "      <th>URL_3</th>\n",
       "      <th>URL_4</th>\n",
       "    </tr>\n",
       "  </thead>\n",
       "  <tbody>\n",
       "    <tr>\n",
       "      <th>0</th>\n",
       "      <td>Nigeria</td>\n",
       "      <td>Lassafieber</td>\n",
       "      <td>2018-03-18</td>\n",
       "      <td>1121.0</td>\n",
       "      <td>&lt;http://apps.who.int/iris/bitstream/10665/2604...</td>\n",
       "      <td>None</td>\n",
       "      <td>None</td>\n",
       "      <td>None</td>\n",
       "    </tr>\n",
       "    <tr>\n",
       "      <th>1</th>\n",
       "      <td>Benin</td>\n",
       "      <td>Lassafieber</td>\n",
       "      <td>2018-03-05</td>\n",
       "      <td>24.0</td>\n",
       "      <td>&lt;http://apps.who.int/iris/bitstream/10665/2604...</td>\n",
       "      <td>None</td>\n",
       "      <td>None</td>\n",
       "      <td>None</td>\n",
       "    </tr>\n",
       "    <tr>\n",
       "      <th>2</th>\n",
       "      <td>Liberia</td>\n",
       "      <td>Lassafieber</td>\n",
       "      <td>2018-03-16</td>\n",
       "      <td>42.0</td>\n",
       "      <td>&lt;http://apps.who.int/iris/bitstream/10665/2604...</td>\n",
       "      <td>None</td>\n",
       "      <td>None</td>\n",
       "      <td>None</td>\n",
       "    </tr>\n",
       "    <tr>\n",
       "      <th>3</th>\n",
       "      <td>Ghana</td>\n",
       "      <td>Lassafieber</td>\n",
       "      <td>2018-03-02</td>\n",
       "      <td>1.0</td>\n",
       "      <td>&lt;http://apps.who.int/iris/bitstream/10665/2604...</td>\n",
       "      <td>None</td>\n",
       "      <td>None</td>\n",
       "      <td>None</td>\n",
       "    </tr>\n",
       "    <tr>\n",
       "      <th>4</th>\n",
       "      <td>Fiji</td>\n",
       "      <td>Meningitis</td>\n",
       "      <td>NaT</td>\n",
       "      <td>18.0</td>\n",
       "      <td>None</td>\n",
       "      <td>None</td>\n",
       "      <td>None</td>\n",
       "      <td>None</td>\n",
       "    </tr>\n",
       "  </tbody>\n",
       "</table>\n",
       "</div>"
      ],
      "text/plain": [
       "  country_edb   disease_edb date_of_data  count_edb  \\\n",
       "0     Nigeria  Lassafieber    2018-03-18     1121.0   \n",
       "1       Benin   Lassafieber   2018-03-05       24.0   \n",
       "2     Liberia   Lassafieber   2018-03-16       42.0   \n",
       "3       Ghana  Lassafieber    2018-03-02        1.0   \n",
       "4        Fiji    Meningitis          NaT       18.0   \n",
       "\n",
       "                                               URL_1 URL_2 URL_3 URL_4  \n",
       "0  <http://apps.who.int/iris/bitstream/10665/2604...  None  None  None  \n",
       "1  <http://apps.who.int/iris/bitstream/10665/2604...  None  None  None  \n",
       "2  <http://apps.who.int/iris/bitstream/10665/2604...  None  None  None  \n",
       "3  <http://apps.who.int/iris/bitstream/10665/2604...  None  None  None  \n",
       "4                                               None  None  None  None  "
      ]
     },
     "execution_count": 10,
     "metadata": {},
     "output_type": "execute_result"
    }
   ],
   "source": [
    "cleaned_edb.head()"
   ]
  },
  {
   "cell_type": "markdown",
   "metadata": {},
   "source": [
    "# Cleaning Statistics\n",
    "## Date"
   ]
  },
  {
   "cell_type": "code",
   "execution_count": null,
   "metadata": {},
   "outputs": [],
   "source": [
    "ts = edb['Datenstand für Fallzahlen gesamt*'].replace(['nan', '-', np.nan], [None] * 3).tolist()\n",
    "valid_ts = list(filter(lambda x: isinstance(x, str), ts))"
   ]
  },
  {
   "cell_type": "code",
   "execution_count": null,
   "metadata": {
    "scrolled": true
   },
   "outputs": [],
   "source": [
    "print('There are', len(cleaned_edb), 'entries in the cleaned event db')\n",
    "print(len(valid_ts), 'of them are non-empty dates.')"
   ]
  },
  {
   "cell_type": "code",
   "execution_count": null,
   "metadata": {},
   "outputs": [],
   "source": [
    "is_date = lambda x: re.match(r\"(\\d{1,2})\\D(\\d{1,2})\\D(\\d{4})\", x)\n",
    "valid_dates = list(filter(lambda x: is_date(x), valid_ts))\n",
    "print(len(valid_dates), 'of all entries are valid dates.')"
   ]
  },
  {
   "cell_type": "code",
   "execution_count": null,
   "metadata": {
    "scrolled": true
   },
   "outputs": [],
   "source": [
    "print('The following are non-valid dates:')\n",
    "print(list(filter(lambda x: not is_date(x), valid_ts)))"
   ]
  },
  {
   "cell_type": "markdown",
   "metadata": {},
   "source": [
    "## Count"
   ]
  },
  {
   "cell_type": "code",
   "execution_count": null,
   "metadata": {},
   "outputs": [],
   "source": [
    "print('There are', len(cleaned_edb), 'entries in the cleaned event db')\n",
    "print(sum(cleaned_edb['count_edb'].notna()), 'of them are non-empty case numbers')"
   ]
  },
  {
   "cell_type": "code",
   "execution_count": null,
   "metadata": {},
   "outputs": [],
   "source": [
    "valid_counts = cleaned_edb['count_edb'][cleaned_edb['count_edb'].notna()]"
   ]
  },
  {
   "cell_type": "code",
   "execution_count": null,
   "metadata": {},
   "outputs": [],
   "source": [
    "def is_int(string):\n",
    "    try:\n",
    "        num = int(string)\n",
    "    except ValueError:\n",
    "        return False\n",
    "    return True"
   ]
  },
  {
   "cell_type": "code",
   "execution_count": null,
   "metadata": {},
   "outputs": [],
   "source": [
    "print('These are the invalid count entries:')\n",
    "print(list(filter(lambda x: not is_int(x), valid_counts)))"
   ]
  },
  {
   "cell_type": "code",
   "execution_count": null,
   "metadata": {},
   "outputs": [],
   "source": [
    "L = list(filter(lambda x: not is_int(x), valid_counts))"
   ]
  },
  {
   "cell_type": "code",
   "execution_count": null,
   "metadata": {},
   "outputs": [],
   "source": [
    "LL = list(map(lambda x: x.replace(',', '').replace('.', ''), L))"
   ]
  },
  {
   "cell_type": "code",
   "execution_count": null,
   "metadata": {},
   "outputs": [],
   "source": [
    "LL"
   ]
  },
  {
   "cell_type": "code",
   "execution_count": null,
   "metadata": {},
   "outputs": [],
   "source": [
    "list(map(lambda x: re.search(r'(\\d)+', x)[0], LL))"
   ]
  },
  {
   "cell_type": "code",
   "execution_count": null,
   "metadata": {},
   "outputs": [],
   "source": []
  }
 ],
 "metadata": {
  "kernelspec": {
   "display_name": "Python 3",
   "language": "python",
   "name": "python3"
  },
  "language_info": {
   "codemirror_mode": {
    "name": "ipython",
    "version": 3
   },
   "file_extension": ".py",
   "mimetype": "text/x-python",
   "name": "python",
   "nbconvert_exporter": "python",
   "pygments_lexer": "ipython3",
   "version": "3.7.2"
  }
 },
 "nbformat": 4,
 "nbformat_minor": 2
}
