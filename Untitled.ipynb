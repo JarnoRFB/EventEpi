{
 "cells": [
  {
   "cell_type": "code",
   "execution_count": 2,
   "metadata": {},
   "outputs": [],
   "source": [
    "from nlp_surveillance.event_db_preprocessing import event_db\n",
    "from nlp_surveillance.pipeline import ScrapeWHO\n",
    "from nlp_surveillance.pipeline import ScrapePromed"
   ]
  },
  {
   "cell_type": "code",
   "execution_count": 3,
   "metadata": {},
   "outputs": [],
   "source": [
    "edb = event_db._read_unprocessed()\n",
    "cleaned_edb = event_db.read_cleaned()\n",
    "who_urls = ScrapeWHO('2018').data_output()\n",
    "promed_urls = ScrapePromed('2018').data_output()"
   ]
  },
  {
   "cell_type": "code",
   "execution_count": 14,
   "metadata": {},
   "outputs": [],
   "source": [
    "urls = who_urls.URL.append(promed_urls.URL)"
   ]
  },
  {
   "cell_type": "code",
   "execution_count": 44,
   "metadata": {},
   "outputs": [],
   "source": [
    "ilocs = []\n",
    "for i, url in enumerate(edb['Link zur Quelle 1']):\n",
    "    if url in urls.tolist():\n",
    "        ilocs.append(i)"
   ]
  },
  {
   "cell_type": "code",
   "execution_count": 4,
   "metadata": {},
   "outputs": [],
   "source": [
    "edb = edb.fillna('none')"
   ]
  },
  {
   "cell_type": "code",
   "execution_count": 82,
   "metadata": {},
   "outputs": [
    {
     "data": {
      "text/html": [
       "<div>\n",
       "<style scoped>\n",
       "    .dataframe tbody tr th:only-of-type {\n",
       "        vertical-align: middle;\n",
       "    }\n",
       "\n",
       "    .dataframe tbody tr th {\n",
       "        vertical-align: top;\n",
       "    }\n",
       "\n",
       "    .dataframe thead th {\n",
       "        text-align: right;\n",
       "    }\n",
       "</style>\n",
       "<table border=\"1\" class=\"dataframe\">\n",
       "  <thead>\n",
       "    <tr style=\"text-align: right;\">\n",
       "      <th></th>\n",
       "      <th>Zeilen-ID</th>\n",
       "      <th>Ereignis-ID</th>\n",
       "      <th>Kontinent</th>\n",
       "      <th>Ausgangs- bzw. Ausbruchsland</th>\n",
       "      <th>Sekundär betroffene Länder*</th>\n",
       "      <th>Erreger</th>\n",
       "      <th>Krankheitsbild(er)</th>\n",
       "      <th>Frühestbekannter Ereignisbeginn</th>\n",
       "      <th>Erstveröffentlichung</th>\n",
       "      <th>Fälle gesamt*</th>\n",
       "      <th>Datenstand für Fallzahlen gesamt*</th>\n",
       "      <th>Fälle bestätigt</th>\n",
       "      <th>Warcheinlische Fälle</th>\n",
       "      <th>Verdachtsfälle</th>\n",
       "      <th>Todesfälle</th>\n",
       "      <th>Quelle 1*</th>\n",
       "      <th>Datum der Veröffentlichung der Quelle1</th>\n",
       "      <th>Link zur Quelle 1</th>\n",
       "      <th>Quelle 2</th>\n",
       "      <th>Datum der Veröffentlichung der Quelle 2</th>\n",
       "      <th>Link zur Quelle 2</th>\n",
       "      <th>Quelle 3</th>\n",
       "      <th>Datum der Veröffentlichung der Quelle 3</th>\n",
       "      <th>Link zur Quelle 3</th>\n",
       "      <th>Quelle 4</th>\n",
       "      <th>Datum der Veröffentlichung der Quelle 4</th>\n",
       "      <th>Link zur Quelle 4</th>\n",
       "      <th>Rationale für Monitoring*</th>\n",
       "      <th>Rationale für Monitoring* Kommentar</th>\n",
       "      <th>Monitoring-Frequenz</th>\n",
       "      <th>Verbindung zu Ereignis-ID*</th>\n",
       "      <th>RKI-Berichtsformat* (z.B. Wochenbericht, EpiLag, etc)</th>\n",
       "      <th>RKI-Berichtsformat Kategorie (z.B. Kurznachricht, Fortschreibung, etc.)</th>\n",
       "      <th>RKI-Berichtsformat Datum</th>\n",
       "      <th>Ereignisinformation  und Bewertung oder Link</th>\n",
       "      <th>Zuständige OE*</th>\n",
       "      <th>Zuständige OE (2)*</th>\n",
       "      <th>Kürzel Person</th>\n",
       "      <th>Datum der letzten Aktualisierung</th>\n",
       "      <th>Protokollierung des Meetings</th>\n",
       "    </tr>\n",
       "  </thead>\n",
       "  <tbody>\n",
       "    <tr>\n",
       "      <th>0</th>\n",
       "      <td>1</td>\n",
       "      <td>AF_Nigeria_LASV_12.03.2018</td>\n",
       "      <td>Afrika</td>\n",
       "      <td>Nigeria</td>\n",
       "      <td>Benin</td>\n",
       "      <td>Lassavirus</td>\n",
       "      <td>Lassafieber</td>\n",
       "      <td>18.01.2018</td>\n",
       "      <td>none</td>\n",
       "      <td>1121</td>\n",
       "      <td>18.03.2018</td>\n",
       "      <td>376</td>\n",
       "      <td>none</td>\n",
       "      <td>none</td>\n",
       "      <td>119</td>\n",
       "      <td>WHO AFRO Bericht</td>\n",
       "      <td>3/12/2018</td>\n",
       "      <td>&lt;http://apps.who.int/iris/bitstream/10665/2604...</td>\n",
       "      <td>NCDC</td>\n",
       "      <td>3/18/2018</td>\n",
       "      <td>none</td>\n",
       "      <td>none</td>\n",
       "      <td>none</td>\n",
       "      <td>none</td>\n",
       "      <td>none</td>\n",
       "      <td>none</td>\n",
       "      <td>none</td>\n",
       "      <td>none</td>\n",
       "      <td>none</td>\n",
       "      <td>1xWöchentlich</td>\n",
       "      <td>Primärereignis</td>\n",
       "      <td>Erlassbericht 18-02-13, PHI-Bericht 18-02-23, ...</td>\n",
       "      <td>none</td>\n",
       "      <td>none</td>\n",
       "      <td>&lt;\\\\rki.local\\daten\\Projekte\\GGBS_INIG\\Bewertun...</td>\n",
       "      <td>FG35</td>\n",
       "      <td>none</td>\n",
       "      <td>Jane Hecht</td>\n",
       "      <td>3/13/2018</td>\n",
       "      <td>none</td>\n",
       "    </tr>\n",
       "    <tr>\n",
       "      <th>1</th>\n",
       "      <td>2</td>\n",
       "      <td>AF_Benin_LASV_18-03-12</td>\n",
       "      <td>none</td>\n",
       "      <td>Benin</td>\n",
       "      <td>none</td>\n",
       "      <td>Lassavirus</td>\n",
       "      <td>Lassafieber</td>\n",
       "      <td>08.01.2018</td>\n",
       "      <td>none</td>\n",
       "      <td>24</td>\n",
       "      <td>05.03.2018</td>\n",
       "      <td>5</td>\n",
       "      <td>none</td>\n",
       "      <td>16</td>\n",
       "      <td>9</td>\n",
       "      <td>WHO AFRO Bericht</td>\n",
       "      <td>3/12/2018</td>\n",
       "      <td>&lt;http://apps.who.int/iris/bitstream/10665/2604...</td>\n",
       "      <td>none</td>\n",
       "      <td>none</td>\n",
       "      <td>none</td>\n",
       "      <td>none</td>\n",
       "      <td>none</td>\n",
       "      <td>none</td>\n",
       "      <td>none</td>\n",
       "      <td>none</td>\n",
       "      <td>none</td>\n",
       "      <td>none</td>\n",
       "      <td>none</td>\n",
       "      <td>1xWöchentlich</td>\n",
       "      <td>AF_Nigeria_LASV_18-03-12</td>\n",
       "      <td>Nächster BMG-Wochenbericht</td>\n",
       "      <td>none</td>\n",
       "      <td>none</td>\n",
       "      <td>Fälle aus 5 Departments: Atacora (9), Bourgou ...</td>\n",
       "      <td>FG35</td>\n",
       "      <td>none</td>\n",
       "      <td>BR</td>\n",
       "      <td>3/13/2018</td>\n",
       "      <td>none</td>\n",
       "    </tr>\n",
       "    <tr>\n",
       "      <th>2</th>\n",
       "      <td>3</td>\n",
       "      <td>AF_Liberia_LASV_12.03.2018</td>\n",
       "      <td>none</td>\n",
       "      <td>Liberia</td>\n",
       "      <td>none</td>\n",
       "      <td>Lassavirus</td>\n",
       "      <td>Lassafieber</td>\n",
       "      <td>01.01.2018</td>\n",
       "      <td>none</td>\n",
       "      <td>42</td>\n",
       "      <td>16.03.2018</td>\n",
       "      <td>7</td>\n",
       "      <td>none</td>\n",
       "      <td>none</td>\n",
       "      <td>14</td>\n",
       "      <td>WHO AFRO Bericht</td>\n",
       "      <td>3/21/2018</td>\n",
       "      <td>&lt;http://apps.who.int/iris/bitstream/10665/2604...</td>\n",
       "      <td>none</td>\n",
       "      <td>none</td>\n",
       "      <td>none</td>\n",
       "      <td>none</td>\n",
       "      <td>none</td>\n",
       "      <td>none</td>\n",
       "      <td>none</td>\n",
       "      <td>none</td>\n",
       "      <td>none</td>\n",
       "      <td>none</td>\n",
       "      <td>none</td>\n",
       "      <td>1xWöchentlich</td>\n",
       "      <td>Primärereignis</td>\n",
       "      <td>Nächster BMG-Wochenbericht</td>\n",
       "      <td>none</td>\n",
       "      <td>none</td>\n",
       "      <td>Fälle aus 3 Counties: Nimba (4), Montserrado (...</td>\n",
       "      <td>FG35</td>\n",
       "      <td>none</td>\n",
       "      <td>BR</td>\n",
       "      <td>3/13/2018</td>\n",
       "      <td>none</td>\n",
       "    </tr>\n",
       "    <tr>\n",
       "      <th>3</th>\n",
       "      <td>4</td>\n",
       "      <td>AF_Ghana_LASV_18-03-12</td>\n",
       "      <td>none</td>\n",
       "      <td>Ghana</td>\n",
       "      <td>none</td>\n",
       "      <td>Lassavirus</td>\n",
       "      <td>Lassafieber</td>\n",
       "      <td>23.02.2018</td>\n",
       "      <td>none</td>\n",
       "      <td>1</td>\n",
       "      <td>02.03.2018</td>\n",
       "      <td>1</td>\n",
       "      <td>none</td>\n",
       "      <td>none</td>\n",
       "      <td>1</td>\n",
       "      <td>WHO AFRO Bericht</td>\n",
       "      <td>3/12/2018</td>\n",
       "      <td>&lt;http://apps.who.int/iris/bitstream/10665/2604...</td>\n",
       "      <td>none</td>\n",
       "      <td>none</td>\n",
       "      <td>none</td>\n",
       "      <td>none</td>\n",
       "      <td>none</td>\n",
       "      <td>none</td>\n",
       "      <td>none</td>\n",
       "      <td>none</td>\n",
       "      <td>none</td>\n",
       "      <td>none</td>\n",
       "      <td>none</td>\n",
       "      <td>1xWöchentlich</td>\n",
       "      <td>Primärereignis</td>\n",
       "      <td>Nächster BMG-Wochenbericht</td>\n",
       "      <td>none</td>\n",
       "      <td>none</td>\n",
       "      <td>26-jähriger Mann; 18-02-23 Vorstellung KH Accr...</td>\n",
       "      <td>FG35</td>\n",
       "      <td>none</td>\n",
       "      <td>BR</td>\n",
       "      <td>3/20/2018</td>\n",
       "      <td>none</td>\n",
       "    </tr>\n",
       "    <tr>\n",
       "      <th>4</th>\n",
       "      <td>5</td>\n",
       "      <td>AS_Fiji_Men_18-03-22</td>\n",
       "      <td>none</td>\n",
       "      <td>Fiji</td>\n",
       "      <td>none</td>\n",
       "      <td>Meningokokken</td>\n",
       "      <td>Meningitis</td>\n",
       "      <td>20.03.2018</td>\n",
       "      <td>none</td>\n",
       "      <td>18</td>\n",
       "      <td>none</td>\n",
       "      <td>none</td>\n",
       "      <td>none</td>\n",
       "      <td>none</td>\n",
       "      <td>none</td>\n",
       "      <td>ProMED-mail</td>\n",
       "      <td>3/21/2018</td>\n",
       "      <td>none</td>\n",
       "      <td>MoH Fiji</td>\n",
       "      <td>none</td>\n",
       "      <td>none</td>\n",
       "      <td>none</td>\n",
       "      <td>none</td>\n",
       "      <td>none</td>\n",
       "      <td>none</td>\n",
       "      <td>none</td>\n",
       "      <td>none</td>\n",
       "      <td>none</td>\n",
       "      <td>none</td>\n",
       "      <td>none</td>\n",
       "      <td>Primärereignis</td>\n",
       "      <td>none</td>\n",
       "      <td>none</td>\n",
       "      <td>none</td>\n",
       "      <td>Zahl seit 2016 kontinuierlich ansteigend, bis ...</td>\n",
       "      <td>FG33</td>\n",
       "      <td>none</td>\n",
       "      <td>Jane Hecht</td>\n",
       "      <td>3/22/2018</td>\n",
       "      <td>none</td>\n",
       "    </tr>\n",
       "  </tbody>\n",
       "</table>\n",
       "</div>"
      ],
      "text/plain": [
       "  Zeilen-ID  ... Protokollierung des Meetings\n",
       "0         1  ...                         none\n",
       "1         2  ...                         none\n",
       "2         3  ...                         none\n",
       "3         4  ...                         none\n",
       "4         5  ...                         none\n",
       "\n",
       "[5 rows x 40 columns]"
      ]
     },
     "execution_count": 82,
     "metadata": {},
     "output_type": "execute_result"
    }
   ],
   "source": [
    "edb.head()"
   ]
  },
  {
   "cell_type": "code",
   "execution_count": 80,
   "metadata": {
    "scrolled": false
   },
   "outputs": [],
   "source": [
    "i = (edb[edb['Link zur Quelle 1'].str.contains('promedmail.org/.+',regex=True)]['Ausgangs- bzw. Ausbruchsland'])"
   ]
  },
  {
   "cell_type": "code",
   "execution_count": 81,
   "metadata": {},
   "outputs": [
    {
     "data": {
      "text/plain": [
       "['none', 'none']"
      ]
     },
     "execution_count": 81,
     "metadata": {},
     "output_type": "execute_result"
    }
   ],
   "source": [
    "[_ for _ in i if _ == 'none']"
   ]
  },
  {
   "cell_type": "code",
   "execution_count": 69,
   "metadata": {
    "collapsed": true
   },
   "outputs": [
    {
     "data": {
      "text/plain": [
       "0      False\n",
       "1      False\n",
       "2      False\n",
       "3      False\n",
       "4        NaN\n",
       "5      False\n",
       "6        NaN\n",
       "7        NaN\n",
       "8        NaN\n",
       "9        NaN\n",
       "10       NaN\n",
       "11       NaN\n",
       "12       NaN\n",
       "13       NaN\n",
       "14       NaN\n",
       "15       NaN\n",
       "16       NaN\n",
       "17       NaN\n",
       "18       NaN\n",
       "19       NaN\n",
       "20       NaN\n",
       "21       NaN\n",
       "22       NaN\n",
       "23       NaN\n",
       "24       NaN\n",
       "25     False\n",
       "26     False\n",
       "27     False\n",
       "28     False\n",
       "29     False\n",
       "       ...  \n",
       "454      NaN\n",
       "455      NaN\n",
       "456      NaN\n",
       "457      NaN\n",
       "458      NaN\n",
       "459      NaN\n",
       "460      NaN\n",
       "461      NaN\n",
       "462      NaN\n",
       "463      NaN\n",
       "464      NaN\n",
       "465      NaN\n",
       "466      NaN\n",
       "467      NaN\n",
       "468      NaN\n",
       "469      NaN\n",
       "470      NaN\n",
       "471      NaN\n",
       "472      NaN\n",
       "473      NaN\n",
       "474      NaN\n",
       "475      NaN\n",
       "476      NaN\n",
       "477      NaN\n",
       "478      NaN\n",
       "479      NaN\n",
       "480      NaN\n",
       "481      NaN\n",
       "482      NaN\n",
       "483      NaN\n",
       "Name: Link zur Quelle 1, Length: 484, dtype: object"
      ]
     },
     "execution_count": 69,
     "metadata": {},
     "output_type": "execute_result"
    }
   ],
   "source": [
    "edb['Link zur Quelle 1'].str.contains('/23423/')"
   ]
  },
  {
   "cell_type": "code",
   "execution_count": 19,
   "metadata": {},
   "outputs": [],
   "source": [
    "nat = cleaned_edb.iloc[ilocs].iloc[0].date_of_data"
   ]
  },
  {
   "cell_type": "code",
   "execution_count": 22,
   "metadata": {},
   "outputs": [
    {
     "data": {
      "text/plain": [
       "47"
      ]
     },
     "execution_count": 22,
     "metadata": {},
     "output_type": "execute_result"
    }
   ],
   "source": [
    "len([i for i in cleaned_edb.iloc[ilocs].date_of_data if i is not nat])"
   ]
  },
  {
   "cell_type": "code",
   "execution_count": 23,
   "metadata": {},
   "outputs": [
    {
     "data": {
      "text/plain": [
       "Index(['date_of_data', 'count_edb', 'country_edb', 'disease_edb', 'URL'], dtype='object')"
      ]
     },
     "execution_count": 23,
     "metadata": {},
     "output_type": "execute_result"
    }
   ],
   "source": [
    "cleaned_edb.columns"
   ]
  },
  {
   "cell_type": "code",
   "execution_count": 26,
   "metadata": {
    "scrolled": true
   },
   "outputs": [
    {
     "data": {
      "text/plain": [
       "163"
      ]
     },
     "execution_count": 26,
     "metadata": {},
     "output_type": "execute_result"
    }
   ],
   "source": [
    "len(cleaned_edb.iloc[ilocs].count_edb.notna())"
   ]
  },
  {
   "cell_type": "code",
   "execution_count": null,
   "metadata": {},
   "outputs": [],
   "source": [
    "nan, 'Afghanistan,\\nDR Congo\\nNigeria\\nSomalia', 'Venezuela ', 'Italien, Serbien, Griechenland, Rumänien, Ungarn, Frankreich, Kosovo, Albanien, Macedonien, Montenegro, Serbien, Türkei', 'Französich_Polynesien', 'Saudi-Arabien ', 'VAE ', 'Namibia, Opuwo District, Kunene Region', 'Nigeria, Edo State', 'Indien, Jaipur', 'DRC, Nord Kivu', ' Äthiopien (AWD)', 'USA, Delaware', 'Trinidad & Tobago', 'Peru ', 'Italien, Griechenland, Ungarn, Rumänien', 'Oman ', 'Serbien, Italien, Griechenland, Ungarn,  Rumänien', 'Italien, Griechenland, Rumanien, Ungarn, Frankreich'}"
   ]
  },
  {
   "cell_type": "code",
   "execution_count": 87,
   "metadata": {},
   "outputs": [],
   "source": [
    "disease_set = (edb[edb['Link zur Quelle 1'].str.contains('promedmail.org/.+',regex=True)]['Krankheitsbild(er)'])"
   ]
  },
  {
   "cell_type": "code",
   "execution_count": 91,
   "metadata": {},
   "outputs": [
    {
     "data": {
      "text/plain": [
       "25              MERS\n",
       "52        Listeriose\n",
       "140             none\n",
       "149           Masern\n",
       "163    Rifttalfieber\n",
       "204             none\n",
       "225             none\n",
       "248       Gelbfieber\n",
       "258             MERS\n",
       "309             none\n",
       "353    Poliomyelitis\n",
       "Name: Krankheitsbild(er), dtype: object"
      ]
     },
     "execution_count": 91,
     "metadata": {},
     "output_type": "execute_result"
    }
   ],
   "source": [
    "(edb[edb['Link zur Quelle 1'].str.contains('/don/')]['Krankheitsbild(er)'])"
   ]
  },
  {
   "cell_type": "code",
   "execution_count": 90,
   "metadata": {},
   "outputs": [
    {
     "data": {
      "text/plain": [
       "24"
      ]
     },
     "execution_count": 90,
     "metadata": {},
     "output_type": "execute_result"
    }
   ],
   "source": [
    "len([i for i in disease_set if i == 'none'])"
   ]
  },
  {
   "cell_type": "code",
   "execution_count": 37,
   "metadata": {},
   "outputs": [],
   "source": [
    "from nlp_surveillance.pipeline import MergeDiseaseNameLookupWithAbbreviationsOfRKI\n",
    "disease_lookup = MergeDiseaseNameLookupWithAbbreviationsOfRKI().data_output()\n"
   ]
  },
  {
   "cell_type": "code",
   "execution_count": 85,
   "metadata": {},
   "outputs": [],
   "source": [
    "disease_set = [i for i in disease_set if i not in disease_lookup]"
   ]
  },
  {
   "cell_type": "code",
   "execution_count": 86,
   "metadata": {},
   "outputs": [
    {
     "data": {
      "text/plain": [
       "['Krim-Kongo Hämorrhagisches Fieber',\n",
       " 'Nierenversagen; v.a. HUS, Leptospirose',\n",
       " 'Tularämie ',\n",
       " 'Japanische-Enzephalitis',\n",
       " ' ',\n",
       " 'Anthrax',\n",
       " 'Lassafieber ',\n",
       " 'keine',\n",
       " 'Fieber',\n",
       " 'none',\n",
       " 'AFP',\n",
       " 'Bilharziose',\n",
       " 'Acute encephalitis syndrome',\n",
       " 'Melioidosis',\n",
       " 'Hämolytisch-urämisches Syndrom',\n",
       " 'TBE',\n",
       " 'NEC (Nekrotisierende Enterokolitis)',\n",
       " 'Primary Amebic Meningo-encephalitis [PAM]',\n",
       " 'MERS',\n",
       " 'Husten, Fieber',\n",
       " 'Polio',\n",
       " 'Tick-borne relapsing fever ',\n",
       " '?',\n",
       " 'Hämorrhagisches Fieber',\n",
       " 'Sepsis',\n",
       " 'FSME ']"
      ]
     },
     "execution_count": 86,
     "metadata": {},
     "output_type": "execute_result"
    }
   ],
   "source": [
    "disease_set"
   ]
  },
  {
   "cell_type": "code",
   "execution_count": 98,
   "metadata": {},
   "outputs": [],
   "source": [
    "counts = (edb[edb['Link zur Quelle 1'].str.contains('promedmail.org/.+',regex=True)]['Fälle gesamt*'])"
   ]
  },
  {
   "cell_type": "code",
   "execution_count": 99,
   "metadata": {},
   "outputs": [
    {
     "data": {
      "text/plain": [
       "25     none\n",
       "52       20\n",
       "140    none\n",
       "149     995\n",
       "163    none\n",
       "204    none\n",
       "225    none\n",
       "248       1\n",
       "258       1\n",
       "309    none\n",
       "353       6\n",
       "Name: Fälle gesamt*, dtype: object"
      ]
     },
     "execution_count": 99,
     "metadata": {},
     "output_type": "execute_result"
    }
   ],
   "source": [
    "(edb[edb['Link zur Quelle 1'].str.contains('/don/')]['Fälle gesamt*'])"
   ]
  },
  {
   "cell_type": "code",
   "execution_count": 97,
   "metadata": {},
   "outputs": [
    {
     "data": {
      "text/plain": [
       "44"
      ]
     },
     "execution_count": 97,
     "metadata": {},
     "output_type": "execute_result"
    }
   ],
   "source": [
    "len([i for i in counts if i == 'none'])"
   ]
  },
  {
   "cell_type": "code",
   "execution_count": 105,
   "metadata": {},
   "outputs": [],
   "source": [
    "dates = (edb[edb['Link zur Quelle 1'].str.contains('promedmail.org/.+',regex=True)]['Datenstand für Fallzahlen gesamt*'])"
   ]
  },
  {
   "cell_type": "code",
   "execution_count": 104,
   "metadata": {},
   "outputs": [
    {
     "data": {
      "text/plain": [
       "25               none\n",
       "52         02.03.2018\n",
       "140        28.05.2018\n",
       "149              none\n",
       "163              none\n",
       "204              none\n",
       "225              none\n",
       "248              none\n",
       "258        23.08.2018\n",
       "309              none\n",
       "353    September 2018\n",
       "Name: Datenstand für Fallzahlen gesamt*, dtype: object"
      ]
     },
     "execution_count": 104,
     "metadata": {},
     "output_type": "execute_result"
    }
   ],
   "source": [
    "(edb[edb['Link zur Quelle 1'].str.contains('/don/')]['Datenstand für Fallzahlen gesamt*'])"
   ]
  },
  {
   "cell_type": "code",
   "execution_count": 106,
   "metadata": {},
   "outputs": [
    {
     "data": {
      "text/plain": [
       "0"
      ]
     },
     "execution_count": 106,
     "metadata": {},
     "output_type": "execute_result"
    }
   ],
   "source": [
    "len([i for i in dates if i =='dates'])"
   ]
  },
  {
   "cell_type": "code",
   "execution_count": 7,
   "metadata": {},
   "outputs": [],
   "source": [
    "dates = edb[edb['Link zur Quelle 1'].str.contains('promedmail.org/.+',regex=True)]['Datenstand für Fallzahlen gesamt*']"
   ]
  },
  {
   "cell_type": "code",
   "execution_count": 17,
   "metadata": {},
   "outputs": [],
   "source": [
    "dates_d = edb[edb['Link zur Quelle 1'].str.contains('/don/')]['Datenstand für Fallzahlen gesamt*']"
   ]
  },
  {
   "cell_type": "code",
   "execution_count": 9,
   "metadata": {},
   "outputs": [],
   "source": [
    "import re"
   ]
  },
  {
   "cell_type": "code",
   "execution_count": 12,
   "metadata": {},
   "outputs": [
    {
     "data": {
      "text/plain": [
       "34"
      ]
     },
     "execution_count": 12,
     "metadata": {},
     "output_type": "execute_result"
    }
   ],
   "source": [
    "len([i for i in dates if re.match(r'\\d\\d\\.\\d\\d\\.\\d\\d\\d\\d', i)])"
   ]
  },
  {
   "cell_type": "code",
   "execution_count": 18,
   "metadata": {},
   "outputs": [
    {
     "data": {
      "text/plain": [
       "3"
      ]
     },
     "execution_count": 18,
     "metadata": {},
     "output_type": "execute_result"
    }
   ],
   "source": [
    "len([i for i in dates_d if re.match(r'\\d\\d\\.\\d\\d\\.\\d\\d\\d\\d', i)])"
   ]
  },
  {
   "cell_type": "code",
   "execution_count": 15,
   "metadata": {},
   "outputs": [],
   "source": [
    "counts = edb[edb['Link zur Quelle 1'].str.contains('promedmail.org/.+',regex=True)]['Fälle gesamt*']"
   ]
  },
  {
   "cell_type": "code",
   "execution_count": 16,
   "metadata": {},
   "outputs": [
    {
     "data": {
      "text/plain": [
       "82"
      ]
     },
     "execution_count": 16,
     "metadata": {},
     "output_type": "execute_result"
    }
   ],
   "source": [
    "len([i for i in counts if re.match(r'\\d+', i)])"
   ]
  },
  {
   "cell_type": "code",
   "execution_count": 19,
   "metadata": {},
   "outputs": [],
   "source": [
    "counts_d = edb[edb['Link zur Quelle 1'].str.contains('/don/')]['Fälle gesamt*']"
   ]
  },
  {
   "cell_type": "code",
   "execution_count": 20,
   "metadata": {},
   "outputs": [
    {
     "data": {
      "text/plain": [
       "5"
      ]
     },
     "execution_count": 20,
     "metadata": {},
     "output_type": "execute_result"
    }
   ],
   "source": [
    "len([i for i in counts_d if re.match(r'\\d+', i)])"
   ]
  },
  {
   "cell_type": "code",
   "execution_count": 25,
   "metadata": {},
   "outputs": [
    {
     "data": {
      "text/plain": [
       "{'Afghanistan',\n",
       " 'Algerien',\n",
       " 'Angola',\n",
       " 'Argentinien',\n",
       " 'Australien',\n",
       " 'Bolivien',\n",
       " 'Brasilien',\n",
       " 'China',\n",
       " 'Costa Rica',\n",
       " 'DRC',\n",
       " 'Demokratische Republik Kongo',\n",
       " 'Deutschland',\n",
       " 'Dominikanische Republik',\n",
       " 'Frankreich',\n",
       " 'Großbritannien',\n",
       " 'Haiti',\n",
       " 'Hong Kong',\n",
       " 'Indien',\n",
       " 'Irak',\n",
       " 'Iran',\n",
       " 'Ireland',\n",
       " 'Israel',\n",
       " 'Japan',\n",
       " 'Kamerun',\n",
       " 'Kenia',\n",
       " 'Kenya',\n",
       " 'Kongo',\n",
       " 'Kroatien',\n",
       " 'Kuwait',\n",
       " 'La Reunion',\n",
       " 'Libanon',\n",
       " 'Liberia',\n",
       " 'Marokko',\n",
       " 'Myanmar',\n",
       " 'Namibia',\n",
       " 'Neuseeland',\n",
       " 'Nigeria',\n",
       " 'Pakistan',\n",
       " 'Papua-Neuguinea',\n",
       " 'Peru ',\n",
       " 'Romänien',\n",
       " 'Saudi-Arabien',\n",
       " 'Schweiz',\n",
       " 'Spanien',\n",
       " 'Sudan',\n",
       " 'Südafrika',\n",
       " 'Taiwan',\n",
       " 'Tschechien',\n",
       " 'Tschechische Republik',\n",
       " 'UK',\n",
       " 'USA',\n",
       " 'Uganda',\n",
       " 'Usbekistan',\n",
       " 'VAE ',\n",
       " 'VAE Dubai',\n",
       " 'Venezuela ',\n",
       " 'Vereinigte Arabische Emirate',\n",
       " 'Vereinigtes Königreich',\n",
       " 'Yemen',\n",
       " 'none'}"
      ]
     },
     "execution_count": 25,
     "metadata": {},
     "output_type": "execute_result"
    }
   ],
   "source": [
    "set(edb[edb['Link zur Quelle 1'].str.contains('promedmail.org/.+',regex=True)]['Ausgangs- bzw. Ausbruchsland'])"
   ]
  },
  {
   "cell_type": "code",
   "execution_count": null,
   "metadata": {},
   "outputs": [],
   "source": []
  }
 ],
 "metadata": {
  "kernelspec": {
   "display_name": "Python 3",
   "language": "python",
   "name": "python3"
  },
  "language_info": {
   "codemirror_mode": {
    "name": "ipython",
    "version": 3
   },
   "file_extension": ".py",
   "mimetype": "text/x-python",
   "name": "python",
   "nbconvert_exporter": "python",
   "pygments_lexer": "ipython3",
   "version": "3.7.2"
  }
 },
 "nbformat": 4,
 "nbformat_minor": 2
}
