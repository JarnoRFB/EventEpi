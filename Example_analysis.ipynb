{
 "cells": [
  {
   "cell_type": "code",
   "execution_count": 1,
   "metadata": {},
   "outputs": [],
   "source": [
    "%load_ext autoreload\n",
    "%autoreload 2"
   ]
  },
  {
   "cell_type": "code",
   "execution_count": 2,
   "metadata": {},
   "outputs": [],
   "source": [
    "import spacy\n",
    "spacy.load('en_core_web_sm')\n",
    "from epitator.annotator import AnnoDoc\n",
    "from epitator.geoname_annotator import GeonameAnnotator\n",
    "from epitator.resolved_keyword_annotator import ResolvedKeywordAnnotator\n",
    "from epitator.count_annotator import CountAnnotator\n",
    "from epitator.date_annotator import DateAnnotator\n",
    "from itertools import groupby\n",
    "import datetime\n",
    "import sys\n",
    "import pandas as pd\n",
    "import re\n",
    "import numpy as np\n",
    "import epitator\n",
    "import numpy as np"
   ]
  },
  {
   "cell_type": "code",
   "execution_count": 3,
   "metadata": {},
   "outputs": [
    {
     "name": "stdout",
     "output_type": "stream",
     "text": [
      "Pickle not found. Start scraping..\n",
      "...scraping complete.\n"
     ]
    }
   ],
   "source": [
    "import pandas as pd\n",
    "import pickle\n",
    "import os\n",
    "from who_scraper import scrape\n",
    "from my_utils import extract_from_url, flatten_list, get_edb\n",
    "from annotator import *\n",
    "from wiki_country_parser import get_wiki_countries_df"
   ]
  },
  {
   "cell_type": "markdown",
   "metadata": {},
   "source": [
    "# WHO DF"
   ]
  },
  {
   "cell_type": "code",
   "execution_count": 4,
   "metadata": {},
   "outputs": [],
   "source": [
    "path = os.path.join(\"pickles\",\"parsed_who_df.p\")"
   ]
  },
  {
   "cell_type": "code",
   "execution_count": null,
   "metadata": {},
   "outputs": [],
   "source": [
    "all_links = scrape(years=['2018'],proxies=None)\n",
    "extracted = extract_from_url(all_links)"
   ]
  },
  {
   "cell_type": "code",
   "execution_count": null,
   "metadata": {},
   "outputs": [],
   "source": [
    "parsed_whos_df = pd.DataFrame.from_dict(create_annotated_database(extracted, entity_funcs_and_params=[\n",
    "                                                                      (geonames, {\"raw\":True}),\n",
    "                                                                      (cases, {\"raw\":True}),\n",
    "                                                                      (dates, {\"raw\":True}),\n",
    "                                                                      keywords]))"
   ]
  },
  {
   "cell_type": "code",
   "execution_count": null,
   "metadata": {},
   "outputs": [],
   "source": [
    "pickle.dump(parsed_whos_df,open(path,\"wb\"))"
   ]
  },
  {
   "cell_type": "code",
   "execution_count": 5,
   "metadata": {
    "scrolled": false
   },
   "outputs": [
    {
     "data": {
      "text/html": [
       "<div>\n",
       "<style scoped>\n",
       "    .dataframe tbody tr th:only-of-type {\n",
       "        vertical-align: middle;\n",
       "    }\n",
       "\n",
       "    .dataframe tbody tr th {\n",
       "        vertical-align: top;\n",
       "    }\n",
       "\n",
       "    .dataframe thead th {\n",
       "        text-align: right;\n",
       "    }\n",
       "</style>\n",
       "<table border=\"1\" class=\"dataframe\">\n",
       "  <thead>\n",
       "    <tr style=\"text-align: right;\">\n",
       "      <th></th>\n",
       "      <th>texts</th>\n",
       "      <th>dates</th>\n",
       "      <th>cases</th>\n",
       "      <th>keywords</th>\n",
       "      <th>geonames</th>\n",
       "    </tr>\n",
       "  </thead>\n",
       "  <tbody>\n",
       "    <tr>\n",
       "      <th>0</th>\n",
       "      <td>Ebola virus disease – Democratic Republic of t...</td>\n",
       "      <td>[2018-11-27, 2018-10-01, 2018-01-01, 2018-11-2...</td>\n",
       "      <td>[36, 13, 9, 6, 6, 1, 1, 2, 42, 12, 6, 6, 125, ...</td>\n",
       "      <td>[Ebola hemorrhagic fever]</td>\n",
       "      <td>[Democratic Republic of the Congo, South Sudan...</td>\n",
       "    </tr>\n",
       "    <tr>\n",
       "      <th>1</th>\n",
       "      <td>Ebola virus disease – Democratic Republic of t...</td>\n",
       "      <td>[2018-11-16, 2018-11-01, 1920-11-14, 2018-11-2...</td>\n",
       "      <td>[18, 36, 7, 6, 1, 1, 1, 5, 39, 10, 6, 4, 113, ...</td>\n",
       "      <td>[Ebola hemorrhagic fever]</td>\n",
       "      <td>[Democratic Republic of the Congo, Democratic ...</td>\n",
       "    </tr>\n",
       "    <tr>\n",
       "      <th>2</th>\n",
       "      <td>Middle East respiratory syndrome coronavirus (...</td>\n",
       "      <td>[2018-11-01, 2018-10-16, 2018-10-30, 2005-01-01]</td>\n",
       "      <td>[4, 1, 1, 2266, 804, 1]</td>\n",
       "      <td>[Middle East respiratory syndrome]</td>\n",
       "      <td>[Middle East, Kingdom of Saudi Arabia, Kingdom...</td>\n",
       "    </tr>\n",
       "    <tr>\n",
       "      <th>3</th>\n",
       "      <td>Ebola virus disease – Democratic Republic of t...</td>\n",
       "      <td>[2018-11-01, 2018-11-07, 2018-11-13, 2018-11-0...</td>\n",
       "      <td>[2, 1, 31, 4, 3, 3, 3, 31, 12, 9, 2, 103, 14, ...</td>\n",
       "      <td>[Ebola hemorrhagic fever]</td>\n",
       "      <td>[Democratic Republic of the Congo, Democratic ...</td>\n",
       "    </tr>\n",
       "    <tr>\n",
       "      <th>4</th>\n",
       "      <td>Ebola virus disease – Democratic Republic of t...</td>\n",
       "      <td>[2018-11-06, 2018-11-06, 2018-11-06, 2018-10-3...</td>\n",
       "      <td>[300, 31, 29, 15, 7, 4, 2, 2, 3, 28, 10, 88, 3...</td>\n",
       "      <td>[Ebola hemorrhagic fever]</td>\n",
       "      <td>[Democratic Republic of the Congo, Democratic ...</td>\n",
       "    </tr>\n",
       "  </tbody>\n",
       "</table>\n",
       "</div>"
      ],
      "text/plain": [
       "                                               texts  \\\n",
       "0  Ebola virus disease – Democratic Republic of t...   \n",
       "1  Ebola virus disease – Democratic Republic of t...   \n",
       "2  Middle East respiratory syndrome coronavirus (...   \n",
       "3  Ebola virus disease – Democratic Republic of t...   \n",
       "4  Ebola virus disease – Democratic Republic of t...   \n",
       "\n",
       "                                               dates  \\\n",
       "0  [2018-11-27, 2018-10-01, 2018-01-01, 2018-11-2...   \n",
       "1  [2018-11-16, 2018-11-01, 1920-11-14, 2018-11-2...   \n",
       "2   [2018-11-01, 2018-10-16, 2018-10-30, 2005-01-01]   \n",
       "3  [2018-11-01, 2018-11-07, 2018-11-13, 2018-11-0...   \n",
       "4  [2018-11-06, 2018-11-06, 2018-11-06, 2018-10-3...   \n",
       "\n",
       "                                               cases  \\\n",
       "0  [36, 13, 9, 6, 6, 1, 1, 2, 42, 12, 6, 6, 125, ...   \n",
       "1  [18, 36, 7, 6, 1, 1, 1, 5, 39, 10, 6, 4, 113, ...   \n",
       "2                            [4, 1, 1, 2266, 804, 1]   \n",
       "3  [2, 1, 31, 4, 3, 3, 3, 31, 12, 9, 2, 103, 14, ...   \n",
       "4  [300, 31, 29, 15, 7, 4, 2, 2, 3, 28, 10, 88, 3...   \n",
       "\n",
       "                             keywords  \\\n",
       "0           [Ebola hemorrhagic fever]   \n",
       "1           [Ebola hemorrhagic fever]   \n",
       "2  [Middle East respiratory syndrome]   \n",
       "3           [Ebola hemorrhagic fever]   \n",
       "4           [Ebola hemorrhagic fever]   \n",
       "\n",
       "                                            geonames  \n",
       "0  [Democratic Republic of the Congo, South Sudan...  \n",
       "1  [Democratic Republic of the Congo, Democratic ...  \n",
       "2  [Middle East, Kingdom of Saudi Arabia, Kingdom...  \n",
       "3  [Democratic Republic of the Congo, Democratic ...  \n",
       "4  [Democratic Republic of the Congo, Democratic ...  "
      ]
     },
     "execution_count": 5,
     "metadata": {},
     "output_type": "execute_result"
    }
   ],
   "source": [
    "parsed_whos_df = pickle.load(open(path,\"rb\"))\n",
    "parsed_whos_df.head()"
   ]
  },
  {
   "cell_type": "markdown",
   "metadata": {},
   "source": [
    "# EDB Statistics"
   ]
  },
  {
   "cell_type": "code",
   "execution_count": 6,
   "metadata": {
    "scrolled": false
   },
   "outputs": [
    {
     "name": "stderr",
     "output_type": "stream",
     "text": [
      "/Users/aussabbood/github/nlp-surveillance/edb_clean.py:39: UserWarning: \"31.09.2018\" is not an existing date. Please change it\n",
      "  warnings.warn('\"{}\" is not an existing date. Please change it'.format(date))\n"
     ]
    }
   ],
   "source": [
    "edb = get_edb()"
   ]
  },
  {
   "cell_type": "markdown",
   "metadata": {},
   "source": [
    "# CONTINUE HERE"
   ]
  },
  {
   "cell_type": "markdown",
   "metadata": {},
   "source": [
    "## Country statistic"
   ]
  },
  {
   "cell_type": "code",
   "execution_count": 8,
   "metadata": {},
   "outputs": [
    {
     "name": "stdout",
     "output_type": "stream",
     "text": [
      "295  entries in edb\n",
      "280  are not empty\n",
      "80  are unique\n"
     ]
    }
   ],
   "source": [
    "print(len(edb),\" entries\", \"in edb\")\n",
    "countries_not_null = edb[pd.notnull(edb[\"Ausgangs- bzw. Ausbruchsland\"])]\n",
    "print(len(countries_not_null),\" are not empty\")\n",
    "unique = set(c[0] if type(c)==list else c for c in countries_not_null['Ausgangs- bzw. Ausbruchsland'].tolist())\n",
    "print(len(unique), \" are unique\")"
   ]
  },
  {
   "cell_type": "code",
   "execution_count": 9,
   "metadata": {
    "scrolled": true
   },
   "outputs": [
    {
     "name": "stdout",
     "output_type": "stream",
     "text": [
      "8 countries were not translated\n"
     ]
    },
    {
     "data": {
      "text/plain": [
       "['Taiwan',\n",
       " 'Französisch-Polynesien',\n",
       " 'VAE Dubai',\n",
       " 'La Reunion',\n",
       " 'Französiche Guyana',\n",
       " 'Nordeuropa',\n",
       " 'DRCongo',\n",
       " 'Typhus']"
      ]
     },
     "execution_count": 9,
     "metadata": {},
     "output_type": "execute_result"
    }
   ],
   "source": [
    "wiki_countries_df = get_wiki_countries_df()\n",
    "same_word_translated = []\n",
    "for _, row in wiki_countries_df.iterrows():\n",
    "    if row['state_name_de'] == row['translation_state_name']:\n",
    "        same_word_translated.append(row['state_name_de'])\n",
    "    elif row['full_state_name_de'] == row['translation_state_name']:\n",
    "        same_word_translated.append(row['full_state_name_de'])\n",
    "unprocesed_edb = pd.read_csv(\"edb.csv\", sep=\";\")\n",
    "\n",
    "# Exlude words that are unchanged compared to unproccessed version\n",
    "unchanged_country_names = [e for e in unique if e in unprocesed_edb['Ausgangs- bzw. Ausbruchsland '].tolist()]\n",
    "# Exlude words that are the same after translation\n",
    "unchanged_country_names = [e for e in unchanged_country_names if e not in same_word_translated]\n",
    "# Exlude words that were English in the first place\n",
    "unchanged_country_names =  [e for e in unchanged_country_names if e not in wiki_countries_df[\"translation_state_name\"].tolist()]\n",
    "print(\"{} countries were not translated\".format(len(unchanged_country_names)))\n",
    "unchanged_country_names"
   ]
  },
  {
   "cell_type": "markdown",
   "metadata": {},
   "source": [
    "## Direct comparison to source"
   ]
  },
  {
   "cell_type": "code",
   "execution_count": 10,
   "metadata": {},
   "outputs": [
    {
     "data": {
      "text/plain": [
       "[15, 16, 17, 18, 19, 20, 21, 22, 23, 24, 25, 3, 9, 11, 12]"
      ]
     },
     "execution_count": 10,
     "metadata": {},
     "output_type": "execute_result"
    }
   ],
   "source": [
    "indices_sources = list(range(15,26))\n",
    "indices_sources_and_countries = indices_sources\n",
    "indices_sources_and_countries.extend([3,9,11,12])\n",
    "indices_sources_and_countries"
   ]
  },
  {
   "cell_type": "code",
   "execution_count": 11,
   "metadata": {
    "scrolled": true
   },
   "outputs": [],
   "source": [
    "sources = edb.iloc[:,indices_sources_and_countries].copy(deep=True) # Get only the columns mentioning sources"
   ]
  },
  {
   "cell_type": "code",
   "execution_count": 12,
   "metadata": {},
   "outputs": [],
   "source": [
    "mask = sources.copy(deep=True) # Create a mask for filtering\n",
    "# Use only the columns about sources to filter\n",
    "for column in sources.columns[:11]:\n",
    "    mask[column] = sources[column].str.contains('who',na=False) # Extract all the entries that have the word \"who\"\n",
    "    mask[column] = sources[column].str.contains('don',na=False) # and \"don\"\n",
    "indices = [i for i in range(len(mask)) if not mask.iloc[i,:11].any()] \n",
    "sources_filtered = sources.drop(np.reshape(indices,(len(indices),)))# Drop all rows that don't mention \"who\" or \"don\""
   ]
  },
  {
   "cell_type": "code",
   "execution_count": 13,
   "metadata": {
    "scrolled": false
   },
   "outputs": [],
   "source": [
    "# Only get the necessary information from the who dons for comparison\n",
    "comparable_who = parsed_whos_df.iloc[:,[1,2,4]].copy(deep=True)"
   ]
  },
  {
   "cell_type": "code",
   "execution_count": 14,
   "metadata": {
    "scrolled": true
   },
   "outputs": [],
   "source": [
    "dates = sources_filtered.iloc[:,[1,4,7,10]].copy(deep=True)"
   ]
  },
  {
   "cell_type": "code",
   "execution_count": 15,
   "metadata": {},
   "outputs": [],
   "source": [
    "dates = dates.replace(\"nan\",np.nan)"
   ]
  },
  {
   "cell_type": "code",
   "execution_count": 16,
   "metadata": {
    "scrolled": true
   },
   "outputs": [
    {
     "data": {
      "text/plain": [
       "[['2018-03-15'],\n",
       " ['2018-04-13'],\n",
       " ['2018-04-15', '2018-04-20', '2018-04-18'],\n",
       " ['2018-05-11', '2018-05-10'],\n",
       " ['2018-05-15', '2018-05-14'],\n",
       " ['2018-05-17', '2018-05-17'],\n",
       " ['2018-05-22', '2018-05-21'],\n",
       " ['2018-05-31'],\n",
       " ['2018-06-05', '2018-06-05'],\n",
       " ['2018-06-12'],\n",
       " ['2018-06-18'],\n",
       " ['2018-07-30', '2018-08-04'],\n",
       " ['2018-08-07', '2018-06-25'],\n",
       " ['2018-08-07'],\n",
       " ['2018-07-02'],\n",
       " ['2018-08-24'],\n",
       " ['2018-08-31']]"
      ]
     },
     "execution_count": 16,
     "metadata": {},
     "output_type": "execute_result"
    }
   ],
   "source": [
    "# Clean dates\n",
    "dates = dates.values.tolist()\n",
    "dates = [list(filter(lambda x: x==x, row)) for row in dates]\n",
    "dates"
   ]
  },
  {
   "cell_type": "code",
   "execution_count": 17,
   "metadata": {
    "scrolled": false
   },
   "outputs": [
    {
     "data": {
      "text/plain": [
       "[['nan', 'nan', 'nan'],\n",
       " ['20', '19', 1.0],\n",
       " ['nan', '413', 9.0],\n",
       " ['34', '2', 'nan'],\n",
       " ['41', '2', 'nan'],\n",
       " ['44', '3', 'nan'],\n",
       " ['46', 'nan', 'nan'],\n",
       " ['nan', '15', 'nan'],\n",
       " ['16', '1', 'nan'],\n",
       " ['995', '114', 'nan'],\n",
       " ['nan', 'nan', 'nan'],\n",
       " ['nan', '16', 27.0],\n",
       " ['3', '3', 'nan'],\n",
       " ['nan', 'nan', 'nan'],\n",
       " ['nan', '1, aber 2 Nachweise bei asymptomatischen Kindern', 'nan'],\n",
       " ['1', '1', 'nan'],\n",
       " ['1', '1', 'nan']]"
      ]
     },
     "execution_count": 17,
     "metadata": {},
     "output_type": "execute_result"
    }
   ],
   "source": [
    "# Clean faelle\n",
    "faelle = sources_filtered.iloc[:,-3:].copy(deep=True)\n",
    "faelle = faelle.replace(np.nan,\"nan\")\n",
    "faelle = faelle.values.tolist()\n",
    "faelle = [list(filter(lambda x: x==x, row)) for row in faelle]\n",
    "faelle"
   ]
  },
  {
   "cell_type": "code",
   "execution_count": 18,
   "metadata": {
    "scrolled": false
   },
   "outputs": [
    {
     "data": {
      "text/plain": [
       "[[],\n",
       " ['20', '19', '1'],\n",
       " ['413', '9'],\n",
       " ['34', '2'],\n",
       " ['41', '2'],\n",
       " ['44', '3'],\n",
       " ['46'],\n",
       " ['15'],\n",
       " ['16', '1'],\n",
       " ['995', '114'],\n",
       " [],\n",
       " ['16', '27'],\n",
       " ['3', '3'],\n",
       " [],\n",
       " ['1', '2'],\n",
       " ['1', '1'],\n",
       " ['1', '1']]"
      ]
     },
     "execution_count": 18,
     "metadata": {},
     "output_type": "execute_result"
    }
   ],
   "source": [
    "cases = []\n",
    "for row in faelle:\n",
    "    strings = []\n",
    "    if len(row) >=1 :\n",
    "        for string in row:\n",
    "            string = str(string)\n",
    "            found = re.findall(r\"(\\d{1,})\",string)\n",
    "            strings.extend([digit for digit in found if digit != '' and digit != \"0\"])\n",
    "        cases.append(strings)\n",
    "    else:\n",
    "        cases.append(row)\n",
    "cases"
   ]
  },
  {
   "cell_type": "code",
   "execution_count": 19,
   "metadata": {},
   "outputs": [
    {
     "data": {
      "text/plain": [
       "'Ausgangs- bzw. Ausbruchsland'"
      ]
     },
     "execution_count": 19,
     "metadata": {},
     "output_type": "execute_result"
    }
   ],
   "source": [
    "sources_filtered.columns[-4]"
   ]
  },
  {
   "cell_type": "code",
   "execution_count": 20,
   "metadata": {
    "scrolled": false
   },
   "outputs": [
    {
     "data": {
      "text/html": [
       "<div>\n",
       "<style scoped>\n",
       "    .dataframe tbody tr th:only-of-type {\n",
       "        vertical-align: middle;\n",
       "    }\n",
       "\n",
       "    .dataframe tbody tr th {\n",
       "        vertical-align: top;\n",
       "    }\n",
       "\n",
       "    .dataframe thead th {\n",
       "        text-align: right;\n",
       "    }\n",
       "</style>\n",
       "<table border=\"1\" class=\"dataframe\">\n",
       "  <thead>\n",
       "    <tr style=\"text-align: right;\">\n",
       "      <th></th>\n",
       "      <th>Ausgangs- bzw. Ausbruchsland</th>\n",
       "      <th>cases</th>\n",
       "      <th>dates</th>\n",
       "    </tr>\n",
       "  </thead>\n",
       "  <tbody>\n",
       "    <tr>\n",
       "      <th>25</th>\n",
       "      <td>Oman</td>\n",
       "      <td>[]</td>\n",
       "      <td>[2018-03-15]</td>\n",
       "    </tr>\n",
       "    <tr>\n",
       "      <th>52</th>\n",
       "      <td>Australia</td>\n",
       "      <td>[20, 19, 1]</td>\n",
       "      <td>[2018-04-13]</td>\n",
       "    </tr>\n",
       "    <tr>\n",
       "      <th>70</th>\n",
       "      <td>Nigeria</td>\n",
       "      <td>[413, 9]</td>\n",
       "      <td>[2018-04-15, 2018-04-20, 2018-04-18]</td>\n",
       "    </tr>\n",
       "    <tr>\n",
       "      <th>107</th>\n",
       "      <td>Democratic Republic of the Congo</td>\n",
       "      <td>[34, 2]</td>\n",
       "      <td>[2018-05-11, 2018-05-10]</td>\n",
       "    </tr>\n",
       "    <tr>\n",
       "      <th>112</th>\n",
       "      <td>Democratic Republic of the Congo</td>\n",
       "      <td>[41, 2]</td>\n",
       "      <td>[2018-05-15, 2018-05-14]</td>\n",
       "    </tr>\n",
       "    <tr>\n",
       "      <th>113</th>\n",
       "      <td>Democratic Republic of the Congo</td>\n",
       "      <td>[44, 3]</td>\n",
       "      <td>[2018-05-17, 2018-05-17]</td>\n",
       "    </tr>\n",
       "    <tr>\n",
       "      <th>120</th>\n",
       "      <td>Democratic Republic of the Congo</td>\n",
       "      <td>[46]</td>\n",
       "      <td>[2018-05-22, 2018-05-21]</td>\n",
       "    </tr>\n",
       "    <tr>\n",
       "      <th>140</th>\n",
       "      <td>India</td>\n",
       "      <td>[15]</td>\n",
       "      <td>[2018-05-31]</td>\n",
       "    </tr>\n",
       "    <tr>\n",
       "      <th>145</th>\n",
       "      <td>Cameroon</td>\n",
       "      <td>[16, 1]</td>\n",
       "      <td>[2018-06-05, 2018-06-05]</td>\n",
       "    </tr>\n",
       "    <tr>\n",
       "      <th>149</th>\n",
       "      <td>Brazil</td>\n",
       "      <td>[995, 114]</td>\n",
       "      <td>[2018-06-12]</td>\n",
       "    </tr>\n",
       "    <tr>\n",
       "      <th>163</th>\n",
       "      <td>Kenya</td>\n",
       "      <td>[]</td>\n",
       "      <td>[2018-06-18]</td>\n",
       "    </tr>\n",
       "    <tr>\n",
       "      <th>200</th>\n",
       "      <td>Democratic Republic of the Congo</td>\n",
       "      <td>[16, 27]</td>\n",
       "      <td>[2018-07-30, 2018-08-04]</td>\n",
       "    </tr>\n",
       "    <tr>\n",
       "      <th>202</th>\n",
       "      <td>Papua New Guinea</td>\n",
       "      <td>[3, 3]</td>\n",
       "      <td>[2018-08-07, 2018-06-25]</td>\n",
       "    </tr>\n",
       "    <tr>\n",
       "      <th>204</th>\n",
       "      <td>India</td>\n",
       "      <td>[]</td>\n",
       "      <td>[2018-08-07]</td>\n",
       "    </tr>\n",
       "    <tr>\n",
       "      <th>224</th>\n",
       "      <td>None</td>\n",
       "      <td>[1, 2]</td>\n",
       "      <td>[2018-07-02]</td>\n",
       "    </tr>\n",
       "    <tr>\n",
       "      <th>247</th>\n",
       "      <td>Französiche Guyana</td>\n",
       "      <td>[1, 1]</td>\n",
       "      <td>[2018-08-24]</td>\n",
       "    </tr>\n",
       "    <tr>\n",
       "      <th>257</th>\n",
       "      <td>United Kingdom</td>\n",
       "      <td>[1, 1]</td>\n",
       "      <td>[2018-08-31]</td>\n",
       "    </tr>\n",
       "  </tbody>\n",
       "</table>\n",
       "</div>"
      ],
      "text/plain": [
       "         Ausgangs- bzw. Ausbruchsland        cases  \\\n",
       "25                               Oman           []   \n",
       "52                          Australia  [20, 19, 1]   \n",
       "70                            Nigeria     [413, 9]   \n",
       "107  Democratic Republic of the Congo      [34, 2]   \n",
       "112  Democratic Republic of the Congo      [41, 2]   \n",
       "113  Democratic Republic of the Congo      [44, 3]   \n",
       "120  Democratic Republic of the Congo         [46]   \n",
       "140                             India         [15]   \n",
       "145                          Cameroon      [16, 1]   \n",
       "149                            Brazil   [995, 114]   \n",
       "163                             Kenya           []   \n",
       "200  Democratic Republic of the Congo     [16, 27]   \n",
       "202                  Papua New Guinea       [3, 3]   \n",
       "204                             India           []   \n",
       "224                              None       [1, 2]   \n",
       "247                Französiche Guyana       [1, 1]   \n",
       "257                    United Kingdom       [1, 1]   \n",
       "\n",
       "                                    dates  \n",
       "25                           [2018-03-15]  \n",
       "52                           [2018-04-13]  \n",
       "70   [2018-04-15, 2018-04-20, 2018-04-18]  \n",
       "107              [2018-05-11, 2018-05-10]  \n",
       "112              [2018-05-15, 2018-05-14]  \n",
       "113              [2018-05-17, 2018-05-17]  \n",
       "120              [2018-05-22, 2018-05-21]  \n",
       "140                          [2018-05-31]  \n",
       "145              [2018-06-05, 2018-06-05]  \n",
       "149                          [2018-06-12]  \n",
       "163                          [2018-06-18]  \n",
       "200              [2018-07-30, 2018-08-04]  \n",
       "202              [2018-08-07, 2018-06-25]  \n",
       "204                          [2018-08-07]  \n",
       "224                          [2018-07-02]  \n",
       "247                          [2018-08-24]  \n",
       "257                          [2018-08-31]  "
      ]
     },
     "execution_count": 20,
     "metadata": {},
     "output_type": "execute_result"
    }
   ],
   "source": [
    "comparable_edb = sources_filtered['Ausgangs- bzw. Ausbruchsland'].copy(deep=True).to_frame()\n",
    "comparable_edb[\"cases\"] = cases\n",
    "comparable_edb[\"dates\"] = dates\n",
    "comparable_edb"
   ]
  },
  {
   "cell_type": "code",
   "execution_count": 21,
   "metadata": {
    "scrolled": true
   },
   "outputs": [
    {
     "data": {
      "text/html": [
       "<div>\n",
       "<style scoped>\n",
       "    .dataframe tbody tr th:only-of-type {\n",
       "        vertical-align: middle;\n",
       "    }\n",
       "\n",
       "    .dataframe tbody tr th {\n",
       "        vertical-align: top;\n",
       "    }\n",
       "\n",
       "    .dataframe thead th {\n",
       "        text-align: right;\n",
       "    }\n",
       "</style>\n",
       "<table border=\"1\" class=\"dataframe\">\n",
       "  <thead>\n",
       "    <tr style=\"text-align: right;\">\n",
       "      <th></th>\n",
       "      <th>dates</th>\n",
       "      <th>cases</th>\n",
       "      <th>geonames</th>\n",
       "    </tr>\n",
       "  </thead>\n",
       "  <tbody>\n",
       "    <tr>\n",
       "      <th>0</th>\n",
       "      <td>[2018-11-27, 2018-10-01, 2018-01-01, 2018-11-2...</td>\n",
       "      <td>[36, 13, 9, 6, 6, 1, 1, 2, 42, 12, 6, 6, 125, ...</td>\n",
       "      <td>[Democratic Republic of the Congo, South Sudan...</td>\n",
       "    </tr>\n",
       "    <tr>\n",
       "      <th>1</th>\n",
       "      <td>[2018-11-16, 2018-11-01, 1920-11-14, 2018-11-2...</td>\n",
       "      <td>[18, 36, 7, 6, 1, 1, 1, 5, 39, 10, 6, 4, 113, ...</td>\n",
       "      <td>[Democratic Republic of the Congo, Democratic ...</td>\n",
       "    </tr>\n",
       "    <tr>\n",
       "      <th>2</th>\n",
       "      <td>[2018-11-01, 2018-10-16, 2018-10-30, 2005-01-01]</td>\n",
       "      <td>[4, 1, 1, 2266, 804, 1]</td>\n",
       "      <td>[Middle East, Kingdom of Saudi Arabia, Kingdom...</td>\n",
       "    </tr>\n",
       "    <tr>\n",
       "      <th>3</th>\n",
       "      <td>[2018-11-01, 2018-11-07, 2018-11-13, 2018-11-0...</td>\n",
       "      <td>[2, 1, 31, 4, 3, 3, 3, 31, 12, 9, 2, 103, 14, ...</td>\n",
       "      <td>[Democratic Republic of the Congo, Democratic ...</td>\n",
       "    </tr>\n",
       "    <tr>\n",
       "      <th>4</th>\n",
       "      <td>[2018-11-06, 2018-11-06, 2018-11-06, 2018-10-3...</td>\n",
       "      <td>[300, 31, 29, 15, 7, 4, 2, 2, 3, 28, 10, 88, 3...</td>\n",
       "      <td>[Democratic Republic of the Congo, Democratic ...</td>\n",
       "    </tr>\n",
       "  </tbody>\n",
       "</table>\n",
       "</div>"
      ],
      "text/plain": [
       "                                               dates  \\\n",
       "0  [2018-11-27, 2018-10-01, 2018-01-01, 2018-11-2...   \n",
       "1  [2018-11-16, 2018-11-01, 1920-11-14, 2018-11-2...   \n",
       "2   [2018-11-01, 2018-10-16, 2018-10-30, 2005-01-01]   \n",
       "3  [2018-11-01, 2018-11-07, 2018-11-13, 2018-11-0...   \n",
       "4  [2018-11-06, 2018-11-06, 2018-11-06, 2018-10-3...   \n",
       "\n",
       "                                               cases  \\\n",
       "0  [36, 13, 9, 6, 6, 1, 1, 2, 42, 12, 6, 6, 125, ...   \n",
       "1  [18, 36, 7, 6, 1, 1, 1, 5, 39, 10, 6, 4, 113, ...   \n",
       "2                            [4, 1, 1, 2266, 804, 1]   \n",
       "3  [2, 1, 31, 4, 3, 3, 3, 31, 12, 9, 2, 103, 14, ...   \n",
       "4  [300, 31, 29, 15, 7, 4, 2, 2, 3, 28, 10, 88, 3...   \n",
       "\n",
       "                                            geonames  \n",
       "0  [Democratic Republic of the Congo, South Sudan...  \n",
       "1  [Democratic Republic of the Congo, Democratic ...  \n",
       "2  [Middle East, Kingdom of Saudi Arabia, Kingdom...  \n",
       "3  [Democratic Republic of the Congo, Democratic ...  \n",
       "4  [Democratic Republic of the Congo, Democratic ...  "
      ]
     },
     "execution_count": 21,
     "metadata": {},
     "output_type": "execute_result"
    }
   ],
   "source": [
    "comparable_who.head()"
   ]
  },
  {
   "cell_type": "code",
   "execution_count": 23,
   "metadata": {},
   "outputs": [],
   "source": [
    "# Match countries\n",
    "found = 0\n",
    "found_c = []\n",
    "for state in comparable_edb[\"Ausgangs- bzw. Ausbruchsland\"]:\n",
    "    for i in comparable_who[\"geonames\"]:\n",
    "        if isinstance(state,str):\n",
    "            if list(filter(lambda x: re.findall(state,x),i)):\n",
    "                found_c.append(state)\n",
    "                found += 1\n",
    "                break\n",
    "\n",
    "                    "
   ]
  },
  {
   "cell_type": "code",
   "execution_count": 24,
   "metadata": {},
   "outputs": [
    {
     "data": {
      "text/plain": [
       "['Oman',\n",
       " 'Australia',\n",
       " 'Nigeria',\n",
       " 'Democratic Republic of the Congo',\n",
       " 'Democratic Republic of the Congo',\n",
       " 'Democratic Republic of the Congo',\n",
       " 'Democratic Republic of the Congo',\n",
       " 'India',\n",
       " 'Cameroon',\n",
       " 'Brazil',\n",
       " 'Kenya',\n",
       " 'Democratic Republic of the Congo',\n",
       " 'Papua New Guinea',\n",
       " 'India',\n",
       " 'United Kingdom']"
      ]
     },
     "execution_count": 24,
     "metadata": {},
     "output_type": "execute_result"
    }
   ],
   "source": [
    "found_c"
   ]
  },
  {
   "cell_type": "code",
   "execution_count": 25,
   "metadata": {},
   "outputs": [
    {
     "data": {
      "text/plain": [
       "[None, 'Französiche Guyana']"
      ]
     },
     "execution_count": 25,
     "metadata": {},
     "output_type": "execute_result"
    }
   ],
   "source": [
    "[i for i in comparable_edb[\"Ausgangs- bzw. Ausbruchsland\"] if i not in found_c]"
   ]
  },
  {
   "cell_type": "code",
   "execution_count": 56,
   "metadata": {},
   "outputs": [],
   "source": [
    "# Match dates\n",
    "from my_utils import matching_elements\n",
    "found_date = {}\n",
    "for index, dates in enumerate(comparable_edb[\"dates\"]):\n",
    "    for i in comparable_who[\"dates\"]:\n",
    "        matches = matching_elements(dates,i)\n",
    "        if len(matching_elemnts(dates,i)) >= 1:\n",
    "            found_date[index] = matches        "
   ]
  },
  {
   "cell_type": "code",
   "execution_count": 53,
   "metadata": {
    "scrolled": true
   },
   "outputs": [
    {
     "data": {
      "text/plain": [
       "{0: ['2018-03-15'],\n",
       " 2: ['2018-04-15'],\n",
       " 3: ['2018-05-10'],\n",
       " 4: ['2018-05-15', '2018-05-14'],\n",
       " 5: ['2018-05-17', '2018-05-17'],\n",
       " 6: ['2018-05-21'],\n",
       " 7: ['2018-05-31'],\n",
       " 8: ['2018-06-05', '2018-06-05'],\n",
       " 9: ['2018-06-12'],\n",
       " 10: ['2018-06-18'],\n",
       " 11: ['2018-07-30'],\n",
       " 12: ['2018-08-07'],\n",
       " 13: ['2018-08-07'],\n",
       " 15: ['2018-08-24'],\n",
       " 16: ['2018-08-31']}"
      ]
     },
     "execution_count": 53,
     "metadata": {},
     "output_type": "execute_result"
    }
   ],
   "source": [
    "found_date"
   ]
  },
  {
   "cell_type": "code",
   "execution_count": 57,
   "metadata": {},
   "outputs": [],
   "source": [
    "found_cases = {}\n",
    "for index, cases in enumerate(comparable_edb[\"cases\"]):\n",
    "    for i in comparable_who[\"cases\"]:\n",
    "        matches = matching_elements(cases,i)\n",
    "        if len(matching_elemnts(dates,i)) >= 1:\n",
    "            found_cases[index] = matches  "
   ]
  },
  {
   "cell_type": "code",
   "execution_count": 59,
   "metadata": {},
   "outputs": [
    {
     "data": {
      "text/plain": [
       "25              []\n",
       "52     [20, 19, 1]\n",
       "70        [413, 9]\n",
       "107        [34, 2]\n",
       "112        [41, 2]\n",
       "113        [44, 3]\n",
       "120           [46]\n",
       "140           [15]\n",
       "145        [16, 1]\n",
       "149     [995, 114]\n",
       "163             []\n",
       "200       [16, 27]\n",
       "202         [3, 3]\n",
       "204             []\n",
       "224         [1, 2]\n",
       "247         [1, 1]\n",
       "257         [1, 1]\n",
       "Name: cases, dtype: object"
      ]
     },
     "execution_count": 59,
     "metadata": {},
     "output_type": "execute_result"
    }
   ],
   "source": [
    "comparable_edb[\"cases\"]"
   ]
  },
  {
   "cell_type": "code",
   "execution_count": 26,
   "metadata": {},
   "outputs": [
    {
     "ename": "SyntaxError",
     "evalue": "invalid syntax (<ipython-input-26-73a8da0f66bc>, line 8)",
     "output_type": "error",
     "traceback": [
      "\u001b[0;36m  File \u001b[0;32m\"<ipython-input-26-73a8da0f66bc>\"\u001b[0;36m, line \u001b[0;32m8\u001b[0m\n\u001b[0;31m    if set()\u001b[0m\n\u001b[0m            ^\u001b[0m\n\u001b[0;31mSyntaxError\u001b[0m\u001b[0;31m:\u001b[0m invalid syntax\n"
     ]
    }
   ],
   "source": [
    "def find_matches(df1_and_indices, df2_and_indices):\n",
    "    indices_matches = []\n",
    "    matches = []\n",
    "    df1, columns1 = df1_and_indices\n",
    "    df2, columns2 = df2_and_indices\n",
    "    for index , row in df1.iterrows():\n",
    "        for _, row in df2.iterrows():\n",
    "            if set()"
   ]
  },
  {
   "cell_type": "code",
   "execution_count": null,
   "metadata": {},
   "outputs": [],
   "source": []
  },
  {
   "cell_type": "code",
   "execution_count": null,
   "metadata": {},
   "outputs": [],
   "source": []
  },
  {
   "cell_type": "code",
   "execution_count": null,
   "metadata": {},
   "outputs": [],
   "source": [
    "sources_filtered.columns[-2::-3]"
   ]
  },
  {
   "cell_type": "code",
   "execution_count": null,
   "metadata": {},
   "outputs": [],
   "source": [
    "# Idea which is not correct and not complete\n",
    "date_matches = {}\n",
    "for column in sources_filtered.columns[-2::-3]: # Use only the columns mentioning dates\n",
    "    date_matches[column] = [i for i in range(len(parsed_whos_df))\\\n",
    "                            if list(map(lambda x: str(x)[:-3],parsed_whos_df[\"date\"].tolist()))[i] \\\n",
    "                            in list(map(lambda x: str(x)[:-12],sources_filtered[column].tolist()))]"
   ]
  },
  {
   "cell_type": "code",
   "execution_count": null,
   "metadata": {},
   "outputs": [],
   "source": [
    "import itertools\n",
    "indices_that_matched = list(set(itertools.chain(*date_matches.values())))"
   ]
  },
  {
   "cell_type": "code",
   "execution_count": null,
   "metadata": {},
   "outputs": [],
   "source": []
  },
  {
   "cell_type": "markdown",
   "metadata": {},
   "source": [
    "# To present"
   ]
  },
  {
   "cell_type": "code",
   "execution_count": null,
   "metadata": {},
   "outputs": [],
   "source": [
    "ereignisdatenbank.iloc[sources_filtered.index.tolist(),[3,6,7,9]]"
   ]
  },
  {
   "cell_type": "code",
   "execution_count": null,
   "metadata": {},
   "outputs": [],
   "source": [
    "parsed_whos_df.iloc[indices_that_matched,1:].sort_values(\"date\")"
   ]
  },
  {
   "cell_type": "code",
   "execution_count": null,
   "metadata": {},
   "outputs": [],
   "source": [
    "# Prettify the link description\n",
    "link_description = [re.search(r'don/(.*)/en',all_links[i])[1]\\\n",
    "                    .replace('-', ' ',2).replace('-',', ',2).replace('-',' ')\\\n",
    "                    for i in range(len(all_links))]"
   ]
  },
  {
   "cell_type": "code",
   "execution_count": null,
   "metadata": {},
   "outputs": [],
   "source": [
    "# Extract the most important columns\n",
    "compare = parsed_whos_df.iloc[:,[1,3,4]].copy()\n",
    "compare['link_description'] = pd.Series(link_description,index=compare.index)"
   ]
  },
  {
   "cell_type": "code",
   "execution_count": null,
   "metadata": {
    "scrolled": false
   },
   "outputs": [],
   "source": [
    "compare[\"date\"].iloc[0]"
   ]
  },
  {
   "cell_type": "code",
   "execution_count": null,
   "metadata": {},
   "outputs": [],
   "source": [
    "# These are the links that were faulty during annotation\n",
    "to_check = compare[compare[\"keyword\"].isnull()==True].index.values\n",
    "links_to_check = np.asarray(all_links)[to_check] # Get the links that caused the bad annotations"
   ]
  },
  {
   "cell_type": "code",
   "execution_count": null,
   "metadata": {},
   "outputs": [],
   "source": [
    "annotated_faulty_text = create_annotated_database(extract(links_to_check),raw=True)"
   ]
  },
  {
   "cell_type": "code",
   "execution_count": null,
   "metadata": {},
   "outputs": [],
   "source": [
    "faulty_df = pd.DataFrame.from_dict(annotated_faulty_text).iloc[:,1:]\n",
    "faulty_df"
   ]
  },
  {
   "cell_type": "code",
   "execution_count": null,
   "metadata": {},
   "outputs": [],
   "source": [
    "# Entries that had the occurence of a geographical entity more than once\n",
    "parsed_whos_df[parsed_whos_df[\"geoname\"].str.len()>1]"
   ]
  },
  {
   "cell_type": "code",
   "execution_count": null,
   "metadata": {},
   "outputs": [],
   "source": []
  }
 ],
 "metadata": {
  "kernelspec": {
   "display_name": "Python 3",
   "language": "python",
   "name": "python3"
  },
  "language_info": {
   "codemirror_mode": {
    "name": "ipython",
    "version": 3
   },
   "file_extension": ".py",
   "mimetype": "text/x-python",
   "name": "python",
   "nbconvert_exporter": "python",
   "pygments_lexer": "ipython3",
   "version": "3.6.7"
  }
 },
 "nbformat": 4,
 "nbformat_minor": 2
}
