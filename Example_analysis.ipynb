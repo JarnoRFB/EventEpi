{
 "cells": [
  {
   "cell_type": "code",
   "execution_count": 2,
   "metadata": {},
   "outputs": [
    {
     "ename": "ModuleNotFoundError",
     "evalue": "No module named 'spacy'",
     "output_type": "error",
     "traceback": [
      "\u001b[0;31m---------------------------------------------------------------------------\u001b[0m",
      "\u001b[0;31mModuleNotFoundError\u001b[0m                       Traceback (most recent call last)",
      "\u001b[0;32m<ipython-input-2-5f7914793097>\u001b[0m in \u001b[0;36m<module>\u001b[0;34m()\u001b[0m\n\u001b[0;32m----> 1\u001b[0;31m \u001b[0;32mimport\u001b[0m \u001b[0mspacy\u001b[0m\u001b[0;34m\u001b[0m\u001b[0m\n\u001b[0m\u001b[1;32m      2\u001b[0m \u001b[0mspacy\u001b[0m\u001b[0;34m.\u001b[0m\u001b[0mload\u001b[0m\u001b[0;34m(\u001b[0m\u001b[0;34m'en_core_web_sm'\u001b[0m\u001b[0;34m)\u001b[0m\u001b[0;34m\u001b[0m\u001b[0m\n\u001b[1;32m      3\u001b[0m \u001b[0;32mfrom\u001b[0m \u001b[0mepitator\u001b[0m\u001b[0;34m.\u001b[0m\u001b[0mannotator\u001b[0m \u001b[0;32mimport\u001b[0m \u001b[0mAnnoDoc\u001b[0m\u001b[0;34m\u001b[0m\u001b[0m\n\u001b[1;32m      4\u001b[0m \u001b[0;32mfrom\u001b[0m \u001b[0mepitator\u001b[0m\u001b[0;34m.\u001b[0m\u001b[0mgeoname_annotator\u001b[0m \u001b[0;32mimport\u001b[0m \u001b[0mGeonameAnnotator\u001b[0m\u001b[0;34m\u001b[0m\u001b[0m\n\u001b[1;32m      5\u001b[0m \u001b[0;32mfrom\u001b[0m \u001b[0mepitator\u001b[0m\u001b[0;34m.\u001b[0m\u001b[0mresolved_keyword_annotator\u001b[0m \u001b[0;32mimport\u001b[0m \u001b[0mResolvedKeywordAnnotator\u001b[0m\u001b[0;34m\u001b[0m\u001b[0m\n",
      "\u001b[0;31mModuleNotFoundError\u001b[0m: No module named 'spacy'"
     ]
    }
   ],
   "source": [
    "import spacy\n",
    "spacy.load('en_core_web_sm')\n",
    "from epitator.annotator import AnnoDoc\n",
    "from epitator.geoname_annotator import GeonameAnnotator\n",
    "from epitator.resolved_keyword_annotator import ResolvedKeywordAnnotator\n",
    "from epitator.count_annotator import CountAnnotator\n",
    "from epitator.date_annotator import DateAnnotator\n",
    "from boilerpipe.extract import Extractor\n",
    "from itertools import groupby\n",
    "import datetime\n",
    "import sys\n",
    "import pandas as pd\n",
    "import re\n",
    "from tqdm import tqdm_notebook as tqdm\n",
    "import numpy as np\n",
    "import epitator"
   ]
  },
  {
   "cell_type": "markdown",
   "metadata": {},
   "source": [
    "# Scrape"
   ]
  },
  {
   "cell_type": "code",
   "execution_count": 20,
   "metadata": {},
   "outputs": [
    {
     "data": {
      "application/vnd.jupyter.widget-view+json": {
       "model_id": "ee06def74a734b1596d5977d2db59a2a",
       "version_major": 2,
       "version_minor": 0
      },
      "text/plain": [
       "HBox(children=(IntProgress(value=0, max=81), HTML(value='')))"
      ]
     },
     "metadata": {},
     "output_type": "display_data"
    },
    {
     "name": "stdout",
     "output_type": "stream",
     "text": [
      "\n"
     ]
    },
    {
     "data": {
      "application/vnd.jupyter.widget-view+json": {
       "model_id": "8416a1c5d6ef472c82ee87226795e6a0",
       "version_major": 2,
       "version_minor": 0
      },
      "text/plain": [
       "HBox(children=(IntProgress(value=0, max=81), HTML(value='')))"
      ]
     },
     "metadata": {},
     "output_type": "display_data"
    },
    {
     "name": "stdout",
     "output_type": "stream",
     "text": [
      "\n"
     ]
    },
    {
     "data": {
      "text/html": [
       "<div>\n",
       "<style scoped>\n",
       "    .dataframe tbody tr th:only-of-type {\n",
       "        vertical-align: middle;\n",
       "    }\n",
       "\n",
       "    .dataframe tbody tr th {\n",
       "        vertical-align: top;\n",
       "    }\n",
       "\n",
       "    .dataframe thead th {\n",
       "        text-align: right;\n",
       "    }\n",
       "</style>\n",
       "<table border=\"1\" class=\"dataframe\">\n",
       "  <thead>\n",
       "    <tr style=\"text-align: right;\">\n",
       "      <th></th>\n",
       "      <th>text</th>\n",
       "      <th>date</th>\n",
       "      <th>confirmed_cases</th>\n",
       "      <th>keyword</th>\n",
       "      <th>geoname</th>\n",
       "    </tr>\n",
       "  </thead>\n",
       "  <tbody>\n",
       "    <tr>\n",
       "      <th>0</th>\n",
       "      <td>Ebola virus disease – Democratic Republic of t...</td>\n",
       "      <td>2018-11-13</td>\n",
       "      <td>[]</td>\n",
       "      <td>Ebola hemorrhagic fever</td>\n",
       "      <td>[Democratic Republic of the Congo]</td>\n",
       "    </tr>\n",
       "    <tr>\n",
       "      <th>1</th>\n",
       "      <td>Ebola virus disease – Democratic Republic of t...</td>\n",
       "      <td>2018-11-06</td>\n",
       "      <td>[]</td>\n",
       "      <td>Ebola hemorrhagic fever</td>\n",
       "      <td>[Democratic Republic of the Congo]</td>\n",
       "    </tr>\n",
       "    <tr>\n",
       "      <th>2</th>\n",
       "      <td>Middle East respiratory syndrome coronavirus (...</td>\n",
       "      <td>2018-09-17</td>\n",
       "      <td>[2005]</td>\n",
       "      <td>Middle East respiratory syndrome</td>\n",
       "      <td>[Kingdom of Saudi Arabia, Middle East]</td>\n",
       "    </tr>\n",
       "    <tr>\n",
       "      <th>3</th>\n",
       "      <td>Ebola virus disease – Democratic Republic of t...</td>\n",
       "      <td>2018-10-30</td>\n",
       "      <td>[1, 1]</td>\n",
       "      <td>Ebola hemorrhagic fever</td>\n",
       "      <td>[Democratic Republic of the Congo]</td>\n",
       "    </tr>\n",
       "    <tr>\n",
       "      <th>4</th>\n",
       "      <td>Circulating vaccine-derived poliovirus type 2 ...</td>\n",
       "      <td>2018-01-01</td>\n",
       "      <td>[]</td>\n",
       "      <td>poliomyelitis</td>\n",
       "      <td>[Federal Republic of Nigeria, Republic of Niger]</td>\n",
       "    </tr>\n",
       "  </tbody>\n",
       "</table>\n",
       "</div>"
      ],
      "text/plain": [
       "                                                text        date  \\\n",
       "0  Ebola virus disease – Democratic Republic of t...  2018-11-13   \n",
       "1  Ebola virus disease – Democratic Republic of t...  2018-11-06   \n",
       "2  Middle East respiratory syndrome coronavirus (...  2018-09-17   \n",
       "3  Ebola virus disease – Democratic Republic of t...  2018-10-30   \n",
       "4  Circulating vaccine-derived poliovirus type 2 ...  2018-01-01   \n",
       "\n",
       "  confirmed_cases                           keyword  \\\n",
       "0              []           Ebola hemorrhagic fever   \n",
       "1              []           Ebola hemorrhagic fever   \n",
       "2          [2005]  Middle East respiratory syndrome   \n",
       "3          [1, 1]           Ebola hemorrhagic fever   \n",
       "4              []                     poliomyelitis   \n",
       "\n",
       "                                            geoname  \n",
       "0                [Democratic Republic of the Congo]  \n",
       "1                [Democratic Republic of the Congo]  \n",
       "2            [Kingdom of Saudi Arabia, Middle East]  \n",
       "3                [Democratic Republic of the Congo]  \n",
       "4  [Federal Republic of Nigeria, Republic of Niger]  "
      ]
     },
     "execution_count": 20,
     "metadata": {},
     "output_type": "execute_result"
    }
   ],
   "source": [
    "parsed_whos_df = pd.DataFrame.from_dict(create_annotated_database(extract(all_links)))\n",
    "parsed_whos_df.head()"
   ]
  },
  {
   "cell_type": "code",
   "execution_count": 21,
   "metadata": {},
   "outputs": [],
   "source": [
    "pickle.dump( parsed_whos_df, open( \"parsed_whos_df.p\", \"wb\" ) )"
   ]
  },
  {
   "cell_type": "code",
   "execution_count": null,
   "metadata": {},
   "outputs": [],
   "source": [
    "from who_scraper import *"
   ]
  },
  {
   "cell_type": "code",
   "execution_count": 19,
   "metadata": {},
   "outputs": [],
   "source": [
    "# Scrape all the WHO DONs of the year 2018\n",
    "all_links = scrape(years=['2018'],proxies=None)"
   ]
  },
  {
   "cell_type": "code",
   "execution_count": 131,
   "metadata": {},
   "outputs": [],
   "source": [
    "# Extract the main text of the given links\n",
    "from boilerpipe.extract import Extractor\n",
    "def extract(list_of_links):\n",
    "    \"\"\"Extracts the main content from a list of links and returns a list of texts (str)\n",
    "\n",
    "    list_of_links -- a list containing URLs of webpages to get the main content from\n",
    "    \"\"\"\n",
    "    if type(list_of_links) == str:\n",
    "        list_of_links = [list_of_links]\n",
    "    return[Extractor(extractor='ArticleExtractor', url=url).getText().replace('\\n','') \\\n",
    "         for url in tqdm(list_of_links)]"
   ]
  },
  {
   "cell_type": "code",
   "execution_count": 22,
   "metadata": {},
   "outputs": [],
   "source": [
    "parsed_whos_df = pickle.load( open( \"parsed_whos_df.p\", \"rb\" ) )"
   ]
  },
  {
   "cell_type": "code",
   "execution_count": 23,
   "metadata": {},
   "outputs": [
    {
     "data": {
      "text/html": [
       "<div>\n",
       "<style scoped>\n",
       "    .dataframe tbody tr th:only-of-type {\n",
       "        vertical-align: middle;\n",
       "    }\n",
       "\n",
       "    .dataframe tbody tr th {\n",
       "        vertical-align: top;\n",
       "    }\n",
       "\n",
       "    .dataframe thead th {\n",
       "        text-align: right;\n",
       "    }\n",
       "</style>\n",
       "<table border=\"1\" class=\"dataframe\">\n",
       "  <thead>\n",
       "    <tr style=\"text-align: right;\">\n",
       "      <th></th>\n",
       "      <th>text</th>\n",
       "      <th>date</th>\n",
       "      <th>confirmed_cases</th>\n",
       "      <th>keyword</th>\n",
       "      <th>geoname</th>\n",
       "    </tr>\n",
       "  </thead>\n",
       "  <tbody>\n",
       "    <tr>\n",
       "      <th>0</th>\n",
       "      <td>Ebola virus disease – Democratic Republic of t...</td>\n",
       "      <td>2018-11-13</td>\n",
       "      <td>[]</td>\n",
       "      <td>Ebola hemorrhagic fever</td>\n",
       "      <td>[Democratic Republic of the Congo]</td>\n",
       "    </tr>\n",
       "    <tr>\n",
       "      <th>1</th>\n",
       "      <td>Ebola virus disease – Democratic Republic of t...</td>\n",
       "      <td>2018-11-06</td>\n",
       "      <td>[]</td>\n",
       "      <td>Ebola hemorrhagic fever</td>\n",
       "      <td>[Democratic Republic of the Congo]</td>\n",
       "    </tr>\n",
       "    <tr>\n",
       "      <th>2</th>\n",
       "      <td>Middle East respiratory syndrome coronavirus (...</td>\n",
       "      <td>2018-09-17</td>\n",
       "      <td>[2005]</td>\n",
       "      <td>Middle East respiratory syndrome</td>\n",
       "      <td>[Kingdom of Saudi Arabia, Middle East]</td>\n",
       "    </tr>\n",
       "    <tr>\n",
       "      <th>3</th>\n",
       "      <td>Ebola virus disease – Democratic Republic of t...</td>\n",
       "      <td>2018-10-30</td>\n",
       "      <td>[1, 1]</td>\n",
       "      <td>Ebola hemorrhagic fever</td>\n",
       "      <td>[Democratic Republic of the Congo]</td>\n",
       "    </tr>\n",
       "    <tr>\n",
       "      <th>4</th>\n",
       "      <td>Circulating vaccine-derived poliovirus type 2 ...</td>\n",
       "      <td>2018-01-01</td>\n",
       "      <td>[]</td>\n",
       "      <td>poliomyelitis</td>\n",
       "      <td>[Federal Republic of Nigeria, Republic of Niger]</td>\n",
       "    </tr>\n",
       "  </tbody>\n",
       "</table>\n",
       "</div>"
      ],
      "text/plain": [
       "                                                text        date  \\\n",
       "0  Ebola virus disease – Democratic Republic of t...  2018-11-13   \n",
       "1  Ebola virus disease – Democratic Republic of t...  2018-11-06   \n",
       "2  Middle East respiratory syndrome coronavirus (...  2018-09-17   \n",
       "3  Ebola virus disease – Democratic Republic of t...  2018-10-30   \n",
       "4  Circulating vaccine-derived poliovirus type 2 ...  2018-01-01   \n",
       "\n",
       "  confirmed_cases                           keyword  \\\n",
       "0              []           Ebola hemorrhagic fever   \n",
       "1              []           Ebola hemorrhagic fever   \n",
       "2          [2005]  Middle East respiratory syndrome   \n",
       "3          [1, 1]           Ebola hemorrhagic fever   \n",
       "4              []                     poliomyelitis   \n",
       "\n",
       "                                            geoname  \n",
       "0                [Democratic Republic of the Congo]  \n",
       "1                [Democratic Republic of the Congo]  \n",
       "2            [Kingdom of Saudi Arabia, Middle East]  \n",
       "3                [Democratic Republic of the Congo]  \n",
       "4  [Federal Republic of Nigeria, Republic of Niger]  "
      ]
     },
     "execution_count": 23,
     "metadata": {},
     "output_type": "execute_result"
    }
   ],
   "source": [
    "parsed_whos_df.head()"
   ]
  },
  {
   "cell_type": "markdown",
   "metadata": {},
   "source": [
    "## Compare with Ereignisdatenbank (incident report). From here not put into .py"
   ]
  },
  {
   "cell_type": "code",
   "execution_count": 333,
   "metadata": {
    "scrolled": true
   },
   "outputs": [],
   "source": [
    "# Read in with columns with sources only\n",
    "ereignisdatenbank = pd.read_csv(\"Ereignisse_utf8.csv\",sep=\";\")"
   ]
  },
  {
   "cell_type": "code",
   "execution_count": 334,
   "metadata": {},
   "outputs": [
    {
     "data": {
      "text/html": [
       "<div>\n",
       "<style scoped>\n",
       "    .dataframe tbody tr th:only-of-type {\n",
       "        vertical-align: middle;\n",
       "    }\n",
       "\n",
       "    .dataframe tbody tr th {\n",
       "        vertical-align: top;\n",
       "    }\n",
       "\n",
       "    .dataframe thead th {\n",
       "        text-align: right;\n",
       "    }\n",
       "</style>\n",
       "<table border=\"1\" class=\"dataframe\">\n",
       "  <thead>\n",
       "    <tr style=\"text-align: right;\">\n",
       "      <th></th>\n",
       "      <th>Quelle 1*</th>\n",
       "      <th>Datum der Veröffentlichung der Quelle1</th>\n",
       "      <th>Link zur Quelle 1</th>\n",
       "      <th>Quelle 2</th>\n",
       "      <th>Datum der Veröffentlichung der Quelle 2</th>\n",
       "      <th>Link zur Quelle 2</th>\n",
       "      <th>Quelle 3</th>\n",
       "      <th>Datum der Veröffentlichung der Quelle 3</th>\n",
       "      <th>Link zur Quelle 3</th>\n",
       "      <th>Quelle 4</th>\n",
       "      <th>Datum der Veröffentlichung der Quelle 4</th>\n",
       "    </tr>\n",
       "  </thead>\n",
       "  <tbody>\n",
       "    <tr>\n",
       "      <th>0</th>\n",
       "      <td>WHO AFRO Bericht</td>\n",
       "      <td>12.03.2018</td>\n",
       "      <td>&lt;http://apps.who.int/iris/bitstream/10665/2604...</td>\n",
       "      <td>NCDC</td>\n",
       "      <td>18.03.2018</td>\n",
       "      <td>NaN</td>\n",
       "      <td>NaN</td>\n",
       "      <td>NaN</td>\n",
       "      <td>NaN</td>\n",
       "      <td>NaN</td>\n",
       "      <td>NaN</td>\n",
       "    </tr>\n",
       "    <tr>\n",
       "      <th>1</th>\n",
       "      <td>WHO AFRO Bericht</td>\n",
       "      <td>12.03.2018</td>\n",
       "      <td>&lt;http://apps.who.int/iris/bitstream/10665/2604...</td>\n",
       "      <td>NaN</td>\n",
       "      <td>NaN</td>\n",
       "      <td>NaN</td>\n",
       "      <td>NaN</td>\n",
       "      <td>NaN</td>\n",
       "      <td>NaN</td>\n",
       "      <td>NaN</td>\n",
       "      <td>NaN</td>\n",
       "    </tr>\n",
       "    <tr>\n",
       "      <th>2</th>\n",
       "      <td>WHO AFRO Bericht</td>\n",
       "      <td>21.03.2018</td>\n",
       "      <td>&lt;http://apps.who.int/iris/bitstream/10665/2604...</td>\n",
       "      <td>NaN</td>\n",
       "      <td>NaN</td>\n",
       "      <td>NaN</td>\n",
       "      <td>NaN</td>\n",
       "      <td>NaN</td>\n",
       "      <td>NaN</td>\n",
       "      <td>NaN</td>\n",
       "      <td>NaN</td>\n",
       "    </tr>\n",
       "    <tr>\n",
       "      <th>3</th>\n",
       "      <td>WHO AFRO Bericht</td>\n",
       "      <td>12.03.2018</td>\n",
       "      <td>&lt;http://apps.who.int/iris/bitstream/10665/2604...</td>\n",
       "      <td>NaN</td>\n",
       "      <td>NaN</td>\n",
       "      <td>NaN</td>\n",
       "      <td>NaN</td>\n",
       "      <td>NaN</td>\n",
       "      <td>NaN</td>\n",
       "      <td>NaN</td>\n",
       "      <td>NaN</td>\n",
       "    </tr>\n",
       "    <tr>\n",
       "      <th>4</th>\n",
       "      <td>ProMED-mail</td>\n",
       "      <td>21.03.2018</td>\n",
       "      <td>NaN</td>\n",
       "      <td>MoH Fiji</td>\n",
       "      <td>NaN</td>\n",
       "      <td>NaN</td>\n",
       "      <td>NaN</td>\n",
       "      <td>NaN</td>\n",
       "      <td>NaN</td>\n",
       "      <td>NaN</td>\n",
       "      <td>NaN</td>\n",
       "    </tr>\n",
       "  </tbody>\n",
       "</table>\n",
       "</div>"
      ],
      "text/plain": [
       "          Quelle 1* Datum der Veröffentlichung der Quelle1  \\\n",
       "0  WHO AFRO Bericht                             12.03.2018   \n",
       "1  WHO AFRO Bericht                             12.03.2018   \n",
       "2  WHO AFRO Bericht                             21.03.2018   \n",
       "3  WHO AFRO Bericht                             12.03.2018   \n",
       "4      ProMED-mail                              21.03.2018   \n",
       "\n",
       "                                   Link zur Quelle 1  Quelle 2  \\\n",
       "0  <http://apps.who.int/iris/bitstream/10665/2604...     NCDC    \n",
       "1  <http://apps.who.int/iris/bitstream/10665/2604...       NaN   \n",
       "2  <http://apps.who.int/iris/bitstream/10665/2604...       NaN   \n",
       "3  <http://apps.who.int/iris/bitstream/10665/2604...       NaN   \n",
       "4                                                NaN  MoH Fiji   \n",
       "\n",
       "  Datum der Veröffentlichung der Quelle 2 Link zur Quelle 2 Quelle 3  \\\n",
       "0                              18.03.2018               NaN      NaN   \n",
       "1                                     NaN               NaN      NaN   \n",
       "2                                     NaN               NaN      NaN   \n",
       "3                                     NaN               NaN      NaN   \n",
       "4                                     NaN               NaN      NaN   \n",
       "\n",
       "  Datum der Veröffentlichung der Quelle 3 Link zur Quelle 3 Quelle 4  \\\n",
       "0                                     NaN               NaN      NaN   \n",
       "1                                     NaN               NaN      NaN   \n",
       "2                                     NaN               NaN      NaN   \n",
       "3                                     NaN               NaN      NaN   \n",
       "4                                     NaN               NaN      NaN   \n",
       "\n",
       "  Datum der Veröffentlichung der Quelle 4  \n",
       "0                                     NaN  \n",
       "1                                     NaN  \n",
       "2                                     NaN  \n",
       "3                                     NaN  \n",
       "4                                     NaN  "
      ]
     },
     "execution_count": 334,
     "metadata": {},
     "output_type": "execute_result"
    }
   ],
   "source": [
    "sources = ereignisdatenbank.iloc[:,15:26] # Get only the columns mentioning sources\n",
    "sources = sources.dropna(how=\"all\").reset_index(drop=True) # Drop empty rows at the end\n",
    "sources.head()"
   ]
  },
  {
   "cell_type": "code",
   "execution_count": 335,
   "metadata": {},
   "outputs": [],
   "source": [
    "mask = sources.copy(deep=True) # Create a mask for filtering\n",
    "for column in sources.columns:\n",
    "    mask[column] = sources[column].str.contains('who',na=False) # Extract all the entries that have the word \"who\"\n",
    "    mask[column] = sources[column].str.contains('don',na=False) # and \"don\"\n",
    "indices = [i for i in range(len(mask)) if not mask.iloc[i].any()] \n",
    "sources_filtered = sources.drop(np.reshape(indices,(len(indices),))) # Drop all rows that don't mention \"who\" or \"don\""
   ]
  },
  {
   "cell_type": "code",
   "execution_count": 424,
   "metadata": {},
   "outputs": [],
   "source": [
    "# TO .PY\n",
    "# Transform time to timestamp\n",
    "def ereignisdatenbank_to_timestamp(dataframe):\n",
    "    \"\"\"Transforms an unconverted string to timestamp\"\"\"\n",
    "    if type(dataframe) == pd.core.frame.DataFrame:\n",
    "        for column in dataframe:\n",
    "            dataframe[column] = dataframe[column].astype(str)\n",
    "            dataframe[column] = dataframe[column].str.replace('.', ' ')\n",
    "            dataframe[column] = \\\n",
    "            dataframe[column].apply(lambda x: datetime.datetime.strptime(x,'%d %m %Y').strftime(\"%Y-%m-%d\")\\\n",
    "                                    if re.match(r\"\\d\\d.\\d\\d.\\d\\d\\d\\d\",x) and \"-\" not in x\n",
    "                                    else x)\n",
    "        return dataframe\n",
    "    elif type(dataframe) == pd.core.series.Series:\n",
    "        dataframe = dataframe.astype(str)\n",
    "        dataframe = dataframe.str.replace('.', ' ')\n",
    "        dataframe = \\\n",
    "        dataframe.apply(lambda x: datetime.datetime.strptime(x,'%d %m %Y').strftime(\"%Y-%m-%d\")\\\n",
    "                        if re.match(r\"\\d\\d.\\d\\d.\\d\\d\\d\\d\",x) and \"-\" not in x\n",
    "                        else x)\n",
    "        return dataframe"
   ]
  },
  {
   "cell_type": "code",
   "execution_count": 328,
   "metadata": {},
   "outputs": [],
   "source": [
    "sources_filtered = ereignisdatenbank_to_timestamp(sources_filtered)"
   ]
  },
  {
   "cell_type": "code",
   "execution_count": 307,
   "metadata": {},
   "outputs": [],
   "source": [
    "# Idea which is not correct and not complete\n",
    "date_matches = {}\n",
    "for column in sources_filtered.columns[::-3]: # Use only the columns mentioning dates\n",
    "    date_matches[column] = [i for i in range(len(parsed_whos_df))\\\n",
    "                            if list(map(lambda x: str(x)[:-3],parsed_whos_df[\"date\"].tolist()))[i] \\\n",
    "                            in list(map(lambda x: str(x)[:-12],sources_filtered[column].tolist()))]"
   ]
  },
  {
   "cell_type": "code",
   "execution_count": 308,
   "metadata": {},
   "outputs": [],
   "source": [
    "import itertools\n",
    "indices_that_matched = list(set(itertools.chain(*date_matches.values())))"
   ]
  },
  {
   "cell_type": "code",
   "execution_count": 309,
   "metadata": {},
   "outputs": [
    {
     "data": {
      "text/html": [
       "<div>\n",
       "<style scoped>\n",
       "    .dataframe tbody tr th:only-of-type {\n",
       "        vertical-align: middle;\n",
       "    }\n",
       "\n",
       "    .dataframe tbody tr th {\n",
       "        vertical-align: top;\n",
       "    }\n",
       "\n",
       "    .dataframe thead th {\n",
       "        text-align: right;\n",
       "    }\n",
       "</style>\n",
       "<table border=\"1\" class=\"dataframe\">\n",
       "  <thead>\n",
       "    <tr style=\"text-align: right;\">\n",
       "      <th></th>\n",
       "      <th>Ausgangs- bzw. Ausbruchsland</th>\n",
       "      <th>Krankheitsbild(er)</th>\n",
       "      <th>Frühestbekannter Ereignisbeginn</th>\n",
       "      <th>Fälle gesamt*</th>\n",
       "    </tr>\n",
       "  </thead>\n",
       "  <tbody>\n",
       "    <tr>\n",
       "      <th>25</th>\n",
       "      <td>Oman</td>\n",
       "      <td>MERS</td>\n",
       "      <td>NaN</td>\n",
       "      <td>NaN</td>\n",
       "    </tr>\n",
       "    <tr>\n",
       "      <th>52</th>\n",
       "      <td>Australien</td>\n",
       "      <td>Listeriose</td>\n",
       "      <td>17.01.2018</td>\n",
       "      <td>20</td>\n",
       "    </tr>\n",
       "    <tr>\n",
       "      <th>70</th>\n",
       "      <td>Nigeria</td>\n",
       "      <td>Lassafieber</td>\n",
       "      <td>01.01.2018</td>\n",
       "      <td>NaN</td>\n",
       "    </tr>\n",
       "    <tr>\n",
       "      <th>107</th>\n",
       "      <td>Demokratische Republik Kongo</td>\n",
       "      <td>Ebola</td>\n",
       "      <td>04.04.2018</td>\n",
       "      <td>34</td>\n",
       "    </tr>\n",
       "    <tr>\n",
       "      <th>112</th>\n",
       "      <td>Demokratische Republik Kongo</td>\n",
       "      <td>Ebola</td>\n",
       "      <td>04.04.2018</td>\n",
       "      <td>41</td>\n",
       "    </tr>\n",
       "    <tr>\n",
       "      <th>113</th>\n",
       "      <td>Demokratische Republik Kongo</td>\n",
       "      <td>Ebola</td>\n",
       "      <td>04.04.2018</td>\n",
       "      <td>44</td>\n",
       "    </tr>\n",
       "    <tr>\n",
       "      <th>120</th>\n",
       "      <td>Demokratische Republik Kongo</td>\n",
       "      <td>Ebola</td>\n",
       "      <td>04.04.2018</td>\n",
       "      <td>46</td>\n",
       "    </tr>\n",
       "    <tr>\n",
       "      <th>140</th>\n",
       "      <td>Indien</td>\n",
       "      <td>NaN</td>\n",
       "      <td>NaN</td>\n",
       "      <td>NaN</td>\n",
       "    </tr>\n",
       "    <tr>\n",
       "      <th>145</th>\n",
       "      <td>Kamerun</td>\n",
       "      <td>Affenpocken</td>\n",
       "      <td>30.04.1018</td>\n",
       "      <td>16</td>\n",
       "    </tr>\n",
       "    <tr>\n",
       "      <th>149</th>\n",
       "      <td>Brasilien</td>\n",
       "      <td>Masern</td>\n",
       "      <td>NaN</td>\n",
       "      <td>995</td>\n",
       "    </tr>\n",
       "    <tr>\n",
       "      <th>161</th>\n",
       "      <td>Venezuela</td>\n",
       "      <td>Polio</td>\n",
       "      <td>NaN</td>\n",
       "      <td>NaN</td>\n",
       "    </tr>\n",
       "    <tr>\n",
       "      <th>196</th>\n",
       "      <td>Italien, Griechenland, Ungarn, Rumänien</td>\n",
       "      <td>West-Nil-Fieber</td>\n",
       "      <td>NaN</td>\n",
       "      <td>37</td>\n",
       "    </tr>\n",
       "    <tr>\n",
       "      <th>198</th>\n",
       "      <td>Uganda</td>\n",
       "      <td>NaN</td>\n",
       "      <td>2010</td>\n",
       "      <td>14</td>\n",
       "    </tr>\n",
       "    <tr>\n",
       "      <th>200</th>\n",
       "      <td>DRC</td>\n",
       "      <td>Ebolafieber</td>\n",
       "      <td>Mai 2018</td>\n",
       "      <td>NaN</td>\n",
       "    </tr>\n",
       "    <tr>\n",
       "      <th>219</th>\n",
       "      <td>DRC</td>\n",
       "      <td>Polio</td>\n",
       "      <td>NaN</td>\n",
       "      <td>NaN</td>\n",
       "    </tr>\n",
       "    <tr>\n",
       "      <th>242</th>\n",
       "      <td>Italien, Griechenland, Rumanien, Ungarn, Frank...</td>\n",
       "      <td>West-Nil-Fieber</td>\n",
       "      <td>Trend</td>\n",
       "      <td>136</td>\n",
       "    </tr>\n",
       "    <tr>\n",
       "      <th>252</th>\n",
       "      <td>NaN</td>\n",
       "      <td>MERS</td>\n",
       "      <td>NaN</td>\n",
       "      <td>NaN</td>\n",
       "    </tr>\n",
       "  </tbody>\n",
       "</table>\n",
       "</div>"
      ],
      "text/plain": [
       "                         Ausgangs- bzw. Ausbruchsland  Krankheitsbild(er)  \\\n",
       "25                                               Oman                MERS   \n",
       "52                                          Australien         Listeriose   \n",
       "70                                             Nigeria       Lassafieber    \n",
       "107                       Demokratische Republik Kongo              Ebola   \n",
       "112                       Demokratische Republik Kongo              Ebola   \n",
       "113                       Demokratische Republik Kongo              Ebola   \n",
       "120                       Demokratische Republik Kongo              Ebola   \n",
       "140                                             Indien                NaN   \n",
       "145                                            Kamerun        Affenpocken   \n",
       "149                                          Brasilien             Masern   \n",
       "161                                         Venezuela               Polio   \n",
       "196            Italien, Griechenland, Ungarn, Rumänien    West-Nil-Fieber   \n",
       "198                                             Uganda                NaN   \n",
       "200                                                DRC        Ebolafieber   \n",
       "219                                                DRC              Polio   \n",
       "242  Italien, Griechenland, Rumanien, Ungarn, Frank...    West-Nil-Fieber   \n",
       "252                                                NaN               MERS   \n",
       "\n",
       "    Frühestbekannter Ereignisbeginn Fälle gesamt*    \n",
       "25                              NaN             NaN  \n",
       "52                       17.01.2018              20  \n",
       "70                       01.01.2018             NaN  \n",
       "107                      04.04.2018              34  \n",
       "112                      04.04.2018              41  \n",
       "113                      04.04.2018              44  \n",
       "120                      04.04.2018              46  \n",
       "140                             NaN             NaN  \n",
       "145                      30.04.1018              16  \n",
       "149                             NaN             995  \n",
       "161                             NaN             NaN  \n",
       "196                             NaN              37  \n",
       "198                            2010              14  \n",
       "200                        Mai 2018             NaN  \n",
       "219                             NaN             NaN  \n",
       "242                           Trend             136  \n",
       "252                             NaN             NaN  "
      ]
     },
     "execution_count": 309,
     "metadata": {},
     "output_type": "execute_result"
    }
   ],
   "source": [
    "ereignisdatenbank.iloc[sources_filtered.index.tolist(),[3,6,7,9]]"
   ]
  },
  {
   "cell_type": "code",
   "execution_count": 27,
   "metadata": {},
   "outputs": [
    {
     "data": {
      "text/html": [
       "<div>\n",
       "<style scoped>\n",
       "    .dataframe tbody tr th:only-of-type {\n",
       "        vertical-align: middle;\n",
       "    }\n",
       "\n",
       "    .dataframe tbody tr th {\n",
       "        vertical-align: top;\n",
       "    }\n",
       "\n",
       "    .dataframe thead th {\n",
       "        text-align: right;\n",
       "    }\n",
       "</style>\n",
       "<table border=\"1\" class=\"dataframe\">\n",
       "  <thead>\n",
       "    <tr style=\"text-align: right;\">\n",
       "      <th></th>\n",
       "      <th>date</th>\n",
       "      <th>confirmed_cases</th>\n",
       "      <th>keyword</th>\n",
       "      <th>geoname</th>\n",
       "    </tr>\n",
       "  </thead>\n",
       "  <tbody>\n",
       "    <tr>\n",
       "      <th>64</th>\n",
       "      <td>2018-03-01</td>\n",
       "      <td>[]</td>\n",
       "      <td>influenza</td>\n",
       "      <td>[Kingdom of the Netherlands]</td>\n",
       "    </tr>\n",
       "    <tr>\n",
       "      <th>60</th>\n",
       "      <td>2018-03-08</td>\n",
       "      <td>[]</td>\n",
       "      <td>listeriosis</td>\n",
       "      <td>[Commonwealth of Australia]</td>\n",
       "    </tr>\n",
       "    <tr>\n",
       "      <th>25</th>\n",
       "      <td>2018-04-01</td>\n",
       "      <td>[1]</td>\n",
       "      <td>yellow fever</td>\n",
       "      <td>[Guyane]</td>\n",
       "    </tr>\n",
       "    <tr>\n",
       "      <th>35</th>\n",
       "      <td>2018-04-01</td>\n",
       "      <td>[1, 1]</td>\n",
       "      <td>Ebola hemorrhagic fever</td>\n",
       "      <td>[Democratic Republic of the Congo]</td>\n",
       "    </tr>\n",
       "    <tr>\n",
       "      <th>49</th>\n",
       "      <td>2018-04-04</td>\n",
       "      <td>[]</td>\n",
       "      <td>Ebola hemorrhagic fever</td>\n",
       "      <td>[Mbandaka]</td>\n",
       "    </tr>\n",
       "    <tr>\n",
       "      <th>37</th>\n",
       "      <td>2018-04-04</td>\n",
       "      <td>[1, 4]</td>\n",
       "      <td>Ebola hemorrhagic fever</td>\n",
       "      <td>[Democratic Republic of the Congo]</td>\n",
       "    </tr>\n",
       "    <tr>\n",
       "      <th>42</th>\n",
       "      <td>2018-04-04</td>\n",
       "      <td>[1]</td>\n",
       "      <td>Ebola hemorrhagic fever</td>\n",
       "      <td>[Democratic Republic of the Congo]</td>\n",
       "    </tr>\n",
       "    <tr>\n",
       "      <th>45</th>\n",
       "      <td>2018-04-04</td>\n",
       "      <td>[]</td>\n",
       "      <td>Ebola hemorrhagic fever</td>\n",
       "      <td>[Democratic Republic of the Congo]</td>\n",
       "    </tr>\n",
       "    <tr>\n",
       "      <th>36</th>\n",
       "      <td>2018-04-24</td>\n",
       "      <td>[]</td>\n",
       "      <td>poliomyelitis</td>\n",
       "      <td>[Independent State of Papua New Guinea]</td>\n",
       "    </tr>\n",
       "    <tr>\n",
       "      <th>47</th>\n",
       "      <td>2018-04-30</td>\n",
       "      <td>[1]</td>\n",
       "      <td>monkeypox</td>\n",
       "      <td>[Republic of Cameroon]</td>\n",
       "    </tr>\n",
       "    <tr>\n",
       "      <th>53</th>\n",
       "      <td>2018-05-01</td>\n",
       "      <td>[]</td>\n",
       "      <td>poliomyelitis</td>\n",
       "      <td>[Horn of Africa, Somalia]</td>\n",
       "    </tr>\n",
       "    <tr>\n",
       "      <th>56</th>\n",
       "      <td>2018-05-08</td>\n",
       "      <td>[2]</td>\n",
       "      <td>Ebola hemorrhagic fever</td>\n",
       "      <td>[Democratic Republic of the Congo]</td>\n",
       "    </tr>\n",
       "    <tr>\n",
       "      <th>55</th>\n",
       "      <td>2018-05-13</td>\n",
       "      <td>[]</td>\n",
       "      <td>Ebola hemorrhagic fever</td>\n",
       "      <td>[Mbandaka]</td>\n",
       "    </tr>\n",
       "    <tr>\n",
       "      <th>54</th>\n",
       "      <td>2018-05-15</td>\n",
       "      <td>[1, 1]</td>\n",
       "      <td>Ebola hemorrhagic fever</td>\n",
       "      <td>[Mbandaka]</td>\n",
       "    </tr>\n",
       "    <tr>\n",
       "      <th>46</th>\n",
       "      <td>2018-05-18</td>\n",
       "      <td>[]</td>\n",
       "      <td>Ebola hemorrhagic fever</td>\n",
       "      <td>[Democratic Republic of the Congo]</td>\n",
       "    </tr>\n",
       "    <tr>\n",
       "      <th>51</th>\n",
       "      <td>2018-05-21</td>\n",
       "      <td>[4, 1]</td>\n",
       "      <td>Ebola hemorrhagic fever</td>\n",
       "      <td>[Mbandaka]</td>\n",
       "    </tr>\n",
       "    <tr>\n",
       "      <th>41</th>\n",
       "      <td>2018-05-21</td>\n",
       "      <td>[]</td>\n",
       "      <td>cholera</td>\n",
       "      <td>[Republic of Cameroon]</td>\n",
       "    </tr>\n",
       "    <tr>\n",
       "      <th>7</th>\n",
       "      <td>2018-05-31</td>\n",
       "      <td>[]</td>\n",
       "      <td>chikungunya</td>\n",
       "      <td>[Kassala State]</td>\n",
       "    </tr>\n",
       "    <tr>\n",
       "      <th>28</th>\n",
       "      <td>2018-06-01</td>\n",
       "      <td>[]</td>\n",
       "      <td>Ebola hemorrhagic fever</td>\n",
       "      <td>[Republic of Rwanda]</td>\n",
       "    </tr>\n",
       "    <tr>\n",
       "      <th>33</th>\n",
       "      <td>2018-07-24</td>\n",
       "      <td>[17, 1]</td>\n",
       "      <td>Ebola hemorrhagic fever</td>\n",
       "      <td>[Democratic Republic of the Congo]</td>\n",
       "    </tr>\n",
       "    <tr>\n",
       "      <th>32</th>\n",
       "      <td>2018-08-01</td>\n",
       "      <td>[]</td>\n",
       "      <td>Ebola hemorrhagic fever</td>\n",
       "      <td>[Democratic Republic of the Congo]</td>\n",
       "    </tr>\n",
       "    <tr>\n",
       "      <th>27</th>\n",
       "      <td>2018-08-01</td>\n",
       "      <td>[34, 10, 13, 1]</td>\n",
       "      <td>Ebola hemorrhagic fever</td>\n",
       "      <td>[Democratic Republic of the Congo]</td>\n",
       "    </tr>\n",
       "    <tr>\n",
       "      <th>29</th>\n",
       "      <td>2018-08-07</td>\n",
       "      <td>[]</td>\n",
       "      <td>Ebola hemorrhagic fever</td>\n",
       "      <td>[Democratic Republic of the Congo]</td>\n",
       "    </tr>\n",
       "    <tr>\n",
       "      <th>26</th>\n",
       "      <td>2018-08-19</td>\n",
       "      <td>[1]</td>\n",
       "      <td>Ebola hemorrhagic fever</td>\n",
       "      <td>[Democratic Republic of the Congo]</td>\n",
       "    </tr>\n",
       "    <tr>\n",
       "      <th>24</th>\n",
       "      <td>2018-08-29</td>\n",
       "      <td>[44]</td>\n",
       "      <td>Ebola hemorrhagic fever</td>\n",
       "      <td>[Democratic Republic of the Congo]</td>\n",
       "    </tr>\n",
       "    <tr>\n",
       "      <th>65</th>\n",
       "      <td>NaN</td>\n",
       "      <td>[]</td>\n",
       "      <td>Middle East respiratory syndrome</td>\n",
       "      <td>[Middle East]</td>\n",
       "    </tr>\n",
       "  </tbody>\n",
       "</table>\n",
       "</div>"
      ],
      "text/plain": [
       "          date  confirmed_cases                           keyword  \\\n",
       "64  2018-03-01               []                         influenza   \n",
       "60  2018-03-08               []                       listeriosis   \n",
       "25  2018-04-01              [1]                      yellow fever   \n",
       "35  2018-04-01           [1, 1]           Ebola hemorrhagic fever   \n",
       "49  2018-04-04               []           Ebola hemorrhagic fever   \n",
       "37  2018-04-04           [1, 4]           Ebola hemorrhagic fever   \n",
       "42  2018-04-04              [1]           Ebola hemorrhagic fever   \n",
       "45  2018-04-04               []           Ebola hemorrhagic fever   \n",
       "36  2018-04-24               []                     poliomyelitis   \n",
       "47  2018-04-30              [1]                         monkeypox   \n",
       "53  2018-05-01               []                     poliomyelitis   \n",
       "56  2018-05-08              [2]           Ebola hemorrhagic fever   \n",
       "55  2018-05-13               []           Ebola hemorrhagic fever   \n",
       "54  2018-05-15           [1, 1]           Ebola hemorrhagic fever   \n",
       "46  2018-05-18               []           Ebola hemorrhagic fever   \n",
       "51  2018-05-21           [4, 1]           Ebola hemorrhagic fever   \n",
       "41  2018-05-21               []                           cholera   \n",
       "7   2018-05-31               []                       chikungunya   \n",
       "28  2018-06-01               []           Ebola hemorrhagic fever   \n",
       "33  2018-07-24          [17, 1]           Ebola hemorrhagic fever   \n",
       "32  2018-08-01               []           Ebola hemorrhagic fever   \n",
       "27  2018-08-01  [34, 10, 13, 1]           Ebola hemorrhagic fever   \n",
       "29  2018-08-07               []           Ebola hemorrhagic fever   \n",
       "26  2018-08-19              [1]           Ebola hemorrhagic fever   \n",
       "24  2018-08-29             [44]           Ebola hemorrhagic fever   \n",
       "65         NaN               []  Middle East respiratory syndrome   \n",
       "\n",
       "                                    geoname  \n",
       "64             [Kingdom of the Netherlands]  \n",
       "60              [Commonwealth of Australia]  \n",
       "25                                 [Guyane]  \n",
       "35       [Democratic Republic of the Congo]  \n",
       "49                               [Mbandaka]  \n",
       "37       [Democratic Republic of the Congo]  \n",
       "42       [Democratic Republic of the Congo]  \n",
       "45       [Democratic Republic of the Congo]  \n",
       "36  [Independent State of Papua New Guinea]  \n",
       "47                   [Republic of Cameroon]  \n",
       "53                [Horn of Africa, Somalia]  \n",
       "56       [Democratic Republic of the Congo]  \n",
       "55                               [Mbandaka]  \n",
       "54                               [Mbandaka]  \n",
       "46       [Democratic Republic of the Congo]  \n",
       "51                               [Mbandaka]  \n",
       "41                   [Republic of Cameroon]  \n",
       "7                           [Kassala State]  \n",
       "28                     [Republic of Rwanda]  \n",
       "33       [Democratic Republic of the Congo]  \n",
       "32       [Democratic Republic of the Congo]  \n",
       "27       [Democratic Republic of the Congo]  \n",
       "29       [Democratic Republic of the Congo]  \n",
       "26       [Democratic Republic of the Congo]  \n",
       "24       [Democratic Republic of the Congo]  \n",
       "65                            [Middle East]  "
      ]
     },
     "execution_count": 27,
     "metadata": {},
     "output_type": "execute_result"
    }
   ],
   "source": [
    "parsed_whos_df.iloc[indices_that_matched,1:].sort_values(\"date\")"
   ]
  },
  {
   "cell_type": "code",
   "execution_count": 28,
   "metadata": {},
   "outputs": [],
   "source": [
    "# Prettify the link description\n",
    "link_description = [re.search(r'don/(.*)/en',all_links[i])[1]\\\n",
    "                    .replace('-', ' ',2).replace('-',', ',2).replace('-',' ')\\\n",
    "                    for i in range(len(all_links))]"
   ]
  },
  {
   "cell_type": "code",
   "execution_count": 29,
   "metadata": {},
   "outputs": [],
   "source": [
    "# Extract the most important columns\n",
    "compare = parsed_whos_df.iloc[:,[1,3,4]].copy()\n",
    "compare['link_description'] = pd.Series(link_description,index=compare.index)"
   ]
  },
  {
   "cell_type": "markdown",
   "metadata": {},
   "source": [
    "# To present"
   ]
  },
  {
   "cell_type": "code",
   "execution_count": 380,
   "metadata": {
    "scrolled": false
   },
   "outputs": [
    {
     "data": {
      "text/plain": [
       "'2018-11-13'"
      ]
     },
     "execution_count": 380,
     "metadata": {},
     "output_type": "execute_result"
    }
   ],
   "source": [
    "compare[\"date\"].iloc[0]"
   ]
  },
  {
   "cell_type": "code",
   "execution_count": 31,
   "metadata": {},
   "outputs": [],
   "source": [
    "# These are the links that were faulty during annotation\n",
    "to_check = compare[compare[\"keyword\"].isnull()==True].index.values\n",
    "links_to_check = np.asarray(all_links)[to_check] # Get the links that caused the bad annotations"
   ]
  },
  {
   "cell_type": "code",
   "execution_count": 32,
   "metadata": {},
   "outputs": [
    {
     "data": {
      "application/vnd.jupyter.widget-view+json": {
       "model_id": "cac347ba0bb44135b86733b7ea507d68",
       "version_major": 2,
       "version_minor": 0
      },
      "text/plain": [
       "HBox(children=(IntProgress(value=0, max=1), HTML(value='')))"
      ]
     },
     "metadata": {},
     "output_type": "display_data"
    },
    {
     "name": "stdout",
     "output_type": "stream",
     "text": [
      "\n"
     ]
    },
    {
     "data": {
      "application/vnd.jupyter.widget-view+json": {
       "model_id": "91ddf2dbcf234e3caad9080b752f7b1f",
       "version_major": 2,
       "version_minor": 0
      },
      "text/plain": [
       "HBox(children=(IntProgress(value=0, max=1), HTML(value='')))"
      ]
     },
     "metadata": {},
     "output_type": "display_data"
    },
    {
     "name": "stdout",
     "output_type": "stream",
     "text": [
      "\n"
     ]
    }
   ],
   "source": [
    "annotated_faulty_text = create_annotated_database(extract(links_to_check),raw=True)"
   ]
  },
  {
   "cell_type": "code",
   "execution_count": 33,
   "metadata": {},
   "outputs": [
    {
     "data": {
      "text/html": [
       "<div>\n",
       "<style scoped>\n",
       "    .dataframe tbody tr th:only-of-type {\n",
       "        vertical-align: middle;\n",
       "    }\n",
       "\n",
       "    .dataframe tbody tr th {\n",
       "        vertical-align: top;\n",
       "    }\n",
       "\n",
       "    .dataframe thead th {\n",
       "        text-align: right;\n",
       "    }\n",
       "</style>\n",
       "<table border=\"1\" class=\"dataframe\">\n",
       "  <thead>\n",
       "    <tr style=\"text-align: right;\">\n",
       "      <th></th>\n",
       "      <th>date</th>\n",
       "      <th>confirmed_cases</th>\n",
       "      <th>keyword</th>\n",
       "      <th>geoname</th>\n",
       "    </tr>\n",
       "  </thead>\n",
       "  <tbody>\n",
       "    <tr>\n",
       "      <th>0</th>\n",
       "      <td>[2018-08-01, 2018-07-17, 2018-06-01, 2018-07-3...</td>\n",
       "      <td>[19, 17, 18, 1, 2, 3, 3, 4, 1, 2, 2600, 5000, ...</td>\n",
       "      <td>[]</td>\n",
       "      <td>[State of Kerala, State of Kerala, Kozhikode, ...</td>\n",
       "    </tr>\n",
       "  </tbody>\n",
       "</table>\n",
       "</div>"
      ],
      "text/plain": [
       "                                                date  \\\n",
       "0  [2018-08-01, 2018-07-17, 2018-06-01, 2018-07-3...   \n",
       "\n",
       "                                     confirmed_cases keyword  \\\n",
       "0  [19, 17, 18, 1, 2, 3, 3, 4, 1, 2, 2600, 5000, ...      []   \n",
       "\n",
       "                                             geoname  \n",
       "0  [State of Kerala, State of Kerala, Kozhikode, ...  "
      ]
     },
     "execution_count": 33,
     "metadata": {},
     "output_type": "execute_result"
    }
   ],
   "source": [
    "faulty_df = pd.DataFrame.from_dict(annotated_faulty_text).iloc[:,1:]\n",
    "faulty_df"
   ]
  },
  {
   "cell_type": "code",
   "execution_count": 34,
   "metadata": {},
   "outputs": [
    {
     "data": {
      "text/html": [
       "<div>\n",
       "<style scoped>\n",
       "    .dataframe tbody tr th:only-of-type {\n",
       "        vertical-align: middle;\n",
       "    }\n",
       "\n",
       "    .dataframe tbody tr th {\n",
       "        vertical-align: top;\n",
       "    }\n",
       "\n",
       "    .dataframe thead th {\n",
       "        text-align: right;\n",
       "    }\n",
       "</style>\n",
       "<table border=\"1\" class=\"dataframe\">\n",
       "  <thead>\n",
       "    <tr style=\"text-align: right;\">\n",
       "      <th></th>\n",
       "      <th>text</th>\n",
       "      <th>date</th>\n",
       "      <th>confirmed_cases</th>\n",
       "      <th>keyword</th>\n",
       "      <th>geoname</th>\n",
       "    </tr>\n",
       "  </thead>\n",
       "  <tbody>\n",
       "    <tr>\n",
       "      <th>2</th>\n",
       "      <td>Middle East respiratory syndrome coronavirus (...</td>\n",
       "      <td>2018-09-17</td>\n",
       "      <td>[2005]</td>\n",
       "      <td>Middle East respiratory syndrome</td>\n",
       "      <td>[Kingdom of Saudi Arabia, Middle East]</td>\n",
       "    </tr>\n",
       "    <tr>\n",
       "      <th>4</th>\n",
       "      <td>Circulating vaccine-derived poliovirus type 2 ...</td>\n",
       "      <td>2018-01-01</td>\n",
       "      <td>[]</td>\n",
       "      <td>poliomyelitis</td>\n",
       "      <td>[Federal Republic of Nigeria, Republic of Niger]</td>\n",
       "    </tr>\n",
       "    <tr>\n",
       "      <th>30</th>\n",
       "      <td>Circulating vaccine-derived poliovirus type 2 ...</td>\n",
       "      <td>2016-01-01</td>\n",
       "      <td>[]</td>\n",
       "      <td>poliomyelitis</td>\n",
       "      <td>[Borno State, Gombe State, Jigawa State, Sokot...</td>\n",
       "    </tr>\n",
       "    <tr>\n",
       "      <th>40</th>\n",
       "      <td>Middle East respiratory syndrome coronavirus (...</td>\n",
       "      <td>2018-02-01</td>\n",
       "      <td>[75, 75, 2220, 790]</td>\n",
       "      <td>Middle East respiratory syndrome</td>\n",
       "      <td>[Kingdom of Saudi Arabia, Middle East]</td>\n",
       "    </tr>\n",
       "    <tr>\n",
       "      <th>52</th>\n",
       "      <td>Ebola virus disease – Democratic Republic of t...</td>\n",
       "      <td>2015-01-01</td>\n",
       "      <td>[]</td>\n",
       "      <td>Ebola hemorrhagic fever</td>\n",
       "      <td>[Democratic Republic of the Congo, Republic of...</td>\n",
       "    </tr>\n",
       "    <tr>\n",
       "      <th>53</th>\n",
       "      <td>Circulating vaccine-derived polioviruses – Hor...</td>\n",
       "      <td>2018-05-01</td>\n",
       "      <td>[]</td>\n",
       "      <td>poliomyelitis</td>\n",
       "      <td>[Horn of Africa, Somalia]</td>\n",
       "    </tr>\n",
       "    <tr>\n",
       "      <th>67</th>\n",
       "      <td>Circulating vaccine-derived poliovirus type 2 ...</td>\n",
       "      <td>2017-01-01</td>\n",
       "      <td>[]</td>\n",
       "      <td>poliomyelitis</td>\n",
       "      <td>[Mogadishu, Somalia]</td>\n",
       "    </tr>\n",
       "  </tbody>\n",
       "</table>\n",
       "</div>"
      ],
      "text/plain": [
       "                                                 text        date  \\\n",
       "2   Middle East respiratory syndrome coronavirus (...  2018-09-17   \n",
       "4   Circulating vaccine-derived poliovirus type 2 ...  2018-01-01   \n",
       "30  Circulating vaccine-derived poliovirus type 2 ...  2016-01-01   \n",
       "40  Middle East respiratory syndrome coronavirus (...  2018-02-01   \n",
       "52  Ebola virus disease – Democratic Republic of t...  2015-01-01   \n",
       "53  Circulating vaccine-derived polioviruses – Hor...  2018-05-01   \n",
       "67  Circulating vaccine-derived poliovirus type 2 ...  2017-01-01   \n",
       "\n",
       "        confirmed_cases                           keyword  \\\n",
       "2                [2005]  Middle East respiratory syndrome   \n",
       "4                    []                     poliomyelitis   \n",
       "30                   []                     poliomyelitis   \n",
       "40  [75, 75, 2220, 790]  Middle East respiratory syndrome   \n",
       "52                   []           Ebola hemorrhagic fever   \n",
       "53                   []                     poliomyelitis   \n",
       "67                   []                     poliomyelitis   \n",
       "\n",
       "                                              geoname  \n",
       "2              [Kingdom of Saudi Arabia, Middle East]  \n",
       "4    [Federal Republic of Nigeria, Republic of Niger]  \n",
       "30  [Borno State, Gombe State, Jigawa State, Sokot...  \n",
       "40             [Kingdom of Saudi Arabia, Middle East]  \n",
       "52  [Democratic Republic of the Congo, Republic of...  \n",
       "53                          [Horn of Africa, Somalia]  \n",
       "67                               [Mogadishu, Somalia]  "
      ]
     },
     "execution_count": 34,
     "metadata": {},
     "output_type": "execute_result"
    }
   ],
   "source": [
    "# Entries that had the occurence of a geographical entity more than once\n",
    "parsed_whos_df[parsed_whos_df[\"geoname\"].str.len()>1]"
   ]
  },
  {
   "cell_type": "markdown",
   "metadata": {},
   "source": [
    "# Geo Tests"
   ]
  },
  {
   "cell_type": "code",
   "execution_count": 78,
   "metadata": {
    "scrolled": false
   },
   "outputs": [],
   "source": [
    "import pycountry"
   ]
  },
  {
   "cell_type": "code",
   "execution_count": 92,
   "metadata": {},
   "outputs": [],
   "source": [
    "country_names = [list(pycountry.countries)[i].name for i in range(len(pycountry.countries))]"
   ]
  },
  {
   "cell_type": "code",
   "execution_count": 969,
   "metadata": {},
   "outputs": [],
   "source": [
    "sorted(country_names)"
   ]
  },
  {
   "cell_type": "code",
   "execution_count": 101,
   "metadata": {},
   "outputs": [],
   "source": [
    "from googletrans import Translator"
   ]
  },
  {
   "cell_type": "code",
   "execution_count": 99,
   "metadata": {},
   "outputs": [
    {
     "ename": "ModuleNotFoundError",
     "evalue": "No module named 'geograpy'",
     "output_type": "error",
     "traceback": [
      "\u001b[0;31m---------------------------------------------------------------------------\u001b[0m",
      "\u001b[0;31mModuleNotFoundError\u001b[0m                       Traceback (most recent call last)",
      "\u001b[0;32m<ipython-input-99-575b4347967a>\u001b[0m in \u001b[0;36m<module>\u001b[0;34m\u001b[0m\n\u001b[0;32m----> 1\u001b[0;31m \u001b[0;32mimport\u001b[0m \u001b[0mgeograpy\u001b[0m\u001b[0;34m\u001b[0m\u001b[0;34m\u001b[0m\u001b[0m\n\u001b[0m\u001b[1;32m      2\u001b[0m \u001b[0murl\u001b[0m \u001b[0;34m=\u001b[0m \u001b[0;34m'http://www.bbc.com/news/world-europe-26919928'\u001b[0m\u001b[0;34m\u001b[0m\u001b[0;34m\u001b[0m\u001b[0m\n\u001b[1;32m      3\u001b[0m \u001b[0mplaces\u001b[0m \u001b[0;34m=\u001b[0m \u001b[0mgeograpy\u001b[0m\u001b[0;34m.\u001b[0m\u001b[0mget_place_context\u001b[0m\u001b[0;34m(\u001b[0m\u001b[0murl\u001b[0m\u001b[0;34m=\u001b[0m\u001b[0murl\u001b[0m\u001b[0;34m)\u001b[0m\u001b[0;34m\u001b[0m\u001b[0;34m\u001b[0m\u001b[0m\n",
      "\u001b[0;31mModuleNotFoundError\u001b[0m: No module named 'geograpy'"
     ]
    }
   ],
   "source": [
    "import geograpy\n",
    "url = 'http://www.bbc.com/news/world-europe-26919928'\n",
    "places = geograpy.get_place_context(url=url)"
   ]
  },
  {
   "cell_type": "markdown",
   "metadata": {},
   "source": [
    "# Goodnes Test"
   ]
  },
  {
   "cell_type": "code",
   "execution_count": 310,
   "metadata": {},
   "outputs": [
    {
     "data": {
      "text/html": [
       "<div>\n",
       "<style scoped>\n",
       "    .dataframe tbody tr th:only-of-type {\n",
       "        vertical-align: middle;\n",
       "    }\n",
       "\n",
       "    .dataframe tbody tr th {\n",
       "        vertical-align: top;\n",
       "    }\n",
       "\n",
       "    .dataframe thead th {\n",
       "        text-align: right;\n",
       "    }\n",
       "</style>\n",
       "<table border=\"1\" class=\"dataframe\">\n",
       "  <thead>\n",
       "    <tr style=\"text-align: right;\">\n",
       "      <th></th>\n",
       "      <th>Quelle 1*</th>\n",
       "      <th>Datum der Veröffentlichung der Quelle1</th>\n",
       "      <th>Link zur Quelle 1</th>\n",
       "      <th>Quelle 2</th>\n",
       "      <th>Datum der Veröffentlichung der Quelle 2</th>\n",
       "      <th>Link zur Quelle 2</th>\n",
       "      <th>Quelle 3</th>\n",
       "      <th>Datum der Veröffentlichung der Quelle 3</th>\n",
       "      <th>Link zur Quelle 3</th>\n",
       "      <th>Quelle 4</th>\n",
       "      <th>Datum der Veröffentlichung der Quelle 4</th>\n",
       "    </tr>\n",
       "  </thead>\n",
       "  <tbody>\n",
       "    <tr>\n",
       "      <th>25</th>\n",
       "      <td>WHO</td>\n",
       "      <td>2018-03-15</td>\n",
       "      <td>http://www who int/csr/don/15-march-2018-mers-...</td>\n",
       "      <td>nan</td>\n",
       "      <td>NaT</td>\n",
       "      <td>nan</td>\n",
       "      <td>nan</td>\n",
       "      <td>NaT</td>\n",
       "      <td>nan</td>\n",
       "      <td>nan</td>\n",
       "      <td>nan</td>\n",
       "    </tr>\n",
       "    <tr>\n",
       "      <th>52</th>\n",
       "      <td>EAR report</td>\n",
       "      <td>2018-04-13</td>\n",
       "      <td>http://www who int/csr/don/09-april-2018-liste...</td>\n",
       "      <td>nan</td>\n",
       "      <td>NaT</td>\n",
       "      <td>nan</td>\n",
       "      <td>nan</td>\n",
       "      <td>NaT</td>\n",
       "      <td>nan</td>\n",
       "      <td>nan</td>\n",
       "      <td>nan</td>\n",
       "    </tr>\n",
       "    <tr>\n",
       "      <th>70</th>\n",
       "      <td>NCDC SitRep</td>\n",
       "      <td>2018-04-15</td>\n",
       "      <td>http://ncdc gov ng/themes/common/files/sitreps...</td>\n",
       "      <td>WHO DON</td>\n",
       "      <td>2018-04-20</td>\n",
       "      <td>http://www who int/csr/don/20-april-2018-lassa...</td>\n",
       "      <td>CIDRAP</td>\n",
       "      <td>2018-04-18</td>\n",
       "      <td>http://www cidrap umn edu/news-perspective/201...</td>\n",
       "      <td>nan</td>\n",
       "      <td>nan</td>\n",
       "    </tr>\n",
       "    <tr>\n",
       "      <th>107</th>\n",
       "      <td>WHO</td>\n",
       "      <td>2018-05-11</td>\n",
       "      <td>http://www who int/news-room/detail/11-05-2018...</td>\n",
       "      <td>WHO DON</td>\n",
       "      <td>2018-05-10</td>\n",
       "      <td>http://www who int/csr/don/10-may-2018-ebola-d...</td>\n",
       "      <td>nan</td>\n",
       "      <td>NaT</td>\n",
       "      <td>nan</td>\n",
       "      <td>nan</td>\n",
       "      <td>nan</td>\n",
       "    </tr>\n",
       "    <tr>\n",
       "      <th>112</th>\n",
       "      <td>WHO GOARN TK</td>\n",
       "      <td>2018-05-15</td>\n",
       "      <td>nan</td>\n",
       "      <td>WHO DON</td>\n",
       "      <td>2018-05-14</td>\n",
       "      <td>http://www who int/csr/don/14-may-2018-ebola-d...</td>\n",
       "      <td>nan</td>\n",
       "      <td>NaT</td>\n",
       "      <td>nan</td>\n",
       "      <td>nan</td>\n",
       "      <td>nan</td>\n",
       "    </tr>\n",
       "  </tbody>\n",
       "</table>\n",
       "</div>"
      ],
      "text/plain": [
       "        Quelle 1* Datum der Veröffentlichung der Quelle1  \\\n",
       "25            WHO                             2018-03-15   \n",
       "52    EAR report                              2018-04-13   \n",
       "70    NCDC SitRep                             2018-04-15   \n",
       "107           WHO                             2018-05-11   \n",
       "112  WHO GOARN TK                             2018-05-15   \n",
       "\n",
       "                                     Link zur Quelle 1  Quelle 2  \\\n",
       "25   http://www who int/csr/don/15-march-2018-mers-...       nan   \n",
       "52   http://www who int/csr/don/09-april-2018-liste...       nan   \n",
       "70   http://ncdc gov ng/themes/common/files/sitreps...   WHO DON   \n",
       "107  http://www who int/news-room/detail/11-05-2018...  WHO DON    \n",
       "112                                                nan   WHO DON   \n",
       "\n",
       "    Datum der Veröffentlichung der Quelle 2  \\\n",
       "25                                      NaT   \n",
       "52                                      NaT   \n",
       "70                               2018-04-20   \n",
       "107                              2018-05-10   \n",
       "112                              2018-05-14   \n",
       "\n",
       "                                     Link zur Quelle 2 Quelle 3  \\\n",
       "25                                                 nan      nan   \n",
       "52                                                 nan      nan   \n",
       "70   http://www who int/csr/don/20-april-2018-lassa...   CIDRAP   \n",
       "107  http://www who int/csr/don/10-may-2018-ebola-d...      nan   \n",
       "112  http://www who int/csr/don/14-may-2018-ebola-d...      nan   \n",
       "\n",
       "    Datum der Veröffentlichung der Quelle 3  \\\n",
       "25                                      NaT   \n",
       "52                                      NaT   \n",
       "70                               2018-04-18   \n",
       "107                                     NaT   \n",
       "112                                     NaT   \n",
       "\n",
       "                                     Link zur Quelle 3 Quelle 4  \\\n",
       "25                                                 nan      nan   \n",
       "52                                                 nan      nan   \n",
       "70   http://www cidrap umn edu/news-perspective/201...      nan   \n",
       "107                                                nan      nan   \n",
       "112                                                nan      nan   \n",
       "\n",
       "    Datum der Veröffentlichung der Quelle 4  \n",
       "25                                      nan  \n",
       "52                                      nan  \n",
       "70                                      nan  \n",
       "107                                     nan  \n",
       "112                                     nan  "
      ]
     },
     "execution_count": 310,
     "metadata": {},
     "output_type": "execute_result"
    }
   ],
   "source": [
    "sources_filtered.head()"
   ]
  },
  {
   "cell_type": "code",
   "execution_count": 311,
   "metadata": {},
   "outputs": [],
   "source": [
    "sources_filtered = sources_filtered.fillna(\"nan\")"
   ]
  },
  {
   "cell_type": "code",
   "execution_count": 248,
   "metadata": {},
   "outputs": [],
   "source": [
    "links_from_sources_filtered = [sources_filtered[\"Link zur Quelle 1\"].iloc[i] \n",
    "                               if (\"pdf\" not in sources_filtered[\"Link zur Quelle 1\"].iloc[i]) \n",
    "                               and (sources_filtered[\"Link zur Quelle 1\"].iloc[i] != \"nan\") \n",
    "                               else sources_filtered[\"Link zur Quelle 2\"].iloc[i] \n",
    "                               for i in range(len(sources_filtered))]"
   ]
  },
  {
   "cell_type": "code",
   "execution_count": 121,
   "metadata": {},
   "outputs": [
    {
     "data": {
      "application/vnd.jupyter.widget-view+json": {
       "model_id": "3e6817d01b424bad980692e9b45e8a66",
       "version_major": 2,
       "version_minor": 0
      },
      "text/plain": [
       "HBox(children=(IntProgress(value=0, max=17), HTML(value='')))"
      ]
     },
     "metadata": {},
     "output_type": "display_data"
    }
   ],
   "source": [
    "extracted = extract(links_from_sources_filtered)"
   ]
  },
  {
   "cell_type": "code",
   "execution_count": 138,
   "metadata": {},
   "outputs": [
    {
     "data": {
      "application/vnd.jupyter.widget-view+json": {
       "model_id": "53f7a401302f47ee8ab2c875790475e7",
       "version_major": 2,
       "version_minor": 0
      },
      "text/plain": [
       "HBox(children=(IntProgress(value=0, max=17), HTML(value='')))"
      ]
     },
     "metadata": {},
     "output_type": "display_data"
    }
   ],
   "source": [
    "parsed_links_ereignisdatenbank = create_annotated_database(extracted,raw=True)"
   ]
  },
  {
   "cell_type": "code",
   "execution_count": null,
   "metadata": {
    "scrolled": true
   },
   "outputs": [],
   "source": [
    "# df = pd.DataFrame.from_dict(parsed_links_ereignisdatenbank)\n",
    "# df = df.iloc[:,1:]\n",
    "# df[\"links\"] = links\n",
    "# #"
   ]
  },
  {
   "cell_type": "code",
   "execution_count": 264,
   "metadata": {},
   "outputs": [],
   "source": [
    "to_compare_from_ereignisdatenbank = ereignisdatenbank.iloc[sources_filtered.index.tolist()\\\n",
    "                                                           ,[3,6,7,8,10,11,12,13,14]].reset_index().drop(\"index\",axis=1)"
   ]
  },
  {
   "cell_type": "code",
   "execution_count": 494,
   "metadata": {},
   "outputs": [
    {
     "data": {
      "text/plain": [
       "0      NaN\n",
       "1      1.0\n",
       "2      9.0\n",
       "3      NaN\n",
       "4      NaN\n",
       "5      NaN\n",
       "6      NaN\n",
       "7      NaN\n",
       "8      NaN\n",
       "9      NaN\n",
       "10     NaN\n",
       "11     NaN\n",
       "12     NaN\n",
       "13    27.0\n",
       "14     NaN\n",
       "15     NaN\n",
       "16     NaN\n",
       "Name: Warcheinlische Fälle, dtype: float64"
      ]
     },
     "execution_count": 494,
     "metadata": {},
     "output_type": "execute_result"
    }
   ],
   "source": [
    "# WHY DOES THIS NOT WORK\n",
    "to_compare_from_ereignisdatenbank[\"Warcheinlische Fälle\"].apply((lambda x: int(x) if not np.isnan(x) else x))"
   ]
  },
  {
   "cell_type": "code",
   "execution_count": 137,
   "metadata": {},
   "outputs": [
    {
     "data": {
      "application/vnd.jupyter.widget-view+json": {
       "model_id": "d4aafe19c5bd482780e26efd4914c43a",
       "version_major": 2,
       "version_minor": 0
      },
      "text/plain": [
       "HBox(children=(IntProgress(value=0, max=1), HTML(value='')))"
      ]
     },
     "metadata": {},
     "output_type": "display_data"
    },
    {
     "data": {
      "text/plain": [
       "['©2001,2008 International Society for Infectious Diseases All Rights Reserved.Read our privacy guidelines.  Use of this web site and related services is governed by the Terms of Service.']"
      ]
     },
     "execution_count": 137,
     "metadata": {},
     "output_type": "execute_result"
    }
   ],
   "source": [
    "extract(\"http://www.promedmail.org/post/5838919\")"
   ]
  },
  {
   "cell_type": "code",
   "execution_count": 521,
   "metadata": {},
   "outputs": [],
   "source": [
    "comparison_df = pd.concat([df, to_compare_from_ereignisdatenbank], axis=1, sort=False)"
   ]
  },
  {
   "cell_type": "code",
   "execution_count": 522,
   "metadata": {},
   "outputs": [],
   "source": [
    "comparison_df[\"date\"] = comparison_df[\"date\"].astype(object) # To restore lists"
   ]
  },
  {
   "cell_type": "markdown",
   "metadata": {},
   "source": [
    "## Date comparison"
   ]
  },
  {
   "cell_type": "code",
   "execution_count": 518,
   "metadata": {},
   "outputs": [],
   "source": [
    "comparison_df = ereignisdatenbank_to_timestamp(comparison_df)\n",
    "comparison_df[\"combined_dates\"] = comparison_df.iloc[:,7:9].values.tolist()"
   ]
  },
  {
   "cell_type": "code",
   "execution_count": 524,
   "metadata": {},
   "outputs": [],
   "source": [
    "comparison_df[\"combined_counts\"] = comparison_df.iloc[:,[10,12]].values.tolist()"
   ]
  },
  {
   "cell_type": "code",
   "execution_count": 527,
   "metadata": {},
   "outputs": [],
   "source": [
    "comparison_df = comparison_df.iloc[:,[0,1,2,3,5,13,14]]"
   ]
  },
  {
   "cell_type": "code",
   "execution_count": 528,
   "metadata": {},
   "outputs": [
    {
     "data": {
      "text/html": [
       "<div>\n",
       "<style scoped>\n",
       "    .dataframe tbody tr th:only-of-type {\n",
       "        vertical-align: middle;\n",
       "    }\n",
       "\n",
       "    .dataframe tbody tr th {\n",
       "        vertical-align: top;\n",
       "    }\n",
       "\n",
       "    .dataframe thead th {\n",
       "        text-align: right;\n",
       "    }\n",
       "</style>\n",
       "<table border=\"1\" class=\"dataframe\">\n",
       "  <thead>\n",
       "    <tr style=\"text-align: right;\">\n",
       "      <th></th>\n",
       "      <th>date</th>\n",
       "      <th>confirmed_cases</th>\n",
       "      <th>keyword</th>\n",
       "      <th>geoname</th>\n",
       "      <th>Ausgangs- bzw. Ausbruchsland</th>\n",
       "      <th>Todesfälle</th>\n",
       "      <th>combined_counts</th>\n",
       "    </tr>\n",
       "  </thead>\n",
       "  <tbody>\n",
       "    <tr>\n",
       "      <th>0</th>\n",
       "      <td>[]</td>\n",
       "      <td>[1]</td>\n",
       "      <td>[Middle East respiratory syndrome, Middle East...</td>\n",
       "      <td>[Middle East]</td>\n",
       "      <td>Oman</td>\n",
       "      <td>NaN</td>\n",
       "      <td>[nan, nan]</td>\n",
       "    </tr>\n",
       "    <tr>\n",
       "      <th>1</th>\n",
       "      <td>[2018-04-01, 2018-03-02, 2018-01-17, 2018-04-0...</td>\n",
       "      <td>[20, 19, 1, 7, 1, 27, 8, 30]</td>\n",
       "      <td>[listeriosis, listeriosis, listeriosis, lister...</td>\n",
       "      <td>[Commonwealth of Australia, Hong Kong Special ...</td>\n",
       "      <td>Australien</td>\n",
       "      <td>7</td>\n",
       "      <td>[19, nan]</td>\n",
       "    </tr>\n",
       "    <tr>\n",
       "      <th>2</th>\n",
       "      <td>[2018-04-01, 2018-01-01, 1849-01-01, 2018-04-1...</td>\n",
       "      <td>[21, 413, 9, 1422, 5, 413, 9, 114, 27, 7, 8, 1...</td>\n",
       "      <td>[Lassa fever, Lassa fever, Lassa fever, Lassa ...</td>\n",
       "      <td>[Anambra State, Bauchi, Benue State, Federal C...</td>\n",
       "      <td>Nigeria</td>\n",
       "      <td>105</td>\n",
       "      <td>[413, 1849]</td>\n",
       "    </tr>\n",
       "    <tr>\n",
       "      <th>3</th>\n",
       "      <td>[2018-05-11, 2018-05-10, 2018-05-09, 2018-11-1...</td>\n",
       "      <td>[34, 2, 18, 14, 5, 5, 2, 1, 1, 3, 2, 15, 4, 5]</td>\n",
       "      <td>[Ebola hemorrhagic fever, Ebola hemorrhagic fe...</td>\n",
       "      <td>[Democratic Republic of the Congo, Province de...</td>\n",
       "      <td>Demokratische Republik Kongo</td>\n",
       "      <td>18</td>\n",
       "      <td>[2, nan]</td>\n",
       "    </tr>\n",
       "    <tr>\n",
       "      <th>4</th>\n",
       "      <td>[2018-05-10, 2018-04-04, 2018-05-13, 2018-05-1...</td>\n",
       "      <td>[7, 39, 19, 3, 2, 20, 7, 3, 5, 2, 393, 1200000...</td>\n",
       "      <td>[Ebola hemorrhagic fever, Ebola hemorrhagic fe...</td>\n",
       "      <td>[Province de l’Équateur, Mbandaka, Mbandaka, M...</td>\n",
       "      <td>Demokratische Republik Kongo</td>\n",
       "      <td>20</td>\n",
       "      <td>[2, nan]</td>\n",
       "    </tr>\n",
       "  </tbody>\n",
       "</table>\n",
       "</div>"
      ],
      "text/plain": [
       "                                                date  \\\n",
       "0                                                 []   \n",
       "1  [2018-04-01, 2018-03-02, 2018-01-17, 2018-04-0...   \n",
       "2  [2018-04-01, 2018-01-01, 1849-01-01, 2018-04-1...   \n",
       "3  [2018-05-11, 2018-05-10, 2018-05-09, 2018-11-1...   \n",
       "4  [2018-05-10, 2018-04-04, 2018-05-13, 2018-05-1...   \n",
       "\n",
       "                                     confirmed_cases  \\\n",
       "0                                                [1]   \n",
       "1                       [20, 19, 1, 7, 1, 27, 8, 30]   \n",
       "2  [21, 413, 9, 1422, 5, 413, 9, 114, 27, 7, 8, 1...   \n",
       "3     [34, 2, 18, 14, 5, 5, 2, 1, 1, 3, 2, 15, 4, 5]   \n",
       "4  [7, 39, 19, 3, 2, 20, 7, 3, 5, 2, 393, 1200000...   \n",
       "\n",
       "                                             keyword  \\\n",
       "0  [Middle East respiratory syndrome, Middle East...   \n",
       "1  [listeriosis, listeriosis, listeriosis, lister...   \n",
       "2  [Lassa fever, Lassa fever, Lassa fever, Lassa ...   \n",
       "3  [Ebola hemorrhagic fever, Ebola hemorrhagic fe...   \n",
       "4  [Ebola hemorrhagic fever, Ebola hemorrhagic fe...   \n",
       "\n",
       "                                             geoname  \\\n",
       "0                                      [Middle East]   \n",
       "1  [Commonwealth of Australia, Hong Kong Special ...   \n",
       "2  [Anambra State, Bauchi, Benue State, Federal C...   \n",
       "3  [Democratic Republic of the Congo, Province de...   \n",
       "4  [Province de l’Équateur, Mbandaka, Mbandaka, M...   \n",
       "\n",
       "  Ausgangs- bzw. Ausbruchsland  Todesfälle  combined_counts  \n",
       "0                         Oman          NaN      [nan, nan]  \n",
       "1                    Australien           7       [19, nan]  \n",
       "2                       Nigeria         105     [413, 1849]  \n",
       "3  Demokratische Republik Kongo          18        [2, nan]  \n",
       "4  Demokratische Republik Kongo          20        [2, nan]  "
      ]
     },
     "execution_count": 528,
     "metadata": {},
     "output_type": "execute_result"
    }
   ],
   "source": [
    "comparison_df.head()"
   ]
  },
  {
   "cell_type": "code",
   "execution_count": 502,
   "metadata": {},
   "outputs": [
    {
     "name": "stdout",
     "output_type": "stream",
     "text": [
      "['nan', 'nan']\n",
      "['19', '1 0']\n",
      "['413', '9 0']\n",
      "['2', 'nan']\n",
      "['2', 'nan']\n",
      "['3', 'nan']\n",
      "['nan', 'nan']\n",
      "['15', 'nan']\n",
      "['1', 'nan']\n",
      "['114', 'nan']\n",
      "['nan', 'nan']\n",
      "['nan', 'nan']\n",
      "['nan', 'nan']\n",
      "['16', '27 0']\n",
      "['nan', 'nan']\n",
      "['nan', 'nan']\n",
      "['nan', 'nan']\n"
     ]
    }
   ],
   "source": [
    "matches = {\"date\":[],\"cases\":[]}\n",
    "for index, row in comparison_df.iterrows():\n",
    "    print(row['combined_counts'])\n",
    "    matches[\"date\"].append([any(date in epi_date  for epi_date in row[\"date\"]) for date in row['combined_dates']])\n",
    "    matches[\"cases\"].append([any(count in epi_case for epi_case in row[\"confirmed_cases\"]) for count in row['combined_counts']])"
   ]
  },
  {
   "cell_type": "code",
   "execution_count": 471,
   "metadata": {},
   "outputs": [
    {
     "data": {
      "text/plain": [
       "[[False, False, False],\n",
       " [False, False, False],\n",
       " [False, False, False],\n",
       " [True, False, False],\n",
       " [True, False, False],\n",
       " [True, False, False],\n",
       " [False, False, False],\n",
       " [False, False, False],\n",
       " [True, False, False],\n",
       " [False, False, False],\n",
       " [False, False, False],\n",
       " [False, False, False],\n",
       " [False, False, False],\n",
       " [False, False, False],\n",
       " [False, False, False],\n",
       " [False, False, False],\n",
       " [False, False, False]]"
      ]
     },
     "execution_count": 471,
     "metadata": {},
     "output_type": "execute_result"
    }
   ],
   "source": [
    "matches[\"cases\"]"
   ]
  },
  {
   "cell_type": "code",
   "execution_count": 461,
   "metadata": {},
   "outputs": [],
   "source": [
    "epi = ['2018-04-01', '2018-03-02', '2018-01-17', '2018-04-06', '2018-01-17', '2018-03-02', '2018-03-03', '2018-03-07', '2018-03-08', '2018-03-08', '2018-03-09', '2018-03-08', '2018-04-04', '2018-04-02']"
   ]
  },
  {
   "cell_type": "code",
   "execution_count": 462,
   "metadata": {},
   "outputs": [],
   "source": [
    "erg = ['2018-01-17', 'nan']"
   ]
  },
  {
   "cell_type": "code",
   "execution_count": 463,
   "metadata": {},
   "outputs": [
    {
     "data": {
      "text/plain": [
       "[True, False]"
      ]
     },
     "execution_count": 463,
     "metadata": {},
     "output_type": "execute_result"
    }
   ],
   "source": [
    "[any(date in epi_date for epi_date in epi) for date in erg]"
   ]
  },
  {
   "cell_type": "code",
   "execution_count": null,
   "metadata": {},
   "outputs": [],
   "source": []
  }
 ],
 "metadata": {
  "kernelspec": {
   "display_name": "Python 3",
   "language": "python",
   "name": "python3"
  }
 },
 "nbformat": 4,
 "nbformat_minor": 2
}
