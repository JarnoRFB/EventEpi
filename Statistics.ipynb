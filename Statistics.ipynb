{
 "cells": [
  {
   "cell_type": "code",
   "execution_count": 1,
   "metadata": {},
   "outputs": [],
   "source": [
    "%load_ext autoreload\n",
    "%autoreload 2\n",
    "import spacy\n",
    "spacy.load('en_core_web_sm')\n",
    "\n",
    "import re\n",
    "import pandas as pd\n",
    "import pickle\n",
    "import os\n",
    "\n",
    "from nlp_surveillance.who_scraper import get_annotated_2018_whos\n",
    "from nlp_surveillance.annotator import *\n",
    "from nlp_surveillance.edb_clean import get_cleaned_edb\n",
    "from nlp_surveillance.wiki_country_parser import get_wiki_countries_df"
   ]
  },
  {
   "cell_type": "code",
   "execution_count": 2,
   "metadata": {
    "scrolled": true
   },
   "outputs": [
    {
     "name": "stderr",
     "output_type": "stream",
     "text": [
      "/Users/aussabbood/github/nlp-surveillance/nlp_surveillance/edb_clean.py:61: UserWarning: \"31.09.2018\" is not an existing date. Please change it\n",
      "  warnings.warn('\"{}\" is not an existing date. Please change it'.format(date))\n"
     ]
    }
   ],
   "source": [
    "edb = get_cleaned_edb()\n",
    "pickle.dump(edb, open('edb.p', 'wb'))"
   ]
  },
  {
   "cell_type": "code",
   "execution_count": null,
   "metadata": {},
   "outputs": [],
   "source": [
    "edb = pickle.load(open('edb.p', 'rb'))"
   ]
  },
  {
   "cell_type": "markdown",
   "metadata": {},
   "source": [
    "## Countries"
   ]
  },
  {
   "cell_type": "code",
   "execution_count": 7,
   "metadata": {},
   "outputs": [
    {
     "name": "stdout",
     "output_type": "stream",
     "text": [
      "295  entries in edb\n",
      "280  are not empty\n",
      "80  are unique\n"
     ]
    }
   ],
   "source": [
    "print(len(edb),\" entries\", \"in edb\")\n",
    "countries_not_null = edb[pd.notnull(edb[\"Ausgangs- bzw. Ausbruchsland\"])]\n",
    "print(len(countries_not_null),\" are not empty\")\n",
    "unique = set(c[0] if type(c)==list else c for c in countries_not_null['Ausgangs- bzw. Ausbruchsland'].tolist())\n",
    "print(len(unique), \" are unique\")"
   ]
  },
  {
   "cell_type": "code",
   "execution_count": 8,
   "metadata": {},
   "outputs": [
    {
     "name": "stdout",
     "output_type": "stream",
     "text": [
      "8 countries were not translated:\n",
      "['La Reunion', 'Nordeuropa', 'Taiwan', 'Französiche Guyana', 'Typhus', 'VAE Dubai', 'DRCongo', 'Französisch-Polynesien']\n",
      "Taiwan is listed here because it is written the same in English and in German. So, it got translated\n"
     ]
    }
   ],
   "source": [
    "wiki_countries_df = get_wiki_countries_df()\n",
    "same_word_translated = []\n",
    "for _, row in wiki_countries_df.iterrows():\n",
    "    if row['state_name_de'] == row['translation_state_name']:\n",
    "        same_word_translated.append(row['state_name_de'])\n",
    "    elif row['full_state_name_de'] == row['translation_state_name']:\n",
    "        same_word_translated.append(row['full_state_name_de'])\n",
    "edb_path = os.path.join('nlp_surveillance', 'data', 'edb.csv')\n",
    "unprocesed_edb = pd.read_csv(edb_path, sep=\";\")\n",
    "\n",
    "# Exlude words that are unchanged compared to unproccessed version\n",
    "unchanged_country_names = [e for e in unique if e in unprocesed_edb['Ausgangs- bzw. Ausbruchsland '].tolist()]\n",
    "# Exlude words that are the same after translation\n",
    "unchanged_country_names = [e for e in unchanged_country_names if e not in same_word_translated]\n",
    "# Exlude words that were English in the first place\n",
    "unchanged_country_names =  [e for e in unchanged_country_names if e not in wiki_countries_df[\"translation_state_name\"].tolist()]\n",
    "print(\"{} countries were not translated:\".format(len(unchanged_country_names)))\n",
    "print(unchanged_country_names)\n",
    "print(\"Taiwan is listed here because it is written the same in English and in German. So, it got translated\")"
   ]
  },
  {
   "cell_type": "code",
   "execution_count": 9,
   "metadata": {},
   "outputs": [
    {
     "name": "stdout",
     "output_type": "stream",
     "text": [
      "52 edb entires without any links\n"
     ]
    }
   ],
   "source": [
    "links = edb.columns[:10:-3]\n",
    "edb_with_any_link = edb[links].dropna(how='all')\n",
    "print(len(edb) - len(edb_with_any_link), 'edb entires without any links')"
   ]
  },
  {
   "cell_type": "markdown",
   "metadata": {},
   "source": [
    "## Sources/Links"
   ]
  },
  {
   "cell_type": "code",
   "execution_count": 10,
   "metadata": {},
   "outputs": [
    {
     "name": "stdout",
     "output_type": "stream",
     "text": [
      "edb has 295 entries\n",
      "86 are valid training entries to optimize date search\n"
     ]
    }
   ],
   "source": [
    "from nlp_surveillance.optimize_date_and_count import _get_edb_with_combined_link_columns, _remove_invalid_entries\n",
    "print('edb has', len(edb), 'entries')\n",
    "valid_date_optimization_entries = _remove_invalid_entries(_get_edb_with_combined_link_columns(edb),to_optimize='date')\n",
    "print(len(valid_date_optimization_entries), 'are valid training entries to optimize date search')"
   ]
  },
  {
   "cell_type": "markdown",
   "metadata": {},
   "source": [
    "# Present EpiTator Capabilites"
   ]
  },
  {
   "cell_type": "markdown",
   "metadata": {},
   "source": [
    "## Get WHO articles"
   ]
  },
  {
   "cell_type": "code",
   "execution_count": 11,
   "metadata": {},
   "outputs": [],
   "source": [
    "parsed_whos_df = get_annotated_2018_whos()"
   ]
  },
  {
   "cell_type": "markdown",
   "metadata": {},
   "source": [
    "## Filter the edb for rows that mention 'who' or 'don'\n",
    "\n"
   ]
  },
  {
   "cell_type": "code",
   "execution_count": 13,
   "metadata": {},
   "outputs": [],
   "source": [
    "links = [column for column in edb.columns[10::].tolist() if 'Link' in column]\n",
    "mask = edb.copy(deep=True) # Create a mask for filtering\n",
    "# Use only the columns about sources to filter\n",
    "for column in edb[links]:\n",
    "    mask[column] = edb[column].str.contains('who',na=False) # Extract all the entries that have the word \"who\"\n",
    "    mask[column] = edb[column].str.contains('don',na=False) # and \"don\"\n",
    "indices_to_drop = [i for i in range(len(mask)) if not mask[links].iloc[i].any()]\n",
    "\n",
    "# Drop all rows that don't mention \"who\" or \"don\"\n",
    "sources_filtered = edb.drop(np.reshape(indices_to_drop,(len(indices_to_drop),)))"
   ]
  },
  {
   "cell_type": "code",
   "execution_count": 14,
   "metadata": {},
   "outputs": [],
   "source": [
    "edb.iloc[sources_filtered.index.tolist(),[3,6,7,9]]\n",
    "\n",
    "# Prettify the link description\n",
    "all_links = scrape(years=['2018'],proxies=None)\n",
    "link_description = [re.search(r'don/(.*)/en',all_links[i])[1]\\\n",
    "                    .replace('-', ' ',2).replace('-',', ',2).replace('-',' ')\\\n",
    "                    for i in range(len(all_links))]"
   ]
  },
  {
   "cell_type": "code",
   "execution_count": 15,
   "metadata": {},
   "outputs": [],
   "source": [
    "compare = parsed_whos_df.iloc[:,[1,3,4]].copy()\n",
    "compare['link_description'] = pd.Series(link_description,index=compare.index)"
   ]
  },
  {
   "cell_type": "markdown",
   "metadata": {},
   "source": [
    "## Very left column is the target and left the outcome of epitator"
   ]
  },
  {
   "cell_type": "code",
   "execution_count": null,
   "metadata": {},
   "outputs": [],
   "source": [
    "compare.head()"
   ]
  }
 ],
 "metadata": {
  "kernelspec": {
   "display_name": "Python 3",
   "language": "python",
   "name": "python3"
  },
  "language_info": {
   "codemirror_mode": {
    "name": "ipython",
    "version": 3
   },
   "file_extension": ".py",
   "mimetype": "text/x-python",
   "name": "python",
   "nbconvert_exporter": "python",
   "pygments_lexer": "ipython3",
   "version": "3.6.7"
  }
 },
 "nbformat": 4,
 "nbformat_minor": 2
}
