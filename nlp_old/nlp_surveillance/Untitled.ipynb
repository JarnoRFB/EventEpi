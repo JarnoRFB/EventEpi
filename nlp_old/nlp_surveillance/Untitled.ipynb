{
 "cells": [
  {
   "cell_type": "code",
   "execution_count": 5,
   "metadata": {},
   "outputs": [],
   "source": [
    "from epitator.annotator import AnnoDoc\n",
    "from epitator.geoname_annotator import GeonameAnnotator\n",
    "from epitator.resolved_keyword_annotator import ResolvedKeywordAnnotator\n",
    "from epitator.count_annotator import CountAnnotator\n",
    "from epitator.date_annotator import DateAnnotator\n",
    "from types import MethodType\n"
   ]
  },
  {
   "cell_type": "code",
   "execution_count": 6,
   "metadata": {},
   "outputs": [],
   "source": [
    "def delete_non_epitator_name_entity_tiers(self):\n",
    "    del self.tiers[\"spacy.nes\"]\n",
    "    del self.tiers[\"spacy.noun_chunks\"]\n",
    "    del self.tiers[\"spacy.sentences\"]\n",
    "    del self.tiers[\"spacy.tokens\"]\n",
    "    del self.tiers[\"nes\"]\n",
    "    del self.tiers[\"ngrams\"]\n",
    "    del self.tiers[\"tokens\"]"
   ]
  },
  {
   "cell_type": "code",
   "execution_count": 7,
   "metadata": {},
   "outputs": [],
   "source": [
    "def annotate(text, tiers=None):\n",
    "    # Returns an annotated text\n",
    "    doc = AnnoDoc(text)\n",
    "    # Add bound method to delete spacy tiers. Necessary because pickling does not work otherwise\n",
    "    doc.delete_non_epitator_name_entity_tiers = MethodType(delete_non_epitator_name_entity_tiers, doc)\n",
    "    if tiers is None:\n",
    "        doc.add_tiers(GeonameAnnotator())\n",
    "        doc.add_tiers(ResolvedKeywordAnnotator())\n",
    "        doc.add_tiers(CountAnnotator())\n",
    "        doc.add_tiers(DateAnnotator())\n",
    "    else:\n",
    "        if not isinstance(tiers, list):\n",
    "            tiers = [tiers]\n",
    "        list(map(lambda tier: doc.add_tiers(eval(tier)), tiers))\n",
    "\n",
    "    return doc"
   ]
  },
  {
   "cell_type": "code",
   "execution_count": 9,
   "metadata": {},
   "outputs": [],
   "source": [
    "a = annotate('Lol, ich bin hier in Berlin und habe Ebola')"
   ]
  },
  {
   "cell_type": "code",
   "execution_count": 10,
   "metadata": {},
   "outputs": [],
   "source": [
    "a.delete_non_epitator_name_entity_tiers()"
   ]
  },
  {
   "cell_type": "code",
   "execution_count": 12,
   "metadata": {},
   "outputs": [
    {
     "data": {
      "text/plain": [
       "{'geonames': AnnoTier([]),\n",
       " 'resolved_keywords': AnnoTier([AnnoSpan(37-42, Ebola)['http://purl.obolibrary.org/obo/DOID_4325']]),\n",
       " 'structured_data': AnnoTier([]),\n",
       " 'structured_data.values': AnnoTier([]),\n",
       " 'dates': AnnoTier([]),\n",
       " 'raw_numbers': AnnoTier([]),\n",
       " 'counts': AnnoTier([])}"
      ]
     },
     "execution_count": 12,
     "metadata": {},
     "output_type": "execute_result"
    }
   ],
   "source": [
    "a.tiers"
   ]
  },
  {
   "cell_type": "code",
   "execution_count": null,
   "metadata": {},
   "outputs": [],
   "source": [
    "import pickle\n",
    "pickle.dump(a, open('test.pkl', 'wb'))"
   ]
  },
  {
   "cell_type": "code",
   "execution_count": null,
   "metadata": {},
   "outputs": [],
   "source": []
  }
 ],
 "metadata": {
  "kernelspec": {
   "display_name": "Python 3",
   "language": "python",
   "name": "python3"
  },
  "language_info": {
   "codemirror_mode": {
    "name": "ipython",
    "version": 3
   },
   "file_extension": ".py",
   "mimetype": "text/x-python",
   "name": "python",
   "nbconvert_exporter": "python",
   "pygments_lexer": "ipython3",
   "version": "3.6.7"
  }
 },
 "nbformat": 4,
 "nbformat_minor": 2
}
