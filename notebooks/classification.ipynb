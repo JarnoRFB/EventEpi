{
 "cells": [
  {
   "cell_type": "code",
   "execution_count": 1,
   "metadata": {},
   "outputs": [],
   "source": [
    "%load_ext autoreload\n",
    "%autoreload 2"
   ]
  },
  {
   "cell_type": "code",
   "execution_count": 1,
   "metadata": {},
   "outputs": [
    {
     "name": "stderr",
     "output_type": "stream",
     "text": [
      "Using TensorFlow backend.\n"
     ]
    }
   ],
   "source": [
    "import sys\n",
    "import os\n",
    "import nltk\n",
    "import re\n",
    "import pandas as pd\n",
    "import numpy as np\n",
    "import matplotlib.pyplot as plt\n",
    "\n",
    "from imblearn.under_sampling import RandomUnderSampler\n",
    "from imblearn.metrics import classification_report_imbalanced\n",
    "from imblearn.over_sampling import ADASYN\n",
    "from nltk.corpus import stopwords\n",
    "from nltk.tokenize import word_tokenize\n",
    "from sklearn.naive_bayes import ComplementNB, BernoulliNB, MultinomialNB\n",
    "from sklearn.metrics import classification_report, auc, roc_curve, confusion_matrix\n",
    "from sklearn.utils.class_weight import compute_sample_weight\n",
    "from sklearn.model_selection import GridSearchCV, train_test_split\n",
    "from sklearn.base import TransformerMixin\n",
    "from sklearn.neural_network import MLPClassifier\n",
    "from sklearn.linear_model import LogisticRegression\n",
    "from sklearn.pipeline import Pipeline\n",
    "from sklearn.neighbors import KNeighborsClassifier\n",
    "from sklearn.feature_extraction.text import CountVectorizer, TfidfTransformer\n",
    "from sklearn.svm import SVC\n",
    "from sklearn.svm import LinearSVC\n",
    "\n",
    "sys.path.append(\"..\")\n",
    "from nlp_surveillance.pipeline import ExtractSentencesAndLabel, RecommenderLabeling\n",
    "from nlp_surveillance.my_utils import split_list_and_distribute_to_new_rows"
   ]
  },
  {
   "cell_type": "code",
   "execution_count": 2,
   "metadata": {},
   "outputs": [],
   "source": [
    "np.random.seed(13353)"
   ]
  },
  {
   "cell_type": "code",
   "execution_count": 3,
   "metadata": {},
   "outputs": [],
   "source": [
    "def print_performance(clf, y_test, X_test, save=False):\n",
    "    try:\n",
    "        fpr, tpr, _ = roc_curve(y_test, clf.predict_proba(X_test)[:, 1])\n",
    "    except (AttributeError, IndexError):\n",
    "        fpr, tpr, _ = roc_curve(y_test, clf.predict(X_test))\n",
    "    plt.xlabel('False Positive Rate')\n",
    "    plt.ylabel('True Positive Rate')\n",
    "    if save:\n",
    "        plt.savefig(f'{name}.pdf', format='pdf')\n",
    "    plt.plot([0, 1], [0, 1], linestyle='--')\n",
    "\n",
    "    plt.plot(fpr, tpr)\n",
    "    y_pred = clf.predict(X_test)\n",
    "    print(classification_report_imbalanced(y_test, y_pred))\n",
    "    print(confusion_matrix(y_test, y_pred))\n",
    "    print('AUC score: {:3f}'.format(auc(fpr, tpr)))"
   ]
  },
  {
   "cell_type": "markdown",
   "metadata": {},
   "source": [
    "# Count/Date Classifier"
   ]
  },
  {
   "cell_type": "code",
   "execution_count": 13,
   "metadata": {},
   "outputs": [],
   "source": [
    "df_counts = ExtractSentencesAndLabel(\"counts\").data_output()\n",
    "\n",
    "df_counts[\"sentence\"] = (df_counts[\"sentence\"]\n",
    "                         .apply(lambda x: \n",
    "                                re.sub(r\"([0-9a-zA-Z]+)\\.([A-Za-z]+\\s)\",\n",
    "                                       r\"\\g<1>. \\g<2>\",\n",
    "                                       x)\n",
    "                               )\n",
    "                        )"
   ]
  },
  {
   "cell_type": "code",
   "execution_count": 14,
   "metadata": {},
   "outputs": [
    {
     "data": {
      "text/plain": [
       "GridSearchCV(cv=4, error_score='raise-deprecating',\n",
       "       estimator=Pipeline(memory=None,\n",
       "     steps=[('vect', CountVectorizer(analyzer='word', binary=False, decode_error='strict',\n",
       "        dtype=<class 'numpy.int64'>, encoding='utf-8', input='content',\n",
       "        lowercase=True, max_df=1.0, max_features=None, min_df=1,\n",
       "        ngram_range=(1, 1), preprocessor=None, stop_words='english',\n",
       "        ...inear_tf=False, use_idf=True)), ('clf', MultinomialNB(alpha=1.0, class_prior=None, fit_prior=True))]),\n",
       "       fit_params=None, iid=False, n_jobs=2,\n",
       "       param_grid={'vect__ngram_range': [(1, 1), (1, 2), (1, 5)], 'tfidf__use_idf': (True, False), 'clf__alpha': (1, 0.5, 0.1, 0.001)},\n",
       "       pre_dispatch='2*n_jobs', refit=True, return_train_score='warn',\n",
       "       scoring=None, verbose=0)"
      ]
     },
     "execution_count": 14,
     "metadata": {},
     "output_type": "execute_result"
    }
   ],
   "source": [
    "count_clf = Pipeline([\n",
    "    ('vect', CountVectorizer(stop_words=\"english\",\n",
    "                             tokenizer=word_tokenize)),\n",
    "    ('tfidf', TfidfTransformer()),\n",
    "    ('clf', MultinomialNB()),])\n",
    "parameters = {'vect__ngram_range': [(1, 1), (1, 2), (1, 5)],\n",
    "              'tfidf__use_idf': (True, False),\n",
    "              'clf__alpha': (1, 0.5, 0.1, 1e-3)}\n",
    "count_gs_clf = GridSearchCV(count_clf, \n",
    "                            parameters, \n",
    "                            iid=False, \n",
    "                            cv=4,\n",
    "                            n_jobs=(os.cpu_count()//2))\n",
    "\n",
    "(train_texts_counts, \n",
    " dev_texts_counts, \n",
    " train_cats_counts, \n",
    " dev_cats_counts) = train_test_split(df_counts['sentence'],\n",
    "                                     df_counts['label'],\n",
    "                                     test_size=.2,\n",
    "                                     random_state=13353,\n",
    "                                     stratify=df_counts[\"label\"]\n",
    "                                    )\n",
    "\n",
    "count_gs_clf.fit(train_texts_counts, \n",
    "                 train_cats_counts, \n",
    "                 clf__sample_weight=compute_sample_weight(class_weight='balanced', y=train_cats_counts))"
   ]
  },
  {
   "cell_type": "code",
   "execution_count": 15,
   "metadata": {
    "scrolled": false
   },
   "outputs": [
    {
     "name": "stdout",
     "output_type": "stream",
     "text": [
      "                   pre       rec       spe        f1       geo       iba       sup\n",
      "\n",
      "      False       0.97      0.88      0.65      0.92      0.76      0.58       449\n",
      "       True       0.32      0.65      0.88      0.43      0.76      0.56        40\n",
      "\n",
      "avg / total       0.91      0.86      0.67      0.88      0.76      0.58       489\n",
      "\n",
      "[[394  55]\n",
      " [ 14  26]]\n",
      "AUC score: 0.848357\n"
     ]
    },
    {
     "data": {
      "image/png": "[encoded data removed]",
      "text/plain": [
       "<Figure size 432x288 with 1 Axes>"
      ]
     },
     "metadata": {
      "needs_background": "light"
     },
     "output_type": "display_data"
    }
   ],
   "source": [
    "print_performance(count_gs_clf, dev_cats_counts, dev_texts_counts)"
   ]
  },
  {
   "cell_type": "code",
   "execution_count": 16,
   "metadata": {},
   "outputs": [
    {
     "data": {
      "text/plain": [
       "GridSearchCV(cv=4, error_score='raise-deprecating',\n",
       "       estimator=Pipeline(memory=None,\n",
       "     steps=[('vect', CountVectorizer(analyzer='word', binary=False, decode_error='strict',\n",
       "        dtype=<class 'numpy.int64'>, encoding='utf-8', input='content',\n",
       "        lowercase=True, max_df=1.0, max_features=None, min_df=1,\n",
       "        ngram_range=(1, 1), preprocessor=None, stop_words='english',\n",
       "        ...se, use_idf=True)), ('clf', BernoulliNB(alpha=1.0, binarize=0.0, class_prior=None, fit_prior=True))]),\n",
       "       fit_params=None, iid=False, n_jobs=2,\n",
       "       param_grid={'vect__ngram_range': [(1, 1), (1, 2), (1, 3), (1, 4), (1, 5)], 'tfidf__use_idf': (True, False), 'clf__alpha': (1, 0.5, 0.1, 0.01, 0.001)},\n",
       "       pre_dispatch='2*n_jobs', refit=True, return_train_score='warn',\n",
       "       scoring=None, verbose=0)"
      ]
     },
     "execution_count": 16,
     "metadata": {},
     "output_type": "execute_result"
    }
   ],
   "source": [
    "count_clf_ber = Pipeline([\n",
    "    ('vect', CountVectorizer(stop_words=\"english\",\n",
    "                             tokenizer=word_tokenize)),\n",
    "    ('tfidf', TfidfTransformer()),\n",
    "    ('clf', BernoulliNB()),])\n",
    "\n",
    "parameters = {'vect__ngram_range': [(1, 1), (1, 2), (1, 3), (1, 4), (1, 5)],\n",
    "              'tfidf__use_idf': (True, False),\n",
    "              'clf__alpha': (1, 0.5, 0.1, 1e-2, 1e-3)}\n",
    "count_gs_clf_ber = GridSearchCV(count_clf_ber, \n",
    "                                parameters, \n",
    "                                iid=False, \n",
    "                                cv=4,\n",
    "                                n_jobs=(os.cpu_count()//2))\n",
    "\n",
    "count_gs_clf_ber.fit(train_texts_counts, \n",
    "                     train_cats_counts, \n",
    "                     clf__sample_weight=compute_sample_weight(class_weight='balanced', y=train_cats_counts))"
   ]
  },
  {
   "cell_type": "code",
   "execution_count": 17,
   "metadata": {},
   "outputs": [
    {
     "name": "stdout",
     "output_type": "stream",
     "text": [
      "                   pre       rec       spe        f1       geo       iba       sup\n",
      "\n",
      "      False       0.96      0.88      0.55      0.91      0.69      0.50       449\n",
      "       True       0.28      0.55      0.88      0.37      0.69      0.47        40\n",
      "\n",
      "avg / total       0.90      0.85      0.58      0.87      0.69      0.49       489\n",
      "\n",
      "[[393  56]\n",
      " [ 18  22]]\n",
      "AUC score: 0.796381\n"
     ]
    },
    {
     "data": {
      "image/png": "[encoded data removed]",
      "text/plain": [
       "<Figure size 432x288 with 1 Axes>"
      ]
     },
     "metadata": {
      "needs_background": "light"
     },
     "output_type": "display_data"
    }
   ],
   "source": [
    "print_performance(count_gs_clf_ber, dev_cats_counts, dev_texts_counts)"
   ]
  },
  {
   "cell_type": "code",
   "execution_count": 18,
   "metadata": {},
   "outputs": [],
   "source": [
    "df_dates = ExtractSentencesAndLabel(\"dates\").data_output()"
   ]
  },
  {
   "cell_type": "code",
   "execution_count": 19,
   "metadata": {},
   "outputs": [],
   "source": [
    "df_dates[\"sentence\"] = (df_dates[\"sentence\"]\n",
    "                         .apply(lambda x: \n",
    "                                re.sub(r\"([0-9a-zA-Z]+)\\.([A-Za-z]+\\s)\",\n",
    "                                       r\"\\g<1>. \\g<2>\",\n",
    "                                       x)\n",
    "                               )\n",
    "                        )\n"
   ]
  },
  {
   "cell_type": "code",
   "execution_count": 20,
   "metadata": {},
   "outputs": [
    {
     "data": {
      "text/plain": [
       "GridSearchCV(cv=4, error_score='raise-deprecating',\n",
       "       estimator=Pipeline(memory=None,\n",
       "     steps=[('vect', CountVectorizer(analyzer='word', binary=False, decode_error='strict',\n",
       "        dtype=<class 'numpy.int64'>, encoding='utf-8', input='content',\n",
       "        lowercase=True, max_df=1.0, max_features=None, min_df=1,\n",
       "        ngram_range=(1, 1), preprocessor=None, stop_words='english',\n",
       "        ...inear_tf=False, use_idf=True)), ('clf', MultinomialNB(alpha=1.0, class_prior=None, fit_prior=True))]),\n",
       "       fit_params=None, iid=False, n_jobs=2,\n",
       "       param_grid={'vect__ngram_range': [(1, 1), (1, 2), (1, 5)], 'tfidf__use_idf': (True, False), 'clf__alpha': (1, 0.5, 0.1, 0.001)},\n",
       "       pre_dispatch='2*n_jobs', refit=True, return_train_score='warn',\n",
       "       scoring=None, verbose=0)"
      ]
     },
     "execution_count": 20,
     "metadata": {},
     "output_type": "execute_result"
    }
   ],
   "source": [
    "date_clf = Pipeline([\n",
    "    ('vect', CountVectorizer(stop_words=\"english\",\n",
    "                             tokenizer=word_tokenize)),\n",
    "    ('tfidf', TfidfTransformer()),\n",
    "    ('clf', MultinomialNB()),])\n",
    "parameters = {'vect__ngram_range': [(1, 1), (1, 2), (1, 5)],\n",
    "              'tfidf__use_idf': (True, False),\n",
    "              'clf__alpha': (1, 0.5, 0.1, 1e-3)}\n",
    "date_gs_clf = GridSearchCV(date_clf, \n",
    "                            parameters, \n",
    "                            iid=False, \n",
    "                            cv=4,\n",
    "                            n_jobs=(os.cpu_count()//2))\n",
    "\n",
    "(train_texts_counts, \n",
    " dev_texts_counts, \n",
    " train_cats_counts, \n",
    " dev_cats_counts) = train_test_split(df_dates['sentence'],\n",
    "                                     df_dates['label'],\n",
    "                                     test_size=.2,\n",
    "                                     random_state=13353,\n",
    "                                     stratify=df_dates[\"label\"]\n",
    "                                    )\n",
    "\n",
    "date_gs_clf.fit(train_texts_counts, \n",
    "                train_cats_counts, \n",
    "                clf__sample_weight=compute_sample_weight(class_weight='balanced', y=train_cats_counts))"
   ]
  },
  {
   "cell_type": "code",
   "execution_count": 21,
   "metadata": {
    "scrolled": false
   },
   "outputs": [
    {
     "name": "stdout",
     "output_type": "stream",
     "text": [
      "                   pre       rec       spe        f1       geo       iba       sup\n",
      "\n",
      "      False       0.84      0.87      0.44      0.85      0.62      0.40        30\n",
      "       True       0.50      0.44      0.87      0.47      0.62      0.37         9\n",
      "\n",
      "avg / total       0.76      0.77      0.54      0.76      0.62      0.39        39\n",
      "\n",
      "[[26  4]\n",
      " [ 5  4]]\n",
      "AUC score: 0.609259\n"
     ]
    },
    {
     "data": {
      "image/png": "[encoded data removed]",
      "text/plain": [
       "<Figure size 432x288 with 1 Axes>"
      ]
     },
     "metadata": {
      "needs_background": "light"
     },
     "output_type": "display_data"
    }
   ],
   "source": [
    "print_performance(date_gs_clf, dev_cats_counts, dev_texts_counts)"
   ]
  },
  {
   "cell_type": "code",
   "execution_count": 22,
   "metadata": {},
   "outputs": [
    {
     "data": {
      "text/plain": [
       "GridSearchCV(cv=4, error_score='raise-deprecating',\n",
       "       estimator=Pipeline(memory=None,\n",
       "     steps=[('vect', CountVectorizer(analyzer='word', binary=False, decode_error='strict',\n",
       "        dtype=<class 'numpy.int64'>, encoding='utf-8', input='content',\n",
       "        lowercase=True, max_df=1.0, max_features=None, min_df=1,\n",
       "        ngram_range=(1, 1), preprocessor=None, stop_words='english',\n",
       "        ...se, use_idf=True)), ('clf', BernoulliNB(alpha=1.0, binarize=0.0, class_prior=None, fit_prior=True))]),\n",
       "       fit_params=None, iid=False, n_jobs=2,\n",
       "       param_grid={'vect__ngram_range': [(1, 1), (1, 2), (1, 5)], 'tfidf__use_idf': (True, False), 'clf__alpha': (1, 0.5, 0.1, 0.001)},\n",
       "       pre_dispatch='2*n_jobs', refit=True, return_train_score='warn',\n",
       "       scoring=None, verbose=0)"
      ]
     },
     "execution_count": 22,
     "metadata": {},
     "output_type": "execute_result"
    }
   ],
   "source": [
    "date_clf_ber = Pipeline([\n",
    "    ('vect', CountVectorizer(stop_words=\"english\",\n",
    "                             tokenizer=word_tokenize)),\n",
    "    ('tfidf', TfidfTransformer()),\n",
    "    ('clf', BernoulliNB()),])\n",
    "parameters = {'vect__ngram_range': [(1, 1), (1, 2), (1, 5)],\n",
    "              'tfidf__use_idf': (True, False),\n",
    "              'clf__alpha': (1, 0.5, 0.1, 1e-3)}\n",
    "date_gs_clf_ber = GridSearchCV(date_clf_ber, \n",
    "                               parameters, \n",
    "                               iid=False, \n",
    "                               cv=4,\n",
    "                               n_jobs=(os.cpu_count()//2),\n",
    "                              )\n",
    "\n",
    "(train_texts_counts, \n",
    " dev_texts_counts, \n",
    " train_cats_counts, \n",
    " dev_cats_counts) = train_test_split(df_dates['sentence'],\n",
    "                                     df_dates['label'],\n",
    "                                     test_size=.2,\n",
    "                                     random_state=13353,\n",
    "                                     stratify=df_dates[\"label\"]\n",
    "                                    )\n",
    "\n",
    "date_gs_clf_ber.fit(train_texts_counts, \n",
    "                train_cats_counts, \n",
    "                clf__sample_weight=compute_sample_weight(class_weight='balanced', y=train_cats_counts))"
   ]
  },
  {
   "cell_type": "code",
   "execution_count": 23,
   "metadata": {
    "scrolled": false
   },
   "outputs": [
    {
     "name": "stdout",
     "output_type": "stream",
     "text": [
      "                   pre       rec       spe        f1       geo       iba       sup\n",
      "\n",
      "      False       0.81      0.87      0.33      0.84      0.54      0.30        30\n",
      "       True       0.43      0.33      0.87      0.38      0.54      0.27         9\n",
      "\n",
      "avg / total       0.72      0.74      0.46      0.73      0.54      0.30        39\n",
      "\n",
      "[[26  4]\n",
      " [ 6  3]]\n",
      "AUC score: 0.612963\n"
     ]
    },
    {
     "data": {
      "image/png": "[encoded data removed]",
      "text/plain": [
       "<Figure size 432x288 with 1 Axes>"
      ]
     },
     "metadata": {
      "needs_background": "light"
     },
     "output_type": "display_data"
    }
   ],
   "source": [
    "print_performance(date_gs_clf_ber, dev_cats_counts, dev_texts_counts)"
   ]
  },
  {
   "cell_type": "markdown",
   "metadata": {},
   "source": [
    "## Count/Date Classifier: Most Informative Words"
   ]
  },
  {
   "cell_type": "code",
   "execution_count": 94,
   "metadata": {},
   "outputs": [],
   "source": [
    "def show_most_informative_features(vectorizer, clf, n=20):\n",
    "    feature_names = vectorizer.get_feature_names()\n",
    "    coefs_with_fns = sorted(zip(clf.coef_[0], feature_names))\n",
    "    top = zip(coefs_with_fns[:n], coefs_with_fns[:-(n + 1):-1])\n",
    "    for (coef_1, fn_1), (coef_2, fn_2) in top:\n",
    "        print(\"\\t%.4f\\t%-15s\\t\\t%.4f\\t%-15s\" % (coef_1, fn_1, coef_2, fn_2))"
   ]
  },
  {
   "cell_type": "code",
   "execution_count": 95,
   "metadata": {
    "scrolled": true
   },
   "outputs": [
    {
     "name": "stdout",
     "output_type": "stream",
     "text": [
      "\t-15.4559\t$              \t\t-2.7094\t,              \n",
      "\t-15.4559\t'              \t\t-3.1042\t.              \n",
      "\t-15.4559\t'debilitating  \t\t-3.8440\tcases          \n",
      "\t-15.4559\t'steadily      \t\t-4.0339\t)              \n",
      "\t-15.4559\t'zero          \t\t-4.0339\t(              \n",
      "\t-15.4559\t*              \t\t-4.2190\treported       \n",
      "\t-15.4559\t**             \t\t-4.4853\tcase           \n",
      "\t-15.4559\t*data          \t\t-4.5814\tnew            \n",
      "\t-15.4559\t*new           \t\t-4.5953\thealth         \n",
      "\t-15.4559\t*people        \t\t-4.6256\toutbreak       \n",
      "\t-15.4559\t+234           \t\t-4.7283\tconfirmed      \n",
      "\t-15.4559\t+675           \t\t-5.0905\tdisease        \n",
      "\t-15.4559\t,0.66          \t\t-5.1153\t2018           \n",
      "\t-15.4559\t-6             \t\t-5.2149\tpolio          \n",
      "\t-15.4559\t-80⁰c          \t\t-5.2368\tprovince       \n",
      "\t-15.4559\t-le            \t\t-5.2427\tweek           \n",
      "\t-15.4559\t-péndé.le      \t\t-5.3000\tpatient        \n",
      "\t-15.4559\t...            \t\t-5.3391\t1              \n",
      "\t-15.4559\t.a             \t\t-5.3757\ttotal          \n",
      "\t-15.4559\t.about         \t\t-5.3963\tman            \n"
     ]
    }
   ],
   "source": [
    "show_most_informative_features(count_gs_clf.best_estimator_.named_steps['vect'], \n",
    "                               count_gs_clf.best_estimator_.named_steps['clf'])"
   ]
  },
  {
   "cell_type": "markdown",
   "metadata": {},
   "source": [
    "## Use NLTK prebuild function"
   ]
  },
  {
   "cell_type": "code",
   "execution_count": 31,
   "metadata": {},
   "outputs": [],
   "source": [
    "df_sent = ExtractSentencesAndLabel('counts').data_output()"
   ]
  },
  {
   "cell_type": "code",
   "execution_count": 32,
   "metadata": {},
   "outputs": [],
   "source": [
    "df_sent[\"sentence\"] = (df_sent[\"sentence\"]\n",
    "                         .apply(lambda x: \n",
    "                                re.sub(r\"([0-9a-zA-Z]+)\\.([A-Za-z]+\\s)\",\n",
    "                                       r\"\\g<1>. \\g<2>\",\n",
    "                                       x)\n",
    "                               )\n",
    "                        )\n",
    "df_sent[\"sentence\"] = df_sent[\"sentence\"].apply(word_tokenize)\n",
    "df_sent[\"sentence\"] = (df_sent[\"sentence\"]\n",
    "                         .apply(lambda x: [i.lower() for i in x if i.isalnum()])\n",
    "                        )\n",
    "df_sent[\"sentence\"] = df_sent[\"sentence\"].apply(lambda x: \" \".join(x))"
   ]
  },
  {
   "cell_type": "code",
   "execution_count": 33,
   "metadata": {},
   "outputs": [],
   "source": [
    "df_sent['sentence']= df_sent['sentence'].apply(lambda x: list(set(x.split()) - set(stopwords.words('english'))))"
   ]
  },
  {
   "cell_type": "code",
   "execution_count": 34,
   "metadata": {},
   "outputs": [],
   "source": [
    "df_sent = split_list_and_distribute_to_new_rows(df_sent, 'sentence')"
   ]
  },
  {
   "cell_type": "code",
   "execution_count": 35,
   "metadata": {
    "scrolled": true
   },
   "outputs": [],
   "source": [
    "as_tuples = df_sent.apply(tuple, axis=1).tolist()\n",
    "as_tuples = [({'word':word}, label) for label, word in as_tuples]"
   ]
  },
  {
   "cell_type": "code",
   "execution_count": 36,
   "metadata": {
    "scrolled": true
   },
   "outputs": [
    {
     "name": "stdout",
     "output_type": "stream",
     "text": [
      "Most Informative Features\n",
      "                    word = 'variant'        True : False  =     34.4 : 1.0\n",
      "                    word = 'poultry'        True : False  =     30.0 : 1.0\n",
      "                    word = 'guangxi'        True : False  =     27.8 : 1.0\n",
      "                    word = 'laibin'         True : False  =     24.5 : 1.0\n",
      "                    word = 'pennsylvania'   True : False  =     21.3 : 1.0\n",
      "                    word = 'h1n2'           True : False  =     21.3 : 1.0\n",
      "                    word = '13for'          True : False  =     21.3 : 1.0\n",
      "                    word = 'straight'       True : False  =     21.3 : 1.0\n",
      "                    word = 'fair'           True : False  =     21.3 : 1.0\n",
      "                    word = 'desert'         True : False  =     19.1 : 1.0\n",
      "                    word = 'bulgaria'       True : False  =     19.1 : 1.0\n",
      "                    word = 'squirrels'      True : False  =     19.1 : 1.0\n",
      "                    word = 'lived'          True : False  =     17.5 : 1.0\n",
      "                    word = 'britain'        True : False  =     15.2 : 1.0\n",
      "                    word = 'ireland'        True : False  =     15.2 : 1.0\n",
      "                    word = 'great'          True : False  =     15.2 : 1.0\n",
      "                    word = 'southwest'      True : False  =     15.2 : 1.0\n",
      "                    word = 'riyadh'         True : False  =     14.7 : 1.0\n",
      "                    word = 'buljorshy'      True : False  =     14.7 : 1.0\n",
      "                    word = 'alzulfi'        True : False  =     14.7 : 1.0\n",
      "                    word = 'centrally'      True : False  =     14.7 : 1.0\n",
      "                    word = 'promptly'       True : False  =     14.7 : 1.0\n",
      "                    word = 'frequently'     True : False  =     13.6 : 1.0\n",
      "                    word = 'chinachina'     True : False  =     13.6 : 1.0\n",
      "                    word = 'nasopharyngeal'   True : False  =     13.6 : 1.0\n",
      "                    word = 'statesmedical'   True : False  =     13.6 : 1.0\n",
      "                    word = 'statewide'      True : False  =     13.6 : 1.0\n",
      "                    word = 'markets'        True : False  =     13.6 : 1.0\n",
      "                    word = 'poultryin'      True : False  =     13.6 : 1.0\n",
      "                    word = 'stages'         True : False  =     13.6 : 1.0\n"
     ]
    }
   ],
   "source": [
    "clf = nltk.NaiveBayesClassifier.train(as_tuples)\n",
    "clf.show_most_informative_features(30)"
   ]
  },
  {
   "cell_type": "code",
   "execution_count": 37,
   "metadata": {},
   "outputs": [],
   "source": [
    "df_sent_date = ExtractSentencesAndLabel('dates').data_output()\n",
    "df_sent_date[\"sentence\"] = (df_sent_date[\"sentence\"]\n",
    "                            .apply(lambda x: \n",
    "                                   re.sub(r\"([0-9a-zA-Z]+)\\.([A-Za-z]+\\s)\",\n",
    "                                          r\"\\g<1>. \\g<2>\",\n",
    "                                          x)\n",
    "                                  )\n",
    "                           )\n",
    "df_sent_date[\"sentence\"] = df_sent_date.sentence.apply(word_tokenize)\n",
    "\n",
    "df_sent_date[\"sentence\"] = (df_sent_date[\"sentence\"]\n",
    "                         .apply(lambda x: [i.lower() for i in x if i.isalnum()])\n",
    "                        )\n",
    "\n",
    "df_sent_date[\"sentence\"] = df_sent_date[\"sentence\"].apply(lambda x: \" \".join(x))\n",
    "df_sent_date['sentence']= df_sent_date['sentence'].apply(lambda x: list(set(x.split()) - set(stopwords.words('english'))))\n",
    "df_sent_date = split_list_and_distribute_to_new_rows(df_sent_date, 'sentence')\n",
    "as_tuples_date = df_sent_date.apply(tuple, axis=1).tolist()\n",
    "as_tuples_date = [({'word':word}, label) for label, word in as_tuples_date]"
   ]
  },
  {
   "cell_type": "code",
   "execution_count": 38,
   "metadata": {},
   "outputs": [
    {
     "name": "stdout",
     "output_type": "stream",
     "text": [
      "Most Informative Features\n",
      "                    word = 'worm'           True : False  =      6.2 : 1.0\n",
      "                    word = 'emerging'       True : False  =      5.6 : 1.0\n",
      "                    word = 'northern'       True : False  =      5.6 : 1.0\n",
      "                    word = 'occurring'      True : False  =      5.6 : 1.0\n",
      "                    word = 'syria'          True : False  =      5.6 : 1.0\n",
      "                    word = 'patients'      False : True   =      5.5 : 1.0\n",
      "                    word = 'still'          True : False  =      4.0 : 1.0\n",
      "                    word = 'japan'          True : False  =      4.0 : 1.0\n",
      "                    word = 'central'        True : False  =      4.0 : 1.0\n",
      "                    word = 'every'          True : False  =      4.0 : 1.0\n",
      "                    word = 'china'          True : False  =      4.0 : 1.0\n",
      "                    word = 'protected'      True : False  =      4.0 : 1.0\n",
      "                    word = 'launches'       True : False  =      4.0 : 1.0\n",
      "                    word = 'diagnosed'      True : False  =      4.0 : 1.0\n",
      "                    word = 'referral'       True : False  =      4.0 : 1.0\n",
      "                    word = 'britain'        True : False  =      4.0 : 1.0\n",
      "                    word = 'bed'            True : False  =      4.0 : 1.0\n",
      "                    word = 'admitted'       True : False  =      4.0 : 1.0\n",
      "                    word = 'ireland'        True : False  =      4.0 : 1.0\n",
      "                    word = 'releasea'       True : False  =      4.0 : 1.0\n"
     ]
    }
   ],
   "source": [
    "clf_date = nltk.NaiveBayesClassifier.train(as_tuples_date)\n",
    "clf_date.show_most_informative_features(20)"
   ]
  },
  {
   "cell_type": "markdown",
   "metadata": {},
   "source": [
    "# Recommendation Classifier"
   ]
  },
  {
   "cell_type": "code",
   "execution_count": 4,
   "metadata": {
    "scrolled": true
   },
   "outputs": [],
   "source": [
    "df_recommand = RecommenderLabeling().data_output()\n",
    "df_recommand[\"extracted_text\"] = (df_recommand[\"extracted_text\"]\n",
    "                                  .apply(lambda x: \n",
    "                                         re.sub(r\"([0-9a-zA-Z]+)\\.([A-Za-z]+\\s)\",\n",
    "                                                r\"\\g<1>. \\g<2>\",\n",
    "                                                x)\n",
    "                                        )\n",
    "                                 )\n",
    "# df_recommand[\"extracted_text\"] = df_recommand.extracted_text.apply(word_tokenize)\n",
    "\n",
    "# df_recommand[\"extracted_text\"] = (df_recommand[\"extracted_text\"]\n",
    "#                          .apply(lambda x: [i.lower() for i in x if i.isalnum()])\n",
    "#                         )\n",
    "# df_recommand[\"extracted_text\"] = df_recommand[\"extracted_text\"].apply(lambda x: \" \".join(x))"
   ]
  },
  {
   "cell_type": "code",
   "execution_count": 45,
   "metadata": {},
   "outputs": [],
   "source": [
    "text_clf = Pipeline([\n",
    "    ('vect', CountVectorizer(stop_words=\"english\",\n",
    "                             tokenizer=word_tokenize)),\n",
    "    ('tfidf', TfidfTransformer()),\n",
    "    ('clf', MultinomialNB()),\n",
    "])\n",
    "parameters = {'vect__ngram_range': [(1, 1), (1, 2), (1, 5)],\n",
    "              'tfidf__use_idf': (True, False),\n",
    "              'clf__alpha': (1, 0.5, 0.1, 1e-3)}\n",
    "gs_text_clf = GridSearchCV(text_clf, \n",
    "                           parameters, \n",
    "                           iid=False, \n",
    "                           cv=4,\n",
    "                           n_jobs=(os.cpu_count()//2),\n",
    "                              )"
   ]
  },
  {
   "cell_type": "code",
   "execution_count": 5,
   "metadata": {},
   "outputs": [],
   "source": [
    "(train_texts_counts, \n",
    " dev_texts_counts, \n",
    " train_cats_counts, \n",
    " dev_cats_counts) = train_test_split(df_recommand[\"extracted_text\"],\n",
    "                                     df_recommand['label'],\n",
    "                                     test_size=.2,\n",
    "                                     random_state=13353,\n",
    "                                     stratify=df_recommand[\"label\"]\n",
    "                                    )"
   ]
  },
  {
   "cell_type": "code",
   "execution_count": 47,
   "metadata": {},
   "outputs": [
    {
     "data": {
      "text/plain": [
       "GridSearchCV(cv=4, error_score='raise-deprecating',\n",
       "       estimator=Pipeline(memory=None,\n",
       "     steps=[('vect', CountVectorizer(analyzer='word', binary=False, decode_error='strict',\n",
       "        dtype=<class 'numpy.int64'>, encoding='utf-8', input='content',\n",
       "        lowercase=True, max_df=1.0, max_features=None, min_df=1,\n",
       "        ngram_range=(1, 1), preprocessor=None, stop_words='english',\n",
       "        ...inear_tf=False, use_idf=True)), ('clf', MultinomialNB(alpha=1.0, class_prior=None, fit_prior=True))]),\n",
       "       fit_params=None, iid=False, n_jobs=2,\n",
       "       param_grid={'vect__ngram_range': [(1, 1), (1, 2), (1, 5)], 'tfidf__use_idf': (True, False), 'clf__alpha': (1, 0.5, 0.1, 0.001)},\n",
       "       pre_dispatch='2*n_jobs', refit=True, return_train_score='warn',\n",
       "       scoring=None, verbose=0)"
      ]
     },
     "execution_count": 47,
     "metadata": {},
     "output_type": "execute_result"
    }
   ],
   "source": [
    "gs_text_clf.fit(train_texts_counts, \n",
    "                train_cats_counts, \n",
    "                clf__sample_weight=compute_sample_weight(class_weight='balanced', y=train_cats_counts))"
   ]
  },
  {
   "cell_type": "code",
   "execution_count": 48,
   "metadata": {},
   "outputs": [
    {
     "name": "stdout",
     "output_type": "stream",
     "text": [
      "                   pre       rec       spe        f1       geo       iba       sup\n",
      "\n",
      "      False       0.96      0.97      0.19      0.97      0.43      0.20       615\n",
      "       True       0.26      0.19      0.97      0.22      0.43      0.17        32\n",
      "\n",
      "avg / total       0.92      0.93      0.23      0.93      0.43      0.20       647\n",
      "\n",
      "[[598  17]\n",
      " [ 26   6]]\n",
      "AUC score: 0.775965\n"
     ]
    },
    {
     "data": {
      "image/png": "[encoded data removed]",
      "text/plain": [
       "<Figure size 432x288 with 1 Axes>"
      ]
     },
     "metadata": {
      "needs_background": "light"
     },
     "output_type": "display_data"
    }
   ],
   "source": [
    "print_performance(gs_text_clf, dev_cats_counts, dev_texts_counts)"
   ]
  },
  {
   "cell_type": "code",
   "execution_count": 7,
   "metadata": {},
   "outputs": [],
   "source": [
    "text_clf_comp = Pipeline([\n",
    "    ('vect', CountVectorizer(stop_words=\"english\",\n",
    "                             tokenizer=word_tokenize)),\n",
    "    ('tfidf', TfidfTransformer()),\n",
    "    ('clf', ComplementNB()),\n",
    "])\n",
    "parameters = {'vect__ngram_range': [(1, 1), (1, 2), (1, 5)],\n",
    "              'tfidf__use_idf': (True, False),\n",
    "              'clf__alpha': (1, 0.5, 0.1, 1e-3)}\n",
    "gs_text_clf_comp = GridSearchCV(text_clf_comp, \n",
    "                                parameters, \n",
    "                                iid=False, \n",
    "                                cv=4,\n",
    "                                n_jobs=3,\n",
    "                               )"
   ]
  },
  {
   "cell_type": "code",
   "execution_count": 8,
   "metadata": {},
   "outputs": [
    {
     "data": {
      "text/plain": [
       "GridSearchCV(cv=4, error_score='raise-deprecating',\n",
       "       estimator=Pipeline(memory=None,\n",
       "     steps=[('vect', CountVectorizer(analyzer='word', binary=False, decode_error='strict',\n",
       "        dtype=<class 'numpy.int64'>, encoding='utf-8', input='content',\n",
       "        lowercase=True, max_df=1.0, max_features=None, min_df=1,\n",
       "        ngram_range=(1, 1), preprocessor=None, stop_words='english',\n",
       "        ...lse, use_idf=True)), ('clf', ComplementNB(alpha=1.0, class_prior=None, fit_prior=True, norm=False))]),\n",
       "       fit_params=None, iid=False, n_jobs=3,\n",
       "       param_grid={'vect__ngram_range': [(1, 1), (1, 2), (1, 5)], 'tfidf__use_idf': (True, False), 'clf__alpha': (1, 0.5, 0.1, 0.001)},\n",
       "       pre_dispatch='2*n_jobs', refit=True, return_train_score='warn',\n",
       "       scoring=None, verbose=0)"
      ]
     },
     "execution_count": 8,
     "metadata": {},
     "output_type": "execute_result"
    }
   ],
   "source": [
    "gs_text_clf_comp.fit(train_texts_counts, \n",
    "                     train_cats_counts, \n",
    "                     clf__sample_weight=compute_sample_weight(class_weight='balanced', y=train_cats_counts))"
   ]
  },
  {
   "cell_type": "code",
   "execution_count": 9,
   "metadata": {},
   "outputs": [
    {
     "name": "stdout",
     "output_type": "stream",
     "text": [
      "                   pre       rec       spe        f1       geo       iba       sup\n",
      "\n",
      "      False       0.96      0.97      0.19      0.97      0.43      0.20       615\n",
      "       True       0.26      0.19      0.97      0.22      0.43      0.17        32\n",
      "\n",
      "avg / total       0.92      0.93      0.23      0.93      0.43      0.20       647\n",
      "\n",
      "[[598  17]\n",
      " [ 26   6]]\n",
      "AUC score: 0.775965\n"
     ]
    },
    {
     "data": {
      "image/png": "[encoded data removed]",
      "text/plain": [
       "<Figure size 432x288 with 1 Axes>"
      ]
     },
     "metadata": {
      "needs_background": "light"
     },
     "output_type": "display_data"
    }
   ],
   "source": [
    "print_performance(gs_text_clf_comp, dev_cats_counts, dev_texts_counts)"
   ]
  },
  {
   "cell_type": "markdown",
   "metadata": {},
   "source": [
    "# SpaCy CNN classifier"
   ]
  },
  {
   "cell_type": "code",
   "execution_count": 10,
   "metadata": {},
   "outputs": [],
   "source": [
    "\"\"\"Train a convolutional neural network text classifier on the\n",
    "IMDB dataset, using the TextCategorizer component. The dataset will be loaded\n",
    "automatically via Thinc's built-in dataset loader. The model is added to\n",
    "spacy.pipeline, and predictions are available via `doc.cats`. For more details,\n",
    "see the documentation:\n",
    "* Training: https://spacy.io/usage/training\n",
    "\n",
    "Compatible with: spaCy v2.0.0+\n",
    "\"\"\"\n",
    "import random\n",
    "from pathlib import Path\n",
    "import thinc.extra.datasets\n",
    "\n",
    "import spacy\n",
    "from spacy.util import minibatch, compounding"
   ]
  },
  {
   "cell_type": "code",
   "execution_count": 16,
   "metadata": {},
   "outputs": [],
   "source": [
    "def main(model=None, output_dir=None, n_iter=11, n_texts=2000, init_tok2vec=None):\n",
    "\n",
    "    output_dir = Path('../data/spacy_output')\n",
    "    if not output_dir.exists():\n",
    "        output_dir.mkdir()\n",
    "\n",
    "\n",
    "    nlp = spacy.blank(\"en\")  # create blank Language class\n",
    "    print(\"Created blank 'en' model\")\n",
    "\n",
    "    # add the text classifier to the pipeline if it doesn't exist\n",
    "    # nlp.create_pipe works for built-ins that are registered with spaCy\n",
    "    textcat = nlp.create_pipe(\n",
    "        \"textcat\",\n",
    "        config={\n",
    "            \"exclusive_classes\": False,\n",
    "            \"architecture\": \"simple_cnn\",\n",
    "        }\n",
    "    )\n",
    "    nlp.add_pipe(textcat, last=True)\n",
    "    # otherwise, get it, so we can add labels to it\n",
    "\n",
    "    # add label to text classifier\n",
    "    textcat.add_label(\"Relevant\")\n",
    "    textcat.add_label(\"Irrelevant\")\n",
    "\n",
    "    print(\"Loading data...\")\n",
    "    train_texts, dev_texts, train_cats, dev_cats = train_test_split(df_recommand[\"extracted_text\"],\n",
    "                                                                    df_recommand['label'],\n",
    "                                                                    test_size=.2,\n",
    "                                                                    random_state=13353,\n",
    "                                                                    stratify=df_recommand[\"label\"]\n",
    "                                                                   )\n",
    "    \n",
    "    train_cats = [{\"Relevant\": bool(y), \"Irrelevant\": not bool(y)} for y in train_cats]\n",
    "    dev_cats = [{\"Relevant\": bool(y), \"Irrelevant\": not bool(y)} for y in dev_cats]\n",
    "    print(\n",
    "        \"Using ({} training, {} evaluation)\".format(\n",
    "             len(train_texts), len(dev_texts)\n",
    "        )\n",
    "    )\n",
    "    train_data = list(zip(train_texts, [{\"cats\": cats} for cats in train_cats]))\n",
    "\n",
    "    # get names of other pipes to disable them during training\n",
    "    other_pipes = [pipe for pipe in nlp.pipe_names if pipe != \"textcat\"]\n",
    "    with nlp.disable_pipes(*other_pipes):  # only train textcat\n",
    "        optimizer = nlp.begin_training()\n",
    "        if init_tok2vec is not None:\n",
    "            with init_tok2vec.open(\"rb\") as file_:\n",
    "                textcat.model.tok2vec.from_bytes(file_.read())\n",
    "        print(\"Training the model...\")\n",
    "        print(\"{:^5}\\t{:^5}\\t{:^5}\\t{:^5}\".format(\"LOSS\", \"P\", \"R\", \"F\"))\n",
    "        batch_sizes = compounding(4.0, 32.0, 1.001)\n",
    "        for i in range(n_iter):\n",
    "            losses = {}\n",
    "            # batch up the examples using spaCy's minibatch\n",
    "            random.shuffle(train_data)\n",
    "            batches = minibatch(train_data, size=batch_sizes)\n",
    "            for batch in batches:\n",
    "                texts, annotations = zip(*batch)\n",
    "                nlp.update(texts, annotations, sgd=optimizer, drop=0.2, losses=losses)\n",
    "            with textcat.model.use_params(optimizer.averages):\n",
    "                scores = evaluate(nlp.tokenizer, textcat, dev_texts, dev_cats)\n",
    "            print(\n",
    "                \"{0:.3f}\\t{1:.3f}\\t{2:.3f}\\t{3:.3f}\".format(  # print a simple table\n",
    "                    losses[\"textcat\"],\n",
    "                    scores[\"textcat_p\"],\n",
    "                    scores[\"textcat_r\"],\n",
    "                    scores[\"textcat_f\"],\n",
    "                )\n",
    "            )\n",
    "\n",
    "    # test the trained model\n",
    "    test_text = \"There are 547 confirmed cases of Ebola disease.\"\n",
    "    doc = nlp(test_text)\n",
    "    print(test_text, doc.cats)\n",
    "\n",
    "    if output_dir is not None:\n",
    "        with nlp.use_params(optimizer.averages):\n",
    "            nlp.to_disk(output_dir)\n",
    "        print(\"Saved model to\", output_dir)\n",
    "\n",
    "        # test the saved model\n",
    "        print(\"Loading from\", output_dir)\n",
    "        nlp2 = spacy.load(output_dir)\n",
    "        doc2 = nlp2(test_text)\n",
    "        print(test_text, doc2.cats)\n",
    "\n",
    "\n",
    "def evaluate(tokenizer, textcat, texts, cats):\n",
    "    docs = (tokenizer(text) for text in texts)\n",
    "    tp = 0.0  # True positives\n",
    "    fp = 1e-8  # False positives\n",
    "    fn = 1e-8  # False negatives\n",
    "    tn = 0.0  # True negatives\n",
    "    for i, doc in enumerate(textcat.pipe(docs)):\n",
    "        gold = cats[i]\n",
    "        for label, score in doc.cats.items():\n",
    "            if label not in gold:\n",
    "                continue\n",
    "            if label == \"NEGATIVE\":\n",
    "                continue\n",
    "            if score >= 0.5 and gold[label] >= 0.5:\n",
    "                tp += 1.0\n",
    "            elif score >= 0.5 and gold[label] < 0.5:\n",
    "                fp += 1.0\n",
    "            elif score < 0.5 and gold[label] < 0.5:\n",
    "                tn += 1\n",
    "            elif score < 0.5 and gold[label] >= 0.5:\n",
    "                fn += 1\n",
    "    precision = tp / (tp + fp)\n",
    "    recall = tp / (tp + fn)\n",
    "    if (precision + recall) == 0:\n",
    "        f_score = 0.0\n",
    "    else:\n",
    "        f_score = 2 * (precision * recall) / (precision + recall)\n",
    "    return {\"textcat_p\": precision, \"textcat_r\": recall, \"textcat_f\": f_score}\n"
   ]
  },
  {
   "cell_type": "code",
   "execution_count": 17,
   "metadata": {},
   "outputs": [
    {
     "name": "stdout",
     "output_type": "stream",
     "text": [
      "Created blank 'en' model\n",
      "Loading data...\n",
      "Using (2585 training, 647 evaluation)\n",
      "Training the model...\n",
      "LOSS \t  P  \t  R  \t  F  \n",
      "2.599\t0.951\t0.951\t0.951\n",
      "0.564\t0.951\t0.951\t0.951\n",
      "0.243\t0.951\t0.951\t0.951\n",
      "0.117\t0.951\t0.951\t0.951\n",
      "0.064\t0.951\t0.951\t0.951\n",
      "0.041\t0.951\t0.951\t0.951\n",
      "0.027\t0.951\t0.951\t0.951\n",
      "0.019\t0.951\t0.951\t0.951\n",
      "0.014\t0.951\t0.951\t0.951\n",
      "0.012\t0.951\t0.951\t0.951\n",
      "0.008\t0.951\t0.951\t0.951\n",
      "0.008\t0.951\t0.951\t0.951\n",
      "0.008\t0.951\t0.951\t0.951\n",
      "0.008\t0.951\t0.951\t0.951\n",
      "0.008\t0.951\t0.951\t0.951\n",
      "0.008\t0.951\t0.951\t0.951\n",
      "0.008\t0.951\t0.951\t0.951\n",
      "0.008\t0.951\t0.951\t0.951\n",
      "0.008\t0.951\t0.951\t0.951\n",
      "0.008\t0.951\t0.951\t0.951\n",
      "There are 547 confirmed cases of Ebola disease. {'Relevant': 4.539787187241018e-05, 'Irrelevant': 0.9999545812606812}\n",
      "Saved model to ..\\data\\spacy_output\n",
      "Loading from ..\\data\\spacy_output\n",
      "There are 547 confirmed cases of Ebola disease. {'Relevant': 4.539787187241018e-05, 'Irrelevant': 0.9999545812606812}\n"
     ]
    }
   ],
   "source": [
    "main()"
   ]
  },
  {
   "cell_type": "code",
   "execution_count": 24,
   "metadata": {},
   "outputs": [],
   "source": [
    "train_texts, dev_texts, train_cats, dev_cats = train_test_split(df_recommand[\"extracted_text\"],\n",
    "                                                                df_recommand['label'],\n",
    "                                                                test_size=.2,\n",
    "                                                                random_state=13353,\n",
    "                                                                stratify=df_recommand[\"label\"]\n",
    "                                                               )\n",
    "output_dir = Path('../data/spacy_output')\n",
    "nlp2 = spacy.load(output_dir)"
   ]
  },
  {
   "cell_type": "code",
   "execution_count": 40,
   "metadata": {},
   "outputs": [
    {
     "data": {
      "text/plain": [
       "('Irrelevant', 0.9999545812606812)"
      ]
     },
     "execution_count": 40,
     "metadata": {},
     "output_type": "execute_result"
    }
   ],
   "source": [
    "max(nlp2('bla').cats.items(),key=operator.itemgetter(1))"
   ]
  },
  {
   "cell_type": "code",
   "execution_count": 41,
   "metadata": {
    "scrolled": true
   },
   "outputs": [
    {
     "name": "stdout",
     "output_type": "stream",
     "text": [
      "                   pre       rec       spe        f1       geo       iba       sup\n",
      "\n",
      "      False       0.95      1.00      0.00      0.97      0.00      0.00       615\n",
      "       True       0.00      0.00      1.00      0.00      0.00      0.00        32\n",
      "\n",
      "avg / total       0.90      0.95      0.05      0.93      0.00      0.00       647\n",
      "\n",
      "[[615   0]\n",
      " [ 32   0]]\n",
      "AUC score: 0.500000\n"
     ]
    },
    {
     "data": {
      "image/png": "[encoded data removed]",
      "text/plain": [
       "<Figure size 432x288 with 1 Axes>"
      ]
     },
     "metadata": {
      "needs_background": "light"
     },
     "output_type": "display_data"
    }
   ],
   "source": [
    "import operator\n",
    "save = False\n",
    "y_pred = [True if max(nlp2(dev_text).cats.items(), key=operator.itemgetter(1))[0] == 'Relevant' \n",
    "          else False \n",
    "          for dev_text in dev_texts]\n",
    "fpr, tpr, _ = roc_curve(dev_cats, y_pred)\n",
    "auc_score = auc(fpr, tpr)\n",
    "\n",
    "plt.xlabel('False Positive Rate')\n",
    "plt.ylabel('True Positive Rate')\n",
    "if save:\n",
    "    plt.savefig(f'{name}.pdf', format='pdf')\n",
    "plt.plot([0, 1], [0, 1], linestyle='--')\n",
    "plt.plot(fpr, tpr)\n",
    "\n",
    "print(classification_report_imbalanced(dev_cats, y_pred))\n",
    "print(confusion_matrix(dev_cats, y_pred))\n",
    "print('AUC score: {:3f}'.format(auc(fpr, tpr)))\n"
   ]
  },
  {
   "cell_type": "markdown",
   "metadata": {},
   "source": [
    "# Embedded Classifier"
   ]
  },
  {
   "cell_type": "code",
   "execution_count": 92,
   "metadata": {},
   "outputs": [],
   "source": [
    "class MeanEmbeddingTransformer(TransformerMixin):\n",
    "    \n",
    "    def __init__(self):\n",
    "        self._vocab, self._E = self._load_words()\n",
    "        \n",
    "    \n",
    "    def _load_words(self):\n",
    "        E = {}\n",
    "        vocab = []\n",
    "\n",
    "        with open('nlp_surveillance/glove.6B.50d.txt', 'r', encoding=\"utf8\") as file:\n",
    "            for i, line in enumerate(file):\n",
    "                l = line.split(' ')\n",
    "                if l[0].isalpha():\n",
    "                    v = [float(i) for i in l[1:]]\n",
    "                    E[l[0]] = np.array(v)\n",
    "                    vocab.append(l[0])\n",
    "        return np.array(vocab), E            \n",
    "\n",
    "    \n",
    "    def _get_word(self, v):\n",
    "        for i, emb in enumerate(self._E):\n",
    "            if np.array_equal(emb, v):\n",
    "                return self._vocab[i]\n",
    "        return None\n",
    "    \n",
    "    def _doc_mean(self, doc):\n",
    "        return np.mean(np.array([self._E[w.lower().strip()] for w in doc if w.lower().strip() in self._E]), axis=0)\n",
    "    \n",
    "    def fit(self, X, y=None):\n",
    "        return self\n",
    "    \n",
    "    def transform(self, X):\n",
    "        return np.array([self._doc_mean(doc) for doc in X])\n",
    "    \n",
    "    def fit_transform(self, X, y=None):\n",
    "        return self.fit(X).transform(X)"
   ]
  },
  {
   "cell_type": "code",
   "execution_count": 93,
   "metadata": {},
   "outputs": [],
   "source": [
    "import pandas as pd\n",
    "df = pd.read_csv('data/recommender/with_label.csv')"
   ]
  },
  {
   "cell_type": "code",
   "execution_count": 95,
   "metadata": {},
   "outputs": [
    {
     "data": {
      "text/plain": [
       "False    3077\n",
       "True      155\n",
       "Name: label, dtype: int64"
      ]
     },
     "execution_count": 95,
     "metadata": {},
     "output_type": "execute_result"
    }
   ],
   "source": [
    "df['label'].value_counts()"
   ]
  },
  {
   "cell_type": "code",
   "execution_count": 96,
   "metadata": {},
   "outputs": [],
   "source": [
    "X = df['extracted_text'].values\n",
    "y = df['label'].values"
   ]
  },
  {
   "cell_type": "code",
   "execution_count": 97,
   "metadata": {},
   "outputs": [],
   "source": [
    "def tokenize_and_transform(X, sample_size):\n",
    "    articles = X\n",
    "    vectors = [word_tokenize(doc) for doc in articles[:sample_size]]\n",
    "    met = MeanEmbeddingTransformer()\n",
    "    X_transform = met.fit_transform(vectors)\n",
    "    return X_transform"
   ]
  },
  {
   "cell_type": "code",
   "execution_count": 101,
   "metadata": {},
   "outputs": [],
   "source": [
    "X_transform = tokenize_and_transform(X, 3200)"
   ]
  },
  {
   "cell_type": "code",
   "execution_count": 102,
   "metadata": {},
   "outputs": [],
   "source": [
    "np.savetxt('X_embed.csv', X_transform, delimiter=',')"
   ]
  },
  {
   "cell_type": "code",
   "execution_count": 103,
   "metadata": {},
   "outputs": [],
   "source": [
    "X_transform = np.loadtxt('X_embed.csv', delimiter=',')"
   ]
  },
  {
   "cell_type": "code",
   "execution_count": 104,
   "metadata": {},
   "outputs": [
    {
     "data": {
      "text/plain": [
       "(3200, 50)"
      ]
     },
     "execution_count": 104,
     "metadata": {},
     "output_type": "execute_result"
    }
   ],
   "source": [
    "np.shape(X_transform)"
   ]
  },
  {
   "cell_type": "code",
   "execution_count": 105,
   "metadata": {},
   "outputs": [
    {
     "data": {
      "text/plain": [
       "(3232,)"
      ]
     },
     "execution_count": 105,
     "metadata": {},
     "output_type": "execute_result"
    }
   ],
   "source": [
    "np.shape(y)"
   ]
  },
  {
   "cell_type": "code",
   "execution_count": 107,
   "metadata": {},
   "outputs": [],
   "source": [
    "X_train, X_test, y_train, y_test = train_test_split(X_transform,\n",
    "                                                    y,\n",
    "                                                    test_size=.2,\n",
    "                                                    random_state=13353,\n",
    "                                                    stratify=y\n",
    "                                                   )\n",
    "ada = ADASYN(random_state=0)\n",
    "X_resample, y_resample = ada.fit_sample(X_train, y_train)\n"
   ]
  },
  {
   "cell_type": "code",
   "execution_count": 109,
   "metadata": {},
   "outputs": [
    {
     "name": "stderr",
     "output_type": "stream",
     "text": [
      "c:\\users\\abbooda\\appdata\\local\\continuum\\anaconda3\\envs\\rki\\lib\\site-packages\\sklearn\\linear_model\\logistic.py:432: FutureWarning: Default solver will be changed to 'lbfgs' in 0.22. Specify a solver to silence this warning.\n",
      "  FutureWarning)\n"
     ]
    },
    {
     "name": "stdout",
     "output_type": "stream",
     "text": [
      "                   pre       rec       spe        f1       geo       iba       sup\n",
      "\n",
      "      False       0.97      0.67      0.63      0.79      0.65      0.42       762\n",
      "       True       0.09      0.63      0.67      0.15      0.65      0.42        38\n",
      "\n",
      "avg / total       0.93      0.66      0.63      0.76      0.65      0.42       800\n",
      "\n"
     ]
    },
    {
     "data": {
      "image/png": "[encoded data removed]",
      "text/plain": [
       "<Figure size 432x288 with 1 Axes>"
      ]
     },
     "metadata": {
      "needs_background": "light"
     },
     "output_type": "display_data"
    }
   ],
   "source": [
    "lr = LogisticRegression()\n",
    "print_scores(lr, X_resample, y_resample, X_test, y_test)\n",
    "plot_roc(lr, X_test, y_test, 'logistic_regression')"
   ]
  },
  {
   "cell_type": "code",
   "execution_count": 110,
   "metadata": {},
   "outputs": [
    {
     "name": "stdout",
     "output_type": "stream",
     "text": [
      "                   pre       rec       spe        f1       geo       iba       sup\n",
      "\n",
      "      False       0.97      0.77      0.53      0.86      0.63      0.41       762\n",
      "       True       0.10      0.53      0.77      0.17      0.63      0.39        38\n",
      "\n",
      "avg / total       0.93      0.75      0.54      0.82      0.63      0.41       800\n",
      "\n"
     ]
    },
    {
     "data": {
      "image/png": "[encoded data removed]",
      "text/plain": [
       "<Figure size 432x288 with 1 Axes>"
      ]
     },
     "metadata": {
      "needs_background": "light"
     },
     "output_type": "display_data"
    }
   ],
   "source": [
    "knn = KNeighborsClassifier()\n",
    "print_scores(knn, X_resample, y_resample, X_test, y_test)\n",
    "plot_roc(knn, X_test, y_test, 'k_neighbors_clf')"
   ]
  },
  {
   "cell_type": "code",
   "execution_count": 112,
   "metadata": {},
   "outputs": [
    {
     "name": "stdout",
     "output_type": "stream",
     "text": [
      "                   pre       rec       spe        f1       geo       iba       sup\n",
      "\n",
      "      False       0.98      0.62      0.74      0.76      0.68      0.45       762\n",
      "       True       0.09      0.74      0.62      0.16      0.68      0.46        38\n",
      "\n",
      "avg / total       0.94      0.63      0.73      0.73      0.68      0.45       800\n",
      "\n"
     ]
    },
    {
     "data": {
      "image/png": "[encoded data removed]",
      "text/plain": [
       "<Figure size 432x288 with 1 Axes>"
      ]
     },
     "metadata": {
      "needs_background": "light"
     },
     "output_type": "display_data"
    }
   ],
   "source": [
    "svc = SVC(probability=True, gamma='scale').fit(X_resample, y_resample)\n",
    "print_scores(svc, X_resample, y_resample, X_test, y_test)\n",
    "plot_roc(svc, X_test, y_test, \"SVC\")"
   ]
  },
  {
   "cell_type": "code",
   "execution_count": 115,
   "metadata": {
    "scrolled": true
   },
   "outputs": [
    {
     "name": "stdout",
     "output_type": "stream",
     "text": [
      "                   pre       rec       spe        f1       geo       iba       sup\n",
      "\n",
      "      False       0.97      0.86      0.45      0.91      0.62      0.40       762\n",
      "       True       0.14      0.45      0.86      0.21      0.62      0.37        38\n",
      "\n",
      "avg / total       0.93      0.84      0.47      0.88      0.62      0.40       800\n",
      "\n"
     ]
    },
    {
     "data": {
      "image/png": "[encoded data removed]",
      "text/plain": [
       "<Figure size 432x288 with 1 Axes>"
      ]
     },
     "metadata": {
      "needs_background": "light"
     },
     "output_type": "display_data"
    }
   ],
   "source": [
    "mlp = MLPClassifier(max_iter=2000, early_stopping=True).fit(X_resample, y_resample)\n",
    "print_scores(mlp, X_resample, y_resample, X_test, y_test)\n",
    "plot_roc(mlp, X_test, y_test, \"MLP\")"
   ]
  },
  {
   "cell_type": "code",
   "execution_count": 120,
   "metadata": {},
   "outputs": [
    {
     "data": {
      "image/png": "[encoded data removed]",
      "text/plain": [
       "<Figure size 432x288 with 1 Axes>"
      ]
     },
     "metadata": {
      "needs_background": "light"
     },
     "output_type": "display_data"
    }
   ],
   "source": [
    "# clfs = [text_clf, text_clf_c, lr, knn, svc, svc_l, mlp]\n",
    "# nlp2 = spacy.load(Path(\"spacy_output\"))\n",
    "# markers = ['-', ':', '--', '-', \":\", \"--\", \"-\"]\n",
    "# names = [\"NBC\", \"CBC\", \"LR\", \"kNN\", \"SVC\", \"Lin. SVC\", \"MLP\"]\n",
    "clfs = [text_clf, text_clf_c, lr, knn, svc, mlp]\n",
    "nlp2 = spacy.load(Path(\"spacy_output\"))\n",
    "markers = ['-', ':', '--', '-', \":\", \"--\", \"-\"]\n",
    "names = [\"NBC\", \"CBC\", \"LR\", \"kNN\", \"SVC\", \"MLP\"]\n",
    "for i, clf in enumerate(clfs):\n",
    "    try:\n",
    "        if i in [0,1]:\n",
    "            y_pred = clf.predict_proba(dev_texts)\n",
    "            fpr, tpr, _ = roc_curve(dev_cats, y_pred[:,1])\n",
    "            auc_score = auc(fpr, tpr)\n",
    "        else:  \n",
    "            y_pred = clf.predict_proba(X_test)\n",
    "            fpr, tpr, _ = roc_curve(y_test, y_pred[:,1])\n",
    "            auc_score = auc(fpr, tpr)\n",
    "    except AttributeError:\n",
    "        y_pred = clf.predict(X_test)\n",
    "        fpr, tpr, _ = roc_curve(y_test, y_pred)\n",
    "        auc_score = auc(fpr, tpr)\n",
    "    plt.xlabel('False Positive Rate')\n",
    "    plt.ylabel('True Positive Rate')\n",
    "    #plt.savefig(f'{name}.pdf', format='pdf')\n",
    "    plt.plot(fpr, tpr, linestyle=markers[i], label=f\"{names[i]} (AUC: {auc_score:.2f})\")\n",
    "\n",
    "import operator\n",
    "X_train_s, X_test_s, y_train, y_test = train_test_split(X[:3200],\n",
    "                                                    y[:3200], random_state=0)\n",
    "y_pred = [nlp2(test_text).cats[\"Relevant\"] for test_text in X_test_s]\n",
    "fpr, tpr, _ = roc_curve(y_test, y_pred)\n",
    "auc_score = auc(fpr, tpr)\n",
    "plt.xlabel('False Positive Rate')\n",
    "plt.ylabel('True Positive Rate')\n",
    "#plt.savefig(f'{name}.pdf', format='pdf')\n",
    "plt.plot(fpr, tpr, linestyle='-', label=f\"CNN (AUC: {auc_score:.2f})\")\n",
    "plt.legend(loc=4)\n",
    "# plt.savefig('roc_curves.pdf', format='pdf')\n",
    "plt.show()"
   ]
  },
  {
   "cell_type": "code",
   "execution_count": 115,
   "metadata": {},
   "outputs": [
    {
     "name": "stdout",
     "output_type": "stream",
     "text": [
      "                   pre       rec       spe        f1       geo       iba       sup\n",
      "\n",
      "      False       0.95      1.00      0.00      0.98      0.00      0.00       762\n",
      "       True       0.00      0.00      1.00      0.00      0.00      0.00        38\n",
      "\n",
      "avg / total       0.91      0.95      0.05      0.93      0.00      0.00       800\n",
      "\n"
     ]
    }
   ],
   "source": [
    "import operator\n",
    "X_train_s, X_test_s, y_train, y_test = train_test_split(X[:3200],\n",
    "                                                        y[:3200], random_state=13353)\n",
    "y_pred = [max(example.items(), key=operator.itemgetter(1))[0] == \"Relevant\" for test_text in X_test_s]\n",
    "fpr, tpr, _ = roc_curve(y_test, y_pred)\n",
    "auc_score = auc(fpr, tpr)\n",
    "print(classification_report_imbalanced(y_test, y_pred))\n",
    "#plt.savefig(f'{name}.pdf', format='pdf')\n"
   ]
  },
  {
   "cell_type": "code",
   "execution_count": 22,
   "metadata": {},
   "outputs": [],
   "source": [
    "example = nlp2('ADas').cats"
   ]
  },
  {
   "cell_type": "code",
   "execution_count": 23,
   "metadata": {},
   "outputs": [
    {
     "data": {
      "text/plain": [
       "dict_items([('Relevant', 4.539787187241018e-05), ('Irrelevant', 0.9999545812606812)])"
      ]
     },
     "execution_count": 23,
     "metadata": {},
     "output_type": "execute_result"
    }
   ],
   "source": [
    "example.items()"
   ]
  },
  {
   "cell_type": "code",
   "execution_count": 24,
   "metadata": {},
   "outputs": [
    {
     "ename": "NameError",
     "evalue": "name 'text_clf_counts' is not defined",
     "output_type": "error",
     "traceback": [
      "\u001b[1;31m---------------------------------------------------------------------------\u001b[0m",
      "\u001b[1;31mNameError\u001b[0m                                 Traceback (most recent call last)",
      "\u001b[1;32m<ipython-input-24-d977e9e9f0c8>\u001b[0m in \u001b[0;36m<module>\u001b[1;34m\u001b[0m\n\u001b[1;32m----> 1\u001b[1;33m \u001b[0mclfs\u001b[0m \u001b[1;33m=\u001b[0m \u001b[1;33m[\u001b[0m\u001b[0mtext_clf_counts\u001b[0m\u001b[1;33m,\u001b[0m \u001b[0mtext_clf_counts_ber\u001b[0m\u001b[1;33m,\u001b[0m \u001b[0mtext_clf_dates\u001b[0m\u001b[1;33m,\u001b[0m \u001b[0mtext_clf_dates_ber\u001b[0m\u001b[1;33m]\u001b[0m\u001b[1;33m\u001b[0m\u001b[1;33m\u001b[0m\u001b[0m\n\u001b[0m\u001b[0;32m      2\u001b[0m \u001b[0mmarkers\u001b[0m \u001b[1;33m=\u001b[0m \u001b[1;33m[\u001b[0m\u001b[1;34m'-'\u001b[0m\u001b[1;33m,\u001b[0m \u001b[1;34m':'\u001b[0m\u001b[1;33m,\u001b[0m \u001b[1;34m'--'\u001b[0m\u001b[1;33m,\u001b[0m \u001b[1;34m'-'\u001b[0m\u001b[1;33m,\u001b[0m \u001b[1;34m\":\"\u001b[0m\u001b[1;33m,\u001b[0m \u001b[1;34m\"--\"\u001b[0m\u001b[1;33m,\u001b[0m \u001b[1;34m\"-\"\u001b[0m\u001b[1;33m]\u001b[0m\u001b[1;33m\u001b[0m\u001b[1;33m\u001b[0m\u001b[0m\n\u001b[0;32m      3\u001b[0m \u001b[0mnames\u001b[0m \u001b[1;33m=\u001b[0m \u001b[1;33m[\u001b[0m\u001b[1;34m\"MNB (Counts)\"\u001b[0m\u001b[1;33m,\u001b[0m \u001b[1;34m\"BNB (Counts)\"\u001b[0m\u001b[1;33m,\u001b[0m \u001b[1;34m\"MNB (Dates)\"\u001b[0m\u001b[1;33m,\u001b[0m \u001b[1;34m\"BNB (Dates)\"\u001b[0m\u001b[1;33m,\u001b[0m\u001b[1;33m]\u001b[0m\u001b[1;33m\u001b[0m\u001b[1;33m\u001b[0m\u001b[0m\n\u001b[0;32m      4\u001b[0m \u001b[1;32mfor\u001b[0m \u001b[0mi\u001b[0m\u001b[1;33m,\u001b[0m \u001b[0mclf\u001b[0m \u001b[1;32min\u001b[0m \u001b[0menumerate\u001b[0m\u001b[1;33m(\u001b[0m\u001b[0mclfs\u001b[0m\u001b[1;33m)\u001b[0m\u001b[1;33m:\u001b[0m\u001b[1;33m\u001b[0m\u001b[1;33m\u001b[0m\u001b[0m\n\u001b[0;32m      5\u001b[0m     \u001b[1;32mtry\u001b[0m\u001b[1;33m:\u001b[0m\u001b[1;33m\u001b[0m\u001b[1;33m\u001b[0m\u001b[0m\n",
      "\u001b[1;31mNameError\u001b[0m: name 'text_clf_counts' is not defined"
     ]
    }
   ],
   "source": [
    "clfs = [count_gs_clf, count_gs_clf_ber, date_gs_clf, date_gs_clf_ber]\n",
    "markers = ['-', ':', '--', '-', \":\", \"--\", \"-\"]\n",
    "names = [\"MNB (Counts)\", \"BNB (Counts)\", \"MNB (Dates)\", \"BNB (Dates)\",]\n",
    "for i, clf in enumerate(clfs):\n",
    "    try:\n",
    "        if i in [0,1]:\n",
    "            y_pred = clf.predict_proba(dev_texts_counts)\n",
    "            fpr, tpr, _ = roc_curve(dev_cats_counts, y_pred[:,1])\n",
    "            auc_score = auc(fpr, tpr)\n",
    "        else:  \n",
    "            y_pred = clf.predict_proba(dev_texts_dates)\n",
    "            fpr, tpr, _ = roc_curve(dev_cats_dates, y_pred[:,1])\n",
    "            auc_score = auc(fpr, tpr)\n",
    "    except AttributeError:\n",
    "        print(\"asda\")\n",
    "        y_pred = clf.predict(X_test)\n",
    "        fpr, tpr, _ = roc_curve(y_test, y_pred)\n",
    "        auc_score = auc(fpr, tpr)\n",
    "    plt.xlabel('False Positive Rate')\n",
    "    plt.ylabel('True Positive Rate')\n",
    "    #plt.savefig(f'{name}.pdf', format='pdf')\n",
    "    plt.plot(fpr, tpr, linestyle=markers[i], label=f\"{names[i]} (AUC: {auc_score:.2f})\")\n",
    "\n",
    "plt.legend(loc=4)\n",
    "plt.savefig('roc_curves_key.pdf', format='pdf')\n",
    "plt.show()"
   ]
  },
  {
   "cell_type": "markdown",
   "metadata": {},
   "source": [
    "## Other classifier"
   ]
  },
  {
   "cell_type": "code",
   "execution_count": null,
   "metadata": {},
   "outputs": [],
   "source": [
    "gs = GridSearchCV(LogisticRegression(), \n",
    "             param_grid={'C': [0.0001, 0.001, 0.01, 0.1, 1]}, scoring=\"roc_auc\", cv=4)\n",
    "gs = gs.fit(X_resample, y_resample)\n",
    "print(gs.best_params_)\n",
    "print('best score: {:3f}'.format(gs.best_score_))\n",
    "plot_roc(gs, X_resample, y_resample)"
   ]
  },
  {
   "cell_type": "code",
   "execution_count": null,
   "metadata": {},
   "outputs": [],
   "source": [
    "param_grid = {'C': [0.001, 0.01, 0.1, 1, 10]}\n",
    "gs = GridSearchCV(LinearSVC(), \n",
    "             param_grid=param_grid, scoring=\"roc_auc\", cv=4)\n",
    "gs = gs.fit(X_resample, y_resample)\n",
    "print(gs.best_params_)\n",
    "print('best score: {:3f}'.format(gs.best_score_))\n",
    "plot_roc(gs, X_resample, y_resample)"
   ]
  },
  {
   "cell_type": "code",
   "execution_count": null,
   "metadata": {},
   "outputs": [],
   "source": [
    "param_grid = {'activation': ['relu', 'logistic', 'tanh'],\n",
    "              'alpha': [0.0001, 0.001, 0.01],\n",
    "              'learning_rate': ['constant', 'invscaling', 'adaptive'], 'tol': [0.01]}\n",
    "gs = GridSearchCV(MLPClassifier(), \n",
    "             param_grid=param_grid, scoring=\"roc_auc\", cv=4)\n",
    "gs = gs.fit(X_transform, y[:3200])\n",
    "print(gs.best_params_)\n",
    "print('best score: {:3f}'.format(gs.best_score_))\n",
    "plot_roc(gs, X_resample, y_resample)"
   ]
  },
  {
   "cell_type": "code",
   "execution_count": null,
   "metadata": {},
   "outputs": [],
   "source": [
    "from sklearn.cluster import KMeans"
   ]
  },
  {
   "cell_type": "code",
   "execution_count": null,
   "metadata": {},
   "outputs": [],
   "source": [
    "X_transform_cluster = KMeans(n_clusters=5).fit_transform(X_transform, y[:3200])"
   ]
  },
  {
   "cell_type": "code",
   "execution_count": null,
   "metadata": {},
   "outputs": [],
   "source": [
    "rus = RandomUnderSampler(random_state=0)\n",
    "X_resample_cluster, y_resample_cluster = rus.fit_sample(X_transform_cluster, y[:X_transform_cluster.shape[0]])"
   ]
  },
  {
   "cell_type": "code",
   "execution_count": null,
   "metadata": {},
   "outputs": [],
   "source": [
    "X_train_cluster, X_test_cluster, y_train_cluster, y_test_cluster = train_test_split(X_resample_cluster,\n",
    "                                                    y_resample_cluster, stratify=y_resample_cluster, random_state=0)"
   ]
  },
  {
   "cell_type": "code",
   "execution_count": null,
   "metadata": {},
   "outputs": [],
   "source": [
    "lr = LogisticRegression()\n",
    "print_scores(lr, X_train_cluster, y_train_cluster, X_test_cluster, y_test_cluster)\n",
    "plot_roc(lr, X_test_cluster, y_test_cluster)"
   ]
  },
  {
   "cell_type": "code",
   "execution_count": null,
   "metadata": {},
   "outputs": [],
   "source": [
    "from sklearn.decomposition import PCA"
   ]
  },
  {
   "cell_type": "code",
   "execution_count": null,
   "metadata": {},
   "outputs": [],
   "source": [
    "X_transform_pca = PCA().fit_transform(X_transform, y[:3200])"
   ]
  },
  {
   "cell_type": "code",
   "execution_count": null,
   "metadata": {},
   "outputs": [],
   "source": [
    "rus = RandomUnderSampler(random_state=0)\n",
    "X_resample_pca, y_resample_pca = rus.fit_sample(X_transform_pca, y[:X_transform_pca.shape[0]])"
   ]
  },
  {
   "cell_type": "code",
   "execution_count": null,
   "metadata": {},
   "outputs": [],
   "source": [
    "X_train_cluster, X_test_cluster, y_train_cluster, y_test_cluster = train_test_split(X_resample_cluster,\n",
    "                                                    y_resample_cluster, stratify=y_resample_cluster, random_state=0)"
   ]
  },
  {
   "cell_type": "code",
   "execution_count": null,
   "metadata": {
    "scrolled": true
   },
   "outputs": [],
   "source": [
    "lr = LogisticRegression()\n",
    "print_scores(lr, X_train_cluster, y_train_cluster, X_test_cluster, y_test_cluster)\n",
    "plot_roc(lr, X_test_cluster, y_test_cluster)"
   ]
  },
  {
   "cell_type": "code",
   "execution_count": 1,
   "metadata": {},
   "outputs": [],
   "source": [
    "from web_app.app import summarize"
   ]
  },
  {
   "cell_type": "code",
   "execution_count": null,
   "metadata": {},
   "outputs": [],
   "source": [
    "summarize('https://www.who.int/csr/don/04-march-2019-mers-oman/en/')"
   ]
  }
 ],
 "metadata": {
  "kernelspec": {
   "display_name": "Python 3",
   "language": "python",
   "name": "python3"
  },
  "language_info": {
   "codemirror_mode": {
    "name": "ipython",
    "version": 3
   },
   "file_extension": ".py",
   "mimetype": "text/x-python",
   "name": "python",
   "nbconvert_exporter": "python",
   "pygments_lexer": "ipython3",
   "version": "3.6.7"
  }
 },
 "nbformat": 4,
 "nbformat_minor": 2
}
