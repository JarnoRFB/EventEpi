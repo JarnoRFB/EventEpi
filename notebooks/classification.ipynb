{
 "cells": [
  {
   "cell_type": "code",
   "execution_count": 1,
   "metadata": {},
   "outputs": [],
   "source": [
    "%load_ext autoreload\n",
    "%autoreload 2"
   ]
  },
  {
   "cell_type": "code",
   "execution_count": 23,
   "metadata": {},
   "outputs": [],
   "source": [
    "import nltk\n",
    "import numpy as np\n",
    "import pandas as pd\n",
    "from tqdm import tqdm\n",
    "import re\n",
    "from nltk import sent_tokenize\n",
    "from nltk.tokenize import word_tokenize\n",
    "from nltk.corpus import stopwords\n",
    "from nlp_surveillance.classifier import extract_sentence\n",
    "from nlp_surveillance.pipeline import ExtractSentencesAndLabel, RecommenderLabeling, RecommenderTierAnnotation\n",
    "from nlp_surveillance.classifier import summarize\n",
    "from utils.my_utils import split_list_and_distribute_to_new_rows\n",
    "from sklearn.pipeline import Pipeline\n",
    "from sklearn.feature_extraction.text import CountVectorizer\n",
    "from sklearn.feature_extraction.text import TfidfTransformer\n",
    "from sklearn.naive_bayes import MultinomialNB\n",
    "from sklearn.naive_bayes import ComplementNB\n",
    "from sklearn.naive_bayes import BernoulliNB\n",
    "from sklearn.metrics import classification_report, confusion_matrix\n",
    "from imblearn.metrics import classification_report_imbalanced\n",
    "from sklearn.model_selection import train_test_split\n",
    "%matplotlib inline  \n",
    "import pandas as pd\n",
    "from sklearn.metrics import auc\n",
    "import numpy as np\n",
    "import matplotlib.pyplot as plt\n",
    "from nltk.tokenize import word_tokenize\n",
    "from imblearn.under_sampling import RandomUnderSampler\n",
    "from imblearn.over_sampling import RandomOverSampler, ADASYN\n",
    "from sklearn.model_selection import GridSearchCV\n",
    "from sklearn.preprocessing import scale\n",
    "from sklearn.metrics import f1_score\n",
    "from sklearn.metrics import roc_curve\n",
    "from sklearn.base import TransformerMixin\n",
    "from sklearn.neural_network import MLPClassifier\n",
    "from sklearn.linear_model import LogisticRegression\n",
    "from sklearn.pipeline import Pipeline\n",
    "from sklearn.neighbors import KNeighborsClassifier\n",
    "from sklearn.tree import DecisionTreeClassifier\n",
    "from sklearn.metrics import roc_auc_score\n",
    "from sklearn.preprocessing import LabelEncoder\n",
    "from sklearn.model_selection import train_test_split\n",
    "from sklearn.feature_extraction.text import CountVectorizer\n",
    "from sklearn.feature_extraction.text import TfidfTransformer\n",
    "from sklearn.ensemble import RandomForestClassifier\n",
    "from sklearn.metrics import confusion_matrix, classification\n",
    "from sklearn.naive_bayes import MultinomialNB\n",
    "from sklearn.svm import SVC\n",
    "from sklearn.svm import LinearSVC"
   ]
  },
  {
   "cell_type": "markdown",
   "metadata": {},
   "source": [
    "# Count/Date Classifier"
   ]
  },
  {
   "cell_type": "code",
   "execution_count": 9,
   "metadata": {},
   "outputs": [],
   "source": [
    "df_counts = ExtractSentencesAndLabel(\"counts\").data_output()"
   ]
  },
  {
   "cell_type": "code",
   "execution_count": 10,
   "metadata": {},
   "outputs": [],
   "source": [
    "df_counts[\"sentence\"] = (df_counts[\"sentence\"]\n",
    "                         .apply(lambda x: \n",
    "                                re.sub(r\"([0-9a-zA-Z]+)\\.([A-Za-z]+\\s)\",\n",
    "                                       r\"\\g<1>. \\g<2>\",\n",
    "                                       x)\n",
    "                               )\n",
    "                        )\n",
    "tokenized_sentences_counts = df_counts.sentence.apply(word_tokenize)\n",
    "df_counts[\"sentence\"] = tokenized_sentences_counts\n",
    "df_counts[\"sentence\"] = (df_counts[\"sentence\"]\n",
    "                         .apply(lambda x: [i.lower() for i in x if i.isalnum()])\n",
    "                        )\n",
    "df_counts[\"sentence\"] = df_counts[\"sentence\"].apply(lambda x: \" \".join(x))"
   ]
  },
  {
   "cell_type": "code",
   "execution_count": 24,
   "metadata": {},
   "outputs": [
    {
     "data": {
      "text/plain": [
       "Pipeline(memory=None,\n",
       "         steps=[('vect',\n",
       "                 CountVectorizer(analyzer='word', binary=False,\n",
       "                                 decode_error='strict',\n",
       "                                 dtype=<class 'numpy.int64'>, encoding='utf-8',\n",
       "                                 input='content', lowercase=True, max_df=1.0,\n",
       "                                 max_features=None, min_df=1,\n",
       "                                 ngram_range=(1, 1), preprocessor=None,\n",
       "                                 stop_words=None, strip_accents=None,\n",
       "                                 token_pattern='(?u)\\\\b\\\\w\\\\w+\\\\b',\n",
       "                                 tokenizer=None, vocabulary=None)),\n",
       "                ('tfidf',\n",
       "                 TfidfTransformer(norm='l2', smooth_idf=True,\n",
       "                                  sublinear_tf=False, use_idf=True)),\n",
       "                ('clf',\n",
       "                 MultinomialNB(alpha=1.0, class_prior=None, fit_prior=True))],\n",
       "         verbose=False)"
      ]
     },
     "execution_count": 24,
     "metadata": {},
     "output_type": "execute_result"
    }
   ],
   "source": [
    "text_clf_counts = Pipeline([\n",
    "                            ('vect', CountVectorizer()),\n",
    "                            ('tfidf', TfidfTransformer()),\n",
    "                            ('clf', MultinomialNB()),\n",
    "                  ])\n",
    "\n",
    "(train_texts_counts, \n",
    " dev_texts_counts, \n",
    " train_cats_counts, \n",
    " dev_cats_counts) = train_test_split(df_counts['sentence'],\n",
    "                                     df_counts['label'],\n",
    "                                     test_size=.2,\n",
    "                                   )\n",
    "\n",
    "text_clf_counts.fit(train_texts_counts, train_cats_counts)"
   ]
  },
  {
   "cell_type": "code",
   "execution_count": 25,
   "metadata": {
    "scrolled": false
   },
   "outputs": [
    {
     "name": "stdout",
     "output_type": "stream",
     "text": [
      "              precision    recall  f1-score   support\n",
      "\n",
      "       False       0.91      1.00      0.95       444\n",
      "        True       0.00      0.00      0.00        45\n",
      "\n",
      "    accuracy                           0.91       489\n",
      "   macro avg       0.45      0.50      0.48       489\n",
      "weighted avg       0.82      0.91      0.86       489\n",
      "\n",
      "[[443   1]\n",
      " [ 45   0]]\n",
      "                   pre       rec       spe        f1       geo       iba       sup\n",
      "\n",
      "      False       0.91      1.00      0.00      0.95      0.00      0.00       444\n",
      "       True       0.00      0.00      1.00      0.00      0.00      0.00        45\n",
      "\n",
      "avg / total       0.82      0.91      0.09      0.86      0.00      0.00       489\n",
      "\n"
     ]
    },
    {
     "data": {
      "image/png": "[encoded data removed]",
      "text/plain": [
       "<Figure size 432x288 with 1 Axes>"
      ]
     },
     "metadata": {
      "needs_background": "light"
     },
     "output_type": "display_data"
    }
   ],
   "source": [
    "plot_roc(text_clf_counts, dev_texts_counts, dev_cats_counts, 'multinomial_counts')\n",
    "print(classification_report(dev_cats_counts, text_clf_counts.predict(dev_texts_counts)))\n",
    "print(confusion_matrix(dev_cats_counts, text_clf_counts.predict(dev_texts_counts)))\n",
    "print(classification_report_imbalanced(dev_cats_counts, text_clf_counts.predict(dev_texts_counts)))"
   ]
  },
  {
   "cell_type": "code",
   "execution_count": 26,
   "metadata": {},
   "outputs": [
    {
     "data": {
      "text/plain": [
       "Pipeline(memory=None,\n",
       "         steps=[('vect',\n",
       "                 CountVectorizer(analyzer='word', binary=False,\n",
       "                                 decode_error='strict',\n",
       "                                 dtype=<class 'numpy.int64'>, encoding='utf-8',\n",
       "                                 input='content', lowercase=True, max_df=1.0,\n",
       "                                 max_features=None, min_df=1,\n",
       "                                 ngram_range=(1, 1), preprocessor=None,\n",
       "                                 stop_words=None, strip_accents=None,\n",
       "                                 token_pattern='(?u)\\\\b\\\\w\\\\w+\\\\b',\n",
       "                                 tokenizer=None, vocabulary=None)),\n",
       "                ('tfidf',\n",
       "                 TfidfTransformer(norm='l2', smooth_idf=True,\n",
       "                                  sublinear_tf=False, use_idf=True)),\n",
       "                ('clf',\n",
       "                 BernoulliNB(alpha=1.0, binarize=0.0, class_prior=None,\n",
       "                             fit_prior=True))],\n",
       "         verbose=False)"
      ]
     },
     "execution_count": 26,
     "metadata": {},
     "output_type": "execute_result"
    }
   ],
   "source": [
    "text_clf_counts_ber = Pipeline([\n",
    "                            ('vect', CountVectorizer()),\n",
    "                            ('tfidf', TfidfTransformer()),\n",
    "                            ('clf', BernoulliNB()),\n",
    "                  ])\n",
    "\n",
    "(train_texts_counts, \n",
    " dev_texts_counts, \n",
    " train_cats_counts, \n",
    " dev_cats_counts) = train_test_split(df_counts['sentence'],\n",
    "                                     df_counts['label'],\n",
    "                                     test_size=.2,\n",
    "                                   )\n",
    "\n",
    "text_clf_counts_ber.fit(train_texts_counts, train_cats_counts)"
   ]
  },
  {
   "cell_type": "code",
   "execution_count": 27,
   "metadata": {},
   "outputs": [
    {
     "name": "stdout",
     "output_type": "stream",
     "text": [
      "              precision    recall  f1-score   support\n",
      "\n",
      "       False       0.93      0.92      0.92       447\n",
      "        True       0.21      0.21      0.21        42\n",
      "\n",
      "    accuracy                           0.86       489\n",
      "   macro avg       0.57      0.57      0.57       489\n",
      "weighted avg       0.86      0.86      0.86       489\n",
      "\n",
      "[[413  34]\n",
      " [ 33   9]]\n",
      "                   pre       rec       spe        f1       geo       iba       sup\n",
      "\n",
      "      False       0.93      0.92      0.21      0.92      0.44      0.21       447\n",
      "       True       0.21      0.21      0.92      0.21      0.44      0.18        42\n",
      "\n",
      "avg / total       0.86      0.86      0.28      0.86      0.44      0.21       489\n",
      "\n"
     ]
    },
    {
     "data": {
      "image/png": "[encoded data removed]",
      "text/plain": [
       "<Figure size 432x288 with 1 Axes>"
      ]
     },
     "metadata": {
      "needs_background": "light"
     },
     "output_type": "display_data"
    }
   ],
   "source": [
    "plot_roc(text_clf_counts, dev_texts_counts, dev_cats_counts, 'bernoulli_counts')\n",
    "print(classification_report(dev_cats_counts, text_clf_counts_ber.predict(dev_texts_counts)))\n",
    "print(confusion_matrix(dev_cats_counts, text_clf_counts_ber.predict(dev_texts_counts)))\n",
    "print(classification_report_imbalanced(dev_cats_counts, text_clf_counts_ber.predict(dev_texts_counts)))"
   ]
  },
  {
   "cell_type": "code",
   "execution_count": 52,
   "metadata": {},
   "outputs": [],
   "source": [
    "df_dates = ExtractSentencesAndLabel(\"dates\").data_output()"
   ]
  },
  {
   "cell_type": "code",
   "execution_count": 53,
   "metadata": {},
   "outputs": [],
   "source": [
    "df_dates[\"sentence\"] = (df_dates[\"sentence\"]\n",
    "                         .apply(lambda x: \n",
    "                                re.sub(r\"([0-9a-zA-Z]+)\\.([A-Za-z]+\\s)\",\n",
    "                                       r\"\\g<1>. \\g<2>\",\n",
    "                                       x)\n",
    "                               )\n",
    "                        )\n",
    "tokenized_sentences_dates = df_dates.sentence.apply(word_tokenize)\n",
    "df_dates[\"sentence\"] = tokenized_sentences_dates\n",
    "df_dates[\"sentence\"] = (df_dates[\"sentence\"]\n",
    "                         .apply(lambda x: [i.lower() for i in x if i.isalnum()])\n",
    "                        )\n",
    "df_dates[\"sentence\"] = df_dates[\"sentence\"].apply(lambda x: \" \".join(x))"
   ]
  },
  {
   "cell_type": "code",
   "execution_count": 54,
   "metadata": {},
   "outputs": [
    {
     "data": {
      "text/plain": [
       "Pipeline(memory=None,\n",
       "         steps=[('vect',\n",
       "                 CountVectorizer(analyzer='word', binary=False,\n",
       "                                 decode_error='strict',\n",
       "                                 dtype=<class 'numpy.int64'>, encoding='utf-8',\n",
       "                                 input='content', lowercase=True, max_df=1.0,\n",
       "                                 max_features=None, min_df=1,\n",
       "                                 ngram_range=(1, 1), preprocessor=None,\n",
       "                                 stop_words=None, strip_accents=None,\n",
       "                                 token_pattern='(?u)\\\\b\\\\w\\\\w+\\\\b',\n",
       "                                 tokenizer=None, vocabulary=None)),\n",
       "                ('tfidf',\n",
       "                 TfidfTransformer(norm='l2', smooth_idf=True,\n",
       "                                  sublinear_tf=False, use_idf=True)),\n",
       "                ('clf',\n",
       "                 MultinomialNB(alpha=1.0, class_prior=None, fit_prior=True))],\n",
       "         verbose=False)"
      ]
     },
     "execution_count": 54,
     "metadata": {},
     "output_type": "execute_result"
    }
   ],
   "source": [
    "text_clf_dates = Pipeline([\n",
    "                            ('vect', CountVectorizer()),\n",
    "                            ('tfidf', TfidfTransformer()),\n",
    "                            ('clf', MultinomialNB()),\n",
    "                  ])\n",
    "\n",
    "(train_texts_dates, \n",
    " dev_texts_dates, \n",
    " train_cats_dates, \n",
    " dev_cats_dates) = train_test_split(df_dates['sentence'],\n",
    "                                    df_dates['label'],\n",
    "                                    test_size=.2,\n",
    "                                   )\n",
    "\n",
    "text_clf_dates.fit(train_texts_dates, train_cats_dates)"
   ]
  },
  {
   "cell_type": "code",
   "execution_count": 55,
   "metadata": {},
   "outputs": [
    {
     "name": "stderr",
     "output_type": "stream",
     "text": [
      "c:\\users\\abbooda\\appdata\\local\\continuum\\anaconda3\\envs\\rki\\lib\\site-packages\\sklearn\\metrics\\classification.py:1437: UndefinedMetricWarning: Precision and F-score are ill-defined and being set to 0.0 in labels with no predicted samples.\n",
      "  'precision', 'predicted', average, warn_for)\n"
     ]
    },
    {
     "name": "stdout",
     "output_type": "stream",
     "text": [
      "              precision    recall  f1-score   support\n",
      "\n",
      "       False       0.69      1.00      0.82        27\n",
      "        True       0.00      0.00      0.00        12\n",
      "\n",
      "    accuracy                           0.69        39\n",
      "   macro avg       0.35      0.50      0.41        39\n",
      "weighted avg       0.48      0.69      0.57        39\n",
      "\n",
      "[[27  0]\n",
      " [12  0]]\n",
      "                   pre       rec       spe        f1       geo       iba       sup\n",
      "\n",
      "      False       0.69      1.00      0.00      0.82      0.00      0.00        27\n",
      "       True       0.00      0.00      1.00      0.00      0.00      0.00        12\n",
      "\n",
      "avg / total       0.48      0.69      0.31      0.57      0.00      0.00        39\n",
      "\n"
     ]
    },
    {
     "data": {
      "image/png": "[encoded data removed]",
      "text/plain": [
       "<Figure size 432x288 with 1 Axes>"
      ]
     },
     "metadata": {
      "needs_background": "light"
     },
     "output_type": "display_data"
    }
   ],
   "source": [
    "plot_roc(text_clf_dates, dev_texts_dates, dev_cats_dates, 'multionomial_dates')\n",
    "print(classification_report(dev_cats_dates, text_clf_dates.predict(dev_texts_dates)))\n",
    "print(confusion_matrix(dev_cats_dates, text_clf_dates.predict(dev_texts_dates)))\n",
    "print(classification_report_imbalanced(dev_cats_dates, text_clf_dates.predict(dev_texts_dates)))"
   ]
  },
  {
   "cell_type": "code",
   "execution_count": 56,
   "metadata": {},
   "outputs": [
    {
     "data": {
      "text/plain": [
       "Pipeline(memory=None,\n",
       "         steps=[('vect',\n",
       "                 CountVectorizer(analyzer='word', binary=False,\n",
       "                                 decode_error='strict',\n",
       "                                 dtype=<class 'numpy.int64'>, encoding='utf-8',\n",
       "                                 input='content', lowercase=True, max_df=1.0,\n",
       "                                 max_features=None, min_df=1,\n",
       "                                 ngram_range=(1, 1), preprocessor=None,\n",
       "                                 stop_words=None, strip_accents=None,\n",
       "                                 token_pattern='(?u)\\\\b\\\\w\\\\w+\\\\b',\n",
       "                                 tokenizer=None, vocabulary=None)),\n",
       "                ('tfidf',\n",
       "                 TfidfTransformer(norm='l2', smooth_idf=True,\n",
       "                                  sublinear_tf=False, use_idf=True)),\n",
       "                ('clf',\n",
       "                 BernoulliNB(alpha=1.0, binarize=0.0, class_prior=None,\n",
       "                             fit_prior=True))],\n",
       "         verbose=False)"
      ]
     },
     "execution_count": 56,
     "metadata": {},
     "output_type": "execute_result"
    }
   ],
   "source": [
    "text_clf_dates_ber = Pipeline([\n",
    "                            ('vect', CountVectorizer()),\n",
    "                            ('tfidf', TfidfTransformer()),\n",
    "                            ('clf', BernoulliNB()),\n",
    "                  ])\n",
    "\n",
    "(train_texts_dates, \n",
    " dev_texts_dates, \n",
    " train_cats_dates, \n",
    " dev_cats_dates) = train_test_split(df_dates['sentence'],\n",
    "                                    df_dates['label'],\n",
    "                                    test_size=.2,\n",
    "                                   )\n",
    "\n",
    "text_clf_dates_ber.fit(train_texts_dates, train_cats_dates)"
   ]
  },
  {
   "cell_type": "code",
   "execution_count": 57,
   "metadata": {
    "scrolled": false
   },
   "outputs": [
    {
     "name": "stdout",
     "output_type": "stream",
     "text": [
      "              precision    recall  f1-score   support\n",
      "\n",
      "       False       0.78      0.90      0.84        31\n",
      "        True       0.00      0.00      0.00         8\n",
      "\n",
      "    accuracy                           0.72        39\n",
      "   macro avg       0.39      0.45      0.42        39\n",
      "weighted avg       0.62      0.72      0.66        39\n",
      "\n",
      "[[28  3]\n",
      " [ 8  0]]\n",
      "                   pre       rec       spe        f1       geo       iba       sup\n",
      "\n",
      "      False       0.78      0.90      0.00      0.84      0.00      0.00        31\n",
      "       True       0.00      0.00      0.90      0.00      0.00      0.00         8\n",
      "\n",
      "avg / total       0.62      0.72      0.19      0.66      0.00      0.00        39\n",
      "\n"
     ]
    },
    {
     "data": {
      "image/png": "[encoded data removed]",
      "text/plain": [
       "<Figure size 432x288 with 1 Axes>"
      ]
     },
     "metadata": {
      "needs_background": "light"
     },
     "output_type": "display_data"
    }
   ],
   "source": [
    "plot_roc(text_clf_dates, dev_texts_dates, dev_cats_dates, 'multionomial_dates')\n",
    "print(classification_report(dev_cats_dates, text_clf_dates_ber.predict(dev_texts_dates)))\n",
    "print(confusion_matrix(dev_cats_dates, text_clf_dates_ber.predict(dev_texts_dates)))\n",
    "print(classification_report_imbalanced(dev_cats_dates, text_clf_dates_ber.predict(dev_texts_dates)))"
   ]
  },
  {
   "cell_type": "code",
   "execution_count": 58,
   "metadata": {},
   "outputs": [
    {
     "data": {
      "image/png": "[encoded data removed]",
      "text/plain": [
       "<Figure size 432x288 with 1 Axes>"
      ]
     },
     "metadata": {
      "needs_background": "light"
     },
     "output_type": "display_data"
    }
   ],
   "source": [
    "clfs = [text_clf_counts, text_clf_counts_ber, text_clf_dates, text_clf_dates_ber]\n",
    "markers = ['-', ':', '--', '-', \":\", \"--\", \"-\"]\n",
    "names = [\"MNB (Counts)\", \"BNB (Counts)\", \"MNB (Dates)\", \"BNB (Dates)\",]\n",
    "for i, clf in enumerate(clfs):\n",
    "    try:\n",
    "        if i in [0,1]:\n",
    "            y_pred = clf.predict_proba(dev_texts_counts)\n",
    "            fpr, tpr, _ = roc_curve(dev_cats_counts, y_pred[:,1])\n",
    "            auc_score = auc(fpr, tpr)\n",
    "        else:  \n",
    "            y_pred = clf.predict_proba(dev_texts_dates)\n",
    "            fpr, tpr, _ = roc_curve(dev_cats_dates, y_pred[:,1])\n",
    "            auc_score = auc(fpr, tpr)\n",
    "    except AttributeError:\n",
    "        print(\"asda\")\n",
    "        y_pred = clf.predict(X_test)\n",
    "        fpr, tpr, _ = roc_curve(y_test, y_pred)\n",
    "        auc_score = auc(fpr, tpr)\n",
    "    plt.xlabel('False Positive Rate')\n",
    "    plt.ylabel('True Positive Rate')\n",
    "    #plt.savefig(f'{name}.pdf', format='pdf')\n",
    "    plt.plot(fpr, tpr, linestyle=markers[i], label=f\"{names[i]} (AUC: {auc_score:.2f})\")\n",
    "\n",
    "plt.legend(loc=4)\n",
    "plt.savefig('roc_curves_key.pdf', format='pdf')\n",
    "plt.show()"
   ]
  },
  {
   "cell_type": "markdown",
   "metadata": {},
   "source": [
    "## Count/Date Classifier: Most Informative Words"
   ]
  },
  {
   "cell_type": "code",
   "execution_count": 45,
   "metadata": {},
   "outputs": [],
   "source": [
    "df_sent = ExtractSentencesAndLabel('counts').data_output()"
   ]
  },
  {
   "cell_type": "code",
   "execution_count": 46,
   "metadata": {},
   "outputs": [],
   "source": [
    "df_sent[\"sentence\"] = (df_sent[\"sentence\"]\n",
    "                         .apply(lambda x: \n",
    "                                re.sub(r\"([0-9a-zA-Z]+)\\.([A-Za-z]+\\s)\",\n",
    "                                       r\"\\g<1>. \\g<2>\",\n",
    "                                       x)\n",
    "                               )\n",
    "                        )\n",
    "tokenized_sentences_counts = df_sent.sentence.apply(word_tokenize)\n",
    "df_sent[\"sentence\"] = tokenized_sentences_counts\n",
    "df_sent[\"sentence\"] = (df_sent[\"sentence\"]\n",
    "                         .apply(lambda x: [i.lower() for i in x if i.isalnum()])\n",
    "                        )\n",
    "df_sent[\"sentence\"] = df_sent[\"sentence\"].apply(lambda x: \" \".join(x))"
   ]
  },
  {
   "cell_type": "code",
   "execution_count": 47,
   "metadata": {},
   "outputs": [],
   "source": [
    "df_sent['sentence']= df_sent['sentence'].apply(lambda x: list(set(x.split()) - set(stopwords.words('english'))))"
   ]
  },
  {
   "cell_type": "code",
   "execution_count": 48,
   "metadata": {},
   "outputs": [],
   "source": [
    "df_sent = split_list_and_distribute_to_new_rows(df_sent, 'sentence')"
   ]
  },
  {
   "cell_type": "code",
   "execution_count": 49,
   "metadata": {
    "scrolled": true
   },
   "outputs": [
    {
     "data": {
      "text/plain": [
       "[({'word': 'ncdcthe'}, False),\n",
       " ({'word': 'control'}, False),\n",
       " ({'word': 'established'}, False),\n",
       " ({'word': '809'}, False),\n",
       " ({'word': 'free'}, False),\n",
       " ({'word': 'disease'}, False),\n",
       " ({'word': 'detection'}, False),\n",
       " ({'word': 'centretoll'}, False),\n",
       " ({'word': 'challenges'}, False),\n",
       " ({'word': 'health'}, False),\n",
       " ({'word': 'diseases'}, False),\n",
       " ({'word': '0010whatsapp'}, False),\n",
       " ({'word': 'centre'}, False),\n",
       " ({'word': 'newslettermandate'}, False),\n",
       " ({'word': '0839sms'}, False),\n",
       " ({'word': 'number'}, False),\n",
       " ({'word': 'year'}, False),\n",
       " ({'word': 'prevention'}, False),\n",
       " ({'word': 'handlestoll'}, False),\n",
       " ({'word': '9700'}, False),\n",
       " ({'word': 'enhance'}, False),\n",
       " ({'word': '711'}, False),\n",
       " ({'word': '955'}, False),\n",
       " ({'word': 'response'}, False),\n",
       " ({'word': '0800'}, False),\n",
       " ({'word': '0'}, False),\n",
       " ({'word': 'public'}, False),\n",
       " ({'word': 'epidemics'}, False),\n",
       " ({'word': 'nigeria'}, False),\n",
       " ({'word': 'ncdc'}, False),\n",
       " ({'word': 'communicable'}, False),\n",
       " ({'word': 'connect'}, False),\n",
       " ({'word': 'subscribe'}, False),\n",
       " ({'word': 'us'}, False),\n",
       " ({'word': 'emergencies'}, False),\n",
       " ({'word': '708'}, False),\n",
       " ({'word': 'preparedness'}, False),\n",
       " ({'word': '2011'}, False),\n",
       " ({'word': 'ncdcthe'}, False),\n",
       " ({'word': 'control'}, False),\n",
       " ({'word': 'established'}, False),\n",
       " ({'word': '809'}, False),\n",
       " ({'word': 'free'}, False),\n",
       " ({'word': 'disease'}, False),\n",
       " ({'word': 'detection'}, False),\n",
       " ({'word': 'centretoll'}, False),\n",
       " ({'word': 'challenges'}, False),\n",
       " ({'word': 'health'}, False),\n",
       " ({'word': 'diseases'}, False),\n",
       " ({'word': '0010whatsapp'}, False),\n",
       " ({'word': 'centre'}, False),\n",
       " ({'word': 'newslettermandate'}, False),\n",
       " ({'word': '0839sms'}, False),\n",
       " ({'word': 'number'}, False),\n",
       " ({'word': 'year'}, False),\n",
       " ({'word': 'prevention'}, False),\n",
       " ({'word': 'handlestoll'}, False),\n",
       " ({'word': '9700'}, False),\n",
       " ({'word': 'enhance'}, False),\n",
       " ({'word': '711'}, False),\n",
       " ({'word': '955'}, False),\n",
       " ({'word': 'response'}, False),\n",
       " ({'word': '0800'}, False),\n",
       " ({'word': '0'}, False),\n",
       " ({'word': 'public'}, False),\n",
       " ({'word': 'epidemics'}, False),\n",
       " ({'word': 'nigeria'}, False),\n",
       " ({'word': 'ncdc'}, False),\n",
       " ({'word': 'communicable'}, False),\n",
       " ({'word': 'connect'}, False),\n",
       " ({'word': 'subscribe'}, False),\n",
       " ({'word': 'us'}, False),\n",
       " ({'word': 'emergencies'}, False),\n",
       " ({'word': '708'}, False),\n",
       " ({'word': 'preparedness'}, False),\n",
       " ({'word': '2011'}, False),\n",
       " ({'word': 'ncdcthe'}, False),\n",
       " ({'word': 'control'}, False),\n",
       " ({'word': 'established'}, False),\n",
       " ({'word': '809'}, False),\n",
       " ({'word': 'free'}, False),\n",
       " ({'word': 'disease'}, False),\n",
       " ({'word': 'detection'}, False),\n",
       " ({'word': 'centretoll'}, False),\n",
       " ({'word': 'challenges'}, False),\n",
       " ({'word': 'health'}, False),\n",
       " ({'word': 'diseases'}, False),\n",
       " ({'word': '0010whatsapp'}, False),\n",
       " ({'word': 'centre'}, False),\n",
       " ({'word': 'newslettermandate'}, False),\n",
       " ({'word': '0839sms'}, False),\n",
       " ({'word': 'number'}, False),\n",
       " ({'word': 'year'}, False),\n",
       " ({'word': 'prevention'}, False),\n",
       " ({'word': 'handlestoll'}, False),\n",
       " ({'word': '9700'}, False),\n",
       " ({'word': 'enhance'}, False),\n",
       " ({'word': '711'}, False),\n",
       " ({'word': '955'}, False),\n",
       " ({'word': 'response'}, False),\n",
       " ({'word': '0800'}, False),\n",
       " ({'word': '0'}, False),\n",
       " ({'word': 'public'}, False),\n",
       " ({'word': 'epidemics'}, False),\n",
       " ({'word': 'nigeria'}, False),\n",
       " ({'word': 'ncdc'}, False),\n",
       " ({'word': 'communicable'}, False),\n",
       " ({'word': 'connect'}, False),\n",
       " ({'word': 'subscribe'}, False),\n",
       " ({'word': 'us'}, False),\n",
       " ({'word': 'emergencies'}, False),\n",
       " ({'word': '708'}, False),\n",
       " ({'word': 'preparedness'}, False),\n",
       " ({'word': '2011'}, False),\n",
       " ({'word': '17'}, False),\n",
       " ({'word': 'care'}, False),\n",
       " ({'word': 'achieve'}, False),\n",
       " ({'word': 'koinadugu'}, False),\n",
       " ({'word': 'historic'}, False),\n",
       " ({'word': 'targets'}, False),\n",
       " ({'word': '169'}, False),\n",
       " ({'word': 'western'}, False),\n",
       " ({'word': 'held'}, False),\n",
       " ({'word': 'united'}, False),\n",
       " ({'word': 'states'}, False),\n",
       " ({'word': 'fight'}, False),\n",
       " ({'word': 'facilitiessurvivors'}, False),\n",
       " ({'word': 'goalsthe'}, False),\n",
       " ({'word': 'report'}, False),\n",
       " ({'word': 'year'}, False),\n",
       " ({'word': '2030'}, False),\n",
       " ({'word': 'event'}, False),\n",
       " ({'word': 'nations'}, False),\n",
       " ({'word': 'sustainable'}, False),\n",
       " ({'word': 'limbostepping'}, False),\n",
       " ({'word': 'abuja'}, False),\n",
       " ({'word': 'agreed'}, False),\n",
       " ({'word': 'goals'}, False),\n",
       " ({'word': 'hygiene'}, False),\n",
       " ({'word': 'development'}, False),\n",
       " ({'word': 'leonesustainable'}, False),\n",
       " ({'word': 'sdgs'}, False),\n",
       " ({'word': 'leonefield'}, False),\n",
       " ({'word': 'ebola'}, False),\n",
       " ({'word': 'member'}, False),\n",
       " ({'word': '2019'}, False),\n",
       " ({'word': '191'}, False),\n",
       " ({'word': '25'}, False),\n",
       " ({'word': 'un'}, False),\n",
       " ({'word': 'january'}, False),\n",
       " ({'word': 'try'}, False),\n",
       " ({'word': 'sierra'}, False),\n",
       " ({'word': '17'}, False),\n",
       " ({'word': 'care'}, False),\n",
       " ({'word': 'achieve'}, False),\n",
       " ({'word': 'koinadugu'}, False),\n",
       " ({'word': 'historic'}, False),\n",
       " ({'word': 'targets'}, False),\n",
       " ({'word': '169'}, False),\n",
       " ({'word': 'western'}, False),\n",
       " ({'word': 'held'}, False),\n",
       " ({'word': 'united'}, False),\n",
       " ({'word': 'states'}, False),\n",
       " ({'word': 'fight'}, False),\n",
       " ({'word': 'facilitiessurvivors'}, False),\n",
       " ({'word': 'goalsthe'}, False),\n",
       " ({'word': 'report'}, False),\n",
       " ({'word': 'year'}, False),\n",
       " ({'word': '2030'}, False),\n",
       " ({'word': 'event'}, False),\n",
       " ({'word': 'nations'}, False),\n",
       " ({'word': 'sustainable'}, False),\n",
       " ({'word': 'limbostepping'}, False),\n",
       " ({'word': 'abuja'}, False),\n",
       " ({'word': 'agreed'}, False),\n",
       " ({'word': 'goals'}, False),\n",
       " ({'word': 'hygiene'}, False),\n",
       " ({'word': 'development'}, False),\n",
       " ({'word': 'leonesustainable'}, False),\n",
       " ({'word': 'sdgs'}, False),\n",
       " ({'word': 'leonefield'}, False),\n",
       " ({'word': 'ebola'}, False),\n",
       " ({'word': 'member'}, False),\n",
       " ({'word': '2019'}, False),\n",
       " ({'word': '191'}, False),\n",
       " ({'word': '25'}, False),\n",
       " ({'word': 'un'}, False),\n",
       " ({'word': 'january'}, False),\n",
       " ({'word': 'try'}, False),\n",
       " ({'word': 'sierra'}, False),\n",
       " ({'word': '17'}, False),\n",
       " ({'word': 'care'}, False),\n",
       " ({'word': 'achieve'}, False),\n",
       " ({'word': 'koinadugu'}, False),\n",
       " ({'word': 'historic'}, False),\n",
       " ({'word': 'targets'}, False),\n",
       " ({'word': '169'}, False),\n",
       " ({'word': 'western'}, False),\n",
       " ({'word': 'held'}, False),\n",
       " ({'word': 'united'}, False),\n",
       " ({'word': 'states'}, False),\n",
       " ({'word': 'fight'}, False),\n",
       " ({'word': 'facilitiessurvivors'}, False),\n",
       " ({'word': 'goalsthe'}, False),\n",
       " ({'word': 'report'}, False),\n",
       " ({'word': 'year'}, False),\n",
       " ({'word': '2030'}, False),\n",
       " ({'word': 'event'}, False),\n",
       " ({'word': 'nations'}, False),\n",
       " ({'word': 'sustainable'}, False),\n",
       " ({'word': 'limbostepping'}, False),\n",
       " ({'word': 'abuja'}, False),\n",
       " ({'word': 'agreed'}, False),\n",
       " ({'word': 'goals'}, False),\n",
       " ({'word': 'hygiene'}, False),\n",
       " ({'word': 'development'}, False),\n",
       " ({'word': 'leonesustainable'}, False),\n",
       " ({'word': 'sdgs'}, False),\n",
       " ({'word': 'leonefield'}, False),\n",
       " ({'word': 'ebola'}, False),\n",
       " ({'word': 'member'}, False),\n",
       " ({'word': '2019'}, False),\n",
       " ({'word': '191'}, False),\n",
       " ({'word': '25'}, False),\n",
       " ({'word': 'un'}, False),\n",
       " ({'word': 'january'}, False),\n",
       " ({'word': 'try'}, False),\n",
       " ({'word': 'sierra'}, False),\n",
       " ({'word': 'entourage'}, False),\n",
       " ({'word': 'qui'}, False),\n",
       " ({'word': '2018'}, False),\n",
       " ({'word': 'de'}, False),\n",
       " ({'word': 'avirons'}, False),\n",
       " ({'word': 'contre'}, False),\n",
       " ({'word': 'prévention'}, False),\n",
       " ({'word': 'niveau'}, False),\n",
       " ({'word': 'ainsi'}, False),\n",
       " ({'word': 'l'}, False),\n",
       " ({'word': 'la'}, False),\n",
       " ({'word': 'une'}, False),\n",
       " ({'word': 'vacances'}, False),\n",
       " ({'word': 'gestes'}, False),\n",
       " ({'word': 'janvier'}, False),\n",
       " ({'word': 'augmentation'}, False),\n",
       " ({'word': 'semaine'}, False),\n",
       " ({'word': 'lutter'}, False),\n",
       " ({'word': 'nombre'}, False),\n",
       " ({'word': 'notamment'}, False),\n",
       " ({'word': 'et'}, False),\n",
       " ({'word': 'au'}, False),\n",
       " ({'word': 'actions'}, False),\n",
       " ({'word': 'confirmés'}, False),\n",
       " ({'word': 'les'}, False),\n",
       " ({'word': 'sur'}, False),\n",
       " ({'word': 'cette'}, False),\n",
       " ({'word': 'ont'}, False),\n",
       " ({'word': 'à'}, False),\n",
       " ({'word': 'ce'}, False),\n",
       " ({'word': 'chacun'}, False),\n",
       " ({'word': 'cas'}, False),\n",
       " ({'word': 'se'}, False),\n",
       " ({'word': 'différents'}, False),\n",
       " ({'word': 'localisation'}, False),\n",
       " ({'word': 'département'}, False),\n",
       " ({'word': 'le'}, False),\n",
       " ({'word': 'retour'}, False),\n",
       " ({'word': 'multiplient'}, False),\n",
       " ({'word': 'possession'}, False),\n",
       " ({'word': 'dispositifs'}, False),\n",
       " ({'word': 'adopter'}, False),\n",
       " ({'word': 'ensemble'}, False),\n",
       " ({'word': 'dans'}, False),\n",
       " ({'word': 'poursuit'}, False),\n",
       " ({'word': 'que'}, False),\n",
       " ({'word': '976'}, False),\n",
       " ({'word': 'leurs'}, False),\n",
       " ({'word': 'moustiques'}, False),\n",
       " ({'word': 'été'}, False),\n",
       " ({'word': 'avec'}, False),\n",
       " ({'word': 'son'}, False),\n",
       " ({'word': 'depuis'}, False),\n",
       " ({'word': 'pour'}, False),\n",
       " ({'word': 'dengue'}, False),\n",
       " ({'word': 'ouest'}, False),\n",
       " ({'word': 'renforcent'}, False),\n",
       " ({'word': 'sud'}, False),\n",
       " ({'word': 'rappeler'}, False),\n",
       " ({'word': 'protéger'}, False),\n",
       " ({'word': 'du'}, False),\n",
       " ({'word': 'sont'}, False),\n",
       " ({'word': '1er'}, False),\n",
       " ({'word': 'en'}, False),\n",
       " ({'word': '6'}, False),\n",
       " ({'word': 'acteurs'}, False),\n",
       " ({'word': 'entourage'}, False),\n",
       " ({'word': 'qui'}, False),\n",
       " ({'word': '2018'}, False),\n",
       " ({'word': 'de'}, False),\n",
       " ({'word': 'avirons'}, False),\n",
       " ({'word': 'contre'}, False),\n",
       " ({'word': 'prévention'}, False),\n",
       " ({'word': 'niveau'}, False),\n",
       " ({'word': 'ainsi'}, False),\n",
       " ({'word': 'l'}, False),\n",
       " ({'word': 'la'}, False),\n",
       " ({'word': 'une'}, False),\n",
       " ({'word': 'vacances'}, False),\n",
       " ({'word': 'gestes'}, False),\n",
       " ({'word': 'janvier'}, False),\n",
       " ({'word': 'augmentation'}, False),\n",
       " ({'word': 'semaine'}, False),\n",
       " ({'word': 'lutter'}, False),\n",
       " ({'word': 'nombre'}, False),\n",
       " ({'word': 'notamment'}, False),\n",
       " ({'word': 'et'}, False),\n",
       " ({'word': 'au'}, False),\n",
       " ({'word': 'actions'}, False),\n",
       " ({'word': 'confirmés'}, False),\n",
       " ({'word': 'les'}, False),\n",
       " ({'word': 'sur'}, False),\n",
       " ({'word': 'cette'}, False),\n",
       " ({'word': 'ont'}, False),\n",
       " ({'word': 'à'}, False),\n",
       " ({'word': 'ce'}, False),\n",
       " ({'word': 'chacun'}, False),\n",
       " ({'word': 'cas'}, False),\n",
       " ({'word': 'se'}, False),\n",
       " ({'word': 'différents'}, False),\n",
       " ({'word': 'localisation'}, False),\n",
       " ({'word': 'département'}, False),\n",
       " ({'word': 'le'}, False),\n",
       " ({'word': 'retour'}, False),\n",
       " ({'word': 'multiplient'}, False),\n",
       " ({'word': 'possession'}, False),\n",
       " ({'word': 'dispositifs'}, False),\n",
       " ({'word': 'adopter'}, False),\n",
       " ({'word': 'ensemble'}, False),\n",
       " ({'word': 'dans'}, False),\n",
       " ({'word': 'poursuit'}, False),\n",
       " ({'word': 'que'}, False),\n",
       " ({'word': '976'}, False),\n",
       " ({'word': 'leurs'}, False),\n",
       " ({'word': 'moustiques'}, False),\n",
       " ({'word': 'été'}, False),\n",
       " ({'word': 'avec'}, False),\n",
       " ({'word': 'son'}, False),\n",
       " ({'word': 'depuis'}, False),\n",
       " ({'word': 'pour'}, False),\n",
       " ({'word': 'dengue'}, False),\n",
       " ({'word': 'ouest'}, False),\n",
       " ({'word': 'renforcent'}, False),\n",
       " ({'word': 'sud'}, False),\n",
       " ({'word': 'rappeler'}, False),\n",
       " ({'word': 'protéger'}, False),\n",
       " ({'word': 'du'}, False),\n",
       " ({'word': 'sont'}, False),\n",
       " ({'word': '1er'}, False),\n",
       " ({'word': 'en'}, False),\n",
       " ({'word': '6'}, False),\n",
       " ({'word': 'acteurs'}, False),\n",
       " ({'word': 'total'}, False),\n",
       " ({'word': 'african'}, False),\n",
       " ({'word': 'republic'}, False),\n",
       " ({'word': 'deaths'}, False),\n",
       " ({'word': 'district'}, False),\n",
       " ({'word': 'central'}, False),\n",
       " ({'word': 'eight'}, False),\n",
       " ({'word': 'reported'}, False),\n",
       " ({'word': 'cases'}, False),\n",
       " ({'word': 'zero'}, False),\n",
       " ({'word': 'car'}, False),\n",
       " ({'word': 'bambari'}, False),\n",
       " ({'word': 'outbreak'}, False),\n",
       " ({'word': 'mar'}, False),\n",
       " ({'word': 'monkeypox'}, False),\n",
       " ({'word': 'total'}, False),\n",
       " ({'word': 'african'}, False),\n",
       " ({'word': 'republic'}, False),\n",
       " ({'word': 'deaths'}, False),\n",
       " ({'word': 'district'}, False),\n",
       " ({'word': 'central'}, False),\n",
       " ({'word': 'eight'}, False),\n",
       " ({'word': 'reported'}, False),\n",
       " ({'word': 'cases'}, False),\n",
       " ({'word': 'zero'}, False),\n",
       " ({'word': 'car'}, False),\n",
       " ({'word': 'bambari'}, False),\n",
       " ({'word': 'outbreak'}, False),\n",
       " ({'word': 'mar'}, False),\n",
       " ({'word': 'monkeypox'}, False),\n",
       " ({'word': 'health'}, False),\n",
       " ({'word': 'declared'}, False),\n",
       " ({'word': 'ministry'}, False),\n",
       " ({'word': '25'}, False),\n",
       " ({'word': 'start'}, False),\n",
       " ({'word': 'since'}, False),\n",
       " ({'word': 'outbreak'}, False),\n",
       " ({'word': 'mar'}, False),\n",
       " ({'word': 'car'}, False),\n",
       " ({'word': '17'}, False),\n",
       " ({'word': 'ippy'}, False),\n",
       " ({'word': '50'}, False),\n",
       " ({'word': 'eight'}, False),\n",
       " ({'word': 'male'}, False),\n",
       " ({'word': 'cases'}, False),\n",
       " ({'word': '5'}, False),\n",
       " ({'word': 'age'}, False),\n",
       " ({'word': 'years'}, False),\n",
       " ({'word': 'four'}, False),\n",
       " ({'word': '17'}, False),\n",
       " ({'word': 'ippy'}, False),\n",
       " ({'word': '50'}, False),\n",
       " ({'word': 'eight'}, False),\n",
       " ({'word': 'male'}, False),\n",
       " ({'word': 'cases'}, False),\n",
       " ({'word': '5'}, False),\n",
       " ({'word': 'age'}, False),\n",
       " ({'word': 'years'}, False),\n",
       " ({'word': 'four'}, False),\n",
       " ({'word': '17'}, False),\n",
       " ({'word': 'ippy'}, False),\n",
       " ({'word': '50'}, False),\n",
       " ({'word': 'eight'}, False),\n",
       " ({'word': 'male'}, False),\n",
       " ({'word': 'cases'}, False),\n",
       " ({'word': '5'}, False),\n",
       " ({'word': 'age'}, False),\n",
       " ({'word': 'years'}, False),\n",
       " ({'word': 'four'}, False),\n",
       " ({'word': '17'}, False),\n",
       " ({'word': 'ippy'}, False),\n",
       " ({'word': '50'}, False),\n",
       " ({'word': 'eight'}, False),\n",
       " ({'word': 'male'}, False),\n",
       " ({'word': 'cases'}, False),\n",
       " ({'word': '5'}, False),\n",
       " ({'word': 'age'}, False),\n",
       " ({'word': 'years'}, False),\n",
       " ({'word': 'four'}, False),\n",
       " ({'word': 'collected'}, False),\n",
       " ({'word': 'tested'}, False),\n",
       " ({'word': '2018'}, False),\n",
       " ({'word': 'samples'}, False),\n",
       " ({'word': 'three'}, False),\n",
       " ({'word': 'hospitalized'}, False),\n",
       " ({'word': 'bangui'}, False),\n",
       " ({'word': 'laboratory'}, False),\n",
       " ({'word': 'patients'}, False),\n",
       " ({'word': 'pasteur'}, False),\n",
       " ({'word': 'march'}, False),\n",
       " ({'word': '25'}, False),\n",
       " ({'word': 'institut'}, False),\n",
       " ({'word': 'tested'}, False),\n",
       " ({'word': 'eight'}, False),\n",
       " ({'word': 'virus'}, False),\n",
       " ({'word': 'cases'}, False),\n",
       " ({'word': 'positive'}, False),\n",
       " ({'word': 'six'}, False),\n",
       " ({'word': 'suspected'}, False),\n",
       " ({'word': 'monkeypox'}, False),\n",
       " ({'word': 'tested'}, False),\n",
       " ({'word': 'eight'}, False),\n",
       " ({'word': 'virus'}, False),\n",
       " ({'word': 'cases'}, False),\n",
       " ({'word': 'positive'}, False),\n",
       " ({'word': 'six'}, False),\n",
       " ({'word': 'suspected'}, False),\n",
       " ({'word': 'monkeypox'}, False),\n",
       " ({'word': 'lesions'}, False),\n",
       " ({'word': 'contact'}, False),\n",
       " ({'word': 'one'}, False),\n",
       " ({'word': 'laboratory'}, False),\n",
       " ({'word': 'pending'}, False),\n",
       " ({'word': 'disease'}, False),\n",
       " ({'word': 'largely'}, False),\n",
       " ({'word': 'case'}, False),\n",
       " ({'word': 'developed'}, False),\n",
       " ({'word': 'confirmation'}, False),\n",
       " ({'word': 'suspicious'}, False),\n",
       " ({'word': 'monkeypox'}, False),\n",
       " ({'word': 'lesions'}, False),\n",
       " ({'word': 'contact'}, False),\n",
       " ({'word': 'one'}, False),\n",
       " ({'word': 'laboratory'}, False),\n",
       " ({'word': 'pending'}, False),\n",
       " ({'word': 'disease'}, False),\n",
       " ({'word': 'largely'}, False),\n",
       " ({'word': 'case'}, False),\n",
       " ({'word': 'developed'}, False),\n",
       " ({'word': 'confirmation'}, False),\n",
       " ({'word': 'suspicious'}, False),\n",
       " ({'word': 'monkeypox'}, False),\n",
       " ({'word': 'skin'}, False),\n",
       " ({'word': 'symptoms'}, False),\n",
       " ({'word': 'vesicular'}, False),\n",
       " ({'word': 'associated'}, False),\n",
       " ({'word': 'generalized'}, False),\n",
       " ({'word': 'infection'}, False),\n",
       " ({'word': 'fever'}, False),\n",
       " ({'word': 'jaw'}, False),\n",
       " ({'word': 'painful'}, False),\n",
       " ({'word': 'characteristic'}, False),\n",
       " ({'word': 'rashes'}, False),\n",
       " ({'word': 'swelling'}, False),\n",
       " ({'word': 'ugandan'}, False),\n",
       " ({'word': 'hospitalized'}, False),\n",
       " ({'word': 'editor'}, False),\n",
       " ({'word': 'broken'}, False),\n",
       " ({'word': 'positive'}, False),\n",
       " ({'word': 'others'}, False),\n",
       " ({'word': 'person'}, False),\n",
       " ({'word': 'tested'}, False),\n",
       " ({'word': 'said'}, False),\n",
       " ({'word': 'april'}, False),\n",
       " ({'word': 'official'}, False),\n",
       " ({'word': 'anthrax'}, False),\n",
       " ({'word': 'blood'}, False),\n",
       " ({'word': 'northwestern'}, False),\n",
       " ({'word': 'veterinary'}, False),\n",
       " ({'word': 'huaxia'}, False),\n",
       " ({'word': 'breaks'}, False),\n",
       " ({'word': 'leaving'}, False),\n",
       " ({'word': 'local'}, False),\n",
       " ({'word': 'taken'}, False),\n",
       " ({'word': 'camp'}, False),\n",
       " ({'word': 'arua'}, False),\n",
       " ({'word': 'two'}, False),\n",
       " ({'word': 'killing'}, False),\n",
       " ({'word': 'friday'}, False),\n",
       " ({'word': 'one'}, False),\n",
       " ({'word': 'samples'}, False),\n",
       " ({'word': 'refugee'}, False),\n",
       " ({'word': 'told'}, False),\n",
       " ({'word': 'ugandasource'}, False),\n",
       " ({'word': 'nguma'}, False),\n",
       " ({'word': 'people'}, False),\n",
       " ({'word': 'settlement'}, False),\n",
       " ({'word': 'three'}, False),\n",
       " ({'word': 'kampala'}, False),\n",
       " ({'word': 'xinhua'}, False),\n",
       " ({'word': 'willy'}, False),\n",
       " ({'word': 'officer'}, False),\n",
       " ({'word': 'district'}, False),\n",
       " ({'word': '6'}, False),\n",
       " ({'word': 'ugandan'}, False),\n",
       " ({'word': 'hospitalized'}, False),\n",
       " ({'word': 'editor'}, False),\n",
       " ({'word': 'broken'}, False),\n",
       " ({'word': 'positive'}, False),\n",
       " ({'word': 'others'}, False),\n",
       " ({'word': 'person'}, False),\n",
       " ({'word': 'tested'}, False),\n",
       " ({'word': 'said'}, False),\n",
       " ({'word': 'april'}, False),\n",
       " ({'word': 'official'}, False),\n",
       " ({'word': 'anthrax'}, False),\n",
       " ({'word': 'blood'}, False),\n",
       " ({'word': 'northwestern'}, False),\n",
       " ({'word': 'veterinary'}, False),\n",
       " ({'word': 'huaxia'}, False),\n",
       " ({'word': 'breaks'}, False),\n",
       " ({'word': 'leaving'}, False),\n",
       " ({'word': 'local'}, False),\n",
       " ({'word': 'taken'}, False),\n",
       " ({'word': 'camp'}, False),\n",
       " ({'word': 'arua'}, False),\n",
       " ({'word': 'two'}, False),\n",
       " ({'word': 'killing'}, False),\n",
       " ({'word': 'friday'}, False),\n",
       " ({'word': 'one'}, False),\n",
       " ({'word': 'samples'}, False),\n",
       " ({'word': 'refugee'}, False),\n",
       " ({'word': 'told'}, False),\n",
       " ({'word': 'ugandasource'}, False),\n",
       " ({'word': 'nguma'}, False),\n",
       " ({'word': 'people'}, False),\n",
       " ({'word': 'settlement'}, False),\n",
       " ({'word': 'three'}, False),\n",
       " ({'word': 'kampala'}, False),\n",
       " ({'word': 'xinhua'}, False),\n",
       " ({'word': 'willy'}, False),\n",
       " ({'word': 'officer'}, False),\n",
       " ({'word': 'district'}, False),\n",
       " ({'word': '6'}, False),\n",
       " ({'word': 'ugandan'}, False),\n",
       " ({'word': 'hospitalized'}, False),\n",
       " ({'word': 'editor'}, False),\n",
       " ({'word': 'broken'}, False),\n",
       " ({'word': 'positive'}, False),\n",
       " ({'word': 'others'}, False),\n",
       " ({'word': 'person'}, False),\n",
       " ({'word': 'tested'}, False),\n",
       " ({'word': 'said'}, False),\n",
       " ({'word': 'april'}, False),\n",
       " ({'word': 'official'}, False),\n",
       " ({'word': 'anthrax'}, False),\n",
       " ({'word': 'blood'}, False),\n",
       " ({'word': 'northwestern'}, False),\n",
       " ({'word': 'veterinary'}, False),\n",
       " ({'word': 'huaxia'}, False),\n",
       " ({'word': 'breaks'}, False),\n",
       " ({'word': 'leaving'}, False),\n",
       " ({'word': 'local'}, False),\n",
       " ({'word': 'taken'}, False),\n",
       " ({'word': 'camp'}, False),\n",
       " ({'word': 'arua'}, False),\n",
       " ({'word': 'two'}, False),\n",
       " ({'word': 'killing'}, False),\n",
       " ({'word': 'friday'}, False),\n",
       " ({'word': 'one'}, False),\n",
       " ({'word': 'samples'}, False),\n",
       " ({'word': 'refugee'}, False),\n",
       " ({'word': 'told'}, False),\n",
       " ({'word': 'ugandasource'}, False),\n",
       " ({'word': 'nguma'}, False),\n",
       " ({'word': 'people'}, False),\n",
       " ({'word': 'settlement'}, False),\n",
       " ({'word': 'three'}, False),\n",
       " ({'word': 'kampala'}, False),\n",
       " ({'word': 'xinhua'}, False),\n",
       " ({'word': 'willy'}, False),\n",
       " ({'word': 'officer'}, False),\n",
       " ({'word': 'district'}, False),\n",
       " ({'word': '6'}, False),\n",
       " ({'word': 'ugandan'}, True),\n",
       " ({'word': 'hospitalized'}, True),\n",
       " ({'word': 'editor'}, True),\n",
       " ({'word': 'broken'}, True),\n",
       " ({'word': 'positive'}, True),\n",
       " ({'word': 'others'}, True),\n",
       " ({'word': 'person'}, True),\n",
       " ({'word': 'tested'}, True),\n",
       " ({'word': 'said'}, True),\n",
       " ({'word': 'april'}, True),\n",
       " ({'word': 'official'}, True),\n",
       " ({'word': 'anthrax'}, True),\n",
       " ({'word': 'blood'}, True),\n",
       " ({'word': 'northwestern'}, True),\n",
       " ({'word': 'veterinary'}, True),\n",
       " ({'word': 'huaxia'}, True),\n",
       " ({'word': 'breaks'}, True),\n",
       " ({'word': 'leaving'}, True),\n",
       " ({'word': 'local'}, True),\n",
       " ({'word': 'taken'}, True),\n",
       " ({'word': 'camp'}, True),\n",
       " ({'word': 'arua'}, True),\n",
       " ({'word': 'two'}, True),\n",
       " ({'word': 'killing'}, True),\n",
       " ({'word': 'friday'}, True),\n",
       " ({'word': 'one'}, True),\n",
       " ({'word': 'samples'}, True),\n",
       " ({'word': 'refugee'}, True),\n",
       " ({'word': 'told'}, True),\n",
       " ({'word': 'ugandasource'}, True),\n",
       " ({'word': 'nguma'}, True),\n",
       " ({'word': 'people'}, True),\n",
       " ({'word': 'settlement'}, True),\n",
       " ({'word': 'three'}, True),\n",
       " ({'word': 'kampala'}, True),\n",
       " ({'word': 'xinhua'}, True),\n",
       " ({'word': 'willy'}, True),\n",
       " ({'word': 'officer'}, True),\n",
       " ({'word': 'district'}, True),\n",
       " ({'word': '6'}, True),\n",
       " ({'word': 'animals'}, False),\n",
       " ({'word': 'disease'}, False),\n",
       " ({'word': 'many'}, False),\n",
       " ({'word': 'home'}, False),\n",
       " ({'word': 'deadly'}, False),\n",
       " ({'word': 'fighting'}, False),\n",
       " ({'word': 'said'}, False),\n",
       " ({'word': 'still'}, False),\n",
       " ({'word': 'sudanese'}, False),\n",
       " ({'word': 'undergoing'}, False),\n",
       " ({'word': 'sharing'}, False),\n",
       " ({'word': 'victims'}, False),\n",
       " ({'word': 'two'}, False),\n",
       " ({'word': 'camp'}, False),\n",
       " ({'word': 'refugees'}, False),\n",
       " ({'word': 'houses'}, False),\n",
       " ({'word': 'treatment'}, False),\n",
       " ({'word': 'nguma'}, False),\n",
       " ({'word': 'people'}, False),\n",
       " ({'word': 'fled'}, False),\n",
       " ({'word': 'risk'}, False),\n",
       " ({'word': 'contracting'}, False),\n",
       " ({'word': 'south'}, False),\n",
       " ({'word': 'live'}, False),\n",
       " ({'word': 'signs'}, False),\n",
       " ({'word': 'uganda'}, False),\n",
       " ({'word': 'animals'}, False),\n",
       " ({'word': 'cross'}, False),\n",
       " ({'word': 'died'}, False),\n",
       " ({'word': 'suspected'}, False),\n",
       " ({'word': 'screen'}, False),\n",
       " ({'word': '15'}, False),\n",
       " ({'word': 'said'}, False),\n",
       " ({'word': 'death'}, False),\n",
       " ({'word': 'oozing'}, False),\n",
       " ({'word': 'farmers'}, False),\n",
       " ({'word': 'anthrax'}, False),\n",
       " ({'word': 'blood'}, False),\n",
       " ({'word': 'anus'}, False),\n",
       " ({'word': 'reported'}, False),\n",
       " ({'word': 'advised'}, False),\n",
       " ({'word': '2016'}, False),\n",
       " ({'word': 'report'}, False),\n",
       " ({'word': 'area'}, False),\n",
       " ({'word': 'outbreak'}, False),\n",
       " ({'word': 'challenge'}, False),\n",
       " ({'word': 'nostrils'}, False),\n",
       " ({'word': 'refugees'}, False),\n",
       " ({'word': 'result'}, False),\n",
       " ({'word': 'humanitarian'}, False),\n",
       " ({'word': 'agencies'}, False),\n",
       " ({'word': 'last'}, False),\n",
       " ({'word': 'nguma'}, False),\n",
       " ({'word': 'beings'}, False),\n",
       " ({'word': 'dangerous'}, False),\n",
       " ({'word': 'ignore'}, False),\n",
       " ({'word': 'human'}, False),\n",
       " ({'word': 'signs'}, False),\n",
       " ({'word': 'uganda'}, False),\n",
       " ({'word': 'animals'}, False),\n",
       " ({'word': 'cross'}, False),\n",
       " ({'word': 'died'}, False),\n",
       " ({'word': 'suspected'}, False),\n",
       " ({'word': 'screen'}, False),\n",
       " ({'word': '15'}, False),\n",
       " ({'word': 'said'}, False),\n",
       " ({'word': 'death'}, False),\n",
       " ({'word': 'oozing'}, False),\n",
       " ({'word': 'farmers'}, False),\n",
       " ({'word': 'anthrax'}, False),\n",
       " ({'word': 'blood'}, False),\n",
       " ({'word': 'anus'}, False),\n",
       " ({'word': 'reported'}, False),\n",
       " ({'word': 'advised'}, False),\n",
       " ({'word': '2016'}, False),\n",
       " ({'word': 'report'}, False),\n",
       " ({'word': 'area'}, False),\n",
       " ({'word': 'outbreak'}, False),\n",
       " ({'word': 'challenge'}, False),\n",
       " ({'word': 'nostrils'}, False),\n",
       " ({'word': 'refugees'}, False),\n",
       " ({'word': 'result'}, False),\n",
       " ({'word': 'humanitarian'}, False),\n",
       " ({'word': 'agencies'}, False),\n",
       " ({'word': 'last'}, False),\n",
       " ({'word': 'nguma'}, False),\n",
       " ({'word': 'beings'}, False),\n",
       " ({'word': 'dangerous'}, False),\n",
       " ({'word': 'ignore'}, False),\n",
       " ({'word': 'human'}, False),\n",
       " ({'word': 'national'}, True),\n",
       " ({'word': '17'}, True),\n",
       " ({'word': '2018'}, True),\n",
       " ({'word': '2018on'}, True),\n",
       " ({'word': 'listeria'}, True),\n",
       " ({'word': '20'}, True),\n",
       " ({'word': 'associated'}, True),\n",
       " ({'word': 'infection'}, True),\n",
       " ({'word': 'disease'}, True),\n",
       " ({'word': 'monocytogenes'}, True),\n",
       " ({'word': 'listeriosis'}, True),\n",
       " ({'word': 'probable'}, True),\n",
       " ({'word': 'april'}, True),\n",
       " ({'word': 'consumption'}, True),\n",
       " ({'word': 'reported'}, True),\n",
       " ({'word': '1'}, True),\n",
       " ({'word': 'nfp'}, True),\n",
       " ({'word': 'outbreak'}, True),\n",
       " ({'word': 'point'}, True),\n",
       " ({'word': 'notified'}, True),\n",
       " ({'word': 'focal'}, True),\n",
       " ({'word': 'cantaloupe'}, True),\n",
       " ({'word': '19'}, True),\n",
       " ({'word': 'grower'}, True),\n",
       " ({'word': '2'}, True),\n",
       " ({'word': 'cases'}, True),\n",
       " ({'word': 'march'}, True),\n",
       " ({'word': 'rockmelons'}, True),\n",
       " ({'word': 'australian'}, True),\n",
       " ({'word': 'january'}, True),\n",
       " ({'word': 'single'}, True),\n",
       " ({'word': 'confirmed'}, True),\n",
       " ({'word': 'news9'}, True),\n",
       " ({'word': '6'}, True),\n",
       " ({'word': 'national'}, False),\n",
       " ({'word': '17'}, False),\n",
       " ({'word': '2018'}, False),\n",
       " ({'word': '2018on'}, False),\n",
       " ({'word': 'listeria'}, False),\n",
       " ({'word': '20'}, False),\n",
       " ({'word': 'associated'}, False),\n",
       " ({'word': 'infection'}, False),\n",
       " ({'word': 'disease'}, False),\n",
       " ({'word': 'monocytogenes'}, False),\n",
       " ({'word': 'listeriosis'}, False),\n",
       " ({'word': 'probable'}, False),\n",
       " ({'word': 'april'}, False),\n",
       " ({'word': 'consumption'}, False),\n",
       " ({'word': 'reported'}, False),\n",
       " ({'word': '1'}, False),\n",
       " ({'word': 'nfp'}, False),\n",
       " ({'word': 'outbreak'}, False),\n",
       " ({'word': 'point'}, False),\n",
       " ({'word': 'notified'}, False),\n",
       " ({'word': 'focal'}, False),\n",
       " ({'word': 'cantaloupe'}, False),\n",
       " ({'word': '19'}, False),\n",
       " ({'word': 'grower'}, False),\n",
       " ({'word': '2'}, False),\n",
       " ({'word': 'cases'}, False),\n",
       " ({'word': 'march'}, False),\n",
       " ({'word': 'rockmelons'}, False),\n",
       " ({'word': 'australian'}, False),\n",
       " ({'word': 'january'}, False),\n",
       " ({'word': 'single'}, False),\n",
       " ({'word': 'confirmed'}, False),\n",
       " ({'word': 'news9'}, False),\n",
       " ({'word': '6'}, False),\n",
       " ({'word': 'national'}, False),\n",
       " ({'word': '17'}, False),\n",
       " ({'word': '2018'}, False),\n",
       " ({'word': '2018on'}, False),\n",
       " ({'word': 'listeria'}, False),\n",
       " ({'word': '20'}, False),\n",
       " ({'word': 'associated'}, False),\n",
       " ({'word': 'infection'}, False),\n",
       " ({'word': 'disease'}, False),\n",
       " ({'word': 'monocytogenes'}, False),\n",
       " ({'word': 'listeriosis'}, False),\n",
       " ({'word': 'probable'}, False),\n",
       " ({'word': 'april'}, False),\n",
       " ({'word': 'consumption'}, False),\n",
       " ({'word': 'reported'}, False),\n",
       " ({'word': '1'}, False),\n",
       " ({'word': 'nfp'}, False),\n",
       " ({'word': 'outbreak'}, False),\n",
       " ({'word': 'point'}, False),\n",
       " ({'word': 'notified'}, False),\n",
       " ({'word': 'focal'}, False),\n",
       " ({'word': 'cantaloupe'}, False),\n",
       " ({'word': '19'}, False),\n",
       " ({'word': 'grower'}, False),\n",
       " ({'word': '2'}, False),\n",
       " ({'word': 'cases'}, False),\n",
       " ({'word': 'march'}, False),\n",
       " ({'word': 'rockmelons'}, False),\n",
       " ({'word': 'australian'}, False),\n",
       " ({'word': 'january'}, False),\n",
       " ({'word': 'single'}, False),\n",
       " ({'word': 'confirmed'}, False),\n",
       " ({'word': 'news9'}, False),\n",
       " ({'word': '6'}, False),\n",
       " ({'word': 'deaths'}, False),\n",
       " ({'word': 'seven'}, False),\n",
       " ({'word': 'one'}, False),\n",
       " ({'word': 'associated'}, False),\n",
       " ({'word': 'hospitalized'}, False),\n",
       " ({'word': 'miscarriage'}, False),\n",
       " ({'word': 'cases'}, False),\n",
       " ({'word': 'outbreak'}, False),\n",
       " ({'word': 'deaths'}, False),\n",
       " ({'word': 'seven'}, False),\n",
       " ({'word': 'one'}, False),\n",
       " ({'word': 'associated'}, False),\n",
       " ({'word': 'hospitalized'}, False),\n",
       " ({'word': 'miscarriage'}, False),\n",
       " ({'word': 'cases'}, False),\n",
       " ({'word': 'outbreak'}, False),\n",
       " ({'word': 'international'}, False),\n",
       " ({'word': 'investigations'}, False),\n",
       " ({'word': 'led'}, False),\n",
       " ({'word': '2018'}, False),\n",
       " ({'word': 'product'}, False),\n",
       " ({'word': 'distribution'}, False),\n",
       " ({'word': 'epidemiological'}, False),\n",
       " ({'word': 'affected'}, False),\n",
       " ({'word': '1'}, False),\n",
       " ({'word': 'nfp'}, False),\n",
       " ({'word': '27'}, False),\n",
       " ({'word': 'notified'}, False),\n",
       " ({'word': 'recall'}, False),\n",
       " ({'word': 'produced'}, False),\n",
       " ({'word': 'environmental'}, False),\n",
       " ({'word': 'undertaken'}, False),\n",
       " ({'word': 'february'}, False),\n",
       " ({'word': 'occurred'}, False),\n",
       " ({'word': 'grower'}, False),\n",
       " ({'word': 'rockmelons'}, False),\n",
       " ({'word': 'march'}, False),\n",
       " ({'word': 'single'}, False),\n",
       " ({'word': 'australian'}, False),\n",
       " ({'word': 'qatar'}, False),\n",
       " ({'word': 'emirates'}, False),\n",
       " ({'word': 'investigations'}, False),\n",
       " ({'word': 'arab'}, False),\n",
       " ({'word': '2018'}, False),\n",
       " ({'word': 'china'}, False),\n",
       " ({'word': 'kuwait'}, False),\n",
       " ({'word': 'received'}, False),\n",
       " ({'word': 'trace'}, False),\n",
       " ({'word': 'forward'}, False),\n",
       " ({'word': 'oman'}, False),\n",
       " ({'word': 'kong'}, False),\n",
       " ({'word': 'united'}, False),\n",
       " ({'word': 'japan'}, False),\n",
       " ({'word': 'singapore'}, False),\n",
       " ({'word': 'hong'}, False),\n",
       " ({'word': 'region'}, False),\n",
       " ({'word': 'authorities'}, False),\n",
       " ({'word': 'countries'}, False),\n",
       " ({'word': 'exported'}, False),\n",
       " ({'word': 'eight'}, False),\n",
       " ({'word': 'information'}, False),\n",
       " ({'word': '2'}, False),\n",
       " ({'word': 'grower'}, False),\n",
       " ({'word': 'march'}, False),\n",
       " ({'word': 'rockmelons'}, False),\n",
       " ({'word': 'australian'}, False),\n",
       " ({'word': 'special'}, False),\n",
       " ({'word': 'administrative'}, False),\n",
       " ({'word': 'malaysia'}, False),\n",
       " ({'word': 'points'}, False),\n",
       " ({'word': '2018'}, False),\n",
       " ({'word': '30'}, False),\n",
       " ({'word': 'listeria'}, False),\n",
       " ({'word': 'distribution'}, False),\n",
       " ({'word': 'importing'}, False),\n",
       " ({'word': '8'}, False),\n",
       " ({'word': 'positive'}, False),\n",
       " ({'word': 'melons'}, False),\n",
       " ({'word': 'monocytogenes'}, False),\n",
       " ({'word': 'concluded'}, False),\n",
       " ({'word': 'trace'}, False),\n",
       " ({'word': 'tested'}, False),\n",
       " ({'word': 'retail'}, False),\n",
       " ({'word': 'forward'}, False),\n",
       " ({'word': 'chain'}, False),\n",
       " ({'word': 'specific'}, False),\n",
       " ({'word': 'became'}, False),\n",
       " ({'word': 'april'}, False),\n",
       " ({'word': 'including'}, False),\n",
       " ({'word': 'infosan'}, False),\n",
       " ({'word': 'emergency'}, False),\n",
       " ({'word': 'reported'}, False),\n",
       " ({'word': 'respective'}, False),\n",
       " ({'word': 'contact'}, False),\n",
       " ({'word': 'samples'}, False),\n",
       " ({'word': 'point'}, False),\n",
       " ({'word': 'supply'}, False),\n",
       " ({'word': 'countries'}, False),\n",
       " ({'word': 'details'}, False),\n",
       " ({'word': 'available'}, False),\n",
       " ({'word': 'provided'}, False),\n",
       " ({'word': 'grower'}, False),\n",
       " ({'word': 'activities'}, False),\n",
       " ({'word': 'march'}, False),\n",
       " ({'word': 'rockmelons'}, False),\n",
       " ({'word': 'australia'}, False),\n",
       " ({'word': '4'}, False),\n",
       " ({'word': 'farm'}, False),\n",
       " ({'word': 'districts'}, False),\n",
       " ({'word': 'national'}, False),\n",
       " ({'word': 'emily'}, False),\n",
       " ({'word': 'institute'}, False),\n",
       " ({'word': 'epidemic'}, False),\n",
       " ({'word': 'hospitalized'}, False),\n",
       " ({'word': 'least'}, False),\n",
       " ({'word': 'according'}, False),\n",
       " ({'word': 'options'}, False),\n",
       " ({'word': 'weaker'}, False),\n",
       " ({'word': 'believed'}, False),\n",
       " ({'word': 'health'}, False),\n",
       " ({'word': 'resistant'}, False),\n",
       " ({'word': 'replacing'}, False),\n",
       " ({'word': 'spreading'}, False),\n",
       " ({'word': 'pressphoto'}, False),\n",
       " ({'word': 'agencyby'}, False),\n",
       " ({'word': 'islamabad'}, False),\n",
       " ({'word': '2016'}, False),\n",
       " ({'word': 'known'}, False),\n",
       " ({'word': 'infecting'}, False),\n",
       " ({'word': 'baumgaertnerapril'}, False),\n",
       " ({'word': 'expected'}, False),\n",
       " ({'word': 'outbreaksupported'}, False),\n",
       " ({'word': 'globally'}, False),\n",
       " ({'word': 'typhoid'}, False),\n",
       " ({'word': '850'}, False),\n",
       " ({'word': 'baby'}, False),\n",
       " ({'word': 'strain'}, False),\n",
       " ({'word': 'first'}, False),\n",
       " ({'word': 'outbreakimagea'}, False),\n",
       " ({'word': 'types'}, False),\n",
       " ({'word': 'disseminate'}, False),\n",
       " ({'word': 'hyderabad'}, False),\n",
       " ({'word': 'contracted'}, False),\n",
       " ({'word': '14'}, False),\n",
       " ...]"
      ]
     },
     "execution_count": 49,
     "metadata": {},
     "output_type": "execute_result"
    }
   ],
   "source": [
    "as_tuples = df_sent.apply(tuple, axis=1).tolist()\n",
    "as_tuples = [({'word':word}, label) for label, word in as_tuples]\n",
    "as_tuples"
   ]
  },
  {
   "cell_type": "code",
   "execution_count": 50,
   "metadata": {
    "scrolled": true
   },
   "outputs": [
    {
     "name": "stdout",
     "output_type": "stream",
     "text": [
      "Most Informative Features\n",
      "                    word = 'variant'        True : False  =     34.4 : 1.0\n",
      "                    word = 'poultry'        True : False  =     30.0 : 1.0\n",
      "                    word = 'guangxi'        True : False  =     27.8 : 1.0\n",
      "                    word = 'laibin'         True : False  =     24.5 : 1.0\n",
      "                    word = '13for'          True : False  =     21.3 : 1.0\n",
      "                    word = 'fair'           True : False  =     21.3 : 1.0\n",
      "                    word = 'straight'       True : False  =     21.3 : 1.0\n",
      "                    word = 'h1n2'           True : False  =     21.3 : 1.0\n",
      "                    word = 'pennsylvania'   True : False  =     21.3 : 1.0\n",
      "                    word = 'desert'         True : False  =     19.1 : 1.0\n",
      "                    word = 'squirrels'      True : False  =     19.1 : 1.0\n",
      "                    word = 'bulgaria'       True : False  =     19.1 : 1.0\n",
      "                    word = 'lived'          True : False  =     17.5 : 1.0\n",
      "                    word = 'southwest'      True : False  =     15.2 : 1.0\n",
      "                    word = 'britain'        True : False  =     15.2 : 1.0\n",
      "                    word = 'ireland'        True : False  =     15.2 : 1.0\n",
      "                    word = 'great'          True : False  =     15.2 : 1.0\n",
      "                    word = 'centrally'      True : False  =     14.7 : 1.0\n",
      "                    word = 'promptly'       True : False  =     14.7 : 1.0\n",
      "                    word = 'alzulfi'        True : False  =     14.7 : 1.0\n"
     ]
    }
   ],
   "source": [
    "clf = nltk.NaiveBayesClassifier.train(as_tuples)\n",
    "clf.show_most_informative_features(20)"
   ]
  },
  {
   "cell_type": "code",
   "execution_count": 71,
   "metadata": {},
   "outputs": [],
   "source": [
    "df_sent_date = ExtractSentencesAndLabel('dates').data_output()\n",
    "df_sent_date[\"sentence\"] = (df_sent_date[\"sentence\"]\n",
    "                            .apply(lambda x: \n",
    "                                   re.sub(r\"([0-9a-zA-Z]+)\\.([A-Za-z]+\\s)\",\n",
    "                                          r\"\\g<1>. \\g<2>\",\n",
    "                                          x)\n",
    "                                  )\n",
    "                           )\n",
    "tokenized_sentences_dates = df_sent_date.sentence.apply(word_tokenize)\n",
    "df_sent_date[\"sentence\"] = tokenized_sentences_dates\n",
    "\n",
    "df_sent_date[\"sentence\"] = (df_sent_date[\"sentence\"]\n",
    "                         .apply(lambda x: [i.lower() for i in x if i.isalnum()])\n",
    "                        )\n",
    "\n",
    "df_sent_date[\"sentence\"] = df_sent_date[\"sentence\"].apply(lambda x: \" \".join(x))\n",
    "df_sent_date['sentence']= df_sent_date['sentence'].apply(lambda x: list(set(x.split()) - set(stopwords.words('english'))))\n",
    "df_sent_date = split_list_and_distribute_to_new_rows(df_sent_date, 'sentence')\n",
    "as_tuples_date = df_sent_date.apply(tuple, axis=1).tolist()\n",
    "as_tuples_date = [({'sent':word}, label) for label, word in as_tuples_date]"
   ]
  },
  {
   "cell_type": "code",
   "execution_count": 72,
   "metadata": {},
   "outputs": [
    {
     "name": "stdout",
     "output_type": "stream",
     "text": [
      "Most Informative Features\n",
      "                    sent = 'worm'           True : False  =      6.2 : 1.0\n",
      "                    sent = 'emerging'       True : False  =      5.6 : 1.0\n",
      "                    sent = 'occurring'      True : False  =      5.6 : 1.0\n",
      "                    sent = 'northern'       True : False  =      5.6 : 1.0\n",
      "                    sent = 'syria'          True : False  =      5.6 : 1.0\n",
      "                    sent = 'patients'      False : True   =      5.5 : 1.0\n",
      "                    sent = 'referral'       True : False  =      4.0 : 1.0\n",
      "                    sent = 'launches'       True : False  =      4.0 : 1.0\n",
      "                    sent = 'still'          True : False  =      4.0 : 1.0\n",
      "                    sent = 'anthrax'        True : False  =      4.0 : 1.0\n",
      "                    sent = 'moresby'        True : False  =      4.0 : 1.0\n",
      "                    sent = 'weakness'       True : False  =      4.0 : 1.0\n",
      "                    sent = 'responsejoint'   True : False  =      4.0 : 1.0\n",
      "                    sent = 'releasea'       True : False  =      4.0 : 1.0\n",
      "                    sent = 'central'        True : False  =      4.0 : 1.0\n",
      "                    sent = 'opv'            True : False  =      4.0 : 1.0\n",
      "                    sent = 'chuka'          True : False  =      4.0 : 1.0\n",
      "                    sent = 'lifelong'       True : False  =      4.0 : 1.0\n",
      "                    sent = 'japan'          True : False  =      4.0 : 1.0\n",
      "                    sent = 'kingdom'        True : False  =      4.0 : 1.0\n"
     ]
    }
   ],
   "source": [
    "clf_date = nltk.NaiveBayesClassifier.train(as_tuples_date)\n",
    "clf_date.show_most_informative_features(20)"
   ]
  },
  {
   "cell_type": "markdown",
   "metadata": {},
   "source": [
    "# Recommendation Classifier"
   ]
  },
  {
   "cell_type": "code",
   "execution_count": 84,
   "metadata": {
    "scrolled": true
   },
   "outputs": [],
   "source": [
    "df_recommand = pd.read_csv('data/recommender/with_label.csv')\n",
    "df_recommand[\"extracted_text\"] = (df_recommand[\"extracted_text\"]\n",
    "                            .apply(lambda x: \n",
    "                                   re.sub(r\"([0-9a-zA-Z]+)\\.([A-Za-z]+\\s)\",\n",
    "                                          r\"\\g<1>. \\g<2>\",\n",
    "                                          x)\n",
    "                                  )\n",
    "                           )\n",
    "df_recommand[\"extracted_text\"] = df_recommand.extracted_text.apply(word_tokenize)\n",
    "\n",
    "df_recommand[\"extracted_text\"] = (df_recommand[\"extracted_text\"]\n",
    "                         .apply(lambda x: [i.lower() for i in x if i.isalnum()])\n",
    "                        )\n",
    "df_recommand[\"extracted_text\"] = df_recommand[\"extracted_text\"].apply(lambda x: \" \".join(x))\n"
   ]
  },
  {
   "cell_type": "code",
   "execution_count": 82,
   "metadata": {},
   "outputs": [],
   "source": [
    "def plot_roc(clf, X_test, y_test, name):\n",
    "    try:\n",
    "        y_pred = clf.predict_proba(X_test)\n",
    "        fpr, tpr, _ = roc_curve(y_test, y_pred[:,1])\n",
    "    except AttributeError:\n",
    "        y_pred = clf.predict(X_test)\n",
    "        fpr, tpr, _ = roc_curve(y_test, y_pred)        \n",
    "    plt.xlabel('False Positive Rate')\n",
    "    plt.ylabel('True Positive Rate')\n",
    "    plt.savefig(f'{name}.pdf', format='pdf')\n",
    "    plt.plot(fpr, tpr)\n",
    "    \n",
    "def print_scores(clf, X_train, y_train, X_test, y_test):\n",
    "    clf.fit(X_train, y_train)\n",
    "    try:\n",
    "        y_pred = clf.predict_proba(X_test)\n",
    "        fpr, tpr, _ = roc_curve(y_test, y_pred[:,1])\n",
    "    except AttributeError:\n",
    "        y_pred = clf.predict(X_test)\n",
    "        fpr, tpr, _ = roc_curve(y_test, y_pred)\n",
    "    print(classification_report_imbalanced(y_test, clf.predict(X_test)))\n",
    "#     print(classification.accuracy_score(y_test, y_pred.round(), normalize=False))\n",
    "#     print(confusion_matrix(y_pred,y_test))\n",
    "#     print('F1 score: {:3f}'.format(f1_score(y_test, y_pred.round())))\n",
    "#     print('AUC score: {:3f}'.format(roc_auc_score(y_test, y_pred)))"
   ]
  },
  {
   "cell_type": "code",
   "execution_count": 85,
   "metadata": {},
   "outputs": [
    {
     "data": {
      "text/plain": [
       "Pipeline(memory=None,\n",
       "         steps=[('vect',\n",
       "                 CountVectorizer(analyzer='word', binary=False,\n",
       "                                 decode_error='strict',\n",
       "                                 dtype=<class 'numpy.int64'>, encoding='utf-8',\n",
       "                                 input='content', lowercase=True, max_df=1.0,\n",
       "                                 max_features=None, min_df=1,\n",
       "                                 ngram_range=(1, 1), preprocessor=None,\n",
       "                                 stop_words=None, strip_accents=None,\n",
       "                                 token_pattern='(?u)\\\\b\\\\w\\\\w+\\\\b',\n",
       "                                 tokenizer=None, vocabulary=None)),\n",
       "                ('tfidf',\n",
       "                 TfidfTransformer(norm='l2', smooth_idf=True,\n",
       "                                  sublinear_tf=False, use_idf=True)),\n",
       "                ('clf',\n",
       "                 MultinomialNB(alpha=1.0, class_prior=None, fit_prior=True))],\n",
       "         verbose=False)"
      ]
     },
     "execution_count": 85,
     "metadata": {},
     "output_type": "execute_result"
    }
   ],
   "source": [
    "text_clf = Pipeline([\n",
    "    ('vect', CountVectorizer()),\n",
    "    ('tfidf', TfidfTransformer()),\n",
    "    ('clf', MultinomialNB()),\n",
    "])\n",
    "train_texts, dev_texts, train_cats, dev_cats = train_test_split(df_recommand['extracted_text'],\n",
    "                                                                df_recommand['label'],\n",
    "                                                                test_size=.2)\n",
    "\n",
    "text_clf.fit(train_texts, train_cats)"
   ]
  },
  {
   "cell_type": "code",
   "execution_count": 86,
   "metadata": {
    "scrolled": true
   },
   "outputs": [
    {
     "name": "stderr",
     "output_type": "stream",
     "text": [
      "c:\\users\\abbooda\\appdata\\local\\continuum\\anaconda3\\envs\\rki\\lib\\site-packages\\sklearn\\metrics\\classification.py:1437: UndefinedMetricWarning: Precision and F-score are ill-defined and being set to 0.0 in labels with no predicted samples.\n",
      "  'precision', 'predicted', average, warn_for)\n"
     ]
    },
    {
     "name": "stdout",
     "output_type": "stream",
     "text": [
      "              precision    recall  f1-score   support\n",
      "\n",
      "       False       0.96      1.00      0.98       618\n",
      "        True       0.00      0.00      0.00        29\n",
      "\n",
      "    accuracy                           0.96       647\n",
      "   macro avg       0.48      0.50      0.49       647\n",
      "weighted avg       0.91      0.96      0.93       647\n",
      "\n",
      "[[618   0]\n",
      " [ 29   0]]\n",
      "                   pre       rec       spe        f1       geo       iba       sup\n",
      "\n",
      "      False       0.96      1.00      0.00      0.98      0.00      0.00       618\n",
      "       True       0.00      0.00      1.00      0.00      0.00      0.00        29\n",
      "\n",
      "avg / total       0.91      0.96      0.04      0.93      0.00      0.00       647\n",
      "\n"
     ]
    },
    {
     "data": {
      "image/png": "[encoded data removed]",
      "text/plain": [
       "<Figure size 432x288 with 1 Axes>"
      ]
     },
     "metadata": {
      "needs_background": "light"
     },
     "output_type": "display_data"
    }
   ],
   "source": [
    "plot_roc(text_clf, dev_texts, dev_cats, 'multinomial')\n",
    "print(classification_report(dev_cats, text_clf.predict(dev_texts)))\n",
    "print(confusion_matrix(dev_cats, text_clf.predict(dev_texts)))\n",
    "print(classification_report_imbalanced(dev_cats, text_clf.predict(dev_texts)))"
   ]
  },
  {
   "cell_type": "code",
   "execution_count": 87,
   "metadata": {},
   "outputs": [
    {
     "data": {
      "text/plain": [
       "Pipeline(memory=None,\n",
       "         steps=[('vect',\n",
       "                 CountVectorizer(analyzer='word', binary=False,\n",
       "                                 decode_error='strict',\n",
       "                                 dtype=<class 'numpy.int64'>, encoding='utf-8',\n",
       "                                 input='content', lowercase=True, max_df=1.0,\n",
       "                                 max_features=None, min_df=1,\n",
       "                                 ngram_range=(1, 1), preprocessor=None,\n",
       "                                 stop_words=None, strip_accents=None,\n",
       "                                 token_pattern='(?u)\\\\b\\\\w\\\\w+\\\\b',\n",
       "                                 tokenizer=None, vocabulary=None)),\n",
       "                ('tfidf',\n",
       "                 TfidfTransformer(norm='l2', smooth_idf=True,\n",
       "                                  sublinear_tf=False, use_idf=True)),\n",
       "                ('clf',\n",
       "                 ComplementNB(alpha=1.0, class_prior=None, fit_prior=True,\n",
       "                              norm=False))],\n",
       "         verbose=False)"
      ]
     },
     "execution_count": 87,
     "metadata": {},
     "output_type": "execute_result"
    }
   ],
   "source": [
    "text_clf_c = Pipeline([\n",
    "    ('vect', CountVectorizer()),\n",
    "    ('tfidf', TfidfTransformer()),\n",
    "    ('clf', ComplementNB()),\n",
    "])\n",
    "\n",
    "text_clf_c.fit(train_texts, train_cats)"
   ]
  },
  {
   "cell_type": "code",
   "execution_count": 91,
   "metadata": {},
   "outputs": [
    {
     "ename": "ValueError",
     "evalue": "Iterable over raw text documents expected, string object received.",
     "output_type": "error",
     "traceback": [
      "\u001b[0;31m---------------------------------------------------------------------------\u001b[0m",
      "\u001b[0;31mValueError\u001b[0m                                Traceback (most recent call last)",
      "\u001b[0;32m<ipython-input-91-a50dc697f56f>\u001b[0m in \u001b[0;36m<module>\u001b[0;34m\u001b[0m\n\u001b[0;32m----> 1\u001b[0;31m \u001b[0mtext_clf\u001b[0m\u001b[0;34m.\u001b[0m\u001b[0mpredict\u001b[0m\u001b[0;34m(\u001b[0m\u001b[0;34m\"asda\"\u001b[0m\u001b[0;34m)\u001b[0m\u001b[0;34m\u001b[0m\u001b[0;34m\u001b[0m\u001b[0m\n\u001b[0m",
      "\u001b[0;32m/anaconda3/envs/RKI/lib/python3.6/site-packages/sklearn/utils/metaestimators.py\u001b[0m in \u001b[0;36m<lambda>\u001b[0;34m(*args, **kwargs)\u001b[0m\n\u001b[1;32m    116\u001b[0m \u001b[0;34m\u001b[0m\u001b[0m\n\u001b[1;32m    117\u001b[0m         \u001b[0;31m# lambda, but not partial, allows help() to work with update_wrapper\u001b[0m\u001b[0;34m\u001b[0m\u001b[0;34m\u001b[0m\u001b[0;34m\u001b[0m\u001b[0m\n\u001b[0;32m--> 118\u001b[0;31m         \u001b[0mout\u001b[0m \u001b[0;34m=\u001b[0m \u001b[0;32mlambda\u001b[0m \u001b[0;34m*\u001b[0m\u001b[0margs\u001b[0m\u001b[0;34m,\u001b[0m \u001b[0;34m**\u001b[0m\u001b[0mkwargs\u001b[0m\u001b[0;34m:\u001b[0m \u001b[0mself\u001b[0m\u001b[0;34m.\u001b[0m\u001b[0mfn\u001b[0m\u001b[0;34m(\u001b[0m\u001b[0mobj\u001b[0m\u001b[0;34m,\u001b[0m \u001b[0;34m*\u001b[0m\u001b[0margs\u001b[0m\u001b[0;34m,\u001b[0m \u001b[0;34m**\u001b[0m\u001b[0mkwargs\u001b[0m\u001b[0;34m)\u001b[0m\u001b[0;34m\u001b[0m\u001b[0;34m\u001b[0m\u001b[0m\n\u001b[0m\u001b[1;32m    119\u001b[0m         \u001b[0;31m# update the docstring of the returned function\u001b[0m\u001b[0;34m\u001b[0m\u001b[0;34m\u001b[0m\u001b[0;34m\u001b[0m\u001b[0m\n\u001b[1;32m    120\u001b[0m         \u001b[0mupdate_wrapper\u001b[0m\u001b[0;34m(\u001b[0m\u001b[0mout\u001b[0m\u001b[0;34m,\u001b[0m \u001b[0mself\u001b[0m\u001b[0;34m.\u001b[0m\u001b[0mfn\u001b[0m\u001b[0;34m)\u001b[0m\u001b[0;34m\u001b[0m\u001b[0;34m\u001b[0m\u001b[0m\n",
      "\u001b[0;32m/anaconda3/envs/RKI/lib/python3.6/site-packages/sklearn/pipeline.py\u001b[0m in \u001b[0;36mpredict\u001b[0;34m(self, X, **predict_params)\u001b[0m\n\u001b[1;32m    329\u001b[0m         \u001b[0;32mfor\u001b[0m \u001b[0mname\u001b[0m\u001b[0;34m,\u001b[0m \u001b[0mtransform\u001b[0m \u001b[0;32min\u001b[0m \u001b[0mself\u001b[0m\u001b[0;34m.\u001b[0m\u001b[0msteps\u001b[0m\u001b[0;34m[\u001b[0m\u001b[0;34m:\u001b[0m\u001b[0;34m-\u001b[0m\u001b[0;36m1\u001b[0m\u001b[0;34m]\u001b[0m\u001b[0;34m:\u001b[0m\u001b[0;34m\u001b[0m\u001b[0;34m\u001b[0m\u001b[0m\n\u001b[1;32m    330\u001b[0m             \u001b[0;32mif\u001b[0m \u001b[0mtransform\u001b[0m \u001b[0;32mis\u001b[0m \u001b[0;32mnot\u001b[0m \u001b[0;32mNone\u001b[0m\u001b[0;34m:\u001b[0m\u001b[0;34m\u001b[0m\u001b[0;34m\u001b[0m\u001b[0m\n\u001b[0;32m--> 331\u001b[0;31m                 \u001b[0mXt\u001b[0m \u001b[0;34m=\u001b[0m \u001b[0mtransform\u001b[0m\u001b[0;34m.\u001b[0m\u001b[0mtransform\u001b[0m\u001b[0;34m(\u001b[0m\u001b[0mXt\u001b[0m\u001b[0;34m)\u001b[0m\u001b[0;34m\u001b[0m\u001b[0;34m\u001b[0m\u001b[0m\n\u001b[0m\u001b[1;32m    332\u001b[0m         \u001b[0;32mreturn\u001b[0m \u001b[0mself\u001b[0m\u001b[0;34m.\u001b[0m\u001b[0msteps\u001b[0m\u001b[0;34m[\u001b[0m\u001b[0;34m-\u001b[0m\u001b[0;36m1\u001b[0m\u001b[0;34m]\u001b[0m\u001b[0;34m[\u001b[0m\u001b[0;34m-\u001b[0m\u001b[0;36m1\u001b[0m\u001b[0;34m]\u001b[0m\u001b[0;34m.\u001b[0m\u001b[0mpredict\u001b[0m\u001b[0;34m(\u001b[0m\u001b[0mXt\u001b[0m\u001b[0;34m,\u001b[0m \u001b[0;34m**\u001b[0m\u001b[0mpredict_params\u001b[0m\u001b[0;34m)\u001b[0m\u001b[0;34m\u001b[0m\u001b[0;34m\u001b[0m\u001b[0m\n\u001b[1;32m    333\u001b[0m \u001b[0;34m\u001b[0m\u001b[0m\n",
      "\u001b[0;32m/anaconda3/envs/RKI/lib/python3.6/site-packages/sklearn/feature_extraction/text.py\u001b[0m in \u001b[0;36mtransform\u001b[0;34m(self, raw_documents)\u001b[0m\n\u001b[1;32m   1075\u001b[0m         \u001b[0;32mif\u001b[0m \u001b[0misinstance\u001b[0m\u001b[0;34m(\u001b[0m\u001b[0mraw_documents\u001b[0m\u001b[0;34m,\u001b[0m \u001b[0msix\u001b[0m\u001b[0;34m.\u001b[0m\u001b[0mstring_types\u001b[0m\u001b[0;34m)\u001b[0m\u001b[0;34m:\u001b[0m\u001b[0;34m\u001b[0m\u001b[0;34m\u001b[0m\u001b[0m\n\u001b[1;32m   1076\u001b[0m             raise ValueError(\n\u001b[0;32m-> 1077\u001b[0;31m                 \u001b[0;34m\"Iterable over raw text documents expected, \"\u001b[0m\u001b[0;34m\u001b[0m\u001b[0;34m\u001b[0m\u001b[0m\n\u001b[0m\u001b[1;32m   1078\u001b[0m                 \"string object received.\")\n\u001b[1;32m   1079\u001b[0m \u001b[0;34m\u001b[0m\u001b[0m\n",
      "\u001b[0;31mValueError\u001b[0m: Iterable over raw text documents expected, string object received."
     ]
    }
   ],
   "source": [
    "text_clf.predict(\"asda\")"
   ]
  },
  {
   "cell_type": "code",
   "execution_count": 88,
   "metadata": {},
   "outputs": [
    {
     "name": "stderr",
     "output_type": "stream",
     "text": [
      "c:\\users\\abbooda\\appdata\\local\\continuum\\anaconda3\\envs\\rki\\lib\\site-packages\\sklearn\\metrics\\classification.py:1437: UndefinedMetricWarning: Precision and F-score are ill-defined and being set to 0.0 in labels with no predicted samples.\n",
      "  'precision', 'predicted', average, warn_for)\n"
     ]
    },
    {
     "name": "stdout",
     "output_type": "stream",
     "text": [
      "              precision    recall  f1-score   support\n",
      "\n",
      "       False       0.96      1.00      0.98       618\n",
      "        True       0.00      0.00      0.00        29\n",
      "\n",
      "    accuracy                           0.96       647\n",
      "   macro avg       0.48      0.50      0.49       647\n",
      "weighted avg       0.91      0.96      0.93       647\n",
      "\n",
      "                   pre       rec       spe        f1       geo       iba       sup\n",
      "\n",
      "      False       0.96      1.00      0.00      0.98      0.00      0.00       618\n",
      "       True       0.00      0.00      1.00      0.00      0.00      0.00        29\n",
      "\n",
      "avg / total       0.91      0.96      0.04      0.93      0.00      0.00       647\n",
      "\n"
     ]
    },
    {
     "data": {
      "image/png": "[encoded data removed]",
      "text/plain": [
       "<Figure size 432x288 with 1 Axes>"
      ]
     },
     "metadata": {
      "needs_background": "light"
     },
     "output_type": "display_data"
    }
   ],
   "source": [
    "plot_roc(text_clf_c, dev_texts, dev_cats, 'complement')\n",
    "print(classification_report(dev_cats, text_clf_c.predict(dev_texts)))\n",
    "print(classification_report_imbalanced(dev_cats, text_clf.predict(dev_texts)))"
   ]
  },
  {
   "cell_type": "markdown",
   "metadata": {},
   "source": [
    "# SpaCy CNN classifier"
   ]
  },
  {
   "cell_type": "code",
   "execution_count": 89,
   "metadata": {},
   "outputs": [],
   "source": [
    "\"\"\"Train a convolutional neural network text classifier on the\n",
    "IMDB dataset, using the TextCategorizer component. The dataset will be loaded\n",
    "automatically via Thinc's built-in dataset loader. The model is added to\n",
    "spacy.pipeline, and predictions are available via `doc.cats`. For more details,\n",
    "see the documentation:\n",
    "* Training: https://spacy.io/usage/training\n",
    "\n",
    "Compatible with: spaCy v2.0.0+\n",
    "\"\"\"\n",
    "from __future__ import unicode_literals, print_function\n",
    "import random\n",
    "from pathlib import Path\n",
    "import thinc.extra.datasets\n",
    "\n",
    "import spacy\n",
    "from spacy.util import minibatch, compounding"
   ]
  },
  {
   "cell_type": "code",
   "execution_count": 90,
   "metadata": {},
   "outputs": [],
   "source": [
    "def main(model=None, output_dir=None, n_iter=20, n_texts=2000, init_tok2vec=None):\n",
    "\n",
    "    output_dir = Path('spacy_output')\n",
    "    if not output_dir.exists():\n",
    "        output_dir.mkdir()\n",
    "\n",
    "\n",
    "    nlp = spacy.blank(\"en\")  # create blank Language class\n",
    "    print(\"Created blank 'en' model\")\n",
    "\n",
    "    # add the text classifier to the pipeline if it doesn't exist\n",
    "    # nlp.create_pipe works for built-ins that are registered with spaCy\n",
    "    textcat = nlp.create_pipe(\n",
    "        \"textcat\",\n",
    "        config={\n",
    "            \"exclusive_classes\": False,\n",
    "            \"architecture\": \"simple_cnn\",\n",
    "        }\n",
    "    )\n",
    "    nlp.add_pipe(textcat, last=True)\n",
    "    # otherwise, get it, so we can add labels to it\n",
    "\n",
    "    # add label to text classifier\n",
    "    textcat.add_label(\"Relevant\")\n",
    "    textcat.add_label(\"Irrelevant\")\n",
    "\n",
    "    print(\"Loading data...\")\n",
    "    train_texts, dev_texts, train_cats, dev_cats = train_test_split(df_recommand['extracted_text'],\n",
    "                                                                    df_recommand['label'],\n",
    "                                                                    test_size=.2)\n",
    "    \n",
    "    train_cats = [{\"Relevant\": bool(y), \"Irrelevant\": not bool(y)} for y in train_cats]\n",
    "    dev_cats = [{\"Relevant\": bool(y), \"Irrelevant\": not bool(y)} for y in dev_cats]\n",
    "    print(\n",
    "        \"Using ({} training, {} evaluation)\".format(\n",
    "             len(train_texts), len(dev_texts)\n",
    "        )\n",
    "    )\n",
    "    train_data = list(zip(train_texts, [{\"cats\": cats} for cats in train_cats]))\n",
    "\n",
    "    # get names of other pipes to disable them during training\n",
    "    other_pipes = [pipe for pipe in nlp.pipe_names if pipe != \"textcat\"]\n",
    "    with nlp.disable_pipes(*other_pipes):  # only train textcat\n",
    "        optimizer = nlp.begin_training()\n",
    "        if init_tok2vec is not None:\n",
    "            with init_tok2vec.open(\"rb\") as file_:\n",
    "                textcat.model.tok2vec.from_bytes(file_.read())\n",
    "        print(\"Training the model...\")\n",
    "        print(\"{:^5}\\t{:^5}\\t{:^5}\\t{:^5}\".format(\"LOSS\", \"P\", \"R\", \"F\"))\n",
    "        batch_sizes = compounding(4.0, 32.0, 1.001)\n",
    "        for i in range(n_iter):\n",
    "            losses = {}\n",
    "            # batch up the examples using spaCy's minibatch\n",
    "            random.shuffle(train_data)\n",
    "            batches = minibatch(train_data, size=batch_sizes)\n",
    "            for batch in batches:\n",
    "                texts, annotations = zip(*batch)\n",
    "                nlp.update(texts, annotations, sgd=optimizer, drop=0.2, losses=losses)\n",
    "            with textcat.model.use_params(optimizer.averages):\n",
    "                scores = evaluate(nlp.tokenizer, textcat, dev_texts, dev_cats)\n",
    "            print(\n",
    "                \"{0:.3f}\\t{1:.3f}\\t{2:.3f}\\t{3:.3f}\".format(  # print a simple table\n",
    "                    losses[\"textcat\"],\n",
    "                    scores[\"textcat_p\"],\n",
    "                    scores[\"textcat_r\"],\n",
    "                    scores[\"textcat_f\"],\n",
    "                )\n",
    "            )\n",
    "\n",
    "    # test the trained model\n",
    "    test_text = \"This movie sucked\"\n",
    "    doc = nlp(test_text)\n",
    "    print(test_text, doc.cats)\n",
    "\n",
    "    if output_dir is not None:\n",
    "        with nlp.use_params(optimizer.averages):\n",
    "            nlp.to_disk(output_dir)\n",
    "        print(\"Saved model to\", output_dir)\n",
    "\n",
    "        # test the saved model\n",
    "        print(\"Loading from\", output_dir)\n",
    "        nlp2 = spacy.load(output_dir)\n",
    "        doc2 = nlp2(test_text)\n",
    "        print(test_text, doc2.cats)\n",
    "\n",
    "\n",
    "def load_data(limit=0, split=0.8):\n",
    "    \"\"\"Load data from the IMDB dataset.\"\"\"\n",
    "    # Partition off part of the train data for evaluation\n",
    "    train_data, _ = thinc.extra.datasets.imdb()\n",
    "    random.shuffle(train_data)\n",
    "    train_data = train_data[-limit:]\n",
    "    texts, labels = zip(*train_data)\n",
    "    cats = [{\"POSITIVE\": bool(y), \"NEGATIVE\": not bool(y)} for y in labels]\n",
    "    split = int(len(train_data) * split)\n",
    "    return (texts[:split], cats[:split]), (texts[split:], cats[split:])\n",
    "\n",
    "\n",
    "def evaluate(tokenizer, textcat, texts, cats):\n",
    "    docs = (tokenizer(text) for text in texts)\n",
    "    tp = 0.0  # True positives\n",
    "    fp = 1e-8  # False positives\n",
    "    fn = 1e-8  # False negatives\n",
    "    tn = 0.0  # True negatives\n",
    "    for i, doc in enumerate(textcat.pipe(docs)):\n",
    "        gold = cats[i]\n",
    "        for label, score in doc.cats.items():\n",
    "            if label not in gold:\n",
    "                continue\n",
    "            if label == \"NEGATIVE\":\n",
    "                continue\n",
    "            if score >= 0.5 and gold[label] >= 0.5:\n",
    "                tp += 1.0\n",
    "            elif score >= 0.5 and gold[label] < 0.5:\n",
    "                fp += 1.0\n",
    "            elif score < 0.5 and gold[label] < 0.5:\n",
    "                tn += 1\n",
    "            elif score < 0.5 and gold[label] >= 0.5:\n",
    "                fn += 1\n",
    "    precision = tp / (tp + fp)\n",
    "    recall = tp / (tp + fn)\n",
    "    if (precision + recall) == 0:\n",
    "        f_score = 0.0\n",
    "    else:\n",
    "        f_score = 2 * (precision * recall) / (precision + recall)\n",
    "    return {\"textcat_p\": precision, \"textcat_r\": recall, \"textcat_f\": f_score}\n"
   ]
  },
  {
   "cell_type": "code",
   "execution_count": 116,
   "metadata": {},
   "outputs": [
    {
     "name": "stdout",
     "output_type": "stream",
     "text": [
      "Created blank 'en' model\n",
      "Loading data...\n",
      "Using (2585 training, 647 evaluation)\n",
      "Training the model...\n",
      "LOSS \t  P  \t  R  \t  F  \n",
      "4.867\t0.951\t0.951\t0.951\n",
      "0.579\t0.951\t0.951\t0.951\n",
      "0.229\t0.951\t0.951\t0.951\n",
      "0.117\t0.951\t0.951\t0.951\n",
      "0.062\t0.951\t0.951\t0.951\n",
      "0.039\t0.951\t0.951\t0.951\n",
      "0.044\t0.951\t0.951\t0.951\n",
      "0.018\t0.951\t0.951\t0.951\n",
      "0.017\t0.951\t0.951\t0.951\n",
      "0.010\t0.951\t0.951\t0.951\n",
      "0.008\t0.951\t0.951\t0.951\n",
      "0.008\t0.951\t0.951\t0.951\n",
      "0.008\t0.951\t0.951\t0.951\n",
      "0.008\t0.951\t0.951\t0.951\n",
      "0.008\t0.951\t0.951\t0.951\n",
      "0.008\t0.951\t0.951\t0.951\n",
      "0.008\t0.951\t0.951\t0.951\n",
      "0.008\t0.951\t0.951\t0.951\n",
      "0.008\t0.951\t0.951\t0.951\n",
      "0.008\t0.951\t0.951\t0.951\n",
      "This movie sucked {'Relevant': 4.539787187241018e-05, 'Irrelevant': 0.9999545812606812}\n",
      "Saved model to spacy_output\n",
      "Loading from spacy_output\n",
      "This movie sucked {'Relevant': 4.539787187241018e-05, 'Irrelevant': 0.9999545812606812}\n"
     ]
    }
   ],
   "source": [
    "main()"
   ]
  },
  {
   "cell_type": "markdown",
   "metadata": {},
   "source": [
    "# Embedded Classifier"
   ]
  },
  {
   "cell_type": "code",
   "execution_count": 92,
   "metadata": {},
   "outputs": [],
   "source": [
    "class MeanEmbeddingTransformer(TransformerMixin):\n",
    "    \n",
    "    def __init__(self):\n",
    "        self._vocab, self._E = self._load_words()\n",
    "        \n",
    "    \n",
    "    def _load_words(self):\n",
    "        E = {}\n",
    "        vocab = []\n",
    "\n",
    "        with open('nlp_surveillance/glove.6B.50d.txt', 'r', encoding=\"utf8\") as file:\n",
    "            for i, line in enumerate(file):\n",
    "                l = line.split(' ')\n",
    "                if l[0].isalpha():\n",
    "                    v = [float(i) for i in l[1:]]\n",
    "                    E[l[0]] = np.array(v)\n",
    "                    vocab.append(l[0])\n",
    "        return np.array(vocab), E            \n",
    "\n",
    "    \n",
    "    def _get_word(self, v):\n",
    "        for i, emb in enumerate(self._E):\n",
    "            if np.array_equal(emb, v):\n",
    "                return self._vocab[i]\n",
    "        return None\n",
    "    \n",
    "    def _doc_mean(self, doc):\n",
    "        return np.mean(np.array([self._E[w.lower().strip()] for w in doc if w.lower().strip() in self._E]), axis=0)\n",
    "    \n",
    "    def fit(self, X, y=None):\n",
    "        return self\n",
    "    \n",
    "    def transform(self, X):\n",
    "        return np.array([self._doc_mean(doc) for doc in X])\n",
    "    \n",
    "    def fit_transform(self, X, y=None):\n",
    "        return self.fit(X).transform(X)"
   ]
  },
  {
   "cell_type": "code",
   "execution_count": 93,
   "metadata": {},
   "outputs": [],
   "source": [
    "import pandas as pd\n",
    "df = pd.read_csv('data/recommender/with_label.csv')"
   ]
  },
  {
   "cell_type": "code",
   "execution_count": 94,
   "metadata": {},
   "outputs": [
    {
     "data": {
      "text/plain": [
       "16167717"
      ]
     },
     "execution_count": 94,
     "metadata": {},
     "output_type": "execute_result"
    }
   ],
   "source": [
    "df.memory_usage(deep=True).sum()"
   ]
  },
  {
   "cell_type": "code",
   "execution_count": 95,
   "metadata": {},
   "outputs": [
    {
     "data": {
      "text/plain": [
       "False    3077\n",
       "True      155\n",
       "Name: label, dtype: int64"
      ]
     },
     "execution_count": 95,
     "metadata": {},
     "output_type": "execute_result"
    }
   ],
   "source": [
    "df['label'].value_counts()"
   ]
  },
  {
   "cell_type": "code",
   "execution_count": 96,
   "metadata": {},
   "outputs": [],
   "source": [
    "X = df['extracted_text'].values\n",
    "y = df['label'].values"
   ]
  },
  {
   "cell_type": "code",
   "execution_count": 97,
   "metadata": {},
   "outputs": [],
   "source": [
    "def tokenize_and_transform(X, sample_size):\n",
    "    essays1 = X\n",
    "    tok_es1 = [word_tokenize(doc) for doc in essays1[:sample_size]]\n",
    "    met = MeanEmbeddingTransformer()\n",
    "    X_transform = met.fit_transform(tok_es1)\n",
    "    return X_transform"
   ]
  },
  {
   "cell_type": "code",
   "execution_count": 101,
   "metadata": {},
   "outputs": [],
   "source": [
    "X_transform = tokenize_and_transform(X, 3200)"
   ]
  },
  {
   "cell_type": "code",
   "execution_count": 102,
   "metadata": {},
   "outputs": [],
   "source": [
    "np.savetxt('X_embed.csv', X_transform, delimiter=',')"
   ]
  },
  {
   "cell_type": "code",
   "execution_count": 103,
   "metadata": {},
   "outputs": [],
   "source": [
    "X_transform = np.loadtxt('X_embed.csv', delimiter=',')"
   ]
  },
  {
   "cell_type": "code",
   "execution_count": 104,
   "metadata": {},
   "outputs": [
    {
     "data": {
      "text/plain": [
       "(3200, 50)"
      ]
     },
     "execution_count": 104,
     "metadata": {},
     "output_type": "execute_result"
    }
   ],
   "source": [
    "np.shape(X_transform)"
   ]
  },
  {
   "cell_type": "code",
   "execution_count": 105,
   "metadata": {},
   "outputs": [
    {
     "data": {
      "text/plain": [
       "(3232,)"
      ]
     },
     "execution_count": 105,
     "metadata": {},
     "output_type": "execute_result"
    }
   ],
   "source": [
    "np.shape(y)"
   ]
  },
  {
   "cell_type": "code",
   "execution_count": 106,
   "metadata": {},
   "outputs": [],
   "source": [
    "# X_train, X_test, y_train, y_test = train_test_split(X_resample,\n",
    "#                                                     y_resample, stratify=y_resample, random_state=0)\n",
    "\n"
   ]
  },
  {
   "cell_type": "code",
   "execution_count": 107,
   "metadata": {},
   "outputs": [],
   "source": [
    "X_train, X_test, y_train, y_test = train_test_split(X_transform,\n",
    "                                                    y[:3200], random_state=0)\n",
    "ada = ADASYN(random_state=0)\n",
    "X_resample, y_resample = ada.fit_sample(X_train, y_train)\n"
   ]
  },
  {
   "cell_type": "code",
   "execution_count": 108,
   "metadata": {},
   "outputs": [],
   "source": [
    "# rus = RandomOverSampler(random_state=0)\n",
    "# X_resample, y_resample = rus.fit_sample(X_transform, y[:X_transform.shape[0]])"
   ]
  },
  {
   "cell_type": "code",
   "execution_count": 109,
   "metadata": {},
   "outputs": [
    {
     "name": "stderr",
     "output_type": "stream",
     "text": [
      "c:\\users\\abbooda\\appdata\\local\\continuum\\anaconda3\\envs\\rki\\lib\\site-packages\\sklearn\\linear_model\\logistic.py:432: FutureWarning: Default solver will be changed to 'lbfgs' in 0.22. Specify a solver to silence this warning.\n",
      "  FutureWarning)\n"
     ]
    },
    {
     "name": "stdout",
     "output_type": "stream",
     "text": [
      "                   pre       rec       spe        f1       geo       iba       sup\n",
      "\n",
      "      False       0.97      0.67      0.63      0.79      0.65      0.42       762\n",
      "       True       0.09      0.63      0.67      0.15      0.65      0.42        38\n",
      "\n",
      "avg / total       0.93      0.66      0.63      0.76      0.65      0.42       800\n",
      "\n"
     ]
    },
    {
     "data": {
      "image/png": "[encoded data removed]",
      "text/plain": [
       "<Figure size 432x288 with 1 Axes>"
      ]
     },
     "metadata": {
      "needs_background": "light"
     },
     "output_type": "display_data"
    }
   ],
   "source": [
    "lr = LogisticRegression()\n",
    "print_scores(lr, X_resample, y_resample, X_test, y_test)\n",
    "plot_roc(lr, X_test, y_test, 'logistic_regression')"
   ]
  },
  {
   "cell_type": "code",
   "execution_count": 110,
   "metadata": {},
   "outputs": [
    {
     "name": "stdout",
     "output_type": "stream",
     "text": [
      "                   pre       rec       spe        f1       geo       iba       sup\n",
      "\n",
      "      False       0.97      0.77      0.53      0.86      0.63      0.41       762\n",
      "       True       0.10      0.53      0.77      0.17      0.63      0.39        38\n",
      "\n",
      "avg / total       0.93      0.75      0.54      0.82      0.63      0.41       800\n",
      "\n"
     ]
    },
    {
     "data": {
      "image/png": "[encoded data removed]",
      "text/plain": [
       "<Figure size 432x288 with 1 Axes>"
      ]
     },
     "metadata": {
      "needs_background": "light"
     },
     "output_type": "display_data"
    }
   ],
   "source": [
    "knn = KNeighborsClassifier()\n",
    "print_scores(knn, X_resample, y_resample, X_test, y_test)\n",
    "plot_roc(knn, X_test, y_test, 'k_neighbors_clf')"
   ]
  },
  {
   "cell_type": "code",
   "execution_count": 111,
   "metadata": {},
   "outputs": [],
   "source": [
    "# rf = RandomForestClassifier().fit(X_resample, y_resample)\n",
    "# print_scores(rf, X_resample, y_resample, X_test, y_test)\n",
    "# plot_roc(rf, X_test, y_test)"
   ]
  },
  {
   "cell_type": "code",
   "execution_count": 112,
   "metadata": {},
   "outputs": [
    {
     "name": "stdout",
     "output_type": "stream",
     "text": [
      "                   pre       rec       spe        f1       geo       iba       sup\n",
      "\n",
      "      False       0.98      0.62      0.74      0.76      0.68      0.45       762\n",
      "       True       0.09      0.74      0.62      0.16      0.68      0.46        38\n",
      "\n",
      "avg / total       0.94      0.63      0.73      0.73      0.68      0.45       800\n",
      "\n"
     ]
    },
    {
     "data": {
      "image/png": "[encoded data removed]",
      "text/plain": [
       "<Figure size 432x288 with 1 Axes>"
      ]
     },
     "metadata": {
      "needs_background": "light"
     },
     "output_type": "display_data"
    }
   ],
   "source": [
    "svc = SVC(probability=True, gamma='scale').fit(X_resample, y_resample)\n",
    "print_scores(svc, X_resample, y_resample, X_test, y_test)\n",
    "plot_roc(svc, X_test, y_test, \"SVC\")"
   ]
  },
  {
   "cell_type": "code",
   "execution_count": 113,
   "metadata": {},
   "outputs": [],
   "source": [
    "# svc_l = SVC(probability=True, kernel='linear').fit(X_resample, y_resample)\n",
    "# print_scores(svc, X_resample, y_resample, X_test, y_test)\n",
    "# plot_roc(svc_l, X_test, y_test, \"SVC_l\")"
   ]
  },
  {
   "cell_type": "code",
   "execution_count": 114,
   "metadata": {},
   "outputs": [],
   "source": [
    "# dtc = DecisionTreeClassifier().fit(X_resample, y_resample)\n",
    "# y_pred = dtc.predict(X_test)\n",
    "# print_scores(dtc, X_resample, y_resample, X_test, y_test)\n",
    "# plot_roc(dtc, X_test, y_test)"
   ]
  },
  {
   "cell_type": "code",
   "execution_count": 115,
   "metadata": {
    "scrolled": true
   },
   "outputs": [
    {
     "name": "stdout",
     "output_type": "stream",
     "text": [
      "                   pre       rec       spe        f1       geo       iba       sup\n",
      "\n",
      "      False       0.97      0.86      0.45      0.91      0.62      0.40       762\n",
      "       True       0.14      0.45      0.86      0.21      0.62      0.37        38\n",
      "\n",
      "avg / total       0.93      0.84      0.47      0.88      0.62      0.40       800\n",
      "\n"
     ]
    },
    {
     "data": {
      "image/png": "[encoded data removed]",
      "text/plain": [
       "<Figure size 432x288 with 1 Axes>"
      ]
     },
     "metadata": {
      "needs_background": "light"
     },
     "output_type": "display_data"
    }
   ],
   "source": [
    "mlp = MLPClassifier(max_iter=2000, early_stopping=True).fit(X_resample, y_resample)\n",
    "print_scores(mlp, X_resample, y_resample, X_test, y_test)\n",
    "plot_roc(mlp, X_test, y_test, \"MLP\")"
   ]
  },
  {
   "cell_type": "code",
   "execution_count": 151,
   "metadata": {},
   "outputs": [
    {
     "data": {
      "image/png": "[encoded data removed]",
      "text/plain": [
       "<Figure size 432x288 with 1 Axes>"
      ]
     },
     "metadata": {
      "needs_background": "light"
     },
     "output_type": "display_data"
    }
   ],
   "source": [
    "# from sklearn.neural_network import MLPRegressor\n",
    "# mlp_r = MLPRegressor(max_iter=2000, early_stopping=True).fit(X_resample, y_resample)\n",
    "# print_scores(mlp_r, X_resample, y_resample, X_test, y_test)\n",
    "# plot_roc(mlp_r, X_test, y_test)"
   ]
  },
  {
   "cell_type": "code",
   "execution_count": 120,
   "metadata": {},
   "outputs": [
    {
     "data": {
      "image/png": "[encoded data removed]",
      "text/plain": [
       "<Figure size 432x288 with 1 Axes>"
      ]
     },
     "metadata": {
      "needs_background": "light"
     },
     "output_type": "display_data"
    }
   ],
   "source": [
    "# clfs = [text_clf, text_clf_c, lr, knn, svc, svc_l, mlp]\n",
    "# nlp2 = spacy.load(Path(\"spacy_output\"))\n",
    "# markers = ['-', ':', '--', '-', \":\", \"--\", \"-\"]\n",
    "# names = [\"NBC\", \"CBC\", \"LR\", \"kNN\", \"SVC\", \"Lin. SVC\", \"MLP\"]\n",
    "clfs = [text_clf, text_clf_c, lr, knn, svc, mlp]\n",
    "nlp2 = spacy.load(Path(\"spacy_output\"))\n",
    "markers = ['-', ':', '--', '-', \":\", \"--\", \"-\"]\n",
    "names = [\"NBC\", \"CBC\", \"LR\", \"kNN\", \"SVC\", \"MLP\"]\n",
    "for i, clf in enumerate(clfs):\n",
    "    try:\n",
    "        if i in [0,1]:\n",
    "            y_pred = clf.predict_proba(dev_texts)\n",
    "            fpr, tpr, _ = roc_curve(dev_cats, y_pred[:,1])\n",
    "            auc_score = auc(fpr, tpr)\n",
    "        else:  \n",
    "            y_pred = clf.predict_proba(X_test)\n",
    "            fpr, tpr, _ = roc_curve(y_test, y_pred[:,1])\n",
    "            auc_score = auc(fpr, tpr)\n",
    "    except AttributeError:\n",
    "        y_pred = clf.predict(X_test)\n",
    "        fpr, tpr, _ = roc_curve(y_test, y_pred)\n",
    "        auc_score = auc(fpr, tpr)\n",
    "    plt.xlabel('False Positive Rate')\n",
    "    plt.ylabel('True Positive Rate')\n",
    "    #plt.savefig(f'{name}.pdf', format='pdf')\n",
    "    plt.plot(fpr, tpr, linestyle=markers[i], label=f\"{names[i]} (AUC: {auc_score:.2f})\")\n",
    "\n",
    "import operator\n",
    "X_train_s, X_test_s, y_train, y_test = train_test_split(X[:3200],\n",
    "                                                    y[:3200], random_state=0)\n",
    "y_pred = [nlp2(test_text).cats[\"Relevant\"] for test_text in X_test_s]\n",
    "fpr, tpr, _ = roc_curve(y_test, y_pred)\n",
    "auc_score = auc(fpr, tpr)\n",
    "plt.xlabel('False Positive Rate')\n",
    "plt.ylabel('True Positive Rate')\n",
    "#plt.savefig(f'{name}.pdf', format='pdf')\n",
    "plt.plot(fpr, tpr, linestyle='-', label=f\"CNN (AUC: {auc_score:.2f})\")\n",
    "plt.legend(loc=4)\n",
    "# plt.savefig('roc_curves.pdf', format='pdf')\n",
    "plt.show()"
   ]
  },
  {
   "cell_type": "code",
   "execution_count": 115,
   "metadata": {},
   "outputs": [
    {
     "name": "stdout",
     "output_type": "stream",
     "text": [
      "                   pre       rec       spe        f1       geo       iba       sup\n",
      "\n",
      "      False       0.95      1.00      0.00      0.98      0.00      0.00       762\n",
      "       True       0.00      0.00      1.00      0.00      0.00      0.00        38\n",
      "\n",
      "avg / total       0.91      0.95      0.05      0.93      0.00      0.00       800\n",
      "\n"
     ]
    }
   ],
   "source": [
    "import operator\n",
    "X_train_s, X_test_s, y_train, y_test = train_test_split(X[:3200],\n",
    "                                                    y[:3200], random_state=0)\n",
    "y_pred = [max(example.items(), key=operator.itemgetter(1))[0] == \"Relevant\" for test_text in X_test_s]\n",
    "fpr, tpr, _ = roc_curve(y_test, y_pred)\n",
    "auc_score = auc(fpr, tpr)\n",
    "print(classification_report_imbalanced(y_test, y_pred))\n",
    "#plt.savefig(f'{name}.pdf', format='pdf')\n"
   ]
  },
  {
   "cell_type": "code",
   "execution_count": 104,
   "metadata": {},
   "outputs": [],
   "source": [
    "example = nlp2('ADas').cats"
   ]
  },
  {
   "cell_type": "code",
   "execution_count": 108,
   "metadata": {},
   "outputs": [
    {
     "data": {
      "text/plain": [
       "'Irrelevant'"
      ]
     },
     "execution_count": 108,
     "metadata": {},
     "output_type": "execute_result"
    }
   ],
   "source": []
  },
  {
   "cell_type": "markdown",
   "metadata": {},
   "source": [
    "## Other classifier"
   ]
  },
  {
   "cell_type": "code",
   "execution_count": null,
   "metadata": {},
   "outputs": [],
   "source": [
    "gs = GridSearchCV(LogisticRegression(), \n",
    "             param_grid={'C': [0.0001, 0.001, 0.01, 0.1, 1]}, scoring=\"roc_auc\", cv=4)\n",
    "gs = gs.fit(X_resample, y_resample)\n",
    "print(gs.best_params_)\n",
    "print('best score: {:3f}'.format(gs.best_score_))\n",
    "plot_roc(gs, X_resample, y_resample)"
   ]
  },
  {
   "cell_type": "code",
   "execution_count": null,
   "metadata": {},
   "outputs": [],
   "source": [
    "param_grid = {'C': [0.001, 0.01, 0.1, 1, 10]}\n",
    "gs = GridSearchCV(LinearSVC(), \n",
    "             param_grid=param_grid, scoring=\"roc_auc\", cv=4)\n",
    "gs = gs.fit(X_resample, y_resample)\n",
    "print(gs.best_params_)\n",
    "print('best score: {:3f}'.format(gs.best_score_))\n",
    "plot_roc(gs, X_resample, y_resample)"
   ]
  },
  {
   "cell_type": "code",
   "execution_count": null,
   "metadata": {},
   "outputs": [],
   "source": [
    "param_grid = {'activation': ['relu', 'logistic', 'tanh'],\n",
    "              'alpha': [0.0001, 0.001, 0.01],\n",
    "              'learning_rate': ['constant', 'invscaling', 'adaptive'], 'tol': [0.01]}\n",
    "gs = GridSearchCV(MLPClassifier(), \n",
    "             param_grid=param_grid, scoring=\"roc_auc\", cv=4)\n",
    "gs = gs.fit(X_transform, y[:3200])\n",
    "print(gs.best_params_)\n",
    "print('best score: {:3f}'.format(gs.best_score_))\n",
    "plot_roc(gs, X_resample, y_resample)"
   ]
  },
  {
   "cell_type": "code",
   "execution_count": null,
   "metadata": {},
   "outputs": [],
   "source": [
    "from sklearn.cluster import KMeans"
   ]
  },
  {
   "cell_type": "code",
   "execution_count": null,
   "metadata": {},
   "outputs": [],
   "source": [
    "X_transform_cluster = KMeans(n_clusters=5).fit_transform(X_transform, y[:3200])"
   ]
  },
  {
   "cell_type": "code",
   "execution_count": null,
   "metadata": {},
   "outputs": [],
   "source": [
    "rus = RandomUnderSampler(random_state=0)\n",
    "X_resample_cluster, y_resample_cluster = rus.fit_sample(X_transform_cluster, y[:X_transform_cluster.shape[0]])"
   ]
  },
  {
   "cell_type": "code",
   "execution_count": null,
   "metadata": {},
   "outputs": [],
   "source": [
    "X_train_cluster, X_test_cluster, y_train_cluster, y_test_cluster = train_test_split(X_resample_cluster,\n",
    "                                                    y_resample_cluster, stratify=y_resample_cluster, random_state=0)"
   ]
  },
  {
   "cell_type": "code",
   "execution_count": null,
   "metadata": {},
   "outputs": [],
   "source": [
    "lr = LogisticRegression()\n",
    "print_scores(lr, X_train_cluster, y_train_cluster, X_test_cluster, y_test_cluster)\n",
    "plot_roc(lr, X_test_cluster, y_test_cluster)"
   ]
  },
  {
   "cell_type": "code",
   "execution_count": null,
   "metadata": {},
   "outputs": [],
   "source": [
    "from sklearn.decomposition import PCA"
   ]
  },
  {
   "cell_type": "code",
   "execution_count": null,
   "metadata": {},
   "outputs": [],
   "source": [
    "X_transform_pca = PCA().fit_transform(X_transform, y[:3200])"
   ]
  },
  {
   "cell_type": "code",
   "execution_count": null,
   "metadata": {},
   "outputs": [],
   "source": [
    "rus = RandomUnderSampler(random_state=0)\n",
    "X_resample_pca, y_resample_pca = rus.fit_sample(X_transform_pca, y[:X_transform_pca.shape[0]])"
   ]
  },
  {
   "cell_type": "code",
   "execution_count": null,
   "metadata": {},
   "outputs": [],
   "source": [
    "X_train_cluster, X_test_cluster, y_train_cluster, y_test_cluster = train_test_split(X_resample_cluster,\n",
    "                                                    y_resample_cluster, stratify=y_resample_cluster, random_state=0)"
   ]
  },
  {
   "cell_type": "code",
   "execution_count": null,
   "metadata": {
    "scrolled": true
   },
   "outputs": [],
   "source": [
    "lr = LogisticRegression()\n",
    "print_scores(lr, X_train_cluster, y_train_cluster, X_test_cluster, y_test_cluster)\n",
    "plot_roc(lr, X_test_cluster, y_test_cluster)"
   ]
  },
  {
   "cell_type": "code",
   "execution_count": 1,
   "metadata": {},
   "outputs": [],
   "source": [
    "from web_app.app import summarize"
   ]
  },
  {
   "cell_type": "code",
   "execution_count": null,
   "metadata": {},
   "outputs": [],
   "source": [
    "summarize('https://www.who.int/csr/don/04-march-2019-mers-oman/en/')"
   ]
  }
 ],
 "metadata": {
  "kernelspec": {
   "display_name": "Python 3",
   "language": "python",
   "name": "python3"
  },
  "language_info": {
   "codemirror_mode": {
    "name": "ipython",
    "version": 3
   },
   "file_extension": ".py",
   "mimetype": "text/x-python",
   "name": "python",
   "nbconvert_exporter": "python",
   "pygments_lexer": "ipython3",
   "version": "3.6.7"
  }
 },
 "nbformat": 4,
 "nbformat_minor": 2
}
