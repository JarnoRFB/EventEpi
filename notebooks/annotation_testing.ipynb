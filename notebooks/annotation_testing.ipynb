{
 "cells": [
  {
   "cell_type": "code",
   "execution_count": 1,
   "metadata": {},
   "outputs": [
    {
     "name": "stdout",
     "output_type": "stream",
     "text": [
      "Count:\n",
      "[AnnoSpan(363-365, 13), AnnoSpan(465-487, infecting at least 850), AnnoSpan(498-500, 14), AnnoSpan(612-616, five), AnnoSpan(749-757, only one), AnnoSpan(815-818, one), AnnoSpan(1553-1569, About 21 million), AnnoSpan(1612-1629, about 161,000 die), AnnoSpan(1990-2014, Only four isolated cases), AnnoSpan(2465-2476, Four deaths), AnnoSpan(2561-2573, At least one), AnnoSpan(2589-2593, case), AnnoSpan(3223-3226, one), AnnoSpan(3431-3434, One), AnnoSpan(3782-3786, 1948), AnnoSpan(3845-3854, infection), AnnoSpan(3857-3886, fatality rate from almost one), AnnoSpan(3890-3894, four), AnnoSpan(3903-3906, one), AnnoSpan(3910-3913, 100), AnnoSpan(4126-4149, an estimated 50 million), AnnoSpan(4285-4287, 30), AnnoSpan(4821-4964, 250,000 children in Hyderabad using a new typhoid conjugate vaccine, Typbar-TCV, recently prequalified by the W.H.O. The vaccine lasts at least), AnnoSpan(5594-5635, Two polio vaccination workers were killed), AnnoSpan(5789-5791, 85)] \n",
      "\n",
      "25 found entities \n",
      "\n",
      "[AnnoSpan(363-365, 13), AnnoSpan(465-487, infecting at least 850), AnnoSpan(498-500, 14), AnnoSpan(612-616, five), AnnoSpan(24-32, only one), AnnoSpan(90-93, one), AnnoSpan(0-16, About 21 million), AnnoSpan(59-76, about 161,000 die), AnnoSpan(193-217, Only four isolated cases), AnnoSpan(117-128, Four deaths), AnnoSpan(0-12, At least one), AnnoSpan(28-32, case), AnnoSpan(95-98, one), AnnoSpan(1-4, One), AnnoSpan(283-287, 1948), AnnoSpan(346-355, infection), AnnoSpan(358-387, fatality rate from almost one), AnnoSpan(391-395, four), AnnoSpan(404-407, one), AnnoSpan(411-414, 100), AnnoSpan(627-650, an estimated 50 million), AnnoSpan(82-84, 30), AnnoSpan(167-208, 250,000 children in Hyderabad using a new), AnnoSpan(0-41, Two polio vaccination workers were killed), AnnoSpan(195-197, 85)] \n",
      "\n",
      "25 found entities\n",
      "\n",
      "################################################################\n",
      "\n",
      "Date:\n",
      "[AnnoSpan(275-283, February):2019-02-01 to 2019-03-01, AnnoSpan(511-521, since 2016):2016-01-01 to 2019-06-15, AnnoSpan(1864-1877, November 2016):2016-11-01 to 2016-12-01, AnnoSpan(2917-2927, last month):2019-05-01 to 2019-06-01, AnnoSpan(3782-3786, 1948):1948-01-01 to 1949-01-01, AnnoSpan(5465-5475, since 2011):2011-01-01 to 2019-06-15] \n",
      "\n",
      "6 found entities\n",
      "\n",
      "[AnnoSpan(275-283, February):2019-02-01 to 2019-03-01, AnnoSpan(511-521, since 2016):2016-01-01 to 2019-07-15, AnnoSpan(67-80, November 2016):2016-11-01 to 2016-12-01, AnnoSpan(356-366, last month):2019-05-01 to 2019-06-01, AnnoSpan(283-287, 1948):1948-01-01 to 1949-01-01, AnnoSpan(34-44, since 2011):2011-01-01 to 2019-07-15] \n",
      "\n",
      "6 found entities\n"
     ]
    }
   ],
   "source": [
    "import sys\n",
    "from nltk import sent_tokenize\n",
    "from epitator.annotator import AnnoDoc\n",
    "from epitator.count_annotator import CountAnnotator\n",
    "from epitator.date_annotator import DateAnnotator\n",
    "sys.path.append(\"..\")\n",
    "from nlp_surveillance.my_utils import flatten_list\n",
    "\n",
    "example_text = 'Health |‘We’re Out of Options’: Doctors Battle Drug-Resistant Typhoid OutbreakSupported by‘We’re Out of Options’: Doctors Battle Drug-Resistant Typhoid OutbreakImageA baby believed to have contracted a drug-resistant strain of typhoid, hospitalized in Hyderabad, Pakistan in February.CreditCreditNadeem Khawer/European Pressphoto AgencyBy Emily BaumgaertnerApril 13, 2018The first known epidemic of extensively drug-resistant typhoid is spreading through Pakistan, infecting at least 850 people in 14 districts since 2016, according to the National Institute of Health Islamabad.The typhoid strain, resistant to five types of antibiotics, is expected to disseminate globally, replacing weaker strains where they are endemic. Experts have identified only one remaining oral antibiotic — azithromycin — to combat it; one more genetic mutation could make typhoid untreatable in some areas.Researchers consider the epidemic an international clarion call for comprehensive prevention efforts. If vaccination campaigns and modern sanitation systems don’t outpace the pathogen, they anticipate a return to the pre-antibiotic era when mortality rates soared.“This isn’t just about typhoid,” said Dr. Rumina Hasan, a pathology professor at the Aga Khan University in Pakistan. “Antibiotic resistance is a threat to all of modern medicine — and the scary part is, we’re out of options.”Typhoid fever, caused by the Salmonella Typhi bacteria, is a highly infectious disease transmitted by contaminated food or water. It causes high fevers, headaches and vomiting. About 21 million people suffer from typhoid each year, and about 161,000 die, according to the World Health Organization.Typhoid is endemic to Pakistan, where poor infrastructure, low vaccination rates and overpopulated city dwellings persist. Doctors in the Sindh province were not surprised by an outbreak in November 2016 — until cases proved unresponsive to ceftriaxone, used to treat multidrug-resistant, or MDR, strains of typhoid.Only four isolated cases of extensively drug-resistant, or XDR, typhoid had previously been reported worldwide, according to Dr. Elizabeth Klemm, an infectious disease geneticist at the Wellcome Sanger Institute in England.The outbreak’s origins were clear: Early case mapping revealed large clusters of victims around sewage lines in the city of Hyderabad. Dr. Hasan’s colleagues visited the region and found water sources that could be contaminated by leaking sewage pipes.Four deaths have been reported so far, according to the National Institute of Health Islamabad. At least one travel-related case has been detected in the United Kingdom.Genetic sequencing revealed that a common, aggressive MDR typhoid strain called H58 interacted with another bacteria, likely E. coli, and acquired from it an additional DNA molecule, called a plasmid, that coded for resistance to ceftriaxone.ImageLining up for clean water in Lahore last month. Facing a typhoid strain that resists so many types of antibiotics, public health officials are reemphasizing preventative measures, such as vaccination, boiling drinking water and hygiene.CreditK.M. Chaudary/Associated PressThe findings were disturbingly simple: XDR strains can materialize in one single step, virtually anywhere where the H58 strain and the added plasmid are both present — whether a sewer system or even a single human gut.“There are multiple worst-case scenarios,” said Dr. Klemm. “One is that this strain spreads to other regions through migration. But the other is that it pops up elsewhere on its own — plasmids with drug resistance are everywhere.”But the accumulation of resistance genes in the Sindh strain was hardly an ambush, according to a commentary by vaccine experts at the University of Maryland School of Medicine.The 1948 discovery of antibiotic treatment for typhoid plunged the infection’s fatality rate from almost one in four to just one in 100, triggering “an epic thrust-and-parry duel” between powerful drugs and “a wily bacterial foe’s stepwise acquisition of resistance to them,” wrote Dr. Myron M. Levine and Dr. Raphael Simon.Doctors still prescribe an estimated 50 million doses of antibiotics for typhoid globally each year. In Karachi, the capital of Sindh province, antibiotic resistance is increasing by 30 percent each year, according to the W.H.O.; at that rate, all typhoid cases in the city will be resistant to multiple drugs by 2020.Physicians are treating the Sindh strain with azithromycin and other more expensive treatments that must be administered in hospital settings.“Once we aren’t able to treat this effectively, we’re going back to the pre-antibiotic era. That would mean a lot of fatalities in our future,” Dr. Klemm said.To preserve the last line of defense, public health officials have launched a campaign to vaccinate 250,000 children in Hyderabad using a new typhoid conjugate vaccine, Typbar-TCV, recently prequalified by the W.H.O. The vaccine lasts at least five years and can be given to children as young as six months old, according to the W.H.O.Experts are also reinforcing hygiene habits for prevention: washing hands frequently, boiling drinking water and eating well-cooked foods. In the longer term, modern sanitation infrastructure is needed.The vaccination campaign has faced local opposition, according to local news reports, amid rumors that the vaccines have been poisoned in a Western effort to harm children. Similar suspicions have persisted since 2011, when a posed hepatitis B campaign helped gather intelligence before the Abbottabad raid that killed Osama bin Laden. Two polio vaccination workers were killed in Pakistan this January.GAVI, The Vaccine Alliance, a public–private global health partnership working to increase access to immunization, has pledged $85 million to ensure that typhoid vaccines reach developing countries.“It’s a global concern at this point,” said Dr. Eric Mintz, an epidemiologist at the Centers for Disease Control and Prevention. “Everything suggests this strain will survive well and spread easily — and acquiring resistance to azithromycin is only a matter of time.”A version of this article appears in print on , on Page D3 of the New York edition with the headline: Doctors Fight Drug-Resistant Typhoid Outbreak. Order Reprints | Today’s Paper | SubscribeRelated Coverage'\n",
    "text_wise = AnnoDoc(example_text).add_tiers(CountAnnotator()).tiers['counts'].spans\n",
    "sent_wise = [AnnoDoc(sent).add_tiers(CountAnnotator()).tiers['counts'].spans for sent in sent_tokenize(example_text)]\n",
    "print('Count:')\n",
    "print(text_wise,'\\n')\n",
    "print(len(text_wise), 'found entities \\n')\n",
    "print(flatten_list(sent_wise),'\\n')\n",
    "print(len(flatten_list(sent_wise)), 'found entities\\n')\n",
    "print('################################################################\\n')\n",
    "print('Date:')\n",
    "example_text = 'Health |‘We’re Out of Options’: Doctors Battle Drug-Resistant Typhoid OutbreakSupported by‘We’re Out of Options’: Doctors Battle Drug-Resistant Typhoid OutbreakImageA baby believed to have contracted a drug-resistant strain of typhoid, hospitalized in Hyderabad, Pakistan in February.CreditCreditNadeem Khawer/European Pressphoto AgencyBy Emily BaumgaertnerApril 13, 2018The first known epidemic of extensively drug-resistant typhoid is spreading through Pakistan, infecting at least 850 people in 14 districts since 2016, according to the National Institute of Health Islamabad.The typhoid strain, resistant to five types of antibiotics, is expected to disseminate globally, replacing weaker strains where they are endemic. Experts have identified only one remaining oral antibiotic — azithromycin — to combat it; one more genetic mutation could make typhoid untreatable in some areas.Researchers consider the epidemic an international clarion call for comprehensive prevention efforts. If vaccination campaigns and modern sanitation systems don’t outpace the pathogen, they anticipate a return to the pre-antibiotic era when mortality rates soared.“This isn’t just about typhoid,” said Dr. Rumina Hasan, a pathology professor at the Aga Khan University in Pakistan. “Antibiotic resistance is a threat to all of modern medicine — and the scary part is, we’re out of options.”Typhoid fever, caused by the Salmonella Typhi bacteria, is a highly infectious disease transmitted by contaminated food or water. It causes high fevers, headaches and vomiting. About 21 million people suffer from typhoid each year, and about 161,000 die, according to the World Health Organization.Typhoid is endemic to Pakistan, where poor infrastructure, low vaccination rates and overpopulated city dwellings persist. Doctors in the Sindh province were not surprised by an outbreak in November 2016 — until cases proved unresponsive to ceftriaxone, used to treat multidrug-resistant, or MDR, strains of typhoid.Only four isolated cases of extensively drug-resistant, or XDR, typhoid had previously been reported worldwide, according to Dr. Elizabeth Klemm, an infectious disease geneticist at the Wellcome Sanger Institute in England.The outbreak’s origins were clear: Early case mapping revealed large clusters of victims around sewage lines in the city of Hyderabad. Dr. Hasan’s colleagues visited the region and found water sources that could be contaminated by leaking sewage pipes.Four deaths have been reported so far, according to the National Institute of Health Islamabad. At least one travel-related case has been detected in the United Kingdom.Genetic sequencing revealed that a common, aggressive MDR typhoid strain called H58 interacted with another bacteria, likely E. coli, and acquired from it an additional DNA molecule, called a plasmid, that coded for resistance to ceftriaxone.ImageLining up for clean water in Lahore last month. Facing a typhoid strain that resists so many types of antibiotics, public health officials are reemphasizing preventative measures, such as vaccination, boiling drinking water and hygiene.CreditK.M. Chaudary/Associated PressThe findings were disturbingly simple: XDR strains can materialize in one single step, virtually anywhere where the H58 strain and the added plasmid are both present — whether a sewer system or even a single human gut.“There are multiple worst-case scenarios,” said Dr. Klemm. “One is that this strain spreads to other regions through migration. But the other is that it pops up elsewhere on its own — plasmids with drug resistance are everywhere.”But the accumulation of resistance genes in the Sindh strain was hardly an ambush, according to a commentary by vaccine experts at the University of Maryland School of Medicine.The 1948 discovery of antibiotic treatment for typhoid plunged the infection’s fatality rate from almost one in four to just one in 100, triggering “an epic thrust-and-parry duel” between powerful drugs and “a wily bacterial foe’s stepwise acquisition of resistance to them,” wrote Dr. Myron M. Levine and Dr. Raphael Simon.Doctors still prescribe an estimated 50 million doses of antibiotics for typhoid globally each year. In Karachi, the capital of Sindh province, antibiotic resistance is increasing by 30 percent each year, according to the W.H.O.; at that rate, all typhoid cases in the city will be resistant to multiple drugs by 2020.Physicians are treating the Sindh strain with azithromycin and other more expensive treatments that must be administered in hospital settings.“Once we aren’t able to treat this effectively, we’re going back to the pre-antibiotic era. That would mean a lot of fatalities in our future,” Dr. Klemm said.To preserve the last line of defense, public health officials have launched a campaign to vaccinate 250,000 children in Hyderabad using a new typhoid conjugate vaccine, Typbar-TCV, recently prequalified by the W.H.O. The vaccine lasts at least five years and can be given to children as young as six months old, according to the W.H.O.Experts are also reinforcing hygiene habits for prevention: washing hands frequently, boiling drinking water and eating well-cooked foods. In the longer term, modern sanitation infrastructure is needed.The vaccination campaign has faced local opposition, according to local news reports, amid rumors that the vaccines have been poisoned in a Western effort to harm children. Similar suspicions have persisted since 2011, when a posed hepatitis B campaign helped gather intelligence before the Abbottabad raid that killed Osama bin Laden. Two polio vaccination workers were killed in Pakistan this January.GAVI, The Vaccine Alliance, a public–private global health partnership working to increase access to immunization, has pledged $85 million to ensure that typhoid vaccines reach developing countries.“It’s a global concern at this point,” said Dr. Eric Mintz, an epidemiologist at the Centers for Disease Control and Prevention. “Everything suggests this strain will survive well and spread easily — and acquiring resistance to azithromycin is only a matter of time.”A version of this article appears in print on , on Page D3 of the New York edition with the headline: Doctors Fight Drug-Resistant Typhoid Outbreak. Order Reprints | Today’s Paper | SubscribeRelated Coverage'\n",
    "text_wise = AnnoDoc(example_text).add_tiers(DateAnnotator()).tiers['dates'].spans\n",
    "sent_wise = [AnnoDoc(sent).add_tiers(DateAnnotator()).tiers['dates'].spans for sent in sent_tokenize(example_text)]\n",
    "print(text_wise,'\\n')\n",
    "print(len(text_wise), 'found entities\\n')\n",
    "print(flatten_list(sent_wise),'\\n')\n",
    "print(len(flatten_list(sent_wise)), 'found entities')"
   ]
  },
  {
   "cell_type": "code",
   "execution_count": 2,
   "metadata": {},
   "outputs": [],
   "source": [
    "import pandas as pd\n",
    "from nltk.tokenize import PunktSentenceTokenizer\n",
    "from itertools import product\n",
    "from collections import namedtuple\n",
    "from epitator.annotator import AnnoDoc\n",
    "from epitator.count_annotator import CountAnnotator\n",
    "from epitator.date_annotator import DateAnnotator\n",
    "from nlp_surveillance.classifier.create_labels import create_labels\n",
    "\n",
    "\n",
    "def from_entity(text, to_optimize, event_db_entry):\n",
    "    annotated = _annotate(text, to_optimize)\n",
    "    entities, sentences = _extract_entities_with_sentence(annotated, to_optimize)\n",
    "    labels = create_labels(entities, to_optimize, event_db_entry)\n",
    "    label_sentence_tuple = namedtuple('label_sentence_tuple', ['label', 'sentence'])\n",
    "    label_sentence_tuples = [label_sentence_tuple(*tuple_) for tuple_ in zip(labels, sentences)]\n",
    "    return label_sentence_tuples\n",
    "\n",
    "\n",
    "def _annotate(sentence, to_optimize):\n",
    "    tier = {'counts': CountAnnotator(), 'dates': DateAnnotator()}\n",
    "    annotated = AnnoDoc(sentence)\n",
    "    annotated.add_tiers(tier[to_optimize])\n",
    "    return annotated\n",
    "\n",
    "\n",
    "def _extract_entities_with_sentence(annotated, to_optimize):\n",
    "    sentence_spans = PunktSentenceTokenizer().span_tokenize(annotated.text)\n",
    "    span_entity_dict = _create_span_entity_dict(annotated, to_optimize)\n",
    "    matched_entity_sentence_spans = _match_entity_and_sentence_spans(span_entity_dict.keys(), sentence_spans)\n",
    "    entities = [span_entity_dict[tuple_.entity_span] for tuple_ in matched_entity_sentence_spans]\n",
    "    sentences = [annotated.text[slice(*tuple_.sentence_span)]\n",
    "                 for tuple_ in matched_entity_sentence_spans]\n",
    "    return entities, sentences\n",
    "\n",
    "\n",
    "def _match_entity_and_sentence_spans(entity_spans, sentence_spans):\n",
    "    cartesian_product = product(entity_spans, sentence_spans)\n",
    "    entity_sentence_tuple = namedtuple('entity_sentence', ['entity_span', 'sentence_span'])\n",
    "    list_of_found_entity_sentence_spans = list(filter(_overlap, cartesian_product))\n",
    "    list_of_found_entity_sentence_spans_named = [entity_sentence_tuple(*tuple_) for tuple_ in\n",
    "                                                 list_of_found_entity_sentence_spans]\n",
    "    return list_of_found_entity_sentence_spans_named\n",
    "\n",
    "\n",
    "def _create_span_entity_dict(annotated, to_optimize):\n",
    "    spans = annotated.tiers[to_optimize].spans\n",
    "    to_metadata_attr = {'counts': 'count', 'dates': 'datetime_range'}\n",
    "    attribute = to_metadata_attr[to_optimize]\n",
    "    span_entity_dict = {(span.start, span.end): span.metadata[attribute] for span in spans}\n",
    "    return span_entity_dict\n",
    "\n",
    "\n",
    "def _overlap(tuple_of_tuples):\n",
    "    entity_span, sent_span = tuple_of_tuples\n",
    "    if sent_span[0] <= entity_span[0] and entity_span[1] <= sent_span[1]:\n",
    "        return True\n"
   ]
  },
  {
   "cell_type": "code",
   "execution_count": 3,
   "metadata": {},
   "outputs": [],
   "source": [
    "import pandas as pd\n",
    "from nltk import sent_tokenize\n",
    "import numpy as np\n",
    "from collections import namedtuple\n",
    "from epitator.annotator import AnnoDoc\n",
    "from epitator.count_annotator import CountAnnotator\n",
    "from epitator.date_annotator import DateAnnotator\n",
    "from nlp_surveillance.classifier.create_labels import create_labels\n",
    "\n",
    "\n",
    "def from_entity_2(text, to_optimize, event_db_entry):\n",
    "    sentences = sent_tokenize(text)\n",
    "    sentence_label_list = []\n",
    "    for sentence in sentences:\n",
    "        annotated = _annotate(sentence, to_optimize)\n",
    "        entities = _extract_entities_from_sentence(annotated, to_optimize)\n",
    "        labels = create_labels(entities, to_optimize, event_db_entry)\n",
    "        labeled_as_list = _wrap_into_sent_label_tuple(sentence, labels)\n",
    "        sentence_label_list.extend(labeled_as_list)\n",
    "    return sentence_label_list\n",
    "\n",
    "\n",
    "def _annotate(sentence, to_optimize):\n",
    "    tier = {'counts': CountAnnotator(), 'dates': DateAnnotator()}\n",
    "    annotated = AnnoDoc(sentence)\n",
    "    annotated.add_tiers(tier[to_optimize])\n",
    "    return annotated\n",
    "\n",
    "\n",
    "def _extract_entities_from_sentence(annotated, to_optimize):\n",
    "    spans = annotated.tiers[to_optimize].spans\n",
    "    if to_optimize == 'dates':\n",
    "        entities = [span.metadata['datetime_range'] for span in spans]\n",
    "    elif to_optimize == 'counts':\n",
    "        entities = [span.metadata['count'] for span in spans]\n",
    "    else:\n",
    "        raise ValueError\n",
    "    return entities\n",
    "\n",
    "\n",
    "def _wrap_into_sent_label_tuple(sentence, labels):\n",
    "    Labeled = namedtuple('labeled_sentence', ['sentence_repeated', 'label'])\n",
    "    sentence_repeated = np.repeat(sentence, len(labels))\n",
    "    labeled_as_list = [Labeled(sent, label) for sent, label in zip(sentence_repeated, labels)]\n",
    "    return labeled_as_list"
   ]
  },
  {
   "cell_type": "code",
   "execution_count": 4,
   "metadata": {},
   "outputs": [
    {
     "name": "stdout",
     "output_type": "stream",
     "text": [
      "55.8 ms ± 413 µs per loop (mean ± std. dev. of 7 runs, 10 loops each)\n"
     ]
    }
   ],
   "source": [
    "%%timeit\n",
    "text = 'I am in Berlin today. Something is odd in Berlin since Monday but also since Friday. Still, I seem to like Berlin more than Frankfurt now. I am sad that I am not in Switzerland in August.'\n",
    "from_entity(text, 'dates', pd.Timestamp(2018,2,20))"
   ]
  },
  {
   "cell_type": "code",
   "execution_count": 5,
   "metadata": {},
   "outputs": [
    {
     "name": "stdout",
     "output_type": "stream",
     "text": [
      "84.6 ms ± 5.73 ms per loop (mean ± std. dev. of 7 runs, 10 loops each)\n"
     ]
    }
   ],
   "source": [
    "%%timeit\n",
    "text = 'I am in Berlin today. Something is odd in Berlin since Monday but also since Friday. Still, I seem to like Berlin more than Frankfurt now. I am sad that I am not in Switzerland in August.'\n",
    "from_entity_2(text, 'dates', pd.Timestamp(2018,2,20))"
   ]
  },
  {
   "cell_type": "code",
   "execution_count": null,
   "metadata": {},
   "outputs": [],
   "source": []
  }
 ],
 "metadata": {
  "kernelspec": {
   "display_name": "Python 3",
   "language": "python",
   "name": "python3"
  },
  "language_info": {
   "codemirror_mode": {
    "name": "ipython",
    "version": 3
   },
   "file_extension": ".py",
   "mimetype": "text/x-python",
   "name": "python",
   "nbconvert_exporter": "python",
   "pygments_lexer": "ipython3",
   "version": "3.6.7"
  }
 },
 "nbformat": 4,
 "nbformat_minor": 2
}
