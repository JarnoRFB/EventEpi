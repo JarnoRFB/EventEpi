{
 "cells": [
  {
   "cell_type": "code",
   "execution_count": 1,
   "metadata": {},
   "outputs": [],
   "source": [
    "%load_ext autoreload\n",
    "%autoreload 2"
   ]
  },
  {
   "cell_type": "code",
   "execution_count": 2,
   "metadata": {},
   "outputs": [],
   "source": [
    "import pandas as pd\n",
    "import pickle\n",
    "import os\n",
    "from nlp_surveillance.utils.my_utils import remove_nans, check_url_validity, remove_guillemets, split_and_flatten_list, flatten_list\n",
    "from nlp_surveillance.utils.text_from_url import extract_cleaned_text_from_url\n",
    "from nlp_surveillance.annotator import *\n",
    "from nlp_surveillance.edb_clean import get_cleaned_edb, read_minimal_cleaned_edb\n",
    "from nlp_surveillance.wiki_country_parser import get_wiki_countries_df\n",
    "from nlp_surveillance.who_scraper import get_annotated_2018_whos"
   ]
  },
  {
   "cell_type": "markdown",
   "metadata": {},
   "source": [
    "# Testing"
   ]
  },
  {
   "cell_type": "markdown",
   "metadata": {},
   "source": [
    "# WHO DF"
   ]
  },
  {
   "cell_type": "code",
   "execution_count": null,
   "metadata": {},
   "outputs": [],
   "source": [
    "parsed_whos_df = get_annotated_2018_whos()"
   ]
  },
  {
   "cell_type": "markdown",
   "metadata": {},
   "source": [
    "### EDB "
   ]
  },
  {
   "cell_type": "code",
   "execution_count": null,
   "metadata": {
    "scrolled": false
   },
   "outputs": [],
   "source": [
    "edb = get_cleaned_edb()\n",
    "pickle.dump(edb, open('edb.p', 'wb'))"
   ]
  },
  {
   "cell_type": "code",
   "execution_count": null,
   "metadata": {},
   "outputs": [],
   "source": [
    "edb = pickle.load(open('edb.p', 'rb'))"
   ]
  },
  {
   "cell_type": "markdown",
   "metadata": {},
   "source": [
    "## Optimize date"
   ]
  },
  {
   "cell_type": "code",
   "execution_count": null,
   "metadata": {},
   "outputs": [],
   "source": [
    "sentences = pd.Series(np.zeros(len(date_optimization_edb)))\n",
    "annos = pd.Series(np.zeros(len(date_optimization_edb)))\n",
    "for i, text in enumerate(tqdm(date_optimization_edb['text'])):\n",
    "    try:\n",
    "        annotated = annotate(text, tiers='DateAnnotator()')\n",
    "        date_spans = annotated.tiers['dates'].spans\n",
    "        date_sentences = list(map(lambda x: get_sentence_from_annotated_span(x, text), date_spans))\n",
    "    except Exception as e:\n",
    "        print(i, e)\n",
    "        date_sentences = np.nan\n",
    "    sentences.iloc[i] = date_sentences\n",
    "    annos.iloc[i] = annotated"
   ]
  },
  {
   "cell_type": "code",
   "execution_count": null,
   "metadata": {},
   "outputs": [],
   "source": [
    "pickle.dump(sentences, open('sentences.p','wb'))"
   ]
  },
  {
   "cell_type": "code",
   "execution_count": null,
   "metadata": {},
   "outputs": [],
   "source": [
    "sentences = pickle.load(open('sentences.p', 'rb'))"
   ]
  },
  {
   "cell_type": "code",
   "execution_count": null,
   "metadata": {},
   "outputs": [],
   "source": [
    "date_optimization_edb['sentences'] = sentences\n",
    "#date_optimization_edb['annotatations'] = list(map(lambda x: dates(x, raw=True), annos))\n",
    "\n",
    "#date_optimization_edb = date_optimization_edb[date_optimization_edb['annotatations'] != Entity('dates', [])]\n",
    "\n",
    "#date_optimization_edb['annotatations'] = date_optimization_edb['annotatations'].apply(lambda x: x[1])\n",
    "\n",
    "edb_dates = date_optimization_edb['Datenstand für Fallzahlen gesamt*'].apply(lambda x: str(x))\n",
    "date_optimization_edb['Datenstand für Fallzahlen gesamt*'] = edb_dates"
   ]
  }
 ],
 "metadata": {
  "kernelspec": {
   "display_name": "Python 3",
   "language": "python",
   "name": "python3"
  },
  "language_info": {
   "codemirror_mode": {
    "name": "ipython",
    "version": 3
   },
   "file_extension": ".py",
   "mimetype": "text/x-python",
   "name": "python",
   "nbconvert_exporter": "python",
   "pygments_lexer": "ipython3",
   "version": "3.6.7"
  }
 },
 "nbformat": 4,
 "nbformat_minor": 2
}
