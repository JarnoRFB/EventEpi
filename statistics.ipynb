{
 "cells": [
  {
   "cell_type": "code",
   "execution_count": 1,
   "metadata": {},
   "outputs": [],
   "source": [
    "%load_ext autoreload\n",
    "%autoreload 2"
   ]
  },
  {
   "cell_type": "code",
   "execution_count": 62,
   "metadata": {},
   "outputs": [],
   "source": [
    "import re\n",
    "import numpy as np\n",
    "import pandas as pd\n",
    "\n",
    "from nlp_surveillance.event_db_preprocessing import event_db\n"
   ]
  },
  {
   "cell_type": "code",
   "execution_count": 176,
   "metadata": {},
   "outputs": [],
   "source": [
    "edb = event_db._read_unprocessed()\n",
    "cleaned_edb = event_db.read_cleaned()"
   ]
  },
  {
   "cell_type": "markdown",
   "metadata": {},
   "source": [
    "# Amount of URLs"
   ]
  },
  {
   "cell_type": "code",
   "execution_count": 65,
   "metadata": {},
   "outputs": [
    {
     "name": "stdout",
     "output_type": "stream",
     "text": [
      "There are 376 URLs\n"
     ]
    }
   ],
   "source": [
    "print('There are', len(cleaned_edb[pd.notna(cleaned_edb['URL_1'])]), 'URLs')"
   ]
  },
  {
   "cell_type": "markdown",
   "metadata": {},
   "source": [
    "# Cleaning Statistics\n",
    "## Date"
   ]
  },
  {
   "cell_type": "code",
   "execution_count": 66,
   "metadata": {},
   "outputs": [],
   "source": [
    "ts = edb['Datenstand für Fallzahlen gesamt*'].replace(['nan', '-', np.nan], [None] * 3).tolist()\n",
    "valid_ts = list(filter(lambda x: isinstance(x, str), ts))"
   ]
  },
  {
   "cell_type": "code",
   "execution_count": 67,
   "metadata": {
    "scrolled": true
   },
   "outputs": [
    {
     "name": "stdout",
     "output_type": "stream",
     "text": [
      "There are 468 entries in the cleaned event db\n",
      "187 of them are non-empty dates.\n"
     ]
    }
   ],
   "source": [
    "print('There are', len(cleaned_edb), 'entries in the cleaned event db')\n",
    "print(len(valid_ts), 'of them are non-empty dates.')"
   ]
  },
  {
   "cell_type": "code",
   "execution_count": 68,
   "metadata": {},
   "outputs": [
    {
     "name": "stdout",
     "output_type": "stream",
     "text": [
      "168 of all entries are valid dates.\n"
     ]
    }
   ],
   "source": [
    "is_date = lambda x: re.match(r\"(\\d{1,2})\\D(\\d{1,2})\\D(\\d{4})\", x)\n",
    "valid_dates = list(filter(lambda x: is_date(x), valid_ts))\n",
    "print(len(valid_dates), 'of all entries are valid dates.')"
   ]
  },
  {
   "cell_type": "code",
   "execution_count": 69,
   "metadata": {
    "scrolled": true
   },
   "outputs": [
    {
     "name": "stdout",
     "output_type": "stream",
     "text": [
      "The following are non-valid dates:\n",
      "['?', 'Ende Mai', '43329', '43332', '43332', '43335', '43336', '43335', '43335', '43340', '43340', 'Mitte Sept.', '13.10.218', 'September 2018', '2017', '2018', 'Jan-4.Nov 2018', 'July 2017 -22.10.2018', 'Juni-Nov 2018']\n"
     ]
    }
   ],
   "source": [
    "print('The following are non-valid dates:')\n",
    "print(list(filter(lambda x: not is_date(x), valid_ts)))"
   ]
  },
  {
   "cell_type": "markdown",
   "metadata": {},
   "source": [
    "## Count"
   ]
  },
  {
   "cell_type": "code",
   "execution_count": 70,
   "metadata": {},
   "outputs": [
    {
     "name": "stdout",
     "output_type": "stream",
     "text": [
      "There are 468 entries in the cleaned event db\n",
      "330 of them are non-empty case numbers\n"
     ]
    }
   ],
   "source": [
    "print('There are', len(cleaned_edb), 'entries in the cleaned event db')\n",
    "print(sum(cleaned_edb['count_edb'].notna()), 'of them are non-empty case numbers')"
   ]
  },
  {
   "cell_type": "code",
   "execution_count": 71,
   "metadata": {},
   "outputs": [],
   "source": [
    "valid_counts = edb['Fälle gesamt*'][edb['Fälle gesamt*'].notna()]"
   ]
  },
  {
   "cell_type": "code",
   "execution_count": 72,
   "metadata": {},
   "outputs": [],
   "source": [
    "def is_int(string):\n",
    "    try:\n",
    "        num = int(string)\n",
    "    except ValueError:\n",
    "        return False\n",
    "    return True"
   ]
  },
  {
   "cell_type": "code",
   "execution_count": 73,
   "metadata": {},
   "outputs": [
    {
     "name": "stdout",
     "output_type": "stream",
     "text": [
      "These are the invalid count entries:\n",
      "['1,078,997', '40 abzgl. 19 non-cases', 'mind 18', '368 Fälle', '6,382', '0 bei Menschen.\\nMehr als 50 Todesfälle bei Kühem. Schafen und Pferden', '4 cVDPV2\\n2 WPV1 in Afghanistan', '>1000', '>3.300', '13 430', '15,944', '1,207,596', '650,000', '3,057', '446.150', 'erhöhte Fallzahlen seit 2013', '25 (im Jahr 2018)', '10.604']\n"
     ]
    }
   ],
   "source": [
    "print('These are the invalid count entries:')\n",
    "print(list(filter(lambda x: not is_int(x), valid_counts)))"
   ]
  },
  {
   "cell_type": "markdown",
   "metadata": {},
   "source": [
    "## Country"
   ]
  },
  {
   "cell_type": "code",
   "execution_count": null,
   "metadata": {},
   "outputs": [],
   "source": [
    "before = set(edb['Ausgangs- bzw. Ausbruchsland'])\n",
    "after = set(cleaned_edb.country_edb)\n",
    "print(before - after)\n",
    "print('\\n is cleaned to: \\n')\n",
    "print(after - before)"
   ]
  },
  {
   "cell_type": "code",
   "execution_count": null,
   "metadata": {},
   "outputs": [],
   "source": [
    "# Stripped strings don't appear in the last set but were processed correctly\n",
    "('Peru' in after) & ('Saudi-Arabien' in after) & ('Oman' in after) & ('Äthiopien' in after)"
   ]
  },
  {
   "cell_type": "markdown",
   "metadata": {},
   "source": [
    "## Disease"
   ]
  },
  {
   "cell_type": "code",
   "execution_count": 154,
   "metadata": {},
   "outputs": [
    {
     "data": {
      "text/plain": [
       "{' ',\n",
       " '?',\n",
       " 'AFP, AFM',\n",
       " 'Camel Prion Disease ',\n",
       " 'Diarrhoe, Überkeit, Erbrechen',\n",
       " 'FSME ',\n",
       " 'Gesichtslähmung, Nervensystem betroffen.',\n",
       " 'Gonorrhö, multiresistent',\n",
       " 'Husten, Fieber',\n",
       " 'Lassafieber ',\n",
       " 'Leptospirose ',\n",
       " 'Nierenversagen; v.a. HUS, Leptospirose',\n",
       " 'Tick-borne relapsing fever ',\n",
       " 'Tularämie ',\n",
       " 'keine',\n",
       " nan}"
      ]
     },
     "execution_count": 154,
     "metadata": {},
     "output_type": "execute_result"
    }
   ],
   "source": [
    "before_disease =  set(edb['Krankheitsbild(er)'])\n",
    "after_disease = set(cleaned_edb['disease_edb'])\n",
    "before_disease - after_disease "
   ]
  },
  {
   "cell_type": "markdown",
   "metadata": {},
   "source": [
    "## URLs"
   ]
  },
  {
   "cell_type": "code",
   "execution_count": 183,
   "metadata": {},
   "outputs": [],
   "source": [
    "before_URLs =  set(edb['Link zur Quelle 1'])\n",
    "after_URLs = set(cleaned_edb['URL_1'])"
   ]
  },
  {
   "cell_type": "code",
   "execution_count": 184,
   "metadata": {},
   "outputs": [
    {
     "data": {
      "text/plain": [
       "{'<http://apps.who.int/iris/bitstream/10665/260468/1/OEW10-39032018.pdf>',\n",
       " '<http://apps.who.int/iris/bitstream/10665/260468/1/OEW10-39032018.pdf>, <http://www.ncdc.gov.ng/diseases/sitreps>',\n",
       " '<http://apps.who.int/iris/bitstream/10665/260468/1/OEW10-39032018.pdf>, <http://www.nicd.ac.za/wp-content/uploads/2018/03/Listeria-Sitrep-08Mar2018.pdf>',\n",
       " 'ECDC RRA 10 Aug 2018 Early occurrence of a large number of WNV infection.._',\n",
       " 'Siehe Email',\n",
       " 'http://apps.who.int/iris/bitstream/handle/10665/272360/OEW15-071342018.pdf ',\n",
       " 'http://apps.who.int/iris/bitstream/handle/10665/272431/OEW17-2127042018.pdf ',\n",
       " 'http://apps.who.int/iris/bitstream/handle/10665/274791/OEW38-1521092018.pdf ',\n",
       " 'http://crofsblogs.typepad.com/h5n1/2018/03/brazil-moh-updates-yellow-fever-cases.html, http://portalarquivos2.saude.gov.br/images/pdf/2018/marco/07/Informe-FA-16-7mar18.pdf   ECDC RRA vom 14.03.2018',\n",
       " 'http://portalarquivos2.saude.gov.br/images/pdf/2018/abril/26/Informe-FA-23-25abr18.pdf ',\n",
       " 'http://promedmail.org/post/20180908.6016517 ',\n",
       " 'http://promedmail.org/post/20180908.6017005 ',\n",
       " 'http://promedmail.org/post/20180909.6018117 ',\n",
       " 'http://promedmail.org/post/5946019 ',\n",
       " 'http://promedmail.org/post/5963650 ',\n",
       " 'http://www.cidrap.umn.edu/news-perspective/2018/08/news-scan-aug-14-2018 ',\n",
       " 'http://www.promedmail.org/ ',\n",
       " 'http://www.promedmail.org/direct.php?id=20180929.6059979 ',\n",
       " 'http://www.sante.gov.mg/home/n ',\n",
       " 'http://www.searo.who.int/bangladesh/weeklysitrep18cxb_ban.pdf?ua=1 ',\n",
       " 'http://www.who.int/csr/don/15-march-2018-mers-oman/en/  ',\n",
       " 'http://www.who.int/csr/don/18-june-2018-rift-valley-fever-kenya/en/ ',\n",
       " 'http://www.wpro.who.int/papuanewguinea/mediacentre/releases/20180813-polio-case-in-eastern-highlands/en/ ',\n",
       " 'https://www.ocean-indien.ars.sante.fr/situation-de-la-dengue-a-la-reunion ',\n",
       " nan,\n",
       " 'per Email',\n",
       " 'siehe EIS Plattform',\n",
       " 'www.promedmail.org'}"
      ]
     },
     "execution_count": 184,
     "metadata": {},
     "output_type": "execute_result"
    }
   ],
   "source": [
    "# Guillements, splitting by comma, additional whitespace, and non-valid URLS\n",
    "# are the problem\n",
    "before_URLs - after_URLs"
   ]
  },
  {
   "cell_type": "code",
   "execution_count": null,
   "metadata": {},
   "outputs": [],
   "source": []
  }
 ],
 "metadata": {
  "kernelspec": {
   "display_name": "Python 3",
   "language": "python",
   "name": "python3"
  },
  "language_info": {
   "codemirror_mode": {
    "name": "ipython",
    "version": 3
   },
   "file_extension": ".py",
   "mimetype": "text/x-python",
   "name": "python",
   "nbconvert_exporter": "python",
   "pygments_lexer": "ipython3",
   "version": "3.7.1"
  }
 },
 "nbformat": 4,
 "nbformat_minor": 2
}
