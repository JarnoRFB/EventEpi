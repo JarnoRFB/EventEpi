{
 "cells": [
  {
   "cell_type": "code",
   "execution_count": 1,
   "metadata": {},
   "outputs": [],
   "source": [
    "%load_ext autoreload\n",
    "%autoreload 2"
   ]
  },
  {
   "cell_type": "code",
   "execution_count": 1,
   "metadata": {},
   "outputs": [],
   "source": [
    "import re\n",
    "import numpy as np\n",
    "import pandas as pd\n",
    "from nltk.tokenize import word_tokenize\n",
    "\n",
    "from nlp_surveillance.event_db_preprocessing import event_db\n"
   ]
  },
  {
   "cell_type": "code",
   "execution_count": 2,
   "metadata": {},
   "outputs": [],
   "source": [
    "edb = event_db._read_unprocessed()\n",
    "cleaned_edb = event_db.read_cleaned()"
   ]
  },
  {
   "cell_type": "code",
   "execution_count": 1,
   "metadata": {},
   "outputs": [],
   "source": [
    "# Token count"
   ]
  },
  {
   "cell_type": "code",
   "execution_count": 3,
   "metadata": {},
   "outputs": [],
   "source": [
    "import pandas as pd\n",
    "df = pd.read_csv('data/recommender/with_label.csv')"
   ]
  },
  {
   "cell_type": "code",
   "execution_count": 4,
   "metadata": {},
   "outputs": [],
   "source": [
    "all_the_texts = ' '.join(df[\"extracted_text\"])"
   ]
  },
  {
   "cell_type": "code",
   "execution_count": 6,
   "metadata": {},
   "outputs": [],
   "source": [
    "all_the_texts_tokenized = word_tokenize(all_the_texts)"
   ]
  },
  {
   "cell_type": "code",
   "execution_count": 7,
   "metadata": {},
   "outputs": [
    {
     "name": "stdout",
     "output_type": "stream",
     "text": [
      "Token ins the corpus:  2781077\n"
     ]
    }
   ],
   "source": [
    "print(\"Token ins the corpus: \", len(all_the_texts_tokenized))"
   ]
  },
  {
   "cell_type": "markdown",
   "metadata": {},
   "source": [
    "# URL clustering"
   ]
  },
  {
   "cell_type": "code",
   "execution_count": 40,
   "metadata": {},
   "outputs": [],
   "source": [
    "from urllib.parse import urlparse\n",
    "from collections import defaultdict\n",
    "from operator import itemgetter\n",
    "import matplotlib.pyplot as plt\n",
    "urls = cleaned_edb.URL\n",
    "netlocs = [urlparse(url).netloc for url in urls]\n",
    "d = defaultdict(int)\n",
    "for n in netlocs:\n",
    "    d[n] = d[n] + 1\n",
    "netloc_occurence_tuples = list(d.items())"
   ]
  },
  {
   "cell_type": "code",
   "execution_count": 41,
   "metadata": {},
   "outputs": [],
   "source": [
    "sorted_netloc_occurence_tuples = sorted(netloc_occurence_tuples, key=itemgetter(1))"
   ]
  },
  {
   "cell_type": "code",
   "execution_count": 42,
   "metadata": {},
   "outputs": [
    {
     "data": {
      "text/plain": [
       "77"
      ]
     },
     "execution_count": 42,
     "metadata": {},
     "output_type": "execute_result"
    }
   ],
   "source": [
    "len(sorted_netloc_occurence_tuples)"
   ]
  },
  {
   "cell_type": "code",
   "execution_count": 43,
   "metadata": {},
   "outputs": [],
   "source": [
    "most_used_netlocs = sorted_netloc_occurence_tuples[-9:]"
   ]
  },
  {
   "cell_type": "code",
   "execution_count": 44,
   "metadata": {},
   "outputs": [
    {
     "data": {
      "text/plain": [
       "[('ecdc.europa.eu', 6),\n",
       " ('polioeradication.org', 6),\n",
       " ('www.euro.who.int', 6),\n",
       " ('www.who.int', 22),\n",
       " ('www.cidrap.umn.edu', 30),\n",
       " ('outbreaknewstoday.com', 50),\n",
       " ('apps.who.int', 74),\n",
       " (b'', 87),\n",
       " ('www.promedmail.org', 163)]"
      ]
     },
     "execution_count": 44,
     "metadata": {},
     "output_type": "execute_result"
    }
   ],
   "source": [
    "most_used_netlocs"
   ]
  },
  {
   "cell_type": "code",
   "execution_count": 45,
   "metadata": {},
   "outputs": [],
   "source": [
    "most_used_netlocs.remove((b'', 87))"
   ]
  },
  {
   "cell_type": "code",
   "execution_count": 46,
   "metadata": {},
   "outputs": [],
   "source": [
    "# Calculate the rest\n",
    "other_netlocs = sum(i for _, i in sorted_netloc_occurence_tuples) - 87 - sum(i for _, i in most_used_netlocs) "
   ]
  },
  {
   "cell_type": "code",
   "execution_count": 47,
   "metadata": {},
   "outputs": [],
   "source": [
    "most_used_netlocs = sorted(most_used_netlocs, key=itemgetter(1))"
   ]
  },
  {
   "cell_type": "code",
   "execution_count": 48,
   "metadata": {},
   "outputs": [
    {
     "data": {
      "text/plain": [
       "[('ecdc.europa.eu', 6),\n",
       " ('polioeradication.org', 6),\n",
       " ('www.euro.who.int', 6),\n",
       " ('www.who.int', 22),\n",
       " ('www.cidrap.umn.edu', 30),\n",
       " ('outbreaknewstoday.com', 50),\n",
       " ('apps.who.int', 74),\n",
       " ('www.promedmail.org', 163)]"
      ]
     },
     "execution_count": 48,
     "metadata": {},
     "output_type": "execute_result"
    }
   ],
   "source": [
    "most_used_netlocs"
   ]
  },
  {
   "cell_type": "code",
   "execution_count": 49,
   "metadata": {},
   "outputs": [],
   "source": [
    "most_used_and_other_netlocs = [('other netlocs', other_netlocs)]\n",
    "most_used_and_other_netlocs.extend(most_used_netlocs)"
   ]
  },
  {
   "cell_type": "code",
   "execution_count": 53,
   "metadata": {},
   "outputs": [
    {
     "data": {
      "image/png": "[encoded data removed]",
      "text/plain": [
       "<Figure size 432x288 with 1 Axes>"
      ]
     },
     "metadata": {
      "needs_background": "light"
     },
     "output_type": "display_data"
    }
   ],
   "source": [
    "x = np.arange(len(most_used_and_other_netlocs))\n",
    "bars = plt.barh(x, width=[t[1] for t in most_used_and_other_netlocs])\n",
    "bars[0].set_color('grey')\n",
    "plt.xlabel('Occurences of Netlocs in EDB', fontname='Times New Roman')\n",
    "plt.yticks(x, [t[0] for t in most_used_and_other_netlocs])\n",
    "plt.xticks(fontsize=8)\n",
    "plt.grid(which='both', axis='x', alpha=0.2)\n",
    "plt.rc('axes', axisbelow=True)\n",
    "plt.tight_layout()\n",
    "plt.savefig('netloc.pdf', format='pdf', frameon=False)"
   ]
  },
  {
   "cell_type": "code",
   "execution_count": 11,
   "metadata": {},
   "outputs": [
    {
     "data": {
      "text/plain": [
       "<Figure size 432x288 with 0 Axes>"
      ]
     },
     "metadata": {},
     "output_type": "display_data"
    }
   ],
   "source": [
    "plt.savefig('netloc.pdf', format='pdf')"
   ]
  },
  {
   "cell_type": "markdown",
   "metadata": {},
   "source": [
    "# Cleaning Statistics\n",
    "## Date"
   ]
  },
  {
   "cell_type": "code",
   "execution_count": 14,
   "metadata": {},
   "outputs": [],
   "source": [
    "ts = edb['Datenstand für Fallzahlen gesamt*'].replace(['nan', '-', np.nan], [None] * 3).tolist()\n",
    "valid_ts = list(filter(lambda x: isinstance(x, str), ts))"
   ]
  },
  {
   "cell_type": "code",
   "execution_count": 15,
   "metadata": {
    "scrolled": true
   },
   "outputs": [
    {
     "name": "stdout",
     "output_type": "stream",
     "text": [
      "There are 557 entries in the cleaned event db\n",
      "187 of them are non-empty dates.\n"
     ]
    }
   ],
   "source": [
    "print('There are', len(cleaned_edb), 'entries in the cleaned event db')\n",
    "print(len(valid_ts), 'of them are non-empty dates.')"
   ]
  },
  {
   "cell_type": "code",
   "execution_count": 49,
   "metadata": {},
   "outputs": [
    {
     "name": "stdout",
     "output_type": "stream",
     "text": [
      "168 of all cleaned edb entries are valid dates.\n"
     ]
    }
   ],
   "source": [
    "is_date = lambda x: re.match(r\"(\\d{1,2})\\D(\\d{1,2})\\D(\\d{4})\", x)\n",
    "valid_dates_cleaned = list(filter(lambda x: is_date(x), valid_ts))\n",
    "print(len(valid_dates_cleaned), 'of all cleaned edb entries are valid dates.')"
   ]
  },
  {
   "cell_type": "code",
   "execution_count": 50,
   "metadata": {},
   "outputs": [
    {
     "name": "stdout",
     "output_type": "stream",
     "text": [
      "168 of all edb entries are valid dates.\n"
     ]
    }
   ],
   "source": [
    "valid_dates = list(filter(lambda x: is_date(str(x)), ts))\n",
    "print(len(valid_dates), 'of all edb entries are valid dates.')"
   ]
  },
  {
   "cell_type": "code",
   "execution_count": 19,
   "metadata": {
    "scrolled": true
   },
   "outputs": [
    {
     "name": "stdout",
     "output_type": "stream",
     "text": [
      "The following are non-valid dates:\n",
      "['?', 'Ende Mai', '43329', '43332', '43332', '43335', '43336', '43335', '43335', '43340', '43340', 'Mitte Sept.', '13.10.218', 'September 2018', '2017', '2018', 'Jan-4.Nov 2018', 'July 2017 -22.10.2018', 'Juni-Nov 2018']\n"
     ]
    }
   ],
   "source": [
    "print('The following are non-valid dates:')\n",
    "print(list(filter(lambda x: not is_date(x), valid_ts)))"
   ]
  },
  {
   "cell_type": "markdown",
   "metadata": {},
   "source": [
    "## Count"
   ]
  },
  {
   "cell_type": "code",
   "execution_count": 20,
   "metadata": {},
   "outputs": [
    {
     "name": "stdout",
     "output_type": "stream",
     "text": [
      "There are 557 entries in the cleaned event db\n",
      "394 of them are non-empty case numbers\n"
     ]
    }
   ],
   "source": [
    "print('There are', len(cleaned_edb), 'entries in the cleaned event db')\n",
    "print(sum(cleaned_edb['count_edb'].notna()), 'of them are non-empty case numbers')"
   ]
  },
  {
   "cell_type": "code",
   "execution_count": 47,
   "metadata": {},
   "outputs": [
    {
     "name": "stdout",
     "output_type": "stream",
     "text": [
      "Valid EDB counts:  299\n"
     ]
    }
   ],
   "source": [
    "valid_counts = edb['Fälle gesamt*'][edb['Fälle gesamt*'].notna()]\n",
    "print('Valid EDB counts: ', len(valid_counts))"
   ]
  },
  {
   "cell_type": "code",
   "execution_count": 45,
   "metadata": {},
   "outputs": [],
   "source": [
    "valid_counts_cleaned = cleaned_edb['count_edb'][cleaned_edb['count_edb'].notna()]"
   ]
  },
  {
   "cell_type": "code",
   "execution_count": 46,
   "metadata": {},
   "outputs": [
    {
     "name": "stdout",
     "output_type": "stream",
     "text": [
      "Valid cleaned EDB counts:  394\n"
     ]
    }
   ],
   "source": [
    "print('Valid cleaned EDB counts: ', len(valid_counts_cleaned))"
   ]
  },
  {
   "cell_type": "code",
   "execution_count": 22,
   "metadata": {},
   "outputs": [],
   "source": [
    "def is_int(string):\n",
    "    try:\n",
    "        num = int(string)\n",
    "    except ValueError:\n",
    "        return False\n",
    "    return True"
   ]
  },
  {
   "cell_type": "code",
   "execution_count": 41,
   "metadata": {},
   "outputs": [
    {
     "name": "stdout",
     "output_type": "stream",
     "text": [
      "These are the invalid count entries:\n",
      "['1,078,997', '40 abzgl. 19 non-cases', 'mind 18', '368 Fälle', '6,382', '0 bei Menschen.\\nMehr als 50 Todesfälle bei Kühem. Schafen und Pferden', '4 cVDPV2\\n2 WPV1 in Afghanistan', '>1000', '>3.300', '13 430', '15,944', '1,207,596', '650,000', '3,057', '446.150', 'erhöhte Fallzahlen seit 2013', '25 (im Jahr 2018)', '10.604']\n"
     ]
    }
   ],
   "source": [
    "print('These are the invalid count entries:')\n",
    "print(list(filter(lambda x: not is_int(x), valid_counts)))"
   ]
  },
  {
   "cell_type": "code",
   "execution_count": null,
   "metadata": {},
   "outputs": [],
   "source": [
    "len(list(filter(lambda x: not is_int(x), valid_counts)))"
   ]
  },
  {
   "cell_type": "markdown",
   "metadata": {},
   "source": [
    "## Country"
   ]
  },
  {
   "cell_type": "code",
   "execution_count": 33,
   "metadata": {},
   "outputs": [
    {
     "name": "stdout",
     "output_type": "stream",
     "text": [
      "{nan, 'Afghanistan,\\nDR Congo\\nNigeria\\nSomalia', 'Venezuela ', 'Italien, Serbien, Griechenland, Rumänien, Ungarn, Frankreich, Kosovo, Albanien, Macedonien, Montenegro, Serbien, Türkei', 'Französich_Polynesien', 'Saudi-Arabien ', 'VAE ', 'Namibia, Opuwo District, Kunene Region', 'Nigeria, Edo State', 'Indien, Jaipur', 'DRC, Nord Kivu', ' Äthiopien (AWD)', 'USA, Delaware', 'Trinidad & Tobago', 'Peru ', 'Italien, Griechenland, Ungarn, Rumänien', 'Oman ', 'Serbien, Italien, Griechenland, Ungarn,  Rumänien', 'Italien, Griechenland, Rumanien, Ungarn, Frankreich'}\n",
      "\n",
      " is cleaned to: \n",
      "\n",
      "{None, 'Französich Polynesien', 'Kunene Region', 'Jaipur', 'Trinidad und Tobago', 'Kosovo', 'Griechenland', 'Delaware', 'Montenegro', 'Rumänien', 'Rumanien', 'Ungarn', 'VAE', 'Nord Kivu', 'Macedonien', 'DR Congo', 'Edo State', 'Albanien', 'Serbien', 'Oman', 'Opuwo District'}\n"
     ]
    }
   ],
   "source": [
    "from nlp_surveillance.pipeline import CleanCountryLookUpAndAddAbbreviations\n",
    "before = set(edb['Ausgangs- bzw. Ausbruchsland'])\n",
    "after = set(cleaned_edb.country_edb)\n",
    "print(before - after)\n",
    "print('\\n is cleaned to: \\n')\n",
    "print(after - before)"
   ]
  },
  {
   "cell_type": "code",
   "execution_count": 53,
   "metadata": {},
   "outputs": [],
   "source": [
    "country_lookup = CleanCountryLookUpAndAddAbbreviations().data_output()"
   ]
  },
  {
   "cell_type": "code",
   "execution_count": 83,
   "metadata": {},
   "outputs": [
    {
     "name": "stdout",
     "output_type": "stream",
     "text": [
      "Valid entries before controlled vocabulary:  355\n"
     ]
    }
   ],
   "source": [
    "valid_before_preprocessing = list(filter(lambda x: x in country_lookup, edb['Ausgangs- bzw. Ausbruchsland']))\n",
    "print('Valid entries before controlled vocabulary: ', len(valid_before_preprocessing))"
   ]
  },
  {
   "cell_type": "code",
   "execution_count": 84,
   "metadata": {},
   "outputs": [
    {
     "name": "stdout",
     "output_type": "stream",
     "text": [
      "Valid entries after controlled vocabulary:  494\n"
     ]
    }
   ],
   "source": [
    "valid_after_preprocessing = list(filter(lambda x: x in country_lookup, cleaned_edb.country_edb))\n",
    "print('Valid entries after controlled vocabulary: ', len(valid_after_preprocessing))"
   ]
  },
  {
   "cell_type": "code",
   "execution_count": 77,
   "metadata": {},
   "outputs": [
    {
     "name": "stdout",
     "output_type": "stream",
     "text": [
      "Invalid entries:  21\n"
     ]
    }
   ],
   "source": [
    "print('Invalid entries: ', len(after-before))"
   ]
  },
  {
   "cell_type": "code",
   "execution_count": 28,
   "metadata": {},
   "outputs": [
    {
     "data": {
      "text/plain": [
       "True"
      ]
     },
     "execution_count": 28,
     "metadata": {},
     "output_type": "execute_result"
    }
   ],
   "source": [
    "# Stripped strings don't appear in the last set but were processed correctly\n",
    "('Peru' in after) & ('Saudi-Arabien' in after) & ('Oman' in after) & ('Äthiopien' in after)"
   ]
  },
  {
   "cell_type": "markdown",
   "metadata": {},
   "source": [
    "## Disease"
   ]
  },
  {
   "cell_type": "code",
   "execution_count": 93,
   "metadata": {},
   "outputs": [
    {
     "name": "stdout",
     "output_type": "stream",
     "text": [
      "Not valid:  {nan, 'Diarrhoe, Überkeit, Erbrechen', 'Tularämie ', 'Husten, Fieber', 'FSME ', 'AFP, AFM', 'Gesichtslähmung, Nervensystem betroffen.', 'Camel Prion Disease ', 'Nierenversagen; v.a. HUS, Leptospirose', ' ', 'Gonorrhö, multiresistent', '?', 'Lassafieber ', 'Leptospirose ', 'Tick-borne relapsing fever ', 'keine'}\n",
      "Not valid in numbers:  16\n"
     ]
    }
   ],
   "source": [
    "from nlp_surveillance.pipeline import MergeDiseaseNameLookupWithAbbreviationsOfRKI\n",
    "disease_lookup = MergeDiseaseNameLookupWithAbbreviationsOfRKI().data_output()\n",
    "\n",
    "before_disease =  set(edb['Krankheitsbild(er)'])\n",
    "after_disease = set(cleaned_edb['disease_edb'])\n",
    "print('Not valid: ',  before_disease - after_disease)\n",
    "print('Not valid in numbers: ', len(before_disease - after_disease))"
   ]
  },
  {
   "cell_type": "code",
   "execution_count": 87,
   "metadata": {},
   "outputs": [
    {
     "name": "stdout",
     "output_type": "stream",
     "text": [
      "Valid entries before controlled vocabulary:  231\n"
     ]
    }
   ],
   "source": [
    "valid_diseases_before_preprocessing = (list(filter(lambda x: x in disease_lookup, edb['Krankheitsbild(er)'])))\n",
    "print('Valid entries before controlled vocabulary: ', len(valid_diseases_before_preprocessing))"
   ]
  },
  {
   "cell_type": "code",
   "execution_count": 90,
   "metadata": {},
   "outputs": [
    {
     "name": "stdout",
     "output_type": "stream",
     "text": [
      "Valid entries after controlled vocabulary:  332\n"
     ]
    }
   ],
   "source": [
    "valid_diseases_after_preprocessing = (list(filter(lambda x: x in disease_lookup, cleaned_edb['disease_edb'])))\n",
    "print('Valid entries after controlled vocabulary: ', len(valid_diseases_after_preprocessing))"
   ]
  },
  {
   "cell_type": "markdown",
   "metadata": {},
   "source": [
    "## URLs"
   ]
  },
  {
   "cell_type": "code",
   "execution_count": null,
   "metadata": {},
   "outputs": [],
   "source": [
    "before_URLs =  set(edb['Link zur Quelle 1'])\n",
    "after_URLs = set(cleaned_edb['URL'])"
   ]
  },
  {
   "cell_type": "code",
   "execution_count": null,
   "metadata": {},
   "outputs": [],
   "source": [
    "# Guillements, splitting by comma, additional whitespace, and non-valid URLS\n",
    "# are the problem\n",
    "before_URLs - after_URLs"
   ]
  },
  {
   "cell_type": "markdown",
   "metadata": {},
   "source": [
    "# Annotation"
   ]
  },
  {
   "cell_type": "code",
   "execution_count": null,
   "metadata": {},
   "outputs": [],
   "source": [
    "from nltk import sent_tokenize\n",
    "from epitator.annotator import AnnoDoc\n",
    "from epitator.count_annotator import CountAnnotator\n",
    "from epitator.date_annotator import DateAnnotator\n",
    "\n",
    "from utils.my_utils import flatten_list\n",
    "\n",
    "example_text = 'Health |‘We’re Out of Options’: Doctors Battle Drug-Resistant Typhoid OutbreakSupported by‘We’re Out of Options’: Doctors Battle Drug-Resistant Typhoid OutbreakImageA baby believed to have contracted a drug-resistant strain of typhoid, hospitalized in Hyderabad, Pakistan in February.CreditCreditNadeem Khawer/European Pressphoto AgencyBy Emily BaumgaertnerApril 13, 2018The first known epidemic of extensively drug-resistant typhoid is spreading through Pakistan, infecting at least 850 people in 14 districts since 2016, according to the National Institute of Health Islamabad.The typhoid strain, resistant to five types of antibiotics, is expected to disseminate globally, replacing weaker strains where they are endemic. Experts have identified only one remaining oral antibiotic — azithromycin — to combat it; one more genetic mutation could make typhoid untreatable in some areas.Researchers consider the epidemic an international clarion call for comprehensive prevention efforts. If vaccination campaigns and modern sanitation systems don’t outpace the pathogen, they anticipate a return to the pre-antibiotic era when mortality rates soared.“This isn’t just about typhoid,” said Dr. Rumina Hasan, a pathology professor at the Aga Khan University in Pakistan. “Antibiotic resistance is a threat to all of modern medicine — and the scary part is, we’re out of options.”Typhoid fever, caused by the Salmonella Typhi bacteria, is a highly infectious disease transmitted by contaminated food or water. It causes high fevers, headaches and vomiting. About 21 million people suffer from typhoid each year, and about 161,000 die, according to the World Health Organization.Typhoid is endemic to Pakistan, where poor infrastructure, low vaccination rates and overpopulated city dwellings persist. Doctors in the Sindh province were not surprised by an outbreak in November 2016 — until cases proved unresponsive to ceftriaxone, used to treat multidrug-resistant, or MDR, strains of typhoid.Only four isolated cases of extensively drug-resistant, or XDR, typhoid had previously been reported worldwide, according to Dr. Elizabeth Klemm, an infectious disease geneticist at the Wellcome Sanger Institute in England.The outbreak’s origins were clear: Early case mapping revealed large clusters of victims around sewage lines in the city of Hyderabad. Dr. Hasan’s colleagues visited the region and found water sources that could be contaminated by leaking sewage pipes.Four deaths have been reported so far, according to the National Institute of Health Islamabad. At least one travel-related case has been detected in the United Kingdom.Genetic sequencing revealed that a common, aggressive MDR typhoid strain called H58 interacted with another bacteria, likely E. coli, and acquired from it an additional DNA molecule, called a plasmid, that coded for resistance to ceftriaxone.ImageLining up for clean water in Lahore last month. Facing a typhoid strain that resists so many types of antibiotics, public health officials are reemphasizing preventative measures, such as vaccination, boiling drinking water and hygiene.CreditK.M. Chaudary/Associated PressThe findings were disturbingly simple: XDR strains can materialize in one single step, virtually anywhere where the H58 strain and the added plasmid are both present — whether a sewer system or even a single human gut.“There are multiple worst-case scenarios,” said Dr. Klemm. “One is that this strain spreads to other regions through migration. But the other is that it pops up elsewhere on its own — plasmids with drug resistance are everywhere.”But the accumulation of resistance genes in the Sindh strain was hardly an ambush, according to a commentary by vaccine experts at the University of Maryland School of Medicine.The 1948 discovery of antibiotic treatment for typhoid plunged the infection’s fatality rate from almost one in four to just one in 100, triggering “an epic thrust-and-parry duel” between powerful drugs and “a wily bacterial foe’s stepwise acquisition of resistance to them,” wrote Dr. Myron M. Levine and Dr. Raphael Simon.Doctors still prescribe an estimated 50 million doses of antibiotics for typhoid globally each year. In Karachi, the capital of Sindh province, antibiotic resistance is increasing by 30 percent each year, according to the W.H.O.; at that rate, all typhoid cases in the city will be resistant to multiple drugs by 2020.Physicians are treating the Sindh strain with azithromycin and other more expensive treatments that must be administered in hospital settings.“Once we aren’t able to treat this effectively, we’re going back to the pre-antibiotic era. That would mean a lot of fatalities in our future,” Dr. Klemm said.To preserve the last line of defense, public health officials have launched a campaign to vaccinate 250,000 children in Hyderabad using a new typhoid conjugate vaccine, Typbar-TCV, recently prequalified by the W.H.O. The vaccine lasts at least five years and can be given to children as young as six months old, according to the W.H.O.Experts are also reinforcing hygiene habits for prevention: washing hands frequently, boiling drinking water and eating well-cooked foods. In the longer term, modern sanitation infrastructure is needed.The vaccination campaign has faced local opposition, according to local news reports, amid rumors that the vaccines have been poisoned in a Western effort to harm children. Similar suspicions have persisted since 2011, when a posed hepatitis B campaign helped gather intelligence before the Abbottabad raid that killed Osama bin Laden. Two polio vaccination workers were killed in Pakistan this January.GAVI, The Vaccine Alliance, a public–private global health partnership working to increase access to immunization, has pledged $85 million to ensure that typhoid vaccines reach developing countries.“It’s a global concern at this point,” said Dr. Eric Mintz, an epidemiologist at the Centers for Disease Control and Prevention. “Everything suggests this strain will survive well and spread easily — and acquiring resistance to azithromycin is only a matter of time.”A version of this article appears in print on , on Page D3 of the New York edition with the headline: Doctors Fight Drug-Resistant Typhoid Outbreak. Order Reprints | Today’s Paper | SubscribeRelated Coverage'\n",
    "text_wise = AnnoDoc(example_text).add_tiers(CountAnnotator()).tiers['counts'].spans\n",
    "sent_wise = [AnnoDoc(sent).add_tiers(CountAnnotator()).tiers['counts'].spans for sent in sent_tokenize(example_text)]\n",
    "print('Count:')\n",
    "print(text_wise,'\\n')\n",
    "print(len(text_wise), 'found entities \\n')\n",
    "print(flatten_list(sent_wise),'\\n')\n",
    "print(len(flatten_list(sent_wise)), 'found entities\\n')\n",
    "print('################################################################\\n')\n",
    "print('Date:')\n",
    "example_text = 'Health |‘We’re Out of Options’: Doctors Battle Drug-Resistant Typhoid OutbreakSupported by‘We’re Out of Options’: Doctors Battle Drug-Resistant Typhoid OutbreakImageA baby believed to have contracted a drug-resistant strain of typhoid, hospitalized in Hyderabad, Pakistan in February.CreditCreditNadeem Khawer/European Pressphoto AgencyBy Emily BaumgaertnerApril 13, 2018The first known epidemic of extensively drug-resistant typhoid is spreading through Pakistan, infecting at least 850 people in 14 districts since 2016, according to the National Institute of Health Islamabad.The typhoid strain, resistant to five types of antibiotics, is expected to disseminate globally, replacing weaker strains where they are endemic. Experts have identified only one remaining oral antibiotic — azithromycin — to combat it; one more genetic mutation could make typhoid untreatable in some areas.Researchers consider the epidemic an international clarion call for comprehensive prevention efforts. If vaccination campaigns and modern sanitation systems don’t outpace the pathogen, they anticipate a return to the pre-antibiotic era when mortality rates soared.“This isn’t just about typhoid,” said Dr. Rumina Hasan, a pathology professor at the Aga Khan University in Pakistan. “Antibiotic resistance is a threat to all of modern medicine — and the scary part is, we’re out of options.”Typhoid fever, caused by the Salmonella Typhi bacteria, is a highly infectious disease transmitted by contaminated food or water. It causes high fevers, headaches and vomiting. About 21 million people suffer from typhoid each year, and about 161,000 die, according to the World Health Organization.Typhoid is endemic to Pakistan, where poor infrastructure, low vaccination rates and overpopulated city dwellings persist. Doctors in the Sindh province were not surprised by an outbreak in November 2016 — until cases proved unresponsive to ceftriaxone, used to treat multidrug-resistant, or MDR, strains of typhoid.Only four isolated cases of extensively drug-resistant, or XDR, typhoid had previously been reported worldwide, according to Dr. Elizabeth Klemm, an infectious disease geneticist at the Wellcome Sanger Institute in England.The outbreak’s origins were clear: Early case mapping revealed large clusters of victims around sewage lines in the city of Hyderabad. Dr. Hasan’s colleagues visited the region and found water sources that could be contaminated by leaking sewage pipes.Four deaths have been reported so far, according to the National Institute of Health Islamabad. At least one travel-related case has been detected in the United Kingdom.Genetic sequencing revealed that a common, aggressive MDR typhoid strain called H58 interacted with another bacteria, likely E. coli, and acquired from it an additional DNA molecule, called a plasmid, that coded for resistance to ceftriaxone.ImageLining up for clean water in Lahore last month. Facing a typhoid strain that resists so many types of antibiotics, public health officials are reemphasizing preventative measures, such as vaccination, boiling drinking water and hygiene.CreditK.M. Chaudary/Associated PressThe findings were disturbingly simple: XDR strains can materialize in one single step, virtually anywhere where the H58 strain and the added plasmid are both present — whether a sewer system or even a single human gut.“There are multiple worst-case scenarios,” said Dr. Klemm. “One is that this strain spreads to other regions through migration. But the other is that it pops up elsewhere on its own — plasmids with drug resistance are everywhere.”But the accumulation of resistance genes in the Sindh strain was hardly an ambush, according to a commentary by vaccine experts at the University of Maryland School of Medicine.The 1948 discovery of antibiotic treatment for typhoid plunged the infection’s fatality rate from almost one in four to just one in 100, triggering “an epic thrust-and-parry duel” between powerful drugs and “a wily bacterial foe’s stepwise acquisition of resistance to them,” wrote Dr. Myron M. Levine and Dr. Raphael Simon.Doctors still prescribe an estimated 50 million doses of antibiotics for typhoid globally each year. In Karachi, the capital of Sindh province, antibiotic resistance is increasing by 30 percent each year, according to the W.H.O.; at that rate, all typhoid cases in the city will be resistant to multiple drugs by 2020.Physicians are treating the Sindh strain with azithromycin and other more expensive treatments that must be administered in hospital settings.“Once we aren’t able to treat this effectively, we’re going back to the pre-antibiotic era. That would mean a lot of fatalities in our future,” Dr. Klemm said.To preserve the last line of defense, public health officials have launched a campaign to vaccinate 250,000 children in Hyderabad using a new typhoid conjugate vaccine, Typbar-TCV, recently prequalified by the W.H.O. The vaccine lasts at least five years and can be given to children as young as six months old, according to the W.H.O.Experts are also reinforcing hygiene habits for prevention: washing hands frequently, boiling drinking water and eating well-cooked foods. In the longer term, modern sanitation infrastructure is needed.The vaccination campaign has faced local opposition, according to local news reports, amid rumors that the vaccines have been poisoned in a Western effort to harm children. Similar suspicions have persisted since 2011, when a posed hepatitis B campaign helped gather intelligence before the Abbottabad raid that killed Osama bin Laden. Two polio vaccination workers were killed in Pakistan this January.GAVI, The Vaccine Alliance, a public–private global health partnership working to increase access to immunization, has pledged $85 million to ensure that typhoid vaccines reach developing countries.“It’s a global concern at this point,” said Dr. Eric Mintz, an epidemiologist at the Centers for Disease Control and Prevention. “Everything suggests this strain will survive well and spread easily — and acquiring resistance to azithromycin is only a matter of time.”A version of this article appears in print on , on Page D3 of the New York edition with the headline: Doctors Fight Drug-Resistant Typhoid Outbreak. Order Reprints | Today’s Paper | SubscribeRelated Coverage'\n",
    "text_wise = AnnoDoc(example_text).add_tiers(DateAnnotator()).tiers['dates'].spans\n",
    "sent_wise = [AnnoDoc(sent).add_tiers(DateAnnotator()).tiers['dates'].spans for sent in sent_tokenize(example_text)]\n",
    "print(text_wise,'\\n')\n",
    "print(len(text_wise), 'found entities\\n')\n",
    "print(flatten_list(sent_wise),'\\n')\n",
    "print(len(flatten_list(sent_wise)), 'found entities')"
   ]
  },
  {
   "cell_type": "code",
   "execution_count": null,
   "metadata": {},
   "outputs": [],
   "source": [
    "import pandas as pd\n",
    "from nltk.tokenize import PunktSentenceTokenizer\n",
    "from itertools import product\n",
    "from collections import namedtuple\n",
    "from epitator.annotator import AnnoDoc\n",
    "from epitator.count_annotator import CountAnnotator\n",
    "from epitator.date_annotator import DateAnnotator\n",
    "from nlp_surveillance.classifier.create_labels import create_labels\n",
    "\n",
    "\n",
    "def from_entity(text, to_optimize, event_db_entry):\n",
    "    annotated = _annotate(text, to_optimize)\n",
    "    entities, sentences = _extract_entities_with_sentence(annotated, to_optimize)\n",
    "    labels = create_labels(entities, to_optimize, event_db_entry)\n",
    "    label_sentence_tuple = namedtuple('label_sentence_tuple', ['label', 'sentence'])\n",
    "    label_sentence_tuples = [label_sentence_tuple(*tuple_) for tuple_ in zip(labels, sentences)]\n",
    "    return label_sentence_tuples\n",
    "\n",
    "\n",
    "def _annotate(sentence, to_optimize):\n",
    "    tier = {'counts': CountAnnotator(), 'dates': DateAnnotator()}\n",
    "    annotated = AnnoDoc(sentence)\n",
    "    annotated.add_tiers(tier[to_optimize])\n",
    "    return annotated\n",
    "\n",
    "\n",
    "def _extract_entities_with_sentence(annotated, to_optimize):\n",
    "    sentence_spans = PunktSentenceTokenizer().span_tokenize(annotated.text)\n",
    "    span_entity_dict = _create_span_entity_dict(annotated, to_optimize)\n",
    "    matched_entity_sentence_spans = _match_entity_and_sentence_spans(span_entity_dict.keys(), sentence_spans)\n",
    "    entities = [span_entity_dict[tuple_.entity_span] for tuple_ in matched_entity_sentence_spans]\n",
    "    sentences = [annotated.text[slice(*tuple_.sentence_span)]\n",
    "                 for tuple_ in matched_entity_sentence_spans]\n",
    "    return entities, sentences\n",
    "\n",
    "\n",
    "def _match_entity_and_sentence_spans(entity_spans, sentence_spans):\n",
    "    cartesian_product = product(entity_spans, sentence_spans)\n",
    "    entity_sentence_tuple = namedtuple('entity_sentence', ['entity_span', 'sentence_span'])\n",
    "    list_of_found_entity_sentence_spans = list(filter(_overlap, cartesian_product))\n",
    "    list_of_found_entity_sentence_spans_named = [entity_sentence_tuple(*tuple_) for tuple_ in\n",
    "                                                 list_of_found_entity_sentence_spans]\n",
    "    return list_of_found_entity_sentence_spans_named\n",
    "\n",
    "\n",
    "def _create_span_entity_dict(annotated, to_optimize):\n",
    "    spans = annotated.tiers[to_optimize].spans\n",
    "    to_metadata_attr = {'counts': 'count', 'dates': 'datetime_range'}\n",
    "    attribute = to_metadata_attr[to_optimize]\n",
    "    span_entity_dict = {(span.start, span.end): span.metadata[attribute] for span in spans}\n",
    "    return span_entity_dict\n",
    "\n",
    "\n",
    "def _overlap(tuple_of_tuples):\n",
    "    entity_span, sent_span = tuple_of_tuples\n",
    "    if sent_span[0] <= entity_span[0] and entity_span[1] <= sent_span[1]:\n",
    "        return True\n"
   ]
  },
  {
   "cell_type": "code",
   "execution_count": null,
   "metadata": {},
   "outputs": [],
   "source": [
    "import pandas as pd\n",
    "from nltk import sent_tokenize\n",
    "import numpy as np\n",
    "from collections import namedtuple\n",
    "from epitator.annotator import AnnoDoc\n",
    "from epitator.count_annotator import CountAnnotator\n",
    "from epitator.date_annotator import DateAnnotator\n",
    "from nlp_surveillance.classifier.create_labels import create_labels\n",
    "\n",
    "\n",
    "def from_entity_2(text, to_optimize, event_db_entry):\n",
    "    sentences = sent_tokenize(text)\n",
    "    sentence_label_list = []\n",
    "    for sentence in sentences:\n",
    "        annotated = _annotate(sentence, to_optimize)\n",
    "        entities = _extract_entities_from_sentence(annotated, to_optimize)\n",
    "        labels = create_labels(entities, to_optimize, event_db_entry)\n",
    "        labeled_as_list = _wrap_into_sent_label_tuple(sentence, labels)\n",
    "        sentence_label_list.extend(labeled_as_list)\n",
    "    return sentence_label_list\n",
    "\n",
    "\n",
    "def _annotate(sentence, to_optimize):\n",
    "    tier = {'counts': CountAnnotator(), 'dates': DateAnnotator()}\n",
    "    annotated = AnnoDoc(sentence)\n",
    "    annotated.add_tiers(tier[to_optimize])\n",
    "    return annotated\n",
    "\n",
    "\n",
    "def _extract_entities_from_sentence(annotated, to_optimize):\n",
    "    spans = annotated.tiers[to_optimize].spans\n",
    "    if to_optimize == 'dates':\n",
    "        entities = [span.metadata['datetime_range'] for span in spans]\n",
    "    elif to_optimize == 'counts':\n",
    "        entities = [span.metadata['count'] for span in spans]\n",
    "    else:\n",
    "        raise ValueError\n",
    "    return entities\n",
    "\n",
    "\n",
    "def _wrap_into_sent_label_tuple(sentence, labels):\n",
    "    Labeled = namedtuple('labeled_sentence', ['sentence_repeated', 'label'])\n",
    "    sentence_repeated = np.repeat(sentence, len(labels))\n",
    "    labeled_as_list = [Labeled(sent, label) for sent, label in zip(sentence_repeated, labels)]\n",
    "    return labeled_as_list"
   ]
  },
  {
   "cell_type": "code",
   "execution_count": null,
   "metadata": {},
   "outputs": [],
   "source": [
    "%%timeit\n",
    "text = 'I am in Berlin today. Something is odd in Berlin since Monday but also since Friday. Still, I seem to like Berlin more than Frankfurt now. I am sad that I am not in Switzerland in August.'\n",
    "from_entity(text, 'dates', pd.Timestamp(2018,2,20))"
   ]
  },
  {
   "cell_type": "code",
   "execution_count": null,
   "metadata": {},
   "outputs": [],
   "source": [
    "%%timeit\n",
    "text = 'I am in Berlin today. Something is odd in Berlin since Monday but also since Friday. Still, I seem to like Berlin more than Frankfurt now. I am sad that I am not in Switzerland in August.'\n",
    "from_entity_2(text, 'dates', pd.Timestamp(2018,2,20))"
   ]
  },
  {
   "cell_type": "markdown",
   "metadata": {},
   "source": [
    "# Pipeline"
   ]
  },
  {
   "cell_type": "code",
   "execution_count": null,
   "metadata": {},
   "outputs": [],
   "source": [
    "from nlp_surveillance.pipeline import *"
   ]
  },
  {
   "cell_type": "code",
   "execution_count": null,
   "metadata": {},
   "outputs": [],
   "source": [
    "CleanEventDB().data_output().head()"
   ]
  },
  {
   "cell_type": "code",
   "execution_count": null,
   "metadata": {
    "scrolled": true
   },
   "outputs": [],
   "source": [
    "RequestDiseaseNamesFromWikiData().data_output().head()"
   ]
  },
  {
   "cell_type": "code",
   "execution_count": null,
   "metadata": {},
   "outputs": [],
   "source": [
    "ScrapeCountryNamesFromWikipedia().data_output().head()"
   ]
  },
  {
   "cell_type": "code",
   "execution_count": null,
   "metadata": {
    "scrolled": true
   },
   "outputs": [],
   "source": [
    "CleanCountryLookUpAndAddAbbreviations().data_output()"
   ]
  },
  {
   "cell_type": "code",
   "execution_count": null,
   "metadata": {
    "scrolled": true
   },
   "outputs": [],
   "source": [
    "MergeDiseaseNameLookupWithAbbreviationsOfRKI().data_output()"
   ]
  },
  {
   "cell_type": "code",
   "execution_count": null,
   "metadata": {},
   "outputs": [],
   "source": [
    "ApplyControlledVocabularyToEventDB().data_output().head()"
   ]
  },
  {
   "cell_type": "code",
   "execution_count": null,
   "metadata": {},
   "outputs": [],
   "source": [
    "ScrapePromed('2018').data_output().head()"
   ]
  },
  {
   "cell_type": "code",
   "execution_count": null,
   "metadata": {},
   "outputs": [],
   "source": [
    "ScrapeWHO('2018').data_output().head()"
   ]
  },
  {
   "cell_type": "code",
   "execution_count": null,
   "metadata": {
    "scrolled": true
   },
   "outputs": [],
   "source": [
    "ScrapeFromURLsAndExtractText('event_db').data_output().head()"
   ]
  },
  {
   "cell_type": "code",
   "execution_count": null,
   "metadata": {},
   "outputs": [],
   "source": [
    "ScrapeFromURLsAndExtractText('who').data_output().head()"
   ]
  },
  {
   "cell_type": "code",
   "execution_count": null,
   "metadata": {},
   "outputs": [],
   "source": [
    "ScrapeFromURLsAndExtractText('promed').data_output().head()"
   ]
  },
  {
   "cell_type": "code",
   "execution_count": null,
   "metadata": {
    "scrolled": true
   },
   "outputs": [],
   "source": [
    "AnnotateDoc('event_db').data_output().head()"
   ]
  },
  {
   "cell_type": "code",
   "execution_count": null,
   "metadata": {},
   "outputs": [],
   "source": [
    "ExtractSentencesAndLabel('dates').data_output().head()"
   ]
  },
  {
   "cell_type": "code",
   "execution_count": null,
   "metadata": {},
   "outputs": [],
   "source": [
    "ExtractSentencesAndLabel('counts').data_output().head()"
   ]
  },
  {
   "cell_type": "code",
   "execution_count": null,
   "metadata": {},
   "outputs": [],
   "source": [
    "RecommenderLabeling().data_output().head()"
   ]
  },
  {
   "cell_type": "markdown",
   "metadata": {},
   "source": [
    "# Recommender System"
   ]
  },
  {
   "cell_type": "code",
   "execution_count": null,
   "metadata": {},
   "outputs": [],
   "source": [
    "len(ScrapeWHO('2018').data_output())"
   ]
  },
  {
   "cell_type": "code",
   "execution_count": null,
   "metadata": {},
   "outputs": [],
   "source": [
    "len(ScrapePromed('2018').data_output())"
   ]
  },
  {
   "cell_type": "code",
   "execution_count": null,
   "metadata": {},
   "outputs": [],
   "source": [
    "scraped = pd.concat([ScrapeWHO('2018').data_output(),\n",
    "                    ScrapePromed('2018').data_output()])"
   ]
  },
  {
   "cell_type": "code",
   "execution_count": null,
   "metadata": {},
   "outputs": [],
   "source": [
    "urls = CleanEventDB().data_output()['URL']\n",
    "urls_not_na = urls[urls.notna()]\n",
    "print(f'There are {len(urls_not_na)} usable URLs')\n",
    "who_promed_urls = [url for url in urls_not_na if '/don/' in url or 'promed' in url]\n",
    "urls_that_have_an_article = list(filter(lambda x: x != 'https://www.promedmail.org/', who_promed_urls))\n",
    "print(f'{len(urls_that_have_an_article)} of them are usable for the recommender system')"
   ]
  },
  {
   "cell_type": "code",
   "execution_count": null,
   "metadata": {
    "scrolled": true
   },
   "outputs": [],
   "source": [
    "print('Following URLs of the event db could not be matched to all the Promed and WHO DON articles of 2018')\n",
    "set(urls_that_have_an_article) - set(scraped.URL.tolist())"
   ]
  }
 ],
 "metadata": {
  "kernelspec": {
   "display_name": "Python 3",
   "language": "python",
   "name": "python3"
  },
  "language_info": {
   "codemirror_mode": {
    "name": "ipython",
    "version": 3
   },
   "file_extension": ".py",
   "mimetype": "text/x-python",
   "name": "python",
   "nbconvert_exporter": "python",
   "pygments_lexer": "ipython3",
   "version": "3.6.7"
  }
 },
 "nbformat": 4,
 "nbformat_minor": 2
}
