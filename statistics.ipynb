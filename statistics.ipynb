{
 "cells": [
  {
   "cell_type": "code",
   "execution_count": 1,
   "metadata": {},
   "outputs": [],
   "source": [
    "%load_ext autoreload\n",
    "%autoreload 2"
   ]
  },
  {
   "cell_type": "code",
   "execution_count": 27,
   "metadata": {},
   "outputs": [],
   "source": [
    "import re\n",
    "import numpy as np\n",
    "import pandas as pd\n",
    "\n",
    "from nlp_surveillance.event_db_preprocessing import event_db\n"
   ]
  },
  {
   "cell_type": "code",
   "execution_count": 31,
   "metadata": {},
   "outputs": [],
   "source": [
    "edb = event_db._read_unprocessed()\n",
    "cleaned_edb = event_db.read_cleaned()"
   ]
  },
  {
   "cell_type": "markdown",
   "metadata": {},
   "source": [
    "# Cleaning Statistics\n",
    "## Date"
   ]
  },
  {
   "cell_type": "code",
   "execution_count": null,
   "metadata": {},
   "outputs": [],
   "source": [
    "ts = edb['Datenstand für Fallzahlen gesamt*'].replace(['nan', '-', np.nan], [None] * 3).tolist()\n",
    "valid_ts = list(filter(lambda x: isinstance(x, str), ts))"
   ]
  },
  {
   "cell_type": "code",
   "execution_count": null,
   "metadata": {
    "scrolled": true
   },
   "outputs": [],
   "source": [
    "print('There are', len(cleaned_edb), 'entries in the cleaned event db')\n",
    "print(len(valid_ts), 'of them are non-empty dates.')"
   ]
  },
  {
   "cell_type": "code",
   "execution_count": null,
   "metadata": {},
   "outputs": [],
   "source": [
    "is_date = lambda x: re.match(r\"(\\d{1,2})\\D(\\d{1,2})\\D(\\d{4})\", x)\n",
    "valid_dates = list(filter(lambda x: is_date(x), valid_ts))\n",
    "print(len(valid_dates), 'of all entries are valid dates.')"
   ]
  },
  {
   "cell_type": "code",
   "execution_count": null,
   "metadata": {
    "scrolled": true
   },
   "outputs": [],
   "source": [
    "print('The following are non-valid dates:')\n",
    "print(list(filter(lambda x: not is_date(x), valid_ts)))"
   ]
  },
  {
   "cell_type": "markdown",
   "metadata": {},
   "source": [
    "## Count"
   ]
  },
  {
   "cell_type": "code",
   "execution_count": null,
   "metadata": {},
   "outputs": [],
   "source": [
    "print('There are', len(cleaned_edb), 'entries in the cleaned event db')\n",
    "print(sum(cleaned_edb['count_edb'].notna()), 'of them are non-empty case numbers')"
   ]
  },
  {
   "cell_type": "code",
   "execution_count": null,
   "metadata": {},
   "outputs": [],
   "source": [
    "valid_counts = cleaned_edb['count_edb'][cleaned_edb['count_edb'].notna()]"
   ]
  },
  {
   "cell_type": "code",
   "execution_count": null,
   "metadata": {},
   "outputs": [],
   "source": [
    "def is_int(string):\n",
    "    try:\n",
    "        num = int(string)\n",
    "    except ValueError:\n",
    "        return False\n",
    "    return True"
   ]
  },
  {
   "cell_type": "code",
   "execution_count": null,
   "metadata": {},
   "outputs": [],
   "source": [
    "print('These are the invalid count entries:')\n",
    "print(list(filter(lambda x: not is_int(x), valid_counts)))"
   ]
  },
  {
   "cell_type": "markdown",
   "metadata": {},
   "source": [
    "## Country"
   ]
  },
  {
   "cell_type": "code",
   "execution_count": null,
   "metadata": {},
   "outputs": [],
   "source": [
    "before = set(edb['Ausgangs- bzw. Ausbruchsland'])\n",
    "after = set(cleaned_edb.country_edb)\n",
    "print(before - after)\n",
    "print('\\n is cleaned to: \\n')\n",
    "print(after - before)"
   ]
  },
  {
   "cell_type": "code",
   "execution_count": null,
   "metadata": {},
   "outputs": [],
   "source": [
    "# Stripped strings don't appear in the last set but were processed correctly\n",
    "('Peru' in after) & ('Saudi-Arabien' in after) & ('Oman' in after) & ('Äthiopien' in after)"
   ]
  },
  {
   "cell_type": "markdown",
   "metadata": {},
   "source": [
    "# Test"
   ]
  },
  {
   "cell_type": "code",
   "execution_count": 22,
   "metadata": {},
   "outputs": [],
   "source": [
    "from nlp_surveillance.wikipedia_list_of_countries.scraper import scrape_wikipedia_countries\n",
    "from nlp_surveillance.wikipedia_list_of_countries.cleaner import clean_wikipedia_countries\n",
    "from nlp_surveillance.wikipedia_list_of_countries.custom_abbreviations import abbreviate_wikipedia_country_df"
   ]
  }
 ],
 "metadata": {
  "kernelspec": {
   "display_name": "Python 3",
   "language": "python",
   "name": "python3"
  },
  "language_info": {
   "codemirror_mode": {
    "name": "ipython",
    "version": 3
   },
   "file_extension": ".py",
   "mimetype": "text/x-python",
   "name": "python",
   "nbconvert_exporter": "python",
   "pygments_lexer": "ipython3",
   "version": "3.7.2"
  }
 },
 "nbformat": 4,
 "nbformat_minor": 2
}
