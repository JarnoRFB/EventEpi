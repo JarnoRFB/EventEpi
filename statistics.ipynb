{
 "cells": [
  {
   "cell_type": "code",
   "execution_count": 1,
   "metadata": {},
   "outputs": [],
   "source": [
    "%load_ext autoreload\n",
    "%autoreload 2"
   ]
  },
  {
   "cell_type": "code",
   "execution_count": 2,
   "metadata": {},
   "outputs": [],
   "source": [
    "import re\n",
    "import numpy as np\n",
    "import pandas as pd\n",
    "from nltk.tokenize import word_tokenize\n",
    "\n",
    "from nlp_surveillance.event_db_preprocessing import event_db\n"
   ]
  },
  {
   "cell_type": "code",
   "execution_count": 81,
   "metadata": {},
   "outputs": [],
   "source": [
    "from nlp_surveillance.pipeline import RecommenderLabeling"
   ]
  },
  {
   "cell_type": "code",
   "execution_count": 86,
   "metadata": {},
   "outputs": [],
   "source": [
    "from nlp_surveillance.pipeline import RecommenderTierAnnotation"
   ]
  },
  {
   "cell_type": "code",
   "execution_count": 111,
   "metadata": {},
   "outputs": [],
   "source": [
    "recommender_tier_df = RecommenderTierAnnotation().data_output()"
   ]
  },
  {
   "cell_type": "code",
   "execution_count": 122,
   "metadata": {},
   "outputs": [
    {
     "data": {
      "text/html": [
       "<div>\n",
       "<style scoped>\n",
       "    .dataframe tbody tr th:only-of-type {\n",
       "        vertical-align: middle;\n",
       "    }\n",
       "\n",
       "    .dataframe tbody tr th {\n",
       "        vertical-align: top;\n",
       "    }\n",
       "\n",
       "    .dataframe thead th {\n",
       "        text-align: right;\n",
       "    }\n",
       "</style>\n",
       "<table border=\"1\" class=\"dataframe\">\n",
       "  <thead>\n",
       "    <tr style=\"text-align: right;\">\n",
       "      <th></th>\n",
       "      <th>counts</th>\n",
       "      <th>date</th>\n",
       "      <th>diseases</th>\n",
       "      <th>geoname</th>\n",
       "      <th>label</th>\n",
       "      <th>text</th>\n",
       "    </tr>\n",
       "  </thead>\n",
       "  <tbody>\n",
       "    <tr>\n",
       "      <th>0</th>\n",
       "      <td>[357, 60]</td>\n",
       "      <td>[[2018-12-06 00:00:00, 2018-12-27 00:00:00], [...</td>\n",
       "      <td>Ebola hemorrhagic fever</td>\n",
       "      <td>Democratic Republic of the Congo</td>\n",
       "      <td>False</td>\n",
       "      <td>Ebola virus disease – Democratic Republic of t...</td>\n",
       "    </tr>\n",
       "    <tr>\n",
       "      <th>1</th>\n",
       "      <td>[1]</td>\n",
       "      <td>[[2018-10-31 00:00:00, 2018-12-01 00:00:00]]</td>\n",
       "      <td>None</td>\n",
       "      <td>Kingdom of Saudi Arabia</td>\n",
       "      <td>False</td>\n",
       "      <td>Middle East respiratory syndrome coronavirus (...</td>\n",
       "    </tr>\n",
       "    <tr>\n",
       "      <th>2</th>\n",
       "      <td>[6, 1, 5]</td>\n",
       "      <td>[[2016-01-01 00:00:00, 2019-01-01 00:00:00]]</td>\n",
       "      <td>typhoid fever</td>\n",
       "      <td>Islamic Republic of Pakistan</td>\n",
       "      <td>False</td>\n",
       "      <td>Typhoid fever – Islamic Republic of PakistanDi...</td>\n",
       "    </tr>\n",
       "    <tr>\n",
       "      <th>3</th>\n",
       "      <td>[18]</td>\n",
       "      <td>[[2018-08-01 00:00:00, 2018-09-01 00:00:00]]</td>\n",
       "      <td>Ebola hemorrhagic fever</td>\n",
       "      <td>Democratic Republic of the Congo</td>\n",
       "      <td>False</td>\n",
       "      <td>Ebola virus disease – Democratic Republic of t...</td>\n",
       "    </tr>\n",
       "    <tr>\n",
       "      <th>4</th>\n",
       "      <td>[1, 1]</td>\n",
       "      <td>[[2018-11-18 00:00:00, 2018-11-19 00:00:00]]</td>\n",
       "      <td>yellow fever</td>\n",
       "      <td>Gambia</td>\n",
       "      <td>False</td>\n",
       "      <td>Yellow Fever – Kingdom of the NetherlandsDisea...</td>\n",
       "    </tr>\n",
       "    <tr>\n",
       "      <th>5</th>\n",
       "      <td>[51, 49, 2, 17]</td>\n",
       "      <td>[[2018-10-01 00:00:00, 2018-11-01 00:00:00]]</td>\n",
       "      <td>Ebola hemorrhagic fever</td>\n",
       "      <td>Democratic Republic of the Congo</td>\n",
       "      <td>False</td>\n",
       "      <td>Ebola virus disease – Democratic Republic of t...</td>\n",
       "    </tr>\n",
       "    <tr>\n",
       "      <th>6</th>\n",
       "      <td>[2, 1, 1]</td>\n",
       "      <td>[[2018-12-01 00:00:00, 2019-01-01 00:00:00]]</td>\n",
       "      <td>Ebola hemorrhagic fever</td>\n",
       "      <td>Democratic Republic of the Congo</td>\n",
       "      <td>False</td>\n",
       "      <td>Ebola virus disease – Democratic Republic of t...</td>\n",
       "    </tr>\n",
       "    <tr>\n",
       "      <th>7</th>\n",
       "      <td>[2, 42]</td>\n",
       "      <td>[[2018-11-27 00:00:00, 2018-11-28 00:00:00]]</td>\n",
       "      <td>Ebola hemorrhagic fever</td>\n",
       "      <td>Democratic Republic of the Congo</td>\n",
       "      <td>False</td>\n",
       "      <td>Ebola virus disease – Democratic Republic of t...</td>\n",
       "    </tr>\n",
       "    <tr>\n",
       "      <th>8</th>\n",
       "      <td>[5, 39]</td>\n",
       "      <td>[[2018-11-01 00:00:00, 2018-12-01 00:00:00]]</td>\n",
       "      <td>Ebola hemorrhagic fever</td>\n",
       "      <td>Democratic Republic of the Congo</td>\n",
       "      <td>False</td>\n",
       "      <td>Ebola virus disease – Democratic Republic of t...</td>\n",
       "    </tr>\n",
       "    <tr>\n",
       "      <th>9</th>\n",
       "      <td>[1]</td>\n",
       "      <td>[[2017-11-01 00:00:00, 2017-12-01 00:00:00], [...</td>\n",
       "      <td>None</td>\n",
       "      <td>Kingdom of Saudi Arabia</td>\n",
       "      <td>False</td>\n",
       "      <td>Middle East respiratory syndrome coronavirus (...</td>\n",
       "    </tr>\n",
       "    <tr>\n",
       "      <th>10</th>\n",
       "      <td>[3, 31]</td>\n",
       "      <td>[[2018-11-13 00:00:00, 2018-11-14 00:00:00]]</td>\n",
       "      <td>Ebola hemorrhagic fever</td>\n",
       "      <td>Democratic Republic of the Congo</td>\n",
       "      <td>False</td>\n",
       "      <td>Ebola virus disease – Democratic Republic of t...</td>\n",
       "    </tr>\n",
       "    <tr>\n",
       "      <th>11</th>\n",
       "      <td>[3, 28]</td>\n",
       "      <td>[[2018-11-07 00:00:00, 2018-11-08 00:00:00]]</td>\n",
       "      <td>Ebola hemorrhagic fever</td>\n",
       "      <td>Democratic Republic of the Congo</td>\n",
       "      <td>False</td>\n",
       "      <td>Ebola virus disease – Democratic Republic of t...</td>\n",
       "    </tr>\n",
       "    <tr>\n",
       "      <th>12</th>\n",
       "      <td>[1]</td>\n",
       "      <td>[[2017-11-01 00:00:00, 2017-12-01 00:00:00], [...</td>\n",
       "      <td>None</td>\n",
       "      <td>Kingdom of Saudi Arabia</td>\n",
       "      <td>False</td>\n",
       "      <td>Middle East respiratory syndrome coronavirus (...</td>\n",
       "    </tr>\n",
       "    <tr>\n",
       "      <th>13</th>\n",
       "      <td>[25298, 8916, 6578]</td>\n",
       "      <td>[[2018-10-30 00:00:00, 2018-10-31 00:00:00]]</td>\n",
       "      <td>Ebola hemorrhagic fever</td>\n",
       "      <td>Democratic Republic of the Congo</td>\n",
       "      <td>False</td>\n",
       "      <td>Ebola virus disease – Democratic Republic of t...</td>\n",
       "    </tr>\n",
       "    <tr>\n",
       "      <th>14</th>\n",
       "      <td>[2, 6, 2, 1]</td>\n",
       "      <td>[[2018-01-01 00:00:00, 2018-02-01 00:00:00]]</td>\n",
       "      <td>poliomyelitis</td>\n",
       "      <td>Federal Republic of Nigeria</td>\n",
       "      <td>True</td>\n",
       "      <td>Circulating vaccine-derived poliovirus type 2 ...</td>\n",
       "    </tr>\n",
       "    <tr>\n",
       "      <th>15</th>\n",
       "      <td>[42, 30, 28]</td>\n",
       "      <td>[[2018-10-21 00:00:00, 2018-10-22 00:00:00]]</td>\n",
       "      <td>Ebola hemorrhagic fever</td>\n",
       "      <td>Democratic Republic of the Congo</td>\n",
       "      <td>False</td>\n",
       "      <td>Ebola virus disease – Democratic Republic of t...</td>\n",
       "    </tr>\n",
       "    <tr>\n",
       "      <th>16</th>\n",
       "      <td>[3]</td>\n",
       "      <td>[[2018-10-17 00:00:00, 2018-10-18 00:00:00]]</td>\n",
       "      <td>Ebola hemorrhagic fever</td>\n",
       "      <td>Democratic Republic of the Congo</td>\n",
       "      <td>False</td>\n",
       "      <td>Ebola virus disease – Democratic Republic of t...</td>\n",
       "    </tr>\n",
       "    <tr>\n",
       "      <th>17</th>\n",
       "      <td>[3]</td>\n",
       "      <td>[[2018-10-01 00:00:00, 2018-11-01 00:00:00], [...</td>\n",
       "      <td>chikungunya</td>\n",
       "      <td>Republic of the Sudan</td>\n",
       "      <td>False</td>\n",
       "      <td>Disease outbreak news15 October 2018On 31 May ...</td>\n",
       "    </tr>\n",
       "    <tr>\n",
       "      <th>18</th>\n",
       "      <td>[12]</td>\n",
       "      <td>[[2018-10-10 00:00:00, 2018-10-11 00:00:00]]</td>\n",
       "      <td>Ebola hemorrhagic fever</td>\n",
       "      <td>Democratic Republic of the Congo</td>\n",
       "      <td>False</td>\n",
       "      <td>Ebola virus disease – Democratic Republic of t...</td>\n",
       "    </tr>\n",
       "    <tr>\n",
       "      <th>19</th>\n",
       "      <td>[135]</td>\n",
       "      <td>[[2018-10-03 00:00:00, 2018-10-04 00:00:00], [...</td>\n",
       "      <td>cholera</td>\n",
       "      <td>Republic of Zimbabwe</td>\n",
       "      <td>False</td>\n",
       "      <td>Disease outbreak news: Update5 October 2018Sin...</td>\n",
       "    </tr>\n",
       "    <tr>\n",
       "      <th>20</th>\n",
       "      <td>[6]</td>\n",
       "      <td>[[2018-08-01 00:00:00, 2018-09-01 00:00:00], [...</td>\n",
       "      <td>cholera</td>\n",
       "      <td>Republic of Niger</td>\n",
       "      <td>False</td>\n",
       "      <td>Disease outbreak news: Update5 October 2018On ...</td>\n",
       "    </tr>\n",
       "    <tr>\n",
       "      <th>21</th>\n",
       "      <td>[2]</td>\n",
       "      <td>[[2018-01-01 00:00:00, 2019-01-01 00:00:00]]</td>\n",
       "      <td>monkeypox</td>\n",
       "      <td>Federal Republic of Nigeria</td>\n",
       "      <td>True</td>\n",
       "      <td>Disease outbreak news5 October 2018On 26 Septe...</td>\n",
       "    </tr>\n",
       "    <tr>\n",
       "      <th>22</th>\n",
       "      <td>[13758, 5678, 2915]</td>\n",
       "      <td>[[2018-10-01 00:00:00, 2018-10-02 00:00:00]]</td>\n",
       "      <td>Ebola hemorrhagic fever</td>\n",
       "      <td>Democratic Republic of the Congo</td>\n",
       "      <td>False</td>\n",
       "      <td>Ebola virus disease – Democratic Republic of t...</td>\n",
       "    </tr>\n",
       "    <tr>\n",
       "      <th>23</th>\n",
       "      <td>[1]</td>\n",
       "      <td>[[2017-10-01 00:00:00, 2017-11-01 00:00:00], [...</td>\n",
       "      <td>None</td>\n",
       "      <td>Kingdom of Saudi Arabia</td>\n",
       "      <td>False</td>\n",
       "      <td>Middle East respiratory syndrome coronavirus (...</td>\n",
       "    </tr>\n",
       "    <tr>\n",
       "      <th>24</th>\n",
       "      <td>[12029, 5041, 2497]</td>\n",
       "      <td>[[2018-09-24 00:00:00, 2018-09-25 00:00:00]]</td>\n",
       "      <td>Ebola hemorrhagic fever</td>\n",
       "      <td>Democratic Republic of the Congo</td>\n",
       "      <td>False</td>\n",
       "      <td>Ebola virus disease – Democratic Republic of t...</td>\n",
       "    </tr>\n",
       "    <tr>\n",
       "      <th>25</th>\n",
       "      <td>[10701, 4008, 2362]</td>\n",
       "      <td>[[2018-09-18 00:00:00, 2018-09-19 00:00:00]]</td>\n",
       "      <td>Ebola hemorrhagic fever</td>\n",
       "      <td>Democratic Republic of the Congo</td>\n",
       "      <td>False</td>\n",
       "      <td>Ebola virus disease – Democratic Republic of t...</td>\n",
       "    </tr>\n",
       "    <tr>\n",
       "      <th>26</th>\n",
       "      <td>[1, 1, 1, 5]</td>\n",
       "      <td>[[2018-09-05 00:00:00, 2018-09-06 00:00:00]]</td>\n",
       "      <td>cholera</td>\n",
       "      <td>Republic of Zimbabwe</td>\n",
       "      <td>False</td>\n",
       "      <td>Disease outbreak news20 September 2018On 6 Sep...</td>\n",
       "    </tr>\n",
       "    <tr>\n",
       "      <th>27</th>\n",
       "      <td>[3, 10]</td>\n",
       "      <td>[[2018-07-01 00:00:00, 2018-08-24 00:00:00]]</td>\n",
       "      <td>cholera</td>\n",
       "      <td>People’s Democratic Republic of Algeria</td>\n",
       "      <td>False</td>\n",
       "      <td>Disease outbreak news14 September 2018On 23 Au...</td>\n",
       "    </tr>\n",
       "    <tr>\n",
       "      <th>28</th>\n",
       "      <td>[19, 18, 3]</td>\n",
       "      <td>[[2017-09-13 00:00:00, 2017-09-14 00:00:00]]</td>\n",
       "      <td>Ebola hemorrhagic fever</td>\n",
       "      <td>Democratic Republic of the Congo</td>\n",
       "      <td>False</td>\n",
       "      <td>Ebola virus disease – Democratic Republic of t...</td>\n",
       "    </tr>\n",
       "    <tr>\n",
       "      <th>29</th>\n",
       "      <td>[1]</td>\n",
       "      <td>[[2018-09-01 00:00:00, 2018-10-01 00:00:00], [...</td>\n",
       "      <td>None</td>\n",
       "      <td>Republic of Korea</td>\n",
       "      <td>False</td>\n",
       "      <td>Middle East respiratory syndrome coronavirus (...</td>\n",
       "    </tr>\n",
       "    <tr>\n",
       "      <th>...</th>\n",
       "      <td>...</td>\n",
       "      <td>...</td>\n",
       "      <td>...</td>\n",
       "      <td>...</td>\n",
       "      <td>...</td>\n",
       "      <td>...</td>\n",
       "    </tr>\n",
       "    <tr>\n",
       "      <th>3202</th>\n",
       "      <td>[2017, 2016, 2014, 15, 14, 13, 12, 11, 10, 201...</td>\n",
       "      <td>[[2017-01-01 00:00:00, 2018-01-01 00:00:00], [...</td>\n",
       "      <td>None</td>\n",
       "      <td>United States</td>\n",
       "      <td>False</td>\n",
       "      <td>Tainted drug - USA: injectable arthritis gel, ...</td>\n",
       "    </tr>\n",
       "    <tr>\n",
       "      <th>3203</th>\n",
       "      <td>[1, 1]</td>\n",
       "      <td>[[2017-12-22 00:00:00, 2017-12-23 00:00:00]]</td>\n",
       "      <td>None</td>\n",
       "      <td>Republic of Uganda</td>\n",
       "      <td>False</td>\n",
       "      <td>ProMED-mail is a program of the International ...</td>\n",
       "    </tr>\n",
       "    <tr>\n",
       "      <th>3204</th>\n",
       "      <td>[100]</td>\n",
       "      <td>[[2018-01-04 00:00:00, 2018-01-05 00:00:00], [...</td>\n",
       "      <td>scrub typhus</td>\n",
       "      <td>Republic of India</td>\n",
       "      <td>False</td>\n",
       "      <td>ProMED-mail is a program of the International ...</td>\n",
       "    </tr>\n",
       "    <tr>\n",
       "      <th>3205</th>\n",
       "      <td>[2017]</td>\n",
       "      <td>[[2014-01-01 00:00:00, 2016-01-01 00:00:00]]</td>\n",
       "      <td>chikungunya</td>\n",
       "      <td>Republic of Colombia</td>\n",
       "      <td>False</td>\n",
       "      <td>Date: Wed 20 Dec 2017 Source: Arthritis and Rh...</td>\n",
       "    </tr>\n",
       "    <tr>\n",
       "      <th>3206</th>\n",
       "      <td>[2018]</td>\n",
       "      <td>[[2018-01-01 00:00:00, 2019-01-01 00:00:00]]</td>\n",
       "      <td>tuberculosis</td>\n",
       "      <td>United States</td>\n",
       "      <td>False</td>\n",
       "      <td>ProMED-mail is a program of the International ...</td>\n",
       "    </tr>\n",
       "    <tr>\n",
       "      <th>3207</th>\n",
       "      <td>[1]</td>\n",
       "      <td>[[2018-01-05 00:00:00, 2018-01-06 00:00:00]]</td>\n",
       "      <td>measles</td>\n",
       "      <td>Taiwan</td>\n",
       "      <td>False</td>\n",
       "      <td>Khyber Agency, Federally Administered Tribal A...</td>\n",
       "    </tr>\n",
       "    <tr>\n",
       "      <th>3208</th>\n",
       "      <td>[2016, 2014, 15, 14, 13, 12, 11, 10, 2012, 17,...</td>\n",
       "      <td>[[2016-01-01 00:00:00, 2017-01-01 00:00:00], [...</td>\n",
       "      <td>None</td>\n",
       "      <td>United States</td>\n",
       "      <td>False</td>\n",
       "      <td>Fungal infection, contaminated drug - USA: (NC...</td>\n",
       "    </tr>\n",
       "    <tr>\n",
       "      <th>3209</th>\n",
       "      <td>[2017]</td>\n",
       "      <td>[[2017-01-01 00:00:00, 2017-02-01 00:00:00], [...</td>\n",
       "      <td>None</td>\n",
       "      <td>United Kingdom of Great Britain and Northern I...</td>\n",
       "      <td>False</td>\n",
       "      <td>ProMED-mail is a program of the International ...</td>\n",
       "    </tr>\n",
       "    <tr>\n",
       "      <th>3210</th>\n",
       "      <td>[18, 2016, 19]</td>\n",
       "      <td>[[2000-01-01 00:00:00, 2018-08-22 14:21:25.231...</td>\n",
       "      <td>plague</td>\n",
       "      <td>State of Israel</td>\n",
       "      <td>False</td>\n",
       "      <td>ProMED-mail &lt;promed@promedmail.org&gt; [Peste des...</td>\n",
       "    </tr>\n",
       "    <tr>\n",
       "      <th>3211</th>\n",
       "      <td>[642962, 3]</td>\n",
       "      <td>[[2017-01-04 00:00:00, 2017-01-05 00:00:00]]</td>\n",
       "      <td>avian influenza</td>\n",
       "      <td>Kingdom of Saudi Arabia</td>\n",
       "      <td>False</td>\n",
       "      <td>[1] Riyadh, Al-Kharj and Al-Ahsaa [2] Makkah [...</td>\n",
       "    </tr>\n",
       "    <tr>\n",
       "      <th>3212</th>\n",
       "      <td>[2017, 12]</td>\n",
       "      <td>[[2017-01-01 00:00:00, 2018-01-01 00:00:00]]</td>\n",
       "      <td>poliomyelitis</td>\n",
       "      <td>Islamic Republic of Afghanistan</td>\n",
       "      <td>False</td>\n",
       "      <td>ProMED-mail is a program of the International ...</td>\n",
       "    </tr>\n",
       "    <tr>\n",
       "      <th>3213</th>\n",
       "      <td>[1, 75]</td>\n",
       "      <td>[[2017-11-26 00:00:00, 2017-12-03 00:00:00]]</td>\n",
       "      <td>diphtheria</td>\n",
       "      <td>Bangladesh</td>\n",
       "      <td>False</td>\n",
       "      <td>ProMED-mail is a program of the International ...</td>\n",
       "    </tr>\n",
       "    <tr>\n",
       "      <th>3214</th>\n",
       "      <td>None</td>\n",
       "      <td>None</td>\n",
       "      <td>None</td>\n",
       "      <td>New Zealand</td>\n",
       "      <td>False</td>\n",
       "      <td>https://ibisbiosecurity.org/ [Only a few membe...</td>\n",
       "    </tr>\n",
       "    <tr>\n",
       "      <th>3215</th>\n",
       "      <td>[3]</td>\n",
       "      <td>[[2005-01-01 00:00:00, 2006-01-01 00:00:00]]</td>\n",
       "      <td>Kyasanur forest disease</td>\n",
       "      <td>Republic of India</td>\n",
       "      <td>False</td>\n",
       "      <td>ProMED-mail is a program of the International ...</td>\n",
       "    </tr>\n",
       "    <tr>\n",
       "      <th>3216</th>\n",
       "      <td>[2000000]</td>\n",
       "      <td>[[2017-12-01 00:00:00, 2018-01-01 00:00:00]]</td>\n",
       "      <td>brucellosis</td>\n",
       "      <td>Republic of Paraguay</td>\n",
       "      <td>False</td>\n",
       "      <td>ProMED-mail is a program of the International ...</td>\n",
       "    </tr>\n",
       "    <tr>\n",
       "      <th>3217</th>\n",
       "      <td>[2017, 74]</td>\n",
       "      <td>[[1999-01-01 00:00:00, 2019-02-20 14:22:18.125...</td>\n",
       "      <td>rabies</td>\n",
       "      <td>State of Israel</td>\n",
       "      <td>False</td>\n",
       "      <td>Date: Wed 3 Jan 2017 6:30 PM IST Source: The Y...</td>\n",
       "    </tr>\n",
       "    <tr>\n",
       "      <th>3218</th>\n",
       "      <td>[3, 1, 2, 3]</td>\n",
       "      <td>None</td>\n",
       "      <td>listeriosis</td>\n",
       "      <td>Republic of India</td>\n",
       "      <td>False</td>\n",
       "      <td>&lt;promed@promedmail.org&gt; [This is great news, a...</td>\n",
       "    </tr>\n",
       "    <tr>\n",
       "      <th>3219</th>\n",
       "      <td>[719, 42, 543, 123]</td>\n",
       "      <td>[[2017-01-02 00:00:00, 2017-01-03 00:00:00]]</td>\n",
       "      <td>influenza</td>\n",
       "      <td>Islamic Republic of Pakistan</td>\n",
       "      <td>False</td>\n",
       "      <td>Date: Wed 3 Jan 2018 Source: The News [edited]...</td>\n",
       "    </tr>\n",
       "    <tr>\n",
       "      <th>3220</th>\n",
       "      <td>[35]</td>\n",
       "      <td>[[2016-10-01 00:00:00, 2016-11-01 00:00:00]]</td>\n",
       "      <td>salmonellosis</td>\n",
       "      <td>Commonwealth of Australia</td>\n",
       "      <td>False</td>\n",
       "      <td>ProMED-mail is a program of the International ...</td>\n",
       "    </tr>\n",
       "    <tr>\n",
       "      <th>3221</th>\n",
       "      <td>[176, 172, 170, 168, 164, 162, 159, 142, 90, 6...</td>\n",
       "      <td>[[2016-01-01 00:00:00, 2017-01-01 00:00:00], [...</td>\n",
       "      <td>avian influenza</td>\n",
       "      <td>People’s Republic of China</td>\n",
       "      <td>False</td>\n",
       "      <td>Avian influenza (176): South Korea (CB) HPAI H...</td>\n",
       "    </tr>\n",
       "    <tr>\n",
       "      <th>3222</th>\n",
       "      <td>[1]</td>\n",
       "      <td>[[2017-12-27 00:00:00, 2017-12-28 00:00:00]]</td>\n",
       "      <td>None</td>\n",
       "      <td>Republic of France</td>\n",
       "      <td>False</td>\n",
       "      <td>Source: OIE, WAHID weekly disease information ...</td>\n",
       "    </tr>\n",
       "    <tr>\n",
       "      <th>3223</th>\n",
       "      <td>[1, 2]</td>\n",
       "      <td>[[2017-01-01 00:00:00, 2018-01-01 00:00:00], [...</td>\n",
       "      <td>cholera</td>\n",
       "      <td>Republic of India</td>\n",
       "      <td>False</td>\n",
       "      <td>[7] Cholera - India (Karnataka State) Date: Su...</td>\n",
       "    </tr>\n",
       "    <tr>\n",
       "      <th>3224</th>\n",
       "      <td>[1]</td>\n",
       "      <td>[[2017-01-01 00:00:00, 2018-01-01 00:00:00], [...</td>\n",
       "      <td>avian influenza</td>\n",
       "      <td>Arab Republic of Egypt</td>\n",
       "      <td>False</td>\n",
       "      <td>ProMED-mail is a program of the International ...</td>\n",
       "    </tr>\n",
       "    <tr>\n",
       "      <th>3225</th>\n",
       "      <td>[1, 1]</td>\n",
       "      <td>[[2017-01-01 00:00:00, 2018-01-01 00:00:00]]</td>\n",
       "      <td>viral infectious disease</td>\n",
       "      <td>Federative Republic of Brazil</td>\n",
       "      <td>False</td>\n",
       "      <td>[10] B- and T-cell response in a primary Zika ...</td>\n",
       "    </tr>\n",
       "    <tr>\n",
       "      <th>3226</th>\n",
       "      <td>[10, 5]</td>\n",
       "      <td>[[2017-12-22 00:00:00, 2017-12-23 00:00:00], [...</td>\n",
       "      <td>None</td>\n",
       "      <td>United Arab Emirates</td>\n",
       "      <td>False</td>\n",
       "      <td>[ProMED-mail apologizes for the delay in posti...</td>\n",
       "    </tr>\n",
       "    <tr>\n",
       "      <th>3227</th>\n",
       "      <td>[28]</td>\n",
       "      <td>[[2017-01-01 00:00:00, 2018-01-01 00:00:00]]</td>\n",
       "      <td>pertussis</td>\n",
       "      <td>New Zealand</td>\n",
       "      <td>False</td>\n",
       "      <td>Date: Sat 30 Dec 2017 8:32 AM NZDT Source: Gis...</td>\n",
       "    </tr>\n",
       "    <tr>\n",
       "      <th>3228</th>\n",
       "      <td>[359, 120]</td>\n",
       "      <td>[[4903-01-01 00:00:00, 4904-01-01 00:00:00]]</td>\n",
       "      <td>avian influenza</td>\n",
       "      <td>Arab Republic of Egypt</td>\n",
       "      <td>False</td>\n",
       "      <td>ProMED-mail is a program of the International ...</td>\n",
       "    </tr>\n",
       "    <tr>\n",
       "      <th>3229</th>\n",
       "      <td>[5]</td>\n",
       "      <td>[[2017-01-01 00:00:00, 2019-01-01 00:00:00]]</td>\n",
       "      <td>influenza</td>\n",
       "      <td>Islamic Republic of Pakistan</td>\n",
       "      <td>False</td>\n",
       "      <td>ProMED-mail is a program of the International ...</td>\n",
       "    </tr>\n",
       "    <tr>\n",
       "      <th>3230</th>\n",
       "      <td>[2017, 6]</td>\n",
       "      <td>[[2017-01-01 00:00:00, 2018-01-01 00:00:00]]</td>\n",
       "      <td>dengue disease</td>\n",
       "      <td>United States</td>\n",
       "      <td>False</td>\n",
       "      <td>Date: Thu 7 Dec 2017 Source: Phys.org, Johns H...</td>\n",
       "    </tr>\n",
       "    <tr>\n",
       "      <th>3231</th>\n",
       "      <td>[7000, 2017, 3735]</td>\n",
       "      <td>[[2018-02-01 00:00:00, 2019-02-22 14:23:33.447...</td>\n",
       "      <td>chikungunya</td>\n",
       "      <td>Commonwealth of Australia</td>\n",
       "      <td>False</td>\n",
       "      <td>ProMED-mail is a program of the International ...</td>\n",
       "    </tr>\n",
       "  </tbody>\n",
       "</table>\n",
       "<p>3232 rows × 6 columns</p>\n",
       "</div>"
      ],
      "text/plain": [
       "                                                 counts  \\\n",
       "0                                             [357, 60]   \n",
       "1                                                   [1]   \n",
       "2                                             [6, 1, 5]   \n",
       "3                                                  [18]   \n",
       "4                                                [1, 1]   \n",
       "5                                       [51, 49, 2, 17]   \n",
       "6                                             [2, 1, 1]   \n",
       "7                                               [2, 42]   \n",
       "8                                               [5, 39]   \n",
       "9                                                   [1]   \n",
       "10                                              [3, 31]   \n",
       "11                                              [3, 28]   \n",
       "12                                                  [1]   \n",
       "13                                  [25298, 8916, 6578]   \n",
       "14                                         [2, 6, 2, 1]   \n",
       "15                                         [42, 30, 28]   \n",
       "16                                                  [3]   \n",
       "17                                                  [3]   \n",
       "18                                                 [12]   \n",
       "19                                                [135]   \n",
       "20                                                  [6]   \n",
       "21                                                  [2]   \n",
       "22                                  [13758, 5678, 2915]   \n",
       "23                                                  [1]   \n",
       "24                                  [12029, 5041, 2497]   \n",
       "25                                  [10701, 4008, 2362]   \n",
       "26                                         [1, 1, 1, 5]   \n",
       "27                                              [3, 10]   \n",
       "28                                          [19, 18, 3]   \n",
       "29                                                  [1]   \n",
       "...                                                 ...   \n",
       "3202  [2017, 2016, 2014, 15, 14, 13, 12, 11, 10, 201...   \n",
       "3203                                             [1, 1]   \n",
       "3204                                              [100]   \n",
       "3205                                             [2017]   \n",
       "3206                                             [2018]   \n",
       "3207                                                [1]   \n",
       "3208  [2016, 2014, 15, 14, 13, 12, 11, 10, 2012, 17,...   \n",
       "3209                                             [2017]   \n",
       "3210                                     [18, 2016, 19]   \n",
       "3211                                        [642962, 3]   \n",
       "3212                                         [2017, 12]   \n",
       "3213                                            [1, 75]   \n",
       "3214                                               None   \n",
       "3215                                                [3]   \n",
       "3216                                          [2000000]   \n",
       "3217                                         [2017, 74]   \n",
       "3218                                       [3, 1, 2, 3]   \n",
       "3219                                [719, 42, 543, 123]   \n",
       "3220                                               [35]   \n",
       "3221  [176, 172, 170, 168, 164, 162, 159, 142, 90, 6...   \n",
       "3222                                                [1]   \n",
       "3223                                             [1, 2]   \n",
       "3224                                                [1]   \n",
       "3225                                             [1, 1]   \n",
       "3226                                            [10, 5]   \n",
       "3227                                               [28]   \n",
       "3228                                         [359, 120]   \n",
       "3229                                                [5]   \n",
       "3230                                          [2017, 6]   \n",
       "3231                                 [7000, 2017, 3735]   \n",
       "\n",
       "                                                   date  \\\n",
       "0     [[2018-12-06 00:00:00, 2018-12-27 00:00:00], [...   \n",
       "1          [[2018-10-31 00:00:00, 2018-12-01 00:00:00]]   \n",
       "2          [[2016-01-01 00:00:00, 2019-01-01 00:00:00]]   \n",
       "3          [[2018-08-01 00:00:00, 2018-09-01 00:00:00]]   \n",
       "4          [[2018-11-18 00:00:00, 2018-11-19 00:00:00]]   \n",
       "5          [[2018-10-01 00:00:00, 2018-11-01 00:00:00]]   \n",
       "6          [[2018-12-01 00:00:00, 2019-01-01 00:00:00]]   \n",
       "7          [[2018-11-27 00:00:00, 2018-11-28 00:00:00]]   \n",
       "8          [[2018-11-01 00:00:00, 2018-12-01 00:00:00]]   \n",
       "9     [[2017-11-01 00:00:00, 2017-12-01 00:00:00], [...   \n",
       "10         [[2018-11-13 00:00:00, 2018-11-14 00:00:00]]   \n",
       "11         [[2018-11-07 00:00:00, 2018-11-08 00:00:00]]   \n",
       "12    [[2017-11-01 00:00:00, 2017-12-01 00:00:00], [...   \n",
       "13         [[2018-10-30 00:00:00, 2018-10-31 00:00:00]]   \n",
       "14         [[2018-01-01 00:00:00, 2018-02-01 00:00:00]]   \n",
       "15         [[2018-10-21 00:00:00, 2018-10-22 00:00:00]]   \n",
       "16         [[2018-10-17 00:00:00, 2018-10-18 00:00:00]]   \n",
       "17    [[2018-10-01 00:00:00, 2018-11-01 00:00:00], [...   \n",
       "18         [[2018-10-10 00:00:00, 2018-10-11 00:00:00]]   \n",
       "19    [[2018-10-03 00:00:00, 2018-10-04 00:00:00], [...   \n",
       "20    [[2018-08-01 00:00:00, 2018-09-01 00:00:00], [...   \n",
       "21         [[2018-01-01 00:00:00, 2019-01-01 00:00:00]]   \n",
       "22         [[2018-10-01 00:00:00, 2018-10-02 00:00:00]]   \n",
       "23    [[2017-10-01 00:00:00, 2017-11-01 00:00:00], [...   \n",
       "24         [[2018-09-24 00:00:00, 2018-09-25 00:00:00]]   \n",
       "25         [[2018-09-18 00:00:00, 2018-09-19 00:00:00]]   \n",
       "26         [[2018-09-05 00:00:00, 2018-09-06 00:00:00]]   \n",
       "27         [[2018-07-01 00:00:00, 2018-08-24 00:00:00]]   \n",
       "28         [[2017-09-13 00:00:00, 2017-09-14 00:00:00]]   \n",
       "29    [[2018-09-01 00:00:00, 2018-10-01 00:00:00], [...   \n",
       "...                                                 ...   \n",
       "3202  [[2017-01-01 00:00:00, 2018-01-01 00:00:00], [...   \n",
       "3203       [[2017-12-22 00:00:00, 2017-12-23 00:00:00]]   \n",
       "3204  [[2018-01-04 00:00:00, 2018-01-05 00:00:00], [...   \n",
       "3205       [[2014-01-01 00:00:00, 2016-01-01 00:00:00]]   \n",
       "3206       [[2018-01-01 00:00:00, 2019-01-01 00:00:00]]   \n",
       "3207       [[2018-01-05 00:00:00, 2018-01-06 00:00:00]]   \n",
       "3208  [[2016-01-01 00:00:00, 2017-01-01 00:00:00], [...   \n",
       "3209  [[2017-01-01 00:00:00, 2017-02-01 00:00:00], [...   \n",
       "3210  [[2000-01-01 00:00:00, 2018-08-22 14:21:25.231...   \n",
       "3211       [[2017-01-04 00:00:00, 2017-01-05 00:00:00]]   \n",
       "3212       [[2017-01-01 00:00:00, 2018-01-01 00:00:00]]   \n",
       "3213       [[2017-11-26 00:00:00, 2017-12-03 00:00:00]]   \n",
       "3214                                               None   \n",
       "3215       [[2005-01-01 00:00:00, 2006-01-01 00:00:00]]   \n",
       "3216       [[2017-12-01 00:00:00, 2018-01-01 00:00:00]]   \n",
       "3217  [[1999-01-01 00:00:00, 2019-02-20 14:22:18.125...   \n",
       "3218                                               None   \n",
       "3219       [[2017-01-02 00:00:00, 2017-01-03 00:00:00]]   \n",
       "3220       [[2016-10-01 00:00:00, 2016-11-01 00:00:00]]   \n",
       "3221  [[2016-01-01 00:00:00, 2017-01-01 00:00:00], [...   \n",
       "3222       [[2017-12-27 00:00:00, 2017-12-28 00:00:00]]   \n",
       "3223  [[2017-01-01 00:00:00, 2018-01-01 00:00:00], [...   \n",
       "3224  [[2017-01-01 00:00:00, 2018-01-01 00:00:00], [...   \n",
       "3225       [[2017-01-01 00:00:00, 2018-01-01 00:00:00]]   \n",
       "3226  [[2017-12-22 00:00:00, 2017-12-23 00:00:00], [...   \n",
       "3227       [[2017-01-01 00:00:00, 2018-01-01 00:00:00]]   \n",
       "3228       [[4903-01-01 00:00:00, 4904-01-01 00:00:00]]   \n",
       "3229       [[2017-01-01 00:00:00, 2019-01-01 00:00:00]]   \n",
       "3230       [[2017-01-01 00:00:00, 2018-01-01 00:00:00]]   \n",
       "3231  [[2018-02-01 00:00:00, 2019-02-22 14:23:33.447...   \n",
       "\n",
       "                      diseases  \\\n",
       "0      Ebola hemorrhagic fever   \n",
       "1                         None   \n",
       "2                typhoid fever   \n",
       "3      Ebola hemorrhagic fever   \n",
       "4                 yellow fever   \n",
       "5      Ebola hemorrhagic fever   \n",
       "6      Ebola hemorrhagic fever   \n",
       "7      Ebola hemorrhagic fever   \n",
       "8      Ebola hemorrhagic fever   \n",
       "9                         None   \n",
       "10     Ebola hemorrhagic fever   \n",
       "11     Ebola hemorrhagic fever   \n",
       "12                        None   \n",
       "13     Ebola hemorrhagic fever   \n",
       "14               poliomyelitis   \n",
       "15     Ebola hemorrhagic fever   \n",
       "16     Ebola hemorrhagic fever   \n",
       "17                 chikungunya   \n",
       "18     Ebola hemorrhagic fever   \n",
       "19                     cholera   \n",
       "20                     cholera   \n",
       "21                   monkeypox   \n",
       "22     Ebola hemorrhagic fever   \n",
       "23                        None   \n",
       "24     Ebola hemorrhagic fever   \n",
       "25     Ebola hemorrhagic fever   \n",
       "26                     cholera   \n",
       "27                     cholera   \n",
       "28     Ebola hemorrhagic fever   \n",
       "29                        None   \n",
       "...                        ...   \n",
       "3202                      None   \n",
       "3203                      None   \n",
       "3204              scrub typhus   \n",
       "3205               chikungunya   \n",
       "3206              tuberculosis   \n",
       "3207                   measles   \n",
       "3208                      None   \n",
       "3209                      None   \n",
       "3210                    plague   \n",
       "3211           avian influenza   \n",
       "3212             poliomyelitis   \n",
       "3213                diphtheria   \n",
       "3214                      None   \n",
       "3215   Kyasanur forest disease   \n",
       "3216               brucellosis   \n",
       "3217                    rabies   \n",
       "3218               listeriosis   \n",
       "3219                 influenza   \n",
       "3220             salmonellosis   \n",
       "3221           avian influenza   \n",
       "3222                      None   \n",
       "3223                   cholera   \n",
       "3224           avian influenza   \n",
       "3225  viral infectious disease   \n",
       "3226                      None   \n",
       "3227                 pertussis   \n",
       "3228           avian influenza   \n",
       "3229                 influenza   \n",
       "3230            dengue disease   \n",
       "3231               chikungunya   \n",
       "\n",
       "                                                geoname  label  \\\n",
       "0                      Democratic Republic of the Congo  False   \n",
       "1                               Kingdom of Saudi Arabia  False   \n",
       "2                          Islamic Republic of Pakistan  False   \n",
       "3                      Democratic Republic of the Congo  False   \n",
       "4                                                Gambia  False   \n",
       "5                      Democratic Republic of the Congo  False   \n",
       "6                      Democratic Republic of the Congo  False   \n",
       "7                      Democratic Republic of the Congo  False   \n",
       "8                      Democratic Republic of the Congo  False   \n",
       "9                               Kingdom of Saudi Arabia  False   \n",
       "10                     Democratic Republic of the Congo  False   \n",
       "11                     Democratic Republic of the Congo  False   \n",
       "12                              Kingdom of Saudi Arabia  False   \n",
       "13                     Democratic Republic of the Congo  False   \n",
       "14                          Federal Republic of Nigeria   True   \n",
       "15                     Democratic Republic of the Congo  False   \n",
       "16                     Democratic Republic of the Congo  False   \n",
       "17                                Republic of the Sudan  False   \n",
       "18                     Democratic Republic of the Congo  False   \n",
       "19                                 Republic of Zimbabwe  False   \n",
       "20                                    Republic of Niger  False   \n",
       "21                          Federal Republic of Nigeria   True   \n",
       "22                     Democratic Republic of the Congo  False   \n",
       "23                              Kingdom of Saudi Arabia  False   \n",
       "24                     Democratic Republic of the Congo  False   \n",
       "25                     Democratic Republic of the Congo  False   \n",
       "26                                 Republic of Zimbabwe  False   \n",
       "27              People’s Democratic Republic of Algeria  False   \n",
       "28                     Democratic Republic of the Congo  False   \n",
       "29                                    Republic of Korea  False   \n",
       "...                                                 ...    ...   \n",
       "3202                                      United States  False   \n",
       "3203                                 Republic of Uganda  False   \n",
       "3204                                  Republic of India  False   \n",
       "3205                               Republic of Colombia  False   \n",
       "3206                                      United States  False   \n",
       "3207                                             Taiwan  False   \n",
       "3208                                      United States  False   \n",
       "3209  United Kingdom of Great Britain and Northern I...  False   \n",
       "3210                                    State of Israel  False   \n",
       "3211                            Kingdom of Saudi Arabia  False   \n",
       "3212                    Islamic Republic of Afghanistan  False   \n",
       "3213                                         Bangladesh  False   \n",
       "3214                                        New Zealand  False   \n",
       "3215                                  Republic of India  False   \n",
       "3216                               Republic of Paraguay  False   \n",
       "3217                                    State of Israel  False   \n",
       "3218                                  Republic of India  False   \n",
       "3219                       Islamic Republic of Pakistan  False   \n",
       "3220                          Commonwealth of Australia  False   \n",
       "3221                         People’s Republic of China  False   \n",
       "3222                                 Republic of France  False   \n",
       "3223                                  Republic of India  False   \n",
       "3224                             Arab Republic of Egypt  False   \n",
       "3225                      Federative Republic of Brazil  False   \n",
       "3226                               United Arab Emirates  False   \n",
       "3227                                        New Zealand  False   \n",
       "3228                             Arab Republic of Egypt  False   \n",
       "3229                       Islamic Republic of Pakistan  False   \n",
       "3230                                      United States  False   \n",
       "3231                          Commonwealth of Australia  False   \n",
       "\n",
       "                                                   text  \n",
       "0     Ebola virus disease – Democratic Republic of t...  \n",
       "1     Middle East respiratory syndrome coronavirus (...  \n",
       "2     Typhoid fever – Islamic Republic of PakistanDi...  \n",
       "3     Ebola virus disease – Democratic Republic of t...  \n",
       "4     Yellow Fever – Kingdom of the NetherlandsDisea...  \n",
       "5     Ebola virus disease – Democratic Republic of t...  \n",
       "6     Ebola virus disease – Democratic Republic of t...  \n",
       "7     Ebola virus disease – Democratic Republic of t...  \n",
       "8     Ebola virus disease – Democratic Republic of t...  \n",
       "9     Middle East respiratory syndrome coronavirus (...  \n",
       "10    Ebola virus disease – Democratic Republic of t...  \n",
       "11    Ebola virus disease – Democratic Republic of t...  \n",
       "12    Middle East respiratory syndrome coronavirus (...  \n",
       "13    Ebola virus disease – Democratic Republic of t...  \n",
       "14    Circulating vaccine-derived poliovirus type 2 ...  \n",
       "15    Ebola virus disease – Democratic Republic of t...  \n",
       "16    Ebola virus disease – Democratic Republic of t...  \n",
       "17    Disease outbreak news15 October 2018On 31 May ...  \n",
       "18    Ebola virus disease – Democratic Republic of t...  \n",
       "19    Disease outbreak news: Update5 October 2018Sin...  \n",
       "20    Disease outbreak news: Update5 October 2018On ...  \n",
       "21    Disease outbreak news5 October 2018On 26 Septe...  \n",
       "22    Ebola virus disease – Democratic Republic of t...  \n",
       "23    Middle East respiratory syndrome coronavirus (...  \n",
       "24    Ebola virus disease – Democratic Republic of t...  \n",
       "25    Ebola virus disease – Democratic Republic of t...  \n",
       "26    Disease outbreak news20 September 2018On 6 Sep...  \n",
       "27    Disease outbreak news14 September 2018On 23 Au...  \n",
       "28    Ebola virus disease – Democratic Republic of t...  \n",
       "29    Middle East respiratory syndrome coronavirus (...  \n",
       "...                                                 ...  \n",
       "3202  Tainted drug - USA: injectable arthritis gel, ...  \n",
       "3203  ProMED-mail is a program of the International ...  \n",
       "3204  ProMED-mail is a program of the International ...  \n",
       "3205  Date: Wed 20 Dec 2017 Source: Arthritis and Rh...  \n",
       "3206  ProMED-mail is a program of the International ...  \n",
       "3207  Khyber Agency, Federally Administered Tribal A...  \n",
       "3208  Fungal infection, contaminated drug - USA: (NC...  \n",
       "3209  ProMED-mail is a program of the International ...  \n",
       "3210  ProMED-mail <promed@promedmail.org> [Peste des...  \n",
       "3211  [1] Riyadh, Al-Kharj and Al-Ahsaa [2] Makkah [...  \n",
       "3212  ProMED-mail is a program of the International ...  \n",
       "3213  ProMED-mail is a program of the International ...  \n",
       "3214  https://ibisbiosecurity.org/ [Only a few membe...  \n",
       "3215  ProMED-mail is a program of the International ...  \n",
       "3216  ProMED-mail is a program of the International ...  \n",
       "3217  Date: Wed 3 Jan 2017 6:30 PM IST Source: The Y...  \n",
       "3218  <promed@promedmail.org> [This is great news, a...  \n",
       "3219  Date: Wed 3 Jan 2018 Source: The News [edited]...  \n",
       "3220  ProMED-mail is a program of the International ...  \n",
       "3221  Avian influenza (176): South Korea (CB) HPAI H...  \n",
       "3222  Source: OIE, WAHID weekly disease information ...  \n",
       "3223  [7] Cholera - India (Karnataka State) Date: Su...  \n",
       "3224  ProMED-mail is a program of the International ...  \n",
       "3225  [10] B- and T-cell response in a primary Zika ...  \n",
       "3226  [ProMED-mail apologizes for the delay in posti...  \n",
       "3227  Date: Sat 30 Dec 2017 8:32 AM NZDT Source: Gis...  \n",
       "3228  ProMED-mail is a program of the International ...  \n",
       "3229  ProMED-mail is a program of the International ...  \n",
       "3230  Date: Thu 7 Dec 2017 Source: Phys.org, Johns H...  \n",
       "3231  ProMED-mail is a program of the International ...  \n",
       "\n",
       "[3232 rows x 6 columns]"
      ]
     },
     "execution_count": 122,
     "metadata": {},
     "output_type": "execute_result"
    }
   ],
   "source": [
    "recommender_tier_df"
   ]
  },
  {
   "cell_type": "code",
   "execution_count": 117,
   "metadata": {},
   "outputs": [
    {
     "data": {
      "text/plain": [
       "Index(['counts', 'date', 'diseases', 'geoname', 'label', 'text'], dtype='object')"
      ]
     },
     "execution_count": 117,
     "metadata": {},
     "output_type": "execute_result"
    }
   ],
   "source": [
    "recommender_tier_df.columns"
   ]
  },
  {
   "cell_type": "code",
   "execution_count": 129,
   "metadata": {},
   "outputs": [
    {
     "data": {
      "text/plain": [
       "['http://www.who.int/csr/don/15-march-2018-mers-oman/en/',\n",
       " 'http://www.who.int/csr/don/09-april-2018-listeriosis-australia/en/',\n",
       " 'http://www.who.int/csr/don/20-april-2018-lassa-fever-nigeria/en/',\n",
       " 'http://www.who.int/csr/don/10-may-2018-ebola-drc/en/',\n",
       " 'http://www.who.int/csr/don/14-may-2018-ebola-drc/en/',\n",
       " 'http://www.who.int/csr/don/17-may-2018-ebola-drc/en/',\n",
       " 'http://www.who.int/csr/don/21-may-2018-ebola-drc/en/',\n",
       " 'http://www.who.int/csr/don/31-may-2018-nipah-virus-india/en/',\n",
       " 'http://www.who.int/csr/don/05-june-2018-monkeypox-cameroon/en/',\n",
       " 'http://www.who.int/csr/don/11-june-2018-measles-brazil/en/',\n",
       " 'http://www.who.int/csr/don/18-june-2018-rift-valley-fever-kenya/en/',\n",
       " 'http://www.who.int/csr/don/4-august-2018-ebola-drc/en/',\n",
       " 'http://www.who.int/csr/don/02-July-2018-polio-png/en/',\n",
       " 'http://www.who.int/csr/don/07-august-2018-nipah-virus-india/en/',\n",
       " 'http://www.who.int/csr/don/02-July-2018-polio-png/en/',\n",
       " 'http://www.who.int/csr/don/24-august-2018-yellow-fever-french-guiana/en/',\n",
       " 'http://www.who.int/csr/don/31-august-2018-mers-united-kingdom/en/',\n",
       " 'http://www.who.int/csr/don/05-october-2018-monkeypox-nigeria/en/',\n",
       " 'http://www.who.int/csr/don/30-october-2018-polio-niger/en/']"
      ]
     },
     "execution_count": 129,
     "metadata": {},
     "output_type": "execute_result"
    }
   ],
   "source": [
    "[i for i in cleaned_edb.URL if 'don/' in str(i)]"
   ]
  },
  {
   "cell_type": "code",
   "execution_count": 116,
   "metadata": {},
   "outputs": [
    {
     "data": {
      "text/plain": [
       "2"
      ]
     },
     "execution_count": 116,
     "metadata": {},
     "output_type": "execute_result"
    }
   ],
   "source": [
    "sum(recommender_tier_df[recommender_tier_df.label == True].date.isna())"
   ]
  },
  {
   "cell_type": "code",
   "execution_count": 119,
   "metadata": {},
   "outputs": [
    {
     "data": {
      "text/plain": [
       "0"
      ]
     },
     "execution_count": 119,
     "metadata": {},
     "output_type": "execute_result"
    }
   ],
   "source": [
    "sum(recommender_tier_df[recommender_tier_df.label == True].counts.isna())"
   ]
  },
  {
   "cell_type": "code",
   "execution_count": 120,
   "metadata": {},
   "outputs": [
    {
     "data": {
      "text/plain": [
       "23"
      ]
     },
     "execution_count": 120,
     "metadata": {},
     "output_type": "execute_result"
    }
   ],
   "source": [
    "sum(recommender_tier_df[recommender_tier_df.label == True].diseases.isna())"
   ]
  },
  {
   "cell_type": "code",
   "execution_count": 121,
   "metadata": {},
   "outputs": [
    {
     "data": {
      "text/plain": [
       "0"
      ]
     },
     "execution_count": 121,
     "metadata": {},
     "output_type": "execute_result"
    }
   ],
   "source": [
    "sum(recommender_tier_df[recommender_tier_df.label == True].geoname.isna())"
   ]
  },
  {
   "cell_type": "code",
   "execution_count": 108,
   "metadata": {},
   "outputs": [
    {
     "data": {
      "text/plain": [
       "3232"
      ]
     },
     "execution_count": 108,
     "metadata": {},
     "output_type": "execute_result"
    }
   ],
   "source": [
    "len(RecommenderLabeling().data_output().label)"
   ]
  },
  {
   "cell_type": "code",
   "execution_count": 109,
   "metadata": {},
   "outputs": [
    {
     "data": {
      "text/plain": [
       "155"
      ]
     },
     "execution_count": 109,
     "metadata": {},
     "output_type": "execute_result"
    }
   ],
   "source": [
    "sum(RecommenderLabeling().data_output().label)"
   ]
  },
  {
   "cell_type": "code",
   "execution_count": 3,
   "metadata": {},
   "outputs": [],
   "source": [
    "edb = event_db._read_unprocessed()\n",
    "cleaned_edb = event_db.read_cleaned()"
   ]
  },
  {
   "cell_type": "code",
   "execution_count": 78,
   "metadata": {},
   "outputs": [
    {
     "data": {
      "text/plain": [
       "484"
      ]
     },
     "execution_count": 78,
     "metadata": {},
     "output_type": "execute_result"
    }
   ],
   "source": [
    "len(edb)"
   ]
  },
  {
   "cell_type": "code",
   "execution_count": 101,
   "metadata": {},
   "outputs": [
    {
     "data": {
      "text/plain": [
       "470"
      ]
     },
     "execution_count": 101,
     "metadata": {},
     "output_type": "execute_result"
    }
   ],
   "source": [
    "sum(cleaned_edb.URL.notna())"
   ]
  },
  {
   "cell_type": "code",
   "execution_count": 105,
   "metadata": {},
   "outputs": [
    {
     "data": {
      "text/plain": [
       "153"
      ]
     },
     "execution_count": 105,
     "metadata": {},
     "output_type": "execute_result"
    }
   ],
   "source": [
    "len([i for i in cleaned_edb.URL[cleaned_edb.URL.notna()] if 'promed' in i]) -12"
   ]
  },
  {
   "cell_type": "code",
   "execution_count": 5,
   "metadata": {},
   "outputs": [
    {
     "data": {
      "text/plain": [
       "557"
      ]
     },
     "execution_count": 5,
     "metadata": {},
     "output_type": "execute_result"
    }
   ],
   "source": [
    "len(cleaned_edb)"
   ]
  },
  {
   "cell_type": "code",
   "execution_count": 15,
   "metadata": {},
   "outputs": [],
   "source": [
    "nat = cleaned_edb.date_of_data[5]"
   ]
  },
  {
   "cell_type": "code",
   "execution_count": 45,
   "metadata": {},
   "outputs": [
    {
     "data": {
      "text/plain": [
       "328"
      ]
     },
     "execution_count": 45,
     "metadata": {},
     "output_type": "execute_result"
    }
   ],
   "source": [
    "len([i for i in cleaned_edb.date_of_data if i is nat])"
   ]
  },
  {
   "cell_type": "code",
   "execution_count": 51,
   "metadata": {},
   "outputs": [
    {
     "data": {
      "text/plain": [
       "163"
      ]
     },
     "execution_count": 51,
     "metadata": {},
     "output_type": "execute_result"
    }
   ],
   "source": [
    "sum(cleaned_edb.count_edb.isna())"
   ]
  },
  {
   "cell_type": "code",
   "execution_count": 40,
   "metadata": {},
   "outputs": [
    {
     "data": {
      "text/plain": [
       "[None, None, None, None, None, None, None]"
      ]
     },
     "execution_count": 40,
     "metadata": {},
     "output_type": "execute_result"
    }
   ],
   "source": [
    "[i for i in cleaned_edb.country_edb if not isinstance(i, str)]"
   ]
  },
  {
   "cell_type": "code",
   "execution_count": 43,
   "metadata": {
    "scrolled": true
   },
   "outputs": [
    {
     "data": {
      "text/plain": [
       "86"
      ]
     },
     "execution_count": 43,
     "metadata": {},
     "output_type": "execute_result"
    }
   ],
   "source": [
    "len([i for i in cleaned_edb.disease_edb if not isinstance(i, str)])"
   ]
  },
  {
   "cell_type": "code",
   "execution_count": 26,
   "metadata": {},
   "outputs": [
    {
     "data": {
      "text/plain": [
       "229"
      ]
     },
     "execution_count": 26,
     "metadata": {},
     "output_type": "execute_result"
    }
   ],
   "source": [
    "sum([1 for t in cleaned_edb.date_of_data if t is not nat])"
   ]
  },
  {
   "cell_type": "code",
   "execution_count": 1,
   "metadata": {},
   "outputs": [],
   "source": [
    "# Token count"
   ]
  },
  {
   "cell_type": "code",
   "execution_count": 3,
   "metadata": {},
   "outputs": [],
   "source": [
    "import pandas as pd\n",
    "df = pd.read_csv('data/recommender/with_label.csv')"
   ]
  },
  {
   "cell_type": "code",
   "execution_count": 4,
   "metadata": {},
   "outputs": [],
   "source": [
    "all_the_texts = ' '.join(df[\"extracted_text\"])"
   ]
  },
  {
   "cell_type": "code",
   "execution_count": 6,
   "metadata": {},
   "outputs": [],
   "source": [
    "all_the_texts_tokenized = word_tokenize(all_the_texts)"
   ]
  },
  {
   "cell_type": "code",
   "execution_count": 7,
   "metadata": {},
   "outputs": [
    {
     "name": "stdout",
     "output_type": "stream",
     "text": [
      "Token ins the corpus:  2781077\n"
     ]
    }
   ],
   "source": [
    "print(\"Token ins the corpus: \", len(all_the_texts_tokenized))"
   ]
  },
  {
   "cell_type": "markdown",
   "metadata": {},
   "source": [
    "# URL clustering"
   ]
  },
  {
   "cell_type": "code",
   "execution_count": 66,
   "metadata": {},
   "outputs": [],
   "source": [
    "from urllib.parse import urlparse\n",
    "from collections import defaultdict\n",
    "from operator import itemgetter\n",
    "import matplotlib.pyplot as plt\n",
    "urls = cleaned_edb.URL\n",
    "netlocs = [urlparse(url).netloc for url in urls]\n",
    "d = defaultdict(int)\n",
    "for n in netlocs:\n",
    "    d[n] = d[n] + 1\n",
    "netloc_occurence_tuples = list(d.items())"
   ]
  },
  {
   "cell_type": "code",
   "execution_count": 67,
   "metadata": {},
   "outputs": [],
   "source": [
    "sorted_netloc_occurence_tuples = sorted(netloc_occurence_tuples, key=itemgetter(1))"
   ]
  },
  {
   "cell_type": "code",
   "execution_count": 68,
   "metadata": {},
   "outputs": [
    {
     "data": {
      "text/plain": [
       "77"
      ]
     },
     "execution_count": 68,
     "metadata": {},
     "output_type": "execute_result"
    }
   ],
   "source": [
    "len(sorted_netloc_occurence_tuples)"
   ]
  },
  {
   "cell_type": "code",
   "execution_count": 69,
   "metadata": {},
   "outputs": [],
   "source": [
    "most_used_netlocs = sorted_netloc_occurence_tuples[-9:]"
   ]
  },
  {
   "cell_type": "code",
   "execution_count": 70,
   "metadata": {},
   "outputs": [
    {
     "data": {
      "text/plain": [
       "[('ecdc.europa.eu', 6),\n",
       " ('polioeradication.org', 6),\n",
       " ('www.euro.who.int', 6),\n",
       " ('www.who.int', 22),\n",
       " ('www.cidrap.umn.edu', 30),\n",
       " ('outbreaknewstoday.com', 50),\n",
       " ('apps.who.int', 74),\n",
       " (b'', 87),\n",
       " ('www.promedmail.org', 163)]"
      ]
     },
     "execution_count": 70,
     "metadata": {},
     "output_type": "execute_result"
    }
   ],
   "source": [
    "most_used_netlocs"
   ]
  },
  {
   "cell_type": "code",
   "execution_count": 71,
   "metadata": {},
   "outputs": [],
   "source": [
    "most_used_netlocs.remove((b'', 87))"
   ]
  },
  {
   "cell_type": "code",
   "execution_count": 72,
   "metadata": {},
   "outputs": [],
   "source": [
    "# Calculate the rest\n",
    "other_netlocs = sum(i for _, i in sorted_netloc_occurence_tuples) - 87 - sum(i for _, i in most_used_netlocs) "
   ]
  },
  {
   "cell_type": "code",
   "execution_count": 73,
   "metadata": {},
   "outputs": [],
   "source": [
    "most_used_netlocs = sorted(most_used_netlocs, key=itemgetter(1))"
   ]
  },
  {
   "cell_type": "code",
   "execution_count": 74,
   "metadata": {},
   "outputs": [
    {
     "data": {
      "text/plain": [
       "[('ecdc.europa.eu', 6),\n",
       " ('polioeradication.org', 6),\n",
       " ('www.euro.who.int', 6),\n",
       " ('www.who.int', 22),\n",
       " ('www.cidrap.umn.edu', 30),\n",
       " ('outbreaknewstoday.com', 50),\n",
       " ('apps.who.int', 74),\n",
       " ('www.promedmail.org', 163)]"
      ]
     },
     "execution_count": 74,
     "metadata": {},
     "output_type": "execute_result"
    }
   ],
   "source": [
    "most_used_netlocs"
   ]
  },
  {
   "cell_type": "code",
   "execution_count": 75,
   "metadata": {},
   "outputs": [],
   "source": [
    "most_used_and_other_netlocs = [('other netlocs', other_netlocs)]\n",
    "most_used_and_other_netlocs.extend(most_used_netlocs)"
   ]
  },
  {
   "cell_type": "code",
   "execution_count": 76,
   "metadata": {},
   "outputs": [
    {
     "name": "stderr",
     "output_type": "stream",
     "text": [
      "/home/auss/miniconda3/envs/rki/lib/python3.7/site-packages/matplotlib/font_manager.py:1241: UserWarning: findfont: Font family ['Times New Roman'] not found. Falling back to DejaVu Sans.\n",
      "  (prop.get_family(), self.defaultFamily[fontext]))\n"
     ]
    },
    {
     "data": {
      "image/png": "[encoded data removed]",
      "text/plain": [
       "<Figure size 432x288 with 1 Axes>"
      ]
     },
     "metadata": {
      "needs_background": "light"
     },
     "output_type": "display_data"
    }
   ],
   "source": [
    "x = np.arange(len(most_used_and_other_netlocs))\n",
    "bars = plt.barh(x, width=[t[1] for t in most_used_and_other_netlocs])\n",
    "bars[0].set_color('grey')\n",
    "plt.xlabel('Occurrences of Netlocs in EDB', fontname='Times New Roman')\n",
    "plt.yticks(x, [t[0] for t in most_used_and_other_netlocs])\n",
    "plt.xticks(fontsize=8)\n",
    "plt.grid(which='both', axis='x', alpha=0.2)\n",
    "plt.rc('axes', axisbelow=True)\n",
    "plt.tight_layout()\n",
    "plt.savefig('netloc.pdf', format='pdf', frameon=False)"
   ]
  },
  {
   "cell_type": "code",
   "execution_count": 77,
   "metadata": {},
   "outputs": [
    {
     "data": {
      "text/plain": [
       "<Figure size 432x288 with 0 Axes>"
      ]
     },
     "metadata": {},
     "output_type": "display_data"
    }
   ],
   "source": [
    "plt.savefig('netloc.pdf', format='pdf')"
   ]
  },
  {
   "cell_type": "markdown",
   "metadata": {},
   "source": [
    "# Cleaning Statistics\n",
    "## Date"
   ]
  },
  {
   "cell_type": "code",
   "execution_count": 53,
   "metadata": {},
   "outputs": [],
   "source": [
    "ts = edb['Datenstand für Fallzahlen gesamt*'].replace(['nan', '-', np.nan], [None] * 3).tolist()\n",
    "valid_ts = list(filter(lambda x: isinstance(x, str), ts))"
   ]
  },
  {
   "cell_type": "code",
   "execution_count": 54,
   "metadata": {
    "scrolled": true
   },
   "outputs": [
    {
     "name": "stdout",
     "output_type": "stream",
     "text": [
      "There are 484 entries in the event db\n",
      "187 of them are non-empty dates.\n"
     ]
    }
   ],
   "source": [
    "print('There are', len(edb), 'entries in the event db')\n",
    "print(len(valid_ts), 'of them are non-empty dates.')"
   ]
  },
  {
   "cell_type": "code",
   "execution_count": 55,
   "metadata": {},
   "outputs": [
    {
     "name": "stdout",
     "output_type": "stream",
     "text": [
      "168 of all edb entries are valid dates.\n"
     ]
    }
   ],
   "source": [
    "is_date = lambda x: re.match(r\"(\\d{1,2})\\D(\\d{1,2})\\D(\\d{4})\", x)\n",
    "valid_dates = list(filter(lambda x: is_date(x), valid_ts))\n",
    "print(len(valid_dates), 'of all edb entries are valid dates.')"
   ]
  },
  {
   "cell_type": "code",
   "execution_count": 56,
   "metadata": {},
   "outputs": [
    {
     "name": "stdout",
     "output_type": "stream",
     "text": [
      "168 of all edb entries are valid dates.\n"
     ]
    }
   ],
   "source": [
    "valid_dates = list(filter(lambda x: is_date(str(x)), ts))\n",
    "print(len(valid_dates), 'of all edb entries are valid dates.')"
   ]
  },
  {
   "cell_type": "code",
   "execution_count": 19,
   "metadata": {
    "scrolled": true
   },
   "outputs": [
    {
     "name": "stdout",
     "output_type": "stream",
     "text": [
      "The following are non-valid dates:\n",
      "['?', 'Ende Mai', '43329', '43332', '43332', '43335', '43336', '43335', '43335', '43340', '43340', 'Mitte Sept.', '13.10.218', 'September 2018', '2017', '2018', 'Jan-4.Nov 2018', 'July 2017 -22.10.2018', 'Juni-Nov 2018']\n"
     ]
    }
   ],
   "source": [
    "print('The following are non-valid dates:')\n",
    "print(list(filter(lambda x: not is_date(x), valid_ts)))"
   ]
  },
  {
   "cell_type": "markdown",
   "metadata": {},
   "source": [
    "## Count"
   ]
  },
  {
   "cell_type": "code",
   "execution_count": 57,
   "metadata": {},
   "outputs": [
    {
     "name": "stdout",
     "output_type": "stream",
     "text": [
      "There are 557 entries in the cleaned event db\n",
      "394 of them are non-empty case numbers\n"
     ]
    }
   ],
   "source": [
    "print('There are', len(cleaned_edb), 'entries in the cleaned event db')\n",
    "print(sum(cleaned_edb['count_edb'].notna()), 'of them are non-empty case numbers')"
   ]
  },
  {
   "cell_type": "code",
   "execution_count": 63,
   "metadata": {},
   "outputs": [
    {
     "name": "stdout",
     "output_type": "stream",
     "text": [
      "Valid EDB counts:  299\n"
     ]
    }
   ],
   "source": [
    "valid_counts = edb['Fälle gesamt*'].notna()\n",
    "print('Valid EDB counts: ', sum(valid_counts))"
   ]
  },
  {
   "cell_type": "code",
   "execution_count": 64,
   "metadata": {},
   "outputs": [],
   "source": [
    "valid_counts_cleaned = cleaned_edb['count_edb'].notna()"
   ]
  },
  {
   "cell_type": "code",
   "execution_count": 65,
   "metadata": {},
   "outputs": [
    {
     "name": "stdout",
     "output_type": "stream",
     "text": [
      "Valid cleaned EDB counts:  394\n"
     ]
    }
   ],
   "source": [
    "print('Valid cleaned EDB counts: ', sum(valid_counts_cleaned))"
   ]
  },
  {
   "cell_type": "code",
   "execution_count": 22,
   "metadata": {},
   "outputs": [],
   "source": [
    "def is_int(string):\n",
    "    try:\n",
    "        num = int(string)\n",
    "    except ValueError:\n",
    "        return False\n",
    "    return True"
   ]
  },
  {
   "cell_type": "code",
   "execution_count": 41,
   "metadata": {},
   "outputs": [
    {
     "name": "stdout",
     "output_type": "stream",
     "text": [
      "These are the invalid count entries:\n",
      "['1,078,997', '40 abzgl. 19 non-cases', 'mind 18', '368 Fälle', '6,382', '0 bei Menschen.\\nMehr als 50 Todesfälle bei Kühem. Schafen und Pferden', '4 cVDPV2\\n2 WPV1 in Afghanistan', '>1000', '>3.300', '13 430', '15,944', '1,207,596', '650,000', '3,057', '446.150', 'erhöhte Fallzahlen seit 2013', '25 (im Jahr 2018)', '10.604']\n"
     ]
    }
   ],
   "source": [
    "print('These are the invalid count entries:')\n",
    "print(list(filter(lambda x: not is_int(x), valid_counts)))"
   ]
  },
  {
   "cell_type": "code",
   "execution_count": null,
   "metadata": {},
   "outputs": [],
   "source": [
    "len(list(filter(lambda x: not is_int(x), valid_counts)))"
   ]
  },
  {
   "cell_type": "markdown",
   "metadata": {},
   "source": [
    "## Country"
   ]
  },
  {
   "cell_type": "code",
   "execution_count": 33,
   "metadata": {},
   "outputs": [
    {
     "name": "stdout",
     "output_type": "stream",
     "text": [
      "{nan, 'Afghanistan,\\nDR Congo\\nNigeria\\nSomalia', 'Venezuela ', 'Italien, Serbien, Griechenland, Rumänien, Ungarn, Frankreich, Kosovo, Albanien, Macedonien, Montenegro, Serbien, Türkei', 'Französich_Polynesien', 'Saudi-Arabien ', 'VAE ', 'Namibia, Opuwo District, Kunene Region', 'Nigeria, Edo State', 'Indien, Jaipur', 'DRC, Nord Kivu', ' Äthiopien (AWD)', 'USA, Delaware', 'Trinidad & Tobago', 'Peru ', 'Italien, Griechenland, Ungarn, Rumänien', 'Oman ', 'Serbien, Italien, Griechenland, Ungarn,  Rumänien', 'Italien, Griechenland, Rumanien, Ungarn, Frankreich'}\n",
      "\n",
      " is cleaned to: \n",
      "\n",
      "{None, 'Französich Polynesien', 'Kunene Region', 'Jaipur', 'Trinidad und Tobago', 'Kosovo', 'Griechenland', 'Delaware', 'Montenegro', 'Rumänien', 'Rumanien', 'Ungarn', 'VAE', 'Nord Kivu', 'Macedonien', 'DR Congo', 'Edo State', 'Albanien', 'Serbien', 'Oman', 'Opuwo District'}\n"
     ]
    }
   ],
   "source": [
    "from nlp_surveillance.pipeline import CleanCountryLookUpAndAddAbbreviations\n",
    "before = set(edb['Ausgangs- bzw. Ausbruchsland'])\n",
    "after = set(cleaned_edb.country_edb)\n",
    "print(before - after)\n",
    "print('\\n is cleaned to: \\n')\n",
    "print(after - before)"
   ]
  },
  {
   "cell_type": "code",
   "execution_count": 53,
   "metadata": {},
   "outputs": [],
   "source": [
    "country_lookup = CleanCountryLookUpAndAddAbbreviations().data_output()"
   ]
  },
  {
   "cell_type": "code",
   "execution_count": 83,
   "metadata": {},
   "outputs": [
    {
     "name": "stdout",
     "output_type": "stream",
     "text": [
      "Valid entries before controlled vocabulary:  355\n"
     ]
    }
   ],
   "source": [
    "valid_before_preprocessing = list(filter(lambda x: x in country_lookup, edb['Ausgangs- bzw. Ausbruchsland']))\n",
    "print('Valid entries before controlled vocabulary: ', len(valid_before_preprocessing))"
   ]
  },
  {
   "cell_type": "code",
   "execution_count": 84,
   "metadata": {},
   "outputs": [
    {
     "name": "stdout",
     "output_type": "stream",
     "text": [
      "Valid entries after controlled vocabulary:  494\n"
     ]
    }
   ],
   "source": [
    "valid_after_preprocessing = list(filter(lambda x: x in country_lookup, cleaned_edb.country_edb))\n",
    "print('Valid entries after controlled vocabulary: ', len(valid_after_preprocessing))"
   ]
  },
  {
   "cell_type": "code",
   "execution_count": 77,
   "metadata": {},
   "outputs": [
    {
     "name": "stdout",
     "output_type": "stream",
     "text": [
      "Invalid entries:  21\n"
     ]
    }
   ],
   "source": [
    "print('Invalid entries: ', len(after-before))"
   ]
  },
  {
   "cell_type": "code",
   "execution_count": 28,
   "metadata": {},
   "outputs": [
    {
     "data": {
      "text/plain": [
       "True"
      ]
     },
     "execution_count": 28,
     "metadata": {},
     "output_type": "execute_result"
    }
   ],
   "source": [
    "# Stripped strings don't appear in the last set but were processed correctly\n",
    "('Peru' in after) & ('Saudi-Arabien' in after) & ('Oman' in after) & ('Äthiopien' in after)"
   ]
  },
  {
   "cell_type": "markdown",
   "metadata": {},
   "source": [
    "## Disease"
   ]
  },
  {
   "cell_type": "code",
   "execution_count": 130,
   "metadata": {},
   "outputs": [
    {
     "name": "stdout",
     "output_type": "stream",
     "text": [
      "Not valid:  {nan, '?', 'keine', 'Husten, Fieber', 'AFP, AFM', 'Tick-borne relapsing fever ', 'FSME ', 'Lassafieber ', ' ', 'Camel Prion Disease ', 'Diarrhoe, Überkeit, Erbrechen', 'Gonorrhö, multiresistent', 'Nierenversagen; v.a. HUS, Leptospirose', 'Gesichtslähmung, Nervensystem betroffen.', 'Tularämie ', 'Leptospirose '}\n",
      "Not valid in numbers:  16\n"
     ]
    }
   ],
   "source": [
    "from nlp_surveillance.pipeline import MergeDiseaseNameLookupWithAbbreviationsOfRKI\n",
    "disease_lookup = MergeDiseaseNameLookupWithAbbreviationsOfRKI().data_output()\n",
    "\n",
    "before_disease =  set(edb['Krankheitsbild(er)'])\n",
    "after_disease = set(cleaned_edb['disease_edb'])\n",
    "print('Not valid: ',  before_disease - after_disease)\n",
    "print('Not valid in numbers: ', len(before_disease - after_disease))"
   ]
  },
  {
   "cell_type": "code",
   "execution_count": 131,
   "metadata": {},
   "outputs": [
    {
     "name": "stdout",
     "output_type": "stream",
     "text": [
      "Valid entries before controlled vocabulary:  231\n"
     ]
    }
   ],
   "source": [
    "valid_diseases_before_preprocessing = (list(filter(lambda x: x in disease_lookup, edb['Krankheitsbild(er)'])))\n",
    "print('Valid entries before controlled vocabulary: ', len(valid_diseases_before_preprocessing))"
   ]
  },
  {
   "cell_type": "code",
   "execution_count": 132,
   "metadata": {},
   "outputs": [
    {
     "name": "stdout",
     "output_type": "stream",
     "text": [
      "Valid entries after controlled vocabulary:  332\n"
     ]
    }
   ],
   "source": [
    "valid_diseases_after_preprocessing = (list(filter(lambda x: x in disease_lookup, cleaned_edb['disease_edb'])))\n",
    "print('Valid entries after controlled vocabulary: ', len(valid_diseases_after_preprocessing))"
   ]
  },
  {
   "cell_type": "code",
   "execution_count": 138,
   "metadata": {},
   "outputs": [],
   "source": [
    "cleaned_edb_valid_URL = cleaned_edb[cleaned_edb.URL.notna()]"
   ]
  },
  {
   "cell_type": "code",
   "execution_count": 139,
   "metadata": {},
   "outputs": [
    {
     "name": "stderr",
     "output_type": "stream",
     "text": [
      "/home/auss/miniconda3/envs/rki/lib/python3.7/site-packages/ipykernel_launcher.py:1: UserWarning: This pattern has match groups. To actually get the groups, use str.extract.\n",
      "  \"\"\"Entry point for launching an IPython kernel.\n"
     ]
    }
   ],
   "source": [
    "cleaned_edb_valid_URL = cleaned_edb_valid_URL[cleaned_edb_valid_URL.URL.str.contains(r'(/don/|promed)', regex=True)]"
   ]
  },
  {
   "cell_type": "markdown",
   "metadata": {},
   "source": [
    "## URLs"
   ]
  },
  {
   "cell_type": "code",
   "execution_count": null,
   "metadata": {},
   "outputs": [],
   "source": [
    "before_URLs =  set(edb['Link zur Quelle 1'])\n",
    "after_URLs = set(cleaned_edb['URL'])"
   ]
  },
  {
   "cell_type": "code",
   "execution_count": null,
   "metadata": {},
   "outputs": [],
   "source": [
    "# Guillements, splitting by comma, additional whitespace, and non-valid URLS\n",
    "# are the problem\n",
    "before_URLs - after_URLs"
   ]
  },
  {
   "cell_type": "markdown",
   "metadata": {},
   "source": [
    "# Annotation"
   ]
  },
  {
   "cell_type": "code",
   "execution_count": null,
   "metadata": {},
   "outputs": [],
   "source": [
    "from nltk import sent_tokenize\n",
    "from epitator.annotator import AnnoDoc\n",
    "from epitator.count_annotator import CountAnnotator\n",
    "from epitator.date_annotator import DateAnnotator\n",
    "\n",
    "from utils.my_utils import flatten_list\n",
    "\n",
    "example_text = 'Health |‘We’re Out of Options’: Doctors Battle Drug-Resistant Typhoid OutbreakSupported by‘We’re Out of Options’: Doctors Battle Drug-Resistant Typhoid OutbreakImageA baby believed to have contracted a drug-resistant strain of typhoid, hospitalized in Hyderabad, Pakistan in February.CreditCreditNadeem Khawer/European Pressphoto AgencyBy Emily BaumgaertnerApril 13, 2018The first known epidemic of extensively drug-resistant typhoid is spreading through Pakistan, infecting at least 850 people in 14 districts since 2016, according to the National Institute of Health Islamabad.The typhoid strain, resistant to five types of antibiotics, is expected to disseminate globally, replacing weaker strains where they are endemic. Experts have identified only one remaining oral antibiotic — azithromycin — to combat it; one more genetic mutation could make typhoid untreatable in some areas.Researchers consider the epidemic an international clarion call for comprehensive prevention efforts. If vaccination campaigns and modern sanitation systems don’t outpace the pathogen, they anticipate a return to the pre-antibiotic era when mortality rates soared.“This isn’t just about typhoid,” said Dr. Rumina Hasan, a pathology professor at the Aga Khan University in Pakistan. “Antibiotic resistance is a threat to all of modern medicine — and the scary part is, we’re out of options.”Typhoid fever, caused by the Salmonella Typhi bacteria, is a highly infectious disease transmitted by contaminated food or water. It causes high fevers, headaches and vomiting. About 21 million people suffer from typhoid each year, and about 161,000 die, according to the World Health Organization.Typhoid is endemic to Pakistan, where poor infrastructure, low vaccination rates and overpopulated city dwellings persist. Doctors in the Sindh province were not surprised by an outbreak in November 2016 — until cases proved unresponsive to ceftriaxone, used to treat multidrug-resistant, or MDR, strains of typhoid.Only four isolated cases of extensively drug-resistant, or XDR, typhoid had previously been reported worldwide, according to Dr. Elizabeth Klemm, an infectious disease geneticist at the Wellcome Sanger Institute in England.The outbreak’s origins were clear: Early case mapping revealed large clusters of victims around sewage lines in the city of Hyderabad. Dr. Hasan’s colleagues visited the region and found water sources that could be contaminated by leaking sewage pipes.Four deaths have been reported so far, according to the National Institute of Health Islamabad. At least one travel-related case has been detected in the United Kingdom.Genetic sequencing revealed that a common, aggressive MDR typhoid strain called H58 interacted with another bacteria, likely E. coli, and acquired from it an additional DNA molecule, called a plasmid, that coded for resistance to ceftriaxone.ImageLining up for clean water in Lahore last month. Facing a typhoid strain that resists so many types of antibiotics, public health officials are reemphasizing preventative measures, such as vaccination, boiling drinking water and hygiene.CreditK.M. Chaudary/Associated PressThe findings were disturbingly simple: XDR strains can materialize in one single step, virtually anywhere where the H58 strain and the added plasmid are both present — whether a sewer system or even a single human gut.“There are multiple worst-case scenarios,” said Dr. Klemm. “One is that this strain spreads to other regions through migration. But the other is that it pops up elsewhere on its own — plasmids with drug resistance are everywhere.”But the accumulation of resistance genes in the Sindh strain was hardly an ambush, according to a commentary by vaccine experts at the University of Maryland School of Medicine.The 1948 discovery of antibiotic treatment for typhoid plunged the infection’s fatality rate from almost one in four to just one in 100, triggering “an epic thrust-and-parry duel” between powerful drugs and “a wily bacterial foe’s stepwise acquisition of resistance to them,” wrote Dr. Myron M. Levine and Dr. Raphael Simon.Doctors still prescribe an estimated 50 million doses of antibiotics for typhoid globally each year. In Karachi, the capital of Sindh province, antibiotic resistance is increasing by 30 percent each year, according to the W.H.O.; at that rate, all typhoid cases in the city will be resistant to multiple drugs by 2020.Physicians are treating the Sindh strain with azithromycin and other more expensive treatments that must be administered in hospital settings.“Once we aren’t able to treat this effectively, we’re going back to the pre-antibiotic era. That would mean a lot of fatalities in our future,” Dr. Klemm said.To preserve the last line of defense, public health officials have launched a campaign to vaccinate 250,000 children in Hyderabad using a new typhoid conjugate vaccine, Typbar-TCV, recently prequalified by the W.H.O. The vaccine lasts at least five years and can be given to children as young as six months old, according to the W.H.O.Experts are also reinforcing hygiene habits for prevention: washing hands frequently, boiling drinking water and eating well-cooked foods. In the longer term, modern sanitation infrastructure is needed.The vaccination campaign has faced local opposition, according to local news reports, amid rumors that the vaccines have been poisoned in a Western effort to harm children. Similar suspicions have persisted since 2011, when a posed hepatitis B campaign helped gather intelligence before the Abbottabad raid that killed Osama bin Laden. Two polio vaccination workers were killed in Pakistan this January.GAVI, The Vaccine Alliance, a public–private global health partnership working to increase access to immunization, has pledged $85 million to ensure that typhoid vaccines reach developing countries.“It’s a global concern at this point,” said Dr. Eric Mintz, an epidemiologist at the Centers for Disease Control and Prevention. “Everything suggests this strain will survive well and spread easily — and acquiring resistance to azithromycin is only a matter of time.”A version of this article appears in print on , on Page D3 of the New York edition with the headline: Doctors Fight Drug-Resistant Typhoid Outbreak. Order Reprints | Today’s Paper | SubscribeRelated Coverage'\n",
    "text_wise = AnnoDoc(example_text).add_tiers(CountAnnotator()).tiers['counts'].spans\n",
    "sent_wise = [AnnoDoc(sent).add_tiers(CountAnnotator()).tiers['counts'].spans for sent in sent_tokenize(example_text)]\n",
    "print('Count:')\n",
    "print(text_wise,'\\n')\n",
    "print(len(text_wise), 'found entities \\n')\n",
    "print(flatten_list(sent_wise),'\\n')\n",
    "print(len(flatten_list(sent_wise)), 'found entities\\n')\n",
    "print('################################################################\\n')\n",
    "print('Date:')\n",
    "example_text = 'Health |‘We’re Out of Options’: Doctors Battle Drug-Resistant Typhoid OutbreakSupported by‘We’re Out of Options’: Doctors Battle Drug-Resistant Typhoid OutbreakImageA baby believed to have contracted a drug-resistant strain of typhoid, hospitalized in Hyderabad, Pakistan in February.CreditCreditNadeem Khawer/European Pressphoto AgencyBy Emily BaumgaertnerApril 13, 2018The first known epidemic of extensively drug-resistant typhoid is spreading through Pakistan, infecting at least 850 people in 14 districts since 2016, according to the National Institute of Health Islamabad.The typhoid strain, resistant to five types of antibiotics, is expected to disseminate globally, replacing weaker strains where they are endemic. Experts have identified only one remaining oral antibiotic — azithromycin — to combat it; one more genetic mutation could make typhoid untreatable in some areas.Researchers consider the epidemic an international clarion call for comprehensive prevention efforts. If vaccination campaigns and modern sanitation systems don’t outpace the pathogen, they anticipate a return to the pre-antibiotic era when mortality rates soared.“This isn’t just about typhoid,” said Dr. Rumina Hasan, a pathology professor at the Aga Khan University in Pakistan. “Antibiotic resistance is a threat to all of modern medicine — and the scary part is, we’re out of options.”Typhoid fever, caused by the Salmonella Typhi bacteria, is a highly infectious disease transmitted by contaminated food or water. It causes high fevers, headaches and vomiting. About 21 million people suffer from typhoid each year, and about 161,000 die, according to the World Health Organization.Typhoid is endemic to Pakistan, where poor infrastructure, low vaccination rates and overpopulated city dwellings persist. Doctors in the Sindh province were not surprised by an outbreak in November 2016 — until cases proved unresponsive to ceftriaxone, used to treat multidrug-resistant, or MDR, strains of typhoid.Only four isolated cases of extensively drug-resistant, or XDR, typhoid had previously been reported worldwide, according to Dr. Elizabeth Klemm, an infectious disease geneticist at the Wellcome Sanger Institute in England.The outbreak’s origins were clear: Early case mapping revealed large clusters of victims around sewage lines in the city of Hyderabad. Dr. Hasan’s colleagues visited the region and found water sources that could be contaminated by leaking sewage pipes.Four deaths have been reported so far, according to the National Institute of Health Islamabad. At least one travel-related case has been detected in the United Kingdom.Genetic sequencing revealed that a common, aggressive MDR typhoid strain called H58 interacted with another bacteria, likely E. coli, and acquired from it an additional DNA molecule, called a plasmid, that coded for resistance to ceftriaxone.ImageLining up for clean water in Lahore last month. Facing a typhoid strain that resists so many types of antibiotics, public health officials are reemphasizing preventative measures, such as vaccination, boiling drinking water and hygiene.CreditK.M. Chaudary/Associated PressThe findings were disturbingly simple: XDR strains can materialize in one single step, virtually anywhere where the H58 strain and the added plasmid are both present — whether a sewer system or even a single human gut.“There are multiple worst-case scenarios,” said Dr. Klemm. “One is that this strain spreads to other regions through migration. But the other is that it pops up elsewhere on its own — plasmids with drug resistance are everywhere.”But the accumulation of resistance genes in the Sindh strain was hardly an ambush, according to a commentary by vaccine experts at the University of Maryland School of Medicine.The 1948 discovery of antibiotic treatment for typhoid plunged the infection’s fatality rate from almost one in four to just one in 100, triggering “an epic thrust-and-parry duel” between powerful drugs and “a wily bacterial foe’s stepwise acquisition of resistance to them,” wrote Dr. Myron M. Levine and Dr. Raphael Simon.Doctors still prescribe an estimated 50 million doses of antibiotics for typhoid globally each year. In Karachi, the capital of Sindh province, antibiotic resistance is increasing by 30 percent each year, according to the W.H.O.; at that rate, all typhoid cases in the city will be resistant to multiple drugs by 2020.Physicians are treating the Sindh strain with azithromycin and other more expensive treatments that must be administered in hospital settings.“Once we aren’t able to treat this effectively, we’re going back to the pre-antibiotic era. That would mean a lot of fatalities in our future,” Dr. Klemm said.To preserve the last line of defense, public health officials have launched a campaign to vaccinate 250,000 children in Hyderabad using a new typhoid conjugate vaccine, Typbar-TCV, recently prequalified by the W.H.O. The vaccine lasts at least five years and can be given to children as young as six months old, according to the W.H.O.Experts are also reinforcing hygiene habits for prevention: washing hands frequently, boiling drinking water and eating well-cooked foods. In the longer term, modern sanitation infrastructure is needed.The vaccination campaign has faced local opposition, according to local news reports, amid rumors that the vaccines have been poisoned in a Western effort to harm children. Similar suspicions have persisted since 2011, when a posed hepatitis B campaign helped gather intelligence before the Abbottabad raid that killed Osama bin Laden. Two polio vaccination workers were killed in Pakistan this January.GAVI, The Vaccine Alliance, a public–private global health partnership working to increase access to immunization, has pledged $85 million to ensure that typhoid vaccines reach developing countries.“It’s a global concern at this point,” said Dr. Eric Mintz, an epidemiologist at the Centers for Disease Control and Prevention. “Everything suggests this strain will survive well and spread easily — and acquiring resistance to azithromycin is only a matter of time.”A version of this article appears in print on , on Page D3 of the New York edition with the headline: Doctors Fight Drug-Resistant Typhoid Outbreak. Order Reprints | Today’s Paper | SubscribeRelated Coverage'\n",
    "text_wise = AnnoDoc(example_text).add_tiers(DateAnnotator()).tiers['dates'].spans\n",
    "sent_wise = [AnnoDoc(sent).add_tiers(DateAnnotator()).tiers['dates'].spans for sent in sent_tokenize(example_text)]\n",
    "print(text_wise,'\\n')\n",
    "print(len(text_wise), 'found entities\\n')\n",
    "print(flatten_list(sent_wise),'\\n')\n",
    "print(len(flatten_list(sent_wise)), 'found entities')"
   ]
  },
  {
   "cell_type": "code",
   "execution_count": null,
   "metadata": {},
   "outputs": [],
   "source": [
    "import pandas as pd\n",
    "from nltk.tokenize import PunktSentenceTokenizer\n",
    "from itertools import product\n",
    "from collections import namedtuple\n",
    "from epitator.annotator import AnnoDoc\n",
    "from epitator.count_annotator import CountAnnotator\n",
    "from epitator.date_annotator import DateAnnotator\n",
    "from nlp_surveillance.classifier.create_labels import create_labels\n",
    "\n",
    "\n",
    "def from_entity(text, to_optimize, event_db_entry):\n",
    "    annotated = _annotate(text, to_optimize)\n",
    "    entities, sentences = _extract_entities_with_sentence(annotated, to_optimize)\n",
    "    labels = create_labels(entities, to_optimize, event_db_entry)\n",
    "    label_sentence_tuple = namedtuple('label_sentence_tuple', ['label', 'sentence'])\n",
    "    label_sentence_tuples = [label_sentence_tuple(*tuple_) for tuple_ in zip(labels, sentences)]\n",
    "    return label_sentence_tuples\n",
    "\n",
    "\n",
    "def _annotate(sentence, to_optimize):\n",
    "    tier = {'counts': CountAnnotator(), 'dates': DateAnnotator()}\n",
    "    annotated = AnnoDoc(sentence)\n",
    "    annotated.add_tiers(tier[to_optimize])\n",
    "    return annotated\n",
    "\n",
    "\n",
    "def _extract_entities_with_sentence(annotated, to_optimize):\n",
    "    sentence_spans = PunktSentenceTokenizer().span_tokenize(annotated.text)\n",
    "    span_entity_dict = _create_span_entity_dict(annotated, to_optimize)\n",
    "    matched_entity_sentence_spans = _match_entity_and_sentence_spans(span_entity_dict.keys(), sentence_spans)\n",
    "    entities = [span_entity_dict[tuple_.entity_span] for tuple_ in matched_entity_sentence_spans]\n",
    "    sentences = [annotated.text[slice(*tuple_.sentence_span)]\n",
    "                 for tuple_ in matched_entity_sentence_spans]\n",
    "    return entities, sentences\n",
    "\n",
    "\n",
    "def _match_entity_and_sentence_spans(entity_spans, sentence_spans):\n",
    "    cartesian_product = product(entity_spans, sentence_spans)\n",
    "    entity_sentence_tuple = namedtuple('entity_sentence', ['entity_span', 'sentence_span'])\n",
    "    list_of_found_entity_sentence_spans = list(filter(_overlap, cartesian_product))\n",
    "    list_of_found_entity_sentence_spans_named = [entity_sentence_tuple(*tuple_) for tuple_ in\n",
    "                                                 list_of_found_entity_sentence_spans]\n",
    "    return list_of_found_entity_sentence_spans_named\n",
    "\n",
    "\n",
    "def _create_span_entity_dict(annotated, to_optimize):\n",
    "    spans = annotated.tiers[to_optimize].spans\n",
    "    to_metadata_attr = {'counts': 'count', 'dates': 'datetime_range'}\n",
    "    attribute = to_metadata_attr[to_optimize]\n",
    "    span_entity_dict = {(span.start, span.end): span.metadata[attribute] for span in spans}\n",
    "    return span_entity_dict\n",
    "\n",
    "\n",
    "def _overlap(tuple_of_tuples):\n",
    "    entity_span, sent_span = tuple_of_tuples\n",
    "    if sent_span[0] <= entity_span[0] and entity_span[1] <= sent_span[1]:\n",
    "        return True\n"
   ]
  },
  {
   "cell_type": "code",
   "execution_count": null,
   "metadata": {},
   "outputs": [],
   "source": [
    "import pandas as pd\n",
    "from nltk import sent_tokenize\n",
    "import numpy as np\n",
    "from collections import namedtuple\n",
    "from epitator.annotator import AnnoDoc\n",
    "from epitator.count_annotator import CountAnnotator\n",
    "from epitator.date_annotator import DateAnnotator\n",
    "from nlp_surveillance.classifier.create_labels import create_labels\n",
    "\n",
    "\n",
    "def from_entity_2(text, to_optimize, event_db_entry):\n",
    "    sentences = sent_tokenize(text)\n",
    "    sentence_label_list = []\n",
    "    for sentence in sentences:\n",
    "        annotated = _annotate(sentence, to_optimize)\n",
    "        entities = _extract_entities_from_sentence(annotated, to_optimize)\n",
    "        labels = create_labels(entities, to_optimize, event_db_entry)\n",
    "        labeled_as_list = _wrap_into_sent_label_tuple(sentence, labels)\n",
    "        sentence_label_list.extend(labeled_as_list)\n",
    "    return sentence_label_list\n",
    "\n",
    "\n",
    "def _annotate(sentence, to_optimize):\n",
    "    tier = {'counts': CountAnnotator(), 'dates': DateAnnotator()}\n",
    "    annotated = AnnoDoc(sentence)\n",
    "    annotated.add_tiers(tier[to_optimize])\n",
    "    return annotated\n",
    "\n",
    "\n",
    "def _extract_entities_from_sentence(annotated, to_optimize):\n",
    "    spans = annotated.tiers[to_optimize].spans\n",
    "    if to_optimize == 'dates':\n",
    "        entities = [span.metadata['datetime_range'] for span in spans]\n",
    "    elif to_optimize == 'counts':\n",
    "        entities = [span.metadata['count'] for span in spans]\n",
    "    else:\n",
    "        raise ValueError\n",
    "    return entities\n",
    "\n",
    "\n",
    "def _wrap_into_sent_label_tuple(sentence, labels):\n",
    "    Labeled = namedtuple('labeled_sentence', ['sentence_repeated', 'label'])\n",
    "    sentence_repeated = np.repeat(sentence, len(labels))\n",
    "    labeled_as_list = [Labeled(sent, label) for sent, label in zip(sentence_repeated, labels)]\n",
    "    return labeled_as_list"
   ]
  },
  {
   "cell_type": "code",
   "execution_count": null,
   "metadata": {},
   "outputs": [],
   "source": [
    "%%timeit\n",
    "text = 'I am in Berlin today. Something is odd in Berlin since Monday but also since Friday. Still, I seem to like Berlin more than Frankfurt now. I am sad that I am not in Switzerland in August.'\n",
    "from_entity(text, 'dates', pd.Timestamp(2018,2,20))"
   ]
  },
  {
   "cell_type": "code",
   "execution_count": null,
   "metadata": {},
   "outputs": [],
   "source": [
    "%%timeit\n",
    "text = 'I am in Berlin today. Something is odd in Berlin since Monday but also since Friday. Still, I seem to like Berlin more than Frankfurt now. I am sad that I am not in Switzerland in August.'\n",
    "from_entity_2(text, 'dates', pd.Timestamp(2018,2,20))"
   ]
  },
  {
   "cell_type": "markdown",
   "metadata": {},
   "source": [
    "# Pipeline"
   ]
  },
  {
   "cell_type": "code",
   "execution_count": null,
   "metadata": {},
   "outputs": [],
   "source": [
    "from nlp_surveillance.pipeline import *"
   ]
  },
  {
   "cell_type": "code",
   "execution_count": null,
   "metadata": {},
   "outputs": [],
   "source": [
    "CleanEventDB().data_output().head()"
   ]
  },
  {
   "cell_type": "code",
   "execution_count": null,
   "metadata": {
    "scrolled": true
   },
   "outputs": [],
   "source": [
    "RequestDiseaseNamesFromWikiData().data_output().head()"
   ]
  },
  {
   "cell_type": "code",
   "execution_count": null,
   "metadata": {},
   "outputs": [],
   "source": [
    "ScrapeCountryNamesFromWikipedia().data_output().head()"
   ]
  },
  {
   "cell_type": "code",
   "execution_count": null,
   "metadata": {
    "scrolled": true
   },
   "outputs": [],
   "source": [
    "CleanCountryLookUpAndAddAbbreviations().data_output()"
   ]
  },
  {
   "cell_type": "code",
   "execution_count": null,
   "metadata": {
    "scrolled": true
   },
   "outputs": [],
   "source": [
    "MergeDiseaseNameLookupWithAbbreviationsOfRKI().data_output()"
   ]
  },
  {
   "cell_type": "code",
   "execution_count": null,
   "metadata": {},
   "outputs": [],
   "source": [
    "ApplyControlledVocabularyToEventDB().data_output().head()"
   ]
  },
  {
   "cell_type": "code",
   "execution_count": null,
   "metadata": {},
   "outputs": [],
   "source": [
    "ScrapePromed('2018').data_output().head()"
   ]
  },
  {
   "cell_type": "code",
   "execution_count": null,
   "metadata": {},
   "outputs": [],
   "source": [
    "ScrapeWHO('2018').data_output().head()"
   ]
  },
  {
   "cell_type": "code",
   "execution_count": null,
   "metadata": {
    "scrolled": true
   },
   "outputs": [],
   "source": [
    "ScrapeFromURLsAndExtractText('event_db').data_output().head()"
   ]
  },
  {
   "cell_type": "code",
   "execution_count": null,
   "metadata": {},
   "outputs": [],
   "source": [
    "ScrapeFromURLsAndExtractText('who').data_output().head()"
   ]
  },
  {
   "cell_type": "code",
   "execution_count": null,
   "metadata": {},
   "outputs": [],
   "source": [
    "ScrapeFromURLsAndExtractText('promed').data_output().head()"
   ]
  },
  {
   "cell_type": "code",
   "execution_count": null,
   "metadata": {
    "scrolled": true
   },
   "outputs": [],
   "source": [
    "AnnotateDoc('event_db').data_output().head()"
   ]
  },
  {
   "cell_type": "code",
   "execution_count": null,
   "metadata": {},
   "outputs": [],
   "source": [
    "ExtractSentencesAndLabel('dates').data_output().head()"
   ]
  },
  {
   "cell_type": "code",
   "execution_count": null,
   "metadata": {},
   "outputs": [],
   "source": [
    "ExtractSentencesAndLabel('counts').data_output().head()"
   ]
  },
  {
   "cell_type": "code",
   "execution_count": null,
   "metadata": {},
   "outputs": [],
   "source": [
    "RecommenderLabeling().data_output().head()"
   ]
  },
  {
   "cell_type": "markdown",
   "metadata": {},
   "source": [
    "# Recommender System"
   ]
  },
  {
   "cell_type": "code",
   "execution_count": null,
   "metadata": {},
   "outputs": [],
   "source": [
    "len(ScrapeWHO('2018').data_output())"
   ]
  },
  {
   "cell_type": "code",
   "execution_count": null,
   "metadata": {},
   "outputs": [],
   "source": [
    "len(ScrapePromed('2018').data_output())"
   ]
  },
  {
   "cell_type": "code",
   "execution_count": null,
   "metadata": {},
   "outputs": [],
   "source": [
    "scraped = pd.concat([ScrapeWHO('2018').data_output(),\n",
    "                    ScrapePromed('2018').data_output()])"
   ]
  },
  {
   "cell_type": "code",
   "execution_count": null,
   "metadata": {},
   "outputs": [],
   "source": [
    "urls = CleanEventDB().data_output()['URL']\n",
    "urls_not_na = urls[urls.notna()]\n",
    "print(f'There are {len(urls_not_na)} usable URLs')\n",
    "who_promed_urls = [url for url in urls_not_na if '/don/' in url or 'promed' in url]\n",
    "urls_that_have_an_article = list(filter(lambda x: x != 'https://www.promedmail.org/', who_promed_urls))\n",
    "print(f'{len(urls_that_have_an_article)} of them are usable for the recommender system')"
   ]
  },
  {
   "cell_type": "code",
   "execution_count": null,
   "metadata": {
    "scrolled": true
   },
   "outputs": [],
   "source": [
    "print('Following URLs of the event db could not be matched to all the Promed and WHO DON articles of 2018')\n",
    "set(urls_that_have_an_article) - set(scraped.URL.tolist())"
   ]
  }
 ],
 "metadata": {
  "kernelspec": {
   "display_name": "Python 3",
   "language": "python",
   "name": "python3"
  },
  "language_info": {
   "codemirror_mode": {
    "name": "ipython",
    "version": 3
   },
   "file_extension": ".py",
   "mimetype": "text/x-python",
   "name": "python",
   "nbconvert_exporter": "python",
   "pygments_lexer": "ipython3",
   "version": "3.7.2"
  }
 },
 "nbformat": 4,
 "nbformat_minor": 2
}
