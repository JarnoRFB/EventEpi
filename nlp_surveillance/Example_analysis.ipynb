{
 "cells": [
  {
   "cell_type": "code",
   "execution_count": 1,
   "metadata": {},
   "outputs": [],
   "source": [
    "%load_ext autoreload\n",
    "%autoreload 2"
   ]
  },
  {
   "cell_type": "code",
   "execution_count": null,
   "metadata": {},
   "outputs": [],
   "source": [
    "import spacy\n",
    "spacy.load('en_core_web_sm')\n",
    "# from epitator.annotator import AnnoDoc\n",
    "# from epitator.geoname_annotator import GeonameAnnotator\n",
    "# from epitator.resolved_keyword_annotator import ResolvedKeywordAnnotator\n",
    "# from epitator.count_annotator import CountAnnotator\n",
    "# from epitator.date_annotator import DateAnnotator\n",
    "from itertools import groupby\n",
    "import datetime\n",
    "import sys\n",
    "import pandas as pd\n",
    "import re\n",
    "import numpy as np\n",
    "import epitator\n",
    "import numpy as np"
   ]
  },
  {
   "cell_type": "code",
   "execution_count": 94,
   "metadata": {},
   "outputs": [],
   "source": [
    "import pandas as pd\n",
    "import pickle\n",
    "import os\n",
    "from who_scraper import scrape\n",
    "from my_utils import extract_from_url, flatten_list\n",
    "from annotator import *\n",
    "from edb_clean import get_cleaned_edb, clean_disease_name\n",
    "from wiki_country_parser import get_wiki_countries_df"
   ]
  },
  {
   "cell_type": "code",
   "execution_count": 152,
   "metadata": {},
   "outputs": [
    {
     "data": {
      "text/html": [
       "<div>\n",
       "<style scoped>\n",
       "    .dataframe tbody tr th:only-of-type {\n",
       "        vertical-align: middle;\n",
       "    }\n",
       "\n",
       "    .dataframe tbody tr th {\n",
       "        vertical-align: top;\n",
       "    }\n",
       "\n",
       "    .dataframe thead th {\n",
       "        text-align: right;\n",
       "    }\n",
       "</style>\n",
       "<table border=\"1\" class=\"dataframe\">\n",
       "  <thead>\n",
       "    <tr style=\"text-align: right;\">\n",
       "      <th></th>\n",
       "      <th>IdType</th>\n",
       "      <th>IdRecordType</th>\n",
       "      <th>IdParent</th>\n",
       "      <th>Code</th>\n",
       "      <th>TypeName</th>\n",
       "      <th>SqlTableName</th>\n",
       "      <th>CsName</th>\n",
       "      <th>GuiText</th>\n",
       "      <th>GuiTextShort</th>\n",
       "      <th>HasAccessRestriction</th>\n",
       "      <th>IsImmutable</th>\n",
       "      <th>UpdatedAt</th>\n",
       "      <th>ts</th>\n",
       "    </tr>\n",
       "  </thead>\n",
       "  <tbody>\n",
       "    <tr>\n",
       "      <th>0</th>\n",
       "      <td>101</td>\n",
       "      <td>1</td>\n",
       "      <td>11</td>\n",
       "      <td>ADV</td>\n",
       "      <td>Adenovirus</td>\n",
       "      <td>Disease71ADV</td>\n",
       "      <td>Disease71ADV</td>\n",
       "      <td>Adenovirus</td>\n",
       "      <td>ADV</td>\n",
       "      <td>0</td>\n",
       "      <td>0</td>\n",
       "      <td>2016-10-28 07:39:22.327</td>\n",
       "      <td>0x00000000000E3525</td>\n",
       "    </tr>\n",
       "    <tr>\n",
       "      <th>1</th>\n",
       "      <td>102</td>\n",
       "      <td>1</td>\n",
       "      <td>11</td>\n",
       "      <td>BAN</td>\n",
       "      <td>Milzbrand</td>\n",
       "      <td>Disease71BAN</td>\n",
       "      <td>Disease71BAN</td>\n",
       "      <td>Milzbrand</td>\n",
       "      <td>BAN</td>\n",
       "      <td>0</td>\n",
       "      <td>0</td>\n",
       "      <td>2016-10-28 07:39:22.330</td>\n",
       "      <td>0x00000000000E3527</td>\n",
       "    </tr>\n",
       "    <tr>\n",
       "      <th>2</th>\n",
       "      <td>103</td>\n",
       "      <td>1</td>\n",
       "      <td>11</td>\n",
       "      <td>BOB</td>\n",
       "      <td>Borreliose</td>\n",
       "      <td>Disease71BOB</td>\n",
       "      <td>Disease71BOB</td>\n",
       "      <td>Lyme-Borreliose</td>\n",
       "      <td>BOB</td>\n",
       "      <td>0</td>\n",
       "      <td>0</td>\n",
       "      <td>2016-10-28 07:39:22.340</td>\n",
       "      <td>0x00000000000E3529</td>\n",
       "    </tr>\n",
       "    <tr>\n",
       "      <th>3</th>\n",
       "      <td>104</td>\n",
       "      <td>1</td>\n",
       "      <td>11</td>\n",
       "      <td>BOR</td>\n",
       "      <td>Läuserückfallfieber</td>\n",
       "      <td>Disease71BOR</td>\n",
       "      <td>Disease71BOR</td>\n",
       "      <td>Läuserückfallfieber</td>\n",
       "      <td>BOR</td>\n",
       "      <td>0</td>\n",
       "      <td>0</td>\n",
       "      <td>2016-10-28 07:39:22.340</td>\n",
       "      <td>0x00000000000E352B</td>\n",
       "    </tr>\n",
       "    <tr>\n",
       "      <th>4</th>\n",
       "      <td>105</td>\n",
       "      <td>1</td>\n",
       "      <td>11</td>\n",
       "      <td>BPS</td>\n",
       "      <td>Keuchhusten</td>\n",
       "      <td>Disease71BPS</td>\n",
       "      <td>Disease71BPS</td>\n",
       "      <td>Keuchhusten</td>\n",
       "      <td>BPS</td>\n",
       "      <td>0</td>\n",
       "      <td>0</td>\n",
       "      <td>2016-10-28 07:39:22.340</td>\n",
       "      <td>0x00000000000E352D</td>\n",
       "    </tr>\n",
       "  </tbody>\n",
       "</table>\n",
       "</div>"
      ],
      "text/plain": [
       "   IdType  IdRecordType  IdParent Code             TypeName  SqlTableName  \\\n",
       "0     101             1        11  ADV           Adenovirus  Disease71ADV   \n",
       "1     102             1        11  BAN            Milzbrand  Disease71BAN   \n",
       "2     103             1        11  BOB           Borreliose  Disease71BOB   \n",
       "3     104             1        11  BOR  Läuserückfallfieber  Disease71BOR   \n",
       "4     105             1        11  BPS          Keuchhusten  Disease71BPS   \n",
       "\n",
       "         CsName              GuiText GuiTextShort  HasAccessRestriction  \\\n",
       "0  Disease71ADV           Adenovirus          ADV                     0   \n",
       "1  Disease71BAN            Milzbrand          BAN                     0   \n",
       "2  Disease71BOB      Lyme-Borreliose          BOB                     0   \n",
       "3  Disease71BOR  Läuserückfallfieber          BOR                     0   \n",
       "4  Disease71BPS          Keuchhusten          BPS                     0   \n",
       "\n",
       "   IsImmutable                UpdatedAt                  ts  \n",
       "0            0  2016-10-28 07:39:22.327  0x00000000000E3525  \n",
       "1            0  2016-10-28 07:39:22.330  0x00000000000E3527  \n",
       "2            0  2016-10-28 07:39:22.340  0x00000000000E3529  \n",
       "3            0  2016-10-28 07:39:22.340  0x00000000000E352B  \n",
       "4            0  2016-10-28 07:39:22.340  0x00000000000E352D  "
      ]
     },
     "execution_count": 152,
     "metadata": {},
     "output_type": "execute_result"
    }
   ],
   "source": [
    "y = pd.read_csv('diseaseCodes.csv', ';')\n",
    "y.head()"
   ]
  },
  {
   "cell_type": "markdown",
   "metadata": {},
   "source": [
    "# WHO DF"
   ]
  },
  {
   "cell_type": "code",
   "execution_count": null,
   "metadata": {},
   "outputs": [],
   "source": [
    "path = os.path.join(\"pickles\",\"parsed_who_df.p\")"
   ]
  },
  {
   "cell_type": "code",
   "execution_count": null,
   "metadata": {},
   "outputs": [],
   "source": [
    "all_links = scrape(years=['2018'],proxies=None)\n",
    "extracted = extract_from_url(all_links)"
   ]
  },
  {
   "cell_type": "code",
   "execution_count": null,
   "metadata": {},
   "outputs": [],
   "source": [
    "parsed_whos_df = pd.DataFrame.from_dict(create_annotated_database(extracted, entity_funcs_and_params=[\n",
    "                                                                      (geonames, {\"raw\":True}),\n",
    "                                                                      (cases, {\"raw\":True}),\n",
    "                                                                      (dates, {\"raw\":True}),\n",
    "                                                                      keywords]))"
   ]
  },
  {
   "cell_type": "code",
   "execution_count": null,
   "metadata": {},
   "outputs": [],
   "source": [
    "pickle.dump(parsed_whos_df,open(path,\"wb\"))"
   ]
  },
  {
   "cell_type": "code",
   "execution_count": null,
   "metadata": {
    "scrolled": false
   },
   "outputs": [],
   "source": [
    "parsed_whos_df = pickle.load(open(path,\"rb\"))\n",
    "parsed_whos_df.head()"
   ]
  },
  {
   "cell_type": "markdown",
   "metadata": {},
   "source": [
    "# EDB Statistics"
   ]
  },
  {
   "cell_type": "code",
   "execution_count": 111,
   "metadata": {
    "scrolled": false
   },
   "outputs": [
    {
     "data": {
      "text/html": [
       "<div>\n",
       "<style scoped>\n",
       "    .dataframe tbody tr th:only-of-type {\n",
       "        vertical-align: middle;\n",
       "    }\n",
       "\n",
       "    .dataframe tbody tr th {\n",
       "        vertical-align: top;\n",
       "    }\n",
       "\n",
       "    .dataframe thead th {\n",
       "        text-align: right;\n",
       "    }\n",
       "</style>\n",
       "<table border=\"1\" class=\"dataframe\">\n",
       "  <thead>\n",
       "    <tr style=\"text-align: right;\">\n",
       "      <th></th>\n",
       "      <th>Ausgangs- bzw. Ausbruchsland</th>\n",
       "      <th>Sekundär betroffene Länder*</th>\n",
       "      <th>Krankheitsbild(er)</th>\n",
       "      <th>Fälle gesamt*</th>\n",
       "      <th>Datenstand für Fallzahlen gesamt*</th>\n",
       "      <th>Fälle bestätigt</th>\n",
       "      <th>Warcheinlische Fälle</th>\n",
       "      <th>Verdachtsfälle</th>\n",
       "      <th>Todesfälle</th>\n",
       "      <th>Quelle 1*</th>\n",
       "      <th>...</th>\n",
       "      <th>Link zur Quelle 1</th>\n",
       "      <th>Quelle 2</th>\n",
       "      <th>Datum der Veröffentlichung der Quelle 2</th>\n",
       "      <th>Link zur Quelle 2</th>\n",
       "      <th>Quelle 3</th>\n",
       "      <th>Datum der Veröffentlichung der Quelle 3</th>\n",
       "      <th>Link zur Quelle 3</th>\n",
       "      <th>Quelle 4</th>\n",
       "      <th>Datum der Veröffentlichung der Quelle 4</th>\n",
       "      <th>Link zur Quelle 4</th>\n",
       "    </tr>\n",
       "  </thead>\n",
       "  <tbody>\n",
       "    <tr>\n",
       "      <th>0</th>\n",
       "      <td>Nigeria</td>\n",
       "      <td>Benin</td>\n",
       "      <td>Lassafieber</td>\n",
       "      <td>1121</td>\n",
       "      <td>2018-03-18</td>\n",
       "      <td>376</td>\n",
       "      <td>NaN</td>\n",
       "      <td>NaN</td>\n",
       "      <td>119</td>\n",
       "      <td>WHO AFRO Bericht</td>\n",
       "      <td>...</td>\n",
       "      <td>&lt;http://apps.who.int/iris/bitstream/10665/2604...</td>\n",
       "      <td>NCDC</td>\n",
       "      <td>2018-03-18</td>\n",
       "      <td>NaN</td>\n",
       "      <td>NaN</td>\n",
       "      <td>nan</td>\n",
       "      <td>NaN</td>\n",
       "      <td>NaN</td>\n",
       "      <td>nan</td>\n",
       "      <td>NaN</td>\n",
       "    </tr>\n",
       "    <tr>\n",
       "      <th>1</th>\n",
       "      <td>Benin</td>\n",
       "      <td>None</td>\n",
       "      <td>Lassafieber</td>\n",
       "      <td>24</td>\n",
       "      <td>2018-03-05</td>\n",
       "      <td>5</td>\n",
       "      <td>NaN</td>\n",
       "      <td>16</td>\n",
       "      <td>9</td>\n",
       "      <td>WHO AFRO Bericht</td>\n",
       "      <td>...</td>\n",
       "      <td>&lt;http://apps.who.int/iris/bitstream/10665/2604...</td>\n",
       "      <td>NaN</td>\n",
       "      <td>nan</td>\n",
       "      <td>NaN</td>\n",
       "      <td>NaN</td>\n",
       "      <td>nan</td>\n",
       "      <td>NaN</td>\n",
       "      <td>NaN</td>\n",
       "      <td>nan</td>\n",
       "      <td>NaN</td>\n",
       "    </tr>\n",
       "    <tr>\n",
       "      <th>2</th>\n",
       "      <td>Liberia</td>\n",
       "      <td>None</td>\n",
       "      <td>Lassafieber</td>\n",
       "      <td>42</td>\n",
       "      <td>2018-03-16</td>\n",
       "      <td>7</td>\n",
       "      <td>NaN</td>\n",
       "      <td>NaN</td>\n",
       "      <td>14</td>\n",
       "      <td>WHO AFRO Bericht</td>\n",
       "      <td>...</td>\n",
       "      <td>&lt;http://apps.who.int/iris/bitstream/10665/2604...</td>\n",
       "      <td>NaN</td>\n",
       "      <td>nan</td>\n",
       "      <td>NaN</td>\n",
       "      <td>NaN</td>\n",
       "      <td>nan</td>\n",
       "      <td>NaN</td>\n",
       "      <td>NaN</td>\n",
       "      <td>nan</td>\n",
       "      <td>NaN</td>\n",
       "    </tr>\n",
       "    <tr>\n",
       "      <th>3</th>\n",
       "      <td>Ghana</td>\n",
       "      <td>None</td>\n",
       "      <td>Lassafieber</td>\n",
       "      <td>1</td>\n",
       "      <td>2018-03-02</td>\n",
       "      <td>1</td>\n",
       "      <td>NaN</td>\n",
       "      <td>NaN</td>\n",
       "      <td>1</td>\n",
       "      <td>WHO AFRO Bericht</td>\n",
       "      <td>...</td>\n",
       "      <td>&lt;http://apps.who.int/iris/bitstream/10665/2604...</td>\n",
       "      <td>NaN</td>\n",
       "      <td>nan</td>\n",
       "      <td>NaN</td>\n",
       "      <td>NaN</td>\n",
       "      <td>nan</td>\n",
       "      <td>NaN</td>\n",
       "      <td>NaN</td>\n",
       "      <td>nan</td>\n",
       "      <td>NaN</td>\n",
       "    </tr>\n",
       "    <tr>\n",
       "      <th>4</th>\n",
       "      <td>Fiji</td>\n",
       "      <td>None</td>\n",
       "      <td>Meningitis</td>\n",
       "      <td>18</td>\n",
       "      <td>nan</td>\n",
       "      <td>NaN</td>\n",
       "      <td>NaN</td>\n",
       "      <td>NaN</td>\n",
       "      <td>NaN</td>\n",
       "      <td>ProMED-mail</td>\n",
       "      <td>...</td>\n",
       "      <td>NaN</td>\n",
       "      <td>MoH Fiji</td>\n",
       "      <td>nan</td>\n",
       "      <td>NaN</td>\n",
       "      <td>NaN</td>\n",
       "      <td>nan</td>\n",
       "      <td>NaN</td>\n",
       "      <td>NaN</td>\n",
       "      <td>nan</td>\n",
       "      <td>NaN</td>\n",
       "    </tr>\n",
       "  </tbody>\n",
       "</table>\n",
       "<p>5 rows × 21 columns</p>\n",
       "</div>"
      ],
      "text/plain": [
       "  Ausgangs- bzw. Ausbruchsland Sekundär betroffene Länder* Krankheitsbild(er)  \\\n",
       "0                      Nigeria                       Benin       Lassafieber    \n",
       "1                        Benin                        None        Lassafieber   \n",
       "2                      Liberia                        None        Lassafieber   \n",
       "3                        Ghana                        None       Lassafieber    \n",
       "4                         Fiji                        None         Meningitis   \n",
       "\n",
       "  Fälle gesamt* Datenstand für Fallzahlen gesamt* Fälle bestätigt  \\\n",
       "0          1121                        2018-03-18             376   \n",
       "1            24                        2018-03-05               5   \n",
       "2            42                        2018-03-16               7   \n",
       "3             1                        2018-03-02               1   \n",
       "4            18                               nan             NaN   \n",
       "\n",
       "   Warcheinlische Fälle Verdachtsfälle Todesfälle         Quelle 1*  \\\n",
       "0                   NaN            NaN        119  WHO AFRO Bericht   \n",
       "1                   NaN             16          9  WHO AFRO Bericht   \n",
       "2                   NaN            NaN         14  WHO AFRO Bericht   \n",
       "3                   NaN            NaN          1  WHO AFRO Bericht   \n",
       "4                   NaN            NaN        NaN      ProMED-mail    \n",
       "\n",
       "         ...                                         Link zur Quelle 1  \\\n",
       "0        ...         <http://apps.who.int/iris/bitstream/10665/2604...   \n",
       "1        ...         <http://apps.who.int/iris/bitstream/10665/2604...   \n",
       "2        ...         <http://apps.who.int/iris/bitstream/10665/2604...   \n",
       "3        ...         <http://apps.who.int/iris/bitstream/10665/2604...   \n",
       "4        ...                                                       NaN   \n",
       "\n",
       "   Quelle 2 Datum der Veröffentlichung der Quelle 2 Link zur Quelle 2  \\\n",
       "0     NCDC                               2018-03-18               NaN   \n",
       "1       NaN                                     nan               NaN   \n",
       "2       NaN                                     nan               NaN   \n",
       "3       NaN                                     nan               NaN   \n",
       "4  MoH Fiji                                     nan               NaN   \n",
       "\n",
       "  Quelle 3 Datum der Veröffentlichung der Quelle 3 Link zur Quelle 3 Quelle 4  \\\n",
       "0      NaN                                     nan               NaN      NaN   \n",
       "1      NaN                                     nan               NaN      NaN   \n",
       "2      NaN                                     nan               NaN      NaN   \n",
       "3      NaN                                     nan               NaN      NaN   \n",
       "4      NaN                                     nan               NaN      NaN   \n",
       "\n",
       "  Datum der Veröffentlichung der Quelle 4 Link zur Quelle 4  \n",
       "0                                     nan               NaN  \n",
       "1                                     nan               NaN  \n",
       "2                                     nan               NaN  \n",
       "3                                     nan               NaN  \n",
       "4                                     nan               NaN  \n",
       "\n",
       "[5 rows x 21 columns]"
      ]
     },
     "execution_count": 111,
     "metadata": {},
     "output_type": "execute_result"
    }
   ],
   "source": [
    "edb = get_cleaned_edb(reduced=True)\n",
    "edb.head()"
   ]
  },
  {
   "cell_type": "code",
   "execution_count": 143,
   "metadata": {},
   "outputs": [
    {
     "data": {
      "text/plain": [
       "['wart', 'gonorrhea']"
      ]
     },
     "execution_count": 143,
     "metadata": {},
     "output_type": "execute_result"
    }
   ],
   "source": [
    "clean_disease_name(\"Warzee, Gonorrhoee\")"
   ]
  },
  {
   "cell_type": "code",
   "execution_count": 29,
   "metadata": {},
   "outputs": [],
   "source": [
    "diseases = set(edb[\"Krankheitsbild(er)\"].tolist())"
   ]
  },
  {
   "cell_type": "code",
   "execution_count": 30,
   "metadata": {},
   "outputs": [],
   "source": [
    "translated = [clean_disease_name(i) for i in diseases]"
   ]
  },
  {
   "cell_type": "markdown",
   "metadata": {},
   "source": [
    "# CONTINUE HERE"
   ]
  },
  {
   "cell_type": "markdown",
   "metadata": {},
   "source": [
    "## Country statistic"
   ]
  },
  {
   "cell_type": "code",
   "execution_count": 144,
   "metadata": {},
   "outputs": [
    {
     "name": "stdout",
     "output_type": "stream",
     "text": [
      "295  entries in edb\n",
      "280  are not empty\n",
      "80  are unique\n"
     ]
    }
   ],
   "source": [
    "print(len(edb),\" entries\", \"in edb\")\n",
    "countries_not_null = edb[pd.notnull(edb[\"Ausgangs- bzw. Ausbruchsland\"])]\n",
    "print(len(countries_not_null),\" are not empty\")\n",
    "unique = set(c[0] if type(c)==list else c for c in countries_not_null['Ausgangs- bzw. Ausbruchsland'].tolist())\n",
    "print(len(unique), \" are unique\")"
   ]
  },
  {
   "cell_type": "code",
   "execution_count": 145,
   "metadata": {
    "scrolled": true
   },
   "outputs": [
    {
     "name": "stdout",
     "output_type": "stream",
     "text": [
      "8 countries were not translated\n"
     ]
    },
    {
     "data": {
      "text/plain": [
       "['Typhus',\n",
       " 'VAE Dubai',\n",
       " 'Französisch-Polynesien',\n",
       " 'Nordeuropa',\n",
       " 'La Reunion',\n",
       " 'Französiche Guyana',\n",
       " 'Taiwan',\n",
       " 'DRCongo']"
      ]
     },
     "execution_count": 145,
     "metadata": {},
     "output_type": "execute_result"
    }
   ],
   "source": [
    "wiki_countries_df = get_wiki_countries_df()\n",
    "same_word_translated = []\n",
    "for _, row in wiki_countries_df.iterrows():\n",
    "    if row['state_name_de'] == row['translation_state_name']:\n",
    "        same_word_translated.append(row['state_name_de'])\n",
    "    elif row['full_state_name_de'] == row['translation_state_name']:\n",
    "        same_word_translated.append(row['full_state_name_de'])\n",
    "unprocesed_edb = pd.read_csv(\"edb.csv\", sep=\";\")\n",
    "\n",
    "# Exlude words that are unchanged compared to unproccessed version\n",
    "unchanged_country_names = [e for e in unique if e in unprocesed_edb['Ausgangs- bzw. Ausbruchsland '].tolist()]\n",
    "# Exlude words that are the same after translation\n",
    "unchanged_country_names = [e for e in unchanged_country_names if e not in same_word_translated]\n",
    "# Exlude words that were English in the first place\n",
    "unchanged_country_names =  [e for e in unchanged_country_names if e not in wiki_countries_df[\"translation_state_name\"].tolist()]\n",
    "print(\"{} countries were not translated\".format(len(unchanged_country_names)))\n",
    "unchanged_country_names"
   ]
  },
  {
   "cell_type": "markdown",
   "metadata": {},
   "source": [
    "## Direct comparison to source"
   ]
  },
  {
   "cell_type": "code",
   "execution_count": 146,
   "metadata": {},
   "outputs": [
    {
     "data": {
      "text/plain": [
       "[15, 16, 17, 18, 19, 20, 21, 22, 23, 24, 25, 3, 9, 11, 12]"
      ]
     },
     "execution_count": 146,
     "metadata": {},
     "output_type": "execute_result"
    }
   ],
   "source": [
    "indices_sources = list(range(15,26))\n",
    "indices_sources_and_countries = indices_sources\n",
    "indices_sources_and_countries.extend([3,9,11,12])\n",
    "indices_sources_and_countries"
   ]
  },
  {
   "cell_type": "code",
   "execution_count": 148,
   "metadata": {},
   "outputs": [
    {
     "data": {
      "text/html": [
       "<div>\n",
       "<style scoped>\n",
       "    .dataframe tbody tr th:only-of-type {\n",
       "        vertical-align: middle;\n",
       "    }\n",
       "\n",
       "    .dataframe tbody tr th {\n",
       "        vertical-align: top;\n",
       "    }\n",
       "\n",
       "    .dataframe thead th {\n",
       "        text-align: right;\n",
       "    }\n",
       "</style>\n",
       "<table border=\"1\" class=\"dataframe\">\n",
       "  <thead>\n",
       "    <tr style=\"text-align: right;\">\n",
       "      <th></th>\n",
       "      <th>Ausgangs- bzw. Ausbruchsland</th>\n",
       "      <th>Sekundär betroffene Länder*</th>\n",
       "      <th>Krankheitsbild(er)</th>\n",
       "      <th>Fälle gesamt*</th>\n",
       "      <th>Datenstand für Fallzahlen gesamt*</th>\n",
       "      <th>Fälle bestätigt</th>\n",
       "      <th>Warcheinlische Fälle</th>\n",
       "      <th>Verdachtsfälle</th>\n",
       "      <th>Todesfälle</th>\n",
       "      <th>Quelle 1*</th>\n",
       "      <th>...</th>\n",
       "      <th>Link zur Quelle 1</th>\n",
       "      <th>Quelle 2</th>\n",
       "      <th>Datum der Veröffentlichung der Quelle 2</th>\n",
       "      <th>Link zur Quelle 2</th>\n",
       "      <th>Quelle 3</th>\n",
       "      <th>Datum der Veröffentlichung der Quelle 3</th>\n",
       "      <th>Link zur Quelle 3</th>\n",
       "      <th>Quelle 4</th>\n",
       "      <th>Datum der Veröffentlichung der Quelle 4</th>\n",
       "      <th>Link zur Quelle 4</th>\n",
       "    </tr>\n",
       "  </thead>\n",
       "  <tbody>\n",
       "    <tr>\n",
       "      <th>0</th>\n",
       "      <td>Nigeria</td>\n",
       "      <td>Benin</td>\n",
       "      <td>Lassafieber</td>\n",
       "      <td>1121</td>\n",
       "      <td>2018-03-18</td>\n",
       "      <td>376</td>\n",
       "      <td>NaN</td>\n",
       "      <td>NaN</td>\n",
       "      <td>119</td>\n",
       "      <td>WHO AFRO Bericht</td>\n",
       "      <td>...</td>\n",
       "      <td>&lt;http://apps.who.int/iris/bitstream/10665/2604...</td>\n",
       "      <td>NCDC</td>\n",
       "      <td>2018-03-18</td>\n",
       "      <td>NaN</td>\n",
       "      <td>NaN</td>\n",
       "      <td>nan</td>\n",
       "      <td>NaN</td>\n",
       "      <td>NaN</td>\n",
       "      <td>nan</td>\n",
       "      <td>NaN</td>\n",
       "    </tr>\n",
       "    <tr>\n",
       "      <th>1</th>\n",
       "      <td>Benin</td>\n",
       "      <td>None</td>\n",
       "      <td>Lassafieber</td>\n",
       "      <td>24</td>\n",
       "      <td>2018-03-05</td>\n",
       "      <td>5</td>\n",
       "      <td>NaN</td>\n",
       "      <td>16</td>\n",
       "      <td>9</td>\n",
       "      <td>WHO AFRO Bericht</td>\n",
       "      <td>...</td>\n",
       "      <td>&lt;http://apps.who.int/iris/bitstream/10665/2604...</td>\n",
       "      <td>NaN</td>\n",
       "      <td>nan</td>\n",
       "      <td>NaN</td>\n",
       "      <td>NaN</td>\n",
       "      <td>nan</td>\n",
       "      <td>NaN</td>\n",
       "      <td>NaN</td>\n",
       "      <td>nan</td>\n",
       "      <td>NaN</td>\n",
       "    </tr>\n",
       "    <tr>\n",
       "      <th>2</th>\n",
       "      <td>Liberia</td>\n",
       "      <td>None</td>\n",
       "      <td>Lassafieber</td>\n",
       "      <td>42</td>\n",
       "      <td>2018-03-16</td>\n",
       "      <td>7</td>\n",
       "      <td>NaN</td>\n",
       "      <td>NaN</td>\n",
       "      <td>14</td>\n",
       "      <td>WHO AFRO Bericht</td>\n",
       "      <td>...</td>\n",
       "      <td>&lt;http://apps.who.int/iris/bitstream/10665/2604...</td>\n",
       "      <td>NaN</td>\n",
       "      <td>nan</td>\n",
       "      <td>NaN</td>\n",
       "      <td>NaN</td>\n",
       "      <td>nan</td>\n",
       "      <td>NaN</td>\n",
       "      <td>NaN</td>\n",
       "      <td>nan</td>\n",
       "      <td>NaN</td>\n",
       "    </tr>\n",
       "    <tr>\n",
       "      <th>3</th>\n",
       "      <td>Ghana</td>\n",
       "      <td>None</td>\n",
       "      <td>Lassafieber</td>\n",
       "      <td>1</td>\n",
       "      <td>2018-03-02</td>\n",
       "      <td>1</td>\n",
       "      <td>NaN</td>\n",
       "      <td>NaN</td>\n",
       "      <td>1</td>\n",
       "      <td>WHO AFRO Bericht</td>\n",
       "      <td>...</td>\n",
       "      <td>&lt;http://apps.who.int/iris/bitstream/10665/2604...</td>\n",
       "      <td>NaN</td>\n",
       "      <td>nan</td>\n",
       "      <td>NaN</td>\n",
       "      <td>NaN</td>\n",
       "      <td>nan</td>\n",
       "      <td>NaN</td>\n",
       "      <td>NaN</td>\n",
       "      <td>nan</td>\n",
       "      <td>NaN</td>\n",
       "    </tr>\n",
       "    <tr>\n",
       "      <th>4</th>\n",
       "      <td>Fiji</td>\n",
       "      <td>None</td>\n",
       "      <td>Meningitis</td>\n",
       "      <td>18</td>\n",
       "      <td>nan</td>\n",
       "      <td>NaN</td>\n",
       "      <td>NaN</td>\n",
       "      <td>NaN</td>\n",
       "      <td>NaN</td>\n",
       "      <td>ProMED-mail</td>\n",
       "      <td>...</td>\n",
       "      <td>NaN</td>\n",
       "      <td>MoH Fiji</td>\n",
       "      <td>nan</td>\n",
       "      <td>NaN</td>\n",
       "      <td>NaN</td>\n",
       "      <td>nan</td>\n",
       "      <td>NaN</td>\n",
       "      <td>NaN</td>\n",
       "      <td>nan</td>\n",
       "      <td>NaN</td>\n",
       "    </tr>\n",
       "  </tbody>\n",
       "</table>\n",
       "<p>5 rows × 21 columns</p>\n",
       "</div>"
      ],
      "text/plain": [
       "  Ausgangs- bzw. Ausbruchsland Sekundär betroffene Länder* Krankheitsbild(er)  \\\n",
       "0                      Nigeria                       Benin       Lassafieber    \n",
       "1                        Benin                        None        Lassafieber   \n",
       "2                      Liberia                        None        Lassafieber   \n",
       "3                        Ghana                        None       Lassafieber    \n",
       "4                         Fiji                        None         Meningitis   \n",
       "\n",
       "  Fälle gesamt* Datenstand für Fallzahlen gesamt* Fälle bestätigt  \\\n",
       "0          1121                        2018-03-18             376   \n",
       "1            24                        2018-03-05               5   \n",
       "2            42                        2018-03-16               7   \n",
       "3             1                        2018-03-02               1   \n",
       "4            18                               nan             NaN   \n",
       "\n",
       "   Warcheinlische Fälle Verdachtsfälle Todesfälle         Quelle 1*  \\\n",
       "0                   NaN            NaN        119  WHO AFRO Bericht   \n",
       "1                   NaN             16          9  WHO AFRO Bericht   \n",
       "2                   NaN            NaN         14  WHO AFRO Bericht   \n",
       "3                   NaN            NaN          1  WHO AFRO Bericht   \n",
       "4                   NaN            NaN        NaN      ProMED-mail    \n",
       "\n",
       "         ...                                         Link zur Quelle 1  \\\n",
       "0        ...         <http://apps.who.int/iris/bitstream/10665/2604...   \n",
       "1        ...         <http://apps.who.int/iris/bitstream/10665/2604...   \n",
       "2        ...         <http://apps.who.int/iris/bitstream/10665/2604...   \n",
       "3        ...         <http://apps.who.int/iris/bitstream/10665/2604...   \n",
       "4        ...                                                       NaN   \n",
       "\n",
       "   Quelle 2 Datum der Veröffentlichung der Quelle 2 Link zur Quelle 2  \\\n",
       "0     NCDC                               2018-03-18               NaN   \n",
       "1       NaN                                     nan               NaN   \n",
       "2       NaN                                     nan               NaN   \n",
       "3       NaN                                     nan               NaN   \n",
       "4  MoH Fiji                                     nan               NaN   \n",
       "\n",
       "  Quelle 3 Datum der Veröffentlichung der Quelle 3 Link zur Quelle 3 Quelle 4  \\\n",
       "0      NaN                                     nan               NaN      NaN   \n",
       "1      NaN                                     nan               NaN      NaN   \n",
       "2      NaN                                     nan               NaN      NaN   \n",
       "3      NaN                                     nan               NaN      NaN   \n",
       "4      NaN                                     nan               NaN      NaN   \n",
       "\n",
       "  Datum der Veröffentlichung der Quelle 4 Link zur Quelle 4  \n",
       "0                                     nan               NaN  \n",
       "1                                     nan               NaN  \n",
       "2                                     nan               NaN  \n",
       "3                                     nan               NaN  \n",
       "4                                     nan               NaN  \n",
       "\n",
       "[5 rows x 21 columns]"
      ]
     },
     "execution_count": 148,
     "metadata": {},
     "output_type": "execute_result"
    }
   ],
   "source": [
    "edb.head()"
   ]
  },
  {
   "cell_type": "code",
   "execution_count": 147,
   "metadata": {
    "scrolled": true
   },
   "outputs": [
    {
     "ename": "IndexError",
     "evalue": "positional indexers are out-of-bounds",
     "output_type": "error",
     "traceback": [
      "\u001b[0;31m---------------------------------------------------------------------------\u001b[0m",
      "\u001b[0;31mIndexError\u001b[0m                                Traceback (most recent call last)",
      "\u001b[0;32m<ipython-input-147-d97dcea09ee5>\u001b[0m in \u001b[0;36m<module>\u001b[0;34m\u001b[0m\n\u001b[0;32m----> 1\u001b[0;31m \u001b[0msources\u001b[0m \u001b[0;34m=\u001b[0m \u001b[0medb\u001b[0m\u001b[0;34m.\u001b[0m\u001b[0miloc\u001b[0m\u001b[0;34m[\u001b[0m\u001b[0;34m:\u001b[0m\u001b[0;34m,\u001b[0m\u001b[0mindices_sources_and_countries\u001b[0m\u001b[0;34m]\u001b[0m\u001b[0;34m.\u001b[0m\u001b[0mcopy\u001b[0m\u001b[0;34m(\u001b[0m\u001b[0mdeep\u001b[0m\u001b[0;34m=\u001b[0m\u001b[0;32mTrue\u001b[0m\u001b[0;34m)\u001b[0m \u001b[0;31m# Get only the columns mentioning sources\u001b[0m\u001b[0;34m\u001b[0m\u001b[0;34m\u001b[0m\u001b[0m\n\u001b[0m",
      "\u001b[0;32m/anaconda3/envs/RKI/lib/python3.6/site-packages/pandas/core/indexing.py\u001b[0m in \u001b[0;36m__getitem__\u001b[0;34m(self, key)\u001b[0m\n\u001b[1;32m   1470\u001b[0m             \u001b[0;32mexcept\u001b[0m \u001b[0;34m(\u001b[0m\u001b[0mKeyError\u001b[0m\u001b[0;34m,\u001b[0m \u001b[0mIndexError\u001b[0m\u001b[0;34m)\u001b[0m\u001b[0;34m:\u001b[0m\u001b[0;34m\u001b[0m\u001b[0;34m\u001b[0m\u001b[0m\n\u001b[1;32m   1471\u001b[0m                 \u001b[0;32mpass\u001b[0m\u001b[0;34m\u001b[0m\u001b[0;34m\u001b[0m\u001b[0m\n\u001b[0;32m-> 1472\u001b[0;31m             \u001b[0;32mreturn\u001b[0m \u001b[0mself\u001b[0m\u001b[0;34m.\u001b[0m\u001b[0m_getitem_tuple\u001b[0m\u001b[0;34m(\u001b[0m\u001b[0mkey\u001b[0m\u001b[0;34m)\u001b[0m\u001b[0;34m\u001b[0m\u001b[0;34m\u001b[0m\u001b[0m\n\u001b[0m\u001b[1;32m   1473\u001b[0m         \u001b[0;32melse\u001b[0m\u001b[0;34m:\u001b[0m\u001b[0;34m\u001b[0m\u001b[0;34m\u001b[0m\u001b[0m\n\u001b[1;32m   1474\u001b[0m             \u001b[0;31m# we by definition only have the 0th axis\u001b[0m\u001b[0;34m\u001b[0m\u001b[0;34m\u001b[0m\u001b[0;34m\u001b[0m\u001b[0m\n",
      "\u001b[0;32m/anaconda3/envs/RKI/lib/python3.6/site-packages/pandas/core/indexing.py\u001b[0m in \u001b[0;36m_getitem_tuple\u001b[0;34m(self, tup)\u001b[0m\n\u001b[1;32m   2011\u001b[0m     \u001b[0;32mdef\u001b[0m \u001b[0m_getitem_tuple\u001b[0m\u001b[0;34m(\u001b[0m\u001b[0mself\u001b[0m\u001b[0;34m,\u001b[0m \u001b[0mtup\u001b[0m\u001b[0;34m)\u001b[0m\u001b[0;34m:\u001b[0m\u001b[0;34m\u001b[0m\u001b[0;34m\u001b[0m\u001b[0m\n\u001b[1;32m   2012\u001b[0m \u001b[0;34m\u001b[0m\u001b[0m\n\u001b[0;32m-> 2013\u001b[0;31m         \u001b[0mself\u001b[0m\u001b[0;34m.\u001b[0m\u001b[0m_has_valid_tuple\u001b[0m\u001b[0;34m(\u001b[0m\u001b[0mtup\u001b[0m\u001b[0;34m)\u001b[0m\u001b[0;34m\u001b[0m\u001b[0;34m\u001b[0m\u001b[0m\n\u001b[0m\u001b[1;32m   2014\u001b[0m         \u001b[0;32mtry\u001b[0m\u001b[0;34m:\u001b[0m\u001b[0;34m\u001b[0m\u001b[0;34m\u001b[0m\u001b[0m\n\u001b[1;32m   2015\u001b[0m             \u001b[0;32mreturn\u001b[0m \u001b[0mself\u001b[0m\u001b[0;34m.\u001b[0m\u001b[0m_getitem_lowerdim\u001b[0m\u001b[0;34m(\u001b[0m\u001b[0mtup\u001b[0m\u001b[0;34m)\u001b[0m\u001b[0;34m\u001b[0m\u001b[0;34m\u001b[0m\u001b[0m\n",
      "\u001b[0;32m/anaconda3/envs/RKI/lib/python3.6/site-packages/pandas/core/indexing.py\u001b[0m in \u001b[0;36m_has_valid_tuple\u001b[0;34m(self, key)\u001b[0m\n\u001b[1;32m    220\u001b[0m                 \u001b[0;32mraise\u001b[0m \u001b[0mIndexingError\u001b[0m\u001b[0;34m(\u001b[0m\u001b[0;34m'Too many indexers'\u001b[0m\u001b[0;34m)\u001b[0m\u001b[0;34m\u001b[0m\u001b[0;34m\u001b[0m\u001b[0m\n\u001b[1;32m    221\u001b[0m             \u001b[0;32mtry\u001b[0m\u001b[0;34m:\u001b[0m\u001b[0;34m\u001b[0m\u001b[0;34m\u001b[0m\u001b[0m\n\u001b[0;32m--> 222\u001b[0;31m                 \u001b[0mself\u001b[0m\u001b[0;34m.\u001b[0m\u001b[0m_validate_key\u001b[0m\u001b[0;34m(\u001b[0m\u001b[0mk\u001b[0m\u001b[0;34m,\u001b[0m \u001b[0mi\u001b[0m\u001b[0;34m)\u001b[0m\u001b[0;34m\u001b[0m\u001b[0;34m\u001b[0m\u001b[0m\n\u001b[0m\u001b[1;32m    223\u001b[0m             \u001b[0;32mexcept\u001b[0m \u001b[0mValueError\u001b[0m\u001b[0;34m:\u001b[0m\u001b[0;34m\u001b[0m\u001b[0;34m\u001b[0m\u001b[0m\n\u001b[1;32m    224\u001b[0m                 raise ValueError(\"Location based indexing can only have \"\n",
      "\u001b[0;32m/anaconda3/envs/RKI/lib/python3.6/site-packages/pandas/core/indexing.py\u001b[0m in \u001b[0;36m_validate_key\u001b[0;34m(self, key, axis)\u001b[0m\n\u001b[1;32m   1966\u001b[0m \u001b[0;34m\u001b[0m\u001b[0m\n\u001b[1;32m   1967\u001b[0m             \u001b[0;32mif\u001b[0m \u001b[0mlen\u001b[0m\u001b[0;34m(\u001b[0m\u001b[0marr\u001b[0m\u001b[0;34m)\u001b[0m \u001b[0;32mand\u001b[0m \u001b[0;34m(\u001b[0m\u001b[0marr\u001b[0m\u001b[0;34m.\u001b[0m\u001b[0mmax\u001b[0m\u001b[0;34m(\u001b[0m\u001b[0;34m)\u001b[0m \u001b[0;34m>=\u001b[0m \u001b[0ml\u001b[0m \u001b[0;32mor\u001b[0m \u001b[0marr\u001b[0m\u001b[0;34m.\u001b[0m\u001b[0mmin\u001b[0m\u001b[0;34m(\u001b[0m\u001b[0;34m)\u001b[0m \u001b[0;34m<\u001b[0m \u001b[0;34m-\u001b[0m\u001b[0ml\u001b[0m\u001b[0;34m)\u001b[0m\u001b[0;34m:\u001b[0m\u001b[0;34m\u001b[0m\u001b[0;34m\u001b[0m\u001b[0m\n\u001b[0;32m-> 1968\u001b[0;31m                 \u001b[0;32mraise\u001b[0m \u001b[0mIndexError\u001b[0m\u001b[0;34m(\u001b[0m\u001b[0;34m\"positional indexers are out-of-bounds\"\u001b[0m\u001b[0;34m)\u001b[0m\u001b[0;34m\u001b[0m\u001b[0;34m\u001b[0m\u001b[0m\n\u001b[0m\u001b[1;32m   1969\u001b[0m         \u001b[0;32melse\u001b[0m\u001b[0;34m:\u001b[0m\u001b[0;34m\u001b[0m\u001b[0;34m\u001b[0m\u001b[0m\n\u001b[1;32m   1970\u001b[0m             raise ValueError(\"Can only index by location with \"\n",
      "\u001b[0;31mIndexError\u001b[0m: positional indexers are out-of-bounds"
     ]
    }
   ],
   "source": [
    "sources = edb.iloc[:,indices_sources_and_countries].copy(deep=True) # Get only the columns mentioning sources"
   ]
  },
  {
   "cell_type": "code",
   "execution_count": null,
   "metadata": {},
   "outputs": [],
   "source": [
    "mask = sources.copy(deep=True) # Create a mask for filtering\n",
    "# Use only the columns about sources to filter\n",
    "for column in sources.columns[:11]:\n",
    "    mask[column] = sources[column].str.contains('who',na=False) # Extract all the entries that have the word \"who\"\n",
    "    mask[column] = sources[column].str.contains('don',na=False) # and \"don\"\n",
    "indices = [i for i in range(len(mask)) if not mask.iloc[i,:11].any()] \n",
    "sources_filtered = sources.drop(np.reshape(indices,(len(indices),)))# Drop all rows that don't mention \"who\" or \"don\""
   ]
  },
  {
   "cell_type": "code",
   "execution_count": null,
   "metadata": {
    "scrolled": false
   },
   "outputs": [],
   "source": [
    "# Only get the necessary information from the who dons for comparison\n",
    "comparable_who = parsed_whos_df.iloc[:,[1,2,4]].copy(deep=True)"
   ]
  },
  {
   "cell_type": "code",
   "execution_count": null,
   "metadata": {
    "scrolled": true
   },
   "outputs": [],
   "source": [
    "dates = sources_filtered.iloc[:,[1,4,7,10]].copy(deep=True)"
   ]
  },
  {
   "cell_type": "code",
   "execution_count": null,
   "metadata": {},
   "outputs": [],
   "source": [
    "dates = dates.replace(\"nan\",np.nan)"
   ]
  },
  {
   "cell_type": "code",
   "execution_count": null,
   "metadata": {
    "scrolled": true
   },
   "outputs": [],
   "source": [
    "# Clean dates\n",
    "dates = dates.values.tolist()\n",
    "dates = [list(filter(lambda x: x==x, row)) for row in dates]\n",
    "dates"
   ]
  },
  {
   "cell_type": "code",
   "execution_count": null,
   "metadata": {
    "scrolled": false
   },
   "outputs": [],
   "source": [
    "# Clean faelle\n",
    "faelle = sources_filtered.iloc[:,-3:].copy(deep=True)\n",
    "faelle = faelle.replace(np.nan,\"nan\")\n",
    "faelle = faelle.values.tolist()\n",
    "faelle = [list(filter(lambda x: x==x, row)) for row in faelle]\n",
    "faelle"
   ]
  },
  {
   "cell_type": "code",
   "execution_count": null,
   "metadata": {
    "scrolled": false
   },
   "outputs": [],
   "source": [
    "cases = []\n",
    "for row in faelle:\n",
    "    strings = []\n",
    "    if len(row) >=1 :\n",
    "        for string in row:\n",
    "            string = str(string)\n",
    "            found = re.findall(r\"(\\d{1,})\",string)\n",
    "            strings.extend([digit for digit in found if digit != '' and digit != \"0\"])\n",
    "        cases.append(strings)\n",
    "    else:\n",
    "        cases.append(row)\n",
    "cases"
   ]
  },
  {
   "cell_type": "code",
   "execution_count": null,
   "metadata": {},
   "outputs": [],
   "source": [
    "sources_filtered.columns[-4]"
   ]
  },
  {
   "cell_type": "code",
   "execution_count": null,
   "metadata": {
    "scrolled": false
   },
   "outputs": [],
   "source": [
    "comparable_edb = sources_filtered['Ausgangs- bzw. Ausbruchsland'].copy(deep=True).to_frame()\n",
    "comparable_edb[\"cases\"] = cases\n",
    "comparable_edb[\"dates\"] = dates\n",
    "comparable_edb"
   ]
  },
  {
   "cell_type": "code",
   "execution_count": null,
   "metadata": {
    "scrolled": true
   },
   "outputs": [],
   "source": [
    "comparable_who.head()"
   ]
  },
  {
   "cell_type": "code",
   "execution_count": null,
   "metadata": {},
   "outputs": [],
   "source": [
    "# Match countries\n",
    "found = 0\n",
    "found_c = []\n",
    "for state in comparable_edb[\"Ausgangs- bzw. Ausbruchsland\"]:\n",
    "    for i in comparable_who[\"geonames\"]:\n",
    "        if isinstance(state,str):\n",
    "            if list(filter(lambda x: re.findall(state,x),i)):\n",
    "                found_c.append(state)\n",
    "                found += 1\n",
    "                break\n",
    "\n",
    "                    "
   ]
  },
  {
   "cell_type": "code",
   "execution_count": null,
   "metadata": {},
   "outputs": [],
   "source": [
    "found_c"
   ]
  },
  {
   "cell_type": "code",
   "execution_count": null,
   "metadata": {},
   "outputs": [],
   "source": [
    "[i for i in comparable_edb[\"Ausgangs- bzw. Ausbruchsland\"] if i not in found_c]"
   ]
  },
  {
   "cell_type": "code",
   "execution_count": null,
   "metadata": {},
   "outputs": [],
   "source": [
    "# Match dates\n",
    "from my_utils import matching_elements\n",
    "found_date = {}\n",
    "for index, dates in enumerate(comparable_edb[\"dates\"]):\n",
    "    for i in comparable_who[\"dates\"]:\n",
    "        matches = matching_elements(dates,i)\n",
    "        if len(matching_elemnts(dates,i)) >= 1:\n",
    "            found_date[index] = matches        "
   ]
  },
  {
   "cell_type": "code",
   "execution_count": null,
   "metadata": {
    "scrolled": true
   },
   "outputs": [],
   "source": [
    "found_date"
   ]
  },
  {
   "cell_type": "code",
   "execution_count": null,
   "metadata": {},
   "outputs": [],
   "source": [
    "found_cases = {}\n",
    "for index, cases in enumerate(comparable_edb[\"cases\"]):\n",
    "    for i in comparable_who[\"cases\"]:\n",
    "        matches = matching_elements(cases,i)\n",
    "        if len(matching_elemnts(dates,i)) >= 1:\n",
    "            found_cases[index] = matches  "
   ]
  },
  {
   "cell_type": "code",
   "execution_count": null,
   "metadata": {},
   "outputs": [],
   "source": [
    "comparable_edb[\"cases\"]"
   ]
  },
  {
   "cell_type": "code",
   "execution_count": null,
   "metadata": {},
   "outputs": [],
   "source": [
    "def find_matches(df1_and_indices, df2_and_indices):\n",
    "    indices_matches = []\n",
    "    matches = []\n",
    "    df1, columns1 = df1_and_indices\n",
    "    df2, columns2 = df2_and_indices\n",
    "    for index , row in df1.iterrows():\n",
    "        for _, row in df2.iterrows():\n",
    "            if set()"
   ]
  },
  {
   "cell_type": "code",
   "execution_count": null,
   "metadata": {},
   "outputs": [],
   "source": []
  },
  {
   "cell_type": "code",
   "execution_count": null,
   "metadata": {},
   "outputs": [],
   "source": []
  },
  {
   "cell_type": "code",
   "execution_count": null,
   "metadata": {},
   "outputs": [],
   "source": [
    "sources_filtered.columns[-2::-3]"
   ]
  },
  {
   "cell_type": "code",
   "execution_count": null,
   "metadata": {},
   "outputs": [],
   "source": [
    "# Idea which is not correct and not complete\n",
    "date_matches = {}\n",
    "for column in sources_filtered.columns[-2::-3]: # Use only the columns mentioning dates\n",
    "    date_matches[column] = [i for i in range(len(parsed_whos_df))\\\n",
    "                            if list(map(lambda x: str(x)[:-3],parsed_whos_df[\"date\"].tolist()))[i] \\\n",
    "                            in list(map(lambda x: str(x)[:-12],sources_filtered[column].tolist()))]"
   ]
  },
  {
   "cell_type": "code",
   "execution_count": null,
   "metadata": {},
   "outputs": [],
   "source": [
    "import itertools\n",
    "indices_that_matched = list(set(itertools.chain(*date_matches.values())))"
   ]
  },
  {
   "cell_type": "code",
   "execution_count": null,
   "metadata": {},
   "outputs": [],
   "source": []
  },
  {
   "cell_type": "markdown",
   "metadata": {},
   "source": [
    "# To present"
   ]
  },
  {
   "cell_type": "code",
   "execution_count": null,
   "metadata": {},
   "outputs": [],
   "source": [
    "ereignisdatenbank.iloc[sources_filtered.index.tolist(),[3,6,7,9]]"
   ]
  },
  {
   "cell_type": "code",
   "execution_count": null,
   "metadata": {},
   "outputs": [],
   "source": [
    "parsed_whos_df.iloc[indices_that_matched,1:].sort_values(\"date\")"
   ]
  },
  {
   "cell_type": "code",
   "execution_count": null,
   "metadata": {},
   "outputs": [],
   "source": [
    "# Prettify the link description\n",
    "link_description = [re.search(r'don/(.*)/en',all_links[i])[1]\\\n",
    "                    .replace('-', ' ',2).replace('-',', ',2).replace('-',' ')\\\n",
    "                    for i in range(len(all_links))]"
   ]
  },
  {
   "cell_type": "code",
   "execution_count": null,
   "metadata": {},
   "outputs": [],
   "source": [
    "# Extract the most important columns\n",
    "compare = parsed_whos_df.iloc[:,[1,3,4]].copy()\n",
    "compare['link_description'] = pd.Series(link_description,index=compare.index)"
   ]
  },
  {
   "cell_type": "code",
   "execution_count": null,
   "metadata": {
    "scrolled": false
   },
   "outputs": [],
   "source": [
    "compare[\"date\"].iloc[0]"
   ]
  },
  {
   "cell_type": "code",
   "execution_count": null,
   "metadata": {},
   "outputs": [],
   "source": [
    "# These are the links that were faulty during annotation\n",
    "to_check = compare[compare[\"keyword\"].isnull()==True].index.values\n",
    "links_to_check = np.asarray(all_links)[to_check] # Get the links that caused the bad annotations"
   ]
  },
  {
   "cell_type": "code",
   "execution_count": null,
   "metadata": {},
   "outputs": [],
   "source": [
    "annotated_faulty_text = create_annotated_database(extract(links_to_check),raw=True)"
   ]
  },
  {
   "cell_type": "code",
   "execution_count": null,
   "metadata": {},
   "outputs": [],
   "source": [
    "faulty_df = pd.DataFrame.from_dict(annotated_faulty_text).iloc[:,1:]\n",
    "faulty_df"
   ]
  },
  {
   "cell_type": "code",
   "execution_count": null,
   "metadata": {},
   "outputs": [],
   "source": [
    "# Entries that had the occurence of a geographical entity more than once\n",
    "parsed_whos_df[parsed_whos_df[\"geoname\"].str.len()>1]"
   ]
  },
  {
   "cell_type": "code",
   "execution_count": null,
   "metadata": {},
   "outputs": [],
   "source": []
  }
 ],
 "metadata": {
  "kernelspec": {
   "display_name": "Python 3",
   "language": "python",
   "name": "python3"
  },
  "language_info": {
   "codemirror_mode": {
    "name": "ipython",
    "version": 3
   },
   "file_extension": ".py",
   "mimetype": "text/x-python",
   "name": "python",
   "nbconvert_exporter": "python",
   "pygments_lexer": "ipython3",
   "version": "3.6.7"
  }
 },
 "nbformat": 4,
 "nbformat_minor": 2
}
