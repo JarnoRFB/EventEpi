{
 "cells": [
  {
   "cell_type": "code",
   "execution_count": 26,
   "metadata": {},
   "outputs": [],
   "source": [
    "%load_ext autoreload\n",
    "%autoreload 2"
   ]
  },
  {
   "cell_type": "code",
   "execution_count": 5,
   "metadata": {},
   "outputs": [],
   "source": [
    "import nltk\n",
    "import inflect\n",
    "import numpy as np\n",
    "import pandas as pd\n",
    "from tqdm import tqdm\n",
    "from nltk import sent_tokenize\n",
    "from nltk.corpus import stopwords\n",
    "from nlp_surveillance.classifier import extract_sentence\n",
    "from nlp_surveillance.pipeline import ExtractSentencesAndLabel, RecommenderLabeling, RecommenderTierAnnotation\n",
    "from nlp_surveillance.classifier import summarize\n",
    "from utils.my_utils import split_list_and_distribute_to_new_rows"
   ]
  },
  {
   "cell_type": "markdown",
   "metadata": {},
   "source": [
    "# Count/Date Classifier: Most Informative Words"
   ]
  },
  {
   "cell_type": "code",
   "execution_count": 45,
   "metadata": {},
   "outputs": [
    {
     "data": {
      "text/html": [
       "<div>\n",
       "<style scoped>\n",
       "    .dataframe tbody tr th:only-of-type {\n",
       "        vertical-align: middle;\n",
       "    }\n",
       "\n",
       "    .dataframe tbody tr th {\n",
       "        vertical-align: top;\n",
       "    }\n",
       "\n",
       "    .dataframe thead th {\n",
       "        text-align: right;\n",
       "    }\n",
       "</style>\n",
       "<table border=\"1\" class=\"dataframe\">\n",
       "  <thead>\n",
       "    <tr style=\"text-align: right;\">\n",
       "      <th></th>\n",
       "      <th>sentence</th>\n",
       "      <th>label</th>\n",
       "    </tr>\n",
       "  </thead>\n",
       "  <tbody>\n",
       "    <tr>\n",
       "      <th>0</th>\n",
       "      <td>[preparedness, +234(0)708, us, 9700, control, ...</td>\n",
       "      <td>False</td>\n",
       "    </tr>\n",
       "    <tr>\n",
       "      <th>1</th>\n",
       "      <td>[preparedness, +234(0)708, us, 9700, control, ...</td>\n",
       "      <td>False</td>\n",
       "    </tr>\n",
       "    <tr>\n",
       "      <th>2</th>\n",
       "      <td>[preparedness, +234(0)708, us, 9700, control, ...</td>\n",
       "      <td>False</td>\n",
       "    </tr>\n",
       "    <tr>\n",
       "      <th>3</th>\n",
       "      <td>[held, achieve, Goals, LeoneSustainable, Weste...</td>\n",
       "      <td>False</td>\n",
       "    </tr>\n",
       "    <tr>\n",
       "      <th>4</th>\n",
       "      <td>[held, achieve, Goals, LeoneSustainable, Weste...</td>\n",
       "      <td>False</td>\n",
       "    </tr>\n",
       "  </tbody>\n",
       "</table>\n",
       "</div>"
      ],
      "text/plain": [
       "                                            sentence  label\n",
       "0  [preparedness, +234(0)708, us, 9700, control, ...  False\n",
       "1  [preparedness, +234(0)708, us, 9700, control, ...  False\n",
       "2  [preparedness, +234(0)708, us, 9700, control, ...  False\n",
       "3  [held, achieve, Goals, LeoneSustainable, Weste...  False\n",
       "4  [held, achieve, Goals, LeoneSustainable, Weste...  False"
      ]
     },
     "execution_count": 45,
     "metadata": {},
     "output_type": "execute_result"
    }
   ],
   "source": [
    "df_sent = ExtractSentencesAndLabel('counts').data_output()\n",
    "df_sent['sentence']= df_sent['sentence'].apply(lambda x: list(set(x.split()) - set(stopwords.words('english'))))\n",
    "df_sent.head()"
   ]
  },
  {
   "cell_type": "code",
   "execution_count": 46,
   "metadata": {},
   "outputs": [
    {
     "data": {
      "text/html": [
       "<div>\n",
       "<style scoped>\n",
       "    .dataframe tbody tr th:only-of-type {\n",
       "        vertical-align: middle;\n",
       "    }\n",
       "\n",
       "    .dataframe tbody tr th {\n",
       "        vertical-align: top;\n",
       "    }\n",
       "\n",
       "    .dataframe thead th {\n",
       "        text-align: right;\n",
       "    }\n",
       "</style>\n",
       "<table border=\"1\" class=\"dataframe\">\n",
       "  <thead>\n",
       "    <tr style=\"text-align: right;\">\n",
       "      <th></th>\n",
       "      <th>label</th>\n",
       "      <th>sentence</th>\n",
       "    </tr>\n",
       "  </thead>\n",
       "  <tbody>\n",
       "    <tr>\n",
       "      <th>0</th>\n",
       "      <td>False</td>\n",
       "      <td>preparedness</td>\n",
       "    </tr>\n",
       "    <tr>\n",
       "      <th>1</th>\n",
       "      <td>False</td>\n",
       "      <td>+234(0)708</td>\n",
       "    </tr>\n",
       "    <tr>\n",
       "      <th>2</th>\n",
       "      <td>False</td>\n",
       "      <td>us</td>\n",
       "    </tr>\n",
       "    <tr>\n",
       "      <th>3</th>\n",
       "      <td>False</td>\n",
       "      <td>9700</td>\n",
       "    </tr>\n",
       "    <tr>\n",
       "      <th>4</th>\n",
       "      <td>False</td>\n",
       "      <td>control</td>\n",
       "    </tr>\n",
       "  </tbody>\n",
       "</table>\n",
       "</div>"
      ],
      "text/plain": [
       "   label      sentence\n",
       "0  False  preparedness\n",
       "1  False    +234(0)708\n",
       "2  False            us\n",
       "3  False          9700\n",
       "4  False       control"
      ]
     },
     "execution_count": 46,
     "metadata": {},
     "output_type": "execute_result"
    }
   ],
   "source": [
    "df_sent = split_list_and_distribute_to_new_rows(df_sent, 'sentence')\n",
    "df_sent.head()"
   ]
  },
  {
   "cell_type": "code",
   "execution_count": 47,
   "metadata": {
    "scrolled": true
   },
   "outputs": [
    {
     "data": {
      "text/plain": [
       "[({'word': 'preparedness'}, False),\n",
       " ({'word': '+234(0)708'}, False),\n",
       " ({'word': 'us'}, False),\n",
       " ({'word': '9700'}, False),\n",
       " ({'word': 'control'}, False),\n",
       " ({'word': '0010Whatsapp:'}, False),\n",
       " ({'word': '5577×Contact'}, False),\n",
       " ({'word': 'non-communicable'}, False),\n",
       " ({'word': 'year'}, False),\n",
       " ({'word': 'established'}, False),\n",
       " ({'word': 'Nigeria’s'}, False),\n",
       " ({'word': 'Nigeria'}, False),\n",
       " ({'word': 'Disease'}, False),\n",
       " ({'word': 'challenges'}, False),\n",
       " ({'word': '0839SMS'}, False),\n",
       " ({'word': 'detection'}, False),\n",
       " ({'word': 'epidemics'}, False),\n",
       " ({'word': 'diseases.Connect'}, False),\n",
       " ({'word': '(NCDC)'}, False),\n",
       " ({'word': 'Free'}, False),\n",
       " ({'word': '711'}, False),\n",
       " ({'word': 'health'}, False),\n",
       " ({'word': 'NCDCThe'}, False),\n",
       " ({'word': 'Subscribe'}, False),\n",
       " ({'word': 'Centre'}, False),\n",
       " ({'word': '2011'}, False),\n",
       " ({'word': 'enhance'}, False),\n",
       " ({'word': '0800'}, False),\n",
       " ({'word': 'Control'}, False),\n",
       " ({'word': '955'}, False),\n",
       " ({'word': 'Number:'}, False),\n",
       " ({'word': 'NewsletterMandate'}, False),\n",
       " ({'word': 'public'}, False),\n",
       " ({'word': 'prevention,'}, False),\n",
       " ({'word': '+234(0)809'}, False),\n",
       " ({'word': 'communicable'}, False),\n",
       " ({'word': 'handlesToll'}, False),\n",
       " ({'word': 'response'}, False),\n",
       " ({'word': 'CentreToll'}, False),\n",
       " ({'word': 'emergencies'}, False),\n",
       " ({'word': 'preparedness'}, False),\n",
       " ({'word': '+234(0)708'}, False),\n",
       " ({'word': 'us'}, False),\n",
       " ({'word': '9700'}, False),\n",
       " ({'word': 'control'}, False),\n",
       " ({'word': '0010Whatsapp:'}, False),\n",
       " ({'word': '5577×Contact'}, False),\n",
       " ({'word': 'non-communicable'}, False),\n",
       " ({'word': 'year'}, False),\n",
       " ({'word': 'established'}, False),\n",
       " ({'word': 'Nigeria’s'}, False),\n",
       " ({'word': 'Nigeria'}, False),\n",
       " ({'word': 'Disease'}, False),\n",
       " ({'word': 'challenges'}, False),\n",
       " ({'word': '0839SMS'}, False),\n",
       " ({'word': 'detection'}, False),\n",
       " ({'word': 'epidemics'}, False),\n",
       " ({'word': 'diseases.Connect'}, False),\n",
       " ({'word': '(NCDC)'}, False),\n",
       " ({'word': 'Free'}, False),\n",
       " ({'word': '711'}, False),\n",
       " ({'word': 'health'}, False),\n",
       " ({'word': 'NCDCThe'}, False),\n",
       " ({'word': 'Subscribe'}, False),\n",
       " ({'word': 'Centre'}, False),\n",
       " ({'word': '2011'}, False),\n",
       " ({'word': 'enhance'}, False),\n",
       " ({'word': '0800'}, False),\n",
       " ({'word': 'Control'}, False),\n",
       " ({'word': '955'}, False),\n",
       " ({'word': 'Number:'}, False),\n",
       " ({'word': 'NewsletterMandate'}, False),\n",
       " ({'word': 'public'}, False),\n",
       " ({'word': 'prevention,'}, False),\n",
       " ({'word': '+234(0)809'}, False),\n",
       " ({'word': 'communicable'}, False),\n",
       " ({'word': 'handlesToll'}, False),\n",
       " ({'word': 'response'}, False),\n",
       " ({'word': 'CentreToll'}, False),\n",
       " ({'word': 'emergencies'}, False),\n",
       " ({'word': 'preparedness'}, False),\n",
       " ({'word': '+234(0)708'}, False),\n",
       " ({'word': 'us'}, False),\n",
       " ({'word': '9700'}, False),\n",
       " ({'word': 'control'}, False),\n",
       " ({'word': '0010Whatsapp:'}, False),\n",
       " ({'word': '5577×Contact'}, False),\n",
       " ({'word': 'non-communicable'}, False),\n",
       " ({'word': 'year'}, False),\n",
       " ({'word': 'established'}, False),\n",
       " ({'word': 'Nigeria’s'}, False),\n",
       " ({'word': 'Nigeria'}, False),\n",
       " ({'word': 'Disease'}, False),\n",
       " ({'word': 'challenges'}, False),\n",
       " ({'word': '0839SMS'}, False),\n",
       " ({'word': 'detection'}, False),\n",
       " ({'word': 'epidemics'}, False),\n",
       " ({'word': 'diseases.Connect'}, False),\n",
       " ({'word': '(NCDC)'}, False),\n",
       " ({'word': 'Free'}, False),\n",
       " ({'word': '711'}, False),\n",
       " ({'word': 'health'}, False),\n",
       " ({'word': 'NCDCThe'}, False),\n",
       " ({'word': 'Subscribe'}, False),\n",
       " ({'word': 'Centre'}, False),\n",
       " ({'word': '2011'}, False),\n",
       " ({'word': 'enhance'}, False),\n",
       " ({'word': '0800'}, False),\n",
       " ({'word': 'Control'}, False),\n",
       " ({'word': '955'}, False),\n",
       " ({'word': 'Number:'}, False),\n",
       " ({'word': 'NewsletterMandate'}, False),\n",
       " ({'word': 'public'}, False),\n",
       " ({'word': 'prevention,'}, False),\n",
       " ({'word': '+234(0)809'}, False),\n",
       " ({'word': 'communicable'}, False),\n",
       " ({'word': 'handlesToll'}, False),\n",
       " ({'word': 'response'}, False),\n",
       " ({'word': 'CentreToll'}, False),\n",
       " ({'word': 'emergencies'}, False),\n",
       " ({'word': 'held'}, False),\n",
       " ({'word': 'achieve'}, False),\n",
       " ({'word': 'Goals'}, False),\n",
       " ({'word': 'LeoneSustainable'}, False),\n",
       " ({'word': 'Western'}, False),\n",
       " ({'word': 'GoalsThe'}, False),\n",
       " ({'word': 'agreed'}, False),\n",
       " ({'word': 'try'}, False),\n",
       " ({'word': 'Sustainable'}, False),\n",
       " ({'word': 'Nations'}, False),\n",
       " ({'word': 'fight'}, False),\n",
       " ({'word': '2019'}, False),\n",
       " ({'word': 'Development'}, False),\n",
       " ({'word': 'Koinadugu,'}, False),\n",
       " ({'word': '–'}, False),\n",
       " ({'word': 'historic'}, False),\n",
       " ({'word': 'UN'}, False),\n",
       " ({'word': 'Sierra'}, False),\n",
       " ({'word': 'year'}, False),\n",
       " ({'word': 'United'}, False),\n",
       " ({'word': '191'}, False),\n",
       " ({'word': 'event'}, False),\n",
       " ({'word': '25'}, False),\n",
       " ({'word': 'targets'}, False),\n",
       " ({'word': '169'}, False),\n",
       " ({'word': 'Member'}, False),\n",
       " ({'word': '2030.'}, False),\n",
       " ({'word': '17'}, False),\n",
       " ({'word': 'care'}, False),\n",
       " ({'word': 'Leonefield'}, False),\n",
       " ({'word': 'States'}, False),\n",
       " ({'word': 'report'}, False),\n",
       " ({'word': 'In'}, False),\n",
       " ({'word': 'Abuja,'}, False),\n",
       " ({'word': 'facilitiesSurvivors'}, False),\n",
       " ({'word': 'LimboStepping'}, False),\n",
       " ({'word': '(SDGs)'}, False),\n",
       " ({'word': 'hygiene'}, False),\n",
       " ({'word': 'the…MultimediaHand'}, False),\n",
       " ({'word': 'January'}, False),\n",
       " ({'word': 'goals'}, False),\n",
       " ({'word': 'Ebola'}, False),\n",
       " ({'word': 'held'}, False),\n",
       " ({'word': 'achieve'}, False),\n",
       " ({'word': 'Goals'}, False),\n",
       " ({'word': 'LeoneSustainable'}, False),\n",
       " ({'word': 'Western'}, False),\n",
       " ({'word': 'GoalsThe'}, False),\n",
       " ({'word': 'agreed'}, False),\n",
       " ({'word': 'try'}, False),\n",
       " ({'word': 'Sustainable'}, False),\n",
       " ({'word': 'Nations'}, False),\n",
       " ({'word': 'fight'}, False),\n",
       " ({'word': '2019'}, False),\n",
       " ({'word': 'Development'}, False),\n",
       " ({'word': 'Koinadugu,'}, False),\n",
       " ({'word': '–'}, False),\n",
       " ({'word': 'historic'}, False),\n",
       " ({'word': 'UN'}, False),\n",
       " ({'word': 'Sierra'}, False),\n",
       " ({'word': 'year'}, False),\n",
       " ({'word': 'United'}, False),\n",
       " ({'word': '191'}, False),\n",
       " ({'word': 'event'}, False),\n",
       " ({'word': '25'}, False),\n",
       " ({'word': 'targets'}, False),\n",
       " ({'word': '169'}, False),\n",
       " ({'word': 'Member'}, False),\n",
       " ({'word': '2030.'}, False),\n",
       " ({'word': '17'}, False),\n",
       " ({'word': 'care'}, False),\n",
       " ({'word': 'Leonefield'}, False),\n",
       " ({'word': 'States'}, False),\n",
       " ({'word': 'report'}, False),\n",
       " ({'word': 'In'}, False),\n",
       " ({'word': 'Abuja,'}, False),\n",
       " ({'word': 'facilitiesSurvivors'}, False),\n",
       " ({'word': 'LimboStepping'}, False),\n",
       " ({'word': '(SDGs)'}, False),\n",
       " ({'word': 'hygiene'}, False),\n",
       " ({'word': 'the…MultimediaHand'}, False),\n",
       " ({'word': 'January'}, False),\n",
       " ({'word': 'goals'}, False),\n",
       " ({'word': 'Ebola'}, False),\n",
       " ({'word': 'held'}, False),\n",
       " ({'word': 'achieve'}, False),\n",
       " ({'word': 'Goals'}, False),\n",
       " ({'word': 'LeoneSustainable'}, False),\n",
       " ({'word': 'Western'}, False),\n",
       " ({'word': 'GoalsThe'}, False),\n",
       " ({'word': 'agreed'}, False),\n",
       " ({'word': 'try'}, False),\n",
       " ({'word': 'Sustainable'}, False),\n",
       " ({'word': 'Nations'}, False),\n",
       " ({'word': 'fight'}, False),\n",
       " ({'word': '2019'}, False),\n",
       " ({'word': 'Development'}, False),\n",
       " ({'word': 'Koinadugu,'}, False),\n",
       " ({'word': '–'}, False),\n",
       " ({'word': 'historic'}, False),\n",
       " ({'word': 'UN'}, False),\n",
       " ({'word': 'Sierra'}, False),\n",
       " ({'word': 'year'}, False),\n",
       " ({'word': 'United'}, False),\n",
       " ({'word': '191'}, False),\n",
       " ({'word': 'event'}, False),\n",
       " ({'word': '25'}, False),\n",
       " ({'word': 'targets'}, False),\n",
       " ({'word': '169'}, False),\n",
       " ({'word': 'Member'}, False),\n",
       " ({'word': '2030.'}, False),\n",
       " ({'word': '17'}, False),\n",
       " ({'word': 'care'}, False),\n",
       " ({'word': 'Leonefield'}, False),\n",
       " ({'word': 'States'}, False),\n",
       " ({'word': 'report'}, False),\n",
       " ({'word': 'In'}, False),\n",
       " ({'word': 'Abuja,'}, False),\n",
       " ({'word': 'facilitiesSurvivors'}, False),\n",
       " ({'word': 'LimboStepping'}, False),\n",
       " ({'word': '(SDGs)'}, False),\n",
       " ({'word': 'hygiene'}, False),\n",
       " ({'word': 'the…MultimediaHand'}, False),\n",
       " ({'word': 'January'}, False),\n",
       " ({'word': 'goals'}, False),\n",
       " ({'word': 'Ebola'}, False),\n",
       " ({'word': 'Les'}, False),\n",
       " ({'word': 'son'}, False),\n",
       " ({'word': 'Saint-Paul'}, False),\n",
       " ({'word': 'se'}, False),\n",
       " ({'word': 'notamment'}, False),\n",
       " ({'word': 'sud,'}, False),\n",
       " ({'word': 'l’ouest,'}, False),\n",
       " ({'word': 'leurs'}, False),\n",
       " ({'word': 'dengue'}, False),\n",
       " ({'word': 'retour'}, False),\n",
       " ({'word': 'protéger'}, False),\n",
       " ({'word': 'niveau'}, False),\n",
       " ({'word': 'sont'}, False),\n",
       " ({'word': 'qui'}, False),\n",
       " ({'word': '976'}, False),\n",
       " ({'word': 'Saint-Leu,'}, False),\n",
       " ({'word': '1er'}, False),\n",
       " ({'word': 'différents'}, False),\n",
       " ({'word': 'du'}, False),\n",
       " ({'word': 'lutter'}, False),\n",
       " ({'word': 'ont'}, False),\n",
       " ({'word': 'cette'}, False),\n",
       " ({'word': 'dispositifs'}, False),\n",
       " ({'word': 'poursuit'}, False),\n",
       " ({'word': 'chacun'}, False),\n",
       " ({'word': 'localisation'}, False),\n",
       " ({'word': 'L’augmentation'}, False),\n",
       " ({'word': 'sur'}, False),\n",
       " ({'word': 'le'}, False),\n",
       " ({'word': 'Saint-Louis'}, False),\n",
       " ({'word': 'entourage.Depuis'}, False),\n",
       " ({'word': '2018,'}, False),\n",
       " ({'word': 'cas'}, False),\n",
       " ({'word': 'avec'}, False),\n",
       " ({'word': 'dans'}, False),\n",
       " ({'word': 'et'}, False),\n",
       " ({'word': 'semaine'}, False),\n",
       " ({'word': 'moustiques'}, False),\n",
       " ({'word': 'été'}, False),\n",
       " ({'word': 'confirmés.'}, False),\n",
       " ({'word': 'janvier'}, False),\n",
       " ({'word': '6'}, False),\n",
       " ({'word': 'pour'}, False),\n",
       " ({'word': 'de'}, False),\n",
       " ({'word': 'multiplient'}, False),\n",
       " ({'word': 'la'}, False),\n",
       " ({'word': 'actions'}, False),\n",
       " ({'word': 'au'}, False),\n",
       " ({'word': 'ce'}, False),\n",
       " ({'word': 'département,'}, False),\n",
       " ({'word': 'nombre'}, False),\n",
       " ({'word': 'renforcent'}, False),\n",
       " ({'word': 'que'}, False),\n",
       " ({'word': 'vacances,'}, False),\n",
       " ({'word': 'rappeler'}, False),\n",
       " ({'word': 'Possession.En'}, False),\n",
       " ({'word': 'acteurs'}, False),\n",
       " ({'word': 'Avirons'}, False),\n",
       " ({'word': 'à'}, False),\n",
       " ({'word': 'ainsi'}, False),\n",
       " ({'word': 'une'}, False),\n",
       " ({'word': 'adopter'}, False),\n",
       " ({'word': 'gestes'}, False),\n",
       " ({'word': 'contre'}, False),\n",
       " ({'word': 'prévention'}, False),\n",
       " ({'word': 'les'}, False),\n",
       " ({'word': 'l’ensemble'}, False),\n",
       " ({'word': 'Les'}, False),\n",
       " ({'word': 'son'}, False),\n",
       " ({'word': 'Saint-Paul'}, False),\n",
       " ({'word': 'se'}, False),\n",
       " ({'word': 'notamment'}, False),\n",
       " ({'word': 'sud,'}, False),\n",
       " ({'word': 'l’ouest,'}, False),\n",
       " ({'word': 'leurs'}, False),\n",
       " ({'word': 'dengue'}, False),\n",
       " ({'word': 'retour'}, False),\n",
       " ({'word': 'protéger'}, False),\n",
       " ({'word': 'niveau'}, False),\n",
       " ({'word': 'sont'}, False),\n",
       " ({'word': 'qui'}, False),\n",
       " ({'word': '976'}, False),\n",
       " ({'word': 'Saint-Leu,'}, False),\n",
       " ({'word': '1er'}, False),\n",
       " ({'word': 'différents'}, False),\n",
       " ({'word': 'du'}, False),\n",
       " ({'word': 'lutter'}, False),\n",
       " ({'word': 'ont'}, False),\n",
       " ({'word': 'cette'}, False),\n",
       " ({'word': 'dispositifs'}, False),\n",
       " ({'word': 'poursuit'}, False),\n",
       " ({'word': 'chacun'}, False),\n",
       " ({'word': 'localisation'}, False),\n",
       " ({'word': 'L’augmentation'}, False),\n",
       " ({'word': 'sur'}, False),\n",
       " ({'word': 'le'}, False),\n",
       " ({'word': 'Saint-Louis'}, False),\n",
       " ({'word': 'entourage.Depuis'}, False),\n",
       " ({'word': '2018,'}, False),\n",
       " ({'word': 'cas'}, False),\n",
       " ({'word': 'avec'}, False),\n",
       " ({'word': 'dans'}, False),\n",
       " ({'word': 'et'}, False),\n",
       " ({'word': 'semaine'}, False),\n",
       " ({'word': 'moustiques'}, False),\n",
       " ({'word': 'été'}, False),\n",
       " ({'word': 'confirmés.'}, False),\n",
       " ({'word': 'janvier'}, False),\n",
       " ({'word': '6'}, False),\n",
       " ({'word': 'pour'}, False),\n",
       " ({'word': 'de'}, False),\n",
       " ({'word': 'multiplient'}, False),\n",
       " ({'word': 'la'}, False),\n",
       " ({'word': 'actions'}, False),\n",
       " ({'word': 'au'}, False),\n",
       " ({'word': 'ce'}, False),\n",
       " ({'word': 'département,'}, False),\n",
       " ({'word': 'nombre'}, False),\n",
       " ({'word': 'renforcent'}, False),\n",
       " ({'word': 'que'}, False),\n",
       " ({'word': 'vacances,'}, False),\n",
       " ({'word': 'rappeler'}, False),\n",
       " ({'word': 'Possession.En'}, False),\n",
       " ({'word': 'acteurs'}, False),\n",
       " ({'word': 'Avirons'}, False),\n",
       " ({'word': 'à'}, False),\n",
       " ({'word': 'ainsi'}, False),\n",
       " ({'word': 'une'}, False),\n",
       " ({'word': 'adopter'}, False),\n",
       " ({'word': 'gestes'}, False),\n",
       " ({'word': 'contre'}, False),\n",
       " ({'word': 'prévention'}, False),\n",
       " ({'word': 'les'}, False),\n",
       " ({'word': 'l’ensemble'}, False),\n",
       " ({'word': 'African'}, False),\n",
       " ({'word': 'Republic'}, False),\n",
       " ({'word': 'total'}, False),\n",
       " ({'word': 'follow-up'}, False),\n",
       " ({'word': '(CAR),'}, False),\n",
       " ({'word': 'cases'}, False),\n",
       " ({'word': 'Central'}, False),\n",
       " ({'word': 'outbreak'}, False),\n",
       " ({'word': 'reported'}, False),\n",
       " ({'word': 'Bambari'}, False),\n",
       " ({'word': 'monkeypox'}, False),\n",
       " ({'word': 'eight'}, False),\n",
       " ({'word': 'deaths'}, False),\n",
       " ({'word': 'district'}, False),\n",
       " ({'word': 'In'}, False),\n",
       " ({'word': ','}, False),\n",
       " ({'word': 'Mar.'}, False),\n",
       " ({'word': 'zero'}, False),\n",
       " ({'word': 'African'}, False),\n",
       " ({'word': 'Republic'}, False),\n",
       " ({'word': 'total'}, False),\n",
       " ({'word': 'follow-up'}, False),\n",
       " ({'word': '(CAR),'}, False),\n",
       " ({'word': 'cases'}, False),\n",
       " ({'word': 'Central'}, False),\n",
       " ({'word': 'outbreak'}, False),\n",
       " ({'word': 'reported'}, False),\n",
       " ({'word': 'Bambari'}, False),\n",
       " ({'word': 'monkeypox'}, False),\n",
       " ({'word': 'eight'}, False),\n",
       " ({'word': 'deaths'}, False),\n",
       " ({'word': 'district'}, False),\n",
       " ({'word': 'In'}, False),\n",
       " ({'word': ','}, False),\n",
       " ({'word': 'Mar.'}, False),\n",
       " ({'word': 'zero'}, False),\n",
       " ({'word': 'since'}, False),\n",
       " ({'word': 'outbreak.CAR'}, False),\n",
       " ({'word': 'declared'}, False),\n",
       " ({'word': 'outbreak'}, False),\n",
       " ({'word': 'Health'}, False),\n",
       " ({'word': 'start'}, False),\n",
       " ({'word': 'Ministry'}, False),\n",
       " ({'word': 'Mar.'}, False),\n",
       " ({'word': '25'}, False),\n",
       " ({'word': '(50%)'}, False),\n",
       " ({'word': '5'}, False),\n",
       " ({'word': 'Ippy.Four'}, False),\n",
       " ({'word': '17'}, False),\n",
       " ({'word': 'cases'}, False),\n",
       " ({'word': 'sub-district'}, False),\n",
       " ({'word': 'eight'}, False),\n",
       " ({'word': 'male;'}, False),\n",
       " ({'word': 'years'}, False),\n",
       " ({'word': 'age.'}, False),\n",
       " ({'word': '(50%)'}, False),\n",
       " ({'word': '5'}, False),\n",
       " ({'word': 'Ippy.Four'}, False),\n",
       " ({'word': '17'}, False),\n",
       " ({'word': 'cases'}, False),\n",
       " ({'word': 'sub-district'}, False),\n",
       " ({'word': 'eight'}, False),\n",
       " ({'word': 'male;'}, False),\n",
       " ({'word': 'years'}, False),\n",
       " ({'word': 'age.'}, False),\n",
       " ({'word': '(50%)'}, False),\n",
       " ({'word': '5'}, False),\n",
       " ({'word': 'Ippy.Four'}, False),\n",
       " ({'word': '17'}, False),\n",
       " ({'word': 'cases'}, False),\n",
       " ({'word': 'sub-district'}, False),\n",
       " ({'word': 'eight'}, False),\n",
       " ({'word': 'male;'}, False),\n",
       " ({'word': 'years'}, False),\n",
       " ({'word': 'age.'}, False),\n",
       " ({'word': '(50%)'}, False),\n",
       " ({'word': '5'}, False),\n",
       " ({'word': 'Ippy.Four'}, False),\n",
       " ({'word': '17'}, False),\n",
       " ({'word': 'cases'}, False),\n",
       " ({'word': 'sub-district'}, False),\n",
       " ({'word': 'eight'}, False),\n",
       " ({'word': 'male;'}, False),\n",
       " ({'word': 'years'}, False),\n",
       " ({'word': 'age.'}, False),\n",
       " ({'word': 'March'}, False),\n",
       " ({'word': 'tested'}, False),\n",
       " ({'word': 'hospitalized.Laboratory'}, False),\n",
       " ({'word': 'collected'}, False),\n",
       " ({'word': 'samples'}, False),\n",
       " ({'word': '25'}, False),\n",
       " ({'word': '2018,'}, False),\n",
       " ({'word': 'Bangui.'}, False),\n",
       " ({'word': 'As'}, False),\n",
       " ({'word': 'Institut'}, False),\n",
       " ({'word': 'Pasteur'}, False),\n",
       " ({'word': 'three'}, False),\n",
       " ({'word': 'patients'}, False),\n",
       " ({'word': 'tested'}, False),\n",
       " ({'word': 'cases'}, False),\n",
       " ({'word': 'suspected'}, False),\n",
       " ({'word': 'positive'}, False),\n",
       " ({'word': 'virus.'}, False),\n",
       " ({'word': 'monkeypox'}, False),\n",
       " ({'word': 'eight'}, False),\n",
       " ({'word': 'Six'}, False),\n",
       " ({'word': 'tested'}, False),\n",
       " ({'word': 'cases'}, False),\n",
       " ({'word': 'suspected'}, False),\n",
       " ({'word': 'positive'}, False),\n",
       " ({'word': 'virus.'}, False),\n",
       " ({'word': 'monkeypox'}, False),\n",
       " ({'word': 'eight'}, False),\n",
       " ({'word': 'Six'}, False),\n",
       " ({'word': 'disease'}, False),\n",
       " ({'word': 'One'}, False),\n",
       " ({'word': 'pending.Monkeypox'}, False),\n",
       " ({'word': 'laboratory'}, False),\n",
       " ({'word': 'i.e.'}, False),\n",
       " ({'word': 'self-limiting'}, False),\n",
       " ({'word': 'lesions'}, False),\n",
       " ({'word': 'case'}, False),\n",
       " ({'word': 'largely'}, False),\n",
       " ({'word': 'contact'}, False),\n",
       " ({'word': 'developed'}, False),\n",
       " ({'word': 'confirmation'}, False),\n",
       " ({'word': 'suspicious'}, False),\n",
       " ({'word': 'disease'}, False),\n",
       " ({'word': 'One'}, False),\n",
       " ({'word': 'pending.Monkeypox'}, False),\n",
       " ({'word': 'laboratory'}, False),\n",
       " ({'word': 'i.e.'}, False),\n",
       " ({'word': 'self-limiting'}, False),\n",
       " ({'word': 'lesions'}, False),\n",
       " ({'word': 'case'}, False),\n",
       " ({'word': 'largely'}, False),\n",
       " ({'word': 'contact'}, False),\n",
       " ({'word': 'developed'}, False),\n",
       " ({'word': 'confirmation'}, False),\n",
       " ({'word': 'suspicious'}, False),\n",
       " ({'word': 'infection.'}, False),\n",
       " ({'word': 'skin'}, False),\n",
       " ({'word': 'swelling'}, False),\n",
       " ({'word': 'fever,'}, False),\n",
       " ({'word': 'jaw'}, False),\n",
       " ({'word': 'characteristic'}, False),\n",
       " ({'word': 'symptoms'}, False),\n",
       " ({'word': 'associated'}, False),\n",
       " ({'word': 'Generalized'}, False),\n",
       " ({'word': 'painful'}, False),\n",
       " ({'word': 'rashes,'}, False),\n",
       " ({'word': 'vesicular'}, False),\n",
       " ({'word': 'UgandaSource:'}, False),\n",
       " ({'word': 'district,'}, False),\n",
       " ({'word': 'person'}, False),\n",
       " ({'word': 'April'}, False),\n",
       " ({'word': 'killing'}, False),\n",
       " ({'word': 'Xinhua'}, False),\n",
       " ({'word': 'camp'}, False),\n",
       " ({'word': 'leaving'}, False),\n",
       " ({'word': 'people'}, False),\n",
       " ({'word': 'hospitalized,'}, False),\n",
       " ({'word': '--'}, False),\n",
       " ({'word': 'Anthrax'}, False),\n",
       " ({'word': 'Arua'}, False),\n",
       " ({'word': 'said'}, False),\n",
       " ({'word': '2018-04-06'}, False),\n",
       " ({'word': 'one'}, False),\n",
       " ({'word': 'samples'}, False),\n",
       " ({'word': 'Ugandan'}, False),\n",
       " ({'word': 'veterinary'}, False),\n",
       " ({'word': 'three'}, False),\n",
       " ({'word': 'local'}, False),\n",
       " ({'word': 'Friday.Willy'}, False),\n",
       " ({'word': 'broken'}, False),\n",
       " ({'word': 'others'}, False),\n",
       " ({'word': 'tested'}, False),\n",
       " ({'word': '(Xinhua)'}, False),\n",
       " ({'word': 'positive'}, False),\n",
       " ({'word': 'refugee'}, False),\n",
       " ({'word': 'settlement'}, False),\n",
       " ({'word': 'Arua,'}, False),\n",
       " ({'word': '6'}, False),\n",
       " ({'word': 'blood'}, False),\n",
       " ({'word': 'district'}, False),\n",
       " ({'word': 'two'}, False),\n",
       " ({'word': 'told'}, False),\n",
       " ({'word': 'huaxia]KAMPALA,'}, False),\n",
       " ({'word': 'northwestern'}, False),\n",
       " ({'word': 'anthrax.'}, False),\n",
       " ({'word': 'official'}, False),\n",
       " ({'word': 'breaks'}, False),\n",
       " ({'word': 'officer'}, False),\n",
       " ({'word': '19:19:32[Editor:'}, False),\n",
       " ({'word': 'Nguma,'}, False),\n",
       " ({'word': 'taken'}, False),\n",
       " ({'word': 'UgandaSource:'}, False),\n",
       " ({'word': 'district,'}, False),\n",
       " ({'word': 'person'}, False),\n",
       " ({'word': 'April'}, False),\n",
       " ({'word': 'killing'}, False),\n",
       " ({'word': 'Xinhua'}, False),\n",
       " ({'word': 'camp'}, False),\n",
       " ({'word': 'leaving'}, False),\n",
       " ({'word': 'people'}, False),\n",
       " ({'word': 'hospitalized,'}, False),\n",
       " ({'word': '--'}, False),\n",
       " ({'word': 'Anthrax'}, False),\n",
       " ({'word': 'Arua'}, False),\n",
       " ({'word': 'said'}, False),\n",
       " ({'word': '2018-04-06'}, False),\n",
       " ({'word': 'one'}, False),\n",
       " ({'word': 'samples'}, False),\n",
       " ({'word': 'Ugandan'}, False),\n",
       " ({'word': 'veterinary'}, False),\n",
       " ({'word': 'three'}, False),\n",
       " ({'word': 'local'}, False),\n",
       " ({'word': 'Friday.Willy'}, False),\n",
       " ({'word': 'broken'}, False),\n",
       " ({'word': 'others'}, False),\n",
       " ({'word': 'tested'}, False),\n",
       " ({'word': '(Xinhua)'}, False),\n",
       " ({'word': 'positive'}, False),\n",
       " ({'word': 'refugee'}, False),\n",
       " ({'word': 'settlement'}, False),\n",
       " ({'word': 'Arua,'}, False),\n",
       " ({'word': '6'}, False),\n",
       " ({'word': 'blood'}, False),\n",
       " ({'word': 'district'}, False),\n",
       " ({'word': 'two'}, False),\n",
       " ({'word': 'told'}, False),\n",
       " ({'word': 'huaxia]KAMPALA,'}, False),\n",
       " ({'word': 'northwestern'}, False),\n",
       " ({'word': 'anthrax.'}, False),\n",
       " ({'word': 'official'}, False),\n",
       " ({'word': 'breaks'}, False),\n",
       " ({'word': 'officer'}, False),\n",
       " ({'word': '19:19:32[Editor:'}, False),\n",
       " ({'word': 'Nguma,'}, False),\n",
       " ({'word': 'taken'}, False),\n",
       " ({'word': 'UgandaSource:'}, False),\n",
       " ({'word': 'district,'}, False),\n",
       " ({'word': 'person'}, False),\n",
       " ({'word': 'April'}, False),\n",
       " ({'word': 'killing'}, False),\n",
       " ({'word': 'Xinhua'}, False),\n",
       " ({'word': 'camp'}, False),\n",
       " ({'word': 'leaving'}, False),\n",
       " ({'word': 'people'}, False),\n",
       " ({'word': 'hospitalized,'}, False),\n",
       " ({'word': '--'}, False),\n",
       " ({'word': 'Anthrax'}, False),\n",
       " ({'word': 'Arua'}, False),\n",
       " ({'word': 'said'}, False),\n",
       " ({'word': '2018-04-06'}, False),\n",
       " ({'word': 'one'}, False),\n",
       " ({'word': 'samples'}, False),\n",
       " ({'word': 'Ugandan'}, False),\n",
       " ({'word': 'veterinary'}, False),\n",
       " ({'word': 'three'}, False),\n",
       " ({'word': 'local'}, False),\n",
       " ({'word': 'Friday.Willy'}, False),\n",
       " ({'word': 'broken'}, False),\n",
       " ({'word': 'others'}, False),\n",
       " ({'word': 'tested'}, False),\n",
       " ({'word': '(Xinhua)'}, False),\n",
       " ({'word': 'positive'}, False),\n",
       " ({'word': 'refugee'}, False),\n",
       " ({'word': 'settlement'}, False),\n",
       " ({'word': 'Arua,'}, False),\n",
       " ({'word': '6'}, False),\n",
       " ({'word': 'blood'}, False),\n",
       " ({'word': 'district'}, False),\n",
       " ({'word': 'two'}, False),\n",
       " ({'word': 'told'}, False),\n",
       " ({'word': 'huaxia]KAMPALA,'}, False),\n",
       " ({'word': 'northwestern'}, False),\n",
       " ({'word': 'anthrax.'}, False),\n",
       " ({'word': 'official'}, False),\n",
       " ({'word': 'breaks'}, False),\n",
       " ({'word': 'officer'}, False),\n",
       " ({'word': '19:19:32[Editor:'}, False),\n",
       " ({'word': 'Nguma,'}, False),\n",
       " ({'word': 'taken'}, False),\n",
       " ({'word': 'UgandaSource:'}, True),\n",
       " ({'word': 'district,'}, True),\n",
       " ({'word': 'person'}, True),\n",
       " ({'word': 'April'}, True),\n",
       " ({'word': 'killing'}, True),\n",
       " ({'word': 'Xinhua'}, True),\n",
       " ({'word': 'camp'}, True),\n",
       " ({'word': 'leaving'}, True),\n",
       " ({'word': 'people'}, True),\n",
       " ({'word': 'hospitalized,'}, True),\n",
       " ({'word': '--'}, True),\n",
       " ({'word': 'Anthrax'}, True),\n",
       " ({'word': 'Arua'}, True),\n",
       " ({'word': 'said'}, True),\n",
       " ({'word': '2018-04-06'}, True),\n",
       " ({'word': 'one'}, True),\n",
       " ({'word': 'samples'}, True),\n",
       " ({'word': 'Ugandan'}, True),\n",
       " ({'word': 'veterinary'}, True),\n",
       " ({'word': 'three'}, True),\n",
       " ({'word': 'local'}, True),\n",
       " ({'word': 'Friday.Willy'}, True),\n",
       " ({'word': 'broken'}, True),\n",
       " ({'word': 'others'}, True),\n",
       " ({'word': 'tested'}, True),\n",
       " ({'word': '(Xinhua)'}, True),\n",
       " ({'word': 'positive'}, True),\n",
       " ({'word': 'refugee'}, True),\n",
       " ({'word': 'settlement'}, True),\n",
       " ({'word': 'Arua,'}, True),\n",
       " ({'word': '6'}, True),\n",
       " ({'word': 'blood'}, True),\n",
       " ({'word': 'district'}, True),\n",
       " ({'word': 'two'}, True),\n",
       " ({'word': 'told'}, True),\n",
       " ({'word': 'huaxia]KAMPALA,'}, True),\n",
       " ({'word': 'northwestern'}, True),\n",
       " ({'word': 'anthrax.'}, True),\n",
       " ({'word': 'official'}, True),\n",
       " ({'word': 'breaks'}, True),\n",
       " ({'word': 'officer'}, True),\n",
       " ({'word': '19:19:32[Editor:'}, True),\n",
       " ({'word': 'Nguma,'}, True),\n",
       " ({'word': 'taken'}, True),\n",
       " ({'word': 'still'}, False),\n",
       " ({'word': 'people'}, False),\n",
       " ({'word': 'home'}, False),\n",
       " ({'word': 'contracting'}, False),\n",
       " ({'word': 'houses'}, False),\n",
       " ({'word': 'undergoing'}, False),\n",
       " ({'word': 'risk'}, False),\n",
       " ({'word': 'many'}, False),\n",
       " ({'word': 'disease'}, False),\n",
       " ({'word': 'camp.'}, False),\n",
       " ({'word': 'live'}, False),\n",
       " ({'word': 'fighting'}, False),\n",
       " ({'word': 'refugees'}, False),\n",
       " ({'word': 'fled'}, False),\n",
       " ({'word': 'Nguma'}, False),\n",
       " ({'word': 'sharing'}, False),\n",
       " ({'word': 'victims'}, False),\n",
       " ({'word': 'Sudanese'}, False),\n",
       " ({'word': 'treatment'}, False),\n",
       " ({'word': 'animals,\"'}, False),\n",
       " ({'word': 'said.South'}, False),\n",
       " ({'word': 'deadly'}, False),\n",
       " ({'word': '\"Two'}, False),\n",
       " ({'word': 'oozing'}, False),\n",
       " ({'word': 'outbreak'}, False),\n",
       " ({'word': 'died'}, False),\n",
       " ({'word': '15'}, False),\n",
       " ({'word': 'dangerous,\"'}, False),\n",
       " ({'word': '\"The'}, False),\n",
       " ({'word': 'cross'}, False),\n",
       " ({'word': 'Anthrax'}, False),\n",
       " ({'word': 'beings'}, False),\n",
       " ({'word': 'farmers'}, False),\n",
       " ({'word': 'said.He'}, False),\n",
       " ({'word': 'advised'}, False),\n",
       " ({'word': 'screen'}, False),\n",
       " ({'word': 'area'}, False),\n",
       " ({'word': 'nostrils'}, False),\n",
       " ({'word': 'refugees'}, False),\n",
       " ({'word': 'Nguma'}, False),\n",
       " ({'word': 'suspected'}, False),\n",
       " ({'word': 'blood'}, False),\n",
       " ({'word': 'reported'}, False),\n",
       " ({'word': 'animals'}, False),\n",
       " ({'word': 'report'}, False),\n",
       " ({'word': 'animals,'}, False),\n",
       " ({'word': 'said.An'}, False),\n",
       " ({'word': 'anthrax,'}, False),\n",
       " ({'word': 'Uganda,'}, False),\n",
       " ({'word': 'humanitarian'}, False),\n",
       " ({'word': 'signs'}, False),\n",
       " ({'word': 'agencies'}, False),\n",
       " ({'word': 'challenge'}, False),\n",
       " ({'word': 'anus.More'}, False),\n",
       " ({'word': 'last'}, False),\n",
       " ({'word': 'death'}, False),\n",
       " ({'word': 'human'}, False),\n",
       " ({'word': 'result'}, False),\n",
       " ({'word': 'ignore'}, False),\n",
       " ({'word': '2016.'}, False),\n",
       " ({'word': 'Uganda'}, False),\n",
       " ({'word': 'oozing'}, False),\n",
       " ({'word': 'outbreak'}, False),\n",
       " ({'word': 'died'}, False),\n",
       " ({'word': '15'}, False),\n",
       " ({'word': 'dangerous,\"'}, False),\n",
       " ({'word': '\"The'}, False),\n",
       " ({'word': 'cross'}, False),\n",
       " ({'word': 'Anthrax'}, False),\n",
       " ({'word': 'beings'}, False),\n",
       " ({'word': 'farmers'}, False),\n",
       " ({'word': 'said.He'}, False),\n",
       " ({'word': 'advised'}, False),\n",
       " ({'word': 'screen'}, False),\n",
       " ({'word': 'area'}, False),\n",
       " ({'word': 'nostrils'}, False),\n",
       " ({'word': 'refugees'}, False),\n",
       " ({'word': 'Nguma'}, False),\n",
       " ({'word': 'suspected'}, False),\n",
       " ({'word': 'blood'}, False),\n",
       " ({'word': 'reported'}, False),\n",
       " ({'word': 'animals'}, False),\n",
       " ({'word': 'report'}, False),\n",
       " ({'word': 'animals,'}, False),\n",
       " ({'word': 'said.An'}, False),\n",
       " ({'word': 'anthrax,'}, False),\n",
       " ({'word': 'Uganda,'}, False),\n",
       " ({'word': 'humanitarian'}, False),\n",
       " ({'word': 'signs'}, False),\n",
       " ({'word': 'agencies'}, False),\n",
       " ({'word': 'challenge'}, False),\n",
       " ({'word': 'anus.More'}, False),\n",
       " ({'word': 'last'}, False),\n",
       " ({'word': 'death'}, False),\n",
       " ({'word': 'human'}, False),\n",
       " ({'word': 'result'}, False),\n",
       " ({'word': 'ignore'}, False),\n",
       " ({'word': '2016.'}, False),\n",
       " ({'word': 'Uganda'}, False),\n",
       " ({'word': 'March'}, True),\n",
       " ({'word': 'reported.'}, True),\n",
       " ({'word': 'rockmelons'}, True),\n",
       " ({'word': 'outbreak'}, True),\n",
       " ({'word': 'April'}, True),\n",
       " ({'word': 'associated'}, True),\n",
       " ({'word': 'Point'}, True),\n",
       " ({'word': 'listeriosis'}, True),\n",
       " ({'word': 'grower.From'}, True),\n",
       " ({'word': 'probable)'}, True),\n",
       " ({'word': '(NFP)'}, True),\n",
       " ({'word': '20'}, True),\n",
       " ({'word': '1'}, True),\n",
       " ({'word': 'Disease'}, True),\n",
       " ({'word': 'single'}, True),\n",
       " ({'word': '(19'}, True),\n",
       " ({'word': '2018,'}, True),\n",
       " ({'word': '(listeriosis)'}, True),\n",
       " ({'word': 'cases'}, True),\n",
       " ({'word': '17'}, True),\n",
       " ({'word': 'WHO'}, True),\n",
       " ({'word': 'National'}, True),\n",
       " ({'word': '6'}, True),\n",
       " ({'word': 'Focal'}, True),\n",
       " ({'word': 'notified'}, True),\n",
       " ({'word': '2018'}, True),\n",
       " ({'word': 'infection'}, True),\n",
       " ({'word': 'monocytogenes'}, True),\n",
       " ({'word': '(cantaloupe)'}, True),\n",
       " ({'word': 'confirmed'}, True),\n",
       " ({'word': 'consumption'}, True),\n",
       " ({'word': '2018On'}, True),\n",
       " ({'word': 'Listeria'}, True),\n",
       " ({'word': 'news9'}, True),\n",
       " ({'word': 'Australian'}, True),\n",
       " ({'word': '2'}, True),\n",
       " ({'word': 'January'}, True),\n",
       " ({'word': 'March'}, False),\n",
       " ({'word': 'reported.'}, False),\n",
       " ({'word': 'rockmelons'}, False),\n",
       " ({'word': 'outbreak'}, False),\n",
       " ({'word': 'April'}, False),\n",
       " ({'word': 'associated'}, False),\n",
       " ({'word': 'Point'}, False),\n",
       " ({'word': 'listeriosis'}, False),\n",
       " ({'word': 'grower.From'}, False),\n",
       " ({'word': 'probable)'}, False),\n",
       " ({'word': '(NFP)'}, False),\n",
       " ({'word': '20'}, False),\n",
       " ({'word': '1'}, False),\n",
       " ({'word': 'Disease'}, False),\n",
       " ({'word': 'single'}, False),\n",
       " ({'word': '(19'}, False),\n",
       " ({'word': '2018,'}, False),\n",
       " ({'word': '(listeriosis)'}, False),\n",
       " ({'word': 'cases'}, False),\n",
       " ({'word': '17'}, False),\n",
       " ({'word': 'WHO'}, False),\n",
       " ({'word': 'National'}, False),\n",
       " ({'word': '6'}, False),\n",
       " ({'word': 'Focal'}, False),\n",
       " ({'word': 'notified'}, False),\n",
       " ({'word': '2018'}, False),\n",
       " ({'word': 'infection'}, False),\n",
       " ({'word': 'monocytogenes'}, False),\n",
       " ({'word': '(cantaloupe)'}, False),\n",
       " ({'word': 'confirmed'}, False),\n",
       " ({'word': 'consumption'}, False),\n",
       " ({'word': '2018On'}, False),\n",
       " ({'word': 'Listeria'}, False),\n",
       " ({'word': 'news9'}, False),\n",
       " ({'word': 'Australian'}, False),\n",
       " ({'word': '2'}, False),\n",
       " ({'word': 'January'}, False),\n",
       " ({'word': 'March'}, False),\n",
       " ({'word': 'reported.'}, False),\n",
       " ({'word': 'rockmelons'}, False),\n",
       " ({'word': 'outbreak'}, False),\n",
       " ({'word': 'April'}, False),\n",
       " ({'word': 'associated'}, False),\n",
       " ({'word': 'Point'}, False),\n",
       " ({'word': 'listeriosis'}, False),\n",
       " ({'word': 'grower.From'}, False),\n",
       " ({'word': 'probable)'}, False),\n",
       " ({'word': '(NFP)'}, False),\n",
       " ({'word': '20'}, False),\n",
       " ({'word': '1'}, False),\n",
       " ({'word': 'Disease'}, False),\n",
       " ({'word': 'single'}, False),\n",
       " ({'word': '(19'}, False),\n",
       " ({'word': '2018,'}, False),\n",
       " ({'word': '(listeriosis)'}, False),\n",
       " ({'word': 'cases'}, False),\n",
       " ({'word': '17'}, False),\n",
       " ({'word': 'WHO'}, False),\n",
       " ({'word': 'National'}, False),\n",
       " ({'word': '6'}, False),\n",
       " ({'word': 'Focal'}, False),\n",
       " ({'word': 'notified'}, False),\n",
       " ({'word': '2018'}, False),\n",
       " ({'word': 'infection'}, False),\n",
       " ({'word': 'monocytogenes'}, False),\n",
       " ({'word': '(cantaloupe)'}, False),\n",
       " ({'word': 'confirmed'}, False),\n",
       " ({'word': 'consumption'}, False),\n",
       " ({'word': '2018On'}, False),\n",
       " ({'word': 'Listeria'}, False),\n",
       " ({'word': 'news9'}, False),\n",
       " ({'word': 'Australian'}, False),\n",
       " ({'word': '2'}, False),\n",
       " ({'word': 'January'}, False),\n",
       " ({'word': 'outbreak.'}, False),\n",
       " ({'word': 'cases'}, False),\n",
       " ({'word': 'hospitalized'}, False),\n",
       " ({'word': 'one'}, False),\n",
       " ({'word': 'miscarriage'}, False),\n",
       " ({'word': 'All'}, False),\n",
       " ({'word': 'associated'}, False),\n",
       " ({'word': 'deaths'}, False),\n",
       " ({'word': 'seven'}, False),\n",
       " ({'word': 'outbreak.'}, False),\n",
       " ({'word': 'cases'}, False),\n",
       " ({'word': 'hospitalized'}, False),\n",
       " ({'word': 'one'}, False),\n",
       " ({'word': 'miscarriage'}, False),\n",
       " ({'word': 'All'}, False),\n",
       " ({'word': 'associated'}, False),\n",
       " ({'word': 'deaths'}, False),\n",
       " ({'word': 'seven'}, False),\n",
       " ({'word': 'March'}, False),\n",
       " ({'word': '2018.On'}, False),\n",
       " ({'word': 'rockmelons'}, False),\n",
       " ({'word': 'international'}, False),\n",
       " ({'word': 'product'}, False),\n",
       " ({'word': 'undertaken,'}, False),\n",
       " ({'word': '1'}, False),\n",
       " ({'word': 'occurred.'}, False),\n",
       " ({'word': 'NFP'}, False),\n",
       " ({'word': 'distribution'}, False),\n",
       " ({'word': 'recall'}, False),\n",
       " ({'word': 'produced'}, False),\n",
       " ({'word': 'single'}, False),\n",
       " ({'word': 'February'}, False),\n",
       " ({'word': '2018,'}, False),\n",
       " ({'word': 'Epidemiological'}, False),\n",
       " ({'word': 'notified'}, False),\n",
       " ({'word': 'investigations'}, False),\n",
       " ({'word': 'environmental'}, False),\n",
       " ({'word': '27'}, False),\n",
       " ({'word': 'grower'}, False),\n",
       " ({'word': 'Australian'}, False),\n",
       " ({'word': 'led'}, False),\n",
       " ({'word': 'affected'}, False),\n",
       " ({'word': 'March'}, False),\n",
       " ({'word': 'rockmelons'}, False),\n",
       " ({'word': 'exported'}, False),\n",
       " ({'word': 'forward'}, False),\n",
       " ({'word': 'Special'}, False),\n",
       " ({'word': 'Oman,'}, False),\n",
       " ({'word': 'Administrative'}, False),\n",
       " ({'word': 'United'}, False),\n",
       " ({'word': 'received'}, False),\n",
       " ({'word': 'trace'}, False),\n",
       " ({'word': 'eight'}, False),\n",
       " ({'word': 'countries;'}, False),\n",
       " ({'word': '(China),'}, False),\n",
       " ({'word': 'Qatar,'}, False),\n",
       " ({'word': 'Kuwait,'}, False),\n",
       " ({'word': 'Kong'}, False),\n",
       " ({'word': '2018'}, False),\n",
       " ({'word': 'Malaysia,'}, False),\n",
       " ({'word': 'Hong'}, False),\n",
       " ({'word': 'Singapore,'}, False),\n",
       " ({'word': 'information'}, False),\n",
       " ({'word': 'investigations'}, False),\n",
       " ({'word': 'Emirates.'}, False),\n",
       " ({'word': 'Region'}, False),\n",
       " ({'word': 'Arab'}, False),\n",
       " ({'word': 'authorities'}, False),\n",
       " ({'word': 'grower'}, False),\n",
       " ({'word': 'Australian'}, False),\n",
       " ({'word': 'Japan,'}, False),\n",
       " ({'word': '2'}, False),\n",
       " ({'word': 'emergency'}, False),\n",
       " ({'word': 'rockmelons'}, False),\n",
       " ({'word': 'INFOSAN'}, False),\n",
       " ({'word': 'April'}, False),\n",
       " ({'word': 'countries'}, False),\n",
       " ({'word': 'including'}, False),\n",
       " ({'word': 'forward'}, False),\n",
       " ({'word': 'concluded.The'}, False),\n",
       " ({'word': 'importing'}, False),\n",
       " ({'word': 'Australia,'}, False),\n",
       " ...]"
      ]
     },
     "execution_count": 47,
     "metadata": {},
     "output_type": "execute_result"
    }
   ],
   "source": [
    "as_tuples = df_sent.apply(tuple, axis=1).tolist()\n",
    "as_tuples = [({'word':word}, label) for label, word in as_tuples]\n",
    "as_tuples"
   ]
  },
  {
   "cell_type": "code",
   "execution_count": 48,
   "metadata": {
    "scrolled": true
   },
   "outputs": [
    {
     "name": "stdout",
     "output_type": "stream",
     "text": [
      "Most Informative Features\n",
      "                    word = 'variant'        True : False  =     31.1 : 1.0\n",
      "                    word = 'poultry'        True : False  =     27.1 : 1.0\n",
      "                    word = 'Laibin'         True : False  =     22.2 : 1.0\n",
      "                    word = '42-year-old'    True : False  =     22.2 : 1.0\n",
      "                    word = 'strains.'       True : False  =     19.2 : 1.0\n",
      "                    word = 'provinces.Aug'   True : False  =     19.2 : 1.0\n",
      "                    word = '13For'          True : False  =     19.2 : 1.0\n",
      "                    word = '(H1N2v)'        True : False  =     19.2 : 1.0\n",
      "                    word = 'straight'       True : False  =     19.2 : 1.0\n",
      "                    word = 'H1N2'           True : False  =     19.2 : 1.0\n",
      "                    word = 'Ohio.The'       True : False  =     19.2 : 1.0\n",
      "                    word = 'fair,'          True : False  =     19.2 : 1.0\n",
      "                    word = 'Bulgaria,'      True : False  =     17.3 : 1.0\n",
      "                    word = 'squirrels'      True : False  =     17.3 : 1.0\n",
      "                    word = 'vaccination.'   True : False  =     17.3 : 1.0\n",
      "                    word = 'desert'         True : False  =     17.3 : 1.0\n",
      "                    word = 'China,'         True : False  =     17.3 : 1.0\n",
      "                    word = 'media'          True : False  =     16.3 : 1.0\n",
      "                    word = 'Guangxi'        True : False  =     16.3 : 1.0\n",
      "                    word = 'lived'          True : False  =     15.9 : 1.0\n"
     ]
    }
   ],
   "source": [
    "clf = nltk.NaiveBayesClassifier.train(as_tuples)\n",
    "clf.show_most_informative_features(20)"
   ]
  },
  {
   "cell_type": "code",
   "execution_count": 49,
   "metadata": {},
   "outputs": [],
   "source": [
    "df_sent_date = ExtractSentencesAndLabel('dates').data_output()\n",
    "df_sent_date['sentence']= df_sent_date['sentence'].apply(lambda x: list(set(x.split()) - set(stopwords.words('english'))))\n",
    "df_sent_date = split_list_and_distribute_to_new_rows(df_sent_date, 'sentence')\n",
    "as_tuples_date = df_sent_date.apply(tuple, axis=1).tolist()\n",
    "as_tuples_date = [({'sent':word}, label) for label, word in as_tuples_date]"
   ]
  },
  {
   "cell_type": "code",
   "execution_count": 50,
   "metadata": {},
   "outputs": [
    {
     "name": "stdout",
     "output_type": "stream",
     "text": [
      "Most Informative Features\n",
      "                    sent = 'worm'           True : False  =      6.0 : 1.0\n",
      "                    sent = 'occurring'      True : False  =      5.3 : 1.0\n",
      "                    sent = 'Northern'       True : False  =      5.3 : 1.0\n",
      "                    sent = 'emerging'       True : False  =      5.3 : 1.0\n",
      "                    sent = 'patients'      False : True   =      4.5 : 1.0\n",
      "                    sent = 'South'          True : False  =      4.1 : 1.0\n",
      "                    sent = 'deaths'        False : True   =      3.9 : 1.0\n",
      "                    sent = 'launches'       True : False  =      3.8 : 1.0\n",
      "                    sent = 'Syria'          True : False  =      3.8 : 1.0\n",
      "                    sent = 'NDOH-WHO'       True : False  =      3.8 : 1.0\n",
      "                    sent = 'admitted'       True : False  =      3.8 : 1.0\n",
      "                    sent = 'deaths.'        True : False  =      3.8 : 1.0\n",
      "                    sent = '22'             True : False  =      3.8 : 1.0\n",
      "                    sent = 'diagnosed'      True : False  =      3.8 : 1.0\n",
      "                    sent = 'Ireland'        True : False  =      3.8 : 1.0\n",
      "                    sent = 'Great'          True : False  =      3.8 : 1.0\n",
      "                    sent = 'Kingdom'        True : False  =      3.8 : 1.0\n",
      "                    sent = 'Japan,'         True : False  =      3.8 : 1.0\n",
      "                    sent = 'weakness,'      True : False  =      3.8 : 1.0\n",
      "                    sent = '6-year-old'     True : False  =      3.8 : 1.0\n"
     ]
    }
   ],
   "source": [
    "clf_date = nltk.NaiveBayesClassifier.train(as_tuples_date)\n",
    "clf_date.show_most_informative_features(20)"
   ]
  },
  {
   "cell_type": "markdown",
   "metadata": {},
   "source": [
    "# Recommendation Classifier"
   ]
  },
  {
   "cell_type": "code",
   "execution_count": 112,
   "metadata": {},
   "outputs": [],
   "source": [
    "df_recommand = RecommenderLabeling().data_output()"
   ]
  },
  {
   "cell_type": "code",
   "execution_count": 116,
   "metadata": {},
   "outputs": [
    {
     "data": {
      "text/plain": [
       "Pipeline(memory=None,\n",
       "     steps=[('vect', CountVectorizer(analyzer='word', binary=False, decode_error='strict',\n",
       "        dtype=<class 'numpy.int64'>, encoding='utf-8', input='content',\n",
       "        lowercase=True, max_df=1.0, max_features=None, min_df=1,\n",
       "        ngram_range=(1, 1), preprocessor=None, stop_words=None,\n",
       "        strip...inear_tf=False, use_idf=True)), ('clf', MultinomialNB(alpha=1.0, class_prior=None, fit_prior=True))])"
      ]
     },
     "execution_count": 116,
     "metadata": {},
     "output_type": "execute_result"
    }
   ],
   "source": [
    "from sklearn.pipeline import Pipeline\n",
    "from sklearn.feature_extraction.text import CountVectorizer\n",
    "from sklearn.feature_extraction.text import TfidfTransformer\n",
    "from sklearn.naive_bayes import MultinomialNB\n",
    "from sklearn.metrics import classification_report, confusion_matrix\n",
    "from imblearn.metrics import classification_report_imbalanced\n",
    "\n",
    "text_clf = Pipeline([\n",
    "    ('vect', CountVectorizer()),\n",
    "    ('tfidf', TfidfTransformer()),\n",
    "    ('clf', MultinomialNB()),\n",
    "])\n",
    "train_texts, dev_texts, train_cats, dev_cats = train_test_split(df_recommand['extracted_text'],\n",
    "                                                                df_recommand['label'],\n",
    "                                                                test_size=.2)\n",
    "\n",
    "text_clf.fit(train_texts, train_cats)"
   ]
  },
  {
   "cell_type": "code",
   "execution_count": 117,
   "metadata": {
    "scrolled": true
   },
   "outputs": [
    {
     "name": "stderr",
     "output_type": "stream",
     "text": [
      "/anaconda3/envs/RKI/lib/python3.6/site-packages/sklearn/metrics/classification.py:1143: UndefinedMetricWarning: Precision and F-score are ill-defined and being set to 0.0 in labels with no predicted samples.\n",
      "  'precision', 'predicted', average, warn_for)\n"
     ]
    },
    {
     "name": "stdout",
     "output_type": "stream",
     "text": [
      "              precision    recall  f1-score   support\n",
      "\n",
      "       False       0.96      1.00      0.98       621\n",
      "        True       0.00      0.00      0.00        26\n",
      "\n",
      "   micro avg       0.96      0.96      0.96       647\n",
      "   macro avg       0.48      0.50      0.49       647\n",
      "weighted avg       0.92      0.96      0.94       647\n",
      "\n",
      "[[621   0]\n",
      " [ 26   0]]\n",
      "                   pre       rec       spe        f1       geo       iba       sup\n",
      "\n",
      "      False       0.96      1.00      0.00      0.98      0.00      0.00       621\n",
      "       True       0.00      0.00      1.00      0.00      0.00      0.00        26\n",
      "\n",
      "avg / total       0.92      0.96      0.04      0.94      0.00      0.00       647\n",
      "\n"
     ]
    },
    {
     "data": {
      "image/png": "[encoded data removed]",
      "text/plain": [
       "<Figure size 432x288 with 1 Axes>"
      ]
     },
     "metadata": {
      "needs_background": "light"
     },
     "output_type": "display_data"
    }
   ],
   "source": [
    "plot_roc(text_clf, dev_texts, dev_cats, 'multinomial')\n",
    "print(classification_report(dev_cats, text_clf.predict(dev_texts)))\n",
    "print(confusion_matrix(dev_cats, text_clf.predict(dev_texts)))\n",
    "print(classification_report_imbalanced(dev_cats, text_clf.predict(dev_texts)))"
   ]
  },
  {
   "cell_type": "code",
   "execution_count": 118,
   "metadata": {},
   "outputs": [
    {
     "data": {
      "text/plain": [
       "Pipeline(memory=None,\n",
       "     steps=[('vect', CountVectorizer(analyzer='word', binary=False, decode_error='strict',\n",
       "        dtype=<class 'numpy.int64'>, encoding='utf-8', input='content',\n",
       "        lowercase=True, max_df=1.0, max_features=None, min_df=1,\n",
       "        ngram_range=(1, 1), preprocessor=None, stop_words=None,\n",
       "        strip_accents=None, token_pattern='(?u)\\\\b\\\\w\\\\w+\\\\b',\n",
       "        tokenizer=None, vocabulary=None)), ('clf', ComplementNB(alpha=1.0, class_prior=None, fit_prior=True, norm=False))])"
      ]
     },
     "execution_count": 118,
     "metadata": {},
     "output_type": "execute_result"
    }
   ],
   "source": [
    "from sklearn.naive_bayes import ComplementNB\n",
    "\n",
    "text_clf_c = Pipeline([\n",
    "    ('vect', CountVectorizer()),\n",
    "    #('tfidf', TfidfTransformer()),\n",
    "    ('clf', ComplementNB()),\n",
    "])\n",
    "\n",
    "text_clf_c.fit(train_texts, train_cats)"
   ]
  },
  {
   "cell_type": "code",
   "execution_count": 119,
   "metadata": {},
   "outputs": [
    {
     "name": "stdout",
     "output_type": "stream",
     "text": [
      "              precision    recall  f1-score   support\n",
      "\n",
      "       False       0.96      0.98      0.97       621\n",
      "        True       0.20      0.12      0.15        26\n",
      "\n",
      "   micro avg       0.95      0.95      0.95       647\n",
      "   macro avg       0.58      0.55      0.56       647\n",
      "weighted avg       0.93      0.95      0.94       647\n",
      "\n"
     ]
    },
    {
     "name": "stderr",
     "output_type": "stream",
     "text": [
      "/anaconda3/envs/RKI/lib/python3.6/site-packages/sklearn/metrics/classification.py:1143: UndefinedMetricWarning: Precision and F-score are ill-defined and being set to 0.0 in labels with no predicted samples.\n",
      "  'precision', 'predicted', average, warn_for)\n"
     ]
    },
    {
     "name": "stdout",
     "output_type": "stream",
     "text": [
      "                   pre       rec       spe        f1       geo       iba       sup\n",
      "\n",
      "      False       0.96      1.00      0.00      0.98      0.00      0.00       621\n",
      "       True       0.00      0.00      1.00      0.00      0.00      0.00        26\n",
      "\n",
      "avg / total       0.92      0.96      0.04      0.94      0.00      0.00       647\n",
      "\n"
     ]
    },
    {
     "data": {
      "image/png": "[encoded data removed]",
      "text/plain": [
       "<Figure size 432x288 with 1 Axes>"
      ]
     },
     "metadata": {
      "needs_background": "light"
     },
     "output_type": "display_data"
    }
   ],
   "source": [
    "plot_roc(text_clf_c, dev_texts, dev_cats, 'complement')\n",
    "print(classification_report(dev_cats, text_clf_c.predict(dev_texts)))\n",
    "print(classification_report_imbalanced(dev_cats, text_clf.predict(dev_texts)))"
   ]
  },
  {
   "cell_type": "code",
   "execution_count": 153,
   "metadata": {},
   "outputs": [],
   "source": [
    "df_tiers = RecommenderTierAnnotation().data_output()"
   ]
  },
  {
   "cell_type": "code",
   "execution_count": null,
   "metadata": {},
   "outputs": [],
   "source": [
    "df_tiers.head()"
   ]
  },
  {
   "cell_type": "code",
   "execution_count": 54,
   "metadata": {},
   "outputs": [],
   "source": [
    "df_clf = pd.concat([df_recommand, df_tiers],axis=1, ignore_index=False)"
   ]
  },
  {
   "cell_type": "code",
   "execution_count": 55,
   "metadata": {},
   "outputs": [],
   "source": [
    "df_clf = df_clf.dropna()"
   ]
  },
  {
   "cell_type": "code",
   "execution_count": 56,
   "metadata": {
    "scrolled": false
   },
   "outputs": [],
   "source": [
    "df_clf['counts'] = df_clf['counts'].apply(lambda x: list(set(x)))"
   ]
  },
  {
   "cell_type": "code",
   "execution_count": 57,
   "metadata": {},
   "outputs": [],
   "source": [
    "df_clf['counts'] = df_clf['counts'].apply(np.nanmean)"
   ]
  },
  {
   "cell_type": "code",
   "execution_count": null,
   "metadata": {},
   "outputs": [],
   "source": [
    "engine = inflect.engine()\n",
    "df_clf['counts'] = (df_clf['counts']\n",
    "                    .apply(np.log10)\n",
    "                    .apply(lambda x: max(x, 0))\n",
    "                    .apply(lambda x: engine.number_to_words(int(x)))\n",
    "                   )"
   ]
  },
  {
   "cell_type": "code",
   "execution_count": null,
   "metadata": {
    "scrolled": true
   },
   "outputs": [],
   "source": [
    "df_clf['features'] = df_clf[['geoname', 'diseases', 'counts']].values.tolist()"
   ]
  },
  {
   "cell_type": "code",
   "execution_count": null,
   "metadata": {},
   "outputs": [],
   "source": [
    "df_clf.head()"
   ]
  },
  {
   "cell_type": "markdown",
   "metadata": {},
   "source": [
    "# SpaCy CNN classifier"
   ]
  },
  {
   "cell_type": "code",
   "execution_count": 103,
   "metadata": {},
   "outputs": [],
   "source": [
    "\"\"\"Train a convolutional neural network text classifier on the\n",
    "IMDB dataset, using the TextCategorizer component. The dataset will be loaded\n",
    "automatically via Thinc's built-in dataset loader. The model is added to\n",
    "spacy.pipeline, and predictions are available via `doc.cats`. For more details,\n",
    "see the documentation:\n",
    "* Training: https://spacy.io/usage/training\n",
    "\n",
    "Compatible with: spaCy v2.0.0+\n",
    "\"\"\"\n",
    "from __future__ import unicode_literals, print_function\n",
    "import random\n",
    "from pathlib import Path\n",
    "import thinc.extra.datasets\n",
    "\n",
    "import spacy\n",
    "from spacy.util import minibatch, compounding\n",
    "\n",
    "\n",
    "\n",
    "\n",
    "def main(model=None, output_dir=None, n_iter=20, n_texts=2000, init_tok2vec=None):\n",
    "\n",
    "    output_dir = Path('spacy_output')\n",
    "    if not output_dir.exists():\n",
    "        output_dir.mkdir()\n",
    "\n",
    "\n",
    "    nlp = spacy.blank(\"en\")  # create blank Language class\n",
    "    print(\"Created blank 'en' model\")\n",
    "\n",
    "    # add the text classifier to the pipeline if it doesn't exist\n",
    "    # nlp.create_pipe works for built-ins that are registered with spaCy\n",
    "    textcat = nlp.create_pipe(\n",
    "        \"textcat\",\n",
    "        config={\n",
    "            \"exclusive_classes\": False,\n",
    "            \"architecture\": \"simple_cnn\",\n",
    "        }\n",
    "    )\n",
    "    nlp.add_pipe(textcat, last=True)\n",
    "    # otherwise, get it, so we can add labels to it\n",
    "\n",
    "    # add label to text classifier\n",
    "    textcat.add_label(\"Relevant\")\n",
    "    textcat.add_label(\"Irrelevant\")\n",
    "\n",
    "    # load the IMDB dataset\n",
    "    print(\"Loading data...\")\n",
    "    from sklearn.model_selection import train_test_split\n",
    "    train_texts, dev_texts, train_cats, dev_cats = train_test_split(df_recommand['extracted_text'],\n",
    "                                                                    df_recommand['label'],\n",
    "                                                                    test_size=.2)\n",
    "    \n",
    "    train_cats = [{\"Relevant\": bool(y), \"Irrelevant\": not bool(y)} for y in train_cats]\n",
    "    dev_cats = [{\"Relevant\": bool(y), \"Irrelevant\": not bool(y)} for y in dev_cats]\n",
    "    print(\n",
    "        \"Using ({} training, {} evaluation)\".format(\n",
    "             len(train_texts), len(dev_texts)\n",
    "        )\n",
    "    )\n",
    "    train_data = list(zip(train_texts, [{\"cats\": cats} for cats in train_cats]))\n",
    "\n",
    "    # get names of other pipes to disable them during training\n",
    "    other_pipes = [pipe for pipe in nlp.pipe_names if pipe != \"textcat\"]\n",
    "    with nlp.disable_pipes(*other_pipes):  # only train textcat\n",
    "        optimizer = nlp.begin_training()\n",
    "        if init_tok2vec is not None:\n",
    "            with init_tok2vec.open(\"rb\") as file_:\n",
    "                textcat.model.tok2vec.from_bytes(file_.read())\n",
    "        print(\"Training the model...\")\n",
    "        print(\"{:^5}\\t{:^5}\\t{:^5}\\t{:^5}\".format(\"LOSS\", \"P\", \"R\", \"F\"))\n",
    "        batch_sizes = compounding(4.0, 32.0, 1.001)\n",
    "        for i in range(n_iter):\n",
    "            losses = {}\n",
    "            # batch up the examples using spaCy's minibatch\n",
    "            random.shuffle(train_data)\n",
    "            batches = minibatch(train_data, size=batch_sizes)\n",
    "            for batch in batches:\n",
    "                texts, annotations = zip(*batch)\n",
    "                nlp.update(texts, annotations, sgd=optimizer, drop=0.2, losses=losses)\n",
    "            with textcat.model.use_params(optimizer.averages):\n",
    "                # evaluate on the dev data split off in load_data()\n",
    "                scores = evaluate(nlp.tokenizer, textcat, dev_texts, dev_cats)\n",
    "            print(\n",
    "                \"{0:.3f}\\t{1:.3f}\\t{2:.3f}\\t{3:.3f}\".format(  # print a simple table\n",
    "                    losses[\"textcat\"],\n",
    "                    scores[\"textcat_p\"],\n",
    "                    scores[\"textcat_r\"],\n",
    "                    scores[\"textcat_f\"],\n",
    "                )\n",
    "            )\n",
    "\n",
    "    # test the trained model\n",
    "    test_text = \"This movie sucked\"\n",
    "    doc = nlp(test_text)\n",
    "    print(test_text, doc.cats)\n",
    "\n",
    "    if output_dir is not None:\n",
    "        with nlp.use_params(optimizer.averages):\n",
    "            nlp.to_disk(output_dir)\n",
    "        print(\"Saved model to\", output_dir)\n",
    "\n",
    "        # test the saved model\n",
    "        print(\"Loading from\", output_dir)\n",
    "        nlp2 = spacy.load(output_dir)\n",
    "        doc2 = nlp2(test_text)\n",
    "        print(test_text, doc2.cats)\n",
    "\n",
    "\n",
    "def load_data(limit=0, split=0.8):\n",
    "    \"\"\"Load data from the IMDB dataset.\"\"\"\n",
    "    # Partition off part of the train data for evaluation\n",
    "    train_data, _ = thinc.extra.datasets.imdb()\n",
    "    random.shuffle(train_data)\n",
    "    train_data = train_data[-limit:]\n",
    "    texts, labels = zip(*train_data)\n",
    "    cats = [{\"POSITIVE\": bool(y), \"NEGATIVE\": not bool(y)} for y in labels]\n",
    "    split = int(len(train_data) * split)\n",
    "    return (texts[:split], cats[:split]), (texts[split:], cats[split:])\n",
    "\n",
    "\n",
    "def evaluate(tokenizer, textcat, texts, cats):\n",
    "    docs = (tokenizer(text) for text in texts)\n",
    "    tp = 0.0  # True positives\n",
    "    fp = 1e-8  # False positives\n",
    "    fn = 1e-8  # False negatives\n",
    "    tn = 0.0  # True negatives\n",
    "    for i, doc in enumerate(textcat.pipe(docs)):\n",
    "        gold = cats[i]\n",
    "        for label, score in doc.cats.items():\n",
    "            if label not in gold:\n",
    "                continue\n",
    "            if label == \"NEGATIVE\":\n",
    "                continue\n",
    "            if score >= 0.5 and gold[label] >= 0.5:\n",
    "                tp += 1.0\n",
    "            elif score >= 0.5 and gold[label] < 0.5:\n",
    "                fp += 1.0\n",
    "            elif score < 0.5 and gold[label] < 0.5:\n",
    "                tn += 1\n",
    "            elif score < 0.5 and gold[label] >= 0.5:\n",
    "                fn += 1\n",
    "    precision = tp / (tp + fp)\n",
    "    recall = tp / (tp + fn)\n",
    "    if (precision + recall) == 0:\n",
    "        f_score = 0.0\n",
    "    else:\n",
    "        f_score = 2 * (precision * recall) / (precision + recall)\n",
    "    return {\"textcat_p\": precision, \"textcat_r\": recall, \"textcat_f\": f_score}\n"
   ]
  },
  {
   "cell_type": "code",
   "execution_count": 104,
   "metadata": {},
   "outputs": [
    {
     "name": "stdout",
     "output_type": "stream",
     "text": [
      "Created blank 'en' model\n",
      "Loading data...\n",
      "Using (2585 training, 647 evaluation)\n",
      "Warning: Unnamed vectors -- this won't allow multiple vectors models to be loaded. (Shape: (0, 0))\n",
      "Training the model...\n",
      "LOSS \t  P  \t  R  \t  F  \n",
      "54.105\t0.958\t0.958\t0.958\n",
      "31.109\t0.960\t0.958\t0.959\n",
      "16.388\t0.961\t0.958\t0.960\n",
      "8.000\t0.960\t0.960\t0.960\n",
      "4.622\t0.958\t0.960\t0.959\n",
      "3.106\t0.960\t0.958\t0.959\n",
      "2.476\t0.958\t0.957\t0.957\n",
      "1.634\t0.957\t0.957\t0.957\n",
      "1.492\t0.957\t0.957\t0.957\n",
      "1.265\t0.957\t0.957\t0.957\n",
      "1.052\t0.957\t0.957\t0.957\n",
      "1.038\t0.957\t0.957\t0.957\n",
      "1.022\t0.957\t0.957\t0.957\n",
      "1.021\t0.955\t0.957\t0.956\n",
      "0.973\t0.955\t0.957\t0.956\n",
      "0.953\t0.957\t0.958\t0.958\n",
      "0.946\t0.955\t0.957\t0.956\n",
      "0.831\t0.955\t0.955\t0.955\n",
      "0.834\t0.957\t0.957\t0.957\n",
      "0.822\t0.957\t0.957\t0.957\n",
      "This movie sucked {'Relevant': 0.21459360420703888, 'Irrelevant': 0.6485452055931091}\n",
      "Saved model to spacy_output\n",
      "Loading from spacy_output\n",
      "This movie sucked {'Relevant': 0.22368237376213074, 'Irrelevant': 0.6475332379341125}\n"
     ]
    }
   ],
   "source": [
    "main()"
   ]
  },
  {
   "cell_type": "markdown",
   "metadata": {},
   "source": [
    "## Oversample"
   ]
  },
  {
   "cell_type": "code",
   "execution_count": 111,
   "metadata": {},
   "outputs": [],
   "source": [
    "import sklearn\n",
    "import sklearn.model_selection as ms\n",
    "import sklearn.feature_extraction.text as text\n",
    "import sklearn.naive_bayes as nb\n",
    "from sklearn.ensemble import RandomForestClassifier\n",
    "from sklearn.metrics import classification_report, confusion_matrix\n",
    "from imblearn.metrics import classification_report_imbalanced"
   ]
  },
  {
   "cell_type": "code",
   "execution_count": 59,
   "metadata": {},
   "outputs": [
    {
     "ename": "NameError",
     "evalue": "name 'TfidfVectorizer' is not defined",
     "output_type": "error",
     "traceback": [
      "\u001b[0;31m---------------------------------------------------------------------------\u001b[0m",
      "\u001b[0;31mNameError\u001b[0m                                 Traceback (most recent call last)",
      "\u001b[0;32m<ipython-input-59-84048ed548cc>\u001b[0m in \u001b[0;36m<module>\u001b[0;34m\u001b[0m\n\u001b[1;32m      1\u001b[0m \u001b[0;32mfrom\u001b[0m \u001b[0mimblearn\u001b[0m\u001b[0;34m.\u001b[0m\u001b[0mpipeline\u001b[0m \u001b[0;32mimport\u001b[0m \u001b[0mPipeline\u001b[0m\u001b[0;34m\u001b[0m\u001b[0;34m\u001b[0m\u001b[0m\n\u001b[0;32m----> 2\u001b[0;31m pipe1 = Pipeline(TfidfVectorizer(),\n\u001b[0m\u001b[1;32m      3\u001b[0m                          \u001b[0mADASYN\u001b[0m\u001b[0;34m(\u001b[0m\u001b[0;34m)\u001b[0m\u001b[0;34m,\u001b[0m\u001b[0;34m\u001b[0m\u001b[0;34m\u001b[0m\u001b[0m\n\u001b[1;32m      4\u001b[0m                          MultinomialNB())\n\u001b[1;32m      5\u001b[0m pipe2 = Pipeline(TfidfVectorizer(),\n",
      "\u001b[0;31mNameError\u001b[0m: name 'TfidfVectorizer' is not defined"
     ]
    }
   ],
   "source": [
    "from imblearn.pipeline import Pipeline\n",
    "pipe1 = Pipeline(TfidfVectorizer(),\n",
    "                         ADASYN(),\n",
    "                         MultinomialNB())\n",
    "pipe2 = Pipeline(TfidfVectorizer(),\n",
    "                         ADASYN(),\n",
    "                         MultinomialNB())\n",
    "pipe3 = Pipeline(TfidfVectorizer(),\n",
    "                         MultinomialNB())"
   ]
  },
  {
   "cell_type": "code",
   "execution_count": 43,
   "metadata": {},
   "outputs": [
    {
     "ename": "NameError",
     "evalue": "name 'to_train_d' is not defined",
     "output_type": "error",
     "traceback": [
      "\u001b[0;31m---------------------------------------------------------------------------\u001b[0m",
      "\u001b[0;31mNameError\u001b[0m                                 Traceback (most recent call last)",
      "\u001b[0;32m<ipython-input-43-0a3f94010f1a>\u001b[0m in \u001b[0;36m<module>\u001b[0;34m\u001b[0m\n\u001b[1;32m      1\u001b[0m \u001b[0;34m\u001b[0m\u001b[0m\n\u001b[0;32m----> 2\u001b[0;31m \u001b[0mcount\u001b[0m \u001b[0;34m=\u001b[0m \u001b[0mto_train_d\u001b[0m\u001b[0;34m[\u001b[0m\u001b[0;34m'counts'\u001b[0m\u001b[0;34m]\u001b[0m\u001b[0;34m.\u001b[0m\u001b[0mreplace\u001b[0m\u001b[0;34m(\u001b[0m\u001b[0;34m-\u001b[0m\u001b[0mnp\u001b[0m\u001b[0;34m.\u001b[0m\u001b[0minf\u001b[0m\u001b[0;34m,\u001b[0m \u001b[0;36m0.\u001b[0m\u001b[0;34m)\u001b[0m\u001b[0;34m.\u001b[0m\u001b[0mapply\u001b[0m\u001b[0;34m(\u001b[0m\u001b[0mint\u001b[0m\u001b[0;34m)\u001b[0m\u001b[0;34m.\u001b[0m\u001b[0mapply\u001b[0m\u001b[0;34m(\u001b[0m\u001b[0;32mlambda\u001b[0m \u001b[0mx\u001b[0m\u001b[0;34m:\u001b[0m \u001b[0mp\u001b[0m\u001b[0;34m.\u001b[0m\u001b[0mnumber_to_words\u001b[0m\u001b[0;34m(\u001b[0m\u001b[0mx\u001b[0m\u001b[0;34m)\u001b[0m\u001b[0;34m)\u001b[0m\u001b[0;34m\u001b[0m\u001b[0;34m\u001b[0m\u001b[0m\n\u001b[0m",
      "\u001b[0;31mNameError\u001b[0m: name 'to_train_d' is not defined"
     ]
    }
   ],
   "source": [
    "count = to_train_d['counts'].replace(-np.inf, 0.).apply(int).apply(lambda x: p.number_to_words(x))"
   ]
  },
  {
   "cell_type": "code",
   "execution_count": 44,
   "metadata": {},
   "outputs": [
    {
     "ename": "NameError",
     "evalue": "name 'to_train_d' is not defined",
     "output_type": "error",
     "traceback": [
      "\u001b[0;31m---------------------------------------------------------------------------\u001b[0m",
      "\u001b[0;31mNameError\u001b[0m                                 Traceback (most recent call last)",
      "\u001b[0;32m<ipython-input-44-59de0261e491>\u001b[0m in \u001b[0;36m<module>\u001b[0;34m\u001b[0m\n\u001b[0;32m----> 1\u001b[0;31m \u001b[0mto_train_d\u001b[0m\u001b[0;34m[\u001b[0m\u001b[0;34m'features'\u001b[0m\u001b[0;34m]\u001b[0m \u001b[0;34m=\u001b[0m \u001b[0mto_train_d\u001b[0m\u001b[0;34m[\u001b[0m\u001b[0;34m'features'\u001b[0m\u001b[0;34m]\u001b[0m\u001b[0;34m.\u001b[0m\u001b[0mapply\u001b[0m\u001b[0;34m(\u001b[0m\u001b[0;32mlambda\u001b[0m \u001b[0mx\u001b[0m\u001b[0;34m:\u001b[0m \u001b[0;34m' '\u001b[0m\u001b[0;34m.\u001b[0m\u001b[0mjoin\u001b[0m\u001b[0;34m(\u001b[0m\u001b[0mx\u001b[0m\u001b[0;34m)\u001b[0m\u001b[0;34m)\u001b[0m\u001b[0;34m\u001b[0m\u001b[0;34m\u001b[0m\u001b[0m\n\u001b[0m",
      "\u001b[0;31mNameError\u001b[0m: name 'to_train_d' is not defined"
     ]
    }
   ],
   "source": [
    "to_train_d['features'] = to_train_d['features'].apply(lambda x: ' '.join(x))"
   ]
  },
  {
   "cell_type": "code",
   "execution_count": 42,
   "metadata": {},
   "outputs": [
    {
     "ename": "NameError",
     "evalue": "name 'df' is not defined",
     "output_type": "error",
     "traceback": [
      "\u001b[0;31m---------------------------------------------------------------------------\u001b[0m",
      "\u001b[0;31mNameError\u001b[0m                                 Traceback (most recent call last)",
      "\u001b[0;32m<ipython-input-42-802bb47af98b>\u001b[0m in \u001b[0;36m<module>\u001b[0;34m\u001b[0m\n\u001b[1;32m      1\u001b[0m \u001b[0;34m(\u001b[0m\u001b[0mX_train\u001b[0m\u001b[0;34m,\u001b[0m \u001b[0mX_test\u001b[0m\u001b[0;34m,\u001b[0m \u001b[0my_train\u001b[0m\u001b[0;34m,\u001b[0m \u001b[0my_test\u001b[0m\u001b[0;34m)\u001b[0m \u001b[0;34m=\u001b[0m\u001b[0;31m \u001b[0m\u001b[0;31m\\\u001b[0m\u001b[0;34m\u001b[0m\u001b[0;34m\u001b[0m\u001b[0m\n\u001b[0;32m----> 2\u001b[0;31m     \u001b[0mms\u001b[0m\u001b[0;34m.\u001b[0m\u001b[0mtrain_test_split\u001b[0m\u001b[0;34m(\u001b[0m\u001b[0mdf\u001b[0m\u001b[0;34m[\u001b[0m\u001b[0;34m'annotated'\u001b[0m\u001b[0;34m]\u001b[0m\u001b[0;34m,\u001b[0m \u001b[0mdf\u001b[0m\u001b[0;34m[\u001b[0m\u001b[0;34m'label'\u001b[0m\u001b[0;34m]\u001b[0m\u001b[0;34m,\u001b[0m \u001b[0mtest_size\u001b[0m\u001b[0;34m=\u001b[0m\u001b[0;36m.2\u001b[0m\u001b[0;34m)\u001b[0m\u001b[0;34m\u001b[0m\u001b[0;34m\u001b[0m\u001b[0m\n\u001b[0m\u001b[1;32m      3\u001b[0m \u001b[0my_balanced\u001b[0m \u001b[0;34m=\u001b[0m \u001b[0mcompute_sample_weight\u001b[0m\u001b[0;34m(\u001b[0m\u001b[0mclass_weight\u001b[0m\u001b[0;34m=\u001b[0m\u001b[0;34m'balanced'\u001b[0m\u001b[0;34m,\u001b[0m \u001b[0my\u001b[0m\u001b[0;34m=\u001b[0m\u001b[0my_train\u001b[0m\u001b[0;34m)\u001b[0m\u001b[0;34m\u001b[0m\u001b[0;34m\u001b[0m\u001b[0m\n",
      "\u001b[0;31mNameError\u001b[0m: name 'df' is not defined"
     ]
    }
   ],
   "source": [
    "(X_train, X_test, y_train, y_test) = \\\n",
    "    ms.train_test_split(df['annotated'], df['label'], test_size=.2)\n",
    "y_balanced = compute_sample_weight(class_weight='balanced', y=y_train)"
   ]
  },
  {
   "cell_type": "code",
   "execution_count": null,
   "metadata": {},
   "outputs": [],
   "source": []
  },
  {
   "cell_type": "code",
   "execution_count": null,
   "metadata": {},
   "outputs": [],
   "source": [
    "# pipe1.fit(X_train, y_train)\n",
    "# pipe2.fit(X_train, y_train)\n",
    "pipe3.fit(X_train, y_train)"
   ]
  },
  {
   "cell_type": "code",
   "execution_count": null,
   "metadata": {},
   "outputs": [],
   "source": [
    "pipe.fit(X_train, y_train)\n",
    "y_pred = pipe.predict(X_train)"
   ]
  },
  {
   "cell_type": "code",
   "execution_count": 104,
   "metadata": {},
   "outputs": [],
   "source": [
    "from sklearn.metrics import classification_report"
   ]
  },
  {
   "cell_type": "code",
   "execution_count": null,
   "metadata": {},
   "outputs": [],
   "source": [
    "print(classification_report(y_pred, y_train))  #  TEXT WITHOUT STOPWORDS"
   ]
  },
  {
   "cell_type": "code",
   "execution_count": null,
   "metadata": {},
   "outputs": [],
   "source": [
    "print(classification_report_imbalanced(y_test, y_pred))  #  TEXT WITHOUT STOPWORDS"
   ]
  },
  {
   "cell_type": "code",
   "execution_count": null,
   "metadata": {},
   "outputs": [],
   "source": [
    "print(classification_report_imbalanced(y_test, y_pred))  #  TEXT WITHOUT STOPWORDS"
   ]
  },
  {
   "cell_type": "code",
   "execution_count": null,
   "metadata": {},
   "outputs": [],
   "source": [
    "print(classification_report_imbalanced(y_test, y_pred))  # RAW TEXT"
   ]
  },
  {
   "cell_type": "code",
   "execution_count": null,
   "metadata": {},
   "outputs": [],
   "source": [
    "print(classification_report_imbalanced(y_test, y_pred))  # COMBINED"
   ]
  },
  {
   "cell_type": "code",
   "execution_count": null,
   "metadata": {},
   "outputs": [],
   "source": [
    "print(classification_report_imbalanced(y_test, y_pred))  # DISEASE"
   ]
  },
  {
   "cell_type": "code",
   "execution_count": null,
   "metadata": {},
   "outputs": [],
   "source": [
    "print(classification_report_imbalanced(y_test, y_pred))  # GEONAME"
   ]
  },
  {
   "cell_type": "code",
   "execution_count": null,
   "metadata": {},
   "outputs": [],
   "source": [
    "print(classification_report_imbalanced(y_test, y_pred))  # COUNT"
   ]
  },
  {
   "cell_type": "code",
   "execution_count": null,
   "metadata": {},
   "outputs": [],
   "source": [
    "set(y_balanced)"
   ]
  },
  {
   "cell_type": "code",
   "execution_count": null,
   "metadata": {},
   "outputs": [],
   "source": [
    "y_balanced = y_balanced/min(y_balanced)"
   ]
  },
  {
   "cell_type": "code",
   "execution_count": null,
   "metadata": {},
   "outputs": [],
   "source": [
    "y_balanced = [int(np.ceil(i)) for i in y_balanced]"
   ]
  },
  {
   "cell_type": "code",
   "execution_count": null,
   "metadata": {},
   "outputs": [],
   "source": [
    "y_test = [int(np.ceil(i)) for i in y_test]"
   ]
  },
  {
   "cell_type": "code",
   "execution_count": null,
   "metadata": {},
   "outputs": [],
   "source": [
    "set(y_balanced)"
   ]
  },
  {
   "cell_type": "code",
   "execution_count": null,
   "metadata": {},
   "outputs": [],
   "source": [
    "pipe.fit(X_train, y_balanced)\n",
    "y_pred = pipe.predict(X_test)"
   ]
  },
  {
   "cell_type": "code",
   "execution_count": null,
   "metadata": {},
   "outputs": [],
   "source": [
    "print(classification_report_imbalanced(y_test, y_pred))  #  weighted"
   ]
  },
  {
   "cell_type": "code",
   "execution_count": 105,
   "metadata": {},
   "outputs": [],
   "source": [
    "from sklearn.utils.class_weight import compute_sample_weight"
   ]
  },
  {
   "cell_type": "code",
   "execution_count": null,
   "metadata": {},
   "outputs": [],
   "source": [
    "tf = text.TfidfVectorizer()\n",
    "X = tf.fit_transform(to_train_d['geoname'])\n",
    "y = to_train_d['label'].apply(int)\n",
    "y_balanced = compute_sample_weight(class_weight='balanced', y=y)"
   ]
  },
  {
   "cell_type": "code",
   "execution_count": null,
   "metadata": {},
   "outputs": [],
   "source": [
    "p = 100 * X.nnz / float(X.shape[0] * X.shape[1])\n",
    "print(f\"Each sample has ~{p:.2f}% non-zero features.\")\n"
   ]
  },
  {
   "cell_type": "code",
   "execution_count": null,
   "metadata": {},
   "outputs": [],
   "source": [
    "(X_train, X_test, y_train, y_test) = \\\n",
    "    ms.train_test_split(X, y, test_size=.2)"
   ]
  },
  {
   "cell_type": "code",
   "execution_count": null,
   "metadata": {},
   "outputs": [],
   "source": [
    "bnb = ms.GridSearchCV(\n",
    "    nb.BernoulliNB(),\n",
    "    param_grid={'alpha': np.logspace(-2., 2., 50)})\n",
    "bnb.fit(X_train, y_train)"
   ]
  },
  {
   "cell_type": "code",
   "execution_count": null,
   "metadata": {},
   "outputs": [],
   "source": [
    "bnb.score(X_test, y_test)\n"
   ]
  },
  {
   "cell_type": "code",
   "execution_count": null,
   "metadata": {},
   "outputs": [],
   "source": [
    "predicted = bnb.predict(X_test)"
   ]
  },
  {
   "cell_type": "code",
   "execution_count": null,
   "metadata": {},
   "outputs": [],
   "source": [
    "print(metrics.classification_report(y_test, predicted))\n",
    "print(metrics.confusion_matrix(y_test, predicted))"
   ]
  },
  {
   "cell_type": "code",
   "execution_count": null,
   "metadata": {},
   "outputs": [],
   "source": [
    "# We first get the words corresponding to each feature\n",
    "names = np.asarray(tf.get_feature_names())\n",
    "# Next, we display the 50 words with the largest\n",
    "# coefficients.\n",
    "print(','.join(names[np.argsort(\n",
    "    bnb.best_estimator_.coef_[0, :])[::-1][:50]]))"
   ]
  },
  {
   "cell_type": "markdown",
   "metadata": {},
   "source": [
    "# Embeddings"
   ]
  },
  {
   "cell_type": "code",
   "execution_count": 65,
   "metadata": {},
   "outputs": [],
   "source": [
    "%matplotlib inline  \n",
    "import pandas as pd\n",
    "import numpy as np\n",
    "import matplotlib.pyplot as plt\n",
    "from nltk.tokenize import word_tokenize\n",
    "from imblearn.under_sampling import RandomUnderSampler\n",
    "from imblearn.over_sampling import RandomOverSampler, ADASYN\n",
    "from sklearn.model_selection import GridSearchCV\n",
    "from sklearn.preprocessing import scale\n",
    "from sklearn.metrics import f1_score\n",
    "from sklearn.metrics import roc_curve\n",
    "from sklearn.base import TransformerMixin\n",
    "from sklearn.neural_network import MLPClassifier\n",
    "from sklearn.linear_model import LogisticRegression\n",
    "from sklearn.pipeline import Pipeline\n",
    "from sklearn.neighbors import KNeighborsClassifier\n",
    "from sklearn.tree import DecisionTreeClassifier\n",
    "from sklearn.metrics import roc_auc_score\n",
    "from sklearn.preprocessing import LabelEncoder\n",
    "from sklearn.model_selection import train_test_split\n",
    "from sklearn.feature_extraction.text import CountVectorizer\n",
    "from sklearn.feature_extraction.text import TfidfTransformer\n",
    "from sklearn.ensemble import RandomForestClassifier\n",
    "from sklearn.metrics import confusion_matrix, classification\n",
    "from sklearn.naive_bayes import MultinomialNB\n",
    "from sklearn.svm import SVC\n",
    "from sklearn.svm import LinearSVC"
   ]
  },
  {
   "cell_type": "code",
   "execution_count": 115,
   "metadata": {},
   "outputs": [],
   "source": [
    "class MeanEmbeddingTransformer(TransformerMixin):\n",
    "    \n",
    "    def __init__(self):\n",
    "        self._vocab, self._E = self._load_words()\n",
    "        \n",
    "    \n",
    "    def _load_words(self):\n",
    "        E = {}\n",
    "        vocab = []\n",
    "\n",
    "        with open('nlp_surveillance/glove.6B.50d.txt', 'r', encoding=\"utf8\") as file:\n",
    "            for i, line in enumerate(file):\n",
    "                l = line.split(' ')\n",
    "                if l[0].isalpha():\n",
    "                    v = [float(i) for i in l[1:]]\n",
    "                    E[l[0]] = np.array(v)\n",
    "                    vocab.append(l[0])\n",
    "        return np.array(vocab), E            \n",
    "\n",
    "    \n",
    "    def _get_word(self, v):\n",
    "        for i, emb in enumerate(self._E):\n",
    "            if np.array_equal(emb, v):\n",
    "                return self._vocab[i]\n",
    "        return None\n",
    "    \n",
    "    def _doc_mean(self, doc):\n",
    "        return np.mean(np.array([self._E[w.lower().strip()] for w in doc if w.lower().strip() in self._E]), axis=0)\n",
    "    \n",
    "    def fit(self, X, y=None):\n",
    "        return self\n",
    "    \n",
    "    def transform(self, X):\n",
    "        return np.array([self._doc_mean(doc) for doc in X])\n",
    "    \n",
    "    def fit_transform(self, X, y=None):\n",
    "        return self.fit(X).transform(X)"
   ]
  },
  {
   "cell_type": "code",
   "execution_count": 109,
   "metadata": {},
   "outputs": [],
   "source": [
    "def plot_roc(clf, X_test, y_test, name):\n",
    "    try:\n",
    "        y_pred = clf.predict_proba(X_test)\n",
    "        fpr, tpr, _ = roc_curve(y_test, y_pred[:,1])\n",
    "    except AttributeError:\n",
    "        y_pred = clf.predict(X_test)\n",
    "        fpr, tpr, _ = roc_curve(y_test, y_pred)\n",
    "    plt.xlabel('False Positive Rate')\n",
    "    plt.ylabel('True Positive Rate')\n",
    "    plt.savefig(f'{name}.pdf', format='pdf')\n",
    "    plt.plot(fpr, tpr)\n",
    "    \n",
    "def print_scores(clf, X_train, y_train, X_test, y_test):\n",
    "    clf.fit(X_train, y_train)\n",
    "    try:\n",
    "        y_pred = clf.predict_proba(X_test)\n",
    "        fpr, tpr, _ = roc_curve(y_test, y_pred[:,1])\n",
    "    except AttributeError:\n",
    "        y_pred = clf.predict(X_test)\n",
    "        fpr, tpr, _ = roc_curve(y_test, y_pred)\n",
    "    print(classification_report_imbalanced(y_test, clf.predict(X_test)))\n",
    "#     print(classification.accuracy_score(y_test, y_pred.round(), normalize=False))\n",
    "#     print(confusion_matrix(y_pred,y_test))\n",
    "#     print('F1 score: {:3f}'.format(f1_score(y_test, y_pred.round())))\n",
    "#     print('AUC score: {:3f}'.format(roc_auc_score(y_test, y_pred)))"
   ]
  },
  {
   "cell_type": "code",
   "execution_count": 255,
   "metadata": {
    "scrolled": true
   },
   "outputs": [
    {
     "data": {
      "text/plain": [
       "True"
      ]
     },
     "execution_count": 255,
     "metadata": {},
     "output_type": "execute_result"
    }
   ],
   "source": [
    "0 in [1,0]"
   ]
  },
  {
   "cell_type": "code",
   "execution_count": 106,
   "metadata": {
    "scrolled": true
   },
   "outputs": [
    {
     "name": "stdout",
     "output_type": "stream",
     "text": [
      "[0.00846796203404665, 4.539787187241018e-05, 0.00023404901730827987, 4.539787187241018e-05, 4.539787187241018e-05, 4.539787187241018e-05, 0.00017674732953310013, 9.391589992446825e-05, 0.0006073389085941017, 0.000710113497916609, 4.539787187241018e-05, 0.004186706617474556, 0.0012575483415275812, 0.010050708428025246, 0.0015359465032815933, 4.539787187241018e-05, 0.00011925250146305189, 4.539787187241018e-05, 0.009707445278763771, 4.539787187241018e-05, 0.9999545812606812, 4.539787187241018e-05, 4.539787187241018e-05, 4.539787187241018e-05, 4.539787187241018e-05, 0.0009051122469827533, 4.539787187241018e-05, 4.539787187241018e-05, 4.539787187241018e-05, 4.539787187241018e-05, 0.0001970840967260301, 4.539787187241018e-05, 4.539787187241018e-05, 4.539787187241018e-05, 4.539787187241018e-05, 4.539787187241018e-05, 0.002076859353110194, 4.539787187241018e-05, 4.539787187241018e-05, 4.539787187241018e-05, 0.01651456393301487, 4.539787187241018e-05, 4.848706521443091e-05, 4.539787187241018e-05, 4.539787187241018e-05, 4.539787187241018e-05, 0.981612503528595, 4.539787187241018e-05, 0.06474675983190536, 4.539787187241018e-05, 4.539787187241018e-05, 4.539787187241018e-05, 4.539787187241018e-05, 4.539787187241018e-05, 8.529402839485556e-05, 4.539787187241018e-05, 0.002444169018417597, 0.0006026889313943684, 4.539787187241018e-05, 4.539787187241018e-05, 0.0004667975299526006, 0.004397943150252104, 4.539787187241018e-05, 4.539787187241018e-05, 0.00010517743066884577, 4.539787187241018e-05, 0.0002877456718124449, 4.539787187241018e-05, 0.9523555636405945, 0.00027500445139594376, 4.539787187241018e-05, 0.0009741324465721846, 4.539787187241018e-05, 4.539787187241018e-05, 6.665935507044196e-05, 0.001711760414764285, 4.539787187241018e-05, 0.0001373229461023584, 0.001303214579820633, 0.0006229024729691446, 4.539787187241018e-05, 0.00563974492251873, 0.002290857257321477, 4.539787187241018e-05, 0.0012399035040289164, 0.0014463416300714016, 5.3390420362120494e-05, 4.539787187241018e-05, 4.539787187241018e-05, 6.796278466936201e-05, 0.0016323165036737919, 0.0004937623743899167, 0.9844154715538025, 0.002071596449241042, 7.356495916610584e-05, 0.0006101799081079662, 0.00033308277488686144, 0.0005236137076281011, 0.0030052002985030413, 0.00023473441251553595, 4.539787187241018e-05, 0.00020952757040504366, 4.539787187241018e-05, 0.0010427460074424744, 0.0014866350684314966, 4.539787187241018e-05, 4.539787187241018e-05, 4.539787187241018e-05, 0.00031459180172532797, 4.539787187241018e-05, 4.539787187241018e-05, 4.539787187241018e-05, 0.0002806491975206882, 0.048329755663871765, 0.005594499409198761, 0.00024005713930819184, 4.539787187241018e-05, 4.539787187241018e-05, 0.002938000950962305, 4.539787187241018e-05, 4.539787187241018e-05, 0.0013742467854171991, 0.002907811664044857, 4.539787187241018e-05, 4.539787187241018e-05, 0.0005083110881969333, 4.539787187241018e-05, 4.539787187241018e-05, 4.539787187241018e-05, 0.00011169173376401886, 4.539787187241018e-05, 4.539787187241018e-05, 0.0018021599389612675, 0.00024686448159627616, 4.539787187241018e-05, 0.008980542421340942, 4.539787187241018e-05, 6.521086470456794e-05, 4.539787187241018e-05, 4.539787187241018e-05, 0.041347287595272064, 0.014479908160865307, 4.539787187241018e-05, 4.539787187241018e-05, 4.539787187241018e-05, 4.539787187241018e-05, 4.539787187241018e-05, 4.539787187241018e-05, 0.00022034674475435168, 4.539787187241018e-05, 0.0012298105284571648, 4.539787187241018e-05, 4.539787187241018e-05, 0.0006426209001801908, 4.539787187241018e-05, 4.539787187241018e-05, 4.539787187241018e-05, 4.539787187241018e-05, 6.051915624993853e-05, 4.539787187241018e-05, 4.539787187241018e-05, 0.0023696203716099262, 4.539787187241018e-05, 4.539787187241018e-05, 0.00021183000353630632, 4.539787187241018e-05, 4.539787187241018e-05, 0.0006889989599585533, 9.189025149680674e-05, 0.0001523794635431841, 0.0032550212927162647, 4.539787187241018e-05, 4.539787187241018e-05, 4.539787187241018e-05, 4.539787187241018e-05, 0.0004960938822478056, 4.539787187241018e-05, 4.539787187241018e-05, 4.539787187241018e-05, 4.539787187241018e-05, 0.0024210703559219837, 0.0013534390600398183, 4.539787187241018e-05, 0.00163805834017694, 0.0505329854786396, 0.9959905743598938, 6.707490683766082e-05, 4.539787187241018e-05, 0.007300873752683401, 4.539787187241018e-05, 0.0020999896805733442, 0.0005597962881438434, 4.539787187241018e-05, 4.539787187241018e-05, 4.539787187241018e-05, 4.539787187241018e-05, 0.0005389194120652974, 0.9996681213378906, 0.0010177962249144912, 4.539787187241018e-05, 4.539787187241018e-05, 0.010697798803448677, 4.539787187241018e-05, 4.539787187241018e-05, 0.00011418486974434927, 6.641000072704628e-05, 4.539787187241018e-05, 4.539787187241018e-05, 0.00017247730283997953, 0.0031778309494256973, 4.539787187241018e-05, 4.539787187241018e-05, 0.0004619897226803005, 0.0006370950140990317, 0.016188837587833405, 0.00019696705567184836, 4.539787187241018e-05, 4.539787187241018e-05, 0.00036848950549028814, 0.0004832337726838887, 4.539787187241018e-05, 4.539787187241018e-05, 4.539787187241018e-05, 0.0012204499216750264, 4.539787187241018e-05, 0.0051133823581039906, 0.0008886720170266926, 4.539787187241018e-05, 4.539787187241018e-05, 4.539787187241018e-05, 0.004357538186013699, 0.0030281285289674997, 0.004063214175403118, 0.00010427326924400404, 4.539787187241018e-05, 4.539787187241018e-05, 0.0009283402469009161, 0.00020891494932584465, 0.0002024392015300691, 4.539787187241018e-05, 4.539787187241018e-05, 4.539787187241018e-05, 0.9941741824150085, 0.0006033162353560328, 0.002136883093044162, 0.00028790757642127573, 0.0008242217591032386, 4.539787187241018e-05, 0.007793069817125797, 0.029428081586956978, 0.0019318757113069296, 0.995604395866394, 0.00012602661445271224, 4.539787187241018e-05, 0.0011525051668286324, 4.539787187241018e-05, 4.539787187241018e-05, 4.539787187241018e-05, 4.539787187241018e-05, 0.0005489570321515203, 0.036097146570682526, 4.539787187241018e-05, 4.539787187241018e-05, 0.001053758431226015, 0.00047908438136801124, 0.00010768769425339997, 4.539787187241018e-05, 4.539787187241018e-05, 4.539787187241018e-05, 4.539787187241018e-05, 0.00016383733600378036, 4.539787187241018e-05, 4.539787187241018e-05, 4.539787187241018e-05, 4.539787187241018e-05, 0.00023750343825668097, 0.9959830045700073, 4.539787187241018e-05, 0.0010647679446265101, 0.001497659832239151, 4.539787187241018e-05, 4.539787187241018e-05, 4.539787187241018e-05, 4.539787187241018e-05, 4.539787187241018e-05, 4.539787187241018e-05, 0.0007022229256108403, 0.00956552755087614, 0.00034496630541980267, 4.539787187241018e-05, 4.539787187241018e-05, 0.008091931231319904, 0.00032839353661984205, 4.539787187241018e-05, 0.22570407390594482, 7.309344073291868e-05, 4.539787187241018e-05, 4.539787187241018e-05, 0.00012679481005761772, 0.0009751311736181378, 0.00022260898549575359, 0.0002283298526890576, 4.539787187241018e-05, 0.00011630286462605, 4.539787187241018e-05, 4.539787187241018e-05, 4.539787187241018e-05, 0.0012971602845937014, 0.0020588317420333624, 0.0019853361882269382, 4.539787187241018e-05, 0.00015177231398411095, 4.539787187241018e-05, 0.0001564448612043634, 0.9905410408973694, 0.010395487770438194, 4.539787187241018e-05, 4.539787187241018e-05, 4.539787187241018e-05, 4.539787187241018e-05, 4.539787187241018e-05, 0.0005916082300245762, 4.539787187241018e-05, 0.0003196265606675297, 4.539787187241018e-05, 0.002622958505526185, 0.006363034248352051, 4.539787187241018e-05, 0.00015186220116447657, 4.539787187241018e-05, 4.539787187241018e-05, 4.750577500090003e-05, 9.296250937040895e-05, 0.004206911660730839, 0.00012465479085221887, 0.0023170290514826775, 0.0009535317658446729, 4.539787187241018e-05, 0.5652555823326111, 4.539787187241018e-05, 6.639860657742247e-05, 4.539787187241018e-05, 4.539787187241018e-05, 4.539787187241018e-05, 4.539787187241018e-05, 4.539787187241018e-05, 4.539787187241018e-05, 4.539787187241018e-05, 4.539787187241018e-05, 4.539787187241018e-05, 0.0005258983001112938, 6.230468716239557e-05, 0.0014271525433287024, 0.004903937224298716, 4.539787187241018e-05, 0.003121744142845273, 0.008377854712307453, 0.0011443397961556911, 0.00032381320488639176, 4.539787187241018e-05, 4.539787187241018e-05, 0.0012005646713078022, 4.539787187241018e-05, 4.539787187241018e-05, 0.0007015095907263458, 0.015346142463386059, 0.00014756045129615813, 4.539787187241018e-05, 4.539787187241018e-05, 4.539787187241018e-05, 4.539787187241018e-05, 5.0485206884332e-05, 0.010924295522272587, 0.9908174276351929, 4.539787187241018e-05, 4.539787187241018e-05, 4.539787187241018e-05, 0.0015603795181959867, 6.861981091788039e-05, 4.539787187241018e-05, 0.005364501848816872, 4.539787187241018e-05, 0.020799200981855392, 0.0007139981025829911, 9.813767246669158e-05, 4.539787187241018e-05, 4.539787187241018e-05, 0.001078325673006475, 0.0010229104664176702, 0.9947104454040527, 5.5680917284917086e-05, 4.539787187241018e-05, 4.539787187241018e-05, 0.9985079169273376, 0.004016632679849863, 0.005597479175776243, 0.0007469039410352707, 4.539787187241018e-05, 4.539787187241018e-05, 4.539787187241018e-05, 4.539787187241018e-05, 4.539787187241018e-05, 4.539787187241018e-05, 4.539787187241018e-05, 0.0007817533914931118, 4.539787187241018e-05, 0.00015084994083736092, 0.07913476228713989, 0.002026480622589588, 4.539787187241018e-05, 4.539787187241018e-05, 9.250339644495398e-05, 4.539787187241018e-05, 4.539787187241018e-05, 0.0011251404648646712, 4.539787187241018e-05, 4.539787187241018e-05, 8.642420289106667e-05, 0.0004817743902094662, 4.539787187241018e-05, 0.00528027443215251, 4.539787187241018e-05, 0.0012839246774092317, 0.0003958268207497895, 4.539787187241018e-05, 4.539787187241018e-05, 4.539787187241018e-05, 4.539787187241018e-05, 4.539787187241018e-05, 0.027520691975951195, 0.9999030828475952, 4.539787187241018e-05, 5.792995943920687e-05, 0.00033517976407893, 4.539787187241018e-05, 4.539787187241018e-05, 4.539787187241018e-05, 9.472411329625174e-05, 0.13551683723926544, 4.539787187241018e-05, 4.539787187241018e-05, 4.539787187241018e-05, 0.0008073467179201543, 0.007701289374381304, 4.539787187241018e-05, 4.539787187241018e-05, 0.004446122795343399, 4.539787187241018e-05, 0.01600690744817257, 4.539787187241018e-05, 4.539787187241018e-05, 4.539787187241018e-05, 0.003907237201929092, 4.539787187241018e-05, 0.0021507414057850838, 0.00030171230901032686, 0.002708334242925048, 4.539787187241018e-05, 0.0009860388236120343, 0.0012307591969147325, 4.539787187241018e-05, 4.539787187241018e-05, 0.00014300519251264632, 0.001365126809105277, 4.539787187241018e-05, 0.000280591135378927, 0.9999545812606812, 4.539787187241018e-05, 4.539787187241018e-05, 4.539787187241018e-05, 4.539787187241018e-05, 4.539787187241018e-05, 0.007612776011228561, 0.0007540887454524636, 0.0007989453733898699, 0.00014183241000864655, 0.9999545812606812, 4.539787187241018e-05, 4.539787187241018e-05, 0.00018878377159126103, 4.539787187241018e-05, 6.66421910864301e-05, 4.539787187241018e-05, 4.539787187241018e-05, 4.539787187241018e-05, 0.0023867040872573853, 0.0010788666550070047, 0.08934247493743896, 0.9431358575820923, 4.539787187241018e-05, 0.0008982957224361598, 0.020976336672902107, 7.563748658867553e-05, 0.1724625676870346, 0.0014341650530695915, 0.0003135844599455595, 4.539787187241018e-05, 4.539787187241018e-05, 0.0006653712480328977, 4.539787187241018e-05, 4.539787187241018e-05, 0.00015224976232275367, 0.0003984616487286985, 0.002732402179390192, 0.0019180742092430592, 4.539787187241018e-05, 4.539787187241018e-05, 0.008837254717946053, 4.539787187241018e-05, 0.0005534658557735384, 4.539787187241018e-05, 0.0020417035557329655, 0.9679187536239624, 0.002255810424685478, 4.539787187241018e-05, 0.0022321937140077353, 0.00011522505519678816, 0.000238538981648162, 0.00015912357775960118, 4.539787187241018e-05, 4.539787187241018e-05, 0.00024713363382034004, 0.014761018566787243, 0.0029664384201169014, 0.0016598490765318274, 6.440823199227452e-05, 0.0016141145024448633, 0.00044586756848730147, 4.539787187241018e-05, 0.0009634385933168232, 4.539787187241018e-05, 4.539787187241018e-05, 4.539787187241018e-05, 0.00010411221592221409, 8.803664240986109e-05, 4.539787187241018e-05, 4.539787187241018e-05, 7.467170507879928e-05, 4.539787187241018e-05, 0.031507957726716995, 4.539787187241018e-05, 4.539787187241018e-05, 4.539787187241018e-05, 4.539787187241018e-05, 4.539787187241018e-05, 0.0005295640439726412, 4.539787187241018e-05, 4.539787187241018e-05, 0.0006118357414379716, 0.0002871512551791966, 0.0007180954562500119, 4.539787187241018e-05, 0.03384852036833763, 4.539787187241018e-05, 4.539787187241018e-05, 4.539787187241018e-05, 0.0008799171773716807, 4.539787187241018e-05, 4.539787187241018e-05, 4.539787187241018e-05, 4.539787187241018e-05, 4.539787187241018e-05, 0.000909270835109055, 0.9962483048439026, 4.539787187241018e-05, 4.539787187241018e-05, 0.010410976596176624, 4.539787187241018e-05, 0.0008996221586130559, 0.0045595187693834305, 0.006317567080259323, 0.00016706596943549812, 4.539787187241018e-05, 0.00011254929995629936, 0.0008498337119817734, 4.539787187241018e-05, 0.0001737834099913016, 4.539787187241018e-05, 4.539787187241018e-05, 4.539787187241018e-05, 0.0013352996902540326, 0.0009566944208927453, 0.9993046522140503, 0.010760446079075336, 0.00010525819379836321, 4.539787187241018e-05, 4.539787187241018e-05, 0.0035443168599158525, 0.0006163902580738068, 4.539787187241018e-05, 0.00028281655977480114, 0.0006057909922674298, 0.0017671602545306087, 0.00018675671890377998, 0.0006262288079597056, 0.000507899618241936, 0.9921770691871643, 4.539787187241018e-05, 4.539787187241018e-05, 0.0007528056157752872, 0.0011054639471694827, 4.539787187241018e-05, 0.0005528621259145439, 4.539787187241018e-05, 0.0018832378555089235, 4.539787187241018e-05, 0.0013093193992972374, 4.539787187241018e-05, 0.00035334593849256635, 4.8288507969118655e-05, 4.539787187241018e-05, 0.0035428383853286505, 4.539787187241018e-05, 0.006302413996309042, 4.539787187241018e-05, 0.001725552836433053, 0.00031256218790076673, 0.0008031046600081027, 0.0007331877714022994, 0.0004884643713012338, 4.539787187241018e-05, 4.539787187241018e-05, 0.00010279847629135475, 0.00020720808242913336, 4.539787187241018e-05, 0.6960484385490417, 0.00699808681383729, 4.539787187241018e-05, 4.539787187241018e-05, 4.539787187241018e-05, 0.07664095610380173, 4.539787187241018e-05, 4.539787187241018e-05, 0.0028614127077162266, 4.539787187241018e-05, 4.539787187241018e-05, 0.0013140698429197073, 4.539787187241018e-05, 0.0009286534041166306, 0.00029518752126023173, 0.0006479334551841021, 0.01044457871466875, 4.539787187241018e-05, 4.539787187241018e-05, 4.539787187241018e-05, 4.539787187241018e-05, 0.0005169439828023314, 0.001657384796999395, 4.539787187241018e-05, 4.539787187241018e-05, 6.556903827004135e-05, 0.00016012738342396915, 4.539787187241018e-05, 4.539787187241018e-05, 0.985614001750946, 0.0004299799620639533, 0.0013507348485291004, 0.0001196805969811976, 0.037928506731987, 4.539787187241018e-05, 0.012814149260520935, 4.539787187241018e-05, 0.9945420622825623, 4.539787187241018e-05, 4.539787187241018e-05, 0.009530561976134777, 0.0017285782378166914, 0.00014179279969539493, 4.539787187241018e-05, 0.006117027252912521, 0.00683909235522151, 4.539787187241018e-05, 0.0002432982437312603, 0.0006095718126744032, 4.539787187241018e-05, 0.9977669715881348, 4.539787187241018e-05, 4.539787187241018e-05, 0.00015744392294436693, 4.539787187241018e-05, 0.0028697785455733538, 0.0010002079652622342, 0.0009547249064780772, 0.00022062759671825916, 4.539787187241018e-05, 0.004846725147217512, 0.0011793671874329448, 0.004005271941423416, 4.539787187241018e-05, 0.0022443763446062803, 4.539787187241018e-05, 0.9872924089431763, 4.539787187241018e-05, 0.005153524689376354, 4.539787187241018e-05, 0.001181793981231749, 0.000730395142454654, 0.001166221802122891, 0.0012661550426855683, 4.539787187241018e-05, 4.539787187241018e-05, 0.01174740120768547, 4.539787187241018e-05, 0.0004605843860190362, 4.539787187241018e-05, 4.539787187241018e-05, 4.539787187241018e-05, 0.00046378091792576015, 0.00020282967307139188, 4.539787187241018e-05, 0.001361676724627614, 4.539787187241018e-05, 0.005325709469616413, 4.539787187241018e-05, 4.539787187241018e-05, 0.19780507683753967, 0.00034970001433975995, 4.539787187241018e-05, 0.00011160337453475222, 4.539787187241018e-05, 0.0006930834497325122, 0.0035894098691642284, 0.0031623332761228085, 0.0007485231617465615, 4.539787187241018e-05, 0.0005451308679766953, 4.539787187241018e-05, 4.539787187241018e-05, 4.539787187241018e-05, 4.539787187241018e-05, 7.752095552859828e-05, 0.0002601387968752533, 0.0014149924973025918, 4.539787187241018e-05, 4.539787187241018e-05, 0.0016818500589579344, 4.539787187241018e-05, 7.657828246010467e-05, 0.0009908137144520879, 0.001199154881760478, 0.002081206301227212, 4.539787187241018e-05, 0.023392003029584885, 4.539787187241018e-05, 0.00067430007038638, 0.0003336023655720055, 0.001331697916612029, 4.539787187241018e-05, 4.539787187241018e-05, 4.539787187241018e-05, 4.539787187241018e-05, 0.9997873902320862, 0.0011306130327284336, 0.0016746862092986703, 4.539787187241018e-05, 0.9753090739250183, 4.539787187241018e-05, 4.539787187241018e-05, 0.001116650179028511, 0.0007157850777730346, 0.004571561701595783, 4.539787187241018e-05, 4.539787187241018e-05, 0.0005223719053901732, 0.0005229857051745057, 4.539787187241018e-05, 0.00011463084956631064, 4.539787187241018e-05, 0.060094572603702545, 4.539787187241018e-05, 0.004008233081549406, 4.539787187241018e-05, 0.00035793843562714756, 4.539787187241018e-05, 4.539787187241018e-05, 4.539787187241018e-05, 0.0002761431678663939, 4.539787187241018e-05, 0.0005668792291544378, 4.539787187241018e-05, 4.539787187241018e-05, 4.539787187241018e-05, 7.46792575228028e-05, 0.9883890151977539, 4.539787187241018e-05, 0.004204124212265015, 0.00035679832217283547, 0.004731107968837023, 4.539787187241018e-05, 0.002566715469583869, 0.0036542292218655348, 4.539787187241018e-05, 4.539787187241018e-05, 0.00024544179905205965, 0.0025219435337930918, 0.0004133489856030792, 4.539787187241018e-05, 0.0004887664108537138, 0.0002674075949471444, 4.539787187241018e-05]\n"
     ]
    },
    {
     "data": {
      "image/png": "[encoded data removed]",
      "text/plain": [
       "<Figure size 432x288 with 1 Axes>"
      ]
     },
     "metadata": {
      "needs_background": "light"
     },
     "output_type": "display_data"
    }
   ],
   "source": [
    "clfs = [text_clf, text_clf_c, lr, knn, svc, svc_l, mlp]\n",
    "nlp2 = spacy.load(Path(\"spacy_output\"))\n",
    "names = [\"NBC\", \"CBC\", \"LR\", \"kNN\", \"SVC\", \"Lin. SVC\", \"MLP\"]\n",
    "for i, clf in enumerate(clfs):\n",
    "    try:\n",
    "        if i in [0,1]:\n",
    "            y_pred = clf.predict_proba(dev_texts)\n",
    "            fpr, tpr, _ = roc_curve(dev_cats, y_pred[:,1])\n",
    "        else:  \n",
    "            y_pred = clf.predict_proba(X_test)\n",
    "            fpr, tpr, _ = roc_curve(y_test, y_pred[:,1])\n",
    "    except AttributeError:\n",
    "        y_pred = clf.predict(X_test)\n",
    "        fpr, tpr, _ = roc_curve(y_test, y_pred)\n",
    "    \n",
    "    plt.xlabel('False Positive Rate')\n",
    "    plt.ylabel('True Positive Rate')\n",
    "    #plt.savefig(f'{name}.pdf', format='pdf')\n",
    "    plt.plot(fpr, tpr, label=names[i])\n",
    "\n",
    "import operator\n",
    "X_train_s, X_test_s, y_train, y_test = train_test_split(X[:3200],\n",
    "                                                    y[:3200], random_state=0)\n",
    "y_pred = [nlp2(test_text).cats[\"Relevant\"] for test_text in X_test_s]\n",
    "fpr, tpr, _ = roc_curve(y_test, y_pred)\n",
    "plt.xlabel('False Positive Rate')\n",
    "plt.ylabel('True Positive Rate')\n",
    "#plt.savefig(f'{name}.pdf', format='pdf')\n",
    "plt.plot(fpr, tpr, label=\"CNN\")\n",
    "plt.legend(loc=4)\n",
    "plt.show()"
   ]
  },
  {
   "cell_type": "code",
   "execution_count": 98,
   "metadata": {},
   "outputs": [
    {
     "data": {
      "text/plain": [
       "False"
      ]
     },
     "execution_count": 98,
     "metadata": {},
     "output_type": "execute_result"
    }
   ],
   "source": []
  },
  {
   "cell_type": "markdown",
   "metadata": {},
   "source": [
    "import pandas as pd\n",
    "df = pd.read_csv('data/recommender/with_label.csv')"
   ]
  },
  {
   "cell_type": "code",
   "execution_count": 72,
   "metadata": {},
   "outputs": [
    {
     "data": {
      "text/plain": [
       "16167717"
      ]
     },
     "execution_count": 72,
     "metadata": {},
     "output_type": "execute_result"
    }
   ],
   "source": [
    "df.memory_usage(deep=True).sum()"
   ]
  },
  {
   "cell_type": "code",
   "execution_count": 73,
   "metadata": {},
   "outputs": [
    {
     "data": {
      "text/plain": [
       "False    3077\n",
       "True      155\n",
       "Name: label, dtype: int64"
      ]
     },
     "execution_count": 73,
     "metadata": {},
     "output_type": "execute_result"
    }
   ],
   "source": [
    "df['label'].value_counts()"
   ]
  },
  {
   "cell_type": "code",
   "execution_count": 74,
   "metadata": {},
   "outputs": [],
   "source": [
    "X = df['extracted_text'].values\n",
    "y = df['label'].values"
   ]
  },
  {
   "cell_type": "code",
   "execution_count": 124,
   "metadata": {},
   "outputs": [],
   "source": [
    "def tokenize_and_transform(X, sample_size):\n",
    "    essays1 = X\n",
    "    tok_es1 = [word_tokenize(doc) for doc in essays1[:sample_size]]\n",
    "    met = MeanEmbeddingTransformer()\n",
    "    X_transform = met.fit_transform(tok_es1)\n",
    "    return X_transform"
   ]
  },
  {
   "cell_type": "code",
   "execution_count": 125,
   "metadata": {},
   "outputs": [],
   "source": [
    "X_transform = tokenize_and_transform(X, 3200)"
   ]
  },
  {
   "cell_type": "code",
   "execution_count": 126,
   "metadata": {},
   "outputs": [],
   "source": [
    "np.savetxt('X_embed.csv', X_transform, delimiter=',')"
   ]
  },
  {
   "cell_type": "code",
   "execution_count": 67,
   "metadata": {},
   "outputs": [],
   "source": [
    "X_transform = np.loadtxt('X_embed.csv', delimiter=',')"
   ]
  },
  {
   "cell_type": "code",
   "execution_count": 68,
   "metadata": {},
   "outputs": [
    {
     "data": {
      "text/plain": [
       "(3200, 50)"
      ]
     },
     "execution_count": 68,
     "metadata": {},
     "output_type": "execute_result"
    }
   ],
   "source": [
    "np.shape(X_transform)"
   ]
  },
  {
   "cell_type": "code",
   "execution_count": 69,
   "metadata": {},
   "outputs": [
    {
     "data": {
      "text/plain": [
       "(117,)"
      ]
     },
     "execution_count": 69,
     "metadata": {},
     "output_type": "execute_result"
    }
   ],
   "source": [
    "np.shape(y)"
   ]
  },
  {
   "cell_type": "code",
   "execution_count": 74,
   "metadata": {},
   "outputs": [],
   "source": [
    "# X_train, X_test, y_train, y_test = train_test_split(X_resample,\n",
    "#                                                     y_resample, stratify=y_resample, random_state=0)\n",
    "\n"
   ]
  },
  {
   "cell_type": "code",
   "execution_count": 107,
   "metadata": {},
   "outputs": [],
   "source": [
    "X_train, X_test, y_train, y_test = train_test_split(X_transform,\n",
    "                                                    y[:3200], random_state=0)\n",
    "ada = ADASYN(random_state=0)\n",
    "X_resample, y_resample = ada.fit_sample(X_train, y_train)\n"
   ]
  },
  {
   "cell_type": "code",
   "execution_count": 76,
   "metadata": {},
   "outputs": [],
   "source": [
    "rus = RandomOverSampler(random_state=0)\n",
    "X_resample, y_resample = rus.fit_sample(X_transform, y[:X_transform.shape[0]])"
   ]
  },
  {
   "cell_type": "code",
   "execution_count": 110,
   "metadata": {},
   "outputs": [
    {
     "name": "stderr",
     "output_type": "stream",
     "text": [
      "/anaconda3/envs/RKI/lib/python3.6/site-packages/sklearn/linear_model/logistic.py:433: FutureWarning: Default solver will be changed to 'lbfgs' in 0.22. Specify a solver to silence this warning.\n",
      "  FutureWarning)\n"
     ]
    },
    {
     "ename": "NameError",
     "evalue": "name 'classification_report_imbalanced' is not defined",
     "output_type": "error",
     "traceback": [
      "\u001b[0;31m---------------------------------------------------------------------------\u001b[0m",
      "\u001b[0;31mNameError\u001b[0m                                 Traceback (most recent call last)",
      "\u001b[0;32m<ipython-input-110-74b89fa9069c>\u001b[0m in \u001b[0;36m<module>\u001b[0;34m\u001b[0m\n\u001b[1;32m      1\u001b[0m \u001b[0mlr\u001b[0m \u001b[0;34m=\u001b[0m \u001b[0mLogisticRegression\u001b[0m\u001b[0;34m(\u001b[0m\u001b[0;34m)\u001b[0m\u001b[0;34m\u001b[0m\u001b[0;34m\u001b[0m\u001b[0m\n\u001b[0;32m----> 2\u001b[0;31m \u001b[0mprint_scores\u001b[0m\u001b[0;34m(\u001b[0m\u001b[0mlr\u001b[0m\u001b[0;34m,\u001b[0m \u001b[0mX_resample\u001b[0m\u001b[0;34m,\u001b[0m \u001b[0my_resample\u001b[0m\u001b[0;34m,\u001b[0m \u001b[0mX_test\u001b[0m\u001b[0;34m,\u001b[0m \u001b[0my_test\u001b[0m\u001b[0;34m)\u001b[0m\u001b[0;34m\u001b[0m\u001b[0;34m\u001b[0m\u001b[0m\n\u001b[0m\u001b[1;32m      3\u001b[0m \u001b[0mplot_roc\u001b[0m\u001b[0;34m(\u001b[0m\u001b[0mlr\u001b[0m\u001b[0;34m,\u001b[0m \u001b[0mX_test\u001b[0m\u001b[0;34m,\u001b[0m \u001b[0my_test\u001b[0m\u001b[0;34m,\u001b[0m \u001b[0;34m'logistic_regression'\u001b[0m\u001b[0;34m)\u001b[0m\u001b[0;34m\u001b[0m\u001b[0;34m\u001b[0m\u001b[0m\n",
      "\u001b[0;32m<ipython-input-109-4b542d79086d>\u001b[0m in \u001b[0;36mprint_scores\u001b[0;34m(clf, X_train, y_train, X_test, y_test)\u001b[0m\n\u001b[1;32m     19\u001b[0m         \u001b[0my_pred\u001b[0m \u001b[0;34m=\u001b[0m \u001b[0mclf\u001b[0m\u001b[0;34m.\u001b[0m\u001b[0mpredict\u001b[0m\u001b[0;34m(\u001b[0m\u001b[0mX_test\u001b[0m\u001b[0;34m)\u001b[0m\u001b[0;34m\u001b[0m\u001b[0;34m\u001b[0m\u001b[0m\n\u001b[1;32m     20\u001b[0m         \u001b[0mfpr\u001b[0m\u001b[0;34m,\u001b[0m \u001b[0mtpr\u001b[0m\u001b[0;34m,\u001b[0m \u001b[0m_\u001b[0m \u001b[0;34m=\u001b[0m \u001b[0mroc_curve\u001b[0m\u001b[0;34m(\u001b[0m\u001b[0my_test\u001b[0m\u001b[0;34m,\u001b[0m \u001b[0my_pred\u001b[0m\u001b[0;34m)\u001b[0m\u001b[0;34m\u001b[0m\u001b[0;34m\u001b[0m\u001b[0m\n\u001b[0;32m---> 21\u001b[0;31m     \u001b[0mprint\u001b[0m\u001b[0;34m(\u001b[0m\u001b[0mclassification_report_imbalanced\u001b[0m\u001b[0;34m(\u001b[0m\u001b[0my_test\u001b[0m\u001b[0;34m,\u001b[0m \u001b[0mclf\u001b[0m\u001b[0;34m.\u001b[0m\u001b[0mpredict\u001b[0m\u001b[0;34m(\u001b[0m\u001b[0mX_test\u001b[0m\u001b[0;34m)\u001b[0m\u001b[0;34m)\u001b[0m\u001b[0;34m)\u001b[0m\u001b[0;34m\u001b[0m\u001b[0;34m\u001b[0m\u001b[0m\n\u001b[0m\u001b[1;32m     22\u001b[0m \u001b[0;31m#     print(classification.accuracy_score(y_test, y_pred.round(), normalize=False))\u001b[0m\u001b[0;34m\u001b[0m\u001b[0;34m\u001b[0m\u001b[0;34m\u001b[0m\u001b[0m\n\u001b[1;32m     23\u001b[0m \u001b[0;31m#     print(confusion_matrix(y_pred,y_test))\u001b[0m\u001b[0;34m\u001b[0m\u001b[0;34m\u001b[0m\u001b[0;34m\u001b[0m\u001b[0m\n",
      "\u001b[0;31mNameError\u001b[0m: name 'classification_report_imbalanced' is not defined"
     ]
    }
   ],
   "source": [
    "lr = LogisticRegression()\n",
    "print_scores(lr, X_resample, y_resample, X_test, y_test)\n",
    "plot_roc(lr, X_test, y_test, 'logistic_regression')"
   ]
  },
  {
   "cell_type": "code",
   "execution_count": 220,
   "metadata": {},
   "outputs": [
    {
     "name": "stdout",
     "output_type": "stream",
     "text": [
      "                   pre       rec       spe        f1       geo       iba       sup\n",
      "\n",
      "      False       0.97      0.77      0.53      0.86      0.63      0.41       762\n",
      "       True       0.10      0.53      0.77      0.17      0.63      0.39        38\n",
      "\n",
      "avg / total       0.93      0.75      0.54      0.82      0.63      0.41       800\n",
      "\n"
     ]
    },
    {
     "data": {
      "image/png": "[encoded data removed]",
      "text/plain": [
       "<Figure size 432x288 with 1 Axes>"
      ]
     },
     "metadata": {
      "needs_background": "light"
     },
     "output_type": "display_data"
    }
   ],
   "source": [
    "knn = KNeighborsClassifier()\n",
    "print_scores(knn, X_resample, y_resample, X_test, y_test)\n",
    "plot_roc(knn, X_test, y_test, 'k_neighbors_clf')"
   ]
  },
  {
   "cell_type": "code",
   "execution_count": 209,
   "metadata": {},
   "outputs": [
    {
     "name": "stderr",
     "output_type": "stream",
     "text": [
      "/anaconda3/envs/RKI/lib/python3.6/site-packages/sklearn/ensemble/forest.py:246: FutureWarning: The default value of n_estimators will change from 10 in version 0.20 to 100 in 0.22.\n",
      "  \"10 in version 0.20 to 100 in 0.22.\", FutureWarning)\n"
     ]
    },
    {
     "name": "stdout",
     "output_type": "stream",
     "text": [
      "                   pre       rec       spe        f1       geo       iba       sup\n",
      "\n",
      "      False       0.95      0.97      0.05      0.96      0.23      0.06       762\n",
      "       True       0.07      0.05      0.97      0.06      0.23      0.05        38\n",
      "\n",
      "avg / total       0.91      0.92      0.10      0.92      0.23      0.06       800\n",
      "\n"
     ]
    },
    {
     "data": {
      "image/png": "[encoded data removed]",
      "text/plain": [
       "<Figure size 432x288 with 1 Axes>"
      ]
     },
     "metadata": {
      "needs_background": "light"
     },
     "output_type": "display_data"
    }
   ],
   "source": [
    "rf = RandomForestClassifier().fit(X_resample, y_resample)\n",
    "print_scores(rf, X_resample, y_resample, X_test, y_test)\n",
    "plot_roc(rf, X_test, y_test)"
   ]
  },
  {
   "cell_type": "code",
   "execution_count": 210,
   "metadata": {},
   "outputs": [
    {
     "name": "stdout",
     "output_type": "stream",
     "text": [
      "                   pre       rec       spe        f1       geo       iba       sup\n",
      "\n",
      "      False       0.98      0.60      0.79      0.74      0.69      0.46       762\n",
      "       True       0.09      0.79      0.60      0.16      0.69      0.48        38\n",
      "\n",
      "avg / total       0.94      0.61      0.78      0.72      0.69      0.47       800\n",
      "\n"
     ]
    },
    {
     "data": {
      "image/png": "[encoded data removed]",
      "text/plain": [
       "<Figure size 432x288 with 1 Axes>"
      ]
     },
     "metadata": {
      "needs_background": "light"
     },
     "output_type": "display_data"
    }
   ],
   "source": [
    "svc = SVC(probability=True, gamma='scale').fit(X_resample, y_resample)\n",
    "print_scores(svc, X_resample, y_resample, X_test, y_test)\n",
    "plot_roc(svc, X_test, y_test)"
   ]
  },
  {
   "cell_type": "code",
   "execution_count": 223,
   "metadata": {},
   "outputs": [
    {
     "name": "stdout",
     "output_type": "stream",
     "text": [
      "                   pre       rec       spe        f1       geo       iba       sup\n",
      "\n",
      "      False       0.98      0.65      0.68      0.78      0.67      0.44       762\n",
      "       True       0.09      0.68      0.65      0.16      0.67      0.45        38\n",
      "\n",
      "avg / total       0.93      0.65      0.68      0.75      0.67      0.44       800\n",
      "\n"
     ]
    },
    {
     "ename": "TypeError",
     "evalue": "plot_roc() missing 1 required positional argument: 'name'",
     "output_type": "error",
     "traceback": [
      "\u001b[0;31m---------------------------------------------------------------------------\u001b[0m",
      "\u001b[0;31mTypeError\u001b[0m                                 Traceback (most recent call last)",
      "\u001b[0;32m<ipython-input-223-85b3423efd23>\u001b[0m in \u001b[0;36m<module>\u001b[0;34m\u001b[0m\n\u001b[1;32m      1\u001b[0m \u001b[0msvc_l\u001b[0m \u001b[0;34m=\u001b[0m \u001b[0mSVC\u001b[0m\u001b[0;34m(\u001b[0m\u001b[0mprobability\u001b[0m\u001b[0;34m=\u001b[0m\u001b[0;32mTrue\u001b[0m\u001b[0;34m,\u001b[0m \u001b[0mkernel\u001b[0m\u001b[0;34m=\u001b[0m\u001b[0;34m'linear'\u001b[0m\u001b[0;34m)\u001b[0m\u001b[0;34m.\u001b[0m\u001b[0mfit\u001b[0m\u001b[0;34m(\u001b[0m\u001b[0mX_resample\u001b[0m\u001b[0;34m,\u001b[0m \u001b[0my_resample\u001b[0m\u001b[0;34m)\u001b[0m\u001b[0;34m\u001b[0m\u001b[0;34m\u001b[0m\u001b[0m\n\u001b[1;32m      2\u001b[0m \u001b[0mprint_scores\u001b[0m\u001b[0;34m(\u001b[0m\u001b[0msvc\u001b[0m\u001b[0;34m,\u001b[0m \u001b[0mX_resample\u001b[0m\u001b[0;34m,\u001b[0m \u001b[0my_resample\u001b[0m\u001b[0;34m,\u001b[0m \u001b[0mX_test\u001b[0m\u001b[0;34m,\u001b[0m \u001b[0my_test\u001b[0m\u001b[0;34m)\u001b[0m\u001b[0;34m\u001b[0m\u001b[0;34m\u001b[0m\u001b[0m\n\u001b[0;32m----> 3\u001b[0;31m \u001b[0mplot_roc\u001b[0m\u001b[0;34m(\u001b[0m\u001b[0msvc_l\u001b[0m\u001b[0;34m,\u001b[0m \u001b[0mX_test\u001b[0m\u001b[0;34m,\u001b[0m \u001b[0my_test\u001b[0m\u001b[0;34m)\u001b[0m\u001b[0;34m\u001b[0m\u001b[0;34m\u001b[0m\u001b[0m\n\u001b[0m",
      "\u001b[0;31mTypeError\u001b[0m: plot_roc() missing 1 required positional argument: 'name'"
     ]
    }
   ],
   "source": [
    "svc_l = SVC(probability=True, kernel='linear').fit(X_resample, y_resample)\n",
    "print_scores(svc, X_resample, y_resample, X_test, y_test)\n",
    "plot_roc(svc_l, X_test, y_test)"
   ]
  },
  {
   "cell_type": "code",
   "execution_count": 88,
   "metadata": {},
   "outputs": [],
   "source": [
    "dtc = DecisionTreeClassifier().fit(X_resample, y_resample)\n",
    "y_pred = dtc.predict(X_test)\n",
    "print_scores(dtc, X_resample, y_resample, X_test, y_test)\n",
    "plot_roc(dtc, X_test, y_test)"
   ]
  },
  {
   "cell_type": "code",
   "execution_count": 213,
   "metadata": {
    "scrolled": true
   },
   "outputs": [
    {
     "name": "stdout",
     "output_type": "stream",
     "text": [
      "                   pre       rec       spe        f1       geo       iba       sup\n",
      "\n",
      "      False       0.97      0.85      0.53      0.91      0.67      0.46       762\n",
      "       True       0.15      0.53      0.85      0.23      0.67      0.43        38\n",
      "\n",
      "avg / total       0.93      0.84      0.54      0.88      0.67      0.46       800\n",
      "\n"
     ]
    },
    {
     "data": {
      "image/png": "[encoded data removed]",
      "text/plain": [
       "<Figure size 432x288 with 1 Axes>"
      ]
     },
     "metadata": {
      "needs_background": "light"
     },
     "output_type": "display_data"
    }
   ],
   "source": [
    "mlp = MLPClassifier(max_iter=2000, early_stopping=True).fit(X_resample, y_resample)\n",
    "print_scores(mlp, X_resample, y_resample, X_test, y_test)\n",
    "plot_roc(mlp, X_test, y_test)"
   ]
  },
  {
   "cell_type": "code",
   "execution_count": 151,
   "metadata": {},
   "outputs": [
    {
     "data": {
      "image/png": "[encoded data removed]",
      "text/plain": [
       "<Figure size 432x288 with 1 Axes>"
      ]
     },
     "metadata": {
      "needs_background": "light"
     },
     "output_type": "display_data"
    }
   ],
   "source": [
    "from sklearn.neural_network import MLPRegressor\n",
    "mlp_r = MLPRegressor(max_iter=2000, early_stopping=True).fit(X_resample, y_resample)\n",
    "print_scores(mlp_r, X_resample, y_resample, X_test, y_test)\n",
    "plot_roc(mlp_r, X_test, y_test)"
   ]
  },
  {
   "cell_type": "code",
   "execution_count": null,
   "metadata": {},
   "outputs": [],
   "source": [
    "import pickle\n",
    "with open('mlp_clf.pkl', 'wb') as f:\n",
    "    pickle.dump(mlp, f)"
   ]
  },
  {
   "cell_type": "code",
   "execution_count": null,
   "metadata": {},
   "outputs": [],
   "source": [
    "gs = GridSearchCV(LogisticRegression(), \n",
    "             param_grid={'C': [0.0001, 0.001, 0.01, 0.1, 1]}, scoring=\"roc_auc\", cv=4)\n",
    "gs = gs.fit(X_resample, y_resample)\n",
    "print(gs.best_params_)\n",
    "print('best score: {:3f}'.format(gs.best_score_))\n",
    "plot_roc(gs, X_resample, y_resample)"
   ]
  },
  {
   "cell_type": "code",
   "execution_count": null,
   "metadata": {},
   "outputs": [],
   "source": [
    "param_grid = {'C': [0.001, 0.01, 0.1, 1, 10]}\n",
    "gs = GridSearchCV(LinearSVC(), \n",
    "             param_grid=param_grid, scoring=\"roc_auc\", cv=4)\n",
    "gs = gs.fit(X_resample, y_resample)\n",
    "print(gs.best_params_)\n",
    "print('best score: {:3f}'.format(gs.best_score_))\n",
    "plot_roc(gs, X_resample, y_resample)"
   ]
  },
  {
   "cell_type": "code",
   "execution_count": null,
   "metadata": {},
   "outputs": [],
   "source": [
    "param_grid = {'activation': ['relu', 'logistic', 'tanh'],\n",
    "              'alpha': [0.0001, 0.001, 0.01],\n",
    "              'learning_rate': ['constant', 'invscaling', 'adaptive'], 'tol': [0.01]}\n",
    "gs = GridSearchCV(MLPClassifier(), \n",
    "             param_grid=param_grid, scoring=\"roc_auc\", cv=4)\n",
    "gs = gs.fit(X_transform, y[:3200])\n",
    "print(gs.best_params_)\n",
    "print('best score: {:3f}'.format(gs.best_score_))\n",
    "plot_roc(gs, X_resample, y_resample)"
   ]
  },
  {
   "cell_type": "code",
   "execution_count": null,
   "metadata": {},
   "outputs": [],
   "source": [
    "from sklearn.cluster import KMeans"
   ]
  },
  {
   "cell_type": "code",
   "execution_count": null,
   "metadata": {},
   "outputs": [],
   "source": [
    "X_transform_cluster = KMeans(n_clusters=5).fit_transform(X_transform, y[:3200])"
   ]
  },
  {
   "cell_type": "code",
   "execution_count": null,
   "metadata": {},
   "outputs": [],
   "source": [
    "rus = RandomUnderSampler(random_state=0)\n",
    "X_resample_cluster, y_resample_cluster = rus.fit_sample(X_transform_cluster, y[:X_transform_cluster.shape[0]])"
   ]
  },
  {
   "cell_type": "code",
   "execution_count": null,
   "metadata": {},
   "outputs": [],
   "source": [
    "X_train_cluster, X_test_cluster, y_train_cluster, y_test_cluster = train_test_split(X_resample_cluster,\n",
    "                                                    y_resample_cluster, stratify=y_resample_cluster, random_state=0)"
   ]
  },
  {
   "cell_type": "code",
   "execution_count": null,
   "metadata": {},
   "outputs": [],
   "source": [
    "lr = LogisticRegression()\n",
    "print_scores(lr, X_train_cluster, y_train_cluster, X_test_cluster, y_test_cluster)\n",
    "plot_roc(lr, X_test_cluster, y_test_cluster)"
   ]
  },
  {
   "cell_type": "code",
   "execution_count": null,
   "metadata": {},
   "outputs": [],
   "source": [
    "from sklearn.decomposition import PCA"
   ]
  },
  {
   "cell_type": "code",
   "execution_count": null,
   "metadata": {},
   "outputs": [],
   "source": [
    "X_transform_pca = PCA().fit_transform(X_transform, y[:3200])"
   ]
  },
  {
   "cell_type": "code",
   "execution_count": null,
   "metadata": {},
   "outputs": [],
   "source": [
    "rus = RandomUnderSampler(random_state=0)\n",
    "X_resample_pca, y_resample_pca = rus.fit_sample(X_transform_pca, y[:X_transform_pca.shape[0]])"
   ]
  },
  {
   "cell_type": "code",
   "execution_count": null,
   "metadata": {},
   "outputs": [],
   "source": [
    "X_train_cluster, X_test_cluster, y_train_cluster, y_test_cluster = train_test_split(X_resample_cluster,\n",
    "                                                    y_resample_cluster, stratify=y_resample_cluster, random_state=0)"
   ]
  },
  {
   "cell_type": "code",
   "execution_count": null,
   "metadata": {
    "scrolled": true
   },
   "outputs": [],
   "source": [
    "lr = LogisticRegression()\n",
    "print_scores(lr, X_train_cluster, y_train_cluster, X_test_cluster, y_test_cluster)\n",
    "plot_roc(lr, X_test_cluster, y_test_cluster)"
   ]
  },
  {
   "cell_type": "markdown",
   "metadata": {},
   "source": [
    "# t-SNE"
   ]
  },
  {
   "cell_type": "code",
   "execution_count": 6,
   "metadata": {},
   "outputs": [
    {
     "data": {
      "text/plain": [
       "(3232,)"
      ]
     },
     "execution_count": 6,
     "metadata": {},
     "output_type": "execute_result"
    }
   ],
   "source": [
    "np.shape(X)"
   ]
  },
  {
   "cell_type": "code",
   "execution_count": 7,
   "metadata": {},
   "outputs": [
    {
     "data": {
      "text/plain": [
       "(3232,)"
      ]
     },
     "execution_count": 7,
     "metadata": {},
     "output_type": "execute_result"
    }
   ],
   "source": [
    "np.shape(y)"
   ]
  },
  {
   "cell_type": "code",
   "execution_count": 4,
   "metadata": {},
   "outputs": [],
   "source": [
    "from nltk.tokenize import sent_tokenize"
   ]
  },
  {
   "cell_type": "code",
   "execution_count": 5,
   "metadata": {},
   "outputs": [
    {
     "name": "stdout",
     "output_type": "stream",
     "text": [
      "Better speed can be achieved with apex installed from https://www.github.com/nvidia/apex.\n",
      "2019-04-16 09:22:19,508 this function is deprecated, use smart_open.open instead\n"
     ]
    }
   ],
   "source": [
    "from flair.embeddings import WordEmbeddings\n",
    "from flair.data import Sentence\n",
    "\n",
    "# init embedding\n",
    "glove_embedding = WordEmbeddings('en-news')\n",
    "\n",
    "sentences = [Sentence(sentence) for sentence in sent_tokenize(' '.join(X))]\n",
    "\n",
    "# embed a sentence using glove.\n",
    "for sentence in sentences:\n",
    "    glove_embedding.embed(sentence)"
   ]
  },
  {
   "cell_type": "code",
   "execution_count": 6,
   "metadata": {},
   "outputs": [],
   "source": [
    "words = []\n",
    "for sentence in sentences:\n",
    "    for token in sentence:\n",
    "        words.append(token.text)"
   ]
  },
  {
   "cell_type": "code",
   "execution_count": 7,
   "metadata": {},
   "outputs": [],
   "source": [
    "embeddings = []\n",
    "for sentence in sentences:\n",
    "    for token in sentence:\n",
    "        embeddings.append(token.embedding)"
   ]
  },
  {
   "cell_type": "code",
   "execution_count": 8,
   "metadata": {},
   "outputs": [],
   "source": [
    "as_numoy = [t.numpy() for t in embeddings]"
   ]
  },
  {
   "cell_type": "code",
   "execution_count": 28,
   "metadata": {},
   "outputs": [],
   "source": [
    "from sklearn.manifold import TSNE\n",
    "import matplotlib.pyplot as plt\n",
    "import time"
   ]
  },
  {
   "cell_type": "code",
   "execution_count": 19,
   "metadata": {},
   "outputs": [
    {
     "name": "stdout",
     "output_type": "stream",
     "text": [
      "[t-SNE] Computing 121 nearest neighbors...\n",
      "[t-SNE] Indexed 2250 samples in 0.035s...\n",
      "[t-SNE] Computed neighbors for 2250 samples in 2.965s...\n",
      "[t-SNE] Computed conditional probabilities for sample 1000 / 2250\n",
      "[t-SNE] Computed conditional probabilities for sample 2000 / 2250\n",
      "[t-SNE] Computed conditional probabilities for sample 2250 / 2250\n",
      "[t-SNE] Mean sigma: 0.000000\n",
      "[t-SNE] KL divergence after 250 iterations with early exaggeration: 67.326614\n",
      "[t-SNE] KL divergence after 300 iterations: 1.179062\n"
     ]
    }
   ],
   "source": [
    "n_sne = 7000\n",
    "\n",
    "time_start = time.time()\n",
    "tsne = TSNE(n_components=2, verbose=1, perplexity=40, n_iter=300)\n",
    "tsne_results = tsne.fit_transform(as_numoy[::1000])"
   ]
  },
  {
   "cell_type": "code",
   "execution_count": 49,
   "metadata": {},
   "outputs": [],
   "source": [
    "word_2_vec = dict(zip(words, as_numoy))"
   ]
  },
  {
   "cell_type": "code",
   "execution_count": 53,
   "metadata": {},
   "outputs": [],
   "source": [
    "to_pop = []\n",
    "for k, v in word_2_vec.items():\n",
    "    if sum(v) == 0:\n",
    "        to_pop.append(k)\n",
    "for k in to_pop:\n",
    "    if k in word_2_vec:\n",
    "        del word_2_vec[k]"
   ]
  },
  {
   "cell_type": "code",
   "execution_count": 60,
   "metadata": {},
   "outputs": [],
   "source": [
    "to_pop = []\n",
    "for k, v in word_2_vec.items():\n",
    "    if len(k) > 12:\n",
    "        to_pop.append(k)\n",
    "for k in to_pop:\n",
    "    if k in word_2_vec:\n",
    "        del word_2_vec[k]"
   ]
  },
  {
   "cell_type": "code",
   "execution_count": 73,
   "metadata": {},
   "outputs": [],
   "source": [
    "to_pop = []\n",
    "for k, v in word_2_vec.items():\n",
    "    if not all(c.isalnum() for c in k):\n",
    "        to_pop.append(k)\n",
    "for k in to_pop:\n",
    "    if k in word_2_vec:\n",
    "        del word_2_vec[k]"
   ]
  },
  {
   "cell_type": "code",
   "execution_count": 74,
   "metadata": {},
   "outputs": [],
   "source": [
    "words = [i for i, _ in word_2_vec.items()]\n",
    "as_embedding = [i for _, i in word_2_vec.items()]"
   ]
  },
  {
   "cell_type": "code",
   "execution_count": 101,
   "metadata": {},
   "outputs": [
    {
     "data": {
      "image/png": "[encoded data removed]",
      "text/plain": [
       "<Figure size 1152x1152 with 1 Axes>"
      ]
     },
     "metadata": {
      "needs_background": "light"
     },
     "output_type": "display_data"
    }
   ],
   "source": [
    "\"Creates and TSNE model and plots it\"\n",
    "labels = words[6::300]\n",
    "tokens = as_embedding[6::300]\n",
    "\n",
    "# for word in model.wv.vocab:\n",
    "#     tokens.append(model[word])\n",
    "#     labels.append(word)\n",
    "\n",
    "tsne_model = TSNE(perplexity=5, n_components=2, init='pca', n_iter=2500)\n",
    "new_values = tsne_model.fit_transform(tokens)\n",
    "\n",
    "x = []\n",
    "y = []\n",
    "for value in new_values:\n",
    "    x.append(value[0])\n",
    "    y.append(value[1])\n",
    "\n",
    "plt.figure(figsize=(16, 16)) \n",
    "for i in range(len(x)):\n",
    "    plt.scatter(x[i],y[i])\n",
    "    plt.annotate(labels[i],\n",
    "                 xy=(x[i], y[i]),\n",
    "                 xytext=(5, 2),\n",
    "                 textcoords='offset points',\n",
    "                 ha='right',\n",
    "                 va='bottom')\n",
    "plt.xlabel(\"t-SNE x-axis\")\n",
    "plt.ylabel(\"t-SNE y-axis\")\n",
    "plt.grid(alpha=0.2)\n",
    "plt.savefig(\"t-sna.pdf\",format='pdf')\n",
    "plt.show()"
   ]
  },
  {
   "cell_type": "code",
   "execution_count": 32,
   "metadata": {},
   "outputs": [],
   "source": [
    "import pandas as pd\n",
    "df_tsne = pd.DataFrame(tsne_results, columns=['x', 'y'])\n",
    "df_tsne['labels'] = words[::1000]"
   ]
  },
  {
   "cell_type": "code",
   "execution_count": 43,
   "metadata": {
    "scrolled": true
   },
   "outputs": [
    {
     "data": {
      "image/png": "[encoded data removed]",
      "text/plain": [
       "<Figure size 640x480 with 1 Axes>"
      ]
     },
     "metadata": {},
     "output_type": "display_data"
    },
    {
     "data": {
      "text/plain": [
       "<ggplot: (-9223372036178174853)>"
      ]
     },
     "execution_count": 43,
     "metadata": {},
     "output_type": "execute_result"
    }
   ],
   "source": [
    "from plotnine import *\n",
    "theme_set(theme_bw())\n",
    "(ggplot(df_tsne, aes(x='x', y='y', color='labels' )) \n",
    " + geom_point(show_legend = False)\n",
    " + xlab(\"t-SNE-x\") + ylab(\"t-SNE-y\") + ggtitle(\"word embedding t-SNE\")\n",
    ")"
   ]
  },
  {
   "cell_type": "code",
   "execution_count": 11,
   "metadata": {},
   "outputs": [],
   "source": [
    "text = RecommenderLabeling().data_output()\n",
    "text = text['extracted_text']\n",
    "text = ' '.join(text)\n",
    "text = re.sub(' +', ' ', text)"
   ]
  },
  {
   "cell_type": "code",
   "execution_count": 13,
   "metadata": {},
   "outputs": [],
   "source": [
    "with open('extracted.txt', 'w') as f:\n",
    "    f.write(text)"
   ]
  },
  {
   "cell_type": "code",
   "execution_count": 32,
   "metadata": {},
   "outputs": [],
   "source": [
    "import multiprocessing\n",
    "import gensim\n",
    "from gensim.models import Word2Vec\n",
    "from nltk.tokenize import sent_tokenize\n",
    "import re\n",
    "import matplotlib.cm as cm\n",
    "import codecs\n",
    "\n",
    "def train_word2vec(filename):\n",
    "    data = gensim.models.word2vec.LineSentence(filename)\n",
    "    return Word2Vec(data, size=100, window=1, min_count=5, workers=multiprocessing.cpu_count())\n",
    "\n",
    "def prepare_for_w2v(filename_from, filename_to):\n",
    "    raw_text = codecs.open(filename_from, \"r\").read()\n",
    "    with open(filename_to, 'w', encoding='utf-8') as f:\n",
    "        for sentence in nltk.sent_tokenize(raw_text):\n",
    "            print(sentence.lower(), file=f)"
   ]
  },
  {
   "cell_type": "code",
   "execution_count": 24,
   "metadata": {},
   "outputs": [],
   "source": [
    "prepare_for_w2v('extracted.txt', 'extracted_sentences.txt')"
   ]
  },
  {
   "cell_type": "code",
   "execution_count": 25,
   "metadata": {},
   "outputs": [],
   "source": [
    "model_extracted_sentences = train_word2vec('extracted_sentences.txt')"
   ]
  },
  {
   "cell_type": "code",
   "execution_count": 49,
   "metadata": {},
   "outputs": [],
   "source": [
    "words_ak = []\n",
    "embeddings_ak = []\n",
    "for word in list(model_extracted_sentences.wv.vocab)[::120]:\n",
    "    if word.isalnum():\n",
    "        embeddings_ak.append(model_extracted_sentences.wv[word])\n",
    "        words_ak.append(word)"
   ]
  },
  {
   "cell_type": "code",
   "execution_count": 50,
   "metadata": {},
   "outputs": [
    {
     "data": {
      "image/png": "[encoded data removed]",
      "text/plain": [
       "<Figure size 1152x1152 with 1 Axes>"
      ]
     },
     "metadata": {
      "needs_background": "light"
     },
     "output_type": "display_data"
    }
   ],
   "source": [
    "tsne_model = TSNE(perplexity=5, n_components=2, init='pca', n_iter=2500)\n",
    "new_values = tsne_model.fit_transform(embeddings_ak)\n",
    "\n",
    "x = []\n",
    "y = []\n",
    "for value in new_values:\n",
    "    x.append(value[0])\n",
    "    y.append(value[1])\n",
    "\n",
    "plt.figure(figsize=(16, 16)) \n",
    "for i in range(len(x)):\n",
    "    plt.scatter(x[i],y[i])\n",
    "    plt.annotate(words_ak[i],\n",
    "                 xy=(x[i], y[i]),\n",
    "                 xytext=(5, 2),\n",
    "                 textcoords='offset points',\n",
    "                 ha='right',\n",
    "                 va='bottom')\n",
    "plt.xlabel(\"t-SNE x-axis\")\n",
    "plt.ylabel(\"t-SNE y-axis\")\n",
    "plt.grid(alpha=0.2)\n",
    "plt.savefig(\"t-sna.pdf\",format='pdf')\n",
    "plt.show()"
   ]
  },
  {
   "cell_type": "code",
   "execution_count": 1,
   "metadata": {},
   "outputs": [],
   "source": [
    "from web_app.app import summarize"
   ]
  },
  {
   "cell_type": "code",
   "execution_count": null,
   "metadata": {},
   "outputs": [],
   "source": [
    "summarize('https://www.who.int/csr/don/04-march-2019-mers-oman/en/')"
   ]
  }
 ],
 "metadata": {
  "kernelspec": {
   "display_name": "Python 3",
   "language": "python",
   "name": "python3"
  },
  "language_info": {
   "codemirror_mode": {
    "name": "ipython",
    "version": 3
   },
   "file_extension": ".py",
   "mimetype": "text/x-python",
   "name": "python",
   "nbconvert_exporter": "python",
   "pygments_lexer": "ipython3",
   "version": "3.6.7"
  }
 },
 "nbformat": 4,
 "nbformat_minor": 2
}
