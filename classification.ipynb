{
 "cells": [
  {
   "cell_type": "code",
   "execution_count": 1,
   "metadata": {},
   "outputs": [],
   "source": [
    "%load_ext autoreload\n",
    "%autoreload 2"
   ]
  },
  {
   "cell_type": "code",
   "execution_count": 49,
   "metadata": {},
   "outputs": [],
   "source": [
    "import nltk\n",
    "import inflect\n",
    "import numpy as np\n",
    "import pandas as pd\n",
    "from tqdm import tqdm\n",
    "from nltk import sent_tokenize\n",
    "from nltk.corpus import stopwords\n",
    "from nlp_surveillance.classifier import extract_sentence\n",
    "from nlp_surveillance.pipeline import ExtractSentencesAndLabel, RecommenderLabeling, RecommenderTierAnnotation\n",
    "from nlp_surveillance.classifier import summarize\n",
    "from utils.my_utils import split_list_and_distribute_to_new_rows\n",
    "from sklearn.pipeline import Pipeline\n",
    "from sklearn.feature_extraction.text import CountVectorizer\n",
    "from sklearn.feature_extraction.text import TfidfTransformer\n",
    "from sklearn.naive_bayes import MultinomialNB\n",
    "from sklearn.naive_bayes import ComplementNB\n",
    "from sklearn.naive_bayes import BernoulliNB\n",
    "from sklearn.metrics import classification_report, confusion_matrix\n",
    "from imblearn.metrics import classification_report_imbalanced\n",
    "from sklearn.model_selection import train_test_split\n",
    "%matplotlib inline  \n",
    "import pandas as pd\n",
    "from sklearn.metrics import auc\n",
    "import numpy as np\n",
    "import matplotlib.pyplot as plt\n",
    "from nltk.tokenize import word_tokenize\n",
    "from imblearn.under_sampling import RandomUnderSampler\n",
    "from imblearn.over_sampling import RandomOverSampler, ADASYN\n",
    "from sklearn.model_selection import GridSearchCV\n",
    "from sklearn.preprocessing import scale\n",
    "from sklearn.metrics import f1_score\n",
    "from sklearn.metrics import roc_curve\n",
    "from sklearn.base import TransformerMixin\n",
    "from sklearn.neural_network import MLPClassifier\n",
    "from sklearn.linear_model import LogisticRegression\n",
    "from sklearn.pipeline import Pipeline\n",
    "from sklearn.neighbors import KNeighborsClassifier\n",
    "from sklearn.tree import DecisionTreeClassifier\n",
    "from sklearn.metrics import roc_auc_score\n",
    "from sklearn.preprocessing import LabelEncoder\n",
    "from sklearn.model_selection import train_test_split\n",
    "from sklearn.feature_extraction.text import CountVectorizer\n",
    "from sklearn.feature_extraction.text import TfidfTransformer\n",
    "from sklearn.ensemble import RandomForestClassifier\n",
    "from sklearn.metrics import confusion_matrix, classification\n",
    "from sklearn.naive_bayes import MultinomialNB\n",
    "from sklearn.svm import SVC\n",
    "from sklearn.svm import LinearSVC"
   ]
  },
  {
   "cell_type": "markdown",
   "metadata": {},
   "source": [
    "# Count/Date Classifier"
   ]
  },
  {
   "cell_type": "code",
   "execution_count": 23,
   "metadata": {},
   "outputs": [],
   "source": [
    "df_counts = ExtractSentencesAndLabel(\"counts\").data_output()"
   ]
  },
  {
   "cell_type": "code",
   "execution_count": 26,
   "metadata": {},
   "outputs": [
    {
     "data": {
      "text/plain": [
       "Pipeline(memory=None,\n",
       "     steps=[('vect', CountVectorizer(analyzer='word', binary=False, decode_error='strict',\n",
       "        dtype=<class 'numpy.int64'>, encoding='utf-8', input='content',\n",
       "        lowercase=True, max_df=1.0, max_features=None, min_df=1,\n",
       "        ngram_range=(1, 1), preprocessor=None, stop_words=None,\n",
       "        strip...inear_tf=False, use_idf=True)), ('clf', MultinomialNB(alpha=1.0, class_prior=None, fit_prior=True))])"
      ]
     },
     "execution_count": 26,
     "metadata": {},
     "output_type": "execute_result"
    }
   ],
   "source": [
    "text_clf_counts = Pipeline([\n",
    "                            ('vect', CountVectorizer()),\n",
    "                            ('tfidf', TfidfTransformer()),\n",
    "                            ('clf', MultinomialNB()),\n",
    "                  ])\n",
    "\n",
    "(train_texts_counts, \n",
    " dev_texts_counts, \n",
    " train_cats_counts, \n",
    " dev_cats_counts) = train_test_split(df_counts['sentence'],\n",
    "                                     df_counts['label'],\n",
    "                                     test_size=.2,\n",
    "                                   )\n",
    "\n",
    "text_clf_counts.fit(train_texts_counts, train_cats_counts)"
   ]
  },
  {
   "cell_type": "code",
   "execution_count": 30,
   "metadata": {
    "scrolled": false
   },
   "outputs": [
    {
     "name": "stderr",
     "output_type": "stream",
     "text": [
      "/anaconda3/envs/RKI/lib/python3.6/site-packages/sklearn/metrics/classification.py:1143: UndefinedMetricWarning: Precision and F-score are ill-defined and being set to 0.0 in labels with no predicted samples.\n",
      "  'precision', 'predicted', average, warn_for)\n"
     ]
    },
    {
     "name": "stdout",
     "output_type": "stream",
     "text": [
      "              precision    recall  f1-score   support\n",
      "\n",
      "       False       0.91      1.00      0.95       446\n",
      "        True       0.00      0.00      0.00        43\n",
      "\n",
      "   micro avg       0.91      0.91      0.91       489\n",
      "   macro avg       0.46      0.50      0.48       489\n",
      "weighted avg       0.83      0.91      0.87       489\n",
      "\n",
      "[[446   0]\n",
      " [ 43   0]]\n",
      "                   pre       rec       spe        f1       geo       iba       sup\n",
      "\n",
      "      False       0.91      1.00      0.00      0.95      0.00      0.00       446\n",
      "       True       0.00      0.00      1.00      0.00      0.00      0.00        43\n",
      "\n",
      "avg / total       0.83      0.91      0.09      0.87      0.00      0.00       489\n",
      "\n"
     ]
    },
    {
     "data": {
      "image/png": "[encoded data removed]",
      "text/plain": [
       "<Figure size 432x288 with 1 Axes>"
      ]
     },
     "metadata": {
      "needs_background": "light"
     },
     "output_type": "display_data"
    }
   ],
   "source": [
    "plot_roc(text_clf_counts, dev_texts_counts, dev_cats_counts, 'multinomial_counts')\n",
    "print(classification_report(dev_cats_counts, text_clf_counts.predict(dev_texts_counts)))\n",
    "print(confusion_matrix(dev_cats_counts, text_clf_counts.predict(dev_texts_counts)))\n",
    "print(classification_report_imbalanced(dev_cats_counts, text_clf_counts.predict(dev_texts_counts)))"
   ]
  },
  {
   "cell_type": "code",
   "execution_count": 42,
   "metadata": {},
   "outputs": [
    {
     "data": {
      "text/plain": [
       "Pipeline(memory=None,\n",
       "     steps=[('vect', CountVectorizer(analyzer='word', binary=False, decode_error='strict',\n",
       "        dtype=<class 'numpy.int64'>, encoding='utf-8', input='content',\n",
       "        lowercase=True, max_df=1.0, max_features=None, min_df=1,\n",
       "        ngram_range=(1, 1), preprocessor=None, stop_words=None,\n",
       "        strip...se, use_idf=True)), ('clf', BernoulliNB(alpha=1.0, binarize=0.0, class_prior=None, fit_prior=True))])"
      ]
     },
     "execution_count": 42,
     "metadata": {},
     "output_type": "execute_result"
    }
   ],
   "source": [
    "text_clf_counts_ber = Pipeline([\n",
    "                            ('vect', CountVectorizer()),\n",
    "                            ('tfidf', TfidfTransformer()),\n",
    "                            ('clf', BernoulliNB()),\n",
    "                  ])\n",
    "\n",
    "(train_texts_counts, \n",
    " dev_texts_counts, \n",
    " train_cats_counts, \n",
    " dev_cats_counts) = train_test_split(df_counts['sentence'],\n",
    "                                     df_counts['label'],\n",
    "                                     test_size=.2,\n",
    "                                   )\n",
    "\n",
    "text_clf_counts_ber.fit(train_texts_counts, train_cats_counts)"
   ]
  },
  {
   "cell_type": "code",
   "execution_count": 43,
   "metadata": {},
   "outputs": [
    {
     "name": "stdout",
     "output_type": "stream",
     "text": [
      "              precision    recall  f1-score   support\n",
      "\n",
      "       False       0.93      0.90      0.91       447\n",
      "        True       0.18      0.24      0.21        42\n",
      "\n",
      "   micro avg       0.84      0.84      0.84       489\n",
      "   macro avg       0.55      0.57      0.56       489\n",
      "weighted avg       0.86      0.84      0.85       489\n",
      "\n",
      "[[402  45]\n",
      " [ 32  10]]\n",
      "                   pre       rec       spe        f1       geo       iba       sup\n",
      "\n",
      "      False       0.93      0.90      0.24      0.91      0.46      0.23       447\n",
      "       True       0.18      0.24      0.90      0.21      0.46      0.20        42\n",
      "\n",
      "avg / total       0.86      0.84      0.29      0.85      0.46      0.23       489\n",
      "\n"
     ]
    },
    {
     "data": {
      "image/png": "[encoded data removed]",
      "text/plain": [
       "<Figure size 432x288 with 1 Axes>"
      ]
     },
     "metadata": {
      "needs_background": "light"
     },
     "output_type": "display_data"
    }
   ],
   "source": [
    "plot_roc(text_clf_counts, dev_texts_counts, dev_cats_counts, 'bernoulli_counts')\n",
    "print(classification_report(dev_cats_counts, text_clf_counts_ber.predict(dev_texts_counts)))\n",
    "print(confusion_matrix(dev_cats_counts, text_clf_counts_ber.predict(dev_texts_counts)))\n",
    "print(classification_report_imbalanced(dev_cats_counts, text_clf_counts_ber.predict(dev_texts_counts)))"
   ]
  },
  {
   "cell_type": "code",
   "execution_count": 33,
   "metadata": {},
   "outputs": [],
   "source": [
    "df_dates = ExtractSentencesAndLabel(\"dates\").data_output()"
   ]
  },
  {
   "cell_type": "code",
   "execution_count": 39,
   "metadata": {},
   "outputs": [
    {
     "data": {
      "text/plain": [
       "Pipeline(memory=None,\n",
       "     steps=[('vect', CountVectorizer(analyzer='word', binary=False, decode_error='strict',\n",
       "        dtype=<class 'numpy.int64'>, encoding='utf-8', input='content',\n",
       "        lowercase=True, max_df=1.0, max_features=None, min_df=1,\n",
       "        ngram_range=(1, 1), preprocessor=None, stop_words=None,\n",
       "        strip...inear_tf=False, use_idf=True)), ('clf', MultinomialNB(alpha=1.0, class_prior=None, fit_prior=True))])"
      ]
     },
     "execution_count": 39,
     "metadata": {},
     "output_type": "execute_result"
    }
   ],
   "source": [
    "text_clf_dates = Pipeline([\n",
    "                            ('vect', CountVectorizer()),\n",
    "                            ('tfidf', TfidfTransformer()),\n",
    "                            ('clf', MultinomialNB()),\n",
    "                  ])\n",
    "\n",
    "(train_texts_dates, \n",
    " dev_texts_dates, \n",
    " train_cats_dates, \n",
    " dev_cats_dates) = train_test_split(df_dates['sentence'],\n",
    "                                    df_dates['label'],\n",
    "                                    test_size=.2,\n",
    "                                   )\n",
    "\n",
    "text_clf_dates.fit(train_texts_dates, train_cats_dates)"
   ]
  },
  {
   "cell_type": "code",
   "execution_count": 40,
   "metadata": {},
   "outputs": [
    {
     "name": "stdout",
     "output_type": "stream",
     "text": [
      "              precision    recall  f1-score   support\n",
      "\n",
      "       False       0.67      1.00      0.80        26\n",
      "        True       0.00      0.00      0.00        13\n",
      "\n",
      "   micro avg       0.67      0.67      0.67        39\n",
      "   macro avg       0.33      0.50      0.40        39\n",
      "weighted avg       0.44      0.67      0.53        39\n",
      "\n",
      "[[26  0]\n",
      " [13  0]]\n",
      "                   pre       rec       spe        f1       geo       iba       sup\n",
      "\n",
      "      False       0.67      1.00      0.00      0.80      0.00      0.00        26\n",
      "       True       0.00      0.00      1.00      0.00      0.00      0.00        13\n",
      "\n",
      "avg / total       0.44      0.67      0.33      0.53      0.00      0.00        39\n",
      "\n"
     ]
    },
    {
     "name": "stderr",
     "output_type": "stream",
     "text": [
      "/anaconda3/envs/RKI/lib/python3.6/site-packages/sklearn/metrics/classification.py:1143: UndefinedMetricWarning: Precision and F-score are ill-defined and being set to 0.0 in labels with no predicted samples.\n",
      "  'precision', 'predicted', average, warn_for)\n"
     ]
    },
    {
     "data": {
      "image/png": "[encoded data removed]",
      "text/plain": [
       "<Figure size 432x288 with 1 Axes>"
      ]
     },
     "metadata": {
      "needs_background": "light"
     },
     "output_type": "display_data"
    }
   ],
   "source": [
    "plot_roc(text_clf_dates, dev_texts_dates, dev_cats_dates, 'multionomial_dates')\n",
    "print(classification_report(dev_cats_dates, text_clf_dates.predict(dev_texts_dates)))\n",
    "print(confusion_matrix(dev_cats_dates, text_clf_dates.predict(dev_texts_dates)))\n",
    "print(classification_report_imbalanced(dev_cats_dates, text_clf_dates.predict(dev_texts_dates)))"
   ]
  },
  {
   "cell_type": "code",
   "execution_count": 44,
   "metadata": {},
   "outputs": [
    {
     "data": {
      "text/plain": [
       "Pipeline(memory=None,\n",
       "     steps=[('vect', CountVectorizer(analyzer='word', binary=False, decode_error='strict',\n",
       "        dtype=<class 'numpy.int64'>, encoding='utf-8', input='content',\n",
       "        lowercase=True, max_df=1.0, max_features=None, min_df=1,\n",
       "        ngram_range=(1, 1), preprocessor=None, stop_words=None,\n",
       "        strip...se, use_idf=True)), ('clf', BernoulliNB(alpha=1.0, binarize=0.0, class_prior=None, fit_prior=True))])"
      ]
     },
     "execution_count": 44,
     "metadata": {},
     "output_type": "execute_result"
    }
   ],
   "source": [
    "text_clf_dates_ber = Pipeline([\n",
    "                            ('vect', CountVectorizer()),\n",
    "                            ('tfidf', TfidfTransformer()),\n",
    "                            ('clf', BernoulliNB()),\n",
    "                  ])\n",
    "\n",
    "(train_texts_dates, \n",
    " dev_texts_dates, \n",
    " train_cats_dates, \n",
    " dev_cats_dates) = train_test_split(df_dates['sentence'],\n",
    "                                    df_dates['label'],\n",
    "                                    test_size=.2,\n",
    "                                   )\n",
    "\n",
    "text_clf_dates_ber.fit(train_texts_dates, train_cats_dates)"
   ]
  },
  {
   "cell_type": "code",
   "execution_count": 45,
   "metadata": {
    "scrolled": false
   },
   "outputs": [
    {
     "name": "stdout",
     "output_type": "stream",
     "text": [
      "              precision    recall  f1-score   support\n",
      "\n",
      "       False       0.78      0.93      0.85        30\n",
      "        True       0.33      0.11      0.17         9\n",
      "\n",
      "   micro avg       0.74      0.74      0.74        39\n",
      "   macro avg       0.56      0.52      0.51        39\n",
      "weighted avg       0.68      0.74      0.69        39\n",
      "\n",
      "[[28  2]\n",
      " [ 8  1]]\n",
      "                   pre       rec       spe        f1       geo       iba       sup\n",
      "\n",
      "      False       0.78      0.93      0.11      0.85      0.32      0.11        30\n",
      "       True       0.33      0.11      0.93      0.17      0.32      0.10         9\n",
      "\n",
      "avg / total       0.68      0.74      0.30      0.69      0.32      0.11        39\n",
      "\n"
     ]
    },
    {
     "data": {
      "image/png": "[encoded data removed]",
      "text/plain": [
       "<Figure size 432x288 with 1 Axes>"
      ]
     },
     "metadata": {
      "needs_background": "light"
     },
     "output_type": "display_data"
    }
   ],
   "source": [
    "plot_roc(text_clf_dates, dev_texts_dates, dev_cats_dates, 'multionomial_dates')\n",
    "print(classification_report(dev_cats_dates, text_clf_dates_ber.predict(dev_texts_dates)))\n",
    "print(confusion_matrix(dev_cats_dates, text_clf_dates_ber.predict(dev_texts_dates)))\n",
    "print(classification_report_imbalanced(dev_cats_dates, text_clf_dates_ber.predict(dev_texts_dates)))"
   ]
  },
  {
   "cell_type": "code",
   "execution_count": 52,
   "metadata": {},
   "outputs": [
    {
     "data": {
      "image/png": "[encoded data removed]",
      "text/plain": [
       "<Figure size 432x288 with 1 Axes>"
      ]
     },
     "metadata": {
      "needs_background": "light"
     },
     "output_type": "display_data"
    }
   ],
   "source": [
    "\n",
    "clfs = [text_clf_counts, text_clf_counts_ber, text_clf_dates, text_clf_dates_ber]\n",
    "markers = ['-', ':', '--', '-', \":\", \"--\", \"-\"]\n",
    "names = [\"MNB (Counts)\", \"BNB (Counts)\", \"MNB (Dates)\", \"BNB (Dates)\",]\n",
    "for i, clf in enumerate(clfs):\n",
    "    try:\n",
    "        if i in [0,1]:\n",
    "            y_pred = clf.predict_proba(dev_texts_counts)\n",
    "            fpr, tpr, _ = roc_curve(dev_cats_counts, y_pred[:,1])\n",
    "            auc_score = auc(fpr, tpr)\n",
    "        else:  \n",
    "            y_pred = clf.predict_proba(dev_texts_dates)\n",
    "            fpr, tpr, _ = roc_curve(dev_cats_dates, y_pred[:,1])\n",
    "            auc_score = auc(fpr, tpr)\n",
    "    except AttributeError:\n",
    "        print(\"asda\")\n",
    "        y_pred = clf.predict(X_test)\n",
    "        fpr, tpr, _ = roc_curve(y_test, y_pred)\n",
    "        auc_score = auc(fpr, tpr)\n",
    "    plt.xlabel('False Positive Rate')\n",
    "    plt.ylabel('True Positive Rate')\n",
    "    #plt.savefig(f'{name}.pdf', format='pdf')\n",
    "    plt.plot(fpr, tpr, linestyle=markers[i], label=f\"{names[i]} (AUC: {auc_score:.2f})\")\n",
    "\n",
    "plt.legend(loc=4)\n",
    "plt.savefig('roc_curves_key.pdf', format='pdf')\n",
    "plt.show()"
   ]
  },
  {
   "cell_type": "markdown",
   "metadata": {},
   "source": [
    "## Count/Date Classifier: Most Informative Words"
   ]
  },
  {
   "cell_type": "code",
   "execution_count": 11,
   "metadata": {},
   "outputs": [],
   "source": [
    "df_sent = ExtractSentencesAndLabel('counts').data_output()\n",
    "df_sent['sentence']= df_sent['sentence'].apply(lambda x: list(set(x.split()) - set(stopwords.words('english'))))"
   ]
  },
  {
   "cell_type": "code",
   "execution_count": 9,
   "metadata": {},
   "outputs": [],
   "source": [
    "df_sent = split_list_and_distribute_to_new_rows(df_sent, 'sentence')"
   ]
  },
  {
   "cell_type": "code",
   "execution_count": 47,
   "metadata": {
    "scrolled": true
   },
   "outputs": [
    {
     "data": {
      "text/plain": [
       "[({'word': 'preparedness'}, False),\n",
       " ({'word': '+234(0)708'}, False),\n",
       " ({'word': 'us'}, False),\n",
       " ({'word': '9700'}, False),\n",
       " ({'word': 'control'}, False),\n",
       " ({'word': '0010Whatsapp:'}, False),\n",
       " ({'word': '5577×Contact'}, False),\n",
       " ({'word': 'non-communicable'}, False),\n",
       " ({'word': 'year'}, False),\n",
       " ({'word': 'established'}, False),\n",
       " ({'word': 'Nigeria’s'}, False),\n",
       " ({'word': 'Nigeria'}, False),\n",
       " ({'word': 'Disease'}, False),\n",
       " ({'word': 'challenges'}, False),\n",
       " ({'word': '0839SMS'}, False),\n",
       " ({'word': 'detection'}, False),\n",
       " ({'word': 'epidemics'}, False),\n",
       " ({'word': 'diseases.Connect'}, False),\n",
       " ({'word': '(NCDC)'}, False),\n",
       " ({'word': 'Free'}, False),\n",
       " ({'word': '711'}, False),\n",
       " ({'word': 'health'}, False),\n",
       " ({'word': 'NCDCThe'}, False),\n",
       " ({'word': 'Subscribe'}, False),\n",
       " ({'word': 'Centre'}, False),\n",
       " ({'word': '2011'}, False),\n",
       " ({'word': 'enhance'}, False),\n",
       " ({'word': '0800'}, False),\n",
       " ({'word': 'Control'}, False),\n",
       " ({'word': '955'}, False),\n",
       " ({'word': 'Number:'}, False),\n",
       " ({'word': 'NewsletterMandate'}, False),\n",
       " ({'word': 'public'}, False),\n",
       " ({'word': 'prevention,'}, False),\n",
       " ({'word': '+234(0)809'}, False),\n",
       " ({'word': 'communicable'}, False),\n",
       " ({'word': 'handlesToll'}, False),\n",
       " ({'word': 'response'}, False),\n",
       " ({'word': 'CentreToll'}, False),\n",
       " ({'word': 'emergencies'}, False),\n",
       " ({'word': 'preparedness'}, False),\n",
       " ({'word': '+234(0)708'}, False),\n",
       " ({'word': 'us'}, False),\n",
       " ({'word': '9700'}, False),\n",
       " ({'word': 'control'}, False),\n",
       " ({'word': '0010Whatsapp:'}, False),\n",
       " ({'word': '5577×Contact'}, False),\n",
       " ({'word': 'non-communicable'}, False),\n",
       " ({'word': 'year'}, False),\n",
       " ({'word': 'established'}, False),\n",
       " ({'word': 'Nigeria’s'}, False),\n",
       " ({'word': 'Nigeria'}, False),\n",
       " ({'word': 'Disease'}, False),\n",
       " ({'word': 'challenges'}, False),\n",
       " ({'word': '0839SMS'}, False),\n",
       " ({'word': 'detection'}, False),\n",
       " ({'word': 'epidemics'}, False),\n",
       " ({'word': 'diseases.Connect'}, False),\n",
       " ({'word': '(NCDC)'}, False),\n",
       " ({'word': 'Free'}, False),\n",
       " ({'word': '711'}, False),\n",
       " ({'word': 'health'}, False),\n",
       " ({'word': 'NCDCThe'}, False),\n",
       " ({'word': 'Subscribe'}, False),\n",
       " ({'word': 'Centre'}, False),\n",
       " ({'word': '2011'}, False),\n",
       " ({'word': 'enhance'}, False),\n",
       " ({'word': '0800'}, False),\n",
       " ({'word': 'Control'}, False),\n",
       " ({'word': '955'}, False),\n",
       " ({'word': 'Number:'}, False),\n",
       " ({'word': 'NewsletterMandate'}, False),\n",
       " ({'word': 'public'}, False),\n",
       " ({'word': 'prevention,'}, False),\n",
       " ({'word': '+234(0)809'}, False),\n",
       " ({'word': 'communicable'}, False),\n",
       " ({'word': 'handlesToll'}, False),\n",
       " ({'word': 'response'}, False),\n",
       " ({'word': 'CentreToll'}, False),\n",
       " ({'word': 'emergencies'}, False),\n",
       " ({'word': 'preparedness'}, False),\n",
       " ({'word': '+234(0)708'}, False),\n",
       " ({'word': 'us'}, False),\n",
       " ({'word': '9700'}, False),\n",
       " ({'word': 'control'}, False),\n",
       " ({'word': '0010Whatsapp:'}, False),\n",
       " ({'word': '5577×Contact'}, False),\n",
       " ({'word': 'non-communicable'}, False),\n",
       " ({'word': 'year'}, False),\n",
       " ({'word': 'established'}, False),\n",
       " ({'word': 'Nigeria’s'}, False),\n",
       " ({'word': 'Nigeria'}, False),\n",
       " ({'word': 'Disease'}, False),\n",
       " ({'word': 'challenges'}, False),\n",
       " ({'word': '0839SMS'}, False),\n",
       " ({'word': 'detection'}, False),\n",
       " ({'word': 'epidemics'}, False),\n",
       " ({'word': 'diseases.Connect'}, False),\n",
       " ({'word': '(NCDC)'}, False),\n",
       " ({'word': 'Free'}, False),\n",
       " ({'word': '711'}, False),\n",
       " ({'word': 'health'}, False),\n",
       " ({'word': 'NCDCThe'}, False),\n",
       " ({'word': 'Subscribe'}, False),\n",
       " ({'word': 'Centre'}, False),\n",
       " ({'word': '2011'}, False),\n",
       " ({'word': 'enhance'}, False),\n",
       " ({'word': '0800'}, False),\n",
       " ({'word': 'Control'}, False),\n",
       " ({'word': '955'}, False),\n",
       " ({'word': 'Number:'}, False),\n",
       " ({'word': 'NewsletterMandate'}, False),\n",
       " ({'word': 'public'}, False),\n",
       " ({'word': 'prevention,'}, False),\n",
       " ({'word': '+234(0)809'}, False),\n",
       " ({'word': 'communicable'}, False),\n",
       " ({'word': 'handlesToll'}, False),\n",
       " ({'word': 'response'}, False),\n",
       " ({'word': 'CentreToll'}, False),\n",
       " ({'word': 'emergencies'}, False),\n",
       " ({'word': 'held'}, False),\n",
       " ({'word': 'achieve'}, False),\n",
       " ({'word': 'Goals'}, False),\n",
       " ({'word': 'LeoneSustainable'}, False),\n",
       " ({'word': 'Western'}, False),\n",
       " ({'word': 'GoalsThe'}, False),\n",
       " ({'word': 'agreed'}, False),\n",
       " ({'word': 'try'}, False),\n",
       " ({'word': 'Sustainable'}, False),\n",
       " ({'word': 'Nations'}, False),\n",
       " ({'word': 'fight'}, False),\n",
       " ({'word': '2019'}, False),\n",
       " ({'word': 'Development'}, False),\n",
       " ({'word': 'Koinadugu,'}, False),\n",
       " ({'word': '–'}, False),\n",
       " ({'word': 'historic'}, False),\n",
       " ({'word': 'UN'}, False),\n",
       " ({'word': 'Sierra'}, False),\n",
       " ({'word': 'year'}, False),\n",
       " ({'word': 'United'}, False),\n",
       " ({'word': '191'}, False),\n",
       " ({'word': 'event'}, False),\n",
       " ({'word': '25'}, False),\n",
       " ({'word': 'targets'}, False),\n",
       " ({'word': '169'}, False),\n",
       " ({'word': 'Member'}, False),\n",
       " ({'word': '2030.'}, False),\n",
       " ({'word': '17'}, False),\n",
       " ({'word': 'care'}, False),\n",
       " ({'word': 'Leonefield'}, False),\n",
       " ({'word': 'States'}, False),\n",
       " ({'word': 'report'}, False),\n",
       " ({'word': 'In'}, False),\n",
       " ({'word': 'Abuja,'}, False),\n",
       " ({'word': 'facilitiesSurvivors'}, False),\n",
       " ({'word': 'LimboStepping'}, False),\n",
       " ({'word': '(SDGs)'}, False),\n",
       " ({'word': 'hygiene'}, False),\n",
       " ({'word': 'the…MultimediaHand'}, False),\n",
       " ({'word': 'January'}, False),\n",
       " ({'word': 'goals'}, False),\n",
       " ({'word': 'Ebola'}, False),\n",
       " ({'word': 'held'}, False),\n",
       " ({'word': 'achieve'}, False),\n",
       " ({'word': 'Goals'}, False),\n",
       " ({'word': 'LeoneSustainable'}, False),\n",
       " ({'word': 'Western'}, False),\n",
       " ({'word': 'GoalsThe'}, False),\n",
       " ({'word': 'agreed'}, False),\n",
       " ({'word': 'try'}, False),\n",
       " ({'word': 'Sustainable'}, False),\n",
       " ({'word': 'Nations'}, False),\n",
       " ({'word': 'fight'}, False),\n",
       " ({'word': '2019'}, False),\n",
       " ({'word': 'Development'}, False),\n",
       " ({'word': 'Koinadugu,'}, False),\n",
       " ({'word': '–'}, False),\n",
       " ({'word': 'historic'}, False),\n",
       " ({'word': 'UN'}, False),\n",
       " ({'word': 'Sierra'}, False),\n",
       " ({'word': 'year'}, False),\n",
       " ({'word': 'United'}, False),\n",
       " ({'word': '191'}, False),\n",
       " ({'word': 'event'}, False),\n",
       " ({'word': '25'}, False),\n",
       " ({'word': 'targets'}, False),\n",
       " ({'word': '169'}, False),\n",
       " ({'word': 'Member'}, False),\n",
       " ({'word': '2030.'}, False),\n",
       " ({'word': '17'}, False),\n",
       " ({'word': 'care'}, False),\n",
       " ({'word': 'Leonefield'}, False),\n",
       " ({'word': 'States'}, False),\n",
       " ({'word': 'report'}, False),\n",
       " ({'word': 'In'}, False),\n",
       " ({'word': 'Abuja,'}, False),\n",
       " ({'word': 'facilitiesSurvivors'}, False),\n",
       " ({'word': 'LimboStepping'}, False),\n",
       " ({'word': '(SDGs)'}, False),\n",
       " ({'word': 'hygiene'}, False),\n",
       " ({'word': 'the…MultimediaHand'}, False),\n",
       " ({'word': 'January'}, False),\n",
       " ({'word': 'goals'}, False),\n",
       " ({'word': 'Ebola'}, False),\n",
       " ({'word': 'held'}, False),\n",
       " ({'word': 'achieve'}, False),\n",
       " ({'word': 'Goals'}, False),\n",
       " ({'word': 'LeoneSustainable'}, False),\n",
       " ({'word': 'Western'}, False),\n",
       " ({'word': 'GoalsThe'}, False),\n",
       " ({'word': 'agreed'}, False),\n",
       " ({'word': 'try'}, False),\n",
       " ({'word': 'Sustainable'}, False),\n",
       " ({'word': 'Nations'}, False),\n",
       " ({'word': 'fight'}, False),\n",
       " ({'word': '2019'}, False),\n",
       " ({'word': 'Development'}, False),\n",
       " ({'word': 'Koinadugu,'}, False),\n",
       " ({'word': '–'}, False),\n",
       " ({'word': 'historic'}, False),\n",
       " ({'word': 'UN'}, False),\n",
       " ({'word': 'Sierra'}, False),\n",
       " ({'word': 'year'}, False),\n",
       " ({'word': 'United'}, False),\n",
       " ({'word': '191'}, False),\n",
       " ({'word': 'event'}, False),\n",
       " ({'word': '25'}, False),\n",
       " ({'word': 'targets'}, False),\n",
       " ({'word': '169'}, False),\n",
       " ({'word': 'Member'}, False),\n",
       " ({'word': '2030.'}, False),\n",
       " ({'word': '17'}, False),\n",
       " ({'word': 'care'}, False),\n",
       " ({'word': 'Leonefield'}, False),\n",
       " ({'word': 'States'}, False),\n",
       " ({'word': 'report'}, False),\n",
       " ({'word': 'In'}, False),\n",
       " ({'word': 'Abuja,'}, False),\n",
       " ({'word': 'facilitiesSurvivors'}, False),\n",
       " ({'word': 'LimboStepping'}, False),\n",
       " ({'word': '(SDGs)'}, False),\n",
       " ({'word': 'hygiene'}, False),\n",
       " ({'word': 'the…MultimediaHand'}, False),\n",
       " ({'word': 'January'}, False),\n",
       " ({'word': 'goals'}, False),\n",
       " ({'word': 'Ebola'}, False),\n",
       " ({'word': 'Les'}, False),\n",
       " ({'word': 'son'}, False),\n",
       " ({'word': 'Saint-Paul'}, False),\n",
       " ({'word': 'se'}, False),\n",
       " ({'word': 'notamment'}, False),\n",
       " ({'word': 'sud,'}, False),\n",
       " ({'word': 'l’ouest,'}, False),\n",
       " ({'word': 'leurs'}, False),\n",
       " ({'word': 'dengue'}, False),\n",
       " ({'word': 'retour'}, False),\n",
       " ({'word': 'protéger'}, False),\n",
       " ({'word': 'niveau'}, False),\n",
       " ({'word': 'sont'}, False),\n",
       " ({'word': 'qui'}, False),\n",
       " ({'word': '976'}, False),\n",
       " ({'word': 'Saint-Leu,'}, False),\n",
       " ({'word': '1er'}, False),\n",
       " ({'word': 'différents'}, False),\n",
       " ({'word': 'du'}, False),\n",
       " ({'word': 'lutter'}, False),\n",
       " ({'word': 'ont'}, False),\n",
       " ({'word': 'cette'}, False),\n",
       " ({'word': 'dispositifs'}, False),\n",
       " ({'word': 'poursuit'}, False),\n",
       " ({'word': 'chacun'}, False),\n",
       " ({'word': 'localisation'}, False),\n",
       " ({'word': 'L’augmentation'}, False),\n",
       " ({'word': 'sur'}, False),\n",
       " ({'word': 'le'}, False),\n",
       " ({'word': 'Saint-Louis'}, False),\n",
       " ({'word': 'entourage.Depuis'}, False),\n",
       " ({'word': '2018,'}, False),\n",
       " ({'word': 'cas'}, False),\n",
       " ({'word': 'avec'}, False),\n",
       " ({'word': 'dans'}, False),\n",
       " ({'word': 'et'}, False),\n",
       " ({'word': 'semaine'}, False),\n",
       " ({'word': 'moustiques'}, False),\n",
       " ({'word': 'été'}, False),\n",
       " ({'word': 'confirmés.'}, False),\n",
       " ({'word': 'janvier'}, False),\n",
       " ({'word': '6'}, False),\n",
       " ({'word': 'pour'}, False),\n",
       " ({'word': 'de'}, False),\n",
       " ({'word': 'multiplient'}, False),\n",
       " ({'word': 'la'}, False),\n",
       " ({'word': 'actions'}, False),\n",
       " ({'word': 'au'}, False),\n",
       " ({'word': 'ce'}, False),\n",
       " ({'word': 'département,'}, False),\n",
       " ({'word': 'nombre'}, False),\n",
       " ({'word': 'renforcent'}, False),\n",
       " ({'word': 'que'}, False),\n",
       " ({'word': 'vacances,'}, False),\n",
       " ({'word': 'rappeler'}, False),\n",
       " ({'word': 'Possession.En'}, False),\n",
       " ({'word': 'acteurs'}, False),\n",
       " ({'word': 'Avirons'}, False),\n",
       " ({'word': 'à'}, False),\n",
       " ({'word': 'ainsi'}, False),\n",
       " ({'word': 'une'}, False),\n",
       " ({'word': 'adopter'}, False),\n",
       " ({'word': 'gestes'}, False),\n",
       " ({'word': 'contre'}, False),\n",
       " ({'word': 'prévention'}, False),\n",
       " ({'word': 'les'}, False),\n",
       " ({'word': 'l’ensemble'}, False),\n",
       " ({'word': 'Les'}, False),\n",
       " ({'word': 'son'}, False),\n",
       " ({'word': 'Saint-Paul'}, False),\n",
       " ({'word': 'se'}, False),\n",
       " ({'word': 'notamment'}, False),\n",
       " ({'word': 'sud,'}, False),\n",
       " ({'word': 'l’ouest,'}, False),\n",
       " ({'word': 'leurs'}, False),\n",
       " ({'word': 'dengue'}, False),\n",
       " ({'word': 'retour'}, False),\n",
       " ({'word': 'protéger'}, False),\n",
       " ({'word': 'niveau'}, False),\n",
       " ({'word': 'sont'}, False),\n",
       " ({'word': 'qui'}, False),\n",
       " ({'word': '976'}, False),\n",
       " ({'word': 'Saint-Leu,'}, False),\n",
       " ({'word': '1er'}, False),\n",
       " ({'word': 'différents'}, False),\n",
       " ({'word': 'du'}, False),\n",
       " ({'word': 'lutter'}, False),\n",
       " ({'word': 'ont'}, False),\n",
       " ({'word': 'cette'}, False),\n",
       " ({'word': 'dispositifs'}, False),\n",
       " ({'word': 'poursuit'}, False),\n",
       " ({'word': 'chacun'}, False),\n",
       " ({'word': 'localisation'}, False),\n",
       " ({'word': 'L’augmentation'}, False),\n",
       " ({'word': 'sur'}, False),\n",
       " ({'word': 'le'}, False),\n",
       " ({'word': 'Saint-Louis'}, False),\n",
       " ({'word': 'entourage.Depuis'}, False),\n",
       " ({'word': '2018,'}, False),\n",
       " ({'word': 'cas'}, False),\n",
       " ({'word': 'avec'}, False),\n",
       " ({'word': 'dans'}, False),\n",
       " ({'word': 'et'}, False),\n",
       " ({'word': 'semaine'}, False),\n",
       " ({'word': 'moustiques'}, False),\n",
       " ({'word': 'été'}, False),\n",
       " ({'word': 'confirmés.'}, False),\n",
       " ({'word': 'janvier'}, False),\n",
       " ({'word': '6'}, False),\n",
       " ({'word': 'pour'}, False),\n",
       " ({'word': 'de'}, False),\n",
       " ({'word': 'multiplient'}, False),\n",
       " ({'word': 'la'}, False),\n",
       " ({'word': 'actions'}, False),\n",
       " ({'word': 'au'}, False),\n",
       " ({'word': 'ce'}, False),\n",
       " ({'word': 'département,'}, False),\n",
       " ({'word': 'nombre'}, False),\n",
       " ({'word': 'renforcent'}, False),\n",
       " ({'word': 'que'}, False),\n",
       " ({'word': 'vacances,'}, False),\n",
       " ({'word': 'rappeler'}, False),\n",
       " ({'word': 'Possession.En'}, False),\n",
       " ({'word': 'acteurs'}, False),\n",
       " ({'word': 'Avirons'}, False),\n",
       " ({'word': 'à'}, False),\n",
       " ({'word': 'ainsi'}, False),\n",
       " ({'word': 'une'}, False),\n",
       " ({'word': 'adopter'}, False),\n",
       " ({'word': 'gestes'}, False),\n",
       " ({'word': 'contre'}, False),\n",
       " ({'word': 'prévention'}, False),\n",
       " ({'word': 'les'}, False),\n",
       " ({'word': 'l’ensemble'}, False),\n",
       " ({'word': 'African'}, False),\n",
       " ({'word': 'Republic'}, False),\n",
       " ({'word': 'total'}, False),\n",
       " ({'word': 'follow-up'}, False),\n",
       " ({'word': '(CAR),'}, False),\n",
       " ({'word': 'cases'}, False),\n",
       " ({'word': 'Central'}, False),\n",
       " ({'word': 'outbreak'}, False),\n",
       " ({'word': 'reported'}, False),\n",
       " ({'word': 'Bambari'}, False),\n",
       " ({'word': 'monkeypox'}, False),\n",
       " ({'word': 'eight'}, False),\n",
       " ({'word': 'deaths'}, False),\n",
       " ({'word': 'district'}, False),\n",
       " ({'word': 'In'}, False),\n",
       " ({'word': ','}, False),\n",
       " ({'word': 'Mar.'}, False),\n",
       " ({'word': 'zero'}, False),\n",
       " ({'word': 'African'}, False),\n",
       " ({'word': 'Republic'}, False),\n",
       " ({'word': 'total'}, False),\n",
       " ({'word': 'follow-up'}, False),\n",
       " ({'word': '(CAR),'}, False),\n",
       " ({'word': 'cases'}, False),\n",
       " ({'word': 'Central'}, False),\n",
       " ({'word': 'outbreak'}, False),\n",
       " ({'word': 'reported'}, False),\n",
       " ({'word': 'Bambari'}, False),\n",
       " ({'word': 'monkeypox'}, False),\n",
       " ({'word': 'eight'}, False),\n",
       " ({'word': 'deaths'}, False),\n",
       " ({'word': 'district'}, False),\n",
       " ({'word': 'In'}, False),\n",
       " ({'word': ','}, False),\n",
       " ({'word': 'Mar.'}, False),\n",
       " ({'word': 'zero'}, False),\n",
       " ({'word': 'since'}, False),\n",
       " ({'word': 'outbreak.CAR'}, False),\n",
       " ({'word': 'declared'}, False),\n",
       " ({'word': 'outbreak'}, False),\n",
       " ({'word': 'Health'}, False),\n",
       " ({'word': 'start'}, False),\n",
       " ({'word': 'Ministry'}, False),\n",
       " ({'word': 'Mar.'}, False),\n",
       " ({'word': '25'}, False),\n",
       " ({'word': '(50%)'}, False),\n",
       " ({'word': '5'}, False),\n",
       " ({'word': 'Ippy.Four'}, False),\n",
       " ({'word': '17'}, False),\n",
       " ({'word': 'cases'}, False),\n",
       " ({'word': 'sub-district'}, False),\n",
       " ({'word': 'eight'}, False),\n",
       " ({'word': 'male;'}, False),\n",
       " ({'word': 'years'}, False),\n",
       " ({'word': 'age.'}, False),\n",
       " ({'word': '(50%)'}, False),\n",
       " ({'word': '5'}, False),\n",
       " ({'word': 'Ippy.Four'}, False),\n",
       " ({'word': '17'}, False),\n",
       " ({'word': 'cases'}, False),\n",
       " ({'word': 'sub-district'}, False),\n",
       " ({'word': 'eight'}, False),\n",
       " ({'word': 'male;'}, False),\n",
       " ({'word': 'years'}, False),\n",
       " ({'word': 'age.'}, False),\n",
       " ({'word': '(50%)'}, False),\n",
       " ({'word': '5'}, False),\n",
       " ({'word': 'Ippy.Four'}, False),\n",
       " ({'word': '17'}, False),\n",
       " ({'word': 'cases'}, False),\n",
       " ({'word': 'sub-district'}, False),\n",
       " ({'word': 'eight'}, False),\n",
       " ({'word': 'male;'}, False),\n",
       " ({'word': 'years'}, False),\n",
       " ({'word': 'age.'}, False),\n",
       " ({'word': '(50%)'}, False),\n",
       " ({'word': '5'}, False),\n",
       " ({'word': 'Ippy.Four'}, False),\n",
       " ({'word': '17'}, False),\n",
       " ({'word': 'cases'}, False),\n",
       " ({'word': 'sub-district'}, False),\n",
       " ({'word': 'eight'}, False),\n",
       " ({'word': 'male;'}, False),\n",
       " ({'word': 'years'}, False),\n",
       " ({'word': 'age.'}, False),\n",
       " ({'word': 'March'}, False),\n",
       " ({'word': 'tested'}, False),\n",
       " ({'word': 'hospitalized.Laboratory'}, False),\n",
       " ({'word': 'collected'}, False),\n",
       " ({'word': 'samples'}, False),\n",
       " ({'word': '25'}, False),\n",
       " ({'word': '2018,'}, False),\n",
       " ({'word': 'Bangui.'}, False),\n",
       " ({'word': 'As'}, False),\n",
       " ({'word': 'Institut'}, False),\n",
       " ({'word': 'Pasteur'}, False),\n",
       " ({'word': 'three'}, False),\n",
       " ({'word': 'patients'}, False),\n",
       " ({'word': 'tested'}, False),\n",
       " ({'word': 'cases'}, False),\n",
       " ({'word': 'suspected'}, False),\n",
       " ({'word': 'positive'}, False),\n",
       " ({'word': 'virus.'}, False),\n",
       " ({'word': 'monkeypox'}, False),\n",
       " ({'word': 'eight'}, False),\n",
       " ({'word': 'Six'}, False),\n",
       " ({'word': 'tested'}, False),\n",
       " ({'word': 'cases'}, False),\n",
       " ({'word': 'suspected'}, False),\n",
       " ({'word': 'positive'}, False),\n",
       " ({'word': 'virus.'}, False),\n",
       " ({'word': 'monkeypox'}, False),\n",
       " ({'word': 'eight'}, False),\n",
       " ({'word': 'Six'}, False),\n",
       " ({'word': 'disease'}, False),\n",
       " ({'word': 'One'}, False),\n",
       " ({'word': 'pending.Monkeypox'}, False),\n",
       " ({'word': 'laboratory'}, False),\n",
       " ({'word': 'i.e.'}, False),\n",
       " ({'word': 'self-limiting'}, False),\n",
       " ({'word': 'lesions'}, False),\n",
       " ({'word': 'case'}, False),\n",
       " ({'word': 'largely'}, False),\n",
       " ({'word': 'contact'}, False),\n",
       " ({'word': 'developed'}, False),\n",
       " ({'word': 'confirmation'}, False),\n",
       " ({'word': 'suspicious'}, False),\n",
       " ({'word': 'disease'}, False),\n",
       " ({'word': 'One'}, False),\n",
       " ({'word': 'pending.Monkeypox'}, False),\n",
       " ({'word': 'laboratory'}, False),\n",
       " ({'word': 'i.e.'}, False),\n",
       " ({'word': 'self-limiting'}, False),\n",
       " ({'word': 'lesions'}, False),\n",
       " ({'word': 'case'}, False),\n",
       " ({'word': 'largely'}, False),\n",
       " ({'word': 'contact'}, False),\n",
       " ({'word': 'developed'}, False),\n",
       " ({'word': 'confirmation'}, False),\n",
       " ({'word': 'suspicious'}, False),\n",
       " ({'word': 'infection.'}, False),\n",
       " ({'word': 'skin'}, False),\n",
       " ({'word': 'swelling'}, False),\n",
       " ({'word': 'fever,'}, False),\n",
       " ({'word': 'jaw'}, False),\n",
       " ({'word': 'characteristic'}, False),\n",
       " ({'word': 'symptoms'}, False),\n",
       " ({'word': 'associated'}, False),\n",
       " ({'word': 'Generalized'}, False),\n",
       " ({'word': 'painful'}, False),\n",
       " ({'word': 'rashes,'}, False),\n",
       " ({'word': 'vesicular'}, False),\n",
       " ({'word': 'UgandaSource:'}, False),\n",
       " ({'word': 'district,'}, False),\n",
       " ({'word': 'person'}, False),\n",
       " ({'word': 'April'}, False),\n",
       " ({'word': 'killing'}, False),\n",
       " ({'word': 'Xinhua'}, False),\n",
       " ({'word': 'camp'}, False),\n",
       " ({'word': 'leaving'}, False),\n",
       " ({'word': 'people'}, False),\n",
       " ({'word': 'hospitalized,'}, False),\n",
       " ({'word': '--'}, False),\n",
       " ({'word': 'Anthrax'}, False),\n",
       " ({'word': 'Arua'}, False),\n",
       " ({'word': 'said'}, False),\n",
       " ({'word': '2018-04-06'}, False),\n",
       " ({'word': 'one'}, False),\n",
       " ({'word': 'samples'}, False),\n",
       " ({'word': 'Ugandan'}, False),\n",
       " ({'word': 'veterinary'}, False),\n",
       " ({'word': 'three'}, False),\n",
       " ({'word': 'local'}, False),\n",
       " ({'word': 'Friday.Willy'}, False),\n",
       " ({'word': 'broken'}, False),\n",
       " ({'word': 'others'}, False),\n",
       " ({'word': 'tested'}, False),\n",
       " ({'word': '(Xinhua)'}, False),\n",
       " ({'word': 'positive'}, False),\n",
       " ({'word': 'refugee'}, False),\n",
       " ({'word': 'settlement'}, False),\n",
       " ({'word': 'Arua,'}, False),\n",
       " ({'word': '6'}, False),\n",
       " ({'word': 'blood'}, False),\n",
       " ({'word': 'district'}, False),\n",
       " ({'word': 'two'}, False),\n",
       " ({'word': 'told'}, False),\n",
       " ({'word': 'huaxia]KAMPALA,'}, False),\n",
       " ({'word': 'northwestern'}, False),\n",
       " ({'word': 'anthrax.'}, False),\n",
       " ({'word': 'official'}, False),\n",
       " ({'word': 'breaks'}, False),\n",
       " ({'word': 'officer'}, False),\n",
       " ({'word': '19:19:32[Editor:'}, False),\n",
       " ({'word': 'Nguma,'}, False),\n",
       " ({'word': 'taken'}, False),\n",
       " ({'word': 'UgandaSource:'}, False),\n",
       " ({'word': 'district,'}, False),\n",
       " ({'word': 'person'}, False),\n",
       " ({'word': 'April'}, False),\n",
       " ({'word': 'killing'}, False),\n",
       " ({'word': 'Xinhua'}, False),\n",
       " ({'word': 'camp'}, False),\n",
       " ({'word': 'leaving'}, False),\n",
       " ({'word': 'people'}, False),\n",
       " ({'word': 'hospitalized,'}, False),\n",
       " ({'word': '--'}, False),\n",
       " ({'word': 'Anthrax'}, False),\n",
       " ({'word': 'Arua'}, False),\n",
       " ({'word': 'said'}, False),\n",
       " ({'word': '2018-04-06'}, False),\n",
       " ({'word': 'one'}, False),\n",
       " ({'word': 'samples'}, False),\n",
       " ({'word': 'Ugandan'}, False),\n",
       " ({'word': 'veterinary'}, False),\n",
       " ({'word': 'three'}, False),\n",
       " ({'word': 'local'}, False),\n",
       " ({'word': 'Friday.Willy'}, False),\n",
       " ({'word': 'broken'}, False),\n",
       " ({'word': 'others'}, False),\n",
       " ({'word': 'tested'}, False),\n",
       " ({'word': '(Xinhua)'}, False),\n",
       " ({'word': 'positive'}, False),\n",
       " ({'word': 'refugee'}, False),\n",
       " ({'word': 'settlement'}, False),\n",
       " ({'word': 'Arua,'}, False),\n",
       " ({'word': '6'}, False),\n",
       " ({'word': 'blood'}, False),\n",
       " ({'word': 'district'}, False),\n",
       " ({'word': 'two'}, False),\n",
       " ({'word': 'told'}, False),\n",
       " ({'word': 'huaxia]KAMPALA,'}, False),\n",
       " ({'word': 'northwestern'}, False),\n",
       " ({'word': 'anthrax.'}, False),\n",
       " ({'word': 'official'}, False),\n",
       " ({'word': 'breaks'}, False),\n",
       " ({'word': 'officer'}, False),\n",
       " ({'word': '19:19:32[Editor:'}, False),\n",
       " ({'word': 'Nguma,'}, False),\n",
       " ({'word': 'taken'}, False),\n",
       " ({'word': 'UgandaSource:'}, False),\n",
       " ({'word': 'district,'}, False),\n",
       " ({'word': 'person'}, False),\n",
       " ({'word': 'April'}, False),\n",
       " ({'word': 'killing'}, False),\n",
       " ({'word': 'Xinhua'}, False),\n",
       " ({'word': 'camp'}, False),\n",
       " ({'word': 'leaving'}, False),\n",
       " ({'word': 'people'}, False),\n",
       " ({'word': 'hospitalized,'}, False),\n",
       " ({'word': '--'}, False),\n",
       " ({'word': 'Anthrax'}, False),\n",
       " ({'word': 'Arua'}, False),\n",
       " ({'word': 'said'}, False),\n",
       " ({'word': '2018-04-06'}, False),\n",
       " ({'word': 'one'}, False),\n",
       " ({'word': 'samples'}, False),\n",
       " ({'word': 'Ugandan'}, False),\n",
       " ({'word': 'veterinary'}, False),\n",
       " ({'word': 'three'}, False),\n",
       " ({'word': 'local'}, False),\n",
       " ({'word': 'Friday.Willy'}, False),\n",
       " ({'word': 'broken'}, False),\n",
       " ({'word': 'others'}, False),\n",
       " ({'word': 'tested'}, False),\n",
       " ({'word': '(Xinhua)'}, False),\n",
       " ({'word': 'positive'}, False),\n",
       " ({'word': 'refugee'}, False),\n",
       " ({'word': 'settlement'}, False),\n",
       " ({'word': 'Arua,'}, False),\n",
       " ({'word': '6'}, False),\n",
       " ({'word': 'blood'}, False),\n",
       " ({'word': 'district'}, False),\n",
       " ({'word': 'two'}, False),\n",
       " ({'word': 'told'}, False),\n",
       " ({'word': 'huaxia]KAMPALA,'}, False),\n",
       " ({'word': 'northwestern'}, False),\n",
       " ({'word': 'anthrax.'}, False),\n",
       " ({'word': 'official'}, False),\n",
       " ({'word': 'breaks'}, False),\n",
       " ({'word': 'officer'}, False),\n",
       " ({'word': '19:19:32[Editor:'}, False),\n",
       " ({'word': 'Nguma,'}, False),\n",
       " ({'word': 'taken'}, False),\n",
       " ({'word': 'UgandaSource:'}, True),\n",
       " ({'word': 'district,'}, True),\n",
       " ({'word': 'person'}, True),\n",
       " ({'word': 'April'}, True),\n",
       " ({'word': 'killing'}, True),\n",
       " ({'word': 'Xinhua'}, True),\n",
       " ({'word': 'camp'}, True),\n",
       " ({'word': 'leaving'}, True),\n",
       " ({'word': 'people'}, True),\n",
       " ({'word': 'hospitalized,'}, True),\n",
       " ({'word': '--'}, True),\n",
       " ({'word': 'Anthrax'}, True),\n",
       " ({'word': 'Arua'}, True),\n",
       " ({'word': 'said'}, True),\n",
       " ({'word': '2018-04-06'}, True),\n",
       " ({'word': 'one'}, True),\n",
       " ({'word': 'samples'}, True),\n",
       " ({'word': 'Ugandan'}, True),\n",
       " ({'word': 'veterinary'}, True),\n",
       " ({'word': 'three'}, True),\n",
       " ({'word': 'local'}, True),\n",
       " ({'word': 'Friday.Willy'}, True),\n",
       " ({'word': 'broken'}, True),\n",
       " ({'word': 'others'}, True),\n",
       " ({'word': 'tested'}, True),\n",
       " ({'word': '(Xinhua)'}, True),\n",
       " ({'word': 'positive'}, True),\n",
       " ({'word': 'refugee'}, True),\n",
       " ({'word': 'settlement'}, True),\n",
       " ({'word': 'Arua,'}, True),\n",
       " ({'word': '6'}, True),\n",
       " ({'word': 'blood'}, True),\n",
       " ({'word': 'district'}, True),\n",
       " ({'word': 'two'}, True),\n",
       " ({'word': 'told'}, True),\n",
       " ({'word': 'huaxia]KAMPALA,'}, True),\n",
       " ({'word': 'northwestern'}, True),\n",
       " ({'word': 'anthrax.'}, True),\n",
       " ({'word': 'official'}, True),\n",
       " ({'word': 'breaks'}, True),\n",
       " ({'word': 'officer'}, True),\n",
       " ({'word': '19:19:32[Editor:'}, True),\n",
       " ({'word': 'Nguma,'}, True),\n",
       " ({'word': 'taken'}, True),\n",
       " ({'word': 'still'}, False),\n",
       " ({'word': 'people'}, False),\n",
       " ({'word': 'home'}, False),\n",
       " ({'word': 'contracting'}, False),\n",
       " ({'word': 'houses'}, False),\n",
       " ({'word': 'undergoing'}, False),\n",
       " ({'word': 'risk'}, False),\n",
       " ({'word': 'many'}, False),\n",
       " ({'word': 'disease'}, False),\n",
       " ({'word': 'camp.'}, False),\n",
       " ({'word': 'live'}, False),\n",
       " ({'word': 'fighting'}, False),\n",
       " ({'word': 'refugees'}, False),\n",
       " ({'word': 'fled'}, False),\n",
       " ({'word': 'Nguma'}, False),\n",
       " ({'word': 'sharing'}, False),\n",
       " ({'word': 'victims'}, False),\n",
       " ({'word': 'Sudanese'}, False),\n",
       " ({'word': 'treatment'}, False),\n",
       " ({'word': 'animals,\"'}, False),\n",
       " ({'word': 'said.South'}, False),\n",
       " ({'word': 'deadly'}, False),\n",
       " ({'word': '\"Two'}, False),\n",
       " ({'word': 'oozing'}, False),\n",
       " ({'word': 'outbreak'}, False),\n",
       " ({'word': 'died'}, False),\n",
       " ({'word': '15'}, False),\n",
       " ({'word': 'dangerous,\"'}, False),\n",
       " ({'word': '\"The'}, False),\n",
       " ({'word': 'cross'}, False),\n",
       " ({'word': 'Anthrax'}, False),\n",
       " ({'word': 'beings'}, False),\n",
       " ({'word': 'farmers'}, False),\n",
       " ({'word': 'said.He'}, False),\n",
       " ({'word': 'advised'}, False),\n",
       " ({'word': 'screen'}, False),\n",
       " ({'word': 'area'}, False),\n",
       " ({'word': 'nostrils'}, False),\n",
       " ({'word': 'refugees'}, False),\n",
       " ({'word': 'Nguma'}, False),\n",
       " ({'word': 'suspected'}, False),\n",
       " ({'word': 'blood'}, False),\n",
       " ({'word': 'reported'}, False),\n",
       " ({'word': 'animals'}, False),\n",
       " ({'word': 'report'}, False),\n",
       " ({'word': 'animals,'}, False),\n",
       " ({'word': 'said.An'}, False),\n",
       " ({'word': 'anthrax,'}, False),\n",
       " ({'word': 'Uganda,'}, False),\n",
       " ({'word': 'humanitarian'}, False),\n",
       " ({'word': 'signs'}, False),\n",
       " ({'word': 'agencies'}, False),\n",
       " ({'word': 'challenge'}, False),\n",
       " ({'word': 'anus.More'}, False),\n",
       " ({'word': 'last'}, False),\n",
       " ({'word': 'death'}, False),\n",
       " ({'word': 'human'}, False),\n",
       " ({'word': 'result'}, False),\n",
       " ({'word': 'ignore'}, False),\n",
       " ({'word': '2016.'}, False),\n",
       " ({'word': 'Uganda'}, False),\n",
       " ({'word': 'oozing'}, False),\n",
       " ({'word': 'outbreak'}, False),\n",
       " ({'word': 'died'}, False),\n",
       " ({'word': '15'}, False),\n",
       " ({'word': 'dangerous,\"'}, False),\n",
       " ({'word': '\"The'}, False),\n",
       " ({'word': 'cross'}, False),\n",
       " ({'word': 'Anthrax'}, False),\n",
       " ({'word': 'beings'}, False),\n",
       " ({'word': 'farmers'}, False),\n",
       " ({'word': 'said.He'}, False),\n",
       " ({'word': 'advised'}, False),\n",
       " ({'word': 'screen'}, False),\n",
       " ({'word': 'area'}, False),\n",
       " ({'word': 'nostrils'}, False),\n",
       " ({'word': 'refugees'}, False),\n",
       " ({'word': 'Nguma'}, False),\n",
       " ({'word': 'suspected'}, False),\n",
       " ({'word': 'blood'}, False),\n",
       " ({'word': 'reported'}, False),\n",
       " ({'word': 'animals'}, False),\n",
       " ({'word': 'report'}, False),\n",
       " ({'word': 'animals,'}, False),\n",
       " ({'word': 'said.An'}, False),\n",
       " ({'word': 'anthrax,'}, False),\n",
       " ({'word': 'Uganda,'}, False),\n",
       " ({'word': 'humanitarian'}, False),\n",
       " ({'word': 'signs'}, False),\n",
       " ({'word': 'agencies'}, False),\n",
       " ({'word': 'challenge'}, False),\n",
       " ({'word': 'anus.More'}, False),\n",
       " ({'word': 'last'}, False),\n",
       " ({'word': 'death'}, False),\n",
       " ({'word': 'human'}, False),\n",
       " ({'word': 'result'}, False),\n",
       " ({'word': 'ignore'}, False),\n",
       " ({'word': '2016.'}, False),\n",
       " ({'word': 'Uganda'}, False),\n",
       " ({'word': 'March'}, True),\n",
       " ({'word': 'reported.'}, True),\n",
       " ({'word': 'rockmelons'}, True),\n",
       " ({'word': 'outbreak'}, True),\n",
       " ({'word': 'April'}, True),\n",
       " ({'word': 'associated'}, True),\n",
       " ({'word': 'Point'}, True),\n",
       " ({'word': 'listeriosis'}, True),\n",
       " ({'word': 'grower.From'}, True),\n",
       " ({'word': 'probable)'}, True),\n",
       " ({'word': '(NFP)'}, True),\n",
       " ({'word': '20'}, True),\n",
       " ({'word': '1'}, True),\n",
       " ({'word': 'Disease'}, True),\n",
       " ({'word': 'single'}, True),\n",
       " ({'word': '(19'}, True),\n",
       " ({'word': '2018,'}, True),\n",
       " ({'word': '(listeriosis)'}, True),\n",
       " ({'word': 'cases'}, True),\n",
       " ({'word': '17'}, True),\n",
       " ({'word': 'WHO'}, True),\n",
       " ({'word': 'National'}, True),\n",
       " ({'word': '6'}, True),\n",
       " ({'word': 'Focal'}, True),\n",
       " ({'word': 'notified'}, True),\n",
       " ({'word': '2018'}, True),\n",
       " ({'word': 'infection'}, True),\n",
       " ({'word': 'monocytogenes'}, True),\n",
       " ({'word': '(cantaloupe)'}, True),\n",
       " ({'word': 'confirmed'}, True),\n",
       " ({'word': 'consumption'}, True),\n",
       " ({'word': '2018On'}, True),\n",
       " ({'word': 'Listeria'}, True),\n",
       " ({'word': 'news9'}, True),\n",
       " ({'word': 'Australian'}, True),\n",
       " ({'word': '2'}, True),\n",
       " ({'word': 'January'}, True),\n",
       " ({'word': 'March'}, False),\n",
       " ({'word': 'reported.'}, False),\n",
       " ({'word': 'rockmelons'}, False),\n",
       " ({'word': 'outbreak'}, False),\n",
       " ({'word': 'April'}, False),\n",
       " ({'word': 'associated'}, False),\n",
       " ({'word': 'Point'}, False),\n",
       " ({'word': 'listeriosis'}, False),\n",
       " ({'word': 'grower.From'}, False),\n",
       " ({'word': 'probable)'}, False),\n",
       " ({'word': '(NFP)'}, False),\n",
       " ({'word': '20'}, False),\n",
       " ({'word': '1'}, False),\n",
       " ({'word': 'Disease'}, False),\n",
       " ({'word': 'single'}, False),\n",
       " ({'word': '(19'}, False),\n",
       " ({'word': '2018,'}, False),\n",
       " ({'word': '(listeriosis)'}, False),\n",
       " ({'word': 'cases'}, False),\n",
       " ({'word': '17'}, False),\n",
       " ({'word': 'WHO'}, False),\n",
       " ({'word': 'National'}, False),\n",
       " ({'word': '6'}, False),\n",
       " ({'word': 'Focal'}, False),\n",
       " ({'word': 'notified'}, False),\n",
       " ({'word': '2018'}, False),\n",
       " ({'word': 'infection'}, False),\n",
       " ({'word': 'monocytogenes'}, False),\n",
       " ({'word': '(cantaloupe)'}, False),\n",
       " ({'word': 'confirmed'}, False),\n",
       " ({'word': 'consumption'}, False),\n",
       " ({'word': '2018On'}, False),\n",
       " ({'word': 'Listeria'}, False),\n",
       " ({'word': 'news9'}, False),\n",
       " ({'word': 'Australian'}, False),\n",
       " ({'word': '2'}, False),\n",
       " ({'word': 'January'}, False),\n",
       " ({'word': 'March'}, False),\n",
       " ({'word': 'reported.'}, False),\n",
       " ({'word': 'rockmelons'}, False),\n",
       " ({'word': 'outbreak'}, False),\n",
       " ({'word': 'April'}, False),\n",
       " ({'word': 'associated'}, False),\n",
       " ({'word': 'Point'}, False),\n",
       " ({'word': 'listeriosis'}, False),\n",
       " ({'word': 'grower.From'}, False),\n",
       " ({'word': 'probable)'}, False),\n",
       " ({'word': '(NFP)'}, False),\n",
       " ({'word': '20'}, False),\n",
       " ({'word': '1'}, False),\n",
       " ({'word': 'Disease'}, False),\n",
       " ({'word': 'single'}, False),\n",
       " ({'word': '(19'}, False),\n",
       " ({'word': '2018,'}, False),\n",
       " ({'word': '(listeriosis)'}, False),\n",
       " ({'word': 'cases'}, False),\n",
       " ({'word': '17'}, False),\n",
       " ({'word': 'WHO'}, False),\n",
       " ({'word': 'National'}, False),\n",
       " ({'word': '6'}, False),\n",
       " ({'word': 'Focal'}, False),\n",
       " ({'word': 'notified'}, False),\n",
       " ({'word': '2018'}, False),\n",
       " ({'word': 'infection'}, False),\n",
       " ({'word': 'monocytogenes'}, False),\n",
       " ({'word': '(cantaloupe)'}, False),\n",
       " ({'word': 'confirmed'}, False),\n",
       " ({'word': 'consumption'}, False),\n",
       " ({'word': '2018On'}, False),\n",
       " ({'word': 'Listeria'}, False),\n",
       " ({'word': 'news9'}, False),\n",
       " ({'word': 'Australian'}, False),\n",
       " ({'word': '2'}, False),\n",
       " ({'word': 'January'}, False),\n",
       " ({'word': 'outbreak.'}, False),\n",
       " ({'word': 'cases'}, False),\n",
       " ({'word': 'hospitalized'}, False),\n",
       " ({'word': 'one'}, False),\n",
       " ({'word': 'miscarriage'}, False),\n",
       " ({'word': 'All'}, False),\n",
       " ({'word': 'associated'}, False),\n",
       " ({'word': 'deaths'}, False),\n",
       " ({'word': 'seven'}, False),\n",
       " ({'word': 'outbreak.'}, False),\n",
       " ({'word': 'cases'}, False),\n",
       " ({'word': 'hospitalized'}, False),\n",
       " ({'word': 'one'}, False),\n",
       " ({'word': 'miscarriage'}, False),\n",
       " ({'word': 'All'}, False),\n",
       " ({'word': 'associated'}, False),\n",
       " ({'word': 'deaths'}, False),\n",
       " ({'word': 'seven'}, False),\n",
       " ({'word': 'March'}, False),\n",
       " ({'word': '2018.On'}, False),\n",
       " ({'word': 'rockmelons'}, False),\n",
       " ({'word': 'international'}, False),\n",
       " ({'word': 'product'}, False),\n",
       " ({'word': 'undertaken,'}, False),\n",
       " ({'word': '1'}, False),\n",
       " ({'word': 'occurred.'}, False),\n",
       " ({'word': 'NFP'}, False),\n",
       " ({'word': 'distribution'}, False),\n",
       " ({'word': 'recall'}, False),\n",
       " ({'word': 'produced'}, False),\n",
       " ({'word': 'single'}, False),\n",
       " ({'word': 'February'}, False),\n",
       " ({'word': '2018,'}, False),\n",
       " ({'word': 'Epidemiological'}, False),\n",
       " ({'word': 'notified'}, False),\n",
       " ({'word': 'investigations'}, False),\n",
       " ({'word': 'environmental'}, False),\n",
       " ({'word': '27'}, False),\n",
       " ({'word': 'grower'}, False),\n",
       " ({'word': 'Australian'}, False),\n",
       " ({'word': 'led'}, False),\n",
       " ({'word': 'affected'}, False),\n",
       " ({'word': 'March'}, False),\n",
       " ({'word': 'rockmelons'}, False),\n",
       " ({'word': 'exported'}, False),\n",
       " ({'word': 'forward'}, False),\n",
       " ({'word': 'Special'}, False),\n",
       " ({'word': 'Oman,'}, False),\n",
       " ({'word': 'Administrative'}, False),\n",
       " ({'word': 'United'}, False),\n",
       " ({'word': 'received'}, False),\n",
       " ({'word': 'trace'}, False),\n",
       " ({'word': 'eight'}, False),\n",
       " ({'word': 'countries;'}, False),\n",
       " ({'word': '(China),'}, False),\n",
       " ({'word': 'Qatar,'}, False),\n",
       " ({'word': 'Kuwait,'}, False),\n",
       " ({'word': 'Kong'}, False),\n",
       " ({'word': '2018'}, False),\n",
       " ({'word': 'Malaysia,'}, False),\n",
       " ({'word': 'Hong'}, False),\n",
       " ({'word': 'Singapore,'}, False),\n",
       " ({'word': 'information'}, False),\n",
       " ({'word': 'investigations'}, False),\n",
       " ({'word': 'Emirates.'}, False),\n",
       " ({'word': 'Region'}, False),\n",
       " ({'word': 'Arab'}, False),\n",
       " ({'word': 'authorities'}, False),\n",
       " ({'word': 'grower'}, False),\n",
       " ({'word': 'Australian'}, False),\n",
       " ({'word': 'Japan,'}, False),\n",
       " ({'word': '2'}, False),\n",
       " ({'word': 'emergency'}, False),\n",
       " ({'word': 'rockmelons'}, False),\n",
       " ({'word': 'INFOSAN'}, False),\n",
       " ({'word': 'April'}, False),\n",
       " ({'word': 'countries'}, False),\n",
       " ({'word': 'including'}, False),\n",
       " ({'word': 'forward'}, False),\n",
       " ({'word': 'concluded.The'}, False),\n",
       " ({'word': 'importing'}, False),\n",
       " ({'word': 'Australia,'}, False),\n",
       " ...]"
      ]
     },
     "execution_count": 47,
     "metadata": {},
     "output_type": "execute_result"
    }
   ],
   "source": [
    "as_tuples = df_sent.apply(tuple, axis=1).tolist()\n",
    "as_tuples = [({'word':word}, label) for label, word in as_tuples]\n",
    "as_tuples"
   ]
  },
  {
   "cell_type": "code",
   "execution_count": 48,
   "metadata": {
    "scrolled": true
   },
   "outputs": [
    {
     "name": "stdout",
     "output_type": "stream",
     "text": [
      "Most Informative Features\n",
      "                    word = 'variant'        True : False  =     31.1 : 1.0\n",
      "                    word = 'poultry'        True : False  =     27.1 : 1.0\n",
      "                    word = 'Laibin'         True : False  =     22.2 : 1.0\n",
      "                    word = '42-year-old'    True : False  =     22.2 : 1.0\n",
      "                    word = 'strains.'       True : False  =     19.2 : 1.0\n",
      "                    word = 'provinces.Aug'   True : False  =     19.2 : 1.0\n",
      "                    word = '13For'          True : False  =     19.2 : 1.0\n",
      "                    word = '(H1N2v)'        True : False  =     19.2 : 1.0\n",
      "                    word = 'straight'       True : False  =     19.2 : 1.0\n",
      "                    word = 'H1N2'           True : False  =     19.2 : 1.0\n",
      "                    word = 'Ohio.The'       True : False  =     19.2 : 1.0\n",
      "                    word = 'fair,'          True : False  =     19.2 : 1.0\n",
      "                    word = 'Bulgaria,'      True : False  =     17.3 : 1.0\n",
      "                    word = 'squirrels'      True : False  =     17.3 : 1.0\n",
      "                    word = 'vaccination.'   True : False  =     17.3 : 1.0\n",
      "                    word = 'desert'         True : False  =     17.3 : 1.0\n",
      "                    word = 'China,'         True : False  =     17.3 : 1.0\n",
      "                    word = 'media'          True : False  =     16.3 : 1.0\n",
      "                    word = 'Guangxi'        True : False  =     16.3 : 1.0\n",
      "                    word = 'lived'          True : False  =     15.9 : 1.0\n"
     ]
    }
   ],
   "source": [
    "clf = nltk.NaiveBayesClassifier.train(as_tuples)\n",
    "clf.show_most_informative_features(20)"
   ]
  },
  {
   "cell_type": "code",
   "execution_count": 49,
   "metadata": {},
   "outputs": [],
   "source": [
    "df_sent_date = ExtractSentencesAndLabel('dates').data_output()\n",
    "df_sent_date['sentence']= df_sent_date['sentence'].apply(lambda x: list(set(x.split()) - set(stopwords.words('english'))))\n",
    "df_sent_date = split_list_and_distribute_to_new_rows(df_sent_date, 'sentence')\n",
    "as_tuples_date = df_sent_date.apply(tuple, axis=1).tolist()\n",
    "as_tuples_date = [({'sent':word}, label) for label, word in as_tuples_date]"
   ]
  },
  {
   "cell_type": "code",
   "execution_count": 50,
   "metadata": {},
   "outputs": [
    {
     "name": "stdout",
     "output_type": "stream",
     "text": [
      "Most Informative Features\n",
      "                    sent = 'worm'           True : False  =      6.0 : 1.0\n",
      "                    sent = 'occurring'      True : False  =      5.3 : 1.0\n",
      "                    sent = 'Northern'       True : False  =      5.3 : 1.0\n",
      "                    sent = 'emerging'       True : False  =      5.3 : 1.0\n",
      "                    sent = 'patients'      False : True   =      4.5 : 1.0\n",
      "                    sent = 'South'          True : False  =      4.1 : 1.0\n",
      "                    sent = 'deaths'        False : True   =      3.9 : 1.0\n",
      "                    sent = 'launches'       True : False  =      3.8 : 1.0\n",
      "                    sent = 'Syria'          True : False  =      3.8 : 1.0\n",
      "                    sent = 'NDOH-WHO'       True : False  =      3.8 : 1.0\n",
      "                    sent = 'admitted'       True : False  =      3.8 : 1.0\n",
      "                    sent = 'deaths.'        True : False  =      3.8 : 1.0\n",
      "                    sent = '22'             True : False  =      3.8 : 1.0\n",
      "                    sent = 'diagnosed'      True : False  =      3.8 : 1.0\n",
      "                    sent = 'Ireland'        True : False  =      3.8 : 1.0\n",
      "                    sent = 'Great'          True : False  =      3.8 : 1.0\n",
      "                    sent = 'Kingdom'        True : False  =      3.8 : 1.0\n",
      "                    sent = 'Japan,'         True : False  =      3.8 : 1.0\n",
      "                    sent = 'weakness,'      True : False  =      3.8 : 1.0\n",
      "                    sent = '6-year-old'     True : False  =      3.8 : 1.0\n"
     ]
    }
   ],
   "source": [
    "clf_date = nltk.NaiveBayesClassifier.train(as_tuples_date)\n",
    "clf_date.show_most_informative_features(20)"
   ]
  },
  {
   "cell_type": "markdown",
   "metadata": {},
   "source": [
    "# Recommendation Classifier"
   ]
  },
  {
   "cell_type": "code",
   "execution_count": 55,
   "metadata": {},
   "outputs": [],
   "source": [
    "df_recommand = RecommenderLabeling().data_output()"
   ]
  },
  {
   "cell_type": "code",
   "execution_count": 56,
   "metadata": {},
   "outputs": [],
   "source": [
    "def plot_roc(clf, X_test, y_test, name):\n",
    "    try:\n",
    "        y_pred = clf.predict_proba(X_test)\n",
    "        fpr, tpr, _ = roc_curve(y_test, y_pred[:,1])\n",
    "    except AttributeError:\n",
    "        y_pred = clf.predict(X_test)\n",
    "        fpr, tpr, _ = roc_curve(y_test, y_pred)        \n",
    "    plt.xlabel('False Positive Rate')\n",
    "    plt.ylabel('True Positive Rate')\n",
    "    plt.savefig(f'{name}.pdf', format='pdf')\n",
    "    plt.plot(fpr, tpr)\n",
    "    \n",
    "def print_scores(clf, X_train, y_train, X_test, y_test):\n",
    "    clf.fit(X_train, y_train)\n",
    "    try:\n",
    "        y_pred = clf.predict_proba(X_test)\n",
    "        fpr, tpr, _ = roc_curve(y_test, y_pred[:,1])\n",
    "    except AttributeError:\n",
    "        y_pred = clf.predict(X_test)\n",
    "        fpr, tpr, _ = roc_curve(y_test, y_pred)\n",
    "    print(classification_report_imbalanced(y_test, clf.predict(X_test)))\n",
    "#     print(classification.accuracy_score(y_test, y_pred.round(), normalize=False))\n",
    "#     print(confusion_matrix(y_pred,y_test))\n",
    "#     print('F1 score: {:3f}'.format(f1_score(y_test, y_pred.round())))\n",
    "#     print('AUC score: {:3f}'.format(roc_auc_score(y_test, y_pred)))"
   ]
  },
  {
   "cell_type": "code",
   "execution_count": 57,
   "metadata": {},
   "outputs": [
    {
     "data": {
      "text/plain": [
       "Pipeline(memory=None,\n",
       "     steps=[('vect', CountVectorizer(analyzer='word', binary=False, decode_error='strict',\n",
       "        dtype=<class 'numpy.int64'>, encoding='utf-8', input='content',\n",
       "        lowercase=True, max_df=1.0, max_features=None, min_df=1,\n",
       "        ngram_range=(1, 1), preprocessor=None, stop_words=None,\n",
       "        strip...inear_tf=False, use_idf=True)), ('clf', MultinomialNB(alpha=1.0, class_prior=None, fit_prior=True))])"
      ]
     },
     "execution_count": 57,
     "metadata": {},
     "output_type": "execute_result"
    }
   ],
   "source": [
    "text_clf = Pipeline([\n",
    "    ('vect', CountVectorizer()),\n",
    "    ('tfidf', TfidfTransformer()),\n",
    "    ('clf', MultinomialNB()),\n",
    "])\n",
    "train_texts, dev_texts, train_cats, dev_cats = train_test_split(df_recommand['extracted_text'],\n",
    "                                                                df_recommand['label'],\n",
    "                                                                test_size=.2)\n",
    "\n",
    "text_clf.fit(train_texts, train_cats)"
   ]
  },
  {
   "cell_type": "code",
   "execution_count": 56,
   "metadata": {
    "scrolled": true
   },
   "outputs": [
    {
     "name": "stdout",
     "output_type": "stream",
     "text": [
      "              precision    recall  f1-score   support\n",
      "\n",
      "       False       0.96      0.98      0.97       617\n",
      "        True       0.21      0.10      0.14        30\n",
      "\n",
      "   micro avg       0.94      0.94      0.94       647\n",
      "   macro avg       0.59      0.54      0.55       647\n",
      "weighted avg       0.92      0.94      0.93       647\n",
      "\n",
      "[[606  11]\n",
      " [ 27   3]]\n",
      "                   pre       rec       spe        f1       geo       iba       sup\n",
      "\n",
      "      False       0.96      0.98      0.10      0.97      0.31      0.11       617\n",
      "       True       0.21      0.10      0.98      0.14      0.31      0.09        30\n",
      "\n",
      "avg / total       0.92      0.94      0.14      0.93      0.31      0.11       647\n",
      "\n"
     ]
    },
    {
     "data": {
      "image/png": "[encoded data removed]",
      "text/plain": [
       "<Figure size 432x288 with 1 Axes>"
      ]
     },
     "metadata": {
      "needs_background": "light"
     },
     "output_type": "display_data"
    }
   ],
   "source": [
    "plot_roc(text_clf, dev_texts, dev_cats, 'multinomial')\n",
    "print(classification_report(dev_cats, text_clf.predict(dev_texts)))\n",
    "print(confusion_matrix(dev_cats, text_clf.predict(dev_texts)))\n",
    "print(classification_report_imbalanced(dev_cats, text_clf.predict(dev_texts)))"
   ]
  },
  {
   "cell_type": "code",
   "execution_count": 58,
   "metadata": {},
   "outputs": [
    {
     "data": {
      "text/plain": [
       "Pipeline(memory=None,\n",
       "     steps=[('vect', CountVectorizer(analyzer='word', binary=False, decode_error='strict',\n",
       "        dtype=<class 'numpy.int64'>, encoding='utf-8', input='content',\n",
       "        lowercase=True, max_df=1.0, max_features=None, min_df=1,\n",
       "        ngram_range=(1, 1), preprocessor=None, stop_words=None,\n",
       "        strip...lse, use_idf=True)), ('clf', ComplementNB(alpha=1.0, class_prior=None, fit_prior=True, norm=False))])"
      ]
     },
     "execution_count": 58,
     "metadata": {},
     "output_type": "execute_result"
    }
   ],
   "source": [
    "text_clf_c = Pipeline([\n",
    "    ('vect', CountVectorizer()),\n",
    "    ('tfidf', TfidfTransformer()),\n",
    "    ('clf', ComplementNB()),\n",
    "])\n",
    "\n",
    "text_clf_c.fit(train_texts, train_cats)"
   ]
  },
  {
   "cell_type": "code",
   "execution_count": 91,
   "metadata": {},
   "outputs": [
    {
     "ename": "ValueError",
     "evalue": "Iterable over raw text documents expected, string object received.",
     "output_type": "error",
     "traceback": [
      "\u001b[0;31m---------------------------------------------------------------------------\u001b[0m",
      "\u001b[0;31mValueError\u001b[0m                                Traceback (most recent call last)",
      "\u001b[0;32m<ipython-input-91-a50dc697f56f>\u001b[0m in \u001b[0;36m<module>\u001b[0;34m\u001b[0m\n\u001b[0;32m----> 1\u001b[0;31m \u001b[0mtext_clf\u001b[0m\u001b[0;34m.\u001b[0m\u001b[0mpredict\u001b[0m\u001b[0;34m(\u001b[0m\u001b[0;34m\"asda\"\u001b[0m\u001b[0;34m)\u001b[0m\u001b[0;34m\u001b[0m\u001b[0;34m\u001b[0m\u001b[0m\n\u001b[0m",
      "\u001b[0;32m/anaconda3/envs/RKI/lib/python3.6/site-packages/sklearn/utils/metaestimators.py\u001b[0m in \u001b[0;36m<lambda>\u001b[0;34m(*args, **kwargs)\u001b[0m\n\u001b[1;32m    116\u001b[0m \u001b[0;34m\u001b[0m\u001b[0m\n\u001b[1;32m    117\u001b[0m         \u001b[0;31m# lambda, but not partial, allows help() to work with update_wrapper\u001b[0m\u001b[0;34m\u001b[0m\u001b[0;34m\u001b[0m\u001b[0;34m\u001b[0m\u001b[0m\n\u001b[0;32m--> 118\u001b[0;31m         \u001b[0mout\u001b[0m \u001b[0;34m=\u001b[0m \u001b[0;32mlambda\u001b[0m \u001b[0;34m*\u001b[0m\u001b[0margs\u001b[0m\u001b[0;34m,\u001b[0m \u001b[0;34m**\u001b[0m\u001b[0mkwargs\u001b[0m\u001b[0;34m:\u001b[0m \u001b[0mself\u001b[0m\u001b[0;34m.\u001b[0m\u001b[0mfn\u001b[0m\u001b[0;34m(\u001b[0m\u001b[0mobj\u001b[0m\u001b[0;34m,\u001b[0m \u001b[0;34m*\u001b[0m\u001b[0margs\u001b[0m\u001b[0;34m,\u001b[0m \u001b[0;34m**\u001b[0m\u001b[0mkwargs\u001b[0m\u001b[0;34m)\u001b[0m\u001b[0;34m\u001b[0m\u001b[0;34m\u001b[0m\u001b[0m\n\u001b[0m\u001b[1;32m    119\u001b[0m         \u001b[0;31m# update the docstring of the returned function\u001b[0m\u001b[0;34m\u001b[0m\u001b[0;34m\u001b[0m\u001b[0;34m\u001b[0m\u001b[0m\n\u001b[1;32m    120\u001b[0m         \u001b[0mupdate_wrapper\u001b[0m\u001b[0;34m(\u001b[0m\u001b[0mout\u001b[0m\u001b[0;34m,\u001b[0m \u001b[0mself\u001b[0m\u001b[0;34m.\u001b[0m\u001b[0mfn\u001b[0m\u001b[0;34m)\u001b[0m\u001b[0;34m\u001b[0m\u001b[0;34m\u001b[0m\u001b[0m\n",
      "\u001b[0;32m/anaconda3/envs/RKI/lib/python3.6/site-packages/sklearn/pipeline.py\u001b[0m in \u001b[0;36mpredict\u001b[0;34m(self, X, **predict_params)\u001b[0m\n\u001b[1;32m    329\u001b[0m         \u001b[0;32mfor\u001b[0m \u001b[0mname\u001b[0m\u001b[0;34m,\u001b[0m \u001b[0mtransform\u001b[0m \u001b[0;32min\u001b[0m \u001b[0mself\u001b[0m\u001b[0;34m.\u001b[0m\u001b[0msteps\u001b[0m\u001b[0;34m[\u001b[0m\u001b[0;34m:\u001b[0m\u001b[0;34m-\u001b[0m\u001b[0;36m1\u001b[0m\u001b[0;34m]\u001b[0m\u001b[0;34m:\u001b[0m\u001b[0;34m\u001b[0m\u001b[0;34m\u001b[0m\u001b[0m\n\u001b[1;32m    330\u001b[0m             \u001b[0;32mif\u001b[0m \u001b[0mtransform\u001b[0m \u001b[0;32mis\u001b[0m \u001b[0;32mnot\u001b[0m \u001b[0;32mNone\u001b[0m\u001b[0;34m:\u001b[0m\u001b[0;34m\u001b[0m\u001b[0;34m\u001b[0m\u001b[0m\n\u001b[0;32m--> 331\u001b[0;31m                 \u001b[0mXt\u001b[0m \u001b[0;34m=\u001b[0m \u001b[0mtransform\u001b[0m\u001b[0;34m.\u001b[0m\u001b[0mtransform\u001b[0m\u001b[0;34m(\u001b[0m\u001b[0mXt\u001b[0m\u001b[0;34m)\u001b[0m\u001b[0;34m\u001b[0m\u001b[0;34m\u001b[0m\u001b[0m\n\u001b[0m\u001b[1;32m    332\u001b[0m         \u001b[0;32mreturn\u001b[0m \u001b[0mself\u001b[0m\u001b[0;34m.\u001b[0m\u001b[0msteps\u001b[0m\u001b[0;34m[\u001b[0m\u001b[0;34m-\u001b[0m\u001b[0;36m1\u001b[0m\u001b[0;34m]\u001b[0m\u001b[0;34m[\u001b[0m\u001b[0;34m-\u001b[0m\u001b[0;36m1\u001b[0m\u001b[0;34m]\u001b[0m\u001b[0;34m.\u001b[0m\u001b[0mpredict\u001b[0m\u001b[0;34m(\u001b[0m\u001b[0mXt\u001b[0m\u001b[0;34m,\u001b[0m \u001b[0;34m**\u001b[0m\u001b[0mpredict_params\u001b[0m\u001b[0;34m)\u001b[0m\u001b[0;34m\u001b[0m\u001b[0;34m\u001b[0m\u001b[0m\n\u001b[1;32m    333\u001b[0m \u001b[0;34m\u001b[0m\u001b[0m\n",
      "\u001b[0;32m/anaconda3/envs/RKI/lib/python3.6/site-packages/sklearn/feature_extraction/text.py\u001b[0m in \u001b[0;36mtransform\u001b[0;34m(self, raw_documents)\u001b[0m\n\u001b[1;32m   1075\u001b[0m         \u001b[0;32mif\u001b[0m \u001b[0misinstance\u001b[0m\u001b[0;34m(\u001b[0m\u001b[0mraw_documents\u001b[0m\u001b[0;34m,\u001b[0m \u001b[0msix\u001b[0m\u001b[0;34m.\u001b[0m\u001b[0mstring_types\u001b[0m\u001b[0;34m)\u001b[0m\u001b[0;34m:\u001b[0m\u001b[0;34m\u001b[0m\u001b[0;34m\u001b[0m\u001b[0m\n\u001b[1;32m   1076\u001b[0m             raise ValueError(\n\u001b[0;32m-> 1077\u001b[0;31m                 \u001b[0;34m\"Iterable over raw text documents expected, \"\u001b[0m\u001b[0;34m\u001b[0m\u001b[0;34m\u001b[0m\u001b[0m\n\u001b[0m\u001b[1;32m   1078\u001b[0m                 \"string object received.\")\n\u001b[1;32m   1079\u001b[0m \u001b[0;34m\u001b[0m\u001b[0m\n",
      "\u001b[0;31mValueError\u001b[0m: Iterable over raw text documents expected, string object received."
     ]
    }
   ],
   "source": [
    "text_clf.predict(\"asda\")"
   ]
  },
  {
   "cell_type": "code",
   "execution_count": 58,
   "metadata": {},
   "outputs": [
    {
     "name": "stdout",
     "output_type": "stream",
     "text": [
      "              precision    recall  f1-score   support\n",
      "\n",
      "       False       0.96      0.98      0.97       617\n",
      "        True       0.20      0.10      0.13        30\n",
      "\n",
      "   micro avg       0.94      0.94      0.94       647\n",
      "   macro avg       0.58      0.54      0.55       647\n",
      "weighted avg       0.92      0.94      0.93       647\n",
      "\n",
      "                   pre       rec       spe        f1       geo       iba       sup\n",
      "\n",
      "      False       0.96      0.98      0.10      0.97      0.31      0.11       617\n",
      "       True       0.21      0.10      0.98      0.14      0.31      0.09        30\n",
      "\n",
      "avg / total       0.92      0.94      0.14      0.93      0.31      0.11       647\n",
      "\n"
     ]
    },
    {
     "data": {
      "image/png": "[encoded data removed]",
      "text/plain": [
       "<Figure size 432x288 with 1 Axes>"
      ]
     },
     "metadata": {
      "needs_background": "light"
     },
     "output_type": "display_data"
    }
   ],
   "source": [
    "plot_roc(text_clf_c, dev_texts, dev_cats, 'complement')\n",
    "print(classification_report(dev_cats, text_clf_c.predict(dev_texts)))\n",
    "print(classification_report_imbalanced(dev_cats, text_clf.predict(dev_texts)))"
   ]
  },
  {
   "cell_type": "markdown",
   "metadata": {},
   "source": [
    "# SpaCy CNN classifier"
   ]
  },
  {
   "cell_type": "code",
   "execution_count": 83,
   "metadata": {},
   "outputs": [],
   "source": [
    "\"\"\"Train a convolutional neural network text classifier on the\n",
    "IMDB dataset, using the TextCategorizer component. The dataset will be loaded\n",
    "automatically via Thinc's built-in dataset loader. The model is added to\n",
    "spacy.pipeline, and predictions are available via `doc.cats`. For more details,\n",
    "see the documentation:\n",
    "* Training: https://spacy.io/usage/training\n",
    "\n",
    "Compatible with: spaCy v2.0.0+\n",
    "\"\"\"\n",
    "from __future__ import unicode_literals, print_function\n",
    "import random\n",
    "from pathlib import Path\n",
    "import thinc.extra.datasets\n",
    "\n",
    "import spacy\n",
    "from spacy.util import minibatch, compounding"
   ]
  },
  {
   "cell_type": "code",
   "execution_count": 103,
   "metadata": {},
   "outputs": [],
   "source": [
    "def main(model=None, output_dir=None, n_iter=20, n_texts=2000, init_tok2vec=None):\n",
    "\n",
    "    output_dir = Path('spacy_output')\n",
    "    if not output_dir.exists():\n",
    "        output_dir.mkdir()\n",
    "\n",
    "\n",
    "    nlp = spacy.blank(\"en\")  # create blank Language class\n",
    "    print(\"Created blank 'en' model\")\n",
    "\n",
    "    # add the text classifier to the pipeline if it doesn't exist\n",
    "    # nlp.create_pipe works for built-ins that are registered with spaCy\n",
    "    textcat = nlp.create_pipe(\n",
    "        \"textcat\",\n",
    "        config={\n",
    "            \"exclusive_classes\": False,\n",
    "            \"architecture\": \"simple_cnn\",\n",
    "        }\n",
    "    )\n",
    "    nlp.add_pipe(textcat, last=True)\n",
    "    # otherwise, get it, so we can add labels to it\n",
    "\n",
    "    # add label to text classifier\n",
    "    textcat.add_label(\"Relevant\")\n",
    "    textcat.add_label(\"Irrelevant\")\n",
    "\n",
    "    # load the IMDB dataset\n",
    "    print(\"Loading data...\")\n",
    "    train_texts, dev_texts, train_cats, dev_cats = train_test_split(df_recommand['extracted_text'],\n",
    "                                                                    df_recommand['label'],\n",
    "                                                                    test_size=.2)\n",
    "    \n",
    "    train_cats = [{\"Relevant\": bool(y), \"Irrelevant\": not bool(y)} for y in train_cats]\n",
    "    dev_cats = [{\"Relevant\": bool(y), \"Irrelevant\": not bool(y)} for y in dev_cats]\n",
    "    print(\n",
    "        \"Using ({} training, {} evaluation)\".format(\n",
    "             len(train_texts), len(dev_texts)\n",
    "        )\n",
    "    )\n",
    "    train_data = list(zip(train_texts, [{\"cats\": cats} for cats in train_cats]))\n",
    "\n",
    "    # get names of other pipes to disable them during training\n",
    "    other_pipes = [pipe for pipe in nlp.pipe_names if pipe != \"textcat\"]\n",
    "    with nlp.disable_pipes(*other_pipes):  # only train textcat\n",
    "        optimizer = nlp.begin_training()\n",
    "        if init_tok2vec is not None:\n",
    "            with init_tok2vec.open(\"rb\") as file_:\n",
    "                textcat.model.tok2vec.from_bytes(file_.read())\n",
    "        print(\"Training the model...\")\n",
    "        print(\"{:^5}\\t{:^5}\\t{:^5}\\t{:^5}\".format(\"LOSS\", \"P\", \"R\", \"F\"))\n",
    "        batch_sizes = compounding(4.0, 32.0, 1.001)\n",
    "        for i in range(n_iter):\n",
    "            losses = {}\n",
    "            # batch up the examples using spaCy's minibatch\n",
    "            random.shuffle(train_data)\n",
    "            batches = minibatch(train_data, size=batch_sizes)\n",
    "            for batch in batches:\n",
    "                texts, annotations = zip(*batch)\n",
    "                nlp.update(texts, annotations, sgd=optimizer, drop=0.2, losses=losses)\n",
    "            with textcat.model.use_params(optimizer.averages):\n",
    "                # evaluate on the dev data split off in load_data()\n",
    "                scores = evaluate(nlp.tokenizer, textcat, dev_texts, dev_cats)\n",
    "            print(\n",
    "                \"{0:.3f}\\t{1:.3f}\\t{2:.3f}\\t{3:.3f}\".format(  # print a simple table\n",
    "                    losses[\"textcat\"],\n",
    "                    scores[\"textcat_p\"],\n",
    "                    scores[\"textcat_r\"],\n",
    "                    scores[\"textcat_f\"],\n",
    "                )\n",
    "            )\n",
    "\n",
    "    # test the trained model\n",
    "    test_text = \"This movie sucked\"\n",
    "    doc = nlp(test_text)\n",
    "    print(test_text, doc.cats)\n",
    "\n",
    "    if output_dir is not None:\n",
    "        with nlp.use_params(optimizer.averages):\n",
    "            nlp.to_disk(output_dir)\n",
    "        print(\"Saved model to\", output_dir)\n",
    "\n",
    "        # test the saved model\n",
    "        print(\"Loading from\", output_dir)\n",
    "        nlp2 = spacy.load(output_dir)\n",
    "        doc2 = nlp2(test_text)\n",
    "        print(test_text, doc2.cats)\n",
    "\n",
    "\n",
    "def load_data(limit=0, split=0.8):\n",
    "    \"\"\"Load data from the IMDB dataset.\"\"\"\n",
    "    # Partition off part of the train data for evaluation\n",
    "    train_data, _ = thinc.extra.datasets.imdb()\n",
    "    random.shuffle(train_data)\n",
    "    train_data = train_data[-limit:]\n",
    "    texts, labels = zip(*train_data)\n",
    "    cats = [{\"POSITIVE\": bool(y), \"NEGATIVE\": not bool(y)} for y in labels]\n",
    "    split = int(len(train_data) * split)\n",
    "    return (texts[:split], cats[:split]), (texts[split:], cats[split:])\n",
    "\n",
    "\n",
    "def evaluate(tokenizer, textcat, texts, cats):\n",
    "    docs = (tokenizer(text) for text in texts)\n",
    "    tp = 0.0  # True positives\n",
    "    fp = 1e-8  # False positives\n",
    "    fn = 1e-8  # False negatives\n",
    "    tn = 0.0  # True negatives\n",
    "    for i, doc in enumerate(textcat.pipe(docs)):\n",
    "        gold = cats[i]\n",
    "        for label, score in doc.cats.items():\n",
    "            if label not in gold:\n",
    "                continue\n",
    "            if label == \"NEGATIVE\":\n",
    "                continue\n",
    "            if score >= 0.5 and gold[label] >= 0.5:\n",
    "                tp += 1.0\n",
    "            elif score >= 0.5 and gold[label] < 0.5:\n",
    "                fp += 1.0\n",
    "            elif score < 0.5 and gold[label] < 0.5:\n",
    "                tn += 1\n",
    "            elif score < 0.5 and gold[label] >= 0.5:\n",
    "                fn += 1\n",
    "    precision = tp / (tp + fp)\n",
    "    recall = tp / (tp + fn)\n",
    "    if (precision + recall) == 0:\n",
    "        f_score = 0.0\n",
    "    else:\n",
    "        f_score = 2 * (precision * recall) / (precision + recall)\n",
    "    return {\"textcat_p\": precision, \"textcat_r\": recall, \"textcat_f\": f_score}\n"
   ]
  },
  {
   "cell_type": "code",
   "execution_count": 104,
   "metadata": {},
   "outputs": [
    {
     "name": "stdout",
     "output_type": "stream",
     "text": [
      "Created blank 'en' model\n",
      "Loading data...\n",
      "Using (2585 training, 647 evaluation)\n",
      "Warning: Unnamed vectors -- this won't allow multiple vectors models to be loaded. (Shape: (0, 0))\n",
      "Training the model...\n",
      "LOSS \t  P  \t  R  \t  F  \n",
      "54.105\t0.958\t0.958\t0.958\n",
      "31.109\t0.960\t0.958\t0.959\n",
      "16.388\t0.961\t0.958\t0.960\n",
      "8.000\t0.960\t0.960\t0.960\n",
      "4.622\t0.958\t0.960\t0.959\n",
      "3.106\t0.960\t0.958\t0.959\n",
      "2.476\t0.958\t0.957\t0.957\n",
      "1.634\t0.957\t0.957\t0.957\n",
      "1.492\t0.957\t0.957\t0.957\n",
      "1.265\t0.957\t0.957\t0.957\n",
      "1.052\t0.957\t0.957\t0.957\n",
      "1.038\t0.957\t0.957\t0.957\n",
      "1.022\t0.957\t0.957\t0.957\n",
      "1.021\t0.955\t0.957\t0.956\n",
      "0.973\t0.955\t0.957\t0.956\n",
      "0.953\t0.957\t0.958\t0.958\n",
      "0.946\t0.955\t0.957\t0.956\n",
      "0.831\t0.955\t0.955\t0.955\n",
      "0.834\t0.957\t0.957\t0.957\n",
      "0.822\t0.957\t0.957\t0.957\n",
      "This movie sucked {'Relevant': 0.21459360420703888, 'Irrelevant': 0.6485452055931091}\n",
      "Saved model to spacy_output\n",
      "Loading from spacy_output\n",
      "This movie sucked {'Relevant': 0.22368237376213074, 'Irrelevant': 0.6475332379341125}\n"
     ]
    }
   ],
   "source": [
    "main()"
   ]
  },
  {
   "cell_type": "markdown",
   "metadata": {},
   "source": [
    "# Embedded Classifier"
   ]
  },
  {
   "cell_type": "code",
   "execution_count": 115,
   "metadata": {},
   "outputs": [],
   "source": [
    "class MeanEmbeddingTransformer(TransformerMixin):\n",
    "    \n",
    "    def __init__(self):\n",
    "        self._vocab, self._E = self._load_words()\n",
    "        \n",
    "    \n",
    "    def _load_words(self):\n",
    "        E = {}\n",
    "        vocab = []\n",
    "\n",
    "        with open('nlp_surveillance/glove.6B.50d.txt', 'r', encoding=\"utf8\") as file:\n",
    "            for i, line in enumerate(file):\n",
    "                l = line.split(' ')\n",
    "                if l[0].isalpha():\n",
    "                    v = [float(i) for i in l[1:]]\n",
    "                    E[l[0]] = np.array(v)\n",
    "                    vocab.append(l[0])\n",
    "        return np.array(vocab), E            \n",
    "\n",
    "    \n",
    "    def _get_word(self, v):\n",
    "        for i, emb in enumerate(self._E):\n",
    "            if np.array_equal(emb, v):\n",
    "                return self._vocab[i]\n",
    "        return None\n",
    "    \n",
    "    def _doc_mean(self, doc):\n",
    "        return np.mean(np.array([self._E[w.lower().strip()] for w in doc if w.lower().strip() in self._E]), axis=0)\n",
    "    \n",
    "    def fit(self, X, y=None):\n",
    "        return self\n",
    "    \n",
    "    def transform(self, X):\n",
    "        return np.array([self._doc_mean(doc) for doc in X])\n",
    "    \n",
    "    def fit_transform(self, X, y=None):\n",
    "        return self.fit(X).transform(X)"
   ]
  },
  {
   "cell_type": "code",
   "execution_count": 66,
   "metadata": {},
   "outputs": [],
   "source": [
    "import pandas as pd\n",
    "df = pd.read_csv('data/recommender/with_label.csv')"
   ]
  },
  {
   "cell_type": "code",
   "execution_count": 67,
   "metadata": {},
   "outputs": [
    {
     "data": {
      "text/plain": [
       "16167717"
      ]
     },
     "execution_count": 67,
     "metadata": {},
     "output_type": "execute_result"
    }
   ],
   "source": [
    "df.memory_usage(deep=True).sum()"
   ]
  },
  {
   "cell_type": "code",
   "execution_count": 68,
   "metadata": {},
   "outputs": [
    {
     "data": {
      "text/plain": [
       "False    3077\n",
       "True      155\n",
       "Name: label, dtype: int64"
      ]
     },
     "execution_count": 68,
     "metadata": {},
     "output_type": "execute_result"
    }
   ],
   "source": [
    "df['label'].value_counts()"
   ]
  },
  {
   "cell_type": "code",
   "execution_count": 69,
   "metadata": {},
   "outputs": [],
   "source": [
    "X = df['extracted_text'].values\n",
    "y = df['label'].values"
   ]
  },
  {
   "cell_type": "code",
   "execution_count": 70,
   "metadata": {},
   "outputs": [],
   "source": [
    "def tokenize_and_transform(X, sample_size):\n",
    "    essays1 = X\n",
    "    tok_es1 = [word_tokenize(doc) for doc in essays1[:sample_size]]\n",
    "    met = MeanEmbeddingTransformer()\n",
    "    X_transform = met.fit_transform(tok_es1)\n",
    "    return X_transform"
   ]
  },
  {
   "cell_type": "code",
   "execution_count": 61,
   "metadata": {},
   "outputs": [
    {
     "ename": "NameError",
     "evalue": "name 'tokenize_and_transform' is not defined",
     "output_type": "error",
     "traceback": [
      "\u001b[0;31m---------------------------------------------------------------------------\u001b[0m",
      "\u001b[0;31mNameError\u001b[0m                                 Traceback (most recent call last)",
      "\u001b[0;32m<ipython-input-61-18b301ed6d6d>\u001b[0m in \u001b[0;36m<module>\u001b[0;34m\u001b[0m\n\u001b[0;32m----> 1\u001b[0;31m \u001b[0mX_transform\u001b[0m \u001b[0;34m=\u001b[0m \u001b[0mtokenize_and_transform\u001b[0m\u001b[0;34m(\u001b[0m\u001b[0mX\u001b[0m\u001b[0;34m,\u001b[0m \u001b[0;36m3200\u001b[0m\u001b[0;34m)\u001b[0m\u001b[0;34m\u001b[0m\u001b[0;34m\u001b[0m\u001b[0m\n\u001b[0m",
      "\u001b[0;31mNameError\u001b[0m: name 'tokenize_and_transform' is not defined"
     ]
    }
   ],
   "source": [
    "X_transform = tokenize_and_transform(X, 3200)"
   ]
  },
  {
   "cell_type": "code",
   "execution_count": 126,
   "metadata": {},
   "outputs": [],
   "source": [
    "np.savetxt('X_embed.csv', X_transform, delimiter=',')"
   ]
  },
  {
   "cell_type": "code",
   "execution_count": 71,
   "metadata": {},
   "outputs": [],
   "source": [
    "X_transform = np.loadtxt('X_embed.csv', delimiter=',')"
   ]
  },
  {
   "cell_type": "code",
   "execution_count": 28,
   "metadata": {},
   "outputs": [
    {
     "data": {
      "text/plain": [
       "(3200, 50)"
      ]
     },
     "execution_count": 28,
     "metadata": {},
     "output_type": "execute_result"
    }
   ],
   "source": [
    "np.shape(X_transform)"
   ]
  },
  {
   "cell_type": "code",
   "execution_count": 81,
   "metadata": {},
   "outputs": [
    {
     "data": {
      "text/plain": [
       "(3232,)"
      ]
     },
     "execution_count": 81,
     "metadata": {},
     "output_type": "execute_result"
    }
   ],
   "source": [
    "np.shape(y)"
   ]
  },
  {
   "cell_type": "code",
   "execution_count": 74,
   "metadata": {},
   "outputs": [],
   "source": [
    "# X_train, X_test, y_train, y_test = train_test_split(X_resample,\n",
    "#                                                     y_resample, stratify=y_resample, random_state=0)\n",
    "\n"
   ]
  },
  {
   "cell_type": "code",
   "execution_count": 73,
   "metadata": {},
   "outputs": [],
   "source": [
    "X_train, X_test, y_train, y_test = train_test_split(X_transform,\n",
    "                                                    y[:3200], random_state=0)\n",
    "ada = ADASYN(random_state=0)\n",
    "X_resample, y_resample = ada.fit_sample(X_train, y_train)\n"
   ]
  },
  {
   "cell_type": "code",
   "execution_count": 76,
   "metadata": {},
   "outputs": [],
   "source": [
    "# rus = RandomOverSampler(random_state=0)\n",
    "# X_resample, y_resample = rus.fit_sample(X_transform, y[:X_transform.shape[0]])"
   ]
  },
  {
   "cell_type": "code",
   "execution_count": 74,
   "metadata": {},
   "outputs": [
    {
     "name": "stderr",
     "output_type": "stream",
     "text": [
      "/anaconda3/envs/RKI/lib/python3.6/site-packages/sklearn/linear_model/logistic.py:433: FutureWarning: Default solver will be changed to 'lbfgs' in 0.22. Specify a solver to silence this warning.\n",
      "  FutureWarning)\n"
     ]
    },
    {
     "name": "stdout",
     "output_type": "stream",
     "text": [
      "                   pre       rec       spe        f1       geo       iba       sup\n",
      "\n",
      "      False       0.97      0.67      0.63      0.79      0.65      0.42       762\n",
      "       True       0.09      0.63      0.67      0.15      0.65      0.42        38\n",
      "\n",
      "avg / total       0.93      0.66      0.63      0.76      0.65      0.42       800\n",
      "\n"
     ]
    },
    {
     "data": {
      "image/png": "[encoded data removed]",
      "text/plain": [
       "<Figure size 432x288 with 1 Axes>"
      ]
     },
     "metadata": {
      "needs_background": "light"
     },
     "output_type": "display_data"
    }
   ],
   "source": [
    "lr = LogisticRegression()\n",
    "print_scores(lr, X_resample, y_resample, X_test, y_test)\n",
    "plot_roc(lr, X_test, y_test, 'logistic_regression')"
   ]
  },
  {
   "cell_type": "code",
   "execution_count": 75,
   "metadata": {},
   "outputs": [
    {
     "name": "stdout",
     "output_type": "stream",
     "text": [
      "                   pre       rec       spe        f1       geo       iba       sup\n",
      "\n",
      "      False       0.97      0.77      0.53      0.86      0.63      0.41       762\n",
      "       True       0.10      0.53      0.77      0.17      0.63      0.39        38\n",
      "\n",
      "avg / total       0.93      0.75      0.54      0.82      0.63      0.41       800\n",
      "\n"
     ]
    },
    {
     "data": {
      "image/png": "[encoded data removed]",
      "text/plain": [
       "<Figure size 432x288 with 1 Axes>"
      ]
     },
     "metadata": {
      "needs_background": "light"
     },
     "output_type": "display_data"
    }
   ],
   "source": [
    "knn = KNeighborsClassifier()\n",
    "print_scores(knn, X_resample, y_resample, X_test, y_test)\n",
    "plot_roc(knn, X_test, y_test, 'k_neighbors_clf')"
   ]
  },
  {
   "cell_type": "code",
   "execution_count": 77,
   "metadata": {},
   "outputs": [],
   "source": [
    "# rf = RandomForestClassifier().fit(X_resample, y_resample)\n",
    "# print_scores(rf, X_resample, y_resample, X_test, y_test)\n",
    "# plot_roc(rf, X_test, y_test)"
   ]
  },
  {
   "cell_type": "code",
   "execution_count": 78,
   "metadata": {},
   "outputs": [
    {
     "name": "stdout",
     "output_type": "stream",
     "text": [
      "                   pre       rec       spe        f1       geo       iba       sup\n",
      "\n",
      "      False       0.98      0.60      0.79      0.74      0.69      0.46       762\n",
      "       True       0.09      0.79      0.60      0.16      0.69      0.48        38\n",
      "\n",
      "avg / total       0.94      0.61      0.78      0.72      0.69      0.47       800\n",
      "\n"
     ]
    },
    {
     "data": {
      "image/png": "[encoded data removed]",
      "text/plain": [
       "<Figure size 432x288 with 1 Axes>"
      ]
     },
     "metadata": {
      "needs_background": "light"
     },
     "output_type": "display_data"
    }
   ],
   "source": [
    "svc = SVC(probability=True, gamma='scale').fit(X_resample, y_resample)\n",
    "print_scores(svc, X_resample, y_resample, X_test, y_test)\n",
    "plot_roc(svc, X_test, y_test, \"SVC\")"
   ]
  },
  {
   "cell_type": "code",
   "execution_count": 79,
   "metadata": {},
   "outputs": [],
   "source": [
    "# svc_l = SVC(probability=True, kernel='linear').fit(X_resample, y_resample)\n",
    "# print_scores(svc, X_resample, y_resample, X_test, y_test)\n",
    "# plot_roc(svc_l, X_test, y_test, \"SVC_l\")"
   ]
  },
  {
   "cell_type": "code",
   "execution_count": 88,
   "metadata": {},
   "outputs": [],
   "source": [
    "# dtc = DecisionTreeClassifier().fit(X_resample, y_resample)\n",
    "# y_pred = dtc.predict(X_test)\n",
    "# print_scores(dtc, X_resample, y_resample, X_test, y_test)\n",
    "# plot_roc(dtc, X_test, y_test)"
   ]
  },
  {
   "cell_type": "code",
   "execution_count": 80,
   "metadata": {
    "scrolled": true
   },
   "outputs": [
    {
     "name": "stdout",
     "output_type": "stream",
     "text": [
      "                   pre       rec       spe        f1       geo       iba       sup\n",
      "\n",
      "      False       0.97      0.78      0.58      0.87      0.67      0.46       762\n",
      "       True       0.12      0.58      0.78      0.19      0.67      0.44        38\n",
      "\n",
      "avg / total       0.93      0.77      0.59      0.83      0.67      0.46       800\n",
      "\n"
     ]
    },
    {
     "data": {
      "image/png": "[encoded data removed]",
      "text/plain": [
       "<Figure size 432x288 with 1 Axes>"
      ]
     },
     "metadata": {
      "needs_background": "light"
     },
     "output_type": "display_data"
    }
   ],
   "source": [
    "mlp = MLPClassifier(max_iter=2000, early_stopping=True).fit(X_resample, y_resample)\n",
    "print_scores(mlp, X_resample, y_resample, X_test, y_test)\n",
    "plot_roc(mlp, X_test, y_test, \"MLP\")"
   ]
  },
  {
   "cell_type": "code",
   "execution_count": 151,
   "metadata": {},
   "outputs": [
    {
     "data": {
      "image/png": "[encoded data removed]",
      "text/plain": [
       "<Figure size 432x288 with 1 Axes>"
      ]
     },
     "metadata": {
      "needs_background": "light"
     },
     "output_type": "display_data"
    }
   ],
   "source": [
    "# from sklearn.neural_network import MLPRegressor\n",
    "# mlp_r = MLPRegressor(max_iter=2000, early_stopping=True).fit(X_resample, y_resample)\n",
    "# print_scores(mlp_r, X_resample, y_resample, X_test, y_test)\n",
    "# plot_roc(mlp_r, X_test, y_test)"
   ]
  },
  {
   "cell_type": "code",
   "execution_count": 84,
   "metadata": {},
   "outputs": [
    {
     "data": {
      "image/png": "[encoded data removed]",
      "text/plain": [
       "<Figure size 432x288 with 1 Axes>"
      ]
     },
     "metadata": {
      "needs_background": "light"
     },
     "output_type": "display_data"
    }
   ],
   "source": [
    "# clfs = [text_clf, text_clf_c, lr, knn, svc, svc_l, mlp]\n",
    "# nlp2 = spacy.load(Path(\"spacy_output\"))\n",
    "# markers = ['-', ':', '--', '-', \":\", \"--\", \"-\"]\n",
    "# names = [\"NBC\", \"CBC\", \"LR\", \"kNN\", \"SVC\", \"Lin. SVC\", \"MLP\"]\n",
    "clfs = [text_clf, text_clf_c, lr, knn, svc, mlp]\n",
    "nlp2 = spacy.load(Path(\"spacy_output\"))\n",
    "markers = ['-', ':', '--', '-', \":\", \"--\", \"-\"]\n",
    "names = [\"NBC\", \"CBC\", \"LR\", \"kNN\", \"SVC\", \"MLP\"]\n",
    "for i, clf in enumerate(clfs):\n",
    "    try:\n",
    "        if i in [0,1]:\n",
    "            y_pred = clf.predict_proba(dev_texts)\n",
    "            fpr, tpr, _ = roc_curve(dev_cats, y_pred[:,1])\n",
    "            auc_score = auc(fpr, tpr)\n",
    "        else:  \n",
    "            y_pred = clf.predict_proba(X_test)\n",
    "            fpr, tpr, _ = roc_curve(y_test, y_pred[:,1])\n",
    "            auc_score = auc(fpr, tpr)\n",
    "    except AttributeError:\n",
    "        y_pred = clf.predict(X_test)\n",
    "        fpr, tpr, _ = roc_curve(y_test, y_pred)\n",
    "        auc_score = auc(fpr, tpr)\n",
    "    plt.xlabel('False Positive Rate')\n",
    "    plt.ylabel('True Positive Rate')\n",
    "    #plt.savefig(f'{name}.pdf', format='pdf')\n",
    "    plt.plot(fpr, tpr, linestyle=markers[i], label=f\"{names[i]} (AUC: {auc_score:.2f})\")\n",
    "\n",
    "import operator\n",
    "X_train_s, X_test_s, y_train, y_test = train_test_split(X[:3200],\n",
    "                                                    y[:3200], random_state=0)\n",
    "y_pred = [nlp2(test_text).cats[\"Relevant\"] for test_text in X_test_s]\n",
    "fpr, tpr, _ = roc_curve(y_test, y_pred)\n",
    "auc_score = auc(fpr, tpr)\n",
    "plt.xlabel('False Positive Rate')\n",
    "plt.ylabel('True Positive Rate')\n",
    "#plt.savefig(f'{name}.pdf', format='pdf')\n",
    "plt.plot(fpr, tpr, linestyle='-', label=f\"CNN (AUC: {auc_score:.2f})\")\n",
    "plt.legend(loc=4)\n",
    "plt.savefig('roc_curves.pdf', format='pdf')\n",
    "plt.show()"
   ]
  },
  {
   "cell_type": "code",
   "execution_count": 115,
   "metadata": {},
   "outputs": [
    {
     "name": "stdout",
     "output_type": "stream",
     "text": [
      "                   pre       rec       spe        f1       geo       iba       sup\n",
      "\n",
      "      False       0.95      1.00      0.00      0.98      0.00      0.00       762\n",
      "       True       0.00      0.00      1.00      0.00      0.00      0.00        38\n",
      "\n",
      "avg / total       0.91      0.95      0.05      0.93      0.00      0.00       800\n",
      "\n"
     ]
    }
   ],
   "source": [
    "import operator\n",
    "X_train_s, X_test_s, y_train, y_test = train_test_split(X[:3200],\n",
    "                                                    y[:3200], random_state=0)\n",
    "y_pred = [max(example.items(), key=operator.itemgetter(1))[0] == \"Relevant\" for test_text in X_test_s]\n",
    "fpr, tpr, _ = roc_curve(y_test, y_pred)\n",
    "auc_score = auc(fpr, tpr)\n",
    "print(classification_report_imbalanced(y_test, y_pred))\n",
    "#plt.savefig(f'{name}.pdf', format='pdf')\n"
   ]
  },
  {
   "cell_type": "code",
   "execution_count": 104,
   "metadata": {},
   "outputs": [],
   "source": [
    "example = nlp2('ADas').cats"
   ]
  },
  {
   "cell_type": "code",
   "execution_count": 108,
   "metadata": {},
   "outputs": [
    {
     "data": {
      "text/plain": [
       "'Irrelevant'"
      ]
     },
     "execution_count": 108,
     "metadata": {},
     "output_type": "execute_result"
    }
   ],
   "source": []
  },
  {
   "cell_type": "markdown",
   "metadata": {},
   "source": [
    "## Other classifier"
   ]
  },
  {
   "cell_type": "code",
   "execution_count": null,
   "metadata": {},
   "outputs": [],
   "source": [
    "gs = GridSearchCV(LogisticRegression(), \n",
    "             param_grid={'C': [0.0001, 0.001, 0.01, 0.1, 1]}, scoring=\"roc_auc\", cv=4)\n",
    "gs = gs.fit(X_resample, y_resample)\n",
    "print(gs.best_params_)\n",
    "print('best score: {:3f}'.format(gs.best_score_))\n",
    "plot_roc(gs, X_resample, y_resample)"
   ]
  },
  {
   "cell_type": "code",
   "execution_count": null,
   "metadata": {},
   "outputs": [],
   "source": [
    "param_grid = {'C': [0.001, 0.01, 0.1, 1, 10]}\n",
    "gs = GridSearchCV(LinearSVC(), \n",
    "             param_grid=param_grid, scoring=\"roc_auc\", cv=4)\n",
    "gs = gs.fit(X_resample, y_resample)\n",
    "print(gs.best_params_)\n",
    "print('best score: {:3f}'.format(gs.best_score_))\n",
    "plot_roc(gs, X_resample, y_resample)"
   ]
  },
  {
   "cell_type": "code",
   "execution_count": null,
   "metadata": {},
   "outputs": [],
   "source": [
    "param_grid = {'activation': ['relu', 'logistic', 'tanh'],\n",
    "              'alpha': [0.0001, 0.001, 0.01],\n",
    "              'learning_rate': ['constant', 'invscaling', 'adaptive'], 'tol': [0.01]}\n",
    "gs = GridSearchCV(MLPClassifier(), \n",
    "             param_grid=param_grid, scoring=\"roc_auc\", cv=4)\n",
    "gs = gs.fit(X_transform, y[:3200])\n",
    "print(gs.best_params_)\n",
    "print('best score: {:3f}'.format(gs.best_score_))\n",
    "plot_roc(gs, X_resample, y_resample)"
   ]
  },
  {
   "cell_type": "code",
   "execution_count": null,
   "metadata": {},
   "outputs": [],
   "source": [
    "from sklearn.cluster import KMeans"
   ]
  },
  {
   "cell_type": "code",
   "execution_count": null,
   "metadata": {},
   "outputs": [],
   "source": [
    "X_transform_cluster = KMeans(n_clusters=5).fit_transform(X_transform, y[:3200])"
   ]
  },
  {
   "cell_type": "code",
   "execution_count": null,
   "metadata": {},
   "outputs": [],
   "source": [
    "rus = RandomUnderSampler(random_state=0)\n",
    "X_resample_cluster, y_resample_cluster = rus.fit_sample(X_transform_cluster, y[:X_transform_cluster.shape[0]])"
   ]
  },
  {
   "cell_type": "code",
   "execution_count": null,
   "metadata": {},
   "outputs": [],
   "source": [
    "X_train_cluster, X_test_cluster, y_train_cluster, y_test_cluster = train_test_split(X_resample_cluster,\n",
    "                                                    y_resample_cluster, stratify=y_resample_cluster, random_state=0)"
   ]
  },
  {
   "cell_type": "code",
   "execution_count": null,
   "metadata": {},
   "outputs": [],
   "source": [
    "lr = LogisticRegression()\n",
    "print_scores(lr, X_train_cluster, y_train_cluster, X_test_cluster, y_test_cluster)\n",
    "plot_roc(lr, X_test_cluster, y_test_cluster)"
   ]
  },
  {
   "cell_type": "code",
   "execution_count": null,
   "metadata": {},
   "outputs": [],
   "source": [
    "from sklearn.decomposition import PCA"
   ]
  },
  {
   "cell_type": "code",
   "execution_count": null,
   "metadata": {},
   "outputs": [],
   "source": [
    "X_transform_pca = PCA().fit_transform(X_transform, y[:3200])"
   ]
  },
  {
   "cell_type": "code",
   "execution_count": null,
   "metadata": {},
   "outputs": [],
   "source": [
    "rus = RandomUnderSampler(random_state=0)\n",
    "X_resample_pca, y_resample_pca = rus.fit_sample(X_transform_pca, y[:X_transform_pca.shape[0]])"
   ]
  },
  {
   "cell_type": "code",
   "execution_count": null,
   "metadata": {},
   "outputs": [],
   "source": [
    "X_train_cluster, X_test_cluster, y_train_cluster, y_test_cluster = train_test_split(X_resample_cluster,\n",
    "                                                    y_resample_cluster, stratify=y_resample_cluster, random_state=0)"
   ]
  },
  {
   "cell_type": "code",
   "execution_count": null,
   "metadata": {
    "scrolled": true
   },
   "outputs": [],
   "source": [
    "lr = LogisticRegression()\n",
    "print_scores(lr, X_train_cluster, y_train_cluster, X_test_cluster, y_test_cluster)\n",
    "plot_roc(lr, X_test_cluster, y_test_cluster)"
   ]
  },
  {
   "cell_type": "code",
   "execution_count": 1,
   "metadata": {},
   "outputs": [],
   "source": [
    "from web_app.app import summarize"
   ]
  },
  {
   "cell_type": "code",
   "execution_count": null,
   "metadata": {},
   "outputs": [],
   "source": [
    "summarize('https://www.who.int/csr/don/04-march-2019-mers-oman/en/')"
   ]
  }
 ],
 "metadata": {
  "kernelspec": {
   "display_name": "Python 3",
   "language": "python",
   "name": "python3"
  },
  "language_info": {
   "codemirror_mode": {
    "name": "ipython",
    "version": 3
   },
   "file_extension": ".py",
   "mimetype": "text/x-python",
   "name": "python",
   "nbconvert_exporter": "python",
   "pygments_lexer": "ipython3",
   "version": "3.6.7"
  }
 },
 "nbformat": 4,
 "nbformat_minor": 2
}
