{
 "cells": [
  {
   "cell_type": "code",
   "execution_count": 26,
   "metadata": {},
   "outputs": [],
   "source": [
    "%load_ext autoreload\n",
    "%autoreload 2"
   ]
  },
  {
   "cell_type": "code",
   "execution_count": 102,
   "metadata": {},
   "outputs": [],
   "source": [
    "import nltk\n",
    "import inflect\n",
    "import numpy as np\n",
    "import pandas as pd\n",
    "from tqdm import tqdm\n",
    "from nltk import sent_tokenize\n",
    "from nltk.corpus import stopwords\n",
    "from nlp_surveillance.classifier import extract_sentence\n",
    "from nlp_surveillance.pipeline import ExtractSentencesAndLabel, RecommenderLabeling, RecommenderTierAnnotation\n",
    "from nlp_surveillance.classifier import summarize\n",
    "from utils.my_utils import split_list_and_distribute_to_new_rows"
   ]
  },
  {
   "cell_type": "markdown",
   "metadata": {},
   "source": [
    "# Count/Date Classifier: Most Informative Words"
   ]
  },
  {
   "cell_type": "code",
   "execution_count": 45,
   "metadata": {},
   "outputs": [
    {
     "data": {
      "text/html": [
       "<div>\n",
       "<style scoped>\n",
       "    .dataframe tbody tr th:only-of-type {\n",
       "        vertical-align: middle;\n",
       "    }\n",
       "\n",
       "    .dataframe tbody tr th {\n",
       "        vertical-align: top;\n",
       "    }\n",
       "\n",
       "    .dataframe thead th {\n",
       "        text-align: right;\n",
       "    }\n",
       "</style>\n",
       "<table border=\"1\" class=\"dataframe\">\n",
       "  <thead>\n",
       "    <tr style=\"text-align: right;\">\n",
       "      <th></th>\n",
       "      <th>sentence</th>\n",
       "      <th>label</th>\n",
       "    </tr>\n",
       "  </thead>\n",
       "  <tbody>\n",
       "    <tr>\n",
       "      <th>0</th>\n",
       "      <td>[preparedness, +234(0)708, us, 9700, control, ...</td>\n",
       "      <td>False</td>\n",
       "    </tr>\n",
       "    <tr>\n",
       "      <th>1</th>\n",
       "      <td>[preparedness, +234(0)708, us, 9700, control, ...</td>\n",
       "      <td>False</td>\n",
       "    </tr>\n",
       "    <tr>\n",
       "      <th>2</th>\n",
       "      <td>[preparedness, +234(0)708, us, 9700, control, ...</td>\n",
       "      <td>False</td>\n",
       "    </tr>\n",
       "    <tr>\n",
       "      <th>3</th>\n",
       "      <td>[held, achieve, Goals, LeoneSustainable, Weste...</td>\n",
       "      <td>False</td>\n",
       "    </tr>\n",
       "    <tr>\n",
       "      <th>4</th>\n",
       "      <td>[held, achieve, Goals, LeoneSustainable, Weste...</td>\n",
       "      <td>False</td>\n",
       "    </tr>\n",
       "  </tbody>\n",
       "</table>\n",
       "</div>"
      ],
      "text/plain": [
       "                                            sentence  label\n",
       "0  [preparedness, +234(0)708, us, 9700, control, ...  False\n",
       "1  [preparedness, +234(0)708, us, 9700, control, ...  False\n",
       "2  [preparedness, +234(0)708, us, 9700, control, ...  False\n",
       "3  [held, achieve, Goals, LeoneSustainable, Weste...  False\n",
       "4  [held, achieve, Goals, LeoneSustainable, Weste...  False"
      ]
     },
     "execution_count": 45,
     "metadata": {},
     "output_type": "execute_result"
    }
   ],
   "source": [
    "df_sent = ExtractSentencesAndLabel('counts').data_output()\n",
    "df_sent['sentence']= df_sent['sentence'].apply(lambda x: list(set(x.split()) - set(stopwords.words('english'))))\n",
    "df_sent.head()"
   ]
  },
  {
   "cell_type": "code",
   "execution_count": 46,
   "metadata": {},
   "outputs": [
    {
     "data": {
      "text/html": [
       "<div>\n",
       "<style scoped>\n",
       "    .dataframe tbody tr th:only-of-type {\n",
       "        vertical-align: middle;\n",
       "    }\n",
       "\n",
       "    .dataframe tbody tr th {\n",
       "        vertical-align: top;\n",
       "    }\n",
       "\n",
       "    .dataframe thead th {\n",
       "        text-align: right;\n",
       "    }\n",
       "</style>\n",
       "<table border=\"1\" class=\"dataframe\">\n",
       "  <thead>\n",
       "    <tr style=\"text-align: right;\">\n",
       "      <th></th>\n",
       "      <th>label</th>\n",
       "      <th>sentence</th>\n",
       "    </tr>\n",
       "  </thead>\n",
       "  <tbody>\n",
       "    <tr>\n",
       "      <th>0</th>\n",
       "      <td>False</td>\n",
       "      <td>preparedness</td>\n",
       "    </tr>\n",
       "    <tr>\n",
       "      <th>1</th>\n",
       "      <td>False</td>\n",
       "      <td>+234(0)708</td>\n",
       "    </tr>\n",
       "    <tr>\n",
       "      <th>2</th>\n",
       "      <td>False</td>\n",
       "      <td>us</td>\n",
       "    </tr>\n",
       "    <tr>\n",
       "      <th>3</th>\n",
       "      <td>False</td>\n",
       "      <td>9700</td>\n",
       "    </tr>\n",
       "    <tr>\n",
       "      <th>4</th>\n",
       "      <td>False</td>\n",
       "      <td>control</td>\n",
       "    </tr>\n",
       "  </tbody>\n",
       "</table>\n",
       "</div>"
      ],
      "text/plain": [
       "   label      sentence\n",
       "0  False  preparedness\n",
       "1  False    +234(0)708\n",
       "2  False            us\n",
       "3  False          9700\n",
       "4  False       control"
      ]
     },
     "execution_count": 46,
     "metadata": {},
     "output_type": "execute_result"
    }
   ],
   "source": [
    "df_sent = split_list_and_distribute_to_new_rows(df_sent, 'sentence')\n",
    "df_sent.head()"
   ]
  },
  {
   "cell_type": "code",
   "execution_count": 47,
   "metadata": {
    "scrolled": true
   },
   "outputs": [
    {
     "data": {
      "text/plain": [
       "[({'word': 'preparedness'}, False),\n",
       " ({'word': '+234(0)708'}, False),\n",
       " ({'word': 'us'}, False),\n",
       " ({'word': '9700'}, False),\n",
       " ({'word': 'control'}, False),\n",
       " ({'word': '0010Whatsapp:'}, False),\n",
       " ({'word': '5577×Contact'}, False),\n",
       " ({'word': 'non-communicable'}, False),\n",
       " ({'word': 'year'}, False),\n",
       " ({'word': 'established'}, False),\n",
       " ({'word': 'Nigeria’s'}, False),\n",
       " ({'word': 'Nigeria'}, False),\n",
       " ({'word': 'Disease'}, False),\n",
       " ({'word': 'challenges'}, False),\n",
       " ({'word': '0839SMS'}, False),\n",
       " ({'word': 'detection'}, False),\n",
       " ({'word': 'epidemics'}, False),\n",
       " ({'word': 'diseases.Connect'}, False),\n",
       " ({'word': '(NCDC)'}, False),\n",
       " ({'word': 'Free'}, False),\n",
       " ({'word': '711'}, False),\n",
       " ({'word': 'health'}, False),\n",
       " ({'word': 'NCDCThe'}, False),\n",
       " ({'word': 'Subscribe'}, False),\n",
       " ({'word': 'Centre'}, False),\n",
       " ({'word': '2011'}, False),\n",
       " ({'word': 'enhance'}, False),\n",
       " ({'word': '0800'}, False),\n",
       " ({'word': 'Control'}, False),\n",
       " ({'word': '955'}, False),\n",
       " ({'word': 'Number:'}, False),\n",
       " ({'word': 'NewsletterMandate'}, False),\n",
       " ({'word': 'public'}, False),\n",
       " ({'word': 'prevention,'}, False),\n",
       " ({'word': '+234(0)809'}, False),\n",
       " ({'word': 'communicable'}, False),\n",
       " ({'word': 'handlesToll'}, False),\n",
       " ({'word': 'response'}, False),\n",
       " ({'word': 'CentreToll'}, False),\n",
       " ({'word': 'emergencies'}, False),\n",
       " ({'word': 'preparedness'}, False),\n",
       " ({'word': '+234(0)708'}, False),\n",
       " ({'word': 'us'}, False),\n",
       " ({'word': '9700'}, False),\n",
       " ({'word': 'control'}, False),\n",
       " ({'word': '0010Whatsapp:'}, False),\n",
       " ({'word': '5577×Contact'}, False),\n",
       " ({'word': 'non-communicable'}, False),\n",
       " ({'word': 'year'}, False),\n",
       " ({'word': 'established'}, False),\n",
       " ({'word': 'Nigeria’s'}, False),\n",
       " ({'word': 'Nigeria'}, False),\n",
       " ({'word': 'Disease'}, False),\n",
       " ({'word': 'challenges'}, False),\n",
       " ({'word': '0839SMS'}, False),\n",
       " ({'word': 'detection'}, False),\n",
       " ({'word': 'epidemics'}, False),\n",
       " ({'word': 'diseases.Connect'}, False),\n",
       " ({'word': '(NCDC)'}, False),\n",
       " ({'word': 'Free'}, False),\n",
       " ({'word': '711'}, False),\n",
       " ({'word': 'health'}, False),\n",
       " ({'word': 'NCDCThe'}, False),\n",
       " ({'word': 'Subscribe'}, False),\n",
       " ({'word': 'Centre'}, False),\n",
       " ({'word': '2011'}, False),\n",
       " ({'word': 'enhance'}, False),\n",
       " ({'word': '0800'}, False),\n",
       " ({'word': 'Control'}, False),\n",
       " ({'word': '955'}, False),\n",
       " ({'word': 'Number:'}, False),\n",
       " ({'word': 'NewsletterMandate'}, False),\n",
       " ({'word': 'public'}, False),\n",
       " ({'word': 'prevention,'}, False),\n",
       " ({'word': '+234(0)809'}, False),\n",
       " ({'word': 'communicable'}, False),\n",
       " ({'word': 'handlesToll'}, False),\n",
       " ({'word': 'response'}, False),\n",
       " ({'word': 'CentreToll'}, False),\n",
       " ({'word': 'emergencies'}, False),\n",
       " ({'word': 'preparedness'}, False),\n",
       " ({'word': '+234(0)708'}, False),\n",
       " ({'word': 'us'}, False),\n",
       " ({'word': '9700'}, False),\n",
       " ({'word': 'control'}, False),\n",
       " ({'word': '0010Whatsapp:'}, False),\n",
       " ({'word': '5577×Contact'}, False),\n",
       " ({'word': 'non-communicable'}, False),\n",
       " ({'word': 'year'}, False),\n",
       " ({'word': 'established'}, False),\n",
       " ({'word': 'Nigeria’s'}, False),\n",
       " ({'word': 'Nigeria'}, False),\n",
       " ({'word': 'Disease'}, False),\n",
       " ({'word': 'challenges'}, False),\n",
       " ({'word': '0839SMS'}, False),\n",
       " ({'word': 'detection'}, False),\n",
       " ({'word': 'epidemics'}, False),\n",
       " ({'word': 'diseases.Connect'}, False),\n",
       " ({'word': '(NCDC)'}, False),\n",
       " ({'word': 'Free'}, False),\n",
       " ({'word': '711'}, False),\n",
       " ({'word': 'health'}, False),\n",
       " ({'word': 'NCDCThe'}, False),\n",
       " ({'word': 'Subscribe'}, False),\n",
       " ({'word': 'Centre'}, False),\n",
       " ({'word': '2011'}, False),\n",
       " ({'word': 'enhance'}, False),\n",
       " ({'word': '0800'}, False),\n",
       " ({'word': 'Control'}, False),\n",
       " ({'word': '955'}, False),\n",
       " ({'word': 'Number:'}, False),\n",
       " ({'word': 'NewsletterMandate'}, False),\n",
       " ({'word': 'public'}, False),\n",
       " ({'word': 'prevention,'}, False),\n",
       " ({'word': '+234(0)809'}, False),\n",
       " ({'word': 'communicable'}, False),\n",
       " ({'word': 'handlesToll'}, False),\n",
       " ({'word': 'response'}, False),\n",
       " ({'word': 'CentreToll'}, False),\n",
       " ({'word': 'emergencies'}, False),\n",
       " ({'word': 'held'}, False),\n",
       " ({'word': 'achieve'}, False),\n",
       " ({'word': 'Goals'}, False),\n",
       " ({'word': 'LeoneSustainable'}, False),\n",
       " ({'word': 'Western'}, False),\n",
       " ({'word': 'GoalsThe'}, False),\n",
       " ({'word': 'agreed'}, False),\n",
       " ({'word': 'try'}, False),\n",
       " ({'word': 'Sustainable'}, False),\n",
       " ({'word': 'Nations'}, False),\n",
       " ({'word': 'fight'}, False),\n",
       " ({'word': '2019'}, False),\n",
       " ({'word': 'Development'}, False),\n",
       " ({'word': 'Koinadugu,'}, False),\n",
       " ({'word': '–'}, False),\n",
       " ({'word': 'historic'}, False),\n",
       " ({'word': 'UN'}, False),\n",
       " ({'word': 'Sierra'}, False),\n",
       " ({'word': 'year'}, False),\n",
       " ({'word': 'United'}, False),\n",
       " ({'word': '191'}, False),\n",
       " ({'word': 'event'}, False),\n",
       " ({'word': '25'}, False),\n",
       " ({'word': 'targets'}, False),\n",
       " ({'word': '169'}, False),\n",
       " ({'word': 'Member'}, False),\n",
       " ({'word': '2030.'}, False),\n",
       " ({'word': '17'}, False),\n",
       " ({'word': 'care'}, False),\n",
       " ({'word': 'Leonefield'}, False),\n",
       " ({'word': 'States'}, False),\n",
       " ({'word': 'report'}, False),\n",
       " ({'word': 'In'}, False),\n",
       " ({'word': 'Abuja,'}, False),\n",
       " ({'word': 'facilitiesSurvivors'}, False),\n",
       " ({'word': 'LimboStepping'}, False),\n",
       " ({'word': '(SDGs)'}, False),\n",
       " ({'word': 'hygiene'}, False),\n",
       " ({'word': 'the…MultimediaHand'}, False),\n",
       " ({'word': 'January'}, False),\n",
       " ({'word': 'goals'}, False),\n",
       " ({'word': 'Ebola'}, False),\n",
       " ({'word': 'held'}, False),\n",
       " ({'word': 'achieve'}, False),\n",
       " ({'word': 'Goals'}, False),\n",
       " ({'word': 'LeoneSustainable'}, False),\n",
       " ({'word': 'Western'}, False),\n",
       " ({'word': 'GoalsThe'}, False),\n",
       " ({'word': 'agreed'}, False),\n",
       " ({'word': 'try'}, False),\n",
       " ({'word': 'Sustainable'}, False),\n",
       " ({'word': 'Nations'}, False),\n",
       " ({'word': 'fight'}, False),\n",
       " ({'word': '2019'}, False),\n",
       " ({'word': 'Development'}, False),\n",
       " ({'word': 'Koinadugu,'}, False),\n",
       " ({'word': '–'}, False),\n",
       " ({'word': 'historic'}, False),\n",
       " ({'word': 'UN'}, False),\n",
       " ({'word': 'Sierra'}, False),\n",
       " ({'word': 'year'}, False),\n",
       " ({'word': 'United'}, False),\n",
       " ({'word': '191'}, False),\n",
       " ({'word': 'event'}, False),\n",
       " ({'word': '25'}, False),\n",
       " ({'word': 'targets'}, False),\n",
       " ({'word': '169'}, False),\n",
       " ({'word': 'Member'}, False),\n",
       " ({'word': '2030.'}, False),\n",
       " ({'word': '17'}, False),\n",
       " ({'word': 'care'}, False),\n",
       " ({'word': 'Leonefield'}, False),\n",
       " ({'word': 'States'}, False),\n",
       " ({'word': 'report'}, False),\n",
       " ({'word': 'In'}, False),\n",
       " ({'word': 'Abuja,'}, False),\n",
       " ({'word': 'facilitiesSurvivors'}, False),\n",
       " ({'word': 'LimboStepping'}, False),\n",
       " ({'word': '(SDGs)'}, False),\n",
       " ({'word': 'hygiene'}, False),\n",
       " ({'word': 'the…MultimediaHand'}, False),\n",
       " ({'word': 'January'}, False),\n",
       " ({'word': 'goals'}, False),\n",
       " ({'word': 'Ebola'}, False),\n",
       " ({'word': 'held'}, False),\n",
       " ({'word': 'achieve'}, False),\n",
       " ({'word': 'Goals'}, False),\n",
       " ({'word': 'LeoneSustainable'}, False),\n",
       " ({'word': 'Western'}, False),\n",
       " ({'word': 'GoalsThe'}, False),\n",
       " ({'word': 'agreed'}, False),\n",
       " ({'word': 'try'}, False),\n",
       " ({'word': 'Sustainable'}, False),\n",
       " ({'word': 'Nations'}, False),\n",
       " ({'word': 'fight'}, False),\n",
       " ({'word': '2019'}, False),\n",
       " ({'word': 'Development'}, False),\n",
       " ({'word': 'Koinadugu,'}, False),\n",
       " ({'word': '–'}, False),\n",
       " ({'word': 'historic'}, False),\n",
       " ({'word': 'UN'}, False),\n",
       " ({'word': 'Sierra'}, False),\n",
       " ({'word': 'year'}, False),\n",
       " ({'word': 'United'}, False),\n",
       " ({'word': '191'}, False),\n",
       " ({'word': 'event'}, False),\n",
       " ({'word': '25'}, False),\n",
       " ({'word': 'targets'}, False),\n",
       " ({'word': '169'}, False),\n",
       " ({'word': 'Member'}, False),\n",
       " ({'word': '2030.'}, False),\n",
       " ({'word': '17'}, False),\n",
       " ({'word': 'care'}, False),\n",
       " ({'word': 'Leonefield'}, False),\n",
       " ({'word': 'States'}, False),\n",
       " ({'word': 'report'}, False),\n",
       " ({'word': 'In'}, False),\n",
       " ({'word': 'Abuja,'}, False),\n",
       " ({'word': 'facilitiesSurvivors'}, False),\n",
       " ({'word': 'LimboStepping'}, False),\n",
       " ({'word': '(SDGs)'}, False),\n",
       " ({'word': 'hygiene'}, False),\n",
       " ({'word': 'the…MultimediaHand'}, False),\n",
       " ({'word': 'January'}, False),\n",
       " ({'word': 'goals'}, False),\n",
       " ({'word': 'Ebola'}, False),\n",
       " ({'word': 'Les'}, False),\n",
       " ({'word': 'son'}, False),\n",
       " ({'word': 'Saint-Paul'}, False),\n",
       " ({'word': 'se'}, False),\n",
       " ({'word': 'notamment'}, False),\n",
       " ({'word': 'sud,'}, False),\n",
       " ({'word': 'l’ouest,'}, False),\n",
       " ({'word': 'leurs'}, False),\n",
       " ({'word': 'dengue'}, False),\n",
       " ({'word': 'retour'}, False),\n",
       " ({'word': 'protéger'}, False),\n",
       " ({'word': 'niveau'}, False),\n",
       " ({'word': 'sont'}, False),\n",
       " ({'word': 'qui'}, False),\n",
       " ({'word': '976'}, False),\n",
       " ({'word': 'Saint-Leu,'}, False),\n",
       " ({'word': '1er'}, False),\n",
       " ({'word': 'différents'}, False),\n",
       " ({'word': 'du'}, False),\n",
       " ({'word': 'lutter'}, False),\n",
       " ({'word': 'ont'}, False),\n",
       " ({'word': 'cette'}, False),\n",
       " ({'word': 'dispositifs'}, False),\n",
       " ({'word': 'poursuit'}, False),\n",
       " ({'word': 'chacun'}, False),\n",
       " ({'word': 'localisation'}, False),\n",
       " ({'word': 'L’augmentation'}, False),\n",
       " ({'word': 'sur'}, False),\n",
       " ({'word': 'le'}, False),\n",
       " ({'word': 'Saint-Louis'}, False),\n",
       " ({'word': 'entourage.Depuis'}, False),\n",
       " ({'word': '2018,'}, False),\n",
       " ({'word': 'cas'}, False),\n",
       " ({'word': 'avec'}, False),\n",
       " ({'word': 'dans'}, False),\n",
       " ({'word': 'et'}, False),\n",
       " ({'word': 'semaine'}, False),\n",
       " ({'word': 'moustiques'}, False),\n",
       " ({'word': 'été'}, False),\n",
       " ({'word': 'confirmés.'}, False),\n",
       " ({'word': 'janvier'}, False),\n",
       " ({'word': '6'}, False),\n",
       " ({'word': 'pour'}, False),\n",
       " ({'word': 'de'}, False),\n",
       " ({'word': 'multiplient'}, False),\n",
       " ({'word': 'la'}, False),\n",
       " ({'word': 'actions'}, False),\n",
       " ({'word': 'au'}, False),\n",
       " ({'word': 'ce'}, False),\n",
       " ({'word': 'département,'}, False),\n",
       " ({'word': 'nombre'}, False),\n",
       " ({'word': 'renforcent'}, False),\n",
       " ({'word': 'que'}, False),\n",
       " ({'word': 'vacances,'}, False),\n",
       " ({'word': 'rappeler'}, False),\n",
       " ({'word': 'Possession.En'}, False),\n",
       " ({'word': 'acteurs'}, False),\n",
       " ({'word': 'Avirons'}, False),\n",
       " ({'word': 'à'}, False),\n",
       " ({'word': 'ainsi'}, False),\n",
       " ({'word': 'une'}, False),\n",
       " ({'word': 'adopter'}, False),\n",
       " ({'word': 'gestes'}, False),\n",
       " ({'word': 'contre'}, False),\n",
       " ({'word': 'prévention'}, False),\n",
       " ({'word': 'les'}, False),\n",
       " ({'word': 'l’ensemble'}, False),\n",
       " ({'word': 'Les'}, False),\n",
       " ({'word': 'son'}, False),\n",
       " ({'word': 'Saint-Paul'}, False),\n",
       " ({'word': 'se'}, False),\n",
       " ({'word': 'notamment'}, False),\n",
       " ({'word': 'sud,'}, False),\n",
       " ({'word': 'l’ouest,'}, False),\n",
       " ({'word': 'leurs'}, False),\n",
       " ({'word': 'dengue'}, False),\n",
       " ({'word': 'retour'}, False),\n",
       " ({'word': 'protéger'}, False),\n",
       " ({'word': 'niveau'}, False),\n",
       " ({'word': 'sont'}, False),\n",
       " ({'word': 'qui'}, False),\n",
       " ({'word': '976'}, False),\n",
       " ({'word': 'Saint-Leu,'}, False),\n",
       " ({'word': '1er'}, False),\n",
       " ({'word': 'différents'}, False),\n",
       " ({'word': 'du'}, False),\n",
       " ({'word': 'lutter'}, False),\n",
       " ({'word': 'ont'}, False),\n",
       " ({'word': 'cette'}, False),\n",
       " ({'word': 'dispositifs'}, False),\n",
       " ({'word': 'poursuit'}, False),\n",
       " ({'word': 'chacun'}, False),\n",
       " ({'word': 'localisation'}, False),\n",
       " ({'word': 'L’augmentation'}, False),\n",
       " ({'word': 'sur'}, False),\n",
       " ({'word': 'le'}, False),\n",
       " ({'word': 'Saint-Louis'}, False),\n",
       " ({'word': 'entourage.Depuis'}, False),\n",
       " ({'word': '2018,'}, False),\n",
       " ({'word': 'cas'}, False),\n",
       " ({'word': 'avec'}, False),\n",
       " ({'word': 'dans'}, False),\n",
       " ({'word': 'et'}, False),\n",
       " ({'word': 'semaine'}, False),\n",
       " ({'word': 'moustiques'}, False),\n",
       " ({'word': 'été'}, False),\n",
       " ({'word': 'confirmés.'}, False),\n",
       " ({'word': 'janvier'}, False),\n",
       " ({'word': '6'}, False),\n",
       " ({'word': 'pour'}, False),\n",
       " ({'word': 'de'}, False),\n",
       " ({'word': 'multiplient'}, False),\n",
       " ({'word': 'la'}, False),\n",
       " ({'word': 'actions'}, False),\n",
       " ({'word': 'au'}, False),\n",
       " ({'word': 'ce'}, False),\n",
       " ({'word': 'département,'}, False),\n",
       " ({'word': 'nombre'}, False),\n",
       " ({'word': 'renforcent'}, False),\n",
       " ({'word': 'que'}, False),\n",
       " ({'word': 'vacances,'}, False),\n",
       " ({'word': 'rappeler'}, False),\n",
       " ({'word': 'Possession.En'}, False),\n",
       " ({'word': 'acteurs'}, False),\n",
       " ({'word': 'Avirons'}, False),\n",
       " ({'word': 'à'}, False),\n",
       " ({'word': 'ainsi'}, False),\n",
       " ({'word': 'une'}, False),\n",
       " ({'word': 'adopter'}, False),\n",
       " ({'word': 'gestes'}, False),\n",
       " ({'word': 'contre'}, False),\n",
       " ({'word': 'prévention'}, False),\n",
       " ({'word': 'les'}, False),\n",
       " ({'word': 'l’ensemble'}, False),\n",
       " ({'word': 'African'}, False),\n",
       " ({'word': 'Republic'}, False),\n",
       " ({'word': 'total'}, False),\n",
       " ({'word': 'follow-up'}, False),\n",
       " ({'word': '(CAR),'}, False),\n",
       " ({'word': 'cases'}, False),\n",
       " ({'word': 'Central'}, False),\n",
       " ({'word': 'outbreak'}, False),\n",
       " ({'word': 'reported'}, False),\n",
       " ({'word': 'Bambari'}, False),\n",
       " ({'word': 'monkeypox'}, False),\n",
       " ({'word': 'eight'}, False),\n",
       " ({'word': 'deaths'}, False),\n",
       " ({'word': 'district'}, False),\n",
       " ({'word': 'In'}, False),\n",
       " ({'word': ','}, False),\n",
       " ({'word': 'Mar.'}, False),\n",
       " ({'word': 'zero'}, False),\n",
       " ({'word': 'African'}, False),\n",
       " ({'word': 'Republic'}, False),\n",
       " ({'word': 'total'}, False),\n",
       " ({'word': 'follow-up'}, False),\n",
       " ({'word': '(CAR),'}, False),\n",
       " ({'word': 'cases'}, False),\n",
       " ({'word': 'Central'}, False),\n",
       " ({'word': 'outbreak'}, False),\n",
       " ({'word': 'reported'}, False),\n",
       " ({'word': 'Bambari'}, False),\n",
       " ({'word': 'monkeypox'}, False),\n",
       " ({'word': 'eight'}, False),\n",
       " ({'word': 'deaths'}, False),\n",
       " ({'word': 'district'}, False),\n",
       " ({'word': 'In'}, False),\n",
       " ({'word': ','}, False),\n",
       " ({'word': 'Mar.'}, False),\n",
       " ({'word': 'zero'}, False),\n",
       " ({'word': 'since'}, False),\n",
       " ({'word': 'outbreak.CAR'}, False),\n",
       " ({'word': 'declared'}, False),\n",
       " ({'word': 'outbreak'}, False),\n",
       " ({'word': 'Health'}, False),\n",
       " ({'word': 'start'}, False),\n",
       " ({'word': 'Ministry'}, False),\n",
       " ({'word': 'Mar.'}, False),\n",
       " ({'word': '25'}, False),\n",
       " ({'word': '(50%)'}, False),\n",
       " ({'word': '5'}, False),\n",
       " ({'word': 'Ippy.Four'}, False),\n",
       " ({'word': '17'}, False),\n",
       " ({'word': 'cases'}, False),\n",
       " ({'word': 'sub-district'}, False),\n",
       " ({'word': 'eight'}, False),\n",
       " ({'word': 'male;'}, False),\n",
       " ({'word': 'years'}, False),\n",
       " ({'word': 'age.'}, False),\n",
       " ({'word': '(50%)'}, False),\n",
       " ({'word': '5'}, False),\n",
       " ({'word': 'Ippy.Four'}, False),\n",
       " ({'word': '17'}, False),\n",
       " ({'word': 'cases'}, False),\n",
       " ({'word': 'sub-district'}, False),\n",
       " ({'word': 'eight'}, False),\n",
       " ({'word': 'male;'}, False),\n",
       " ({'word': 'years'}, False),\n",
       " ({'word': 'age.'}, False),\n",
       " ({'word': '(50%)'}, False),\n",
       " ({'word': '5'}, False),\n",
       " ({'word': 'Ippy.Four'}, False),\n",
       " ({'word': '17'}, False),\n",
       " ({'word': 'cases'}, False),\n",
       " ({'word': 'sub-district'}, False),\n",
       " ({'word': 'eight'}, False),\n",
       " ({'word': 'male;'}, False),\n",
       " ({'word': 'years'}, False),\n",
       " ({'word': 'age.'}, False),\n",
       " ({'word': '(50%)'}, False),\n",
       " ({'word': '5'}, False),\n",
       " ({'word': 'Ippy.Four'}, False),\n",
       " ({'word': '17'}, False),\n",
       " ({'word': 'cases'}, False),\n",
       " ({'word': 'sub-district'}, False),\n",
       " ({'word': 'eight'}, False),\n",
       " ({'word': 'male;'}, False),\n",
       " ({'word': 'years'}, False),\n",
       " ({'word': 'age.'}, False),\n",
       " ({'word': 'March'}, False),\n",
       " ({'word': 'tested'}, False),\n",
       " ({'word': 'hospitalized.Laboratory'}, False),\n",
       " ({'word': 'collected'}, False),\n",
       " ({'word': 'samples'}, False),\n",
       " ({'word': '25'}, False),\n",
       " ({'word': '2018,'}, False),\n",
       " ({'word': 'Bangui.'}, False),\n",
       " ({'word': 'As'}, False),\n",
       " ({'word': 'Institut'}, False),\n",
       " ({'word': 'Pasteur'}, False),\n",
       " ({'word': 'three'}, False),\n",
       " ({'word': 'patients'}, False),\n",
       " ({'word': 'tested'}, False),\n",
       " ({'word': 'cases'}, False),\n",
       " ({'word': 'suspected'}, False),\n",
       " ({'word': 'positive'}, False),\n",
       " ({'word': 'virus.'}, False),\n",
       " ({'word': 'monkeypox'}, False),\n",
       " ({'word': 'eight'}, False),\n",
       " ({'word': 'Six'}, False),\n",
       " ({'word': 'tested'}, False),\n",
       " ({'word': 'cases'}, False),\n",
       " ({'word': 'suspected'}, False),\n",
       " ({'word': 'positive'}, False),\n",
       " ({'word': 'virus.'}, False),\n",
       " ({'word': 'monkeypox'}, False),\n",
       " ({'word': 'eight'}, False),\n",
       " ({'word': 'Six'}, False),\n",
       " ({'word': 'disease'}, False),\n",
       " ({'word': 'One'}, False),\n",
       " ({'word': 'pending.Monkeypox'}, False),\n",
       " ({'word': 'laboratory'}, False),\n",
       " ({'word': 'i.e.'}, False),\n",
       " ({'word': 'self-limiting'}, False),\n",
       " ({'word': 'lesions'}, False),\n",
       " ({'word': 'case'}, False),\n",
       " ({'word': 'largely'}, False),\n",
       " ({'word': 'contact'}, False),\n",
       " ({'word': 'developed'}, False),\n",
       " ({'word': 'confirmation'}, False),\n",
       " ({'word': 'suspicious'}, False),\n",
       " ({'word': 'disease'}, False),\n",
       " ({'word': 'One'}, False),\n",
       " ({'word': 'pending.Monkeypox'}, False),\n",
       " ({'word': 'laboratory'}, False),\n",
       " ({'word': 'i.e.'}, False),\n",
       " ({'word': 'self-limiting'}, False),\n",
       " ({'word': 'lesions'}, False),\n",
       " ({'word': 'case'}, False),\n",
       " ({'word': 'largely'}, False),\n",
       " ({'word': 'contact'}, False),\n",
       " ({'word': 'developed'}, False),\n",
       " ({'word': 'confirmation'}, False),\n",
       " ({'word': 'suspicious'}, False),\n",
       " ({'word': 'infection.'}, False),\n",
       " ({'word': 'skin'}, False),\n",
       " ({'word': 'swelling'}, False),\n",
       " ({'word': 'fever,'}, False),\n",
       " ({'word': 'jaw'}, False),\n",
       " ({'word': 'characteristic'}, False),\n",
       " ({'word': 'symptoms'}, False),\n",
       " ({'word': 'associated'}, False),\n",
       " ({'word': 'Generalized'}, False),\n",
       " ({'word': 'painful'}, False),\n",
       " ({'word': 'rashes,'}, False),\n",
       " ({'word': 'vesicular'}, False),\n",
       " ({'word': 'UgandaSource:'}, False),\n",
       " ({'word': 'district,'}, False),\n",
       " ({'word': 'person'}, False),\n",
       " ({'word': 'April'}, False),\n",
       " ({'word': 'killing'}, False),\n",
       " ({'word': 'Xinhua'}, False),\n",
       " ({'word': 'camp'}, False),\n",
       " ({'word': 'leaving'}, False),\n",
       " ({'word': 'people'}, False),\n",
       " ({'word': 'hospitalized,'}, False),\n",
       " ({'word': '--'}, False),\n",
       " ({'word': 'Anthrax'}, False),\n",
       " ({'word': 'Arua'}, False),\n",
       " ({'word': 'said'}, False),\n",
       " ({'word': '2018-04-06'}, False),\n",
       " ({'word': 'one'}, False),\n",
       " ({'word': 'samples'}, False),\n",
       " ({'word': 'Ugandan'}, False),\n",
       " ({'word': 'veterinary'}, False),\n",
       " ({'word': 'three'}, False),\n",
       " ({'word': 'local'}, False),\n",
       " ({'word': 'Friday.Willy'}, False),\n",
       " ({'word': 'broken'}, False),\n",
       " ({'word': 'others'}, False),\n",
       " ({'word': 'tested'}, False),\n",
       " ({'word': '(Xinhua)'}, False),\n",
       " ({'word': 'positive'}, False),\n",
       " ({'word': 'refugee'}, False),\n",
       " ({'word': 'settlement'}, False),\n",
       " ({'word': 'Arua,'}, False),\n",
       " ({'word': '6'}, False),\n",
       " ({'word': 'blood'}, False),\n",
       " ({'word': 'district'}, False),\n",
       " ({'word': 'two'}, False),\n",
       " ({'word': 'told'}, False),\n",
       " ({'word': 'huaxia]KAMPALA,'}, False),\n",
       " ({'word': 'northwestern'}, False),\n",
       " ({'word': 'anthrax.'}, False),\n",
       " ({'word': 'official'}, False),\n",
       " ({'word': 'breaks'}, False),\n",
       " ({'word': 'officer'}, False),\n",
       " ({'word': '19:19:32[Editor:'}, False),\n",
       " ({'word': 'Nguma,'}, False),\n",
       " ({'word': 'taken'}, False),\n",
       " ({'word': 'UgandaSource:'}, False),\n",
       " ({'word': 'district,'}, False),\n",
       " ({'word': 'person'}, False),\n",
       " ({'word': 'April'}, False),\n",
       " ({'word': 'killing'}, False),\n",
       " ({'word': 'Xinhua'}, False),\n",
       " ({'word': 'camp'}, False),\n",
       " ({'word': 'leaving'}, False),\n",
       " ({'word': 'people'}, False),\n",
       " ({'word': 'hospitalized,'}, False),\n",
       " ({'word': '--'}, False),\n",
       " ({'word': 'Anthrax'}, False),\n",
       " ({'word': 'Arua'}, False),\n",
       " ({'word': 'said'}, False),\n",
       " ({'word': '2018-04-06'}, False),\n",
       " ({'word': 'one'}, False),\n",
       " ({'word': 'samples'}, False),\n",
       " ({'word': 'Ugandan'}, False),\n",
       " ({'word': 'veterinary'}, False),\n",
       " ({'word': 'three'}, False),\n",
       " ({'word': 'local'}, False),\n",
       " ({'word': 'Friday.Willy'}, False),\n",
       " ({'word': 'broken'}, False),\n",
       " ({'word': 'others'}, False),\n",
       " ({'word': 'tested'}, False),\n",
       " ({'word': '(Xinhua)'}, False),\n",
       " ({'word': 'positive'}, False),\n",
       " ({'word': 'refugee'}, False),\n",
       " ({'word': 'settlement'}, False),\n",
       " ({'word': 'Arua,'}, False),\n",
       " ({'word': '6'}, False),\n",
       " ({'word': 'blood'}, False),\n",
       " ({'word': 'district'}, False),\n",
       " ({'word': 'two'}, False),\n",
       " ({'word': 'told'}, False),\n",
       " ({'word': 'huaxia]KAMPALA,'}, False),\n",
       " ({'word': 'northwestern'}, False),\n",
       " ({'word': 'anthrax.'}, False),\n",
       " ({'word': 'official'}, False),\n",
       " ({'word': 'breaks'}, False),\n",
       " ({'word': 'officer'}, False),\n",
       " ({'word': '19:19:32[Editor:'}, False),\n",
       " ({'word': 'Nguma,'}, False),\n",
       " ({'word': 'taken'}, False),\n",
       " ({'word': 'UgandaSource:'}, False),\n",
       " ({'word': 'district,'}, False),\n",
       " ({'word': 'person'}, False),\n",
       " ({'word': 'April'}, False),\n",
       " ({'word': 'killing'}, False),\n",
       " ({'word': 'Xinhua'}, False),\n",
       " ({'word': 'camp'}, False),\n",
       " ({'word': 'leaving'}, False),\n",
       " ({'word': 'people'}, False),\n",
       " ({'word': 'hospitalized,'}, False),\n",
       " ({'word': '--'}, False),\n",
       " ({'word': 'Anthrax'}, False),\n",
       " ({'word': 'Arua'}, False),\n",
       " ({'word': 'said'}, False),\n",
       " ({'word': '2018-04-06'}, False),\n",
       " ({'word': 'one'}, False),\n",
       " ({'word': 'samples'}, False),\n",
       " ({'word': 'Ugandan'}, False),\n",
       " ({'word': 'veterinary'}, False),\n",
       " ({'word': 'three'}, False),\n",
       " ({'word': 'local'}, False),\n",
       " ({'word': 'Friday.Willy'}, False),\n",
       " ({'word': 'broken'}, False),\n",
       " ({'word': 'others'}, False),\n",
       " ({'word': 'tested'}, False),\n",
       " ({'word': '(Xinhua)'}, False),\n",
       " ({'word': 'positive'}, False),\n",
       " ({'word': 'refugee'}, False),\n",
       " ({'word': 'settlement'}, False),\n",
       " ({'word': 'Arua,'}, False),\n",
       " ({'word': '6'}, False),\n",
       " ({'word': 'blood'}, False),\n",
       " ({'word': 'district'}, False),\n",
       " ({'word': 'two'}, False),\n",
       " ({'word': 'told'}, False),\n",
       " ({'word': 'huaxia]KAMPALA,'}, False),\n",
       " ({'word': 'northwestern'}, False),\n",
       " ({'word': 'anthrax.'}, False),\n",
       " ({'word': 'official'}, False),\n",
       " ({'word': 'breaks'}, False),\n",
       " ({'word': 'officer'}, False),\n",
       " ({'word': '19:19:32[Editor:'}, False),\n",
       " ({'word': 'Nguma,'}, False),\n",
       " ({'word': 'taken'}, False),\n",
       " ({'word': 'UgandaSource:'}, True),\n",
       " ({'word': 'district,'}, True),\n",
       " ({'word': 'person'}, True),\n",
       " ({'word': 'April'}, True),\n",
       " ({'word': 'killing'}, True),\n",
       " ({'word': 'Xinhua'}, True),\n",
       " ({'word': 'camp'}, True),\n",
       " ({'word': 'leaving'}, True),\n",
       " ({'word': 'people'}, True),\n",
       " ({'word': 'hospitalized,'}, True),\n",
       " ({'word': '--'}, True),\n",
       " ({'word': 'Anthrax'}, True),\n",
       " ({'word': 'Arua'}, True),\n",
       " ({'word': 'said'}, True),\n",
       " ({'word': '2018-04-06'}, True),\n",
       " ({'word': 'one'}, True),\n",
       " ({'word': 'samples'}, True),\n",
       " ({'word': 'Ugandan'}, True),\n",
       " ({'word': 'veterinary'}, True),\n",
       " ({'word': 'three'}, True),\n",
       " ({'word': 'local'}, True),\n",
       " ({'word': 'Friday.Willy'}, True),\n",
       " ({'word': 'broken'}, True),\n",
       " ({'word': 'others'}, True),\n",
       " ({'word': 'tested'}, True),\n",
       " ({'word': '(Xinhua)'}, True),\n",
       " ({'word': 'positive'}, True),\n",
       " ({'word': 'refugee'}, True),\n",
       " ({'word': 'settlement'}, True),\n",
       " ({'word': 'Arua,'}, True),\n",
       " ({'word': '6'}, True),\n",
       " ({'word': 'blood'}, True),\n",
       " ({'word': 'district'}, True),\n",
       " ({'word': 'two'}, True),\n",
       " ({'word': 'told'}, True),\n",
       " ({'word': 'huaxia]KAMPALA,'}, True),\n",
       " ({'word': 'northwestern'}, True),\n",
       " ({'word': 'anthrax.'}, True),\n",
       " ({'word': 'official'}, True),\n",
       " ({'word': 'breaks'}, True),\n",
       " ({'word': 'officer'}, True),\n",
       " ({'word': '19:19:32[Editor:'}, True),\n",
       " ({'word': 'Nguma,'}, True),\n",
       " ({'word': 'taken'}, True),\n",
       " ({'word': 'still'}, False),\n",
       " ({'word': 'people'}, False),\n",
       " ({'word': 'home'}, False),\n",
       " ({'word': 'contracting'}, False),\n",
       " ({'word': 'houses'}, False),\n",
       " ({'word': 'undergoing'}, False),\n",
       " ({'word': 'risk'}, False),\n",
       " ({'word': 'many'}, False),\n",
       " ({'word': 'disease'}, False),\n",
       " ({'word': 'camp.'}, False),\n",
       " ({'word': 'live'}, False),\n",
       " ({'word': 'fighting'}, False),\n",
       " ({'word': 'refugees'}, False),\n",
       " ({'word': 'fled'}, False),\n",
       " ({'word': 'Nguma'}, False),\n",
       " ({'word': 'sharing'}, False),\n",
       " ({'word': 'victims'}, False),\n",
       " ({'word': 'Sudanese'}, False),\n",
       " ({'word': 'treatment'}, False),\n",
       " ({'word': 'animals,\"'}, False),\n",
       " ({'word': 'said.South'}, False),\n",
       " ({'word': 'deadly'}, False),\n",
       " ({'word': '\"Two'}, False),\n",
       " ({'word': 'oozing'}, False),\n",
       " ({'word': 'outbreak'}, False),\n",
       " ({'word': 'died'}, False),\n",
       " ({'word': '15'}, False),\n",
       " ({'word': 'dangerous,\"'}, False),\n",
       " ({'word': '\"The'}, False),\n",
       " ({'word': 'cross'}, False),\n",
       " ({'word': 'Anthrax'}, False),\n",
       " ({'word': 'beings'}, False),\n",
       " ({'word': 'farmers'}, False),\n",
       " ({'word': 'said.He'}, False),\n",
       " ({'word': 'advised'}, False),\n",
       " ({'word': 'screen'}, False),\n",
       " ({'word': 'area'}, False),\n",
       " ({'word': 'nostrils'}, False),\n",
       " ({'word': 'refugees'}, False),\n",
       " ({'word': 'Nguma'}, False),\n",
       " ({'word': 'suspected'}, False),\n",
       " ({'word': 'blood'}, False),\n",
       " ({'word': 'reported'}, False),\n",
       " ({'word': 'animals'}, False),\n",
       " ({'word': 'report'}, False),\n",
       " ({'word': 'animals,'}, False),\n",
       " ({'word': 'said.An'}, False),\n",
       " ({'word': 'anthrax,'}, False),\n",
       " ({'word': 'Uganda,'}, False),\n",
       " ({'word': 'humanitarian'}, False),\n",
       " ({'word': 'signs'}, False),\n",
       " ({'word': 'agencies'}, False),\n",
       " ({'word': 'challenge'}, False),\n",
       " ({'word': 'anus.More'}, False),\n",
       " ({'word': 'last'}, False),\n",
       " ({'word': 'death'}, False),\n",
       " ({'word': 'human'}, False),\n",
       " ({'word': 'result'}, False),\n",
       " ({'word': 'ignore'}, False),\n",
       " ({'word': '2016.'}, False),\n",
       " ({'word': 'Uganda'}, False),\n",
       " ({'word': 'oozing'}, False),\n",
       " ({'word': 'outbreak'}, False),\n",
       " ({'word': 'died'}, False),\n",
       " ({'word': '15'}, False),\n",
       " ({'word': 'dangerous,\"'}, False),\n",
       " ({'word': '\"The'}, False),\n",
       " ({'word': 'cross'}, False),\n",
       " ({'word': 'Anthrax'}, False),\n",
       " ({'word': 'beings'}, False),\n",
       " ({'word': 'farmers'}, False),\n",
       " ({'word': 'said.He'}, False),\n",
       " ({'word': 'advised'}, False),\n",
       " ({'word': 'screen'}, False),\n",
       " ({'word': 'area'}, False),\n",
       " ({'word': 'nostrils'}, False),\n",
       " ({'word': 'refugees'}, False),\n",
       " ({'word': 'Nguma'}, False),\n",
       " ({'word': 'suspected'}, False),\n",
       " ({'word': 'blood'}, False),\n",
       " ({'word': 'reported'}, False),\n",
       " ({'word': 'animals'}, False),\n",
       " ({'word': 'report'}, False),\n",
       " ({'word': 'animals,'}, False),\n",
       " ({'word': 'said.An'}, False),\n",
       " ({'word': 'anthrax,'}, False),\n",
       " ({'word': 'Uganda,'}, False),\n",
       " ({'word': 'humanitarian'}, False),\n",
       " ({'word': 'signs'}, False),\n",
       " ({'word': 'agencies'}, False),\n",
       " ({'word': 'challenge'}, False),\n",
       " ({'word': 'anus.More'}, False),\n",
       " ({'word': 'last'}, False),\n",
       " ({'word': 'death'}, False),\n",
       " ({'word': 'human'}, False),\n",
       " ({'word': 'result'}, False),\n",
       " ({'word': 'ignore'}, False),\n",
       " ({'word': '2016.'}, False),\n",
       " ({'word': 'Uganda'}, False),\n",
       " ({'word': 'March'}, True),\n",
       " ({'word': 'reported.'}, True),\n",
       " ({'word': 'rockmelons'}, True),\n",
       " ({'word': 'outbreak'}, True),\n",
       " ({'word': 'April'}, True),\n",
       " ({'word': 'associated'}, True),\n",
       " ({'word': 'Point'}, True),\n",
       " ({'word': 'listeriosis'}, True),\n",
       " ({'word': 'grower.From'}, True),\n",
       " ({'word': 'probable)'}, True),\n",
       " ({'word': '(NFP)'}, True),\n",
       " ({'word': '20'}, True),\n",
       " ({'word': '1'}, True),\n",
       " ({'word': 'Disease'}, True),\n",
       " ({'word': 'single'}, True),\n",
       " ({'word': '(19'}, True),\n",
       " ({'word': '2018,'}, True),\n",
       " ({'word': '(listeriosis)'}, True),\n",
       " ({'word': 'cases'}, True),\n",
       " ({'word': '17'}, True),\n",
       " ({'word': 'WHO'}, True),\n",
       " ({'word': 'National'}, True),\n",
       " ({'word': '6'}, True),\n",
       " ({'word': 'Focal'}, True),\n",
       " ({'word': 'notified'}, True),\n",
       " ({'word': '2018'}, True),\n",
       " ({'word': 'infection'}, True),\n",
       " ({'word': 'monocytogenes'}, True),\n",
       " ({'word': '(cantaloupe)'}, True),\n",
       " ({'word': 'confirmed'}, True),\n",
       " ({'word': 'consumption'}, True),\n",
       " ({'word': '2018On'}, True),\n",
       " ({'word': 'Listeria'}, True),\n",
       " ({'word': 'news9'}, True),\n",
       " ({'word': 'Australian'}, True),\n",
       " ({'word': '2'}, True),\n",
       " ({'word': 'January'}, True),\n",
       " ({'word': 'March'}, False),\n",
       " ({'word': 'reported.'}, False),\n",
       " ({'word': 'rockmelons'}, False),\n",
       " ({'word': 'outbreak'}, False),\n",
       " ({'word': 'April'}, False),\n",
       " ({'word': 'associated'}, False),\n",
       " ({'word': 'Point'}, False),\n",
       " ({'word': 'listeriosis'}, False),\n",
       " ({'word': 'grower.From'}, False),\n",
       " ({'word': 'probable)'}, False),\n",
       " ({'word': '(NFP)'}, False),\n",
       " ({'word': '20'}, False),\n",
       " ({'word': '1'}, False),\n",
       " ({'word': 'Disease'}, False),\n",
       " ({'word': 'single'}, False),\n",
       " ({'word': '(19'}, False),\n",
       " ({'word': '2018,'}, False),\n",
       " ({'word': '(listeriosis)'}, False),\n",
       " ({'word': 'cases'}, False),\n",
       " ({'word': '17'}, False),\n",
       " ({'word': 'WHO'}, False),\n",
       " ({'word': 'National'}, False),\n",
       " ({'word': '6'}, False),\n",
       " ({'word': 'Focal'}, False),\n",
       " ({'word': 'notified'}, False),\n",
       " ({'word': '2018'}, False),\n",
       " ({'word': 'infection'}, False),\n",
       " ({'word': 'monocytogenes'}, False),\n",
       " ({'word': '(cantaloupe)'}, False),\n",
       " ({'word': 'confirmed'}, False),\n",
       " ({'word': 'consumption'}, False),\n",
       " ({'word': '2018On'}, False),\n",
       " ({'word': 'Listeria'}, False),\n",
       " ({'word': 'news9'}, False),\n",
       " ({'word': 'Australian'}, False),\n",
       " ({'word': '2'}, False),\n",
       " ({'word': 'January'}, False),\n",
       " ({'word': 'March'}, False),\n",
       " ({'word': 'reported.'}, False),\n",
       " ({'word': 'rockmelons'}, False),\n",
       " ({'word': 'outbreak'}, False),\n",
       " ({'word': 'April'}, False),\n",
       " ({'word': 'associated'}, False),\n",
       " ({'word': 'Point'}, False),\n",
       " ({'word': 'listeriosis'}, False),\n",
       " ({'word': 'grower.From'}, False),\n",
       " ({'word': 'probable)'}, False),\n",
       " ({'word': '(NFP)'}, False),\n",
       " ({'word': '20'}, False),\n",
       " ({'word': '1'}, False),\n",
       " ({'word': 'Disease'}, False),\n",
       " ({'word': 'single'}, False),\n",
       " ({'word': '(19'}, False),\n",
       " ({'word': '2018,'}, False),\n",
       " ({'word': '(listeriosis)'}, False),\n",
       " ({'word': 'cases'}, False),\n",
       " ({'word': '17'}, False),\n",
       " ({'word': 'WHO'}, False),\n",
       " ({'word': 'National'}, False),\n",
       " ({'word': '6'}, False),\n",
       " ({'word': 'Focal'}, False),\n",
       " ({'word': 'notified'}, False),\n",
       " ({'word': '2018'}, False),\n",
       " ({'word': 'infection'}, False),\n",
       " ({'word': 'monocytogenes'}, False),\n",
       " ({'word': '(cantaloupe)'}, False),\n",
       " ({'word': 'confirmed'}, False),\n",
       " ({'word': 'consumption'}, False),\n",
       " ({'word': '2018On'}, False),\n",
       " ({'word': 'Listeria'}, False),\n",
       " ({'word': 'news9'}, False),\n",
       " ({'word': 'Australian'}, False),\n",
       " ({'word': '2'}, False),\n",
       " ({'word': 'January'}, False),\n",
       " ({'word': 'outbreak.'}, False),\n",
       " ({'word': 'cases'}, False),\n",
       " ({'word': 'hospitalized'}, False),\n",
       " ({'word': 'one'}, False),\n",
       " ({'word': 'miscarriage'}, False),\n",
       " ({'word': 'All'}, False),\n",
       " ({'word': 'associated'}, False),\n",
       " ({'word': 'deaths'}, False),\n",
       " ({'word': 'seven'}, False),\n",
       " ({'word': 'outbreak.'}, False),\n",
       " ({'word': 'cases'}, False),\n",
       " ({'word': 'hospitalized'}, False),\n",
       " ({'word': 'one'}, False),\n",
       " ({'word': 'miscarriage'}, False),\n",
       " ({'word': 'All'}, False),\n",
       " ({'word': 'associated'}, False),\n",
       " ({'word': 'deaths'}, False),\n",
       " ({'word': 'seven'}, False),\n",
       " ({'word': 'March'}, False),\n",
       " ({'word': '2018.On'}, False),\n",
       " ({'word': 'rockmelons'}, False),\n",
       " ({'word': 'international'}, False),\n",
       " ({'word': 'product'}, False),\n",
       " ({'word': 'undertaken,'}, False),\n",
       " ({'word': '1'}, False),\n",
       " ({'word': 'occurred.'}, False),\n",
       " ({'word': 'NFP'}, False),\n",
       " ({'word': 'distribution'}, False),\n",
       " ({'word': 'recall'}, False),\n",
       " ({'word': 'produced'}, False),\n",
       " ({'word': 'single'}, False),\n",
       " ({'word': 'February'}, False),\n",
       " ({'word': '2018,'}, False),\n",
       " ({'word': 'Epidemiological'}, False),\n",
       " ({'word': 'notified'}, False),\n",
       " ({'word': 'investigations'}, False),\n",
       " ({'word': 'environmental'}, False),\n",
       " ({'word': '27'}, False),\n",
       " ({'word': 'grower'}, False),\n",
       " ({'word': 'Australian'}, False),\n",
       " ({'word': 'led'}, False),\n",
       " ({'word': 'affected'}, False),\n",
       " ({'word': 'March'}, False),\n",
       " ({'word': 'rockmelons'}, False),\n",
       " ({'word': 'exported'}, False),\n",
       " ({'word': 'forward'}, False),\n",
       " ({'word': 'Special'}, False),\n",
       " ({'word': 'Oman,'}, False),\n",
       " ({'word': 'Administrative'}, False),\n",
       " ({'word': 'United'}, False),\n",
       " ({'word': 'received'}, False),\n",
       " ({'word': 'trace'}, False),\n",
       " ({'word': 'eight'}, False),\n",
       " ({'word': 'countries;'}, False),\n",
       " ({'word': '(China),'}, False),\n",
       " ({'word': 'Qatar,'}, False),\n",
       " ({'word': 'Kuwait,'}, False),\n",
       " ({'word': 'Kong'}, False),\n",
       " ({'word': '2018'}, False),\n",
       " ({'word': 'Malaysia,'}, False),\n",
       " ({'word': 'Hong'}, False),\n",
       " ({'word': 'Singapore,'}, False),\n",
       " ({'word': 'information'}, False),\n",
       " ({'word': 'investigations'}, False),\n",
       " ({'word': 'Emirates.'}, False),\n",
       " ({'word': 'Region'}, False),\n",
       " ({'word': 'Arab'}, False),\n",
       " ({'word': 'authorities'}, False),\n",
       " ({'word': 'grower'}, False),\n",
       " ({'word': 'Australian'}, False),\n",
       " ({'word': 'Japan,'}, False),\n",
       " ({'word': '2'}, False),\n",
       " ({'word': 'emergency'}, False),\n",
       " ({'word': 'rockmelons'}, False),\n",
       " ({'word': 'INFOSAN'}, False),\n",
       " ({'word': 'April'}, False),\n",
       " ({'word': 'countries'}, False),\n",
       " ({'word': 'including'}, False),\n",
       " ({'word': 'forward'}, False),\n",
       " ({'word': 'concluded.The'}, False),\n",
       " ({'word': 'importing'}, False),\n",
       " ({'word': 'Australia,'}, False),\n",
       " ...]"
      ]
     },
     "execution_count": 47,
     "metadata": {},
     "output_type": "execute_result"
    }
   ],
   "source": [
    "as_tuples = df_sent.apply(tuple, axis=1).tolist()\n",
    "as_tuples = [({'word':word}, label) for label, word in as_tuples]\n",
    "as_tuples"
   ]
  },
  {
   "cell_type": "code",
   "execution_count": 48,
   "metadata": {
    "scrolled": true
   },
   "outputs": [
    {
     "name": "stdout",
     "output_type": "stream",
     "text": [
      "Most Informative Features\n",
      "                    word = 'variant'        True : False  =     31.1 : 1.0\n",
      "                    word = 'poultry'        True : False  =     27.1 : 1.0\n",
      "                    word = 'Laibin'         True : False  =     22.2 : 1.0\n",
      "                    word = '42-year-old'    True : False  =     22.2 : 1.0\n",
      "                    word = 'strains.'       True : False  =     19.2 : 1.0\n",
      "                    word = 'provinces.Aug'   True : False  =     19.2 : 1.0\n",
      "                    word = '13For'          True : False  =     19.2 : 1.0\n",
      "                    word = '(H1N2v)'        True : False  =     19.2 : 1.0\n",
      "                    word = 'straight'       True : False  =     19.2 : 1.0\n",
      "                    word = 'H1N2'           True : False  =     19.2 : 1.0\n",
      "                    word = 'Ohio.The'       True : False  =     19.2 : 1.0\n",
      "                    word = 'fair,'          True : False  =     19.2 : 1.0\n",
      "                    word = 'Bulgaria,'      True : False  =     17.3 : 1.0\n",
      "                    word = 'squirrels'      True : False  =     17.3 : 1.0\n",
      "                    word = 'vaccination.'   True : False  =     17.3 : 1.0\n",
      "                    word = 'desert'         True : False  =     17.3 : 1.0\n",
      "                    word = 'China,'         True : False  =     17.3 : 1.0\n",
      "                    word = 'media'          True : False  =     16.3 : 1.0\n",
      "                    word = 'Guangxi'        True : False  =     16.3 : 1.0\n",
      "                    word = 'lived'          True : False  =     15.9 : 1.0\n"
     ]
    }
   ],
   "source": [
    "clf = nltk.NaiveBayesClassifier.train(as_tuples)\n",
    "clf.show_most_informative_features(20)"
   ]
  },
  {
   "cell_type": "code",
   "execution_count": 49,
   "metadata": {},
   "outputs": [],
   "source": [
    "df_sent_date = ExtractSentencesAndLabel('dates').data_output()\n",
    "df_sent_date['sentence']= df_sent_date['sentence'].apply(lambda x: list(set(x.split()) - set(stopwords.words('english'))))\n",
    "df_sent_date = split_list_and_distribute_to_new_rows(df_sent_date, 'sentence')\n",
    "as_tuples_date = df_sent_date.apply(tuple, axis=1).tolist()\n",
    "as_tuples_date = [({'sent':word}, label) for label, word in as_tuples_date]"
   ]
  },
  {
   "cell_type": "code",
   "execution_count": 50,
   "metadata": {},
   "outputs": [
    {
     "name": "stdout",
     "output_type": "stream",
     "text": [
      "Most Informative Features\n",
      "                    sent = 'worm'           True : False  =      6.0 : 1.0\n",
      "                    sent = 'occurring'      True : False  =      5.3 : 1.0\n",
      "                    sent = 'Northern'       True : False  =      5.3 : 1.0\n",
      "                    sent = 'emerging'       True : False  =      5.3 : 1.0\n",
      "                    sent = 'patients'      False : True   =      4.5 : 1.0\n",
      "                    sent = 'South'          True : False  =      4.1 : 1.0\n",
      "                    sent = 'deaths'        False : True   =      3.9 : 1.0\n",
      "                    sent = 'launches'       True : False  =      3.8 : 1.0\n",
      "                    sent = 'Syria'          True : False  =      3.8 : 1.0\n",
      "                    sent = 'NDOH-WHO'       True : False  =      3.8 : 1.0\n",
      "                    sent = 'admitted'       True : False  =      3.8 : 1.0\n",
      "                    sent = 'deaths.'        True : False  =      3.8 : 1.0\n",
      "                    sent = '22'             True : False  =      3.8 : 1.0\n",
      "                    sent = 'diagnosed'      True : False  =      3.8 : 1.0\n",
      "                    sent = 'Ireland'        True : False  =      3.8 : 1.0\n",
      "                    sent = 'Great'          True : False  =      3.8 : 1.0\n",
      "                    sent = 'Kingdom'        True : False  =      3.8 : 1.0\n",
      "                    sent = 'Japan,'         True : False  =      3.8 : 1.0\n",
      "                    sent = 'weakness,'      True : False  =      3.8 : 1.0\n",
      "                    sent = '6-year-old'     True : False  =      3.8 : 1.0\n"
     ]
    }
   ],
   "source": [
    "clf_date = nltk.NaiveBayesClassifier.train(as_tuples_date)\n",
    "clf_date.show_most_informative_features(20)"
   ]
  },
  {
   "cell_type": "markdown",
   "metadata": {},
   "source": [
    "# Recommendation Classifier"
   ]
  },
  {
   "cell_type": "code",
   "execution_count": 51,
   "metadata": {},
   "outputs": [],
   "source": [
    "df_recommand = RecommenderLabeling().data_output()"
   ]
  },
  {
   "cell_type": "code",
   "execution_count": 52,
   "metadata": {},
   "outputs": [],
   "source": [
    "df_tiers = RecommenderTierAnnotation().data_output()"
   ]
  },
  {
   "cell_type": "code",
   "execution_count": 53,
   "metadata": {},
   "outputs": [
    {
     "data": {
      "text/html": [
       "<div>\n",
       "<style scoped>\n",
       "    .dataframe tbody tr th:only-of-type {\n",
       "        vertical-align: middle;\n",
       "    }\n",
       "\n",
       "    .dataframe tbody tr th {\n",
       "        vertical-align: top;\n",
       "    }\n",
       "\n",
       "    .dataframe thead th {\n",
       "        text-align: right;\n",
       "    }\n",
       "</style>\n",
       "<table border=\"1\" class=\"dataframe\">\n",
       "  <thead>\n",
       "    <tr style=\"text-align: right;\">\n",
       "      <th></th>\n",
       "      <th>counts</th>\n",
       "      <th>date</th>\n",
       "      <th>diseases</th>\n",
       "      <th>geoname</th>\n",
       "      <th>label</th>\n",
       "      <th>text</th>\n",
       "    </tr>\n",
       "  </thead>\n",
       "  <tbody>\n",
       "    <tr>\n",
       "      <th>0</th>\n",
       "      <td>[357, 60]</td>\n",
       "      <td>[[2018-12-06 00:00:00, 2018-12-27 00:00:00], [...</td>\n",
       "      <td>Ebola hemorrhagic fever</td>\n",
       "      <td>Democratic Republic of the Congo</td>\n",
       "      <td>False</td>\n",
       "      <td>Ebola virus disease – Democratic Republic of t...</td>\n",
       "    </tr>\n",
       "    <tr>\n",
       "      <th>1</th>\n",
       "      <td>[1]</td>\n",
       "      <td>[[2018-10-31 00:00:00, 2018-12-01 00:00:00]]</td>\n",
       "      <td>None</td>\n",
       "      <td>Kingdom of Saudi Arabia</td>\n",
       "      <td>False</td>\n",
       "      <td>Middle East respiratory syndrome coronavirus (...</td>\n",
       "    </tr>\n",
       "    <tr>\n",
       "      <th>2</th>\n",
       "      <td>[6, 1, 5]</td>\n",
       "      <td>[[2016-01-01 00:00:00, 2019-01-01 00:00:00]]</td>\n",
       "      <td>typhoid fever</td>\n",
       "      <td>Islamic Republic of Pakistan</td>\n",
       "      <td>False</td>\n",
       "      <td>Typhoid fever – Islamic Republic of PakistanDi...</td>\n",
       "    </tr>\n",
       "    <tr>\n",
       "      <th>3</th>\n",
       "      <td>[18]</td>\n",
       "      <td>[[2018-08-01 00:00:00, 2018-09-01 00:00:00]]</td>\n",
       "      <td>Ebola hemorrhagic fever</td>\n",
       "      <td>Democratic Republic of the Congo</td>\n",
       "      <td>False</td>\n",
       "      <td>Ebola virus disease – Democratic Republic of t...</td>\n",
       "    </tr>\n",
       "    <tr>\n",
       "      <th>4</th>\n",
       "      <td>[1, 1]</td>\n",
       "      <td>[[2018-11-18 00:00:00, 2018-11-19 00:00:00]]</td>\n",
       "      <td>yellow fever</td>\n",
       "      <td>Gambia</td>\n",
       "      <td>False</td>\n",
       "      <td>Yellow Fever – Kingdom of the NetherlandsDisea...</td>\n",
       "    </tr>\n",
       "  </tbody>\n",
       "</table>\n",
       "</div>"
      ],
      "text/plain": [
       "      counts                                               date  \\\n",
       "0  [357, 60]  [[2018-12-06 00:00:00, 2018-12-27 00:00:00], [...   \n",
       "1        [1]       [[2018-10-31 00:00:00, 2018-12-01 00:00:00]]   \n",
       "2  [6, 1, 5]       [[2016-01-01 00:00:00, 2019-01-01 00:00:00]]   \n",
       "3       [18]       [[2018-08-01 00:00:00, 2018-09-01 00:00:00]]   \n",
       "4     [1, 1]       [[2018-11-18 00:00:00, 2018-11-19 00:00:00]]   \n",
       "\n",
       "                  diseases                           geoname  label  \\\n",
       "0  Ebola hemorrhagic fever  Democratic Republic of the Congo  False   \n",
       "1                     None           Kingdom of Saudi Arabia  False   \n",
       "2            typhoid fever      Islamic Republic of Pakistan  False   \n",
       "3  Ebola hemorrhagic fever  Democratic Republic of the Congo  False   \n",
       "4             yellow fever                            Gambia  False   \n",
       "\n",
       "                                                text  \n",
       "0  Ebola virus disease – Democratic Republic of t...  \n",
       "1  Middle East respiratory syndrome coronavirus (...  \n",
       "2  Typhoid fever – Islamic Republic of PakistanDi...  \n",
       "3  Ebola virus disease – Democratic Republic of t...  \n",
       "4  Yellow Fever – Kingdom of the NetherlandsDisea...  "
      ]
     },
     "execution_count": 53,
     "metadata": {},
     "output_type": "execute_result"
    }
   ],
   "source": [
    "df_tiers.head()"
   ]
  },
  {
   "cell_type": "code",
   "execution_count": 54,
   "metadata": {},
   "outputs": [],
   "source": [
    "df_clf = pd.concat([df_recommand, df_tiers],axis=1, ignore_index=False)"
   ]
  },
  {
   "cell_type": "code",
   "execution_count": 55,
   "metadata": {},
   "outputs": [],
   "source": [
    "df_clf = df_clf.dropna()"
   ]
  },
  {
   "cell_type": "code",
   "execution_count": 56,
   "metadata": {
    "scrolled": false
   },
   "outputs": [],
   "source": [
    "df_clf['counts'] = df_clf['counts'].apply(lambda x: list(set(x)))"
   ]
  },
  {
   "cell_type": "code",
   "execution_count": 57,
   "metadata": {},
   "outputs": [],
   "source": [
    "df_clf['counts'] = df_clf['counts'].apply(np.nanmean)"
   ]
  },
  {
   "cell_type": "code",
   "execution_count": null,
   "metadata": {},
   "outputs": [],
   "source": [
    "engine = inflect.engine()\n",
    "df_clf['counts'] = (df_clf['counts']\n",
    "                    .apply(np.log10)\n",
    "                    .apply(lambda x: max(x, 0))\n",
    "                    .apply(lambda x: engine.number_to_words(int(x)))\n",
    "                   )"
   ]
  },
  {
   "cell_type": "code",
   "execution_count": null,
   "metadata": {
    "scrolled": true
   },
   "outputs": [],
   "source": [
    "df_clf['features'] = df_clf[['geoname', 'diseases', 'counts']].values.tolist()"
   ]
  },
  {
   "cell_type": "code",
   "execution_count": null,
   "metadata": {},
   "outputs": [],
   "source": [
    "df_clf.head()"
   ]
  },
  {
   "cell_type": "markdown",
   "metadata": {},
   "source": [
    "# SpaCy CNN classifier"
   ]
  },
  {
   "cell_type": "code",
   "execution_count": 38,
   "metadata": {},
   "outputs": [],
   "source": [
    "\"\"\"Train a convolutional neural network text classifier on the\n",
    "IMDB dataset, using the TextCategorizer component. The dataset will be loaded\n",
    "automatically via Thinc's built-in dataset loader. The model is added to\n",
    "spacy.pipeline, and predictions are available via `doc.cats`. For more details,\n",
    "see the documentation:\n",
    "* Training: https://spacy.io/usage/training\n",
    "\n",
    "Compatible with: spaCy v2.0.0+\n",
    "\"\"\"\n",
    "from __future__ import unicode_literals, print_function\n",
    "import random\n",
    "from pathlib import Path\n",
    "import thinc.extra.datasets\n",
    "\n",
    "import spacy\n",
    "from spacy.util import minibatch, compounding\n",
    "\n",
    "\n",
    "\n",
    "\n",
    "def main(model=None, output_dir=None, n_iter=20, n_texts=2000, init_tok2vec=None):\n",
    "\n",
    "    output_dir = Path('spacy_output')\n",
    "    if not output_dir.exists():\n",
    "        output_dir.mkdir()\n",
    "\n",
    "\n",
    "    nlp = spacy.blank(\"en\")  # create blank Language class\n",
    "    print(\"Created blank 'en' model\")\n",
    "\n",
    "    # add the text classifier to the pipeline if it doesn't exist\n",
    "    # nlp.create_pipe works for built-ins that are registered with spaCy\n",
    "    textcat = nlp.create_pipe(\n",
    "        \"textcat\",\n",
    "        config={\n",
    "            \"exclusive_classes\": True,\n",
    "            \"architecture\": \"simple_cnn\",\n",
    "        }\n",
    "    )\n",
    "    nlp.add_pipe(textcat, last=True)\n",
    "    # otherwise, get it, so we can add labels to it\n",
    "\n",
    "    # add label to text classifier\n",
    "    textcat.add_label(\"Relevant\")\n",
    "    textcat.add_label(\"Irrelevant\")\n",
    "\n",
    "    # load the IMDB dataset\n",
    "    print(\"Loading data...\")\n",
    "    from sklearn.model_selection import train_test_split\n",
    "    train_texts, dev_texts, train_cats, dev_cats = train_test_split(df_recommand['extracted_text'],\n",
    "                                                                    df_recommand['label'],\n",
    "                                                                    test_size=.2)\n",
    "    \n",
    "    train_cats = [{\"Relevant\": bool(y), \"Irrelevant\": not bool(y)} for y in train_cats]\n",
    "    dev_cats = [{\"Relevant\": bool(y), \"Irrelevant\": not bool(y)} for y in dev_cats]\n",
    "    print(\n",
    "        \"Using ({} training, {} evaluation)\".format(\n",
    "             len(train_texts), len(dev_texts)\n",
    "        )\n",
    "    )\n",
    "    train_data = list(zip(train_texts, [{\"cats\": cats} for cats in train_cats]))\n",
    "\n",
    "    # get names of other pipes to disable them during training\n",
    "    other_pipes = [pipe for pipe in nlp.pipe_names if pipe != \"textcat\"]\n",
    "    with nlp.disable_pipes(*other_pipes):  # only train textcat\n",
    "        optimizer = nlp.begin_training()\n",
    "        if init_tok2vec is not None:\n",
    "            with init_tok2vec.open(\"rb\") as file_:\n",
    "                textcat.model.tok2vec.from_bytes(file_.read())\n",
    "        print(\"Training the model...\")\n",
    "        print(\"{:^5}\\t{:^5}\\t{:^5}\\t{:^5}\".format(\"LOSS\", \"P\", \"R\", \"F\"))\n",
    "        batch_sizes = compounding(4.0, 32.0, 1.001)\n",
    "        for i in range(n_iter):\n",
    "            losses = {}\n",
    "            # batch up the examples using spaCy's minibatch\n",
    "            random.shuffle(train_data)\n",
    "            batches = minibatch(train_data, size=batch_sizes)\n",
    "            for batch in batches:\n",
    "                texts, annotations = zip(*batch)\n",
    "                nlp.update(texts, annotations, sgd=optimizer, drop=0.2, losses=losses)\n",
    "            with textcat.model.use_params(optimizer.averages):\n",
    "                # evaluate on the dev data split off in load_data()\n",
    "                scores = evaluate(nlp.tokenizer, textcat, dev_texts, dev_cats)\n",
    "            print(\n",
    "                \"{0:.3f}\\t{1:.3f}\\t{2:.3f}\\t{3:.3f}\".format(  # print a simple table\n",
    "                    losses[\"textcat\"],\n",
    "                    scores[\"textcat_p\"],\n",
    "                    scores[\"textcat_r\"],\n",
    "                    scores[\"textcat_f\"],\n",
    "                )\n",
    "            )\n",
    "\n",
    "    # test the trained model\n",
    "    test_text = \"This movie sucked\"\n",
    "    doc = nlp(test_text)\n",
    "    print(test_text, doc.cats)\n",
    "\n",
    "    if output_dir is not None:\n",
    "        with nlp.use_params(optimizer.averages):\n",
    "            nlp.to_disk(output_dir)\n",
    "        print(\"Saved model to\", output_dir)\n",
    "\n",
    "        # test the saved model\n",
    "        print(\"Loading from\", output_dir)\n",
    "        nlp2 = spacy.load(output_dir)\n",
    "        doc2 = nlp2(test_text)\n",
    "        print(test_text, doc2.cats)\n",
    "\n",
    "\n",
    "def load_data(limit=0, split=0.8):\n",
    "    \"\"\"Load data from the IMDB dataset.\"\"\"\n",
    "    # Partition off part of the train data for evaluation\n",
    "    train_data, _ = thinc.extra.datasets.imdb()\n",
    "    random.shuffle(train_data)\n",
    "    train_data = train_data[-limit:]\n",
    "    texts, labels = zip(*train_data)\n",
    "    cats = [{\"POSITIVE\": bool(y), \"NEGATIVE\": not bool(y)} for y in labels]\n",
    "    split = int(len(train_data) * split)\n",
    "    return (texts[:split], cats[:split]), (texts[split:], cats[split:])\n",
    "\n",
    "\n",
    "def evaluate(tokenizer, textcat, texts, cats):\n",
    "    docs = (tokenizer(text) for text in texts)\n",
    "    tp = 0.0  # True positives\n",
    "    fp = 1e-8  # False positives\n",
    "    fn = 1e-8  # False negatives\n",
    "    tn = 0.0  # True negatives\n",
    "    for i, doc in enumerate(textcat.pipe(docs)):\n",
    "        gold = cats[i]\n",
    "        for label, score in doc.cats.items():\n",
    "            if label not in gold:\n",
    "                continue\n",
    "            if label == \"NEGATIVE\":\n",
    "                continue\n",
    "            if score >= 0.5 and gold[label] >= 0.5:\n",
    "                tp += 1.0\n",
    "            elif score >= 0.5 and gold[label] < 0.5:\n",
    "                fp += 1.0\n",
    "            elif score < 0.5 and gold[label] < 0.5:\n",
    "                tn += 1\n",
    "            elif score < 0.5 and gold[label] >= 0.5:\n",
    "                fn += 1\n",
    "    precision = tp / (tp + fp)\n",
    "    recall = tp / (tp + fn)\n",
    "    if (precision + recall) == 0:\n",
    "        f_score = 0.0\n",
    "    else:\n",
    "        f_score = 2 * (precision * recall) / (precision + recall)\n",
    "    return {\"textcat_p\": precision, \"textcat_r\": recall, \"textcat_f\": f_score}\n"
   ]
  },
  {
   "cell_type": "code",
   "execution_count": 39,
   "metadata": {},
   "outputs": [
    {
     "name": "stdout",
     "output_type": "stream",
     "text": [
      "Created blank 'en' model\n",
      "Loading data...\n",
      "Using (2585 training, 647 evaluation)\n",
      "Warning: Unnamed vectors -- this won't allow multiple vectors models to be loaded. (Shape: (0, 0))\n",
      "Training the model...\n",
      "LOSS \t  P  \t  R  \t  F  \n",
      "51.276\t0.949\t0.949\t0.949\n",
      "30.055\t0.949\t0.949\t0.949\n",
      "19.813\t0.949\t0.949\t0.949\n",
      "14.090\t0.950\t0.947\t0.949\n",
      "10.931\t0.949\t0.947\t0.948\n",
      "9.297\t0.949\t0.947\t0.948\n",
      "7.855\t0.949\t0.949\t0.949\n",
      "6.298\t0.950\t0.946\t0.948\n",
      "4.783\t0.949\t0.946\t0.947\n",
      "3.346\t0.949\t0.944\t0.947\n",
      "2.780\t0.947\t0.944\t0.946\n",
      "2.375\t0.947\t0.943\t0.945\n",
      "2.255\t0.947\t0.941\t0.944\n",
      "2.060\t0.947\t0.940\t0.943\n",
      "2.084\t0.945\t0.938\t0.942\n",
      "1.964\t0.947\t0.938\t0.943\n",
      "1.817\t0.947\t0.938\t0.943\n",
      "1.781\t0.947\t0.938\t0.943\n",
      "1.721\t0.948\t0.938\t0.943\n",
      "1.718\t0.950\t0.938\t0.944\n",
      "This movie sucked {'Relevant': 0.03190074488520622, 'Irrelevant': 0.5072120428085327}\n",
      "Saved model to spacy_output\n",
      "Loading from spacy_output\n",
      "This movie sucked {'Relevant': 0.026244087144732475, 'Irrelevant': 0.5144514441490173}\n"
     ]
    }
   ],
   "source": [
    "main()"
   ]
  },
  {
   "cell_type": "markdown",
   "metadata": {},
   "source": [
    "## Oversample"
   ]
  },
  {
   "cell_type": "code",
   "execution_count": 103,
   "metadata": {},
   "outputs": [],
   "source": [
    "import sklearn\n",
    "import sklearn.model_selection as ms\n",
    "import sklearn.feature_extraction.text as text\n",
    "import sklearn.naive_bayes as nb\n",
    "from sklearn.ensemble import RandomForestClassifier\n",
    "from sklearn.metrics import classification_report, confusion_matrix"
   ]
  },
  {
   "cell_type": "code",
   "execution_count": 59,
   "metadata": {},
   "outputs": [
    {
     "ename": "NameError",
     "evalue": "name 'TfidfVectorizer' is not defined",
     "output_type": "error",
     "traceback": [
      "\u001b[0;31m---------------------------------------------------------------------------\u001b[0m",
      "\u001b[0;31mNameError\u001b[0m                                 Traceback (most recent call last)",
      "\u001b[0;32m<ipython-input-59-84048ed548cc>\u001b[0m in \u001b[0;36m<module>\u001b[0;34m\u001b[0m\n\u001b[1;32m      1\u001b[0m \u001b[0;32mfrom\u001b[0m \u001b[0mimblearn\u001b[0m\u001b[0;34m.\u001b[0m\u001b[0mpipeline\u001b[0m \u001b[0;32mimport\u001b[0m \u001b[0mPipeline\u001b[0m\u001b[0;34m\u001b[0m\u001b[0;34m\u001b[0m\u001b[0m\n\u001b[0;32m----> 2\u001b[0;31m pipe1 = Pipeline(TfidfVectorizer(),\n\u001b[0m\u001b[1;32m      3\u001b[0m                          \u001b[0mADASYN\u001b[0m\u001b[0;34m(\u001b[0m\u001b[0;34m)\u001b[0m\u001b[0;34m,\u001b[0m\u001b[0;34m\u001b[0m\u001b[0;34m\u001b[0m\u001b[0m\n\u001b[1;32m      4\u001b[0m                          MultinomialNB())\n\u001b[1;32m      5\u001b[0m pipe2 = Pipeline(TfidfVectorizer(),\n",
      "\u001b[0;31mNameError\u001b[0m: name 'TfidfVectorizer' is not defined"
     ]
    }
   ],
   "source": [
    "from imblearn.pipeline import Pipeline\n",
    "pipe1 = Pipeline(TfidfVectorizer(),\n",
    "                         ADASYN(),\n",
    "                         MultinomialNB())\n",
    "pipe2 = Pipeline(TfidfVectorizer(),\n",
    "                         ADASYN(),\n",
    "                         MultinomialNB())\n",
    "pipe3 = Pipeline(TfidfVectorizer(),\n",
    "                         MultinomialNB())"
   ]
  },
  {
   "cell_type": "code",
   "execution_count": 43,
   "metadata": {},
   "outputs": [
    {
     "ename": "NameError",
     "evalue": "name 'to_train_d' is not defined",
     "output_type": "error",
     "traceback": [
      "\u001b[0;31m---------------------------------------------------------------------------\u001b[0m",
      "\u001b[0;31mNameError\u001b[0m                                 Traceback (most recent call last)",
      "\u001b[0;32m<ipython-input-43-0a3f94010f1a>\u001b[0m in \u001b[0;36m<module>\u001b[0;34m\u001b[0m\n\u001b[1;32m      1\u001b[0m \u001b[0;34m\u001b[0m\u001b[0m\n\u001b[0;32m----> 2\u001b[0;31m \u001b[0mcount\u001b[0m \u001b[0;34m=\u001b[0m \u001b[0mto_train_d\u001b[0m\u001b[0;34m[\u001b[0m\u001b[0;34m'counts'\u001b[0m\u001b[0;34m]\u001b[0m\u001b[0;34m.\u001b[0m\u001b[0mreplace\u001b[0m\u001b[0;34m(\u001b[0m\u001b[0;34m-\u001b[0m\u001b[0mnp\u001b[0m\u001b[0;34m.\u001b[0m\u001b[0minf\u001b[0m\u001b[0;34m,\u001b[0m \u001b[0;36m0.\u001b[0m\u001b[0;34m)\u001b[0m\u001b[0;34m.\u001b[0m\u001b[0mapply\u001b[0m\u001b[0;34m(\u001b[0m\u001b[0mint\u001b[0m\u001b[0;34m)\u001b[0m\u001b[0;34m.\u001b[0m\u001b[0mapply\u001b[0m\u001b[0;34m(\u001b[0m\u001b[0;32mlambda\u001b[0m \u001b[0mx\u001b[0m\u001b[0;34m:\u001b[0m \u001b[0mp\u001b[0m\u001b[0;34m.\u001b[0m\u001b[0mnumber_to_words\u001b[0m\u001b[0;34m(\u001b[0m\u001b[0mx\u001b[0m\u001b[0;34m)\u001b[0m\u001b[0;34m)\u001b[0m\u001b[0;34m\u001b[0m\u001b[0;34m\u001b[0m\u001b[0m\n\u001b[0m",
      "\u001b[0;31mNameError\u001b[0m: name 'to_train_d' is not defined"
     ]
    }
   ],
   "source": [
    "\n",
    "count = to_train_d['counts'].replace(-np.inf, 0.).apply(int).apply(lambda x: p.number_to_words(x))"
   ]
  },
  {
   "cell_type": "code",
   "execution_count": 44,
   "metadata": {},
   "outputs": [
    {
     "ename": "NameError",
     "evalue": "name 'to_train_d' is not defined",
     "output_type": "error",
     "traceback": [
      "\u001b[0;31m---------------------------------------------------------------------------\u001b[0m",
      "\u001b[0;31mNameError\u001b[0m                                 Traceback (most recent call last)",
      "\u001b[0;32m<ipython-input-44-59de0261e491>\u001b[0m in \u001b[0;36m<module>\u001b[0;34m\u001b[0m\n\u001b[0;32m----> 1\u001b[0;31m \u001b[0mto_train_d\u001b[0m\u001b[0;34m[\u001b[0m\u001b[0;34m'features'\u001b[0m\u001b[0;34m]\u001b[0m \u001b[0;34m=\u001b[0m \u001b[0mto_train_d\u001b[0m\u001b[0;34m[\u001b[0m\u001b[0;34m'features'\u001b[0m\u001b[0;34m]\u001b[0m\u001b[0;34m.\u001b[0m\u001b[0mapply\u001b[0m\u001b[0;34m(\u001b[0m\u001b[0;32mlambda\u001b[0m \u001b[0mx\u001b[0m\u001b[0;34m:\u001b[0m \u001b[0;34m' '\u001b[0m\u001b[0;34m.\u001b[0m\u001b[0mjoin\u001b[0m\u001b[0;34m(\u001b[0m\u001b[0mx\u001b[0m\u001b[0;34m)\u001b[0m\u001b[0;34m)\u001b[0m\u001b[0;34m\u001b[0m\u001b[0;34m\u001b[0m\u001b[0m\n\u001b[0m",
      "\u001b[0;31mNameError\u001b[0m: name 'to_train_d' is not defined"
     ]
    }
   ],
   "source": [
    "to_train_d['features'] = to_train_d['features'].apply(lambda x: ' '.join(x))"
   ]
  },
  {
   "cell_type": "code",
   "execution_count": 42,
   "metadata": {},
   "outputs": [
    {
     "ename": "NameError",
     "evalue": "name 'df' is not defined",
     "output_type": "error",
     "traceback": [
      "\u001b[0;31m---------------------------------------------------------------------------\u001b[0m",
      "\u001b[0;31mNameError\u001b[0m                                 Traceback (most recent call last)",
      "\u001b[0;32m<ipython-input-42-802bb47af98b>\u001b[0m in \u001b[0;36m<module>\u001b[0;34m\u001b[0m\n\u001b[1;32m      1\u001b[0m \u001b[0;34m(\u001b[0m\u001b[0mX_train\u001b[0m\u001b[0;34m,\u001b[0m \u001b[0mX_test\u001b[0m\u001b[0;34m,\u001b[0m \u001b[0my_train\u001b[0m\u001b[0;34m,\u001b[0m \u001b[0my_test\u001b[0m\u001b[0;34m)\u001b[0m \u001b[0;34m=\u001b[0m\u001b[0;31m \u001b[0m\u001b[0;31m\\\u001b[0m\u001b[0;34m\u001b[0m\u001b[0;34m\u001b[0m\u001b[0m\n\u001b[0;32m----> 2\u001b[0;31m     \u001b[0mms\u001b[0m\u001b[0;34m.\u001b[0m\u001b[0mtrain_test_split\u001b[0m\u001b[0;34m(\u001b[0m\u001b[0mdf\u001b[0m\u001b[0;34m[\u001b[0m\u001b[0;34m'annotated'\u001b[0m\u001b[0;34m]\u001b[0m\u001b[0;34m,\u001b[0m \u001b[0mdf\u001b[0m\u001b[0;34m[\u001b[0m\u001b[0;34m'label'\u001b[0m\u001b[0;34m]\u001b[0m\u001b[0;34m,\u001b[0m \u001b[0mtest_size\u001b[0m\u001b[0;34m=\u001b[0m\u001b[0;36m.2\u001b[0m\u001b[0;34m)\u001b[0m\u001b[0;34m\u001b[0m\u001b[0;34m\u001b[0m\u001b[0m\n\u001b[0m\u001b[1;32m      3\u001b[0m \u001b[0my_balanced\u001b[0m \u001b[0;34m=\u001b[0m \u001b[0mcompute_sample_weight\u001b[0m\u001b[0;34m(\u001b[0m\u001b[0mclass_weight\u001b[0m\u001b[0;34m=\u001b[0m\u001b[0;34m'balanced'\u001b[0m\u001b[0;34m,\u001b[0m \u001b[0my\u001b[0m\u001b[0;34m=\u001b[0m\u001b[0my_train\u001b[0m\u001b[0;34m)\u001b[0m\u001b[0;34m\u001b[0m\u001b[0;34m\u001b[0m\u001b[0m\n",
      "\u001b[0;31mNameError\u001b[0m: name 'df' is not defined"
     ]
    }
   ],
   "source": [
    "(X_train, X_test, y_train, y_test) = \\\n",
    "    ms.train_test_split(df['annotated'], df['label'], test_size=.2)\n",
    "y_balanced = compute_sample_weight(class_weight='balanced', y=y_train)"
   ]
  },
  {
   "cell_type": "code",
   "execution_count": null,
   "metadata": {},
   "outputs": [],
   "source": []
  },
  {
   "cell_type": "code",
   "execution_count": null,
   "metadata": {},
   "outputs": [],
   "source": [
    "# pipe1.fit(X_train, y_train)\n",
    "# pipe2.fit(X_train, y_train)\n",
    "pipe3.fit(X_train, y_train)"
   ]
  },
  {
   "cell_type": "code",
   "execution_count": null,
   "metadata": {},
   "outputs": [],
   "source": [
    "pipe.fit(X_train, y_train)\n",
    "y_pred = pipe.predict(X_train)"
   ]
  },
  {
   "cell_type": "code",
   "execution_count": 104,
   "metadata": {},
   "outputs": [],
   "source": [
    "from sklearn.metrics import classification_report"
   ]
  },
  {
   "cell_type": "code",
   "execution_count": null,
   "metadata": {},
   "outputs": [],
   "source": [
    "print(classification_report(y_pred, y_train))  #  TEXT WITHOUT STOPWORDS"
   ]
  },
  {
   "cell_type": "code",
   "execution_count": null,
   "metadata": {},
   "outputs": [],
   "source": [
    "print(classification_report_imbalanced(y_test, y_pred))  #  TEXT WITHOUT STOPWORDS"
   ]
  },
  {
   "cell_type": "code",
   "execution_count": null,
   "metadata": {},
   "outputs": [],
   "source": [
    "print(classification_report_imbalanced(y_test, y_pred))  #  TEXT WITHOUT STOPWORDS"
   ]
  },
  {
   "cell_type": "code",
   "execution_count": null,
   "metadata": {},
   "outputs": [],
   "source": [
    "print(classification_report_imbalanced(y_test, y_pred))  # RAW TEXT"
   ]
  },
  {
   "cell_type": "code",
   "execution_count": null,
   "metadata": {},
   "outputs": [],
   "source": [
    "print(classification_report_imbalanced(y_test, y_pred))  # COMBINED"
   ]
  },
  {
   "cell_type": "code",
   "execution_count": null,
   "metadata": {},
   "outputs": [],
   "source": [
    "print(classification_report_imbalanced(y_test, y_pred))  # DISEASE"
   ]
  },
  {
   "cell_type": "code",
   "execution_count": null,
   "metadata": {},
   "outputs": [],
   "source": [
    "print(classification_report_imbalanced(y_test, y_pred))  # GEONAME"
   ]
  },
  {
   "cell_type": "code",
   "execution_count": null,
   "metadata": {},
   "outputs": [],
   "source": [
    "print(classification_report_imbalanced(y_test, y_pred))  # COUNT"
   ]
  },
  {
   "cell_type": "code",
   "execution_count": null,
   "metadata": {},
   "outputs": [],
   "source": [
    "set(y_balanced)"
   ]
  },
  {
   "cell_type": "code",
   "execution_count": null,
   "metadata": {},
   "outputs": [],
   "source": [
    "y_balanced = y_balanced/min(y_balanced)"
   ]
  },
  {
   "cell_type": "code",
   "execution_count": null,
   "metadata": {},
   "outputs": [],
   "source": [
    "y_balanced = [int(np.ceil(i)) for i in y_balanced]"
   ]
  },
  {
   "cell_type": "code",
   "execution_count": null,
   "metadata": {},
   "outputs": [],
   "source": [
    "y_test = [int(np.ceil(i)) for i in y_test]"
   ]
  },
  {
   "cell_type": "code",
   "execution_count": null,
   "metadata": {},
   "outputs": [],
   "source": [
    "set(y_balanced)"
   ]
  },
  {
   "cell_type": "code",
   "execution_count": null,
   "metadata": {},
   "outputs": [],
   "source": [
    "pipe.fit(X_train, y_balanced)\n",
    "y_pred = pipe.predict(X_test)"
   ]
  },
  {
   "cell_type": "code",
   "execution_count": null,
   "metadata": {},
   "outputs": [],
   "source": [
    "print(classification_report_imbalanced(y_test, y_pred))  #  weighted"
   ]
  },
  {
   "cell_type": "code",
   "execution_count": 105,
   "metadata": {},
   "outputs": [],
   "source": [
    "from sklearn.utils.class_weight import compute_sample_weight"
   ]
  },
  {
   "cell_type": "code",
   "execution_count": null,
   "metadata": {},
   "outputs": [],
   "source": [
    "tf = text.TfidfVectorizer()\n",
    "X = tf.fit_transform(to_train_d['geoname'])\n",
    "y = to_train_d['label'].apply(int)\n",
    "y_balanced = compute_sample_weight(class_weight='balanced', y=y)"
   ]
  },
  {
   "cell_type": "code",
   "execution_count": null,
   "metadata": {},
   "outputs": [],
   "source": [
    "p = 100 * X.nnz / float(X.shape[0] * X.shape[1])\n",
    "print(f\"Each sample has ~{p:.2f}% non-zero features.\")\n"
   ]
  },
  {
   "cell_type": "code",
   "execution_count": null,
   "metadata": {},
   "outputs": [],
   "source": [
    "(X_train, X_test, y_train, y_test) = \\\n",
    "    ms.train_test_split(X, y, test_size=.2)"
   ]
  },
  {
   "cell_type": "code",
   "execution_count": null,
   "metadata": {},
   "outputs": [],
   "source": [
    "bnb = ms.GridSearchCV(\n",
    "    nb.BernoulliNB(),\n",
    "    param_grid={'alpha': np.logspace(-2., 2., 50)})\n",
    "bnb.fit(X_train, y_train)"
   ]
  },
  {
   "cell_type": "code",
   "execution_count": null,
   "metadata": {},
   "outputs": [],
   "source": [
    "bnb.score(X_test, y_test)\n"
   ]
  },
  {
   "cell_type": "code",
   "execution_count": null,
   "metadata": {},
   "outputs": [],
   "source": [
    "predicted = bnb.predict(X_test)"
   ]
  },
  {
   "cell_type": "code",
   "execution_count": null,
   "metadata": {},
   "outputs": [],
   "source": [
    "print(metrics.classification_report(y_test, predicted))\n",
    "print(metrics.confusion_matrix(y_test, predicted))"
   ]
  },
  {
   "cell_type": "code",
   "execution_count": null,
   "metadata": {},
   "outputs": [],
   "source": [
    "# We first get the words corresponding to each feature\n",
    "names = np.asarray(tf.get_feature_names())\n",
    "# Next, we display the 50 words with the largest\n",
    "# coefficients.\n",
    "print(','.join(names[np.argsort(\n",
    "    bnb.best_estimator_.coef_[0, :])[::-1][:50]]))"
   ]
  },
  {
   "cell_type": "markdown",
   "metadata": {},
   "source": [
    "# Embeddings"
   ]
  },
  {
   "cell_type": "code",
   "execution_count": 106,
   "metadata": {},
   "outputs": [],
   "source": [
    "%matplotlib inline  \n",
    "import pandas as pd\n",
    "import numpy as np\n",
    "import matplotlib.pyplot as plt\n",
    "from nltk.tokenize import word_tokenize\n",
    "from imblearn.under_sampling import RandomUnderSampler\n",
    "from imblearn.over_sampling import RandomOverSampler, ADASYN\n",
    "from sklearn.model_selection import GridSearchCV\n",
    "from sklearn.preprocessing import scale\n",
    "from sklearn.metrics import f1_score\n",
    "from sklearn.metrics import roc_curve\n",
    "from sklearn.base import TransformerMixin\n",
    "from sklearn.neural_network import MLPClassifier\n",
    "from sklearn.linear_model import LogisticRegression\n",
    "from sklearn.pipeline import Pipeline\n",
    "from sklearn.neighbors import KNeighborsClassifier\n",
    "from sklearn.tree import DecisionTreeClassifier\n",
    "from sklearn.metrics import roc_auc_score\n",
    "from sklearn.preprocessing import LabelEncoder\n",
    "from sklearn.model_selection import train_test_split\n",
    "from sklearn.feature_extraction.text import CountVectorizer\n",
    "from sklearn.feature_extraction.text import TfidfTransformer\n",
    "from sklearn.ensemble import RandomForestClassifier\n",
    "from sklearn.metrics import confusion_matrix, classification\n",
    "from sklearn.naive_bayes import MultinomialNB\n",
    "from sklearn.svm import SVC\n",
    "from sklearn.svm import LinearSVC"
   ]
  },
  {
   "cell_type": "code",
   "execution_count": 115,
   "metadata": {},
   "outputs": [],
   "source": [
    "class MeanEmbeddingTransformer(TransformerMixin):\n",
    "    \n",
    "    def __init__(self):\n",
    "        self._vocab, self._E = self._load_words()\n",
    "        \n",
    "    \n",
    "    def _load_words(self):\n",
    "        E = {}\n",
    "        vocab = []\n",
    "\n",
    "        with open('nlp_surveillance/glove.6B.50d.txt', 'r', encoding=\"utf8\") as file:\n",
    "            for i, line in enumerate(file):\n",
    "                l = line.split(' ')\n",
    "                if l[0].isalpha():\n",
    "                    v = [float(i) for i in l[1:]]\n",
    "                    E[l[0]] = np.array(v)\n",
    "                    vocab.append(l[0])\n",
    "        return np.array(vocab), E            \n",
    "\n",
    "    \n",
    "    def _get_word(self, v):\n",
    "        for i, emb in enumerate(self._E):\n",
    "            if np.array_equal(emb, v):\n",
    "                return self._vocab[i]\n",
    "        return None\n",
    "    \n",
    "    def _doc_mean(self, doc):\n",
    "        return np.mean(np.array([self._E[w.lower().strip()] for w in doc if w.lower().strip() in self._E]), axis=0)\n",
    "    \n",
    "    def fit(self, X, y=None):\n",
    "        return self\n",
    "    \n",
    "    def transform(self, X):\n",
    "        return np.array([self._doc_mean(doc) for doc in X])\n",
    "    \n",
    "    def fit_transform(self, X, y=None):\n",
    "        return self.fit(X).transform(X)"
   ]
  },
  {
   "cell_type": "code",
   "execution_count": 116,
   "metadata": {},
   "outputs": [],
   "source": [
    "def plot_roc(clf, X_test, y_test):\n",
    "    y_pred = clf.predict_proba(X_test)\n",
    "    fpr, tpr, _ = roc_curve(y_test, y_pred[:,1])\n",
    "    plt.plot(fpr, tpr)\n",
    "    plt.xlabel('FPR')\n",
    "    plt.ylabel('TPR')\n",
    "    \n",
    "def print_scores(clf, X_train, y_train, X_test, y_test):\n",
    "    clf.fit(X_train, y_train)\n",
    "    y_pred = clf.predict_proba(X_test)\n",
    "#     print(classification.accuracy_score(y_test, y_pred.round(), normalize=False))\n",
    "#     print(confusion_matrix(y_pred,y_test))\n",
    "#     print('F1 score: {:3f}'.format(f1_score(y_test, y_pred.round())))\n",
    "#     print('AUC score: {:3f}'.format(roc_auc_score(y_test, y_pred)))"
   ]
  },
  {
   "cell_type": "code",
   "execution_count": 117,
   "metadata": {},
   "outputs": [],
   "source": [
    "import pandas as pd\n",
    "df = pd.read_csv('data/recommender/with_label.csv')"
   ]
  },
  {
   "cell_type": "code",
   "execution_count": 118,
   "metadata": {},
   "outputs": [
    {
     "data": {
      "text/plain": [
       "16167717"
      ]
     },
     "execution_count": 118,
     "metadata": {},
     "output_type": "execute_result"
    }
   ],
   "source": [
    "df.memory_usage(deep=True).sum()"
   ]
  },
  {
   "cell_type": "code",
   "execution_count": 119,
   "metadata": {},
   "outputs": [
    {
     "data": {
      "text/plain": [
       "False    3077\n",
       "True      155\n",
       "Name: label, dtype: int64"
      ]
     },
     "execution_count": 119,
     "metadata": {},
     "output_type": "execute_result"
    }
   ],
   "source": [
    "df['label'].value_counts()"
   ]
  },
  {
   "cell_type": "code",
   "execution_count": 120,
   "metadata": {},
   "outputs": [],
   "source": [
    "X = df['extracted_text'].values\n",
    "y = df['label'].values"
   ]
  },
  {
   "cell_type": "code",
   "execution_count": 121,
   "metadata": {},
   "outputs": [],
   "source": [
    "def tokenize_and_transform(X, sample_size):\n",
    "    essays1 = X\n",
    "    tok_es1 = [word_tokenize(doc) for doc in essays1[:sample_size]]\n",
    "    met = MeanEmbeddingTransformer()\n",
    "    X_transform = met.fit_transform(tok_es1)\n",
    "    return X_transform"
   ]
  },
  {
   "cell_type": "code",
   "execution_count": 122,
   "metadata": {},
   "outputs": [
    {
     "ename": "FileNotFoundError",
     "evalue": "[Errno 2] No such file or directory: 'nlp_surveillance/glove.6B.50d.txt'",
     "output_type": "error",
     "traceback": [
      "\u001b[0;31m---------------------------------------------------------------------------\u001b[0m",
      "\u001b[0;31mFileNotFoundError\u001b[0m                         Traceback (most recent call last)",
      "\u001b[0;32m<ipython-input-122-18b301ed6d6d>\u001b[0m in \u001b[0;36m<module>\u001b[0;34m\u001b[0m\n\u001b[0;32m----> 1\u001b[0;31m \u001b[0mX_transform\u001b[0m \u001b[0;34m=\u001b[0m \u001b[0mtokenize_and_transform\u001b[0m\u001b[0;34m(\u001b[0m\u001b[0mX\u001b[0m\u001b[0;34m,\u001b[0m \u001b[0;36m3200\u001b[0m\u001b[0;34m)\u001b[0m\u001b[0;34m\u001b[0m\u001b[0;34m\u001b[0m\u001b[0m\n\u001b[0m",
      "\u001b[0;32m<ipython-input-121-4bddf42d54d7>\u001b[0m in \u001b[0;36mtokenize_and_transform\u001b[0;34m(X, sample_size)\u001b[0m\n\u001b[1;32m      2\u001b[0m     \u001b[0messays1\u001b[0m \u001b[0;34m=\u001b[0m \u001b[0mX\u001b[0m\u001b[0;34m\u001b[0m\u001b[0;34m\u001b[0m\u001b[0m\n\u001b[1;32m      3\u001b[0m     \u001b[0mtok_es1\u001b[0m \u001b[0;34m=\u001b[0m \u001b[0;34m[\u001b[0m\u001b[0mword_tokenize\u001b[0m\u001b[0;34m(\u001b[0m\u001b[0mdoc\u001b[0m\u001b[0;34m)\u001b[0m \u001b[0;32mfor\u001b[0m \u001b[0mdoc\u001b[0m \u001b[0;32min\u001b[0m \u001b[0messays1\u001b[0m\u001b[0;34m[\u001b[0m\u001b[0;34m:\u001b[0m\u001b[0msample_size\u001b[0m\u001b[0;34m]\u001b[0m\u001b[0;34m]\u001b[0m\u001b[0;34m\u001b[0m\u001b[0;34m\u001b[0m\u001b[0m\n\u001b[0;32m----> 4\u001b[0;31m     \u001b[0mmet\u001b[0m \u001b[0;34m=\u001b[0m \u001b[0mMeanEmbeddingTransformer\u001b[0m\u001b[0;34m(\u001b[0m\u001b[0;34m)\u001b[0m\u001b[0;34m\u001b[0m\u001b[0;34m\u001b[0m\u001b[0m\n\u001b[0m\u001b[1;32m      5\u001b[0m     \u001b[0mX_transform\u001b[0m \u001b[0;34m=\u001b[0m \u001b[0mmet\u001b[0m\u001b[0;34m.\u001b[0m\u001b[0mfit_transform\u001b[0m\u001b[0;34m(\u001b[0m\u001b[0mtok_es1\u001b[0m\u001b[0;34m)\u001b[0m\u001b[0;34m\u001b[0m\u001b[0;34m\u001b[0m\u001b[0m\n\u001b[1;32m      6\u001b[0m     \u001b[0;32mreturn\u001b[0m \u001b[0mX_transform\u001b[0m\u001b[0;34m\u001b[0m\u001b[0;34m\u001b[0m\u001b[0m\n",
      "\u001b[0;32m<ipython-input-115-b26e3e58f190>\u001b[0m in \u001b[0;36m__init__\u001b[0;34m(self)\u001b[0m\n\u001b[1;32m      2\u001b[0m \u001b[0;34m\u001b[0m\u001b[0m\n\u001b[1;32m      3\u001b[0m     \u001b[0;32mdef\u001b[0m \u001b[0m__init__\u001b[0m\u001b[0;34m(\u001b[0m\u001b[0mself\u001b[0m\u001b[0;34m)\u001b[0m\u001b[0;34m:\u001b[0m\u001b[0;34m\u001b[0m\u001b[0;34m\u001b[0m\u001b[0m\n\u001b[0;32m----> 4\u001b[0;31m         \u001b[0mself\u001b[0m\u001b[0;34m.\u001b[0m\u001b[0m_vocab\u001b[0m\u001b[0;34m,\u001b[0m \u001b[0mself\u001b[0m\u001b[0;34m.\u001b[0m\u001b[0m_E\u001b[0m \u001b[0;34m=\u001b[0m \u001b[0mself\u001b[0m\u001b[0;34m.\u001b[0m\u001b[0m_load_words\u001b[0m\u001b[0;34m(\u001b[0m\u001b[0;34m)\u001b[0m\u001b[0;34m\u001b[0m\u001b[0;34m\u001b[0m\u001b[0m\n\u001b[0m\u001b[1;32m      5\u001b[0m \u001b[0;34m\u001b[0m\u001b[0m\n\u001b[1;32m      6\u001b[0m \u001b[0;34m\u001b[0m\u001b[0m\n",
      "\u001b[0;32m<ipython-input-115-b26e3e58f190>\u001b[0m in \u001b[0;36m_load_words\u001b[0;34m(self)\u001b[0m\n\u001b[1;32m      9\u001b[0m         \u001b[0mvocab\u001b[0m \u001b[0;34m=\u001b[0m \u001b[0;34m[\u001b[0m\u001b[0;34m]\u001b[0m\u001b[0;34m\u001b[0m\u001b[0;34m\u001b[0m\u001b[0m\n\u001b[1;32m     10\u001b[0m \u001b[0;34m\u001b[0m\u001b[0m\n\u001b[0;32m---> 11\u001b[0;31m         \u001b[0;32mwith\u001b[0m \u001b[0mopen\u001b[0m\u001b[0;34m(\u001b[0m\u001b[0;34m'nlp_surveillance/glove.6B.50d.txt'\u001b[0m\u001b[0;34m,\u001b[0m \u001b[0;34m'r'\u001b[0m\u001b[0;34m,\u001b[0m \u001b[0mencoding\u001b[0m\u001b[0;34m=\u001b[0m\u001b[0;34m\"utf8\"\u001b[0m\u001b[0;34m)\u001b[0m \u001b[0;32mas\u001b[0m \u001b[0mfile\u001b[0m\u001b[0;34m:\u001b[0m\u001b[0;34m\u001b[0m\u001b[0;34m\u001b[0m\u001b[0m\n\u001b[0m\u001b[1;32m     12\u001b[0m             \u001b[0;32mfor\u001b[0m \u001b[0mi\u001b[0m\u001b[0;34m,\u001b[0m \u001b[0mline\u001b[0m \u001b[0;32min\u001b[0m \u001b[0menumerate\u001b[0m\u001b[0;34m(\u001b[0m\u001b[0mfile\u001b[0m\u001b[0;34m)\u001b[0m\u001b[0;34m:\u001b[0m\u001b[0;34m\u001b[0m\u001b[0;34m\u001b[0m\u001b[0m\n\u001b[1;32m     13\u001b[0m                 \u001b[0ml\u001b[0m \u001b[0;34m=\u001b[0m \u001b[0mline\u001b[0m\u001b[0;34m.\u001b[0m\u001b[0msplit\u001b[0m\u001b[0;34m(\u001b[0m\u001b[0;34m' '\u001b[0m\u001b[0;34m)\u001b[0m\u001b[0;34m\u001b[0m\u001b[0;34m\u001b[0m\u001b[0m\n",
      "\u001b[0;31mFileNotFoundError\u001b[0m: [Errno 2] No such file or directory: 'nlp_surveillance/glove.6B.50d.txt'"
     ]
    }
   ],
   "source": [
    "X_transform = tokenize_and_transform(X, 3200)"
   ]
  },
  {
   "cell_type": "code",
   "execution_count": null,
   "metadata": {},
   "outputs": [],
   "source": [
    "np.savetxt('X_embed.csv', X_transform, delimiter=',')"
   ]
  },
  {
   "cell_type": "code",
   "execution_count": null,
   "metadata": {},
   "outputs": [],
   "source": [
    "X_transform = np.loadtxt('X_embed.csv', delimiter=',')"
   ]
  },
  {
   "cell_type": "code",
   "execution_count": null,
   "metadata": {},
   "outputs": [],
   "source": [
    "np.shape(X_transform)"
   ]
  },
  {
   "cell_type": "code",
   "execution_count": 72,
   "metadata": {},
   "outputs": [
    {
     "data": {
      "text/plain": [
       "(3200, 50)"
      ]
     },
     "execution_count": 72,
     "metadata": {},
     "output_type": "execute_result"
    }
   ],
   "source": [
    "np.shape(X_transform)"
   ]
  },
  {
   "cell_type": "code",
   "execution_count": 73,
   "metadata": {},
   "outputs": [
    {
     "data": {
      "text/plain": [
       "(3232,)"
      ]
     },
     "execution_count": 73,
     "metadata": {},
     "output_type": "execute_result"
    }
   ],
   "source": [
    "np.shape(y)"
   ]
  },
  {
   "cell_type": "code",
   "execution_count": 74,
   "metadata": {},
   "outputs": [],
   "source": [
    "# X_train, X_test, y_train, y_test = train_test_split(X_resample,\n",
    "#                                                     y_resample, stratify=y_resample, random_state=0)\n",
    "\n"
   ]
  },
  {
   "cell_type": "code",
   "execution_count": 75,
   "metadata": {},
   "outputs": [],
   "source": [
    "X_train, X_test, y_train, y_test = train_test_split(X_transform,\n",
    "                                                    y[:3200], random_state=0)\n",
    "ada = ADASYN(random_state=0)\n",
    "X_resample, y_resample = ada.fit_sample(X_train, y_train)\n"
   ]
  },
  {
   "cell_type": "code",
   "execution_count": 76,
   "metadata": {},
   "outputs": [],
   "source": [
    "rus = RandomOverSampler(random_state=0)\n",
    "X_resample, y_resample = rus.fit_sample(X_transform, y[:X_transform.shape[0]])"
   ]
  },
  {
   "cell_type": "code",
   "execution_count": 77,
   "metadata": {},
   "outputs": [
    {
     "name": "stderr",
     "output_type": "stream",
     "text": [
      "/home/auss/miniconda3/envs/rki/lib/python3.7/site-packages/sklearn/linear_model/logistic.py:433: FutureWarning: Default solver will be changed to 'lbfgs' in 0.22. Specify a solver to silence this warning.\n",
      "  FutureWarning)\n"
     ]
    },
    {
     "data": {
      "image/png": "[encoded data removed]",
      "text/plain": [
       "<Figure size 432x288 with 1 Axes>"
      ]
     },
     "metadata": {
      "needs_background": "light"
     },
     "output_type": "display_data"
    }
   ],
   "source": [
    "lr = LogisticRegression()\n",
    "print_scores(lr, X_resample, y_resample, X_test, y_test)\n",
    "plot_roc(lr, X_test, y_test)"
   ]
  },
  {
   "cell_type": "code",
   "execution_count": 79,
   "metadata": {},
   "outputs": [
    {
     "data": {
      "image/png": "[encoded data removed]",
      "text/plain": [
       "<Figure size 432x288 with 1 Axes>"
      ]
     },
     "metadata": {
      "needs_background": "light"
     },
     "output_type": "display_data"
    }
   ],
   "source": [
    "knn = KNeighborsClassifier()\n",
    "print_scores(knn, X_resample, y_resample, X_test, y_test)\n",
    "plot_roc(knn, X_test, y_test)"
   ]
  },
  {
   "cell_type": "code",
   "execution_count": 80,
   "metadata": {},
   "outputs": [
    {
     "name": "stderr",
     "output_type": "stream",
     "text": [
      "/home/auss/miniconda3/envs/rki/lib/python3.7/site-packages/sklearn/ensemble/forest.py:246: FutureWarning: The default value of n_estimators will change from 10 in version 0.20 to 100 in 0.22.\n",
      "  \"10 in version 0.20 to 100 in 0.22.\", FutureWarning)\n"
     ]
    },
    {
     "data": {
      "image/png": "[encoded data removed]",
      "text/plain": [
       "<Figure size 432x288 with 1 Axes>"
      ]
     },
     "metadata": {
      "needs_background": "light"
     },
     "output_type": "display_data"
    }
   ],
   "source": [
    "rf = RandomForestClassifier().fit(X_resample, y_resample)\n",
    "print_scores(rf, X_resample, y_resample, X_test, y_test)\n",
    "plot_roc(rf, X_test, y_test)"
   ]
  },
  {
   "cell_type": "code",
   "execution_count": 81,
   "metadata": {},
   "outputs": [
    {
     "name": "stderr",
     "output_type": "stream",
     "text": [
      "/home/auss/miniconda3/envs/rki/lib/python3.7/site-packages/sklearn/svm/base.py:196: FutureWarning: The default value of gamma will change from 'auto' to 'scale' in version 0.22 to account better for unscaled features. Set gamma explicitly to 'auto' or 'scale' to avoid this warning.\n",
      "  \"avoid this warning.\", FutureWarning)\n",
      "/home/auss/miniconda3/envs/rki/lib/python3.7/site-packages/sklearn/svm/base.py:196: FutureWarning: The default value of gamma will change from 'auto' to 'scale' in version 0.22 to account better for unscaled features. Set gamma explicitly to 'auto' or 'scale' to avoid this warning.\n",
      "  \"avoid this warning.\", FutureWarning)\n"
     ]
    },
    {
     "ename": "AttributeError",
     "evalue": "predict_proba is not available when  probability=False",
     "output_type": "error",
     "traceback": [
      "\u001b[0;31m---------------------------------------------------------------------------\u001b[0m",
      "\u001b[0;31mAttributeError\u001b[0m                            Traceback (most recent call last)",
      "\u001b[0;32m<ipython-input-81-c72e6305af50>\u001b[0m in \u001b[0;36m<module>\u001b[0;34m\u001b[0m\n\u001b[1;32m      1\u001b[0m \u001b[0msvc\u001b[0m \u001b[0;34m=\u001b[0m \u001b[0mSVC\u001b[0m\u001b[0;34m(\u001b[0m\u001b[0;34m)\u001b[0m\u001b[0;34m.\u001b[0m\u001b[0mfit\u001b[0m\u001b[0;34m(\u001b[0m\u001b[0mX_resample\u001b[0m\u001b[0;34m,\u001b[0m \u001b[0my_resample\u001b[0m\u001b[0;34m)\u001b[0m\u001b[0;34m\u001b[0m\u001b[0;34m\u001b[0m\u001b[0m\n\u001b[0;32m----> 2\u001b[0;31m \u001b[0mprint_scores\u001b[0m\u001b[0;34m(\u001b[0m\u001b[0msvc\u001b[0m\u001b[0;34m,\u001b[0m \u001b[0mX_resample\u001b[0m\u001b[0;34m,\u001b[0m \u001b[0my_resample\u001b[0m\u001b[0;34m,\u001b[0m \u001b[0mX_test\u001b[0m\u001b[0;34m,\u001b[0m \u001b[0my_test\u001b[0m\u001b[0;34m)\u001b[0m\u001b[0;34m\u001b[0m\u001b[0;34m\u001b[0m\u001b[0m\n\u001b[0m\u001b[1;32m      3\u001b[0m \u001b[0mplot_roc\u001b[0m\u001b[0;34m(\u001b[0m\u001b[0msvc\u001b[0m\u001b[0;34m,\u001b[0m \u001b[0mX_test\u001b[0m\u001b[0;34m,\u001b[0m \u001b[0my_test\u001b[0m\u001b[0;34m)\u001b[0m\u001b[0;34m\u001b[0m\u001b[0;34m\u001b[0m\u001b[0m\n",
      "\u001b[0;32m<ipython-input-64-d9650b36c227>\u001b[0m in \u001b[0;36mprint_scores\u001b[0;34m(clf, X_train, y_train, X_test, y_test)\u001b[0m\n\u001b[1;32m      8\u001b[0m \u001b[0;32mdef\u001b[0m \u001b[0mprint_scores\u001b[0m\u001b[0;34m(\u001b[0m\u001b[0mclf\u001b[0m\u001b[0;34m,\u001b[0m \u001b[0mX_train\u001b[0m\u001b[0;34m,\u001b[0m \u001b[0my_train\u001b[0m\u001b[0;34m,\u001b[0m \u001b[0mX_test\u001b[0m\u001b[0;34m,\u001b[0m \u001b[0my_test\u001b[0m\u001b[0;34m)\u001b[0m\u001b[0;34m:\u001b[0m\u001b[0;34m\u001b[0m\u001b[0;34m\u001b[0m\u001b[0m\n\u001b[1;32m      9\u001b[0m     \u001b[0mclf\u001b[0m\u001b[0;34m.\u001b[0m\u001b[0mfit\u001b[0m\u001b[0;34m(\u001b[0m\u001b[0mX_train\u001b[0m\u001b[0;34m,\u001b[0m \u001b[0my_train\u001b[0m\u001b[0;34m)\u001b[0m\u001b[0;34m\u001b[0m\u001b[0;34m\u001b[0m\u001b[0m\n\u001b[0;32m---> 10\u001b[0;31m     \u001b[0my_pred\u001b[0m \u001b[0;34m=\u001b[0m \u001b[0mclf\u001b[0m\u001b[0;34m.\u001b[0m\u001b[0mpredict_proba\u001b[0m\u001b[0;34m(\u001b[0m\u001b[0mX_test\u001b[0m\u001b[0;34m)\u001b[0m\u001b[0;34m\u001b[0m\u001b[0;34m\u001b[0m\u001b[0m\n\u001b[0m\u001b[1;32m     11\u001b[0m \u001b[0;31m#     print(classification.accuracy_score(y_test, y_pred.round(), normalize=False))\u001b[0m\u001b[0;34m\u001b[0m\u001b[0;34m\u001b[0m\u001b[0;34m\u001b[0m\u001b[0m\n\u001b[1;32m     12\u001b[0m \u001b[0;31m#     print(confusion_matrix(y_pred,y_test))\u001b[0m\u001b[0;34m\u001b[0m\u001b[0;34m\u001b[0m\u001b[0;34m\u001b[0m\u001b[0m\n",
      "\u001b[0;32m~/miniconda3/envs/rki/lib/python3.7/site-packages/sklearn/svm/base.py\u001b[0m in \u001b[0;36mpredict_proba\u001b[0;34m(self)\u001b[0m\n\u001b[1;32m    616\u001b[0m         \u001b[0mdatasets\u001b[0m\u001b[0;34m.\u001b[0m\u001b[0;34m\u001b[0m\u001b[0;34m\u001b[0m\u001b[0m\n\u001b[1;32m    617\u001b[0m         \"\"\"\n\u001b[0;32m--> 618\u001b[0;31m         \u001b[0mself\u001b[0m\u001b[0;34m.\u001b[0m\u001b[0m_check_proba\u001b[0m\u001b[0;34m(\u001b[0m\u001b[0;34m)\u001b[0m\u001b[0;34m\u001b[0m\u001b[0;34m\u001b[0m\u001b[0m\n\u001b[0m\u001b[1;32m    619\u001b[0m         \u001b[0;32mreturn\u001b[0m \u001b[0mself\u001b[0m\u001b[0;34m.\u001b[0m\u001b[0m_predict_proba\u001b[0m\u001b[0;34m\u001b[0m\u001b[0;34m\u001b[0m\u001b[0m\n\u001b[1;32m    620\u001b[0m \u001b[0;34m\u001b[0m\u001b[0m\n",
      "\u001b[0;32m~/miniconda3/envs/rki/lib/python3.7/site-packages/sklearn/svm/base.py\u001b[0m in \u001b[0;36m_check_proba\u001b[0;34m(self)\u001b[0m\n\u001b[1;32m    583\u001b[0m     \u001b[0;32mdef\u001b[0m \u001b[0m_check_proba\u001b[0m\u001b[0;34m(\u001b[0m\u001b[0mself\u001b[0m\u001b[0;34m)\u001b[0m\u001b[0;34m:\u001b[0m\u001b[0;34m\u001b[0m\u001b[0;34m\u001b[0m\u001b[0m\n\u001b[1;32m    584\u001b[0m         \u001b[0;32mif\u001b[0m \u001b[0;32mnot\u001b[0m \u001b[0mself\u001b[0m\u001b[0;34m.\u001b[0m\u001b[0mprobability\u001b[0m\u001b[0;34m:\u001b[0m\u001b[0;34m\u001b[0m\u001b[0;34m\u001b[0m\u001b[0m\n\u001b[0;32m--> 585\u001b[0;31m             raise AttributeError(\"predict_proba is not available when \"\n\u001b[0m\u001b[1;32m    586\u001b[0m                                  \" probability=False\")\n\u001b[1;32m    587\u001b[0m         \u001b[0;32mif\u001b[0m \u001b[0mself\u001b[0m\u001b[0;34m.\u001b[0m\u001b[0m_impl\u001b[0m \u001b[0;32mnot\u001b[0m \u001b[0;32min\u001b[0m \u001b[0;34m(\u001b[0m\u001b[0;34m'c_svc'\u001b[0m\u001b[0;34m,\u001b[0m \u001b[0;34m'nu_svc'\u001b[0m\u001b[0;34m)\u001b[0m\u001b[0;34m:\u001b[0m\u001b[0;34m\u001b[0m\u001b[0;34m\u001b[0m\u001b[0m\n",
      "\u001b[0;31mAttributeError\u001b[0m: predict_proba is not available when  probability=False"
     ]
    }
   ],
   "source": [
    "svc = SVC().fit(X_resample, y_resample)\n",
    "print_scores(svc, X_resample, y_resample, X_test, y_test)\n",
    "plot_roc(svc, X_test, y_test)"
   ]
  },
  {
   "cell_type": "code",
   "execution_count": 82,
   "metadata": {},
   "outputs": [
    {
     "ename": "AttributeError",
     "evalue": "'LinearSVC' object has no attribute 'predict_proba'",
     "output_type": "error",
     "traceback": [
      "\u001b[0;31m---------------------------------------------------------------------------\u001b[0m",
      "\u001b[0;31mAttributeError\u001b[0m                            Traceback (most recent call last)",
      "\u001b[0;32m<ipython-input-82-3bc27a67be77>\u001b[0m in \u001b[0;36m<module>\u001b[0;34m\u001b[0m\n\u001b[1;32m      1\u001b[0m \u001b[0msvc\u001b[0m \u001b[0;34m=\u001b[0m \u001b[0mLinearSVC\u001b[0m\u001b[0;34m(\u001b[0m\u001b[0;34m)\u001b[0m\u001b[0;34m.\u001b[0m\u001b[0mfit\u001b[0m\u001b[0;34m(\u001b[0m\u001b[0mX_resample\u001b[0m\u001b[0;34m,\u001b[0m \u001b[0my_resample\u001b[0m\u001b[0;34m)\u001b[0m\u001b[0;34m\u001b[0m\u001b[0;34m\u001b[0m\u001b[0m\n\u001b[0;32m----> 2\u001b[0;31m \u001b[0mprint_scores\u001b[0m\u001b[0;34m(\u001b[0m\u001b[0msvc\u001b[0m\u001b[0;34m,\u001b[0m \u001b[0mX_resample\u001b[0m\u001b[0;34m,\u001b[0m \u001b[0my_resample\u001b[0m\u001b[0;34m,\u001b[0m \u001b[0mX_test\u001b[0m\u001b[0;34m,\u001b[0m \u001b[0my_test\u001b[0m\u001b[0;34m)\u001b[0m\u001b[0;34m\u001b[0m\u001b[0;34m\u001b[0m\u001b[0m\n\u001b[0m\u001b[1;32m      3\u001b[0m \u001b[0mplot_roc\u001b[0m\u001b[0;34m(\u001b[0m\u001b[0msvc\u001b[0m\u001b[0;34m,\u001b[0m \u001b[0mX_test\u001b[0m\u001b[0;34m,\u001b[0m \u001b[0my_test\u001b[0m\u001b[0;34m)\u001b[0m\u001b[0;34m\u001b[0m\u001b[0;34m\u001b[0m\u001b[0m\n",
      "\u001b[0;32m<ipython-input-64-d9650b36c227>\u001b[0m in \u001b[0;36mprint_scores\u001b[0;34m(clf, X_train, y_train, X_test, y_test)\u001b[0m\n\u001b[1;32m      8\u001b[0m \u001b[0;32mdef\u001b[0m \u001b[0mprint_scores\u001b[0m\u001b[0;34m(\u001b[0m\u001b[0mclf\u001b[0m\u001b[0;34m,\u001b[0m \u001b[0mX_train\u001b[0m\u001b[0;34m,\u001b[0m \u001b[0my_train\u001b[0m\u001b[0;34m,\u001b[0m \u001b[0mX_test\u001b[0m\u001b[0;34m,\u001b[0m \u001b[0my_test\u001b[0m\u001b[0;34m)\u001b[0m\u001b[0;34m:\u001b[0m\u001b[0;34m\u001b[0m\u001b[0;34m\u001b[0m\u001b[0m\n\u001b[1;32m      9\u001b[0m     \u001b[0mclf\u001b[0m\u001b[0;34m.\u001b[0m\u001b[0mfit\u001b[0m\u001b[0;34m(\u001b[0m\u001b[0mX_train\u001b[0m\u001b[0;34m,\u001b[0m \u001b[0my_train\u001b[0m\u001b[0;34m)\u001b[0m\u001b[0;34m\u001b[0m\u001b[0;34m\u001b[0m\u001b[0m\n\u001b[0;32m---> 10\u001b[0;31m     \u001b[0my_pred\u001b[0m \u001b[0;34m=\u001b[0m \u001b[0mclf\u001b[0m\u001b[0;34m.\u001b[0m\u001b[0mpredict_proba\u001b[0m\u001b[0;34m(\u001b[0m\u001b[0mX_test\u001b[0m\u001b[0;34m)\u001b[0m\u001b[0;34m\u001b[0m\u001b[0;34m\u001b[0m\u001b[0m\n\u001b[0m\u001b[1;32m     11\u001b[0m \u001b[0;31m#     print(classification.accuracy_score(y_test, y_pred.round(), normalize=False))\u001b[0m\u001b[0;34m\u001b[0m\u001b[0;34m\u001b[0m\u001b[0;34m\u001b[0m\u001b[0m\n\u001b[1;32m     12\u001b[0m \u001b[0;31m#     print(confusion_matrix(y_pred,y_test))\u001b[0m\u001b[0;34m\u001b[0m\u001b[0;34m\u001b[0m\u001b[0;34m\u001b[0m\u001b[0m\n",
      "\u001b[0;31mAttributeError\u001b[0m: 'LinearSVC' object has no attribute 'predict_proba'"
     ]
    }
   ],
   "source": [
    "svc = LinearSVC().fit(X_resample, y_resample)\n",
    "print_scores(svc, X_resample, y_resample, X_test, y_test)\n",
    "plot_roc(svc, X_test, y_test)"
   ]
  },
  {
   "cell_type": "code",
   "execution_count": 83,
   "metadata": {},
   "outputs": [
    {
     "data": {
      "image/png": "[encoded data removed]",
      "text/plain": [
       "<Figure size 432x288 with 1 Axes>"
      ]
     },
     "metadata": {
      "needs_background": "light"
     },
     "output_type": "display_data"
    }
   ],
   "source": [
    "dtc = DecisionTreeClassifier().fit(X_resample, y_resample)\n",
    "y_pred = dtc.predict(X_test)\n",
    "print_scores(dtc, X_resample, y_resample, X_test, y_test)\n",
    "plot_roc(dtc, X_test, y_test)"
   ]
  },
  {
   "cell_type": "code",
   "execution_count": 84,
   "metadata": {
    "scrolled": true
   },
   "outputs": [
    {
     "data": {
      "image/png": "[encoded data removed]",
      "text/plain": [
       "<Figure size 432x288 with 1 Axes>"
      ]
     },
     "metadata": {
      "needs_background": "light"
     },
     "output_type": "display_data"
    }
   ],
   "source": [
    "mlp = MLPClassifier(max_iter=2000, early_stopping=True).fit(X_resample, y_resample)\n",
    "print_scores(mlp, X_resample, y_resample, X_test, y_test)\n",
    "plot_roc(mlp, X_test, y_test)"
   ]
  },
  {
   "cell_type": "code",
   "execution_count": 85,
   "metadata": {},
   "outputs": [
    {
     "ename": "AttributeError",
     "evalue": "'MLPRegressor' object has no attribute 'predict_proba'",
     "output_type": "error",
     "traceback": [
      "\u001b[0;31m---------------------------------------------------------------------------\u001b[0m",
      "\u001b[0;31mAttributeError\u001b[0m                            Traceback (most recent call last)",
      "\u001b[0;32m<ipython-input-85-6dc08fc8f26d>\u001b[0m in \u001b[0;36m<module>\u001b[0;34m\u001b[0m\n\u001b[1;32m      1\u001b[0m \u001b[0;32mfrom\u001b[0m \u001b[0msklearn\u001b[0m\u001b[0;34m.\u001b[0m\u001b[0mneural_network\u001b[0m \u001b[0;32mimport\u001b[0m \u001b[0mMLPRegressor\u001b[0m\u001b[0;34m\u001b[0m\u001b[0;34m\u001b[0m\u001b[0m\n\u001b[1;32m      2\u001b[0m \u001b[0mmlp_r\u001b[0m \u001b[0;34m=\u001b[0m \u001b[0mMLPRegressor\u001b[0m\u001b[0;34m(\u001b[0m\u001b[0mmax_iter\u001b[0m\u001b[0;34m=\u001b[0m\u001b[0;36m2000\u001b[0m\u001b[0;34m,\u001b[0m \u001b[0mearly_stopping\u001b[0m\u001b[0;34m=\u001b[0m\u001b[0;32mTrue\u001b[0m\u001b[0;34m)\u001b[0m\u001b[0;34m.\u001b[0m\u001b[0mfit\u001b[0m\u001b[0;34m(\u001b[0m\u001b[0mX_resample\u001b[0m\u001b[0;34m,\u001b[0m \u001b[0my_resample\u001b[0m\u001b[0;34m)\u001b[0m\u001b[0;34m\u001b[0m\u001b[0;34m\u001b[0m\u001b[0m\n\u001b[0;32m----> 3\u001b[0;31m \u001b[0mprint_scores\u001b[0m\u001b[0;34m(\u001b[0m\u001b[0mmlp_r\u001b[0m\u001b[0;34m,\u001b[0m \u001b[0mX_resample\u001b[0m\u001b[0;34m,\u001b[0m \u001b[0my_resample\u001b[0m\u001b[0;34m,\u001b[0m \u001b[0mX_test\u001b[0m\u001b[0;34m,\u001b[0m \u001b[0my_test\u001b[0m\u001b[0;34m)\u001b[0m\u001b[0;34m\u001b[0m\u001b[0;34m\u001b[0m\u001b[0m\n\u001b[0m\u001b[1;32m      4\u001b[0m \u001b[0mplot_roc\u001b[0m\u001b[0;34m(\u001b[0m\u001b[0mmlp_r\u001b[0m\u001b[0;34m,\u001b[0m \u001b[0mX_test\u001b[0m\u001b[0;34m,\u001b[0m \u001b[0my_test\u001b[0m\u001b[0;34m)\u001b[0m\u001b[0;34m\u001b[0m\u001b[0;34m\u001b[0m\u001b[0m\n",
      "\u001b[0;32m<ipython-input-64-d9650b36c227>\u001b[0m in \u001b[0;36mprint_scores\u001b[0;34m(clf, X_train, y_train, X_test, y_test)\u001b[0m\n\u001b[1;32m      8\u001b[0m \u001b[0;32mdef\u001b[0m \u001b[0mprint_scores\u001b[0m\u001b[0;34m(\u001b[0m\u001b[0mclf\u001b[0m\u001b[0;34m,\u001b[0m \u001b[0mX_train\u001b[0m\u001b[0;34m,\u001b[0m \u001b[0my_train\u001b[0m\u001b[0;34m,\u001b[0m \u001b[0mX_test\u001b[0m\u001b[0;34m,\u001b[0m \u001b[0my_test\u001b[0m\u001b[0;34m)\u001b[0m\u001b[0;34m:\u001b[0m\u001b[0;34m\u001b[0m\u001b[0;34m\u001b[0m\u001b[0m\n\u001b[1;32m      9\u001b[0m     \u001b[0mclf\u001b[0m\u001b[0;34m.\u001b[0m\u001b[0mfit\u001b[0m\u001b[0;34m(\u001b[0m\u001b[0mX_train\u001b[0m\u001b[0;34m,\u001b[0m \u001b[0my_train\u001b[0m\u001b[0;34m)\u001b[0m\u001b[0;34m\u001b[0m\u001b[0;34m\u001b[0m\u001b[0m\n\u001b[0;32m---> 10\u001b[0;31m     \u001b[0my_pred\u001b[0m \u001b[0;34m=\u001b[0m \u001b[0mclf\u001b[0m\u001b[0;34m.\u001b[0m\u001b[0mpredict_proba\u001b[0m\u001b[0;34m(\u001b[0m\u001b[0mX_test\u001b[0m\u001b[0;34m)\u001b[0m\u001b[0;34m\u001b[0m\u001b[0;34m\u001b[0m\u001b[0m\n\u001b[0m\u001b[1;32m     11\u001b[0m \u001b[0;31m#     print(classification.accuracy_score(y_test, y_pred.round(), normalize=False))\u001b[0m\u001b[0;34m\u001b[0m\u001b[0;34m\u001b[0m\u001b[0;34m\u001b[0m\u001b[0m\n\u001b[1;32m     12\u001b[0m \u001b[0;31m#     print(confusion_matrix(y_pred,y_test))\u001b[0m\u001b[0;34m\u001b[0m\u001b[0;34m\u001b[0m\u001b[0;34m\u001b[0m\u001b[0m\n",
      "\u001b[0;31mAttributeError\u001b[0m: 'MLPRegressor' object has no attribute 'predict_proba'"
     ]
    }
   ],
   "source": [
    "from sklearn.neural_network import MLPRegressor\n",
    "mlp_r = MLPRegressor(max_iter=2000, early_stopping=True).fit(X_resample, y_resample)\n",
    "print_scores(mlp_r, X_resample, y_resample, X_test, y_test)\n",
    "plot_roc(mlp_r, X_test, y_test)"
   ]
  },
  {
   "cell_type": "code",
   "execution_count": null,
   "metadata": {},
   "outputs": [],
   "source": [
    "import pickle\n",
    "with open('mlp_clf.pkl', 'wb') as f:\n",
    "    pickle.dump(mlp, f)"
   ]
  },
  {
   "cell_type": "code",
   "execution_count": null,
   "metadata": {},
   "outputs": [],
   "source": [
    "gs = GridSearchCV(LogisticRegression(), \n",
    "             param_grid={'C': [0.0001, 0.001, 0.01, 0.1, 1]}, scoring=\"roc_auc\", cv=4)\n",
    "gs = gs.fit(X_resample, y_resample)\n",
    "print(gs.best_params_)\n",
    "print('best score: {:3f}'.format(gs.best_score_))\n",
    "plot_roc(gs, X_resample, y_resample)"
   ]
  },
  {
   "cell_type": "code",
   "execution_count": null,
   "metadata": {},
   "outputs": [],
   "source": [
    "param_grid = {'C': [0.001, 0.01, 0.1, 1, 10]}\n",
    "gs = GridSearchCV(LinearSVC(), \n",
    "             param_grid=param_grid, scoring=\"roc_auc\", cv=4)\n",
    "gs = gs.fit(X_resample, y_resample)\n",
    "print(gs.best_params_)\n",
    "print('best score: {:3f}'.format(gs.best_score_))\n",
    "plot_roc(gs, X_resample, y_resample)"
   ]
  },
  {
   "cell_type": "code",
   "execution_count": null,
   "metadata": {},
   "outputs": [],
   "source": [
    "param_grid = {'activation': ['relu', 'logistic', 'tanh'],\n",
    "              'alpha': [0.0001, 0.001, 0.01],\n",
    "              'learning_rate': ['constant', 'invscaling', 'adaptive'], 'tol': [0.01]}\n",
    "gs = GridSearchCV(MLPClassifier(), \n",
    "             param_grid=param_grid, scoring=\"roc_auc\", cv=4)\n",
    "gs = gs.fit(X_transform, y[:3200])\n",
    "print(gs.best_params_)\n",
    "print('best score: {:3f}'.format(gs.best_score_))\n",
    "plot_roc(gs, X_resample, y_resample)"
   ]
  },
  {
   "cell_type": "code",
   "execution_count": null,
   "metadata": {},
   "outputs": [],
   "source": [
    "from sklearn.cluster import KMeans"
   ]
  },
  {
   "cell_type": "code",
   "execution_count": null,
   "metadata": {},
   "outputs": [],
   "source": [
    "X_transform_cluster = KMeans(n_clusters=5).fit_transform(X_transform, y[:3200])"
   ]
  },
  {
   "cell_type": "code",
   "execution_count": null,
   "metadata": {},
   "outputs": [],
   "source": [
    "rus = RandomUnderSampler(random_state=0)\n",
    "X_resample_cluster, y_resample_cluster = rus.fit_sample(X_transform_cluster, y[:X_transform_cluster.shape[0]])"
   ]
  },
  {
   "cell_type": "code",
   "execution_count": null,
   "metadata": {},
   "outputs": [],
   "source": [
    "X_train_cluster, X_test_cluster, y_train_cluster, y_test_cluster = train_test_split(X_resample_cluster,\n",
    "                                                    y_resample_cluster, stratify=y_resample_cluster, random_state=0)"
   ]
  },
  {
   "cell_type": "code",
   "execution_count": null,
   "metadata": {},
   "outputs": [],
   "source": [
    "lr = LogisticRegression()\n",
    "print_scores(lr, X_train_cluster, y_train_cluster, X_test_cluster, y_test_cluster)\n",
    "plot_roc(lr, X_test_cluster, y_test_cluster)"
   ]
  },
  {
   "cell_type": "code",
   "execution_count": null,
   "metadata": {},
   "outputs": [],
   "source": [
    "from sklearn.decomposition import PCA"
   ]
  },
  {
   "cell_type": "code",
   "execution_count": null,
   "metadata": {},
   "outputs": [],
   "source": [
    "X_transform_pca = PCA().fit_transform(X_transform, y[:3200])"
   ]
  },
  {
   "cell_type": "code",
   "execution_count": null,
   "metadata": {},
   "outputs": [],
   "source": [
    "rus = RandomUnderSampler(random_state=0)\n",
    "X_resample_pca, y_resample_pca = rus.fit_sample(X_transform_pca, y[:X_transform_pca.shape[0]])"
   ]
  },
  {
   "cell_type": "code",
   "execution_count": null,
   "metadata": {},
   "outputs": [],
   "source": [
    "X_train_cluster, X_test_cluster, y_train_cluster, y_test_cluster = train_test_split(X_resample_cluster,\n",
    "                                                    y_resample_cluster, stratify=y_resample_cluster, random_state=0)"
   ]
  },
  {
   "cell_type": "code",
   "execution_count": null,
   "metadata": {
    "scrolled": true
   },
   "outputs": [],
   "source": [
    "lr = LogisticRegression()\n",
    "print_scores(lr, X_train_cluster, y_train_cluster, X_test_cluster, y_test_cluster)\n",
    "plot_roc(lr, X_test_cluster, y_test_cluster)"
   ]
  },
  {
   "cell_type": "markdown",
   "metadata": {},
   "source": [
    "# t-SNE"
   ]
  },
  {
   "cell_type": "code",
   "execution_count": 6,
   "metadata": {},
   "outputs": [
    {
     "data": {
      "text/plain": [
       "(3232,)"
      ]
     },
     "execution_count": 6,
     "metadata": {},
     "output_type": "execute_result"
    }
   ],
   "source": [
    "np.shape(X)"
   ]
  },
  {
   "cell_type": "code",
   "execution_count": 7,
   "metadata": {},
   "outputs": [
    {
     "data": {
      "text/plain": [
       "(3232,)"
      ]
     },
     "execution_count": 7,
     "metadata": {},
     "output_type": "execute_result"
    }
   ],
   "source": [
    "np.shape(y)"
   ]
  },
  {
   "cell_type": "code",
   "execution_count": 4,
   "metadata": {},
   "outputs": [],
   "source": [
    "from nltk.tokenize import sent_tokenize"
   ]
  },
  {
   "cell_type": "code",
   "execution_count": 5,
   "metadata": {},
   "outputs": [
    {
     "name": "stdout",
     "output_type": "stream",
     "text": [
      "Better speed can be achieved with apex installed from https://www.github.com/nvidia/apex.\n",
      "2019-04-16 09:22:19,508 this function is deprecated, use smart_open.open instead\n"
     ]
    }
   ],
   "source": [
    "from flair.embeddings import WordEmbeddings\n",
    "from flair.data import Sentence\n",
    "\n",
    "# init embedding\n",
    "glove_embedding = WordEmbeddings('en-news')\n",
    "\n",
    "sentences = [Sentence(sentence) for sentence in sent_tokenize(' '.join(X))]\n",
    "\n",
    "# embed a sentence using glove.\n",
    "for sentence in sentences:\n",
    "    glove_embedding.embed(sentence)"
   ]
  },
  {
   "cell_type": "code",
   "execution_count": 6,
   "metadata": {},
   "outputs": [],
   "source": [
    "words = []\n",
    "for sentence in sentences:\n",
    "    for token in sentence:\n",
    "        words.append(token.text)"
   ]
  },
  {
   "cell_type": "code",
   "execution_count": 7,
   "metadata": {},
   "outputs": [],
   "source": [
    "embeddings = []\n",
    "for sentence in sentences:\n",
    "    for token in sentence:\n",
    "        embeddings.append(token.embedding)"
   ]
  },
  {
   "cell_type": "code",
   "execution_count": 8,
   "metadata": {},
   "outputs": [],
   "source": [
    "as_numoy = [t.numpy() for t in embeddings]"
   ]
  },
  {
   "cell_type": "code",
   "execution_count": 11,
   "metadata": {},
   "outputs": [],
   "source": [
    "from sklearn.manifold import TSNE\n",
    "import matplotlib.pyplot as plt\n",
    "import time"
   ]
  },
  {
   "cell_type": "code",
   "execution_count": 19,
   "metadata": {},
   "outputs": [
    {
     "name": "stdout",
     "output_type": "stream",
     "text": [
      "[t-SNE] Computing 121 nearest neighbors...\n",
      "[t-SNE] Indexed 2250 samples in 0.035s...\n",
      "[t-SNE] Computed neighbors for 2250 samples in 2.965s...\n",
      "[t-SNE] Computed conditional probabilities for sample 1000 / 2250\n",
      "[t-SNE] Computed conditional probabilities for sample 2000 / 2250\n",
      "[t-SNE] Computed conditional probabilities for sample 2250 / 2250\n",
      "[t-SNE] Mean sigma: 0.000000\n",
      "[t-SNE] KL divergence after 250 iterations with early exaggeration: 67.326614\n",
      "[t-SNE] KL divergence after 300 iterations: 1.179062\n"
     ]
    }
   ],
   "source": [
    "n_sne = 7000\n",
    "\n",
    "time_start = time.time()\n",
    "tsne = TSNE(n_components=2, verbose=1, perplexity=40, n_iter=300)\n",
    "tsne_results = tsne.fit_transform(as_numoy[::1000])"
   ]
  },
  {
   "cell_type": "code",
   "execution_count": 49,
   "metadata": {},
   "outputs": [],
   "source": [
    "word_2_vec = dict(zip(words, as_numoy))"
   ]
  },
  {
   "cell_type": "code",
   "execution_count": 53,
   "metadata": {},
   "outputs": [],
   "source": [
    "to_pop = []\n",
    "for k, v in word_2_vec.items():\n",
    "    if sum(v) == 0:\n",
    "        to_pop.append(k)\n",
    "for k in to_pop:\n",
    "    if k in word_2_vec:\n",
    "        del word_2_vec[k]"
   ]
  },
  {
   "cell_type": "code",
   "execution_count": 60,
   "metadata": {},
   "outputs": [],
   "source": [
    "to_pop = []\n",
    "for k, v in word_2_vec.items():\n",
    "    if len(k) > 12:\n",
    "        to_pop.append(k)\n",
    "for k in to_pop:\n",
    "    if k in word_2_vec:\n",
    "        del word_2_vec[k]"
   ]
  },
  {
   "cell_type": "code",
   "execution_count": 73,
   "metadata": {},
   "outputs": [],
   "source": [
    "to_pop = []\n",
    "for k, v in word_2_vec.items():\n",
    "    if not all(c.isalnum() for c in k):\n",
    "        to_pop.append(k)\n",
    "for k in to_pop:\n",
    "    if k in word_2_vec:\n",
    "        del word_2_vec[k]"
   ]
  },
  {
   "cell_type": "code",
   "execution_count": 74,
   "metadata": {},
   "outputs": [],
   "source": [
    "words = [i for i, _ in word_2_vec.items()]\n",
    "as_embedding = [i for _, i in word_2_vec.items()]"
   ]
  },
  {
   "cell_type": "code",
   "execution_count": 101,
   "metadata": {},
   "outputs": [
    {
     "data": {
      "image/png": "[encoded data removed]",
      "text/plain": [
       "<Figure size 1152x1152 with 1 Axes>"
      ]
     },
     "metadata": {
      "needs_background": "light"
     },
     "output_type": "display_data"
    }
   ],
   "source": [
    "\"Creates and TSNE model and plots it\"\n",
    "labels = words[6::300]\n",
    "tokens = as_embedding[6::300]\n",
    "\n",
    "# for word in model.wv.vocab:\n",
    "#     tokens.append(model[word])\n",
    "#     labels.append(word)\n",
    "\n",
    "tsne_model = TSNE(perplexity=5, n_components=2, init='pca', n_iter=2500)\n",
    "new_values = tsne_model.fit_transform(tokens)\n",
    "\n",
    "x = []\n",
    "y = []\n",
    "for value in new_values:\n",
    "    x.append(value[0])\n",
    "    y.append(value[1])\n",
    "\n",
    "plt.figure(figsize=(16, 16)) \n",
    "for i in range(len(x)):\n",
    "    plt.scatter(x[i],y[i])\n",
    "    plt.annotate(labels[i],\n",
    "                 xy=(x[i], y[i]),\n",
    "                 xytext=(5, 2),\n",
    "                 textcoords='offset points',\n",
    "                 ha='right',\n",
    "                 va='bottom')\n",
    "plt.xlabel(\"t-SNE x-axis\")\n",
    "plt.ylabel(\"t-SNE y-axis\")\n",
    "plt.grid(alpha=0.2)\n",
    "plt.savefig(\"t-sna.pdf\",format='pdf')\n",
    "plt.show()"
   ]
  },
  {
   "cell_type": "code",
   "execution_count": 32,
   "metadata": {},
   "outputs": [],
   "source": [
    "import pandas as pd\n",
    "df_tsne = pd.DataFrame(tsne_results, columns=['x', 'y'])\n",
    "df_tsne['labels'] = words[::1000]"
   ]
  },
  {
   "cell_type": "code",
   "execution_count": 43,
   "metadata": {},
   "outputs": [
    {
     "data": {
      "image/png": "[encoded data removed]",
      "text/plain": [
       "<Figure size 640x480 with 1 Axes>"
      ]
     },
     "metadata": {},
     "output_type": "display_data"
    },
    {
     "data": {
      "text/plain": [
       "<ggplot: (-9223372036178174853)>"
      ]
     },
     "execution_count": 43,
     "metadata": {},
     "output_type": "execute_result"
    }
   ],
   "source": [
    "from plotnine import *\n",
    "theme_set(theme_bw())\n",
    "(ggplot(df_tsne, aes(x='x', y='y', color='labels' )) \n",
    " + geom_point(show_legend = False)\n",
    " + xlab(\"t-SNE-x\") + ylab(\"t-SNE-y\") + ggtitle(\"word embedding t-SNE\")\n",
    ")"
   ]
  },
  {
   "cell_type": "code",
   "execution_count": 1,
   "metadata": {},
   "outputs": [],
   "source": [
    "from web_app.app import summarize"
   ]
  },
  {
   "cell_type": "code",
   "execution_count": null,
   "metadata": {},
   "outputs": [],
   "source": [
    "summarize('https://www.who.int/csr/don/04-march-2019-mers-oman/en/')"
   ]
  }
 ],
 "metadata": {
  "kernelspec": {
   "display_name": "Python 3",
   "language": "python",
   "name": "python3"
  },
  "language_info": {
   "codemirror_mode": {
    "name": "ipython",
    "version": 3
   },
   "file_extension": ".py",
   "mimetype": "text/x-python",
   "name": "python",
   "nbconvert_exporter": "python",
   "pygments_lexer": "ipython3",
   "version": "3.6.7"
  }
 },
 "nbformat": 4,
 "nbformat_minor": 2
}
